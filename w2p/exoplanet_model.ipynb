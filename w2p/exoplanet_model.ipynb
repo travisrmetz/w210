{
 "cells": [
  {
   "cell_type": "markdown",
   "metadata": {
    "colab_type": "text",
    "id": "ImJOhE4BrfK7"
   },
   "source": [
    "## Exoplanet Model Work\n",
    "\n"
   ]
  },
  {
   "cell_type": "markdown",
   "metadata": {
    "colab_type": "text",
    "id": "OlNrYnNsrp4C"
   },
   "source": [
    "#### Import packages"
   ]
  },
  {
   "cell_type": "code",
   "execution_count": 13,
   "metadata": {
    "colab": {},
    "colab_type": "code",
    "id": "5Y0LD8oscOFG"
   },
   "outputs": [],
   "source": [
    "import numpy as np\n",
    "import tensorflow as tf\n",
    "import pandas as pd \n",
    "import matplotlib.pyplot as plt\n",
    "import cv2\n",
    "import os\n",
    "from sklearn.model_selection import train_test_split\n",
    "from sklearn.preprocessing import scale\n",
    "from sklearn.preprocessing import LabelEncoder\n",
    "from sklearn.preprocessing import StandardScaler\n",
    "import io\n",
    "#from keras.utils import plot_model\n",
    "import random\n",
    "import yaml\n",
    "#import ktrain\n",
    "from astropy.io import ascii as ap_ascii\n",
    "import seaborn as sns\n",
    "import os\n",
    "\n",
    "from helpers.visualize import chart_curves \n",
    "import matplotlib as mpl\n",
    "from sklearn.metrics import roc_curve\n",
    "from sklearn.metrics import confusion_matrix\n",
    "\n",
    "pd.set_option('display.float_format', lambda x: '%.5f' % x)\n",
    "mpl.rcParams['figure.figsize'] = (12, 10)\n",
    "colors = plt.rcParams['axes.prop_cycle'].by_key()['color']\n",
    "np.set_printoptions(precision=None, suppress=True)\n",
    "\n",
    "PROCESSED_DATA_DIR='processed_data'\n",
    "TCE_LIST='tce_table.csv'\n",
    "FAILED_LIST='failed_kepids.csv'\n",
    "MODEL_DIR='models'\n",
    "\n",
    "EPOCHS = 20\n",
    "BATCH_SIZE = 128\n"
   ]
  },
  {
   "cell_type": "markdown",
   "metadata": {},
   "source": [
    "#### Model analysis plotting and charting functions"
   ]
  },
  {
   "cell_type": "code",
   "execution_count": 2,
   "metadata": {},
   "outputs": [],
   "source": [
    "def plot_metrics(history):\n",
    "    metrics =  ['loss', 'accuracy', 'precision', 'recall']\n",
    "    for n, metric in enumerate(metrics):\n",
    "        name = metric.replace(\"_\",\" \").capitalize()\n",
    "        plt.subplot(2,2,n+1)\n",
    "        plt.plot(history.epoch,  history.history[metric], color=colors[0], label='Train')\n",
    "        plt.plot(history.epoch, history.history['val_'+metric],\n",
    "                 color=colors[0], linestyle=\"--\", label='Val')\n",
    "        plt.xlabel('Epoch')\n",
    "        plt.ylabel(name)\n",
    "        if metric == 'loss':\n",
    "          plt.ylim([0, plt.ylim()[1]])\n",
    "        elif metric == 'auc':\n",
    "          plt.ylim([0.8,1])\n",
    "        else:\n",
    "          plt.ylim([0,1])\n",
    "\n",
    "        plt.legend()\n",
    "    plt.show()\n",
    "\n",
    "\n",
    "#roc curve\n",
    "def plot_roc(name, labels, predictions, **kwargs):\n",
    "    fp, tp, _ = roc_curve(labels, predictions)\n",
    "\n",
    "    plt.plot(100*fp, 100*tp, label=name, linewidth=2, **kwargs)\n",
    "    plt.xlabel('False positives [%]')\n",
    "    plt.ylabel('True positives [%]')\n",
    "    plt.xlim([-0.5,20])\n",
    "    plt.ylim([80,100.5])\n",
    "    plt.grid(True)\n",
    "    ax = plt.gca()\n",
    "    ax.set_aspect('equal')\n",
    "    \n",
    "\n",
    "#confusion matrix\n",
    "def plot_cm(labels, predictions, p=0.5):\n",
    "    cm = confusion_matrix(labels, predictions > p)\n",
    "    plt.figure(figsize=(5,5))\n",
    "    sns.heatmap(cm, annot=True, fmt=\"d\")\n",
    "    plt.title('Confusion matrix @{:.2f}'.format(p))\n",
    "    plt.ylabel('Actual label')\n",
    "    plt.xlabel('Predicted label')\n",
    "    plt.show()\n",
    "    \n",
    "    print('Not Planets Properly Categorized (True Negatives): ', cm[0][0])\n",
    "    print('Not Planets Categorized as Planets Detected (False Positives): ', cm[0][1])\n",
    "    print('Planets Missed (False Negatives): ', cm[1][0])\n",
    "    print('Planets Properly Categorized (True Positives): ', cm[1][1])\n",
    "    print('Total Planets: ', np.sum(cm[1]))\n",
    "    "
   ]
  },
  {
   "cell_type": "markdown",
   "metadata": {},
   "source": [
    "#### Construct and return a model"
   ]
  },
  {
   "cell_type": "code",
   "execution_count": 3,
   "metadata": {},
   "outputs": [],
   "source": [
    "#make the model\n",
    "METRICS = [\n",
    "          tf.keras.metrics.TruePositives(name='tp'),\n",
    "          tf.keras.metrics.FalsePositives(name='fp'),\n",
    "          tf.keras.metrics.TrueNegatives(name='tn'),\n",
    "          tf.keras.metrics.FalseNegatives(name='fn'), \n",
    "          tf.keras.metrics.BinaryAccuracy(name='accuracy'),\n",
    "          tf.keras.metrics.Precision(name='precision'),\n",
    "          tf.keras.metrics.Recall(name='recall'),\n",
    "          tf.keras.metrics.AUC(name='auc')\n",
    "    ]\n",
    "\n",
    "\n",
    "def make_model(metrics=METRICS,output_bias=None):\n",
    "    input_local = tf.keras.layers.Input(shape=[x_local.shape[1],1])\n",
    "    input_global=tf.keras.layers.Input(shape=[x_global.shape[1],1])\n",
    "\n",
    "    #k_local = tf.keras.layers.BatchNormalization()(input_local)\n",
    "    #k_local=tf.keras.layers.Conv1D(filters=16,kernel_size=5,activation='relu')(k_local)\n",
    "    k_local=tf.keras.layers.Conv1D(filters=16,kernel_size=5,activation='relu')(input_local)\n",
    "\n",
    "    k_local=tf.keras.layers.Conv1D(16,5,activation='relu')(k_local)\n",
    "    k_local=tf.keras.layers.MaxPooling1D(pool_size=7,strides=2,padding='same')(k_local)\n",
    "    #k_local=tf.keras.layers.Conv1D(32,5,activation='relu')(k_local)\n",
    "    #k_local=tf.keras.layers.Conv1D(32,5,activation='relu')(k_local)\n",
    "    k_local=tf.keras.layers.MaxPooling1D(pool_size=7,strides=2,padding='same')(k_local)\n",
    "    k_local=tf.keras.layers.Flatten()(k_local)\n",
    "\n",
    "    #k_global=tf.keras.layers.BatchNormalization()(input_global)\n",
    "    #k_global=tf.keras.layers.Conv1D(filters=16,kernel_size=5,activation='relu')(k_global)\n",
    "    k_global=tf.keras.layers.Conv1D(filters=16,kernel_size=5,activation='relu')(input_global)\n",
    "\n",
    "    k_global=tf.keras.layers.Conv1D(16,5,activation='relu')(k_global)\n",
    "    k_global=tf.keras.layers.MaxPooling1D(pool_size=5,strides=2,padding='same')(k_global)\n",
    "    k_global=tf.keras.layers.Conv1D(32,5,activation='relu')(k_global)\n",
    "    k_global=tf.keras.layers.Conv1D(32,5,activation='relu')(k_global)\n",
    "    k_global=tf.keras.layers.MaxPooling1D(pool_size=5,strides=2,padding='same')(k_global)\n",
    "    #k_global=tf.keras.layers.Conv1D(64,5,activation='relu')(k_global)\n",
    "    #k_global=tf.keras.layers.Conv1D(64,5,activation='relu')(k_global)\n",
    "    #k_global=tf.keras.layers.MaxPooling1D(pool_size=5,strides=2,padding='same')(k_global)\n",
    "    k_global=tf.keras.layers.Flatten()(k_global)\n",
    "\n",
    "    #combines two branches\n",
    "    k = tf.keras.layers.concatenate([k_local, k_global])\n",
    "\n",
    "    k=tf.keras.layers.Dense(512,activation='relu')(k)\n",
    "    k=tf.keras.layers.Dropout(.5)(k)\n",
    "    k=tf.keras.layers.Dense(512,activation='relu')(k)\n",
    "    k=tf.keras.layers.Dropout(.5)(k)\n",
    "    k=tf.keras.layers.Dense(512,activation='relu')(k)\n",
    "    #k=tf.keras.layers.Dropout(.5)(k)\n",
    "    #k=tf.keras.layers.Dense(512,activation='relu')(k)\n",
    "    #k=tf.keras.layers.Dropout(.5)(k)\n",
    "\n",
    "    if output_bias is not None:\n",
    "        output_bias=tf.keras.initializers.Constant(output_bias)\n",
    "        \n",
    "    output=tf.keras.layers.Dense(1,activation='sigmoid',bias_initializer=output_bias)(k)\n",
    "\n",
    "    model=tf.keras.Model(inputs=[input_local,input_global],outputs=output)\n",
    "\n",
    "    model.compile(loss=tf.keras.losses.BinaryCrossentropy()\n",
    "                  ,optimizer=tf.keras.optimizers.Adam(lr=1e-3),\n",
    "                  metrics=METRICS)\n",
    "\n",
    "    return(model)"
   ]
  },
  {
   "cell_type": "markdown",
   "metadata": {},
   "source": [
    "#### Read in and process data for use in model"
   ]
  },
  {
   "cell_type": "code",
   "execution_count": 4,
   "metadata": {},
   "outputs": [
    {
     "name": "stdout",
     "output_type": "stream",
     "text": [
      "(5000, 86)\n",
      "(70, 2)\n"
     ]
    },
    {
     "data": {
      "text/plain": [
       "(4930, 86)"
      ]
     },
     "execution_count": 4,
     "metadata": {},
     "output_type": "execute_result"
    }
   ],
   "source": [
    "#this excludes from tce_list those kepids and planet numbers that failed make_data process\n",
    "processed=pd.read_csv(os.path.join(PROCESSED_DATA_DIR,TCE_LIST))\n",
    "print(processed.shape)\n",
    "try:\n",
    "    failed=pd.read_csv(os.path.join(PROCESSED_DATA_DIR,FAILED_LIST))\n",
    "    failed.columns=['kepid','tce_plnt_num']\n",
    "    print(failed.shape)\n",
    "    for index,row in failed.iterrows():\n",
    "        processed.drop(processed[(processed.kepid==row.kepid) & \n",
    "                                 (processed.tce_plnt_num==row.tce_plnt_num)].index,inplace=True)\n",
    "except:\n",
    "    pass\n",
    "    \n",
    "processed.shape"
   ]
  },
  {
   "cell_type": "code",
   "execution_count": 5,
   "metadata": {},
   "outputs": [
    {
     "name": "stdout",
     "output_type": "stream",
     "text": [
      "FALSE POSITIVE    4384\n",
      "CONFIRMED          274\n",
      "CANDIDATE          272\n",
      "Name: koi_disposition, dtype: int64\n",
      "0-FALSE POSITIVE    4384\n",
      "1-CONFIRMED          546\n",
      "Name: koi_disposition, dtype: int64\n",
      "Baseline accuracy: 0.8892494929006085\n"
     ]
    }
   ],
   "source": [
    "print(processed.koi_disposition.value_counts())\n",
    "\n",
    "#combine confirmed and candidate\n",
    "#using 0 and 1 in front of name to force positive class to be planets\n",
    "processed.replace({'koi_disposition':\n",
    "                   {'CANDIDATE':'1-CONFIRMED','CONFIRMED':'1-CONFIRMED','FALSE POSITIVE':'0-FALSE POSITIVE'}},\n",
    "                  inplace=True)\n",
    "\n",
    "print(processed.koi_disposition.value_counts())\n",
    "print('Baseline accuracy:', processed[processed.koi_disposition=='0-FALSE POSITIVE'].shape[0]/processed.shape[0])"
   ]
  },
  {
   "cell_type": "code",
   "execution_count": 6,
   "metadata": {},
   "outputs": [
    {
     "name": "stdout",
     "output_type": "stream",
     "text": [
      "(4930, 201)\n",
      "(4930, 2001)\n"
     ]
    }
   ],
   "source": [
    "LOCAL='localbinned_df.csv'\n",
    "GLOBAL='globalbinned_df.csv'\n",
    "x_local=pd.read_csv(os.path.join(PROCESSED_DATA_DIR,LOCAL))\n",
    "x_global=pd.read_csv(os.path.join(PROCESSED_DATA_DIR,GLOBAL))\n",
    "print(x_local.shape)\n",
    "print(x_global.shape)"
   ]
  },
  {
   "cell_type": "code",
   "execution_count": 7,
   "metadata": {},
   "outputs": [
    {
     "name": "stdout",
     "output_type": "stream",
     "text": [
      "(4930, 201)\n",
      "(4930, 2001)\n"
     ]
    }
   ],
   "source": [
    "#turn into numpy arrays/series\n",
    "x_local=x_local.to_numpy()\n",
    "x_global=x_global.to_numpy()\n",
    "print(x_local.shape)\n",
    "print(x_global.shape)"
   ]
  },
  {
   "cell_type": "code",
   "execution_count": 8,
   "metadata": {},
   "outputs": [
    {
     "data": {
      "image/png": "[encoded data removed]",
      "text/plain": [
       "<Figure size 1440x432 with 2 Axes>"
      ]
     },
     "metadata": {
      "needs_background": "light"
     },
     "output_type": "display_data"
    },
    {
     "data": {
      "text/plain": [
       "<Figure size 864x720 with 0 Axes>"
      ]
     },
     "metadata": {},
     "output_type": "display_data"
    }
   ],
   "source": [
    "#can print out charts\n",
    "tce_number=1\n",
    "chart_curves(processed.kepid[tce_number],processed.tce_plnt_num[tce_number],\n",
    "             processed.koi_disposition[tce_number],\n",
    "             x_global[tce_number],x_local[tce_number])"
   ]
  },
  {
   "cell_type": "code",
   "execution_count": null,
   "metadata": {},
   "outputs": [],
   "source": [
    "#scaler_local = StandardScaler()\n",
    "#x_local= scaler_local.fit_transform(x_local)\n",
    "\n",
    "#scaler_global=StandardScaler()\n",
    "#x_global=scaler_global.fit_transform(x_global)\n"
   ]
  },
  {
   "cell_type": "code",
   "execution_count": 9,
   "metadata": {},
   "outputs": [
    {
     "name": "stdout",
     "output_type": "stream",
     "text": [
      "(4930, 201, 1)\n",
      "(4930, 2001, 1)\n"
     ]
    }
   ],
   "source": [
    "#Conv1D layers take in tensors of dimension (length of vector = 201 or 2001, and dimensions of vector=1)\n",
    "#So as with Conv2D in BW where need to add a color dimension here have to specify that there is only one\n",
    "#dimension in each vector\n",
    "x_local=np.expand_dims(x_local,axis=2)\n",
    "x_global=np.expand_dims(x_global,axis=2)\n",
    "\n",
    "print(x_local.shape)\n",
    "print(x_global.shape)"
   ]
  },
  {
   "cell_type": "code",
   "execution_count": 10,
   "metadata": {},
   "outputs": [],
   "source": [
    "#turn output into categorical variable with encoding\n",
    "Y=processed.koi_disposition\n",
    "le=LabelEncoder()\n",
    "le.fit(['1-CONFIRMED','0-FALSE POSITIVE'])\n",
    "Y=le.transform(Y)"
   ]
  },
  {
   "cell_type": "code",
   "execution_count": 11,
   "metadata": {},
   "outputs": [
    {
     "name": "stdout",
     "output_type": "stream",
     "text": [
      "(3944, 201, 1)\n",
      "(3944, 2001, 1)\n",
      "(3944,)\n",
      "(986, 201, 1)\n",
      "(986, 2001, 1)\n",
      "(986,)\n"
     ]
    }
   ],
   "source": [
    "x_local_train, x_local_val, x_global_train, x_global_val, Y_train, Y_val = train_test_split(\n",
    "    x_local,x_global, Y, test_size=0.2)\n",
    "\n",
    "print(x_local_train.shape)\n",
    "print(x_global_train.shape)\n",
    "print(Y_train.shape)\n",
    "print(x_local_val.shape)\n",
    "print(x_global_val.shape)\n",
    "print(Y_val.shape)\n"
   ]
  },
  {
   "cell_type": "markdown",
   "metadata": {},
   "source": [
    "#### Model setup work"
   ]
  },
  {
   "cell_type": "code",
   "execution_count": null,
   "metadata": {},
   "outputs": [],
   "source": [
    "early_stopping = tf.keras.callbacks.EarlyStopping(\n",
    "    monitor='val_auc', \n",
    "    verbose=1,\n",
    "    patience=3,\n",
    "    mode='max',\n",
    "    restore_best_weights=True)"
   ]
  },
  {
   "cell_type": "code",
   "execution_count": null,
   "metadata": {},
   "outputs": [],
   "source": [
    "#work on setting initial bias\n",
    "model=make_model()\n",
    "model.predict([x_local_train[:10],x_global_train[:10]])\n",
    "results = model.evaluate([x_local_train,x_global_train],Y_train, batch_size=BATCH_SIZE, verbose=2)\n",
    "print(\"Loss: {:0.4f}\".format(results[0]))\n",
    "neg, pos = np.bincount(Y)\n",
    "total = neg + pos\n",
    "print(neg,pos,total)\n",
    "initial_bias=np.log([pos/neg])\n",
    "print(initial_bias)\n",
    "model = make_model(output_bias = initial_bias)\n",
    "model.predict([x_local_train[:10],x_global_train[:10]])\n",
    "results = model.evaluate([x_local_train,x_global_train],Y_train, batch_size=BATCH_SIZE, verbose=2)\n",
    "print(\"Loss: {:0.4f}\".format(results[0]))\n",
    "\n",
    "initial_weights = os.path.join(MODEL_DIR,'initial_weights')\n",
    "model.save_weights(initial_weights)"
   ]
  },
  {
   "cell_type": "markdown",
   "metadata": {},
   "source": [
    "#### Run model"
   ]
  },
  {
   "cell_type": "code",
   "execution_count": null,
   "metadata": {},
   "outputs": [],
   "source": [
    "tf.keras.backend.clear_session()\n",
    "model=make_model()\n",
    "model.load_weights(initial_weights)\n",
    "\n",
    "history=model.fit([x_local_train,x_global_train],\n",
    "                  Y_train,\n",
    "                  validation_data=([x_local_val,x_global_val],Y_val),\n",
    "                  epochs=EPOCHS,\n",
    "                  batch_size=BATCH_SIZE,\n",
    "                  callbacks=[early_stopping],\n",
    "                  verbose=2)"
   ]
  },
  {
   "cell_type": "markdown",
   "metadata": {},
   "source": [
    "#### Save model"
   ]
  },
  {
   "cell_type": "code",
   "execution_count": null,
   "metadata": {},
   "outputs": [],
   "source": [
    "model.save(os.path.join(MODEL_DIR,'normal_model'))\n"
   ]
  },
  {
   "cell_type": "markdown",
   "metadata": {},
   "source": [
    "#### Load model"
   ]
  },
  {
   "cell_type": "code",
   "execution_count": 15,
   "metadata": {},
   "outputs": [
    {
     "name": "stdout",
     "output_type": "stream",
     "text": [
      "Model: \"model\"\n",
      "__________________________________________________________________________________________________\n",
      "Layer (type)                    Output Shape         Param #     Connected to                     \n",
      "==================================================================================================\n",
      "input_2 (InputLayer)            [(None, 2001, 1)]    0                                            \n",
      "__________________________________________________________________________________________________\n",
      "conv1d_4 (Conv1D)               (None, 1997, 16)     96          input_2[0][0]                    \n",
      "__________________________________________________________________________________________________\n",
      "conv1d_5 (Conv1D)               (None, 1993, 16)     1296        conv1d_4[0][0]                   \n",
      "__________________________________________________________________________________________________\n",
      "input_1 (InputLayer)            [(None, 201, 1)]     0                                            \n",
      "__________________________________________________________________________________________________\n",
      "max_pooling1d_2 (MaxPooling1D)  (None, 997, 16)      0           conv1d_5[0][0]                   \n",
      "__________________________________________________________________________________________________\n",
      "conv1d (Conv1D)                 (None, 197, 16)      96          input_1[0][0]                    \n",
      "__________________________________________________________________________________________________\n",
      "conv1d_6 (Conv1D)               (None, 993, 32)      2592        max_pooling1d_2[0][0]            \n",
      "__________________________________________________________________________________________________\n",
      "conv1d_1 (Conv1D)               (None, 193, 16)      1296        conv1d[0][0]                     \n",
      "__________________________________________________________________________________________________\n",
      "conv1d_7 (Conv1D)               (None, 989, 32)      5152        conv1d_6[0][0]                   \n",
      "__________________________________________________________________________________________________\n",
      "max_pooling1d (MaxPooling1D)    (None, 97, 16)       0           conv1d_1[0][0]                   \n",
      "__________________________________________________________________________________________________\n",
      "max_pooling1d_3 (MaxPooling1D)  (None, 495, 32)      0           conv1d_7[0][0]                   \n",
      "__________________________________________________________________________________________________\n",
      "conv1d_2 (Conv1D)               (None, 93, 32)       2592        max_pooling1d[0][0]              \n",
      "__________________________________________________________________________________________________\n",
      "conv1d_8 (Conv1D)               (None, 491, 64)      10304       max_pooling1d_3[0][0]            \n",
      "__________________________________________________________________________________________________\n",
      "conv1d_3 (Conv1D)               (None, 89, 32)       5152        conv1d_2[0][0]                   \n",
      "__________________________________________________________________________________________________\n",
      "conv1d_9 (Conv1D)               (None, 487, 64)      20544       conv1d_8[0][0]                   \n",
      "__________________________________________________________________________________________________\n",
      "max_pooling1d_1 (MaxPooling1D)  (None, 45, 32)       0           conv1d_3[0][0]                   \n",
      "__________________________________________________________________________________________________\n",
      "max_pooling1d_4 (MaxPooling1D)  (None, 244, 64)      0           conv1d_9[0][0]                   \n",
      "__________________________________________________________________________________________________\n",
      "flatten (Flatten)               (None, 1440)         0           max_pooling1d_1[0][0]            \n",
      "__________________________________________________________________________________________________\n",
      "flatten_1 (Flatten)             (None, 15616)        0           max_pooling1d_4[0][0]            \n",
      "__________________________________________________________________________________________________\n",
      "concatenate (Concatenate)       (None, 17056)        0           flatten[0][0]                    \n",
      "                                                                 flatten_1[0][0]                  \n",
      "__________________________________________________________________________________________________\n",
      "dense (Dense)                   (None, 512)          8733184     concatenate[0][0]                \n",
      "__________________________________________________________________________________________________\n",
      "dropout (Dropout)               (None, 512)          0           dense[0][0]                      \n",
      "__________________________________________________________________________________________________\n",
      "dense_1 (Dense)                 (None, 512)          262656      dropout[0][0]                    \n",
      "__________________________________________________________________________________________________\n",
      "dropout_1 (Dropout)             (None, 512)          0           dense_1[0][0]                    \n",
      "__________________________________________________________________________________________________\n",
      "dense_2 (Dense)                 (None, 512)          262656      dropout_1[0][0]                  \n",
      "__________________________________________________________________________________________________\n",
      "dropout_2 (Dropout)             (None, 512)          0           dense_2[0][0]                    \n",
      "__________________________________________________________________________________________________\n",
      "dense_3 (Dense)                 (None, 512)          262656      dropout_2[0][0]                  \n",
      "__________________________________________________________________________________________________\n",
      "dense_4 (Dense)                 (None, 1)            513         dense_3[0][0]                    \n",
      "==================================================================================================\n",
      "Total params: 9,570,785\n",
      "Trainable params: 9,570,785\n",
      "Non-trainable params: 0\n",
      "__________________________________________________________________________________________________\n"
     ]
    }
   ],
   "source": [
    "model = tf.keras.models.load_model(os.path.join(MODEL_DIR,'normal_model'))\n",
    "model.summary()"
   ]
  },
  {
   "cell_type": "code",
   "execution_count": null,
   "metadata": {},
   "outputs": [],
   "source": [
    "val_predictions_baseline = model.predict([x_local_val,x_global_val], batch_size=BATCH_SIZE)\n",
    "train_predictions_baseline = model.predict([x_local_train,x_global_train], batch_size=BATCH_SIZE)"
   ]
  },
  {
   "cell_type": "code",
   "execution_count": 17,
   "metadata": {},
   "outputs": [
    {
     "ename": "NameError",
     "evalue": "name 'history' is not defined",
     "output_type": "error",
     "traceback": [
      "\u001b[0;31m---------------------------------------------------------------------------\u001b[0m",
      "\u001b[0;31mNameError\u001b[0m                                 Traceback (most recent call last)",
      "\u001b[0;32m<ipython-input-17-882149de4f47>\u001b[0m in \u001b[0;36m<module>\u001b[0;34m\u001b[0m\n\u001b[1;32m      2\u001b[0m \u001b[0mtrain_predictions_baseline\u001b[0m \u001b[0;34m=\u001b[0m \u001b[0mmodel\u001b[0m\u001b[0;34m.\u001b[0m\u001b[0mpredict\u001b[0m\u001b[0;34m(\u001b[0m\u001b[0;34m[\u001b[0m\u001b[0mx_local_train\u001b[0m\u001b[0;34m,\u001b[0m\u001b[0mx_global_train\u001b[0m\u001b[0;34m]\u001b[0m\u001b[0;34m,\u001b[0m \u001b[0mbatch_size\u001b[0m\u001b[0;34m=\u001b[0m\u001b[0mBATCH_SIZE\u001b[0m\u001b[0;34m)\u001b[0m\u001b[0;34m\u001b[0m\u001b[0;34m\u001b[0m\u001b[0m\n\u001b[1;32m      3\u001b[0m \u001b[0;34m\u001b[0m\u001b[0m\n\u001b[0;32m----> 4\u001b[0;31m \u001b[0mplot_metrics\u001b[0m\u001b[0;34m(\u001b[0m\u001b[0mhistory\u001b[0m\u001b[0;34m)\u001b[0m\u001b[0;34m\u001b[0m\u001b[0;34m\u001b[0m\u001b[0m\n\u001b[0m\u001b[1;32m      5\u001b[0m \u001b[0;34m\u001b[0m\u001b[0m\n\u001b[1;32m      6\u001b[0m \u001b[0mplot_cm\u001b[0m\u001b[0;34m(\u001b[0m\u001b[0mY_val\u001b[0m\u001b[0;34m,\u001b[0m \u001b[0mval_predictions_baseline\u001b[0m\u001b[0;34m)\u001b[0m\u001b[0;34m\u001b[0m\u001b[0;34m\u001b[0m\u001b[0m\n",
      "\u001b[0;31mNameError\u001b[0m: name 'history' is not defined"
     ]
    }
   ],
   "source": [
    "plot_metrics(history)\n",
    "\n",
    "plot_cm(Y_val, val_predictions_baseline)\n",
    "\n",
    "plot_roc(\"Train Baseline\", Y_train, train_predictions_baseline, color=colors[0])\n",
    "plot_roc(\"Test Baseline\", Y_val, val_predictions_baseline, color=colors[0], linestyle='--')\n",
    "plt.legend(loc='lower right')"
   ]
  },
  {
   "cell_type": "code",
   "execution_count": 18,
   "metadata": {},
   "outputs": [],
   "source": [
    "val_results=pd.DataFrame({'truth':Y_val, 'prediction':np.squeeze(val_predictions_baseline)})\n",
    "val_results['truth_delta']=val_results.truth-val_results.prediction\n",
    "val_results=val_results.sort_values('truth_delta')"
   ]
  },
  {
   "cell_type": "code",
   "execution_count": 19,
   "metadata": {},
   "outputs": [],
   "source": [
    "val_results['result']='True Positive'\n",
    "val_results.loc[val_results.truth_delta<0,'result']='True Negative' #then some get replaced by false positive\n",
    "val_results.loc[val_results.truth_delta<=-0.5,'result']='False Positive'\n",
    "val_results.loc[val_results.truth_delta>=0.5,'result']='False Negative'\n"
   ]
  },
  {
   "cell_type": "code",
   "execution_count": 20,
   "metadata": {},
   "outputs": [
    {
     "data": {
      "text/plain": [
       "True Negative     863\n",
       "True Positive      88\n",
       "False Positive     18\n",
       "False Negative     17\n",
       "Name: result, dtype: int64"
      ]
     },
     "execution_count": 20,
     "metadata": {},
     "output_type": "execute_result"
    }
   ],
   "source": [
    "val_results.result.value_counts()"
   ]
  },
  {
   "cell_type": "code",
   "execution_count": 27,
   "metadata": {},
   "outputs": [
    {
     "data": {
      "image/png": "[encoded data removed]",
      "text/plain": [
       "<Figure size 864x720 with 1 Axes>"
      ]
     },
     "metadata": {
      "needs_background": "light"
     },
     "output_type": "display_data"
    }
   ],
   "source": [
    "cutoff=.05\n",
    "val_results_mod=val_results[(val_results.truth_delta<-cutoff)|(val_results.truth_delta>cutoff)]\n",
    "import seaborn as sns\n",
    "ax = sns.histplot(data=val_results_mod, x=\"truth_delta\",hue='result')"
   ]
  },
  {
   "cell_type": "code",
   "execution_count": null,
   "metadata": {},
   "outputs": [],
   "source": [
    "false_positives=val_results[val_results.truth_delta<=-.5]\n",
    "print(false_positives.shape)\n",
    "false_positives"
   ]
  },
  {
   "cell_type": "code",
   "execution_count": null,
   "metadata": {},
   "outputs": [],
   "source": [
    "false_negatives=val_results[val_results.truth_delta>=0.5].sort_values('truth_delta',ascending=False)\n",
    "print (false_negatives.shape)\n",
    "false_negatives"
   ]
  },
  {
   "cell_type": "code",
   "execution_count": null,
   "metadata": {},
   "outputs": [],
   "source": [
    "baseline_results = model.evaluate([x_local_train,x_global_train],Y_train,\n",
    "                                  batch_size=BATCH_SIZE, verbose=0)\n",
    "for name, value in zip(model.metrics_names, baseline_results):\n",
    "  print(name, ': ', value)\n",
    "print()"
   ]
  },
  {
   "cell_type": "markdown",
   "metadata": {},
   "source": [
    "#### Class weighting to deal with unbalanced classes"
   ]
  },
  {
   "cell_type": "code",
   "execution_count": null,
   "metadata": {},
   "outputs": [],
   "source": [
    "weight_for_0 = (1 / neg)*(total)/2.0 \n",
    "weight_for_1 = (1 / pos)*(total)/2.0\n",
    "\n",
    "class_weight = {0: weight_for_0, 1: weight_for_1}\n",
    "\n",
    "print('Weight for class 0: {:.2f}'.format(weight_for_0))\n",
    "print('Weight for class 1: {:.2f}'.format(weight_for_1))"
   ]
  },
  {
   "cell_type": "code",
   "execution_count": null,
   "metadata": {},
   "outputs": [],
   "source": [
    "tf.keras.backend.clear_session()\n",
    "model=make_model()\n",
    "#model.load_weights(initial_weights)\n",
    "\n",
    "history=model.fit([x_local_train,x_global_train],\n",
    "                  Y_train,\n",
    "                  validation_data=([x_local_val,x_global_val],Y_val),\n",
    "                  epochs=EPOCHS,\n",
    "                  batch_size=BATCH_SIZE,\n",
    "                  class_weight=class_weight,\n",
    "                  callbacks=[early_stopping],\n",
    "                  verbose=2)"
   ]
  },
  {
   "cell_type": "code",
   "execution_count": null,
   "metadata": {},
   "outputs": [],
   "source": [
    "plot_metrics(history)\n",
    "plot_cm(Y_val, val_predictions_baseline)\n",
    "\n",
    "val_predictions_baseline = model.predict([x_local_val,x_global_val], batch_size=BATCH_SIZE)\n",
    "train_predictions_baseline = model.predict([x_local_train,x_global_train], batch_size=BATCH_SIZE)\n",
    "\n",
    "plot_roc(\"Train Baseline\", Y_train, train_predictions_baseline, color=colors[0])\n",
    "plot_roc(\"Test Baseline\", Y_val, val_predictions_baseline, color=colors[0], linestyle='--')\n",
    "plt.legend(loc='lower right')"
   ]
  },
  {
   "cell_type": "markdown",
   "metadata": {},
   "source": [
    "#### Oversampling to deal with unbalanced classes"
   ]
  },
  {
   "cell_type": "code",
   "execution_count": null,
   "metadata": {},
   "outputs": [],
   "source": [
    "#oversampling\n",
    "bool_train_labels = Y_train != 0\n",
    "pos_features_local = x_local_train[bool_train_labels]\n",
    "neg_features_local = x_local_train[~bool_train_labels]\n",
    "pos_features_global = x_global_train[bool_train_labels]\n",
    "neg_features_global = x_global_train[~bool_train_labels]\n",
    "\n",
    "pos_labels = Y_train[bool_train_labels]\n",
    "neg_labels = Y_train[~bool_train_labels]"
   ]
  },
  {
   "cell_type": "code",
   "execution_count": null,
   "metadata": {},
   "outputs": [],
   "source": [
    "ids = np.arange(len(pos_features_local))\n",
    "choices = np.random.choice(ids, len(neg_features_local))\n",
    "\n",
    "res_pos_features_local = pos_features_local[choices]\n",
    "res_pos_features_global = pos_features_global[choices]\n",
    "res_pos_labels = pos_labels[choices]\n",
    "\n",
    "print(res_pos_features_local.shape,res_pos_features_global.shape)"
   ]
  },
  {
   "cell_type": "code",
   "execution_count": null,
   "metadata": {},
   "outputs": [],
   "source": [
    "res_features_local=np.concatenate([res_pos_features_local,neg_features_local],axis=0)\n",
    "res_features_global=np.concatenate([res_pos_features_global,neg_features_global],axis=0)\n",
    "res_labels=np.concatenate([res_pos_labels,neg_labels],axis=0)\n",
    "order=np.arange(len(res_labels))\n",
    "np.random.shuffle(order)\n",
    "res_features_local=res_features_local[order]\n",
    "res_features_global=res_features_global[order]\n",
    "res_labels=res_labels[order]\n",
    "print(res_features_local.shape,res_features_global.shape,res_labels.shape)"
   ]
  },
  {
   "cell_type": "code",
   "execution_count": null,
   "metadata": {},
   "outputs": [],
   "source": [
    "tf.keras.backend.clear_session()\n",
    "model=make_model()\n",
    "history = model.fit(\n",
    "        [res_features_local,res_features_global],\n",
    "        res_labels,\n",
    "        validation_data=([x_local_val,x_global_val],Y_val),\n",
    "        epochs=EPOCHS,\n",
    "        batch_size=BATCH_SIZE,\n",
    "        callbacks=[early_stopping],\n",
    "        verbose=2)\n"
   ]
  },
  {
   "cell_type": "code",
   "execution_count": null,
   "metadata": {},
   "outputs": [],
   "source": [
    "plot_metrics(history)\n",
    "plot_cm(Y_val, val_predictions_baseline)\n",
    "\n",
    "val_predictions_baseline = model.predict([x_local_val,x_global_val], batch_size=BATCH_SIZE)\n",
    "train_predictions_baseline = model.predict([x_local_train,x_global_train], batch_size=BATCH_SIZE)\n",
    "\n",
    "plot_roc(\"Train Baseline\", Y_train, train_predictions_baseline, color=colors[0])\n",
    "plot_roc(\"Test Baseline\", Y_val, val_predictions_baseline, color=colors[0], linestyle='--')\n",
    "plt.legend(loc='lower right')"
   ]
  },
  {
   "cell_type": "code",
   "execution_count": null,
   "metadata": {},
   "outputs": [],
   "source": []
  },
  {
   "cell_type": "code",
   "execution_count": null,
   "metadata": {},
   "outputs": [],
   "source": []
  },
  {
   "cell_type": "code",
   "execution_count": null,
   "metadata": {},
   "outputs": [],
   "source": []
  },
  {
   "cell_type": "code",
   "execution_count": null,
   "metadata": {},
   "outputs": [],
   "source": []
  },
  {
   "cell_type": "code",
   "execution_count": null,
   "metadata": {},
   "outputs": [],
   "source": []
  },
  {
   "cell_type": "code",
   "execution_count": null,
   "metadata": {},
   "outputs": [],
   "source": []
  },
  {
   "cell_type": "code",
   "execution_count": null,
   "metadata": {},
   "outputs": [],
   "source": [
    "np.set_printoptions(suppress=True)\n",
    "Y_val_pred=model.predict([x_local_val,x_global_val])\n",
    "print(Y_val_pred.shape)\n",
    "print(Y_val_pred[0:30])\n",
    "print(Y_val[0:30])"
   ]
  },
  {
   "cell_type": "code",
   "execution_count": null,
   "metadata": {},
   "outputs": [],
   "source": [
    "from sklearn.metrics import classification_report\n",
    "\n",
    "Y_val_pred_bool = np.argmax(Y_val_pred, axis=1)\n",
    "\n",
    "print(classification_report(Y_val, Y_val_pred_bool))"
   ]
  },
  {
   "cell_type": "code",
   "execution_count": null,
   "metadata": {},
   "outputs": [],
   "source": [
    "np.bincount(Y_val)"
   ]
  },
  {
   "cell_type": "code",
   "execution_count": null,
   "metadata": {},
   "outputs": [],
   "source": [
    "import matplotlib.pyplot as plt\n",
    "fig,axes=plt.subplots(2,2,figsize=(16,8))\n",
    "plt.subplot(221)\n",
    "plt.title('Loss')\n",
    "plt.plot(history.history['loss'], label='train')\n",
    "plt.plot(history.history['val_loss'], label='test')\n",
    "plt.legend()\n",
    "# plot accuracy during training\n",
    "plt.subplot(222)\n",
    "plt.title('Accuracy')\n",
    "plt.plot(history.history['accuracy'], label='train')\n",
    "plt.plot(history.history['val_accuracy'], label='test')\n",
    "plt.legend()\n",
    "\n",
    "plt.subplot(223)\n",
    "plt.title('AUC')\n",
    "plt.plot(history.history['auc'], label='train')\n",
    "plt.plot(history.history['val_auc'], label='test')\n",
    "plt.legend()\n",
    "plt.show()"
   ]
  },
  {
   "cell_type": "code",
   "execution_count": null,
   "metadata": {},
   "outputs": [],
   "source": []
  },
  {
   "cell_type": "code",
   "execution_count": null,
   "metadata": {},
   "outputs": [],
   "source": []
  },
  {
   "cell_type": "code",
   "execution_count": null,
   "metadata": {},
   "outputs": [],
   "source": []
  },
  {
   "cell_type": "code",
   "execution_count": null,
   "metadata": {},
   "outputs": [],
   "source": []
  },
  {
   "cell_type": "code",
   "execution_count": null,
   "metadata": {},
   "outputs": [],
   "source": [
    "# the first branch operates on the first input\n",
    "x = Dense(8, activation=\"relu\")(inputA)\n",
    "x = Dense(4, activation=\"relu\")(x)\n",
    "x = Model(inputs=inputA, outputs=x)\n",
    "# the second branch opreates on the second input\n",
    "y = Dense(64, activation=\"relu\")(inputB)\n",
    "y = Dense(32, activation=\"relu\")(y)\n",
    "y = Dense(4, activation=\"relu\")(y)\n",
    "y = Model(inputs=inputB, outputs=y)\n",
    "# combine the output of the two branches\n",
    "combined = concatenate([x.output, y.output])\n",
    "# apply a FC layer and then a regression prediction on the\n",
    "# combined outputs\n",
    "z = Dense(2, activation=\"relu\")(combined)\n",
    "z = Dense(1, activation=\"linear\")(z)\n",
    "# our model will accept the inputs of the two branches and\n",
    "# then output a single value\n",
    "model = Model(inputs=[x.input, y.input], outputs=z)"
   ]
  },
  {
   "cell_type": "code",
   "execution_count": null,
   "metadata": {},
   "outputs": [],
   "source": []
  },
  {
   "cell_type": "code",
   "execution_count": null,
   "metadata": {},
   "outputs": [],
   "source": [
    "#model splits into lat long after convolutional layers\n",
    "\n",
    "input_shape=(270,480,1)\n",
    "x=tf.keras.layers.Conv2D(64,(3,3),activation='relu')(inputs)\n",
    "x=tf.keras.layers.MaxPooling2D((2,2))(x)\n",
    "input = tf.keras.layers.Input(shape=input_shape)\n",
    "x=tf.keras.layers.Conv2D(64,(3,3),activation='relu')(x)\n",
    "x=tf.keras.layers.MaxPooling2D((2,2))(x)\n",
    "x=tf.keras.layers.Dropout(0.25)(x)\n",
    "x=tf.keras.layers.Conv2D(128,(3,3),activation='relu')(x)\n",
    "x=tf.keras.layers.MaxPooling2D((2,2))(x)\n",
    "x=tf.keras.layers.Conv2D(128,(3,3),activation='relu')(x)\n",
    "x=tf.keras.layers.MaxPooling2D((2,2))(x)\n",
    "x=tf.keras.layers.Dropout(0.25)(x)\n",
    "x=tf.keras.layers.Flatten()(x)\n",
    "\n",
    "xlat=tf.keras.layers.Dense(256,activation='relu')(x)\n",
    "xlat=tf.keras.layers.Dropout(0.5)(xlat)\n",
    "xlat=tf.keras.layers.Dense(64,activation='relu')(xlat)\n",
    "regression_layer_lat = tf.keras.layers.Dense(1, name='regression_lat')(xlat)  \n",
    "\n",
    "xlong=tf.keras.layers.Dense(256,activation='relu')(x)\n",
    "xlong=tf.keras.layers.Dropout(0.5)(xlong)\n",
    "xlong=tf.keras.layers.Dense(64,activation='relu')(xlong)\n",
    "regression_layer_long = tf.keras.layers.Dense(1, name='regression_long')(xlong)\n",
    "\n",
    "model_output = [regression_layer_lat, regression_layer_long]\n",
    "losses = ['mean_squared_error', 'mean_squared_error']\n",
    "metrics = ['mean_squared_error', 'mean_squared_error']\n",
    "\n",
    "model = tf.keras.models.Model(inputs, model_output)\n",
    "model.compile(loss=losses,  optimizer='adam', metrics=metrics)"
   ]
  },
  {
   "cell_type": "code",
   "execution_count": null,
   "metadata": {},
   "outputs": [],
   "source": [
    "with open('model.yml') as config_file:\n",
    "    config_data = yaml.load(config_file)\n",
    "    image_dir = config_data['image_dir']\n",
    "    latstart= config_data['latstart']\n",
    "    latend=config_data['latend']\n",
    "    longstart = config_data['longstart']\n",
    "    longend=config_data['longend']\n",
    "    dtstart= config_data['dtstart']\n",
    "    dtend=config_data['dtend']"
   ]
  },
  {
   "cell_type": "code",
   "execution_count": null,
   "metadata": {},
   "outputs": [],
   "source": []
  },
  {
   "cell_type": "markdown",
   "metadata": {
    "colab_type": "text",
    "id": "-k4t6YLVrt49"
   },
   "source": [
    "## Define functions to load the data\n"
   ]
  },
  {
   "cell_type": "markdown",
   "metadata": {},
   "source": [
    "#### comment\n"
   ]
  },
  {
   "cell_type": "markdown",
   "metadata": {},
   "source": [
    "### Key image read-in functions: load_image and build_input"
   ]
  },
  {
   "cell_type": "code",
   "execution_count": null,
   "metadata": {
    "colab": {},
    "colab_type": "code",
    "id": "FVUFnke4eIZI"
   },
   "outputs": [],
   "source": [
    "def load_image(s3_client,bucket_name,file_name, dim=(224,224)):\n",
    "    \"\"\"\n",
    "    Loads a single image as a Numpy array and resizes it as\n",
    "    desired.  The default dimensions are consistent with\n",
    "    those expected by the VGG models.  \n",
    "\n",
    "    Args:\n",
    "    s3_client:  s3 resource\n",
    "    bucket_name:name of bucket\n",
    "    file_name:  file to convert to image\n",
    "\n",
    "    dim: Two-element tuple giving the desired height\n",
    "         and width of the processed image\n",
    "\n",
    "    Returns:\n",
    "    image:  A single-channel Numpy array\n",
    "    \"\"\"\n",
    "    #image = cv2.imread(image_path, 0)\n",
    "    file_stream = io.BytesIO()\n",
    "    s3.download_fileobj(bucket_name,file_name,file_stream)\n",
    "    nparr = np.frombuffer(file_stream.getvalue(), np.uint8)\n",
    "    image=cv2.imdecode(nparr,0)\n",
    "    image = cv2.resize(image, dim)#, interpolation = cv2.INTER_AREA)\n",
    "    return image"
   ]
  },
  {
   "cell_type": "code",
   "execution_count": null,
   "metadata": {
    "colab": {},
    "colab_type": "code",
    "id": "CFJgfKxOi9Uj"
   },
   "outputs": [],
   "source": [
    "def build_input(s3_client,bucket_name,file_list,files_to_load,dim):\n",
    "    \"\"\"\n",
    "    Loads all of the images into a single numpy array.\n",
    "    Assumes that there are 101 equally-spaced images\n",
    "    spanning lattitudes from 35N to 45N.  \n",
    "\n",
    "    Args:\n",
    "    s3_client:  s3 resource\n",
    "    bucket_name:name of bucket\n",
    "    file_list:  list of files in bucket\n",
    "    Returns:\n",
    "    X:  A 3-dimensional numpy array containing the\n",
    "        images. Image height and width are set by\n",
    "        `load_images` and default to 224 x 224.\n",
    "\n",
    "    y:  A 1-dimensional numpy array of target lattitudes.\n",
    "    \"\"\"\n",
    "    X = []\n",
    "    i=0\n",
    "    for file in file_list[0:files_to_load]:\n",
    "        if file[-4:] == '.png':\n",
    "            print(file)\n",
    "            image = load_image(s3_client,bucket_name,file,dim)\n",
    "            X.append(image)\n",
    "            if i%100==0:\n",
    "                print('loaded:',i)\n",
    "            i+=1\n",
    "    return (np.array(X) / 255)"
   ]
  },
  {
   "cell_type": "code",
   "execution_count": null,
   "metadata": {
    "colab": {},
    "colab_type": "code",
    "id": "g4CpV8Yue8G1"
   },
   "outputs": [],
   "source": [
    "def build_labels(file_list,files_to_load):\n",
    "    y = []\n",
    "    t=[]\n",
    "    for file in file_list[0:files_to_load]:\n",
    "        if file[-4:] == '.png':\n",
    "            file_split = file.split('+')\n",
    "            lat = float(file_split[0])\n",
    "            long = float(file_split[1])\n",
    "            time = file_split[2].split('.')[0]\n",
    "            y.append((lat, long))\n",
    "            t.append(time)\n",
    "    return np.array(y),np.array(t)"
   ]
  },
  {
   "cell_type": "markdown",
   "metadata": {},
   "source": [
    "#### Test load_image on one image manually"
   ]
  },
  {
   "cell_type": "code",
   "execution_count": null,
   "metadata": {
    "colab": {
     "base_uri": "https://localhost:8080/",
     "height": 286
    },
    "colab_type": "code",
    "id": "6aWURghls3NV",
    "outputId": "cc7d27e7-ddee-424c-88ed-0bbf23b57972"
   },
   "outputs": [],
   "source": [
    "bucket_name='w251-final-project'\n",
    "file_name='36.0014762509164+-74.82905304191733+2020-05-26T01:10:59.png'\n",
    "s3 = boto3.client('s3')\n",
    "sample_image = load_image(s3,bucket_name,file_name)\n",
    "plt.imshow(sample_image)\n",
    "print(sample_image.shape)\n",
    "file_list=[file_name]\n",
    "test_label, test_time=build_labels(file_list,1)\n",
    "print (test_label,test_time)"
   ]
  },
  {
   "cell_type": "markdown",
   "metadata": {
    "colab_type": "text",
    "id": "10QkIM_Rso10"
   },
   "source": [
    "## Prepare the data"
   ]
  },
  {
   "cell_type": "markdown",
   "metadata": {
    "colab_type": "text",
    "id": "HkcP-D-Esrce"
   },
   "source": [
    "### Load the images"
   ]
  },
  {
   "cell_type": "code",
   "execution_count": null,
   "metadata": {
    "colab": {},
    "colab_type": "code",
    "id": "kUp7yqdFkFi0"
   },
   "outputs": [],
   "source": [
    "#clear out models for memory management purposes\n",
    "tf.keras.backend.clear_session()\n",
    "\n",
    "#change this to true to force it to reload from S3 bucket\n",
    "force_load=False\n",
    "\n",
    "#check if np arrays have already been saved and load if so\n",
    "if ((os.path.exists('x.npy'))&(not force_load)):\n",
    "    print('loading from files')\n",
    "    X=np.load('x.npy')\n",
    "    y=np.load('y.npy')\n",
    "    t=np.load('t.npy')\n",
    "\n",
    "#otherwise go to S3 bucket\n",
    "else:\n",
    "    print('loading from S3')\n",
    "    bucket_name='w251-final-project'\n",
    "    file_list=get_matching_s3_keys(bucket_name)\n",
    "    \n",
    "    #shuffle file list so that if take less than all are distributed.  also makes array randomly shuffled\n",
    "    random.shuffle(file_list)\n",
    "    \n",
    "    s3 = boto3.client('s3')\n",
    "\n",
    "    #max_files=100000\n",
    "    max_files=500\n",
    "    file_list_length=len(file_list)\n",
    "    files_to_load=np.minimum(max_files,file_list_length)\n",
    "\n",
    "    #get images\n",
    "    print('About to call build_input on',files_to_load,' files')\n",
    "    dim=(224,224)\n",
    "    X = build_input(s3,bucket_name,file_list,files_to_load,dim)\n",
    "\n",
    "\n",
    "    #get labels\n",
    "    print ('Building labels')\n",
    "    y,t = build_labels(file_list,files_to_load)\n",
    "    \n",
    "    print ('saving arrays so can reload more easily next time through')\n",
    "    np.save('x.npy',X)\n",
    "    np.save('y.npy',y)\n",
    "    np.save('t.npy',t)\n",
    "\n",
    "print ('shape of image array:', X.shape)\n",
    "print ('shape of label list:', y.shape)\n",
    "print ('shape of time list:',t.shape)"
   ]
  },
  {
   "cell_type": "markdown",
   "metadata": {
    "colab_type": "text",
    "id": "mdemcB48loMr"
   },
   "source": [
    "\n",
    "### Standardize the values"
   ]
  },
  {
   "cell_type": "code",
   "execution_count": null,
   "metadata": {},
   "outputs": [],
   "source": [
    "def scale_down(numbers,top,bottom):\n",
    "    number_range=top-bottom\n",
    "    revised=[x-bottom for x in numbers]\n",
    "    revised=[x/number_range for x in revised]\n",
    "    return revised\n",
    "\n",
    "def scale_up(number,top,bottom):\n",
    "    number_range=top-bottom\n",
    "    revised=number*number_range\n",
    "    revised=revised+bottom\n",
    "    return revised\n"
   ]
  },
  {
   "cell_type": "code",
   "execution_count": null,
   "metadata": {
    "colab": {},
    "colab_type": "code",
    "id": "CQDi4jNTivAZ"
   },
   "outputs": [],
   "source": [
    "#just scaling down without normalizing\n",
    "y[:,0]=scale_down(y[:,0],latend,latstart)\n",
    "y[:,1]=scale_down(y[:,1],longend,longstart)\n",
    "\n",
    "#y[:,0] = scale(y[:,0])\n",
    "#y[:,1]=scale(y[:,1])\n",
    "\n",
    "print (y[:,0].mean(),y[:,0].std())\n",
    "print (y[:,1].mean(),y[:,1].std())"
   ]
  },
  {
   "cell_type": "markdown",
   "metadata": {
    "colab_type": "text",
    "id": "fwhGSeYdstxS"
   },
   "source": [
    "### Split into test and training sets"
   ]
  },
  {
   "cell_type": "code",
   "execution_count": null,
   "metadata": {
    "colab": {
     "base_uri": "https://localhost:8080/",
     "height": 85
    },
    "colab_type": "code",
    "id": "owd0SyrvlUHo",
    "outputId": "e1e23c19-08da-4f84-df78-b6a8b0da9b51"
   },
   "outputs": [],
   "source": [
    "X_train, X_val, y_train, y_val = train_test_split(X, y, test_size=0.2)\n",
    "print(X_train.shape)\n",
    "print(y_train.shape)\n",
    "print(X_val.shape)\n",
    "print(y_val.shape)\n"
   ]
  },
  {
   "cell_type": "code",
   "execution_count": null,
   "metadata": {},
   "outputs": [],
   "source": [
    "print(X_train[0].shape)\n",
    "print (X_train[0])\n",
    "print (X_train[0].max())\n",
    "print (X_train[0].mean())"
   ]
  },
  {
   "cell_type": "markdown",
   "metadata": {},
   "source": [
    "### Add channel for CNN"
   ]
  },
  {
   "cell_type": "code",
   "execution_count": null,
   "metadata": {},
   "outputs": [],
   "source": [
    "#need to add channel for B&W for CNN\n",
    "#https://machinelearningmastery.com/a-gentle-introduction-to-channels-first-and-channels-last-image-formats-for-deep-learning/\n",
    "\n",
    "print(X_train.shape,y_train.shape)\n",
    "X_train=np.expand_dims(X_train,axis=3)\n",
    "X_val=np.expand_dims(X_val,axis=3)\n",
    "print(X_train.shape,X_val.shape)"
   ]
  },
  {
   "cell_type": "markdown",
   "metadata": {
    "colab_type": "text",
    "id": "otvKdtM3tKDG"
   },
   "source": [
    "## The model\n"
   ]
  },
  {
   "cell_type": "code",
   "execution_count": null,
   "metadata": {},
   "outputs": [],
   "source": [
    "#just dense\n",
    "\n",
    "input_shape=(224,224,1)\n",
    "input_image = tf.keras.layers.Input(shape=X_train[0].shape)\n",
    "input_time=input_time=tf.keras.layers.Input(shape=t_train[0].shape)\n",
    "i=tf.keras.layers.Flatten()(input_image)\n",
    "i=tf.keras.layers.Dense(528,activation='relu')(i)\n",
    "i=tf.keras.layers.Dense(528,activation='relu')(i)\n",
    "i=tf.keras.layers.Dense(528,activation='relu')(i)\n",
    "\n",
    "t=tf.keras.layers.Flatten()(input_time)\n",
    "it=tf.keras.layers.concatenate([i,t])\n",
    "\n",
    "xlat=tf.keras.layers.Dense(256,activation='relu')(it)\n",
    "xlat=tf.keras.layers.Dropout(0.25)(xlat)\n",
    "xlat=tf.keras.layers.Dense(256,activation='relu')(xlat)\n",
    "regression_layer_lat = tf.keras.layers.Dense(1, name='regression_lat')(xlat)  \n",
    "\n",
    "xlong=tf.keras.layers.Dense(256,activation='relu')(it)\n",
    "xlong=tf.keras.layers.Dropout(0.25)(xlong)\n",
    "xlong=tf.keras.layers.Dense(256,activation='relu')(xlong)\n",
    "regression_layer_long = tf.keras.layers.Dense(1, name='regression_long')(xlong)\n",
    "\n",
    "model_output = [regression_layer_lat, regression_layer_long]\n",
    "losses = ['mean_squared_error', 'mean_squared_error']\n",
    "metrics = ['mean_squared_error', 'mean_squared_error']\n",
    "\n",
    "model = tf.keras.models.Model([input_image,input_time], model_output)\n",
    "\n",
    "\n",
    "\n",
    "\n",
    "\n"
   ]
  },
  {
   "cell_type": "code",
   "execution_count": null,
   "metadata": {},
   "outputs": [],
   "source": [
    "losses = ['mean_squared_error','mean_squared_error']\n",
    "metrics = ['mean_squared_error','mean_squared_error']\n",
    "\n",
    "model.compile(optimizer='Adam',\n",
    "                 loss=losses,\n",
    "                 metrics=metrics)\n",
    "\n",
    "print(model.summary())\n"
   ]
  },
  {
   "cell_type": "markdown",
   "metadata": {
    "colab_type": "text",
    "id": "45ubHGx-0fZT"
   },
   "source": [
    "### Fit the model"
   ]
  },
  {
   "cell_type": "code",
   "execution_count": null,
   "metadata": {
    "colab": {
     "base_uri": "https://localhost:8080/",
     "height": 1000
    },
    "colab_type": "code",
    "id": "GSdEVoRTn7KO",
    "outputId": "f18a5e41-575f-4cc5-a200-7ed098765963"
   },
   "outputs": [],
   "source": [
    "tf.keras.backend.clear_session()\n",
    "history = model.fit(x=[X_train,t_train], \n",
    "                    y=[y_train[:,0],y_train[:,1]],\n",
    "                    validation_data=[[X_val,t_val],[y_val[:,0],y_val[:,1]]],\n",
    "                    verbose=1, epochs=15, batch_size=32)\n",
    "\n",
    "    \n"
   ]
  },
  {
   "cell_type": "markdown",
   "metadata": {
    "colab_type": "text",
    "id": "xgjEi6oP0kNE"
   },
   "source": [
    "### Evaluate model performance"
   ]
  },
  {
   "cell_type": "code",
   "execution_count": null,
   "metadata": {
    "colab": {
     "base_uri": "https://localhost:8080/",
     "height": 295
    },
    "colab_type": "code",
    "id": "CZNI6nGtzbYy",
    "outputId": "0af1dc94-1682-46eb-e7d9-e5a52d01eacb"
   },
   "outputs": [],
   "source": [
    "history_df = pd.DataFrame(history.history)\n",
    "ax = history_df.plot(y=['loss', 'val_loss'],\n",
    "                xticks=np.linspace(0, len(history_df), 6))\n",
    "ax.set_ylabel('Loss')\n",
    "ax.set_xlabel('Epoch')\n",
    "ax.set_title('Evolution of Mean Squared Error')\n",
    "plt.show()\n"
   ]
  },
  {
   "cell_type": "code",
   "execution_count": null,
   "metadata": {},
   "outputs": [],
   "source": [
    "print(X_val.shape)\n",
    "print(y_val.shape)"
   ]
  },
  {
   "cell_type": "code",
   "execution_count": null,
   "metadata": {
    "colab": {},
    "colab_type": "code",
    "id": "29eHeDjEoNqj"
   },
   "outputs": [],
   "source": [
    "y_hat = model.predict([X_val,t_val])\n",
    "#y_hat_lat=model.predict(X_val)[0]\n",
    "#y_hat_long=model.predict(X_val)[1]\n",
    "y_hat_lat=y_hat[:,0]\n",
    "y_hat_long=y_hat[:,1]\n",
    "\n",
    "y_hat_lat=scale_up(y_hat_lat,latend,latstart)\n",
    "y_hat_long=scale_up(y_hat_long,longend,longstart)\n",
    "\n",
    "y_val_lat=y_val[:,0]\n",
    "y_val_long=y_val[:,1]\n",
    "\n",
    "y_val_lat=scale_up(y_val_lat,latend,latstart)\n",
    "y_val_long=scale_up(y_val_long,longend,longstart)"
   ]
  },
  {
   "cell_type": "code",
   "execution_count": null,
   "metadata": {
    "colab": {
     "base_uri": "https://localhost:8080/",
     "height": 295
    },
    "colab_type": "code",
    "id": "6CoZVBtCrT7K",
    "outputId": "f9b36a5f-5eef-468e-edd9-e6811ba7ea39"
   },
   "outputs": [],
   "source": [
    "fig = plt.figure(figsize=(12,6))\n",
    "ax=fig.add_subplot(111)\n",
    "ax.scatter(y_val_lat, y_hat_lat)\n",
    "plt.title('Predicted lat vs. True lat')\n",
    "plt.xlabel('True lat')\n",
    "plt.ylabel('Predicted lat')\n",
    "ax.set_xlim(36,40)\n",
    "ax.set_ylim(36,40)\n",
    "#draw straight line\n"
   ]
  },
  {
   "cell_type": "code",
   "execution_count": null,
   "metadata": {
    "colab": {
     "base_uri": "https://localhost:8080/",
     "height": 295
    },
    "colab_type": "code",
    "id": "n5tCuM2HvK72",
    "outputId": "f1b6570d-1fa3-464c-c820-8e01ca393676"
   },
   "outputs": [],
   "source": [
    "fig = plt.figure(figsize=(12,6))\n",
    "ax=fig.add_subplot(111)\n",
    "ax.scatter(y_val_long, y_hat_long)\n",
    "plt.title('Predicted long vs. True long')\n",
    "plt.xlabel('True long')\n",
    "plt.ylabel('Predicted long')\n",
    "ax.set_xlim(-78,-74)\n",
    "ax.set_ylim(-78,-74)\n"
   ]
  },
  {
   "cell_type": "markdown",
   "metadata": {},
   "source": [
    "### Save Model"
   ]
  },
  {
   "cell_type": "code",
   "execution_count": null,
   "metadata": {},
   "outputs": [],
   "source": [
    "model_dir='inference_model'\n",
    "model.save(model_dir)\n"
   ]
  },
  {
   "cell_type": "code",
   "execution_count": null,
   "metadata": {},
   "outputs": [],
   "source": [
    "test_model=tf.keras.models.load_model(model_dir)\n"
   ]
  },
  {
   "cell_type": "code",
   "execution_count": null,
   "metadata": {},
   "outputs": [],
   "source": [
    "def upload_model(model_dir,bucket_name):\n",
    "    #s3_client=boto3.client('s3')\n",
    "    session = boto3.Session()\n",
    "    s3 = session.resource('s3')\n",
    "    bucket = s3.Bucket(bucket_name)\n",
    "    for subdir, dirs, files in os.walk(model_dir):\n",
    "        for file in files:\n",
    "            full_path = os.path.join(subdir, file)\n",
    "            with open(full_path, 'rb') as data:\n",
    "                bucket.put_object(Key=full_path[len(model_dir)+1:], Body=data)\n",
    "\n",
    "bucket_name='w251-final-project-model'\n",
    "upload_model(model_dir,bucket_name)"
   ]
  },
  {
   "cell_type": "code",
   "execution_count": null,
   "metadata": {},
   "outputs": [],
   "source": []
  },
  {
   "cell_type": "code",
   "execution_count": null,
   "metadata": {},
   "outputs": [],
   "source": [
    "input_image = tf.keras.layers.Input(shape=X_train[0].shape)\n",
    "input_time=tf.keras.layers.Input(shape=t_train[0].shape)\n",
    "\n",
    "i=tf.keras.layers.Conv2D(filters=5,kernel_size=10,padding='same',activation='relu')(input_image)\n",
    "i=tf.keras.layers.Conv2D(filters=1,kernel_size=10,padding='same',activation='relu') (i)\n",
    "i=tf.keras.layers.Flatten()(i)\n",
    "\n",
    "t=tf.keras.layers.Flatten()(input_time)\n",
    "ti=tf.keras.layers.concatenate([i,t])\n",
    "ti=tf.keras.layers.Dense(256,activation='relu')(ti)\n",
    "ti=tf.keras.layers.Dropout(0.2)(ti)\n",
    "outputs=tf.keras.layers.Dense(2,activation='sigmoid')(ti)\n",
    "\n",
    "model = tf.keras.Model(inputs=[input_image, input_time], outputs=outputs)\n",
    "\n",
    "\n",
    "lr_schedule = tf.keras.optimizers.schedules.ExponentialDecay(\n",
    "    initial_learning_rate=1e-2,\n",
    "    decay_steps=10000,\n",
    "    decay_rate=0.9)\n",
    "\n",
    "optimizer = tf.keras.optimizers.SGD(learning_rate=lr_schedule)\n",
    "\n",
    "model.compile(optimizer=optimizer,\n",
    "                 loss=haversine_loss)\n",
    "\n",
    "print(model.summary())\n",
    "\n",
    "history = model.fit(x=[X_train,t_train], \n",
    "                    y=[y_train],\n",
    "                    validation_data=[[X_val,t_val],y_val],\n",
    "                    verbose=1, epochs=15, batch_size=64)\n"
   ]
  },
  {
   "cell_type": "markdown",
   "metadata": {},
   "source": [
    "### Feed Forward Dense"
   ]
  },
  {
   "cell_type": "code",
   "execution_count": null,
   "metadata": {},
   "outputs": [],
   "source": [
    "#just dense\n",
    "\n",
    "input_shape=(224,224,1)\n",
    "inputs = tf.keras.layers.Input(shape=input_shape)\n",
    "x=tf.keras.layers.Flatten()(inputs)\n",
    "x=tf.keras.layers.Dense(528,activation='relu')(x)\n",
    "x=tf.keras.layers.Dense(528,activation='relu')(x)\n",
    "x=tf.keras.layers.Dense(528,activation='relu')(x)\n",
    "\n",
    "xlat=tf.keras.layers.Dense(256,activation='relu')(x)\n",
    "xlat=tf.keras.layers.Dropout(0.25)(xlat)\n",
    "xlat=tf.keras.layers.Dense(256,activation='relu')(xlat)\n",
    "regression_layer_lat = tf.keras.layers.Dense(1, name='regression_lat')(xlat)  \n",
    "\n",
    "xlong=tf.keras.layers.Dense(256,activation='relu')(x)\n",
    "xlong=tf.keras.layers.Dropout(0.25)(xlong)\n",
    "xlong=tf.keras.layers.Dense(256,activation='relu')(xlong)\n",
    "regression_layer_long = tf.keras.layers.Dense(1, name='regression_long')(xlong)\n",
    "\n",
    "model_output = [regression_layer_lat, regression_layer_long]\n",
    "losses = ['mean_squared_error', 'mean_squared_error']\n",
    "metrics = ['mean_squared_error', 'mean_squared_error']\n",
    "\n",
    "model = tf.keras.models.Model(inputs, model_output)\n",
    "model.compile(loss=losses,  optimizer='adam', metrics=metrics)\n",
    "print(model.summary())"
   ]
  },
  {
   "cell_type": "code",
   "execution_count": null,
   "metadata": {},
   "outputs": [],
   "source": [
    "history = model.fit(x=X_train, \n",
    "                    y=[y_train[:,0],y_train[:,1]],\n",
    "                    validation_data=[X_val,[y_val[:,0],y_val[:,1]]],\n",
    "                    verbose=1, epochs=20, batch_size=128)"
   ]
  },
  {
   "cell_type": "code",
   "execution_count": null,
   "metadata": {},
   "outputs": [],
   "source": [
    "y_hat = model.predict(X_val)\n",
    "#y_hat_lat=model.predict(X_val)[0]\n",
    "#y_hat_long=model.predict(X_val)[1]\n",
    "y_hat_lat=y_hat[0]\n",
    "y_hat_long=y_hat[1]\n",
    "\n",
    "y_hat_lat=scale_up(y_hat_lat,toplat,bottomlat)\n",
    "y_hat_long=scale_up(y_hat_long,toplong,bottomlong)\n",
    "\n",
    "y_val_lat=y_val[:,0]\n",
    "y_val_long=y_val[:,1]\n",
    "\n",
    "y_val_lat=scale_up(y_val_lat,toplat,bottomlat)\n",
    "y_val_long=scale_up(y_val_long,toplong,bottomlong)"
   ]
  },
  {
   "cell_type": "code",
   "execution_count": null,
   "metadata": {},
   "outputs": [],
   "source": [
    "plt.scatter(y_val_lat, y_hat_lat)\n",
    "plt.title('Predicted lat vs. True lat')\n",
    "plt.xlabel('True lat')\n",
    "plt.ylabel('Predicted lat')\n",
    "plt.show()"
   ]
  },
  {
   "cell_type": "code",
   "execution_count": null,
   "metadata": {},
   "outputs": [],
   "source": [
    "plt.scatter(y_val_long, y_hat_long)\n",
    "plt.title('Predicted long vs. True long')\n",
    "plt.xlabel('True long')\n",
    "plt.ylabel('Predicted long')\n",
    "plt.show()"
   ]
  },
  {
   "cell_type": "code",
   "execution_count": null,
   "metadata": {},
   "outputs": [],
   "source": []
  },
  {
   "cell_type": "code",
   "execution_count": null,
   "metadata": {},
   "outputs": [],
   "source": []
  },
  {
   "cell_type": "markdown",
   "metadata": {
    "colab": {},
    "colab_type": "code",
    "id": "l1Lg2v4LqKCp"
   },
   "source": [
    "### Things to consider doing:\n",
    "- don't normalize the lat and long - just scale it DONE\n",
    "- convert back to lat and long DONE\n",
    "- set validation batch size to deal with OOM errors (possibly) DONE\n",
    "- loss weights?\n",
    "- what is resolution of png files coming in?  are they squares?\n",
    "- since set wide rectangle, need to make sure entirely at night time\n",
    "- change angle of view - look more tired horizon?\n"
   ]
  },
  {
   "cell_type": "markdown",
   "metadata": {},
   "source": [
    "### Old models"
   ]
  },
  {
   "cell_type": "code",
   "execution_count": null,
   "metadata": {},
   "outputs": [],
   "source": [
    "# Define Input layer(s)\n",
    "inputShape = (224, 224)\n",
    "inputs = tf.keras.layers.Input(shape=inputShape)\n",
    "\n",
    "flatten = tf.keras.layers.Flatten()(inputs)\n",
    "\n",
    "x=tf.keras.layers.Dense(512,activation='relu')(flatten)\n",
    "x=tf.keras.layers.Dense(512,activation='relu')(x)\n",
    "x=tf.keras.layers.Dense(512,activation='relu')(x)\n",
    "x=tf.keras.layers.Dense(512,activation='relu')(x)\n",
    "regression_layer_lat = tf.keras.layers.Dense(1, name='regression_lat')(x)  \n",
    "regression_layer_long = tf.keras.layers.Dense(1, name='regression_long')(x)\n",
    "\n",
    "\n",
    "# Build and compile model\n",
    "model_input = inputs\n",
    "model_output = [regression_layer_lat, regression_layer_long]\n",
    "losses = ['mean_squared_error', 'mean_squared_error']\n",
    "metrics = ['mean_squared_error', 'mean_squared_error']\n",
    "\n",
    "model = tf.keras.models.Model(model_input, model_output)\n",
    "model.compile(loss=losses,  optimizer='adam', metrics=metrics)"
   ]
  },
  {
   "cell_type": "code",
   "execution_count": null,
   "metadata": {},
   "outputs": [],
   "source": [
    "#model splits into lat long after convolutional layers\n",
    "\n",
    "input_shape=(270,480,1)\n",
    "input = tf.keras.layers.Input(shape=input_shape)\n",
    "x=tf.keras.layers.Conv2D(64,(3,3),activation='relu')(inputs)\n",
    "x=tf.keras.layers.MaxPooling2D((2,2))(x)\n",
    "x=tf.keras.layers.Conv2D(64,(3,3),activation='relu')(x)\n",
    "x=tf.keras.layers.MaxPooling2D((2,2))(x)\n",
    "x=tf.keras.layers.Dropout(0.25)(x)\n",
    "x=tf.keras.layers.Conv2D(128,(3,3),activation='relu')(x)\n",
    "x=tf.keras.layers.MaxPooling2D((2,2))(x)\n",
    "x=tf.keras.layers.Conv2D(128,(3,3),activation='relu')(x)\n",
    "x=tf.keras.layers.MaxPooling2D((2,2))(x)\n",
    "x=tf.keras.layers.Dropout(0.25)(x)\n",
    "x=tf.keras.layers.Flatten()(x)\n",
    "\n",
    "xlat=tf.keras.layers.Dense(256,activation='relu')(x)\n",
    "xlat=tf.keras.layers.Dropout(0.5)(xlat)\n",
    "xlat=tf.keras.layers.Dense(64,activation='relu')(xlat)\n",
    "regression_layer_lat = tf.keras.layers.Dense(1, name='regression_lat')(xlat)  \n",
    "\n",
    "xlong=tf.keras.layers.Dense(256,activation='relu')(x)\n",
    "xlong=tf.keras.layers.Dropout(0.5)(xlong)\n",
    "xlong=tf.keras.layers.Dense(64,activation='relu')(xlong)\n",
    "regression_layer_long = tf.keras.layers.Dense(1, name='regression_long')(xlong)\n",
    "\n",
    "model_output = [regression_layer_lat, regression_layer_long]\n",
    "losses = ['mean_squared_error', 'mean_squared_error']\n",
    "metrics = ['mean_squared_error', 'mean_squared_error']\n",
    "\n",
    "model = tf.keras.models.Model(inputs, model_output)\n",
    "model.compile(loss=losses,  optimizer='adam', metrics=metrics)"
   ]
  },
  {
   "cell_type": "code",
   "execution_count": null,
   "metadata": {},
   "outputs": [],
   "source": [
    "input_shape=(224,224,1)\n",
    "inputs = tf.keras.layers.Input(shape=input_shape)\n",
    "x=tf.keras.layers.Conv2D(64,(3,3),activation='relu')(inputs)\n",
    "x=tf.keras.layers.MaxPooling2D((2,2))(x)\n",
    "x=tf.keras.layers.Conv2D(64,(3,3),activation='relu')(x)\n",
    "x=tf.keras.layers.MaxPooling2D((2,2))(x)\n",
    "x=tf.keras.layers.Dropout(0.25)(x)\n",
    "x=tf.keras.layers.Conv2D(128,(3,3),activation='relu')(x)\n",
    "x=tf.keras.layers.MaxPooling2D((2,2))(x)\n",
    "x=tf.keras.layers.Conv2D(128,(3,3),activation='relu')(x)\n",
    "x=tf.keras.layers.MaxPooling2D((2,2))(x)\n",
    "x=tf.keras.layers.Dropout(0.25)(x)\n",
    "\n",
    "x=tf.keras.layers.Flatten()(x)\n",
    "x=tf.keras.layers.Dense(256,activation='relu')(x)\n",
    "x=tf.keras.layers.Dropout(0.5)(x)\n",
    "x=tf.keras.layers.Dense(64,activation='relu')(x)\n",
    "regression_layer_lat = tf.keras.layers.Dense(1, name='regression_lat')(x)  \n",
    "regression_layer_long = tf.keras.layers.Dense(1, name='regression_long')(x)\n",
    "\n",
    "model_output = [regression_layer_lat, regression_layer_long]\n",
    "losses = ['mean_squared_error', 'mean_squared_error']\n",
    "metrics = ['mean_squared_error', 'mean_squared_error']\n",
    "\n",
    "model = tf.keras.models.Model(inputs, model_output)\n",
    "model.compile(loss=losses,  optimizer='adam', metrics=metrics)"
   ]
  },
  {
   "cell_type": "code",
   "execution_count": null,
   "metadata": {},
   "outputs": [],
   "source": [
    "model = tf.keras.Sequential([\n",
    "    tf.keras.layers.Flatten(input_shape=(224,224)),\n",
    "    tf.keras.layers.Dense(512, activation='relu'),\n",
    "    #tf.keras.layers.Dense(512, activation='relu'),\n",
    "    #tf.keras.layers.Dense(512, activation='relu'),\n",
    "    #tf.keras.layers.Dense(512, activation='relu'),\n",
    "    #tf.keras.layers.Dense(512, activation='relu'),\n",
    "    tf.keras.layers.Dense(256, activation='relu'),\n",
    "    #tf.keras.layers.Dense(256, activation='relu'),\n",
    "    #tf.keras.layers.Dense(256, activation='relu'),\n",
    "    #tf.keras.layers.Dense(256, activation='relu'),\n",
    "    #tf.keras.layers.Dense(256, activation='relu'),\n",
    "    #tf.keras.layers.Dense(256, activation='relu'),\n",
    "    tf.keras.layers.Dense(128, activation='relu'),\n",
    "    #tf.keras.layers.Dense(128, activation='relu'),\n",
    "    #tf.keras.layers.Dense(128, activation='relu'),\n",
    "    #tf.keras.layers.Dense(128, activation='relu'),\n",
    "    #tf.keras.layers.Dense(128, activation='relu'),\n",
    "    #tf.keras.layers.Dense(128, activation='relu'),\n",
    "    #tf.keras.layers.Dense(128, activation='relu'),\n",
    "    tf.keras.layers.Dense(64, activation='relu'),\n",
    "    tf.keras.layers.Dense(32, activation='relu'),\n",
    "    tf.keras.layers.Dropout(0.3),\n",
    "    tf.keras.layers.Dense(2)\n",
    "])"
   ]
  },
  {
   "cell_type": "code",
   "execution_count": null,
   "metadata": {},
   "outputs": [],
   "source": [
    "losses = ['mean_squared_error', 'mean_squared_error']\n",
    "metrics = ['mean_squared_error', 'mean_squared_error']\n",
    "\n",
    "model = tf.keras.models.Model(inputs, model_output)\n",
    "model.compile(loss=losses,  optimizer='adam', metrics=metrics)"
   ]
  }
 ],
 "metadata": {
  "accelerator": "GPU",
  "colab": {
   "collapsed_sections": [],
   "name": "iso-chron.ipynb",
   "provenance": [],
   "toc_visible": true
  },
  "kernelspec": {
   "display_name": "Environment (conda_thesis)",
   "language": "python",
   "name": "conda_thesis"
  },
  "language_info": {
   "codemirror_mode": {
    "name": "ipython",
    "version": 3
   },
   "file_extension": ".py",
   "mimetype": "text/x-python",
   "name": "python",
   "nbconvert_exporter": "python",
   "pygments_lexer": "ipython3",
   "version": "3.6.10"
  }
 },
 "nbformat": 4,
 "nbformat_minor": 1
}
