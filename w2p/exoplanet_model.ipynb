{
 "cells": [
  {
   "cell_type": "markdown",
   "metadata": {
    "colab_type": "text",
    "id": "ImJOhE4BrfK7"
   },
   "source": [
    "## Exoplanet Model Work\n",
    "\n"
   ]
  },
  {
   "cell_type": "markdown",
   "metadata": {
    "colab_type": "text",
    "id": "OlNrYnNsrp4C"
   },
   "source": [
    "#### Import packages"
   ]
  },
  {
   "cell_type": "code",
   "execution_count": 17,
   "metadata": {
    "colab": {},
    "colab_type": "code",
    "id": "5Y0LD8oscOFG"
   },
   "outputs": [],
   "source": [
    "import pydot\n",
    "import numpy as np\n",
    "import tensorflow as tf\n",
    "import pandas as pd \n",
    "import matplotlib.pyplot as plt\n",
    "import cv2\n",
    "import os\n",
    "from sklearn.model_selection import train_test_split\n",
    "from sklearn.preprocessing import scale\n",
    "from sklearn.preprocessing import LabelEncoder\n",
    "from sklearn.preprocessing import StandardScaler\n",
    "import io\n",
    "from keras.utils import plot_model\n",
    "import random\n",
    "import yaml\n",
    "#import ktrain\n",
    "from astropy.io import ascii as ap_ascii\n",
    "import seaborn as sns\n",
    "import os\n",
    "\n",
    "import matplotlib as mpl\n",
    "from sklearn.metrics import roc_curve\n",
    "from sklearn.metrics import confusion_matrix\n",
    "\n",
    "pd.set_option('display.float_format', lambda x: '%.5f' % x)\n",
    "mpl.rcParams['figure.figsize'] = (12, 10)\n",
    "colors = plt.rcParams['axes.prop_cycle'].by_key()['color']\n",
    "np.set_printoptions(precision=None, suppress=True)\n",
    "\n",
    "from helpers.visualize import chart_curves \n",
    "from definitions import PROCESSED_DATA_DIR,PROCESSED_DATA_CATALOG\n",
    "#PROCESSED_DATA_DIR='processed_data'\n",
    "TCE_LIST='tce_table.csv'\n",
    "FAILED_LIST='failed_kepids.csv'\n",
    "MODEL_DIR='models'\n",
    "\n",
    "BATCH_SIZE=96"
   ]
  },
  {
   "cell_type": "markdown",
   "metadata": {},
   "source": [
    "#### Model analysis plotting and charting functions"
   ]
  },
  {
   "cell_type": "code",
   "execution_count": 2,
   "metadata": {},
   "outputs": [],
   "source": [
    "def plot_metrics(history):\n",
    "    metrics =  ['loss', 'accuracy', 'precision', 'recall']\n",
    "    for n, metric in enumerate(metrics):\n",
    "        name = metric.replace(\"_\",\" \").capitalize()\n",
    "        plt.subplot(2,2,n+1)\n",
    "        plt.plot(history.epoch,  history.history[metric], color=colors[0], label='Train')\n",
    "        plt.plot(history.epoch, history.history['val_'+metric],\n",
    "                 color=colors[0], linestyle=\"--\", label='Val')\n",
    "        plt.xlabel('Epoch')\n",
    "        plt.ylabel(name)\n",
    "        if metric == 'loss':\n",
    "          plt.ylim([0, plt.ylim()[1]])\n",
    "        elif metric == 'auc':\n",
    "          plt.ylim([0.8,1])\n",
    "        else:\n",
    "          plt.ylim([0,1])\n",
    "\n",
    "        plt.legend()\n",
    "    plt.show()\n",
    "\n",
    "\n",
    "#roc curve\n",
    "def plot_roc(name, labels, predictions, **kwargs):\n",
    "    fp, tp, _ = roc_curve(labels, predictions)\n",
    "\n",
    "    plt.plot(100*fp, 100*tp, label=name, linewidth=2, **kwargs)\n",
    "    plt.xlabel('False positives [%]')\n",
    "    plt.ylabel('True positives [%]')\n",
    "    plt.xlim([-0.5,20])\n",
    "    plt.ylim([80,100.5])\n",
    "    plt.grid(True)\n",
    "    ax = plt.gca()\n",
    "    ax.set_aspect('equal')\n",
    "    \n",
    "\n",
    "#confusion matrix\n",
    "def plot_cm(labels, predictions, p=0.5):\n",
    "    cm = confusion_matrix(labels, predictions > p)\n",
    "    plt.figure(figsize=(5,5))\n",
    "    sns.heatmap(cm, annot=True, fmt=\"d\")\n",
    "    plt.title('Confusion matrix @{:.2f}'.format(p))\n",
    "    plt.ylabel('Actual label')\n",
    "    plt.xlabel('Predicted label')\n",
    "    plt.show()\n",
    "    \n",
    "    print('Not Planets Properly Categorized (True Negatives): ', cm[0][0])\n",
    "    print('Not Planets Categorized as Planets Detected (False Positives): ', cm[0][1])\n",
    "    print('Planets Missed (False Negatives): ', cm[1][0])\n",
    "    print('Planets Properly Categorized (True Positives): ', cm[1][1])\n",
    "    print('Total Planets: ', np.sum(cm[1]))\n",
    "    print('Accuracy: ',(cm[0][0]+cm[1][1])/len(predictions))\n",
    "    \n",
    "#takes in the tce index number, the tce id table, the results table (which figures out tp etc),\n",
    "#and the two vector tables and then calls the visualization helper function which\n",
    "#creates a chart and saves inside of processed_data folder structure\n",
    "def chart(tce_number,tce_id,results,x_global,x_local):\n",
    "    kepid=tce_id.loc[tce_number].kepid\n",
    "    result=val_results.loc[tce_number].result\n",
    "    tce_plnt_num=tce_id.loc[tce_number].tce_plnt_num\n",
    "    chart_curves(str(kepid),tce_plnt_num,\n",
    "             result,\n",
    "             x_global_val[tce_number],x_local_val[tce_number])\n",
    "    "
   ]
  },
  {
   "cell_type": "markdown",
   "metadata": {},
   "source": [
    "#### Construct and return a model"
   ]
  },
  {
   "cell_type": "code",
   "execution_count": 3,
   "metadata": {},
   "outputs": [],
   "source": [
    "#make the model\n",
    "METRICS = [\n",
    "          tf.keras.metrics.TruePositives(name='tp'),\n",
    "          tf.keras.metrics.FalsePositives(name='fp'),\n",
    "          tf.keras.metrics.TrueNegatives(name='tn'),\n",
    "          tf.keras.metrics.FalseNegatives(name='fn'), \n",
    "          tf.keras.metrics.BinaryAccuracy(name='accuracy'),\n",
    "          tf.keras.metrics.Precision(name='precision'),\n",
    "          tf.keras.metrics.Recall(name='recall'),\n",
    "          tf.keras.metrics.AUC(name='auc')\n",
    "    ]\n",
    "\n",
    "\n",
    "def make_model(metrics=METRICS,output_bias=None):\n",
    "    input_local = tf.keras.layers.Input(shape=[x_local.shape[1],1])\n",
    "    input_global=tf.keras.layers.Input(shape=[x_global.shape[1],1])\n",
    "\n",
    "    #k_local = tf.keras.layers.BatchNormalization()(input_local)\n",
    "    #k_local=tf.keras.layers.Conv1D(filters=16,kernel_size=5,activation='relu')(k_local)\n",
    "    k_local=tf.keras.layers.Conv1D(filters=16,kernel_size=5,activation='relu')(input_local)\n",
    "\n",
    "    k_local=tf.keras.layers.Conv1D(16,5,activation='relu')(k_local)\n",
    "    k_local=tf.keras.layers.MaxPooling1D(pool_size=7,strides=2,padding='same')(k_local)\n",
    "    k_local=tf.keras.layers.Conv1D(32,5,activation='relu')(k_local)\n",
    "    k_local=tf.keras.layers.Conv1D(32,5,activation='relu')(k_local)\n",
    "    k_local=tf.keras.layers.MaxPooling1D(pool_size=7,strides=2,padding='same')(k_local)\n",
    "    k_local=tf.keras.layers.Flatten()(k_local)\n",
    "\n",
    "    #k_global=tf.keras.layers.BatchNormalization()(input_global)\n",
    "    #k_global=tf.keras.layers.Conv1D(filters=16,kernel_size=5,activation='relu')(k_global)\n",
    "    k_global=tf.keras.layers.Conv1D(filters=16,kernel_size=5,activation='relu')(input_global)\n",
    "\n",
    "    k_global=tf.keras.layers.Conv1D(16,5,activation='relu')(k_global)\n",
    "    k_global=tf.keras.layers.MaxPooling1D(pool_size=5,strides=2,padding='same')(k_global)\n",
    "    k_global=tf.keras.layers.Conv1D(32,5,activation='relu')(k_global)\n",
    "    k_global=tf.keras.layers.Conv1D(32,5,activation='relu')(k_global)\n",
    "    k_global=tf.keras.layers.MaxPooling1D(pool_size=5,strides=2,padding='same')(k_global)\n",
    "    #k_global=tf.keras.layers.Conv1D(64,5,activation='relu')(k_global)\n",
    "    #k_global=tf.keras.layers.Conv1D(64,5,activation='relu')(k_global)\n",
    "    #k_global=tf.keras.layers.MaxPooling1D(pool_size=5,strides=2,padding='same')(k_global)\n",
    "    #k_global=tf.keras.layers.Conv1D(128,5,activation='relu')(k_global)\n",
    "    #k_global=tf.keras.layers.Conv1D(128,5,activation='relu')(k_global)\n",
    "    #k_global=tf.keras.layers.MaxPooling1D(pool_size=5,strides=2,padding='same')(k_global)\n",
    "    #k_global=tf.keras.layers.Conv1D(256,5,activation='relu')(k_global)\n",
    "    #k_global=tf.keras.layers.Conv1D(256,5,activation='relu')(k_global)\n",
    "    #k_global=tf.keras.layers.MaxPooling1D(pool_size=5,strides=2,padding='same')(k_global)\n",
    "    k_global=tf.keras.layers.Flatten()(k_global)\n",
    "\n",
    "    #combines two branches\n",
    "    k = tf.keras.layers.concatenate([k_local, k_global])\n",
    "\n",
    "    k=tf.keras.layers.Dense(512,activation='relu')(k)\n",
    "    k=tf.keras.layers.Dropout(.6)(k)\n",
    "    k=tf.keras.layers.Dense(512,activation='relu')(k)\n",
    "    #k=tf.keras.layers.Dropout(.6)(k)\n",
    "    k=tf.keras.layers.Dense(512,activation='relu')(k)\n",
    "    #k=tf.keras.layers.Dropout(.6)(k)\n",
    "    k=tf.keras.layers.Dense(512,activation='relu')(k)\n",
    "    k=tf.keras.layers.Dropout(.6)(k)\n",
    "\n",
    "    if output_bias is not None:\n",
    "        output_bias=tf.keras.initializers.Constant(output_bias)\n",
    "        \n",
    "    output=tf.keras.layers.Dense(1,activation='sigmoid',bias_initializer=output_bias)(k)\n",
    "\n",
    "    model=tf.keras.Model(inputs=[input_local,input_global],outputs=output)\n",
    "\n",
    "    model.compile(loss=tf.keras.losses.BinaryCrossentropy()\n",
    "                  ,optimizer=tf.keras.optimizers.Adam(lr=1e-3),\n",
    "                  metrics=METRICS)\n",
    "\n",
    "    return(model)"
   ]
  },
  {
   "cell_type": "markdown",
   "metadata": {},
   "source": [
    "#### Read in and process data for use in model"
   ]
  },
  {
   "cell_type": "code",
   "execution_count": 4,
   "metadata": {},
   "outputs": [
    {
     "name": "stdout",
     "output_type": "stream",
     "text": [
      "(34032, 86)\n",
      "(438, 2)\n",
      "(33594, 86)\n"
     ]
    }
   ],
   "source": [
    "#this excludes from tce_list those kepids and planet numbers that failed make_data process\n",
    "processed=pd.read_csv(os.path.join(PROCESSED_DATA_DIR,TCE_LIST))\n",
    "print(processed.shape)\n",
    "try:\n",
    "    failed=pd.read_csv(os.path.join(PROCESSED_DATA_DIR,FAILED_LIST))\n",
    "    failed.columns=['kepid','tce_plnt_num']\n",
    "    print(failed.shape)\n",
    "    for index,row in failed.iterrows():\n",
    "        processed.drop(processed[(processed.kepid==row.kepid) & \n",
    "                                 (processed.tce_plnt_num==row.tce_plnt_num)].index,inplace=True)\n",
    "except:\n",
    "    pass\n",
    "    \n",
    "processed=processed.reset_index(drop=True)\n",
    "print(processed.shape)\n",
    "\n",
    "#maybe need to save processed with failed KEPIDs in it and with a flag - do analysis of how many of those\n",
    "#are confirmed?\n",
    "\n",
    "#save processed list back out (so excludes those KEPIDS/PLNTs with NO light curves)\n",
    "processed.to_csv(os.path.join(PROCESSED_DATA_DIR,PROCESSED_DATA_CATALOG),index=False)"
   ]
  },
  {
   "cell_type": "code",
   "execution_count": 5,
   "metadata": {},
   "outputs": [
    {
     "name": "stdout",
     "output_type": "stream",
     "text": [
      "FALSE POSITIVE    29397\n",
      "CONFIRMED          2345\n",
      "CANDIDATE          1852\n",
      "Name: koi_disposition, dtype: int64\n",
      "0-FALSE POSITIVE    29397\n",
      "1-CONFIRMED          4197\n",
      "Name: koi_disposition, dtype: int64\n",
      "Baseline accuracy: 0.8750669762457581\n"
     ]
    }
   ],
   "source": [
    "print(processed.koi_disposition.value_counts())\n",
    "\n",
    "#combine confirmed and candidate\n",
    "#using 0 and 1 in front of name to force positive class to be planets\n",
    "processed.replace({'koi_disposition':\n",
    "                   {'CANDIDATE':'1-CONFIRMED','CONFIRMED':'1-CONFIRMED','FALSE POSITIVE':'0-FALSE POSITIVE'}},\n",
    "                  inplace=True)\n",
    "\n",
    "print(processed.koi_disposition.value_counts())\n",
    "print('Baseline accuracy:', processed[processed.koi_disposition=='0-FALSE POSITIVE'].shape[0]/processed.shape[0])\n",
    "\n"
   ]
  },
  {
   "cell_type": "code",
   "execution_count": 6,
   "metadata": {},
   "outputs": [
    {
     "name": "stdout",
     "output_type": "stream",
     "text": [
      "(33594, 201)\n",
      "(33594, 2001)\n"
     ]
    }
   ],
   "source": [
    "LOCAL='localbinned_df.csv'\n",
    "GLOBAL='globalbinned_df.csv'\n",
    "x_local=pd.read_csv(os.path.join(PROCESSED_DATA_DIR,LOCAL))\n",
    "x_global=pd.read_csv(os.path.join(PROCESSED_DATA_DIR,GLOBAL))\n",
    "print(x_local.shape)\n",
    "print(x_global.shape)"
   ]
  },
  {
   "cell_type": "code",
   "execution_count": 7,
   "metadata": {},
   "outputs": [],
   "source": [
    "#add kepid and tce_plnt_number to x\n",
    "tce_id=pd.DataFrame()\n",
    "tce_id['kepid']=processed.kepid.astype('int')\n",
    "tce_id['tce_plnt_num']=processed.tce_plnt_num.astype('int')\n",
    "tce_id['koi_disposition']=processed.koi_disposition\n"
   ]
  },
  {
   "cell_type": "code",
   "execution_count": 8,
   "metadata": {},
   "outputs": [
    {
     "name": "stdout",
     "output_type": "stream",
     "text": [
      "(33594, 201)\n",
      "(33594, 2001)\n"
     ]
    }
   ],
   "source": [
    "#turn into numpy arrays/series\n",
    "x_local=x_local.to_numpy()\n",
    "x_global=x_global.to_numpy()\n",
    "print(x_local.shape)\n",
    "print(x_global.shape)"
   ]
  },
  {
   "cell_type": "code",
   "execution_count": 9,
   "metadata": {},
   "outputs": [
    {
     "data": {
      "image/png": "[encoded data removed]",
      "text/plain": [
       "<Figure size 1440x432 with 2 Axes>"
      ]
     },
     "metadata": {
      "needs_background": "light"
     },
     "output_type": "display_data"
    }
   ],
   "source": [
    "#can print out charts\n",
    "tce_number=3\n",
    "chart_curves(tce_id.kepid[tce_number],\n",
    "             tce_id.tce_plnt_num[tce_number],\n",
    "             x_global[tce_number],\n",
    "             x_local[tce_number],\n",
    "             tce_id.koi_disposition[tce_number])\n",
    "\n"
   ]
  },
  {
   "cell_type": "code",
   "execution_count": 10,
   "metadata": {},
   "outputs": [],
   "source": [
    "#scaler_local = StandardScaler()\n",
    "#x_local= scaler_local.fit_transform(x_local)\n",
    "\n",
    "#scaler_global=StandardScaler()\n",
    "#x_global=scaler_global.fit_transform(x_global)\n"
   ]
  },
  {
   "cell_type": "code",
   "execution_count": 11,
   "metadata": {},
   "outputs": [
    {
     "name": "stdout",
     "output_type": "stream",
     "text": [
      "(33594, 201, 1)\n",
      "(33594, 2001, 1)\n"
     ]
    }
   ],
   "source": [
    "#Conv1D layers take in tensors of dimension (length of vector = 201 or 2001, and dimensions of vector=1)\n",
    "#So as with Conv2D in BW where need to add a color dimension here have to specify that there is only one\n",
    "#dimension in each vector\n",
    "x_local=np.expand_dims(x_local,axis=2)\n",
    "x_global=np.expand_dims(x_global,axis=2)\n",
    "\n",
    "print(x_local.shape)\n",
    "print(x_global.shape)"
   ]
  },
  {
   "cell_type": "code",
   "execution_count": 12,
   "metadata": {},
   "outputs": [],
   "source": [
    "#turn output into categorical variable with encoding\n",
    "Y=processed.koi_disposition\n",
    "le=LabelEncoder()\n",
    "le.fit(['1-CONFIRMED','0-FALSE POSITIVE'])\n",
    "Y=le.transform(Y)"
   ]
  },
  {
   "cell_type": "code",
   "execution_count": 13,
   "metadata": {},
   "outputs": [
    {
     "name": "stdout",
     "output_type": "stream",
     "text": [
      "(26875, 201, 1)\n",
      "(26875, 2001, 1)\n",
      "(26875,)\n",
      "(26875, 3)\n",
      "(6719, 201, 1)\n",
      "(6719, 2001, 1)\n",
      "(6719,)\n",
      "(6719, 3)\n"
     ]
    }
   ],
   "source": [
    "x_local_train, x_local_val, x_global_train, x_global_val, Y_train, Y_val,tce_id_train,tce_id_val = train_test_split(\n",
    "    x_local,x_global, Y,tce_id, test_size=0.2)\n",
    "\n",
    "print(x_local_train.shape)\n",
    "print(x_global_train.shape)\n",
    "print(Y_train.shape)\n",
    "print(tce_id_train.shape)\n",
    "print(x_local_val.shape)\n",
    "print(x_global_val.shape)\n",
    "print(Y_val.shape)\n",
    "print(tce_id_val.shape)"
   ]
  },
  {
   "cell_type": "markdown",
   "metadata": {},
   "source": [
    "#### Model setup work"
   ]
  },
  {
   "cell_type": "code",
   "execution_count": 18,
   "metadata": {},
   "outputs": [
    {
     "name": "stdout",
     "output_type": "stream",
     "text": [
      "280/280 [==============================] - 2s 7ms/step - loss: 0.4114 - tp: 0.0000e+00 - fp: 1.0000 - tn: 23472.0000 - fn: 3402.0000 - accuracy: 0.8734 - precision: 0.0000e+00 - recall: 0.0000e+00 - auc: 0.4589\n",
      "Loss: 0.4114\n",
      "29397 4197 33594\n",
      "[-1.94652264]\n",
      "280/280 [==============================] - 2s 7ms/step - loss: 0.3796 - tp: 0.0000e+00 - fp: 1.0000 - tn: 46945.0000 - fn: 6804.0000 - accuracy: 0.8734 - precision: 0.0000e+00 - recall: 0.0000e+00 - auc: 0.4873\n",
      "Loss: 0.3796\n"
     ]
    }
   ],
   "source": [
    "#work on setting initial bias\n",
    "tf.keras.backend.clear_session()\n",
    "model=make_model()\n",
    "model.predict([x_local_train[:10],x_global_train[:10]])\n",
    "results = model.evaluate([x_local_train,x_global_train],Y_train, batch_size=BATCH_SIZE, verbose=1)\n",
    "print(\"Loss: {:0.4f}\".format(results[0]))\n",
    "neg, pos = np.bincount(Y)\n",
    "total = neg + pos\n",
    "print(neg,pos,total)\n",
    "initial_bias=np.log([pos/neg])\n",
    "print(initial_bias)\n",
    "model = make_model(output_bias = initial_bias)\n",
    "model.predict([x_local_train[:10],x_global_train[:10]])\n",
    "results = model.evaluate([x_local_train,x_global_train],Y_train, batch_size=BATCH_SIZE, verbose=1)\n",
    "print(\"Loss: {:0.4f}\".format(results[0]))\n",
    "\n",
    "initial_weights = os.path.join(MODEL_DIR,'initial_weights')\n",
    "model.save_weights(initial_weights)"
   ]
  },
  {
   "cell_type": "code",
   "execution_count": 19,
   "metadata": {},
   "outputs": [
    {
     "data": {
      "image/png": "[encoded data removed]",
      "text/plain": [
       "<IPython.core.display.Image object>"
      ]
     },
     "execution_count": 19,
     "metadata": {},
     "output_type": "execute_result"
    }
   ],
   "source": [
    "tf.keras.utils.plot_model(\n",
    "    model, to_file=os.path.join(MODEL_DIR,'model.png'), show_shapes=True, show_layer_names=True,\n",
    "    rankdir='TB', expand_nested=True, dpi=96\n",
    ")"
   ]
  },
  {
   "cell_type": "code",
   "execution_count": 20,
   "metadata": {},
   "outputs": [
    {
     "name": "stdout",
     "output_type": "stream",
     "text": [
      "Model: \"model_1\"\n",
      "__________________________________________________________________________________________________\n",
      "Layer (type)                    Output Shape         Param #     Connected to                     \n",
      "==================================================================================================\n",
      "input_3 (InputLayer)            [(None, 201, 1)]     0                                            \n",
      "__________________________________________________________________________________________________\n",
      "input_4 (InputLayer)            [(None, 2001, 1)]    0                                            \n",
      "__________________________________________________________________________________________________\n",
      "conv1d_8 (Conv1D)               (None, 197, 16)      96          input_3[0][0]                    \n",
      "__________________________________________________________________________________________________\n",
      "conv1d_12 (Conv1D)              (None, 1997, 16)     96          input_4[0][0]                    \n",
      "__________________________________________________________________________________________________\n",
      "conv1d_9 (Conv1D)               (None, 193, 16)      1296        conv1d_8[0][0]                   \n",
      "__________________________________________________________________________________________________\n",
      "conv1d_13 (Conv1D)              (None, 1993, 16)     1296        conv1d_12[0][0]                  \n",
      "__________________________________________________________________________________________________\n",
      "max_pooling1d_4 (MaxPooling1D)  (None, 97, 16)       0           conv1d_9[0][0]                   \n",
      "__________________________________________________________________________________________________\n",
      "max_pooling1d_6 (MaxPooling1D)  (None, 997, 16)      0           conv1d_13[0][0]                  \n",
      "__________________________________________________________________________________________________\n",
      "conv1d_10 (Conv1D)              (None, 93, 32)       2592        max_pooling1d_4[0][0]            \n",
      "__________________________________________________________________________________________________\n",
      "conv1d_14 (Conv1D)              (None, 993, 32)      2592        max_pooling1d_6[0][0]            \n",
      "__________________________________________________________________________________________________\n",
      "conv1d_11 (Conv1D)              (None, 89, 32)       5152        conv1d_10[0][0]                  \n",
      "__________________________________________________________________________________________________\n",
      "conv1d_15 (Conv1D)              (None, 989, 32)      5152        conv1d_14[0][0]                  \n",
      "__________________________________________________________________________________________________\n",
      "max_pooling1d_5 (MaxPooling1D)  (None, 45, 32)       0           conv1d_11[0][0]                  \n",
      "__________________________________________________________________________________________________\n",
      "max_pooling1d_7 (MaxPooling1D)  (None, 495, 32)      0           conv1d_15[0][0]                  \n",
      "__________________________________________________________________________________________________\n",
      "flatten_2 (Flatten)             (None, 1440)         0           max_pooling1d_5[0][0]            \n",
      "__________________________________________________________________________________________________\n",
      "flatten_3 (Flatten)             (None, 15840)        0           max_pooling1d_7[0][0]            \n",
      "__________________________________________________________________________________________________\n",
      "concatenate_1 (Concatenate)     (None, 17280)        0           flatten_2[0][0]                  \n",
      "                                                                 flatten_3[0][0]                  \n",
      "__________________________________________________________________________________________________\n",
      "dense_5 (Dense)                 (None, 512)          8847872     concatenate_1[0][0]              \n",
      "__________________________________________________________________________________________________\n",
      "dropout_2 (Dropout)             (None, 512)          0           dense_5[0][0]                    \n",
      "__________________________________________________________________________________________________\n",
      "dense_6 (Dense)                 (None, 512)          262656      dropout_2[0][0]                  \n",
      "__________________________________________________________________________________________________\n",
      "dense_7 (Dense)                 (None, 512)          262656      dense_6[0][0]                    \n",
      "__________________________________________________________________________________________________\n",
      "dense_8 (Dense)                 (None, 512)          262656      dense_7[0][0]                    \n",
      "__________________________________________________________________________________________________\n",
      "dropout_3 (Dropout)             (None, 512)          0           dense_8[0][0]                    \n",
      "__________________________________________________________________________________________________\n",
      "dense_9 (Dense)                 (None, 1)            513         dropout_3[0][0]                  \n",
      "==================================================================================================\n",
      "Total params: 9,654,625\n",
      "Trainable params: 9,654,625\n",
      "Non-trainable params: 0\n",
      "__________________________________________________________________________________________________\n"
     ]
    }
   ],
   "source": [
    "model.summary()"
   ]
  },
  {
   "cell_type": "markdown",
   "metadata": {},
   "source": [
    "#### Train model"
   ]
  },
  {
   "cell_type": "code",
   "execution_count": 21,
   "metadata": {},
   "outputs": [],
   "source": [
    "early_stopping = tf.keras.callbacks.EarlyStopping(\n",
    "    monitor='val_accuracy', \n",
    "    verbose=1,\n",
    "    patience=5,\n",
    "    mode='max',\n",
    "    restore_best_weights=True)"
   ]
  },
  {
   "cell_type": "code",
   "execution_count": 22,
   "metadata": {},
   "outputs": [
    {
     "name": "stdout",
     "output_type": "stream",
     "text": [
      "Epoch 1/20\n",
      "280/280 [==============================] - 6s 22ms/step - loss: 0.1824 - tp: 2062.0000 - fp: 567.0000 - tn: 69852.0000 - fn: 8144.0000 - accuracy: 0.8920 - precision: 0.7843 - recall: 0.2020 - auc: 0.7113 - val_loss: 0.1299 - val_tp: 582.0000 - val_fp: 74.0000 - val_tn: 5850.0000 - val_fn: 213.0000 - val_accuracy: 0.9573 - val_precision: 0.8872 - val_recall: 0.7321 - val_auc: 0.9607\n",
      "Epoch 2/20\n",
      "280/280 [==============================] - 5s 17ms/step - loss: 0.1389 - tp: 2558.0000 - fp: 476.0000 - tn: 22997.0000 - fn: 844.0000 - accuracy: 0.9509 - precision: 0.8431 - recall: 0.7519 - auc: 0.9636 - val_loss: 0.1196 - val_tp: 609.0000 - val_fp: 67.0000 - val_tn: 5857.0000 - val_fn: 186.0000 - val_accuracy: 0.9623 - val_precision: 0.9009 - val_recall: 0.7660 - val_auc: 0.9681\n",
      "Epoch 3/20\n",
      "280/280 [==============================] - 5s 17ms/step - loss: 0.1253 - tp: 2721.0000 - fp: 464.0000 - tn: 23009.0000 - fn: 681.0000 - accuracy: 0.9574 - precision: 0.8543 - recall: 0.7998 - auc: 0.9695 - val_loss: 0.1200 - val_tp: 572.0000 - val_fp: 58.0000 - val_tn: 5866.0000 - val_fn: 223.0000 - val_accuracy: 0.9582 - val_precision: 0.9079 - val_recall: 0.7195 - val_auc: 0.9706\n",
      "Epoch 4/20\n",
      "280/280 [==============================] - 5s 17ms/step - loss: 0.1222 - tp: 2693.0000 - fp: 431.0000 - tn: 23042.0000 - fn: 709.0000 - accuracy: 0.9576 - precision: 0.8620 - recall: 0.7916 - auc: 0.9707 - val_loss: 0.1107 - val_tp: 617.0000 - val_fp: 62.0000 - val_tn: 5862.0000 - val_fn: 178.0000 - val_accuracy: 0.9643 - val_precision: 0.9087 - val_recall: 0.7761 - val_auc: 0.9728\n",
      "Epoch 5/20\n",
      "280/280 [==============================] - 5s 17ms/step - loss: 0.1138 - tp: 2786.0000 - fp: 418.0000 - tn: 23055.0000 - fn: 616.0000 - accuracy: 0.9615 - precision: 0.8695 - recall: 0.8189 - auc: 0.9744 - val_loss: 0.1103 - val_tp: 615.0000 - val_fp: 59.0000 - val_tn: 5865.0000 - val_fn: 180.0000 - val_accuracy: 0.9644 - val_precision: 0.9125 - val_recall: 0.7736 - val_auc: 0.9712\n",
      "Epoch 6/20\n",
      "280/280 [==============================] - 5s 17ms/step - loss: 0.1082 - tp: 2788.0000 - fp: 387.0000 - tn: 23086.0000 - fn: 614.0000 - accuracy: 0.9628 - precision: 0.8781 - recall: 0.8195 - auc: 0.9782 - val_loss: 0.1158 - val_tp: 635.0000 - val_fp: 71.0000 - val_tn: 5853.0000 - val_fn: 160.0000 - val_accuracy: 0.9656 - val_precision: 0.8994 - val_recall: 0.7987 - val_auc: 0.9688\n",
      "Epoch 7/20\n",
      "280/280 [==============================] - 5s 17ms/step - loss: 0.0976 - tp: 2894.0000 - fp: 392.0000 - tn: 23081.0000 - fn: 508.0000 - accuracy: 0.9665 - precision: 0.8807 - recall: 0.8507 - auc: 0.9808 - val_loss: 0.1185 - val_tp: 640.0000 - val_fp: 96.0000 - val_tn: 5828.0000 - val_fn: 155.0000 - val_accuracy: 0.9626 - val_precision: 0.8696 - val_recall: 0.8050 - val_auc: 0.9678\n",
      "Epoch 8/20\n",
      "280/280 [==============================] - 5s 17ms/step - loss: 0.0929 - tp: 2906.0000 - fp: 372.0000 - tn: 23101.0000 - fn: 496.0000 - accuracy: 0.9677 - precision: 0.8865 - recall: 0.8542 - auc: 0.9839 - val_loss: 0.1147 - val_tp: 682.0000 - val_fp: 143.0000 - val_tn: 5781.0000 - val_fn: 113.0000 - val_accuracy: 0.9619 - val_precision: 0.8267 - val_recall: 0.8579 - val_auc: 0.9663\n",
      "Epoch 9/20\n",
      "280/280 [==============================] - 5s 17ms/step - loss: 0.0826 - tp: 2965.0000 - fp: 338.0000 - tn: 23135.0000 - fn: 437.0000 - accuracy: 0.9712 - precision: 0.8977 - recall: 0.8715 - auc: 0.9864 - val_loss: 0.1291 - val_tp: 605.0000 - val_fp: 77.0000 - val_tn: 5847.0000 - val_fn: 190.0000 - val_accuracy: 0.9603 - val_precision: 0.8871 - val_recall: 0.7610 - val_auc: 0.9668\n",
      "Epoch 10/20\n",
      "280/280 [==============================] - 5s 17ms/step - loss: 0.0710 - tp: 3013.0000 - fp: 284.0000 - tn: 23189.0000 - fn: 389.0000 - accuracy: 0.9750 - precision: 0.9139 - recall: 0.8857 - auc: 0.9904 - val_loss: 0.1289 - val_tp: 626.0000 - val_fp: 85.0000 - val_tn: 5839.0000 - val_fn: 169.0000 - val_accuracy: 0.9622 - val_precision: 0.8805 - val_recall: 0.7874 - val_auc: 0.9680\n",
      "Epoch 11/20\n",
      "280/280 [==============================] - ETA: 0s - loss: 0.0617 - tp: 3064.0000 - fp: 250.0000 - tn: 23223.0000 - fn: 338.0000 - accuracy: 0.9781 - precision: 0.9246 - recall: 0.9006 - auc: 0.9929Restoring model weights from the end of the best epoch.\n",
      "280/280 [==============================] - 5s 18ms/step - loss: 0.0617 - tp: 3064.0000 - fp: 250.0000 - tn: 23223.0000 - fn: 338.0000 - accuracy: 0.9781 - precision: 0.9246 - recall: 0.9006 - auc: 0.9929 - val_loss: 0.1435 - val_tp: 619.0000 - val_fp: 91.0000 - val_tn: 5833.0000 - val_fn: 176.0000 - val_accuracy: 0.9603 - val_precision: 0.8718 - val_recall: 0.7786 - val_auc: 0.9627\n",
      "Epoch 00011: early stopping\n"
     ]
    }
   ],
   "source": [
    "tf.keras.backend.clear_session()\n",
    "model=make_model()\n",
    "model.load_weights(initial_weights)\n",
    "\n",
    "#history=model.fit([x_local_train,x_global_train],\n",
    "#                  Y_train,\n",
    "#                  validation_data=([x_local_val,x_global_val],Y_val),\n",
    "#                  steps_per_epoch=25,\n",
    "#                  epochs=EPOCHS*20,\n",
    "#                  callbacks=[early_stopping],\n",
    "#                  verbose=1)\n",
    "\n",
    "EPOCHS=20\n",
    "\n",
    "\n",
    "\n",
    "history=model.fit([x_local_train,x_global_train],\n",
    "                  Y_train,\n",
    "                  validation_data=([x_local_val,x_global_val],Y_val),\n",
    "                  batch_size=BATCH_SIZE,\n",
    "                  epochs=EPOCHS,\n",
    "                  callbacks=[early_stopping],\n",
    "                  verbose=1)\n",
    "\n"
   ]
  },
  {
   "cell_type": "markdown",
   "metadata": {},
   "source": [
    "#### Save model"
   ]
  },
  {
   "cell_type": "code",
   "execution_count": 50,
   "metadata": {},
   "outputs": [
    {
     "name": "stdout",
     "output_type": "stream",
     "text": [
      "INFO:tensorflow:Assets written to: models/normal_model/assets\n"
     ]
    }
   ],
   "source": [
    "model.save(os.path.join(MODEL_DIR,'normal_model'))\n"
   ]
  },
  {
   "cell_type": "markdown",
   "metadata": {},
   "source": [
    "#### Load model"
   ]
  },
  {
   "cell_type": "code",
   "execution_count": null,
   "metadata": {},
   "outputs": [],
   "source": [
    "model = tf.keras.models.load_model(os.path.join(MODEL_DIR,'normal_model'))\n",
    "model.summary()"
   ]
  },
  {
   "cell_type": "code",
   "execution_count": 23,
   "metadata": {},
   "outputs": [],
   "source": [
    "val_predictions_baseline = model.predict([x_local_val,x_global_val], batch_size=BATCH_SIZE)\n",
    "train_predictions_baseline = model.predict([x_local_train,x_global_train], batch_size=BATCH_SIZE)"
   ]
  },
  {
   "cell_type": "code",
   "execution_count": 24,
   "metadata": {
    "scrolled": false
   },
   "outputs": [
    {
     "data": {
      "image/png": "[encoded data removed]",
      "text/plain": [
       "<Figure size 864x720 with 4 Axes>"
      ]
     },
     "metadata": {
      "needs_background": "light"
     },
     "output_type": "display_data"
    },
    {
     "data": {
      "image/png": "[encoded data removed]",
      "text/plain": [
       "<Figure size 360x360 with 2 Axes>"
      ]
     },
     "metadata": {
      "needs_background": "light"
     },
     "output_type": "display_data"
    },
    {
     "name": "stdout",
     "output_type": "stream",
     "text": [
      "Not Planets Properly Categorized (True Negatives):  5870\n",
      "Not Planets Categorized as Planets Detected (False Positives):  54\n",
      "Planets Missed (False Negatives):  203\n",
      "Planets Properly Categorized (True Positives):  592\n",
      "Total Planets:  795\n",
      "Accuracy:  0.9617502604554249\n"
     ]
    },
    {
     "data": {
      "image/png": "[encoded data removed]",
      "text/plain": [
       "<Figure size 360x360 with 2 Axes>"
      ]
     },
     "metadata": {
      "needs_background": "light"
     },
     "output_type": "display_data"
    },
    {
     "name": "stdout",
     "output_type": "stream",
     "text": [
      "Not Planets Properly Categorized (True Negatives):  5853\n",
      "Not Planets Categorized as Planets Detected (False Positives):  71\n",
      "Planets Missed (False Negatives):  160\n",
      "Planets Properly Categorized (True Positives):  635\n",
      "Total Planets:  795\n",
      "Accuracy:  0.9656198839112963\n"
     ]
    },
    {
     "data": {
      "image/png": "[encoded data removed]",
      "text/plain": [
       "<Figure size 360x360 with 2 Axes>"
      ]
     },
     "metadata": {
      "needs_background": "light"
     },
     "output_type": "display_data"
    },
    {
     "name": "stdout",
     "output_type": "stream",
     "text": [
      "Not Planets Properly Categorized (True Negatives):  5839\n",
      "Not Planets Categorized as Planets Detected (False Positives):  85\n",
      "Planets Missed (False Negatives):  134\n",
      "Planets Properly Categorized (True Positives):  661\n",
      "Total Planets:  795\n",
      "Accuracy:  0.9674058639678523\n"
     ]
    },
    {
     "data": {
      "text/plain": [
       "<matplotlib.legend.Legend at 0x7f4a9428f1d0>"
      ]
     },
     "execution_count": 24,
     "metadata": {},
     "output_type": "execute_result"
    },
    {
     "data": {
      "image/png": "[encoded data removed]",
      "text/plain": [
       "<Figure size 864x720 with 1 Axes>"
      ]
     },
     "metadata": {
      "needs_background": "light"
     },
     "output_type": "display_data"
    }
   ],
   "source": [
    "plot_metrics(history)\n",
    "\n",
    "plot_cm(Y_val, val_predictions_baseline,p=.6)\n",
    "plot_cm(Y_val, val_predictions_baseline)\n",
    "plot_cm(Y_val, val_predictions_baseline,p=.4)\n",
    "\n",
    "\n",
    "plot_roc(\"Train Baseline\", Y_train, train_predictions_baseline, color=colors[0])\n",
    "plot_roc(\"Test Baseline\", Y_val, val_predictions_baseline, color=colors[0], linestyle='--')\n",
    "plt.legend(loc='lower right')"
   ]
  },
  {
   "cell_type": "markdown",
   "metadata": {},
   "source": [
    "#### Create Disposition Prediction for Entire Dataset"
   ]
  },
  {
   "cell_type": "code",
   "execution_count": 28,
   "metadata": {},
   "outputs": [
    {
     "data": {
      "text/plain": [
       "array([[0.00292027],\n",
       "       [0.00032339],\n",
       "       [0.00001524],\n",
       "       ...,\n",
       "       [0.00307733],\n",
       "       [0.0055193 ],\n",
       "       [0.2659907 ]], dtype=float32)"
      ]
     },
     "execution_count": 28,
     "metadata": {},
     "output_type": "execute_result"
    }
   ],
   "source": [
    "full_predictions = model.predict([x_local,x_global])\n",
    "full_predictions\n"
   ]
  },
  {
   "cell_type": "code",
   "execution_count": 29,
   "metadata": {},
   "outputs": [
    {
     "name": "stdout",
     "output_type": "stream",
     "text": [
      "(33594, 1)\n",
      "(33594,)\n"
     ]
    },
    {
     "data": {
      "image/png": "[encoded data removed]",
      "text/plain": [
       "<Figure size 360x360 with 2 Axes>"
      ]
     },
     "metadata": {
      "needs_background": "light"
     },
     "output_type": "display_data"
    },
    {
     "name": "stdout",
     "output_type": "stream",
     "text": [
      "Not Planets Properly Categorized (True Negatives):  29071\n",
      "Not Planets Categorized as Planets Detected (False Positives):  326\n",
      "Planets Missed (False Negatives):  706\n",
      "Planets Properly Categorized (True Positives):  3491\n",
      "Total Planets:  4197\n",
      "Accuracy:  0.9692802286122522\n"
     ]
    }
   ],
   "source": [
    "print(full_predictions.shape)\n",
    "print(Y.shape)\n",
    "plot_cm(Y, full_predictions)"
   ]
  },
  {
   "cell_type": "code",
   "execution_count": 117,
   "metadata": {},
   "outputs": [],
   "source": [
    "processed_final=processed.copy()\n",
    "processed_final['w2p_score']=full_predictions\n",
    "processed_final['w2p_disposition']='FALSE POSITIVE'\n",
    "processed_final.loc[processed_final.w2p_score>=0.5,['w2p_disposition']]='CONFIRMED'\n",
    "processed_final.replace({'koi_disposition':\n",
    "                   {'1-CONFIRMED':'CONFIRMED','0-FALSE POSITIVE':'FALSE POSITIVE'}},\n",
    "                  inplace=True)"
   ]
  },
  {
   "cell_type": "code",
   "execution_count": 118,
   "metadata": {},
   "outputs": [
    {
     "name": "stdout",
     "output_type": "stream",
     "text": [
      "w2p_disposition: FALSE POSITIVE    29777\n",
      "CONFIRMED          3817\n",
      "Name: w2p_disposition, dtype: int64\n",
      "koi disposition: FALSE POSITIVE    29397\n",
      "CONFIRMED          4197\n",
      "Name: koi_disposition, dtype: int64\n",
      "koi pdisposition: FALSE POSITIVE    29403\n",
      "CANDIDATE          4191\n",
      "Name: koi_pdisposition, dtype: int64\n",
      "koi pdisposition: FALSE POSITIVE    29403\n",
      "CANDIDATE          4191\n",
      "Name: koi_pdisposition, dtype: int64\n"
     ]
    }
   ],
   "source": [
    "#key columns to compare\n",
    "#koi_disposition\n",
    "#https://exoplanetarchive.ipac.caltech.edu/docs/API_kepcandidate_columns.html\n",
    "#https://exoplanetarchive.ipac.caltech.edu/docs/API_kepcandidate_columns.html (has AV descriptions)\n",
    "#koi_pdisposition and koi_score are ROBOVETTER outcomes (where available)\n",
    "\n",
    "print('w2p_disposition:',processed_final.w2p_disposition.value_counts())\n",
    "print('koi disposition:',processed_final.koi_disposition.value_counts())\n",
    "print('koi pdisposition:',processed_final.koi_pdisposition.value_counts())\n",
    "print('koi pdisposition:',processed_final.koi_pdisposition.value_counts())\n",
    "\n"
   ]
  },
  {
   "cell_type": "code",
   "execution_count": 119,
   "metadata": {},
   "outputs": [
    {
     "name": "stdout",
     "output_type": "stream",
     "text": [
      "AV disposition: FALSE POSITIVE    29833\n",
      "CONFIRMED          3761\n",
      "Name: av_disposition, dtype: int64\n"
     ]
    }
   ],
   "source": [
    "#av_pp_pc is posterior probability score from autovetter model (where available).  \n",
    "#Have divided by 100 to make comparable to koi_score\n",
    "#and created a column representing AV disposition / unclear how differs from av_pred_class\n",
    "processed_final.av_vf_pc=processed_final.av_vf_pc/100\n",
    "processed_final['av_disposition']='FALSE POSITIVE'\n",
    "processed_final.loc[processed_final.av_vf_pc>.5,['av_disposition']]='CONFIRMED'\n",
    "print('AV disposition:',processed_final.av_disposition.value_counts())"
   ]
  },
  {
   "cell_type": "code",
   "execution_count": 120,
   "metadata": {},
   "outputs": [],
   "source": [
    "#replacing koi_score with zero where NAN.  Only 8000 of TCEs had koi_score and koi_pdisposition (ie robovetter)\n",
    "#same with av_vf_pc\n",
    "processed_final.koi_score.fillna(0,inplace=True)\n",
    "processed_final.av_vf_pc.fillna(0,inplace=True)"
   ]
  },
  {
   "cell_type": "code",
   "execution_count": 122,
   "metadata": {},
   "outputs": [
    {
     "data": {
      "text/html": [
       "<div>\n",
       "<style scoped>\n",
       "    .dataframe tbody tr th:only-of-type {\n",
       "        vertical-align: middle;\n",
       "    }\n",
       "\n",
       "    .dataframe tbody tr th {\n",
       "        vertical-align: top;\n",
       "    }\n",
       "\n",
       "    .dataframe thead th {\n",
       "        text-align: right;\n",
       "    }\n",
       "</style>\n",
       "<table border=\"1\" class=\"dataframe\">\n",
       "  <thead>\n",
       "    <tr style=\"text-align: right;\">\n",
       "      <th></th>\n",
       "      <th>kepid</th>\n",
       "      <th>tce_plnt_num</th>\n",
       "      <th>koi_disposition</th>\n",
       "      <th>koi_score</th>\n",
       "      <th>koi_pdisposition</th>\n",
       "      <th>w2p_score</th>\n",
       "      <th>w2p_disposition</th>\n",
       "      <th>av_disposition</th>\n",
       "      <th>av_vf_pc</th>\n",
       "    </tr>\n",
       "  </thead>\n",
       "  <tbody>\n",
       "    <tr>\n",
       "      <th>152</th>\n",
       "      <td>1575873</td>\n",
       "      <td>1</td>\n",
       "      <td>FALSE POSITIVE</td>\n",
       "      <td>1.00000</td>\n",
       "      <td>FALSE POSITIVE</td>\n",
       "      <td>0.05936</td>\n",
       "      <td>FALSE POSITIVE</td>\n",
       "      <td>FALSE POSITIVE</td>\n",
       "      <td>0.06109</td>\n",
       "    </tr>\n",
       "    <tr>\n",
       "      <th>1797</th>\n",
       "      <td>3757590</td>\n",
       "      <td>1</td>\n",
       "      <td>FALSE POSITIVE</td>\n",
       "      <td>0.69500</td>\n",
       "      <td>FALSE POSITIVE</td>\n",
       "      <td>0.07564</td>\n",
       "      <td>FALSE POSITIVE</td>\n",
       "      <td>FALSE POSITIVE</td>\n",
       "      <td>0.04012</td>\n",
       "    </tr>\n",
       "    <tr>\n",
       "      <th>1810</th>\n",
       "      <td>3848948</td>\n",
       "      <td>1</td>\n",
       "      <td>FALSE POSITIVE</td>\n",
       "      <td>0.79100</td>\n",
       "      <td>FALSE POSITIVE</td>\n",
       "      <td>0.01425</td>\n",
       "      <td>FALSE POSITIVE</td>\n",
       "      <td>FALSE POSITIVE</td>\n",
       "      <td>0.06569</td>\n",
       "    </tr>\n",
       "    <tr>\n",
       "      <th>1826</th>\n",
       "      <td>3547760</td>\n",
       "      <td>1</td>\n",
       "      <td>FALSE POSITIVE</td>\n",
       "      <td>0.98100</td>\n",
       "      <td>FALSE POSITIVE</td>\n",
       "      <td>0.60197</td>\n",
       "      <td>CONFIRMED</td>\n",
       "      <td>CONFIRMED</td>\n",
       "      <td>0.91787</td>\n",
       "    </tr>\n",
       "    <tr>\n",
       "      <th>1974</th>\n",
       "      <td>3831523</td>\n",
       "      <td>1</td>\n",
       "      <td>FALSE POSITIVE</td>\n",
       "      <td>0.77500</td>\n",
       "      <td>FALSE POSITIVE</td>\n",
       "      <td>0.01803</td>\n",
       "      <td>FALSE POSITIVE</td>\n",
       "      <td>FALSE POSITIVE</td>\n",
       "      <td>0.00361</td>\n",
       "    </tr>\n",
       "    <tr>\n",
       "      <th>...</th>\n",
       "      <td>...</td>\n",
       "      <td>...</td>\n",
       "      <td>...</td>\n",
       "      <td>...</td>\n",
       "      <td>...</td>\n",
       "      <td>...</td>\n",
       "      <td>...</td>\n",
       "      <td>...</td>\n",
       "      <td>...</td>\n",
       "    </tr>\n",
       "    <tr>\n",
       "      <th>32989</th>\n",
       "      <td>11974540</td>\n",
       "      <td>1</td>\n",
       "      <td>CONFIRMED</td>\n",
       "      <td>1.00000</td>\n",
       "      <td>FALSE POSITIVE</td>\n",
       "      <td>0.69357</td>\n",
       "      <td>CONFIRMED</td>\n",
       "      <td>CONFIRMED</td>\n",
       "      <td>0.81810</td>\n",
       "    </tr>\n",
       "    <tr>\n",
       "      <th>33018</th>\n",
       "      <td>11820830</td>\n",
       "      <td>1</td>\n",
       "      <td>FALSE POSITIVE</td>\n",
       "      <td>0.99400</td>\n",
       "      <td>FALSE POSITIVE</td>\n",
       "      <td>0.26735</td>\n",
       "      <td>FALSE POSITIVE</td>\n",
       "      <td>FALSE POSITIVE</td>\n",
       "      <td>0.07924</td>\n",
       "    </tr>\n",
       "    <tr>\n",
       "      <th>33025</th>\n",
       "      <td>11869052</td>\n",
       "      <td>1</td>\n",
       "      <td>FALSE POSITIVE</td>\n",
       "      <td>0.57300</td>\n",
       "      <td>FALSE POSITIVE</td>\n",
       "      <td>0.09049</td>\n",
       "      <td>FALSE POSITIVE</td>\n",
       "      <td>CONFIRMED</td>\n",
       "      <td>0.53663</td>\n",
       "    </tr>\n",
       "    <tr>\n",
       "      <th>33268</th>\n",
       "      <td>12004971</td>\n",
       "      <td>1</td>\n",
       "      <td>FALSE POSITIVE</td>\n",
       "      <td>1.00000</td>\n",
       "      <td>FALSE POSITIVE</td>\n",
       "      <td>0.65369</td>\n",
       "      <td>CONFIRMED</td>\n",
       "      <td>CONFIRMED</td>\n",
       "      <td>0.89296</td>\n",
       "    </tr>\n",
       "    <tr>\n",
       "      <th>33418</th>\n",
       "      <td>11911561</td>\n",
       "      <td>1</td>\n",
       "      <td>FALSE POSITIVE</td>\n",
       "      <td>1.00000</td>\n",
       "      <td>FALSE POSITIVE</td>\n",
       "      <td>0.42309</td>\n",
       "      <td>FALSE POSITIVE</td>\n",
       "      <td>CONFIRMED</td>\n",
       "      <td>0.81788</td>\n",
       "    </tr>\n",
       "  </tbody>\n",
       "</table>\n",
       "<p>118 rows × 9 columns</p>\n",
       "</div>"
      ],
      "text/plain": [
       "          kepid  tce_plnt_num koi_disposition  koi_score koi_pdisposition  \\\n",
       "152     1575873             1  FALSE POSITIVE    1.00000   FALSE POSITIVE   \n",
       "1797    3757590             1  FALSE POSITIVE    0.69500   FALSE POSITIVE   \n",
       "1810    3848948             1  FALSE POSITIVE    0.79100   FALSE POSITIVE   \n",
       "1826    3547760             1  FALSE POSITIVE    0.98100   FALSE POSITIVE   \n",
       "1974    3831523             1  FALSE POSITIVE    0.77500   FALSE POSITIVE   \n",
       "...         ...           ...             ...        ...              ...   \n",
       "32989  11974540             1       CONFIRMED    1.00000   FALSE POSITIVE   \n",
       "33018  11820830             1  FALSE POSITIVE    0.99400   FALSE POSITIVE   \n",
       "33025  11869052             1  FALSE POSITIVE    0.57300   FALSE POSITIVE   \n",
       "33268  12004971             1  FALSE POSITIVE    1.00000   FALSE POSITIVE   \n",
       "33418  11911561             1  FALSE POSITIVE    1.00000   FALSE POSITIVE   \n",
       "\n",
       "       w2p_score w2p_disposition  av_disposition  av_vf_pc  \n",
       "152      0.05936  FALSE POSITIVE  FALSE POSITIVE   0.06109  \n",
       "1797     0.07564  FALSE POSITIVE  FALSE POSITIVE   0.04012  \n",
       "1810     0.01425  FALSE POSITIVE  FALSE POSITIVE   0.06569  \n",
       "1826     0.60197       CONFIRMED       CONFIRMED   0.91787  \n",
       "1974     0.01803  FALSE POSITIVE  FALSE POSITIVE   0.00361  \n",
       "...          ...             ...             ...       ...  \n",
       "32989    0.69357       CONFIRMED       CONFIRMED   0.81810  \n",
       "33018    0.26735  FALSE POSITIVE  FALSE POSITIVE   0.07924  \n",
       "33025    0.09049  FALSE POSITIVE       CONFIRMED   0.53663  \n",
       "33268    0.65369       CONFIRMED       CONFIRMED   0.89296  \n",
       "33418    0.42309  FALSE POSITIVE       CONFIRMED   0.81788  \n",
       "\n",
       "[118 rows x 9 columns]"
      ]
     },
     "execution_count": 122,
     "metadata": {},
     "output_type": "execute_result"
    }
   ],
   "source": [
    "#koi_score is RV monte carlo prob.  koi_pdisposition is some subjective measure beyond RV score\n",
    "processed_final[(processed_final.koi_score>=0.5)&(processed_final.koi_pdisposition=='FALSE POSITIVE')][[\n",
    "    'kepid','tce_plnt_num','koi_disposition','koi_score','koi_pdisposition','w2p_score','w2p_disposition','av_disposition','av_vf_pc']]"
   ]
  },
  {
   "cell_type": "markdown",
   "metadata": {},
   "source": [
    "#### Key column descriptions\n",
    "- koi_disposition:  ground truth\n",
    "- w2p_score: w2p probability\n",
    "- w2p_disposition: w2p disposition\n",
    "- koi_score: robovetter probability\n",
    "- koi_pdisposition: robovetter disposition (though does not exactly match up with koi_score>0.5- unclear why)\n",
    "- av_disposition: autovetter disposition (does not exactly match up with av_vf_pc>0- unclear why)\n",
    "- av_vf_pc: autovetter probability (not posterior)\n",
    "\n",
    "Links for other column descriptions:\n",
    "\n",
    "https://exoplanetarchive.ipac.caltech.edu/docs/API_kepcandidate_columns.html\n",
    "\n",
    "https://exoplanetarchive.ipac.caltech.edu/docs/API_tce_columns.html (has AV descriptions)"
   ]
  },
  {
   "cell_type": "code",
   "execution_count": 124,
   "metadata": {},
   "outputs": [
    {
     "data": {
      "text/html": [
       "<div>\n",
       "<style scoped>\n",
       "    .dataframe tbody tr th:only-of-type {\n",
       "        vertical-align: middle;\n",
       "    }\n",
       "\n",
       "    .dataframe tbody tr th {\n",
       "        vertical-align: top;\n",
       "    }\n",
       "\n",
       "    .dataframe thead th {\n",
       "        text-align: right;\n",
       "    }\n",
       "</style>\n",
       "<table border=\"1\" class=\"dataframe\">\n",
       "  <thead>\n",
       "    <tr style=\"text-align: right;\">\n",
       "      <th></th>\n",
       "      <th>kepid</th>\n",
       "      <th>tce_plnt_num</th>\n",
       "      <th>koi_disposition</th>\n",
       "      <th>w2p_score</th>\n",
       "      <th>w2p_disposition</th>\n",
       "      <th>koi_score</th>\n",
       "      <th>koi_pdisposition</th>\n",
       "      <th>av_disposition</th>\n",
       "      <th>av_vf_pc</th>\n",
       "    </tr>\n",
       "  </thead>\n",
       "  <tbody>\n",
       "    <tr>\n",
       "      <th>0</th>\n",
       "      <td>2304168</td>\n",
       "      <td>2</td>\n",
       "      <td>FALSE POSITIVE</td>\n",
       "      <td>0.00292</td>\n",
       "      <td>FALSE POSITIVE</td>\n",
       "      <td>0.00000</td>\n",
       "      <td>FALSE POSITIVE</td>\n",
       "      <td>FALSE POSITIVE</td>\n",
       "      <td>0.00099</td>\n",
       "    </tr>\n",
       "    <tr>\n",
       "      <th>1</th>\n",
       "      <td>2304235</td>\n",
       "      <td>1</td>\n",
       "      <td>FALSE POSITIVE</td>\n",
       "      <td>0.00032</td>\n",
       "      <td>FALSE POSITIVE</td>\n",
       "      <td>0.00000</td>\n",
       "      <td>FALSE POSITIVE</td>\n",
       "      <td>FALSE POSITIVE</td>\n",
       "      <td>0.00390</td>\n",
       "    </tr>\n",
       "    <tr>\n",
       "      <th>2</th>\n",
       "      <td>2304566</td>\n",
       "      <td>1</td>\n",
       "      <td>FALSE POSITIVE</td>\n",
       "      <td>0.00002</td>\n",
       "      <td>FALSE POSITIVE</td>\n",
       "      <td>0.00000</td>\n",
       "      <td>FALSE POSITIVE</td>\n",
       "      <td>FALSE POSITIVE</td>\n",
       "      <td>0.00566</td>\n",
       "    </tr>\n",
       "    <tr>\n",
       "      <th>3</th>\n",
       "      <td>2304320</td>\n",
       "      <td>1</td>\n",
       "      <td>CONFIRMED</td>\n",
       "      <td>0.97901</td>\n",
       "      <td>CONFIRMED</td>\n",
       "      <td>0.99800</td>\n",
       "      <td>CANDIDATE</td>\n",
       "      <td>CONFIRMED</td>\n",
       "      <td>0.97850</td>\n",
       "    </tr>\n",
       "    <tr>\n",
       "      <th>4</th>\n",
       "      <td>2303365</td>\n",
       "      <td>2</td>\n",
       "      <td>FALSE POSITIVE</td>\n",
       "      <td>0.00062</td>\n",
       "      <td>FALSE POSITIVE</td>\n",
       "      <td>0.00000</td>\n",
       "      <td>FALSE POSITIVE</td>\n",
       "      <td>FALSE POSITIVE</td>\n",
       "      <td>0.00000</td>\n",
       "    </tr>\n",
       "    <tr>\n",
       "      <th>...</th>\n",
       "      <td>...</td>\n",
       "      <td>...</td>\n",
       "      <td>...</td>\n",
       "      <td>...</td>\n",
       "      <td>...</td>\n",
       "      <td>...</td>\n",
       "      <td>...</td>\n",
       "      <td>...</td>\n",
       "      <td>...</td>\n",
       "    </tr>\n",
       "    <tr>\n",
       "      <th>33589</th>\n",
       "      <td>11912947</td>\n",
       "      <td>6</td>\n",
       "      <td>FALSE POSITIVE</td>\n",
       "      <td>0.00000</td>\n",
       "      <td>FALSE POSITIVE</td>\n",
       "      <td>0.00000</td>\n",
       "      <td>FALSE POSITIVE</td>\n",
       "      <td>FALSE POSITIVE</td>\n",
       "      <td>0.00000</td>\n",
       "    </tr>\n",
       "    <tr>\n",
       "      <th>33590</th>\n",
       "      <td>11922283</td>\n",
       "      <td>3</td>\n",
       "      <td>FALSE POSITIVE</td>\n",
       "      <td>0.00087</td>\n",
       "      <td>FALSE POSITIVE</td>\n",
       "      <td>0.00000</td>\n",
       "      <td>FALSE POSITIVE</td>\n",
       "      <td>FALSE POSITIVE</td>\n",
       "      <td>0.00000</td>\n",
       "    </tr>\n",
       "    <tr>\n",
       "      <th>33591</th>\n",
       "      <td>11922283</td>\n",
       "      <td>4</td>\n",
       "      <td>FALSE POSITIVE</td>\n",
       "      <td>0.00308</td>\n",
       "      <td>FALSE POSITIVE</td>\n",
       "      <td>0.00000</td>\n",
       "      <td>FALSE POSITIVE</td>\n",
       "      <td>FALSE POSITIVE</td>\n",
       "      <td>0.00000</td>\n",
       "    </tr>\n",
       "    <tr>\n",
       "      <th>33592</th>\n",
       "      <td>11922290</td>\n",
       "      <td>1</td>\n",
       "      <td>FALSE POSITIVE</td>\n",
       "      <td>0.00552</td>\n",
       "      <td>FALSE POSITIVE</td>\n",
       "      <td>0.04200</td>\n",
       "      <td>FALSE POSITIVE</td>\n",
       "      <td>FALSE POSITIVE</td>\n",
       "      <td>0.00000</td>\n",
       "    </tr>\n",
       "    <tr>\n",
       "      <th>33593</th>\n",
       "      <td>11922648</td>\n",
       "      <td>1</td>\n",
       "      <td>FALSE POSITIVE</td>\n",
       "      <td>0.26599</td>\n",
       "      <td>FALSE POSITIVE</td>\n",
       "      <td>0.00000</td>\n",
       "      <td>FALSE POSITIVE</td>\n",
       "      <td>FALSE POSITIVE</td>\n",
       "      <td>0.18905</td>\n",
       "    </tr>\n",
       "  </tbody>\n",
       "</table>\n",
       "<p>33594 rows × 9 columns</p>\n",
       "</div>"
      ],
      "text/plain": [
       "          kepid  tce_plnt_num koi_disposition  w2p_score w2p_disposition  \\\n",
       "0       2304168             2  FALSE POSITIVE    0.00292  FALSE POSITIVE   \n",
       "1       2304235             1  FALSE POSITIVE    0.00032  FALSE POSITIVE   \n",
       "2       2304566             1  FALSE POSITIVE    0.00002  FALSE POSITIVE   \n",
       "3       2304320             1       CONFIRMED    0.97901       CONFIRMED   \n",
       "4       2303365             2  FALSE POSITIVE    0.00062  FALSE POSITIVE   \n",
       "...         ...           ...             ...        ...             ...   \n",
       "33589  11912947             6  FALSE POSITIVE    0.00000  FALSE POSITIVE   \n",
       "33590  11922283             3  FALSE POSITIVE    0.00087  FALSE POSITIVE   \n",
       "33591  11922283             4  FALSE POSITIVE    0.00308  FALSE POSITIVE   \n",
       "33592  11922290             1  FALSE POSITIVE    0.00552  FALSE POSITIVE   \n",
       "33593  11922648             1  FALSE POSITIVE    0.26599  FALSE POSITIVE   \n",
       "\n",
       "       koi_score koi_pdisposition  av_disposition  av_vf_pc  \n",
       "0        0.00000   FALSE POSITIVE  FALSE POSITIVE   0.00099  \n",
       "1        0.00000   FALSE POSITIVE  FALSE POSITIVE   0.00390  \n",
       "2        0.00000   FALSE POSITIVE  FALSE POSITIVE   0.00566  \n",
       "3        0.99800        CANDIDATE       CONFIRMED   0.97850  \n",
       "4        0.00000   FALSE POSITIVE  FALSE POSITIVE   0.00000  \n",
       "...          ...              ...             ...       ...  \n",
       "33589    0.00000   FALSE POSITIVE  FALSE POSITIVE   0.00000  \n",
       "33590    0.00000   FALSE POSITIVE  FALSE POSITIVE   0.00000  \n",
       "33591    0.00000   FALSE POSITIVE  FALSE POSITIVE   0.00000  \n",
       "33592    0.04200   FALSE POSITIVE  FALSE POSITIVE   0.00000  \n",
       "33593    0.00000   FALSE POSITIVE  FALSE POSITIVE   0.18905  \n",
       "\n",
       "[33594 rows x 9 columns]"
      ]
     },
     "execution_count": 124,
     "metadata": {},
     "output_type": "execute_result"
    }
   ],
   "source": [
    "processed_final[[\n",
    "    'kepid','tce_plnt_num','koi_disposition',\n",
    "    'w2p_score','w2p_disposition',\n",
    "    'koi_score','koi_pdisposition',\n",
    "    'av_disposition','av_vf_pc']]"
   ]
  },
  {
   "cell_type": "code",
   "execution_count": 127,
   "metadata": {},
   "outputs": [],
   "source": [
    "processed_final.to_csv(os.path.join(PROCESSED_DATA_DIR,'processed_final.csv'),index=False)"
   ]
  },
  {
   "cell_type": "code",
   "execution_count": null,
   "metadata": {},
   "outputs": [],
   "source": []
  },
  {
   "cell_type": "code",
   "execution_count": 44,
   "metadata": {},
   "outputs": [
    {
     "name": "stdout",
     "output_type": "stream",
     "text": [
      "Index(['kepid', 'tce_plnt_num', 'tce_rogue_flag', 'tce_period',\n",
      "       'tce_period_err', 'tce_time0bk', 'tce_time0bk_err', 'tce_impact',\n",
      "       'tce_impact_err', 'tce_duration', 'tce_duration_err', 'tce_depth',\n",
      "       'tce_depth_err', 'tce_model_snr', 'tce_prad', 'tce_prad_err', 'tce_eqt',\n",
      "       'tce_eqt_err', 'tce_insol', 'tce_insol_err', 'tce_steff',\n",
      "       'tce_steff_err', 'tce_slogg', 'tce_slogg_err', 'tce_sradius',\n",
      "       'tce_sradius_err', 'kepoi_name', 'kepler_name', 'koi_disposition',\n",
      "       'koi_pdisposition', 'koi_score', 'koi_fpflag_nt', 'koi_fpflag_ss',\n",
      "       'koi_fpflag_co', 'koi_fpflag_ec', 'koi_period', 'koi_period_err1',\n",
      "       'koi_period_err2', 'koi_time0bk', 'koi_time0bk_err1',\n",
      "       'koi_time0bk_err2', 'koi_impact', 'koi_impact_err1', 'koi_impact_err2',\n",
      "       'koi_duration', 'koi_duration_err1', 'koi_duration_err2', 'koi_depth',\n",
      "       'koi_depth_err1', 'koi_depth_err2', 'koi_prad', 'koi_prad_err1',\n",
      "       'koi_prad_err2', 'koi_teq', 'koi_teq_err1', 'koi_teq_err2', 'koi_insol',\n",
      "       'koi_insol_err1', 'koi_insol_err2', 'koi_model_snr', 'koi_tce_plnt_num',\n",
      "       'koi_tce_delivname', 'koi_steff', 'koi_steff_err1', 'koi_steff_err2',\n",
      "       'koi_slogg', 'koi_slogg_err1', 'koi_slogg_err2', 'koi_srad',\n",
      "       'koi_srad_err1', 'koi_srad_err2', 'ra', 'dec', 'koi_kepmag',\n",
      "       'koi_new_tce_plnt_num', 'av_vf_pc', 'av_vf_pc_err', 'av_vf_afp',\n",
      "       'av_vf_afp_err', 'av_vf_ntp', 'av_vf_ntp_err', 'av_pp_pc', 'av_pp_afp',\n",
      "       'av_pp_ntp', 'av_training_set', 'av_pred_class', 'w2p_prob',\n",
      "       'w2p_disposition'],\n",
      "      dtype='object')\n"
     ]
    }
   ],
   "source": [
    "print (processed_final.columns)"
   ]
  },
  {
   "cell_type": "markdown",
   "metadata": {},
   "source": [
    "#### Error Analysis"
   ]
  },
  {
   "cell_type": "code",
   "execution_count": 25,
   "metadata": {},
   "outputs": [],
   "source": [
    "val_results=pd.DataFrame({'truth':Y_val, 'prediction':np.squeeze(val_predictions_baseline)})\n",
    "val_results['truth_delta']=val_results.truth-val_results.prediction\n",
    "val_results=val_results.sort_values('truth_delta')"
   ]
  },
  {
   "cell_type": "code",
   "execution_count": 26,
   "metadata": {},
   "outputs": [],
   "source": [
    "val_results['result']='True Positive'\n",
    "val_results.loc[val_results.truth_delta<0,'result']='True Negative' #then some get replaced by false positive\n",
    "val_results.loc[val_results.truth_delta<=-0.5,'result']='False Positive'\n",
    "val_results.loc[val_results.truth_delta>=0.5,'result']='False Negative'\n"
   ]
  },
  {
   "cell_type": "code",
   "execution_count": null,
   "metadata": {},
   "outputs": [],
   "source": [
    "val_results.result.value_counts()"
   ]
  },
  {
   "cell_type": "code",
   "execution_count": null,
   "metadata": {},
   "outputs": [],
   "source": [
    "cutoff=.05\n",
    "val_results_mod=val_results[(val_results.truth_delta<-cutoff)|(val_results.truth_delta>cutoff)]\n",
    "import seaborn as sns\n",
    "ax = sns.histplot(data=val_results_mod, x=\"truth_delta\",hue='result').set_title('Distribution of Deltas (excluding vast majority between -.05 and .05)')"
   ]
  },
  {
   "cell_type": "code",
   "execution_count": null,
   "metadata": {},
   "outputs": [],
   "source": [
    "cutoff=.05\n",
    "val_results_mod=val_results[(val_results.prediction>cutoff)]\n",
    "import seaborn as sns\n",
    "ax = sns.histplot(data=val_results_mod, \n",
    "                  x=\"prediction\",\n",
    "                  hue='result',\n",
    "                  multiple='stack',\n",
    "                  bins=30).set_title('Distribution of Validation Set Predictions (excluding true negatives <0.05)')\n",
    "\n",
    "plt.axvline(0.5,0,30)"
   ]
  },
  {
   "cell_type": "code",
   "execution_count": null,
   "metadata": {},
   "outputs": [],
   "source": [
    "false_positives=val_results[val_results.truth_delta<=-.5]\n",
    "print(false_positives.shape)\n",
    "false_positives"
   ]
  },
  {
   "cell_type": "code",
   "execution_count": null,
   "metadata": {},
   "outputs": [],
   "source": [
    "\n",
    "\n",
    "tce_number=835\n",
    "chart(tce_number,tce_id,val_results,x_global_val,x_local_val)\n"
   ]
  },
  {
   "cell_type": "code",
   "execution_count": null,
   "metadata": {},
   "outputs": [],
   "source": [
    "val_results.result[790]"
   ]
  },
  {
   "cell_type": "code",
   "execution_count": null,
   "metadata": {},
   "outputs": [],
   "source": [
    "false_negatives=val_results[val_results.truth_delta>=0.5].sort_values('truth_delta',ascending=False)\n",
    "print (false_negatives.shape)\n",
    "false_negatives"
   ]
  },
  {
   "cell_type": "code",
   "execution_count": null,
   "metadata": {},
   "outputs": [],
   "source": [
    "tce_number=629\n",
    "chart_curves(9999,0,\n",
    "             'FALSE NEGATIVE',\n",
    "             x_global_val[tce_number],x_local_val[tce_number])"
   ]
  },
  {
   "cell_type": "code",
   "execution_count": null,
   "metadata": {},
   "outputs": [],
   "source": [
    "print(val_results[val_results.result=='True Positive'].sort_values('prediction',ascending=False))\n",
    "tce_number=118\n",
    "chart_curves(9999,0,\n",
    "             'TRUE POSITIVE',\n",
    "             x_global_val[tce_number],x_local_val[tce_number])"
   ]
  },
  {
   "cell_type": "code",
   "execution_count": null,
   "metadata": {},
   "outputs": [],
   "source": [
    "print(val_results[val_results.result=='True Negative'].sort_values('prediction',ascending=True))\n",
    "tce_number=135\n",
    "chart_curves(9999,0,\n",
    "             'TRUE NEGATIVE',\n",
    "             x_global_val[tce_number],x_local_val[tce_number])"
   ]
  },
  {
   "cell_type": "code",
   "execution_count": null,
   "metadata": {},
   "outputs": [],
   "source": [
    "baseline_results = model.evaluate([x_local_train,x_global_train],Y_train,\n",
    "                                  batch_size=BATCH_SIZE, verbose=0)\n",
    "for name, value in zip(model.metrics_names, baseline_results):\n",
    "  print(name, ': ', value)\n",
    "print()"
   ]
  },
  {
   "cell_type": "markdown",
   "metadata": {},
   "source": [
    "#### Class weighting to deal with unbalanced classes"
   ]
  },
  {
   "cell_type": "code",
   "execution_count": null,
   "metadata": {},
   "outputs": [],
   "source": [
    "weight_for_0 = (1 / neg)*(total)/2.0 \n",
    "weight_for_1 = (1 / pos)*(total)/2.0\n",
    "\n",
    "class_weight = {0: weight_for_0, 1: weight_for_1}\n",
    "\n",
    "print('Weight for class 0: {:.2f}'.format(weight_for_0))\n",
    "print('Weight for class 1: {:.2f}'.format(weight_for_1))"
   ]
  },
  {
   "cell_type": "code",
   "execution_count": null,
   "metadata": {},
   "outputs": [],
   "source": [
    "tf.keras.backend.clear_session()\n",
    "model=make_model()\n",
    "#model.load_weights(initial_weights)\n",
    "\n",
    "history=model.fit([x_local_train,x_global_train],\n",
    "                  Y_train,\n",
    "                  validation_data=([x_local_val,x_global_val],Y_val),\n",
    "                  epochs=EPOCHS,\n",
    "                  batch_size=BATCH_SIZE,\n",
    "                  class_weight=class_weight,\n",
    "                  callbacks=[early_stopping],\n",
    "                  verbose=2)"
   ]
  },
  {
   "cell_type": "code",
   "execution_count": null,
   "metadata": {},
   "outputs": [],
   "source": [
    "plot_metrics(history)\n",
    "plot_cm(Y_val, val_predictions_baseline)\n",
    "\n",
    "val_predictions_baseline = model.predict([x_local_val,x_global_val], batch_size=BATCH_SIZE)\n",
    "train_predictions_baseline = model.predict([x_local_train,x_global_train], batch_size=BATCH_SIZE)\n",
    "\n",
    "plot_roc(\"Train Baseline\", Y_train, train_predictions_baseline, color=colors[0])\n",
    "plot_roc(\"Test Baseline\", Y_val, val_predictions_baseline, color=colors[0], linestyle='--')\n",
    "plt.legend(loc='lower right')"
   ]
  },
  {
   "cell_type": "markdown",
   "metadata": {},
   "source": [
    "#### Oversampling to deal with unbalanced classes"
   ]
  },
  {
   "cell_type": "code",
   "execution_count": null,
   "metadata": {},
   "outputs": [],
   "source": [
    "#oversampling\n",
    "bool_train_labels = Y_train != 0\n",
    "pos_features_local = x_local_train[bool_train_labels]\n",
    "neg_features_local = x_local_train[~bool_train_labels]\n",
    "pos_features_global = x_global_train[bool_train_labels]\n",
    "neg_features_global = x_global_train[~bool_train_labels]\n",
    "\n",
    "pos_labels = Y_train[bool_train_labels]\n",
    "neg_labels = Y_train[~bool_train_labels]"
   ]
  },
  {
   "cell_type": "code",
   "execution_count": null,
   "metadata": {},
   "outputs": [],
   "source": [
    "ids = np.arange(len(pos_features_local))\n",
    "choices = np.random.choice(ids, len(neg_features_local))\n",
    "\n",
    "res_pos_features_local = pos_features_local[choices]\n",
    "res_pos_features_global = pos_features_global[choices]\n",
    "res_pos_labels = pos_labels[choices]\n",
    "\n",
    "print(res_pos_features_local.shape,res_pos_features_global.shape)"
   ]
  },
  {
   "cell_type": "code",
   "execution_count": null,
   "metadata": {},
   "outputs": [],
   "source": [
    "res_features_local=np.concatenate([res_pos_features_local,neg_features_local],axis=0)\n",
    "res_features_global=np.concatenate([res_pos_features_global,neg_features_global],axis=0)\n",
    "res_labels=np.concatenate([res_pos_labels,neg_labels],axis=0)\n",
    "order=np.arange(len(res_labels))\n",
    "np.random.shuffle(order)\n",
    "res_features_local=res_features_local[order]\n",
    "res_features_global=res_features_global[order]\n",
    "res_labels=res_labels[order]\n",
    "print(res_features_local.shape,res_features_global.shape,res_labels.shape)"
   ]
  },
  {
   "cell_type": "code",
   "execution_count": null,
   "metadata": {},
   "outputs": [],
   "source": [
    "tf.keras.backend.clear_session()\n",
    "model=make_model()\n",
    "history = model.fit(\n",
    "        [res_features_local,res_features_global],\n",
    "        res_labels,\n",
    "        validation_data=([x_local_val,x_global_val],Y_val),\n",
    "        epochs=EPOCHS,\n",
    "        batch_size=BATCH_SIZE,\n",
    "        callbacks=[early_stopping],\n",
    "        verbose=2)\n"
   ]
  },
  {
   "cell_type": "code",
   "execution_count": null,
   "metadata": {},
   "outputs": [],
   "source": [
    "plot_metrics(history)\n",
    "plot_cm(Y_val, val_predictions_baseline)\n",
    "\n",
    "val_predictions_baseline = model.predict([x_local_val,x_global_val], batch_size=BATCH_SIZE)\n",
    "train_predictions_baseline = model.predict([x_local_train,x_global_train], batch_size=BATCH_SIZE)\n",
    "\n",
    "plot_roc(\"Train Baseline\", Y_train, train_predictions_baseline, color=colors[0])\n",
    "plot_roc(\"Test Baseline\", Y_val, val_predictions_baseline, color=colors[0], linestyle='--')\n",
    "plt.legend(loc='lower right')"
   ]
  },
  {
   "cell_type": "code",
   "execution_count": null,
   "metadata": {},
   "outputs": [],
   "source": []
  },
  {
   "cell_type": "code",
   "execution_count": null,
   "metadata": {},
   "outputs": [],
   "source": []
  },
  {
   "cell_type": "code",
   "execution_count": null,
   "metadata": {},
   "outputs": [],
   "source": []
  },
  {
   "cell_type": "code",
   "execution_count": null,
   "metadata": {},
   "outputs": [],
   "source": []
  },
  {
   "cell_type": "code",
   "execution_count": null,
   "metadata": {},
   "outputs": [],
   "source": []
  },
  {
   "cell_type": "code",
   "execution_count": null,
   "metadata": {},
   "outputs": [],
   "source": []
  },
  {
   "cell_type": "code",
   "execution_count": null,
   "metadata": {},
   "outputs": [],
   "source": [
    "np.set_printoptions(suppress=True)\n",
    "Y_val_pred=model.predict([x_local_val,x_global_val])\n",
    "print(Y_val_pred.shape)\n",
    "print(Y_val_pred[0:30])\n",
    "print(Y_val[0:30])"
   ]
  },
  {
   "cell_type": "code",
   "execution_count": null,
   "metadata": {},
   "outputs": [],
   "source": [
    "from sklearn.metrics import classification_report\n",
    "\n",
    "Y_val_pred_bool = np.argmax(Y_val_pred, axis=1)\n",
    "\n",
    "print(classification_report(Y_val, Y_val_pred_bool))"
   ]
  },
  {
   "cell_type": "code",
   "execution_count": null,
   "metadata": {},
   "outputs": [],
   "source": [
    "np.bincount(Y_val)"
   ]
  },
  {
   "cell_type": "code",
   "execution_count": null,
   "metadata": {},
   "outputs": [],
   "source": [
    "import matplotlib.pyplot as plt\n",
    "fig,axes=plt.subplots(2,2,figsize=(16,8))\n",
    "plt.subplot(221)\n",
    "plt.title('Loss')\n",
    "plt.plot(history.history['loss'], label='train')\n",
    "plt.plot(history.history['val_loss'], label='test')\n",
    "plt.legend()\n",
    "# plot accuracy during training\n",
    "plt.subplot(222)\n",
    "plt.title('Accuracy')\n",
    "plt.plot(history.history['accuracy'], label='train')\n",
    "plt.plot(history.history['val_accuracy'], label='test')\n",
    "plt.legend()\n",
    "\n",
    "plt.subplot(223)\n",
    "plt.title('AUC')\n",
    "plt.plot(history.history['auc'], label='train')\n",
    "plt.plot(history.history['val_auc'], label='test')\n",
    "plt.legend()\n",
    "plt.show()"
   ]
  },
  {
   "cell_type": "code",
   "execution_count": null,
   "metadata": {},
   "outputs": [],
   "source": []
  },
  {
   "cell_type": "code",
   "execution_count": null,
   "metadata": {},
   "outputs": [],
   "source": []
  },
  {
   "cell_type": "code",
   "execution_count": null,
   "metadata": {},
   "outputs": [],
   "source": []
  },
  {
   "cell_type": "code",
   "execution_count": null,
   "metadata": {},
   "outputs": [],
   "source": []
  },
  {
   "cell_type": "code",
   "execution_count": null,
   "metadata": {},
   "outputs": [],
   "source": [
    "# the first branch operates on the first input\n",
    "x = Dense(8, activation=\"relu\")(inputA)\n",
    "x = Dense(4, activation=\"relu\")(x)\n",
    "x = Model(inputs=inputA, outputs=x)\n",
    "# the second branch opreates on the second input\n",
    "y = Dense(64, activation=\"relu\")(inputB)\n",
    "y = Dense(32, activation=\"relu\")(y)\n",
    "y = Dense(4, activation=\"relu\")(y)\n",
    "y = Model(inputs=inputB, outputs=y)\n",
    "# combine the output of the two branches\n",
    "combined = concatenate([x.output, y.output])\n",
    "# apply a FC layer and then a regression prediction on the\n",
    "# combined outputs\n",
    "z = Dense(2, activation=\"relu\")(combined)\n",
    "z = Dense(1, activation=\"linear\")(z)\n",
    "# our model will accept the inputs of the two branches and\n",
    "# then output a single value\n",
    "model = Model(inputs=[x.input, y.input], outputs=z)"
   ]
  },
  {
   "cell_type": "code",
   "execution_count": null,
   "metadata": {},
   "outputs": [],
   "source": []
  },
  {
   "cell_type": "code",
   "execution_count": null,
   "metadata": {},
   "outputs": [],
   "source": [
    "#model splits into lat long after convolutional layers\n",
    "\n",
    "input_shape=(270,480,1)\n",
    "x=tf.keras.layers.Conv2D(64,(3,3),activation='relu')(inputs)\n",
    "x=tf.keras.layers.MaxPooling2D((2,2))(x)\n",
    "input = tf.keras.layers.Input(shape=input_shape)\n",
    "x=tf.keras.layers.Conv2D(64,(3,3),activation='relu')(x)\n",
    "x=tf.keras.layers.MaxPooling2D((2,2))(x)\n",
    "x=tf.keras.layers.Dropout(0.25)(x)\n",
    "x=tf.keras.layers.Conv2D(128,(3,3),activation='relu')(x)\n",
    "x=tf.keras.layers.MaxPooling2D((2,2))(x)\n",
    "x=tf.keras.layers.Conv2D(128,(3,3),activation='relu')(x)\n",
    "x=tf.keras.layers.MaxPooling2D((2,2))(x)\n",
    "x=tf.keras.layers.Dropout(0.25)(x)\n",
    "x=tf.keras.layers.Flatten()(x)\n",
    "\n",
    "xlat=tf.keras.layers.Dense(256,activation='relu')(x)\n",
    "xlat=tf.keras.layers.Dropout(0.5)(xlat)\n",
    "xlat=tf.keras.layers.Dense(64,activation='relu')(xlat)\n",
    "regression_layer_lat = tf.keras.layers.Dense(1, name='regression_lat')(xlat)  \n",
    "\n",
    "xlong=tf.keras.layers.Dense(256,activation='relu')(x)\n",
    "xlong=tf.keras.layers.Dropout(0.5)(xlong)\n",
    "xlong=tf.keras.layers.Dense(64,activation='relu')(xlong)\n",
    "regression_layer_long = tf.keras.layers.Dense(1, name='regression_long')(xlong)\n",
    "\n",
    "model_output = [regression_layer_lat, regression_layer_long]\n",
    "losses = ['mean_squared_error', 'mean_squared_error']\n",
    "metrics = ['mean_squared_error', 'mean_squared_error']\n",
    "\n",
    "model = tf.keras.models.Model(inputs, model_output)\n",
    "model.compile(loss=losses,  optimizer='adam', metrics=metrics)"
   ]
  },
  {
   "cell_type": "code",
   "execution_count": null,
   "metadata": {},
   "outputs": [],
   "source": [
    "with open('model.yml') as config_file:\n",
    "    config_data = yaml.load(config_file)\n",
    "    image_dir = config_data['image_dir']\n",
    "    latstart= config_data['latstart']\n",
    "    latend=config_data['latend']\n",
    "    longstart = config_data['longstart']\n",
    "    longend=config_data['longend']\n",
    "    dtstart= config_data['dtstart']\n",
    "    dtend=config_data['dtend']"
   ]
  },
  {
   "cell_type": "code",
   "execution_count": null,
   "metadata": {},
   "outputs": [],
   "source": []
  },
  {
   "cell_type": "markdown",
   "metadata": {
    "colab_type": "text",
    "id": "-k4t6YLVrt49"
   },
   "source": [
    "## Define functions to load the data\n"
   ]
  },
  {
   "cell_type": "markdown",
   "metadata": {},
   "source": [
    "#### comment\n"
   ]
  },
  {
   "cell_type": "markdown",
   "metadata": {},
   "source": [
    "### Key image read-in functions: load_image and build_input"
   ]
  },
  {
   "cell_type": "code",
   "execution_count": null,
   "metadata": {
    "colab": {},
    "colab_type": "code",
    "id": "FVUFnke4eIZI"
   },
   "outputs": [],
   "source": [
    "def load_image(s3_client,bucket_name,file_name, dim=(224,224)):\n",
    "    \"\"\"\n",
    "    Loads a single image as a Numpy array and resizes it as\n",
    "    desired.  The default dimensions are consistent with\n",
    "    those expected by the VGG models.  \n",
    "\n",
    "    Args:\n",
    "    s3_client:  s3 resource\n",
    "    bucket_name:name of bucket\n",
    "    file_name:  file to convert to image\n",
    "\n",
    "    dim: Two-element tuple giving the desired height\n",
    "         and width of the processed image\n",
    "\n",
    "    Returns:\n",
    "    image:  A single-channel Numpy array\n",
    "    \"\"\"\n",
    "    #image = cv2.imread(image_path, 0)\n",
    "    file_stream = io.BytesIO()\n",
    "    s3.download_fileobj(bucket_name,file_name,file_stream)\n",
    "    nparr = np.frombuffer(file_stream.getvalue(), np.uint8)\n",
    "    image=cv2.imdecode(nparr,0)\n",
    "    image = cv2.resize(image, dim)#, interpolation = cv2.INTER_AREA)\n",
    "    return image"
   ]
  },
  {
   "cell_type": "code",
   "execution_count": null,
   "metadata": {
    "colab": {},
    "colab_type": "code",
    "id": "CFJgfKxOi9Uj"
   },
   "outputs": [],
   "source": [
    "def build_input(s3_client,bucket_name,file_list,files_to_load,dim):\n",
    "    \"\"\"\n",
    "    Loads all of the images into a single numpy array.\n",
    "    Assumes that there are 101 equally-spaced images\n",
    "    spanning lattitudes from 35N to 45N.  \n",
    "\n",
    "    Args:\n",
    "    s3_client:  s3 resource\n",
    "    bucket_name:name of bucket\n",
    "    file_list:  list of files in bucket\n",
    "    Returns:\n",
    "    X:  A 3-dimensional numpy array containing the\n",
    "        images. Image height and width are set by\n",
    "        `load_images` and default to 224 x 224.\n",
    "\n",
    "    y:  A 1-dimensional numpy array of target lattitudes.\n",
    "    \"\"\"\n",
    "    X = []\n",
    "    i=0\n",
    "    for file in file_list[0:files_to_load]:\n",
    "        if file[-4:] == '.png':\n",
    "            print(file)\n",
    "            image = load_image(s3_client,bucket_name,file,dim)\n",
    "            X.append(image)\n",
    "            if i%100==0:\n",
    "                print('loaded:',i)\n",
    "            i+=1\n",
    "    return (np.array(X) / 255)"
   ]
  },
  {
   "cell_type": "code",
   "execution_count": null,
   "metadata": {
    "colab": {},
    "colab_type": "code",
    "id": "g4CpV8Yue8G1"
   },
   "outputs": [],
   "source": [
    "def build_labels(file_list,files_to_load):\n",
    "    y = []\n",
    "    t=[]\n",
    "    for file in file_list[0:files_to_load]:\n",
    "        if file[-4:] == '.png':\n",
    "            file_split = file.split('+')\n",
    "            lat = float(file_split[0])\n",
    "            long = float(file_split[1])\n",
    "            time = file_split[2].split('.')[0]\n",
    "            y.append((lat, long))\n",
    "            t.append(time)\n",
    "    return np.array(y),np.array(t)"
   ]
  },
  {
   "cell_type": "markdown",
   "metadata": {},
   "source": [
    "#### Test load_image on one image manually"
   ]
  },
  {
   "cell_type": "code",
   "execution_count": null,
   "metadata": {
    "colab": {
     "base_uri": "https://localhost:8080/",
     "height": 286
    },
    "colab_type": "code",
    "id": "6aWURghls3NV",
    "outputId": "cc7d27e7-ddee-424c-88ed-0bbf23b57972"
   },
   "outputs": [],
   "source": [
    "bucket_name='w251-final-project'\n",
    "file_name='36.0014762509164+-74.82905304191733+2020-05-26T01:10:59.png'\n",
    "s3 = boto3.client('s3')\n",
    "sample_image = load_image(s3,bucket_name,file_name)\n",
    "plt.imshow(sample_image)\n",
    "print(sample_image.shape)\n",
    "file_list=[file_name]\n",
    "test_label, test_time=build_labels(file_list,1)\n",
    "print (test_label,test_time)"
   ]
  },
  {
   "cell_type": "markdown",
   "metadata": {
    "colab_type": "text",
    "id": "10QkIM_Rso10"
   },
   "source": [
    "## Prepare the data"
   ]
  },
  {
   "cell_type": "markdown",
   "metadata": {
    "colab_type": "text",
    "id": "HkcP-D-Esrce"
   },
   "source": [
    "### Load the images"
   ]
  },
  {
   "cell_type": "code",
   "execution_count": null,
   "metadata": {
    "colab": {},
    "colab_type": "code",
    "id": "kUp7yqdFkFi0"
   },
   "outputs": [],
   "source": [
    "#clear out models for memory management purposes\n",
    "tf.keras.backend.clear_session()\n",
    "\n",
    "#change this to true to force it to reload from S3 bucket\n",
    "force_load=False\n",
    "\n",
    "#check if np arrays have already been saved and load if so\n",
    "if ((os.path.exists('x.npy'))&(not force_load)):\n",
    "    print('loading from files')\n",
    "    X=np.load('x.npy')\n",
    "    y=np.load('y.npy')\n",
    "    t=np.load('t.npy')\n",
    "\n",
    "#otherwise go to S3 bucket\n",
    "else:\n",
    "    print('loading from S3')\n",
    "    bucket_name='w251-final-project'\n",
    "    file_list=get_matching_s3_keys(bucket_name)\n",
    "    \n",
    "    #shuffle file list so that if take less than all are distributed.  also makes array randomly shuffled\n",
    "    random.shuffle(file_list)\n",
    "    \n",
    "    s3 = boto3.client('s3')\n",
    "\n",
    "    #max_files=100000\n",
    "    max_files=500\n",
    "    file_list_length=len(file_list)\n",
    "    files_to_load=np.minimum(max_files,file_list_length)\n",
    "\n",
    "    #get images\n",
    "    print('About to call build_input on',files_to_load,' files')\n",
    "    dim=(224,224)\n",
    "    X = build_input(s3,bucket_name,file_list,files_to_load,dim)\n",
    "\n",
    "\n",
    "    #get labels\n",
    "    print ('Building labels')\n",
    "    y,t = build_labels(file_list,files_to_load)\n",
    "    \n",
    "    print ('saving arrays so can reload more easily next time through')\n",
    "    np.save('x.npy',X)\n",
    "    np.save('y.npy',y)\n",
    "    np.save('t.npy',t)\n",
    "\n",
    "print ('shape of image array:', X.shape)\n",
    "print ('shape of label list:', y.shape)\n",
    "print ('shape of time list:',t.shape)"
   ]
  },
  {
   "cell_type": "markdown",
   "metadata": {
    "colab_type": "text",
    "id": "mdemcB48loMr"
   },
   "source": [
    "\n",
    "### Standardize the values"
   ]
  },
  {
   "cell_type": "code",
   "execution_count": null,
   "metadata": {},
   "outputs": [],
   "source": [
    "def scale_down(numbers,top,bottom):\n",
    "    number_range=top-bottom\n",
    "    revised=[x-bottom for x in numbers]\n",
    "    revised=[x/number_range for x in revised]\n",
    "    return revised\n",
    "\n",
    "def scale_up(number,top,bottom):\n",
    "    number_range=top-bottom\n",
    "    revised=number*number_range\n",
    "    revised=revised+bottom\n",
    "    return revised\n"
   ]
  },
  {
   "cell_type": "code",
   "execution_count": null,
   "metadata": {
    "colab": {},
    "colab_type": "code",
    "id": "CQDi4jNTivAZ"
   },
   "outputs": [],
   "source": [
    "#just scaling down without normalizing\n",
    "y[:,0]=scale_down(y[:,0],latend,latstart)\n",
    "y[:,1]=scale_down(y[:,1],longend,longstart)\n",
    "\n",
    "#y[:,0] = scale(y[:,0])\n",
    "#y[:,1]=scale(y[:,1])\n",
    "\n",
    "print (y[:,0].mean(),y[:,0].std())\n",
    "print (y[:,1].mean(),y[:,1].std())"
   ]
  },
  {
   "cell_type": "markdown",
   "metadata": {
    "colab_type": "text",
    "id": "fwhGSeYdstxS"
   },
   "source": [
    "### Split into test and training sets"
   ]
  },
  {
   "cell_type": "code",
   "execution_count": null,
   "metadata": {
    "colab": {
     "base_uri": "https://localhost:8080/",
     "height": 85
    },
    "colab_type": "code",
    "id": "owd0SyrvlUHo",
    "outputId": "e1e23c19-08da-4f84-df78-b6a8b0da9b51"
   },
   "outputs": [],
   "source": [
    "X_train, X_val, y_train, y_val = train_test_split(X, y, test_size=0.2)\n",
    "print(X_train.shape)\n",
    "print(y_train.shape)\n",
    "print(X_val.shape)\n",
    "print(y_val.shape)\n"
   ]
  },
  {
   "cell_type": "code",
   "execution_count": null,
   "metadata": {},
   "outputs": [],
   "source": [
    "print(X_train[0].shape)\n",
    "print (X_train[0])\n",
    "print (X_train[0].max())\n",
    "print (X_train[0].mean())"
   ]
  },
  {
   "cell_type": "markdown",
   "metadata": {},
   "source": [
    "### Add channel for CNN"
   ]
  },
  {
   "cell_type": "code",
   "execution_count": null,
   "metadata": {},
   "outputs": [],
   "source": [
    "#need to add channel for B&W for CNN\n",
    "#https://machinelearningmastery.com/a-gentle-introduction-to-channels-first-and-channels-last-image-formats-for-deep-learning/\n",
    "\n",
    "print(X_train.shape,y_train.shape)\n",
    "X_train=np.expand_dims(X_train,axis=3)\n",
    "X_val=np.expand_dims(X_val,axis=3)\n",
    "print(X_train.shape,X_val.shape)"
   ]
  },
  {
   "cell_type": "markdown",
   "metadata": {
    "colab_type": "text",
    "id": "otvKdtM3tKDG"
   },
   "source": [
    "## The model\n"
   ]
  },
  {
   "cell_type": "code",
   "execution_count": null,
   "metadata": {},
   "outputs": [],
   "source": [
    "#just dense\n",
    "\n",
    "input_shape=(224,224,1)\n",
    "input_image = tf.keras.layers.Input(shape=X_train[0].shape)\n",
    "input_time=input_time=tf.keras.layers.Input(shape=t_train[0].shape)\n",
    "i=tf.keras.layers.Flatten()(input_image)\n",
    "i=tf.keras.layers.Dense(528,activation='relu')(i)\n",
    "i=tf.keras.layers.Dense(528,activation='relu')(i)\n",
    "i=tf.keras.layers.Dense(528,activation='relu')(i)\n",
    "\n",
    "t=tf.keras.layers.Flatten()(input_time)\n",
    "it=tf.keras.layers.concatenate([i,t])\n",
    "\n",
    "xlat=tf.keras.layers.Dense(256,activation='relu')(it)\n",
    "xlat=tf.keras.layers.Dropout(0.25)(xlat)\n",
    "xlat=tf.keras.layers.Dense(256,activation='relu')(xlat)\n",
    "regression_layer_lat = tf.keras.layers.Dense(1, name='regression_lat')(xlat)  \n",
    "\n",
    "xlong=tf.keras.layers.Dense(256,activation='relu')(it)\n",
    "xlong=tf.keras.layers.Dropout(0.25)(xlong)\n",
    "xlong=tf.keras.layers.Dense(256,activation='relu')(xlong)\n",
    "regression_layer_long = tf.keras.layers.Dense(1, name='regression_long')(xlong)\n",
    "\n",
    "model_output = [regression_layer_lat, regression_layer_long]\n",
    "losses = ['mean_squared_error', 'mean_squared_error']\n",
    "metrics = ['mean_squared_error', 'mean_squared_error']\n",
    "\n",
    "model = tf.keras.models.Model([input_image,input_time], model_output)\n",
    "\n",
    "\n",
    "\n",
    "\n",
    "\n"
   ]
  },
  {
   "cell_type": "code",
   "execution_count": null,
   "metadata": {},
   "outputs": [],
   "source": [
    "losses = ['mean_squared_error','mean_squared_error']\n",
    "metrics = ['mean_squared_error','mean_squared_error']\n",
    "\n",
    "model.compile(optimizer='Adam',\n",
    "                 loss=losses,\n",
    "                 metrics=metrics)\n",
    "\n",
    "print(model.summary())\n"
   ]
  },
  {
   "cell_type": "markdown",
   "metadata": {
    "colab_type": "text",
    "id": "45ubHGx-0fZT"
   },
   "source": [
    "### Fit the model"
   ]
  },
  {
   "cell_type": "code",
   "execution_count": null,
   "metadata": {
    "colab": {
     "base_uri": "https://localhost:8080/",
     "height": 1000
    },
    "colab_type": "code",
    "id": "GSdEVoRTn7KO",
    "outputId": "f18a5e41-575f-4cc5-a200-7ed098765963"
   },
   "outputs": [],
   "source": [
    "tf.keras.backend.clear_session()\n",
    "history = model.fit(x=[X_train,t_train], \n",
    "                    y=[y_train[:,0],y_train[:,1]],\n",
    "                    validation_data=[[X_val,t_val],[y_val[:,0],y_val[:,1]]],\n",
    "                    verbose=1, epochs=15, batch_size=32)\n",
    "\n",
    "    \n"
   ]
  },
  {
   "cell_type": "markdown",
   "metadata": {
    "colab_type": "text",
    "id": "xgjEi6oP0kNE"
   },
   "source": [
    "### Evaluate model performance"
   ]
  },
  {
   "cell_type": "code",
   "execution_count": null,
   "metadata": {
    "colab": {
     "base_uri": "https://localhost:8080/",
     "height": 295
    },
    "colab_type": "code",
    "id": "CZNI6nGtzbYy",
    "outputId": "0af1dc94-1682-46eb-e7d9-e5a52d01eacb"
   },
   "outputs": [],
   "source": [
    "history_df = pd.DataFrame(history.history)\n",
    "ax = history_df.plot(y=['loss', 'val_loss'],\n",
    "                xticks=np.linspace(0, len(history_df), 6))\n",
    "ax.set_ylabel('Loss')\n",
    "ax.set_xlabel('Epoch')\n",
    "ax.set_title('Evolution of Mean Squared Error')\n",
    "plt.show()\n"
   ]
  },
  {
   "cell_type": "code",
   "execution_count": null,
   "metadata": {},
   "outputs": [],
   "source": [
    "print(X_val.shape)\n",
    "print(y_val.shape)"
   ]
  },
  {
   "cell_type": "code",
   "execution_count": null,
   "metadata": {
    "colab": {},
    "colab_type": "code",
    "id": "29eHeDjEoNqj"
   },
   "outputs": [],
   "source": [
    "y_hat = model.predict([X_val,t_val])\n",
    "#y_hat_lat=model.predict(X_val)[0]\n",
    "#y_hat_long=model.predict(X_val)[1]\n",
    "y_hat_lat=y_hat[:,0]\n",
    "y_hat_long=y_hat[:,1]\n",
    "\n",
    "y_hat_lat=scale_up(y_hat_lat,latend,latstart)\n",
    "y_hat_long=scale_up(y_hat_long,longend,longstart)\n",
    "\n",
    "y_val_lat=y_val[:,0]\n",
    "y_val_long=y_val[:,1]\n",
    "\n",
    "y_val_lat=scale_up(y_val_lat,latend,latstart)\n",
    "y_val_long=scale_up(y_val_long,longend,longstart)"
   ]
  },
  {
   "cell_type": "code",
   "execution_count": null,
   "metadata": {
    "colab": {
     "base_uri": "https://localhost:8080/",
     "height": 295
    },
    "colab_type": "code",
    "id": "6CoZVBtCrT7K",
    "outputId": "f9b36a5f-5eef-468e-edd9-e6811ba7ea39"
   },
   "outputs": [],
   "source": [
    "fig = plt.figure(figsize=(12,6))\n",
    "ax=fig.add_subplot(111)\n",
    "ax.scatter(y_val_lat, y_hat_lat)\n",
    "plt.title('Predicted lat vs. True lat')\n",
    "plt.xlabel('True lat')\n",
    "plt.ylabel('Predicted lat')\n",
    "ax.set_xlim(36,40)\n",
    "ax.set_ylim(36,40)\n",
    "#draw straight line\n"
   ]
  },
  {
   "cell_type": "code",
   "execution_count": null,
   "metadata": {
    "colab": {
     "base_uri": "https://localhost:8080/",
     "height": 295
    },
    "colab_type": "code",
    "id": "n5tCuM2HvK72",
    "outputId": "f1b6570d-1fa3-464c-c820-8e01ca393676"
   },
   "outputs": [],
   "source": [
    "fig = plt.figure(figsize=(12,6))\n",
    "ax=fig.add_subplot(111)\n",
    "ax.scatter(y_val_long, y_hat_long)\n",
    "plt.title('Predicted long vs. True long')\n",
    "plt.xlabel('True long')\n",
    "plt.ylabel('Predicted long')\n",
    "ax.set_xlim(-78,-74)\n",
    "ax.set_ylim(-78,-74)\n"
   ]
  },
  {
   "cell_type": "markdown",
   "metadata": {},
   "source": [
    "### Save Model"
   ]
  },
  {
   "cell_type": "code",
   "execution_count": null,
   "metadata": {},
   "outputs": [],
   "source": [
    "model_dir='inference_model'\n",
    "model.save(model_dir)\n"
   ]
  },
  {
   "cell_type": "code",
   "execution_count": null,
   "metadata": {},
   "outputs": [],
   "source": [
    "test_model=tf.keras.models.load_model(model_dir)\n"
   ]
  },
  {
   "cell_type": "code",
   "execution_count": null,
   "metadata": {},
   "outputs": [],
   "source": [
    "def upload_model(model_dir,bucket_name):\n",
    "    #s3_client=boto3.client('s3')\n",
    "    session = boto3.Session()\n",
    "    s3 = session.resource('s3')\n",
    "    bucket = s3.Bucket(bucket_name)\n",
    "    for subdir, dirs, files in os.walk(model_dir):\n",
    "        for file in files:\n",
    "            full_path = os.path.join(subdir, file)\n",
    "            with open(full_path, 'rb') as data:\n",
    "                bucket.put_object(Key=full_path[len(model_dir)+1:], Body=data)\n",
    "\n",
    "bucket_name='w251-final-project-model'\n",
    "upload_model(model_dir,bucket_name)"
   ]
  },
  {
   "cell_type": "code",
   "execution_count": null,
   "metadata": {},
   "outputs": [],
   "source": []
  },
  {
   "cell_type": "code",
   "execution_count": null,
   "metadata": {},
   "outputs": [],
   "source": [
    "input_image = tf.keras.layers.Input(shape=X_train[0].shape)\n",
    "input_time=tf.keras.layers.Input(shape=t_train[0].shape)\n",
    "\n",
    "i=tf.keras.layers.Conv2D(filters=5,kernel_size=10,padding='same',activation='relu')(input_image)\n",
    "i=tf.keras.layers.Conv2D(filters=1,kernel_size=10,padding='same',activation='relu') (i)\n",
    "i=tf.keras.layers.Flatten()(i)\n",
    "\n",
    "t=tf.keras.layers.Flatten()(input_time)\n",
    "ti=tf.keras.layers.concatenate([i,t])\n",
    "ti=tf.keras.layers.Dense(256,activation='relu')(ti)\n",
    "ti=tf.keras.layers.Dropout(0.2)(ti)\n",
    "outputs=tf.keras.layers.Dense(2,activation='sigmoid')(ti)\n",
    "\n",
    "model = tf.keras.Model(inputs=[input_image, input_time], outputs=outputs)\n",
    "\n",
    "\n",
    "lr_schedule = tf.keras.optimizers.schedules.ExponentialDecay(\n",
    "    initial_learning_rate=1e-2,\n",
    "    decay_steps=10000,\n",
    "    decay_rate=0.9)\n",
    "\n",
    "optimizer = tf.keras.optimizers.SGD(learning_rate=lr_schedule)\n",
    "\n",
    "model.compile(optimizer=optimizer,\n",
    "                 loss=haversine_loss)\n",
    "\n",
    "print(model.summary())\n",
    "\n",
    "history = model.fit(x=[X_train,t_train], \n",
    "                    y=[y_train],\n",
    "                    validation_data=[[X_val,t_val],y_val],\n",
    "                    verbose=1, epochs=15, batch_size=64)\n"
   ]
  },
  {
   "cell_type": "markdown",
   "metadata": {},
   "source": [
    "### Feed Forward Dense"
   ]
  },
  {
   "cell_type": "code",
   "execution_count": null,
   "metadata": {},
   "outputs": [],
   "source": [
    "#just dense\n",
    "\n",
    "input_shape=(224,224,1)\n",
    "inputs = tf.keras.layers.Input(shape=input_shape)\n",
    "x=tf.keras.layers.Flatten()(inputs)\n",
    "x=tf.keras.layers.Dense(528,activation='relu')(x)\n",
    "x=tf.keras.layers.Dense(528,activation='relu')(x)\n",
    "x=tf.keras.layers.Dense(528,activation='relu')(x)\n",
    "\n",
    "xlat=tf.keras.layers.Dense(256,activation='relu')(x)\n",
    "xlat=tf.keras.layers.Dropout(0.25)(xlat)\n",
    "xlat=tf.keras.layers.Dense(256,activation='relu')(xlat)\n",
    "regression_layer_lat = tf.keras.layers.Dense(1, name='regression_lat')(xlat)  \n",
    "\n",
    "xlong=tf.keras.layers.Dense(256,activation='relu')(x)\n",
    "xlong=tf.keras.layers.Dropout(0.25)(xlong)\n",
    "xlong=tf.keras.layers.Dense(256,activation='relu')(xlong)\n",
    "regression_layer_long = tf.keras.layers.Dense(1, name='regression_long')(xlong)\n",
    "\n",
    "model_output = [regression_layer_lat, regression_layer_long]\n",
    "losses = ['mean_squared_error', 'mean_squared_error']\n",
    "metrics = ['mean_squared_error', 'mean_squared_error']\n",
    "\n",
    "model = tf.keras.models.Model(inputs, model_output)\n",
    "model.compile(loss=losses,  optimizer='adam', metrics=metrics)\n",
    "print(model.summary())"
   ]
  },
  {
   "cell_type": "code",
   "execution_count": null,
   "metadata": {},
   "outputs": [],
   "source": [
    "history = model.fit(x=X_train, \n",
    "                    y=[y_train[:,0],y_train[:,1]],\n",
    "                    validation_data=[X_val,[y_val[:,0],y_val[:,1]]],\n",
    "                    verbose=1, epochs=20, batch_size=128)"
   ]
  },
  {
   "cell_type": "code",
   "execution_count": null,
   "metadata": {},
   "outputs": [],
   "source": [
    "y_hat = model.predict(X_val)\n",
    "#y_hat_lat=model.predict(X_val)[0]\n",
    "#y_hat_long=model.predict(X_val)[1]\n",
    "y_hat_lat=y_hat[0]\n",
    "y_hat_long=y_hat[1]\n",
    "\n",
    "y_hat_lat=scale_up(y_hat_lat,toplat,bottomlat)\n",
    "y_hat_long=scale_up(y_hat_long,toplong,bottomlong)\n",
    "\n",
    "y_val_lat=y_val[:,0]\n",
    "y_val_long=y_val[:,1]\n",
    "\n",
    "y_val_lat=scale_up(y_val_lat,toplat,bottomlat)\n",
    "y_val_long=scale_up(y_val_long,toplong,bottomlong)"
   ]
  },
  {
   "cell_type": "code",
   "execution_count": null,
   "metadata": {},
   "outputs": [],
   "source": [
    "plt.scatter(y_val_lat, y_hat_lat)\n",
    "plt.title('Predicted lat vs. True lat')\n",
    "plt.xlabel('True lat')\n",
    "plt.ylabel('Predicted lat')\n",
    "plt.show()"
   ]
  },
  {
   "cell_type": "code",
   "execution_count": null,
   "metadata": {},
   "outputs": [],
   "source": [
    "plt.scatter(y_val_long, y_hat_long)\n",
    "plt.title('Predicted long vs. True long')\n",
    "plt.xlabel('True long')\n",
    "plt.ylabel('Predicted long')\n",
    "plt.show()"
   ]
  },
  {
   "cell_type": "code",
   "execution_count": null,
   "metadata": {},
   "outputs": [],
   "source": []
  },
  {
   "cell_type": "code",
   "execution_count": null,
   "metadata": {},
   "outputs": [],
   "source": []
  },
  {
   "cell_type": "markdown",
   "metadata": {
    "colab": {},
    "colab_type": "code",
    "id": "l1Lg2v4LqKCp"
   },
   "source": [
    "### Things to consider doing:\n",
    "- don't normalize the lat and long - just scale it DONE\n",
    "- convert back to lat and long DONE\n",
    "- set validation batch size to deal with OOM errors (possibly) DONE\n",
    "- loss weights?\n",
    "- what is resolution of png files coming in?  are they squares?\n",
    "- since set wide rectangle, need to make sure entirely at night time\n",
    "- change angle of view - look more tired horizon?\n"
   ]
  },
  {
   "cell_type": "markdown",
   "metadata": {},
   "source": [
    "### Old models"
   ]
  },
  {
   "cell_type": "code",
   "execution_count": null,
   "metadata": {},
   "outputs": [],
   "source": [
    "# Define Input layer(s)\n",
    "inputShape = (224, 224)\n",
    "inputs = tf.keras.layers.Input(shape=inputShape)\n",
    "\n",
    "flatten = tf.keras.layers.Flatten()(inputs)\n",
    "\n",
    "x=tf.keras.layers.Dense(512,activation='relu')(flatten)\n",
    "x=tf.keras.layers.Dense(512,activation='relu')(x)\n",
    "x=tf.keras.layers.Dense(512,activation='relu')(x)\n",
    "x=tf.keras.layers.Dense(512,activation='relu')(x)\n",
    "regression_layer_lat = tf.keras.layers.Dense(1, name='regression_lat')(x)  \n",
    "regression_layer_long = tf.keras.layers.Dense(1, name='regression_long')(x)\n",
    "\n",
    "\n",
    "# Build and compile model\n",
    "model_input = inputs\n",
    "model_output = [regression_layer_lat, regression_layer_long]\n",
    "losses = ['mean_squared_error', 'mean_squared_error']\n",
    "metrics = ['mean_squared_error', 'mean_squared_error']\n",
    "\n",
    "model = tf.keras.models.Model(model_input, model_output)\n",
    "model.compile(loss=losses,  optimizer='adam', metrics=metrics)"
   ]
  },
  {
   "cell_type": "code",
   "execution_count": null,
   "metadata": {},
   "outputs": [],
   "source": [
    "#model splits into lat long after convolutional layers\n",
    "\n",
    "input_shape=(270,480,1)\n",
    "input = tf.keras.layers.Input(shape=input_shape)\n",
    "x=tf.keras.layers.Conv2D(64,(3,3),activation='relu')(inputs)\n",
    "x=tf.keras.layers.MaxPooling2D((2,2))(x)\n",
    "x=tf.keras.layers.Conv2D(64,(3,3),activation='relu')(x)\n",
    "x=tf.keras.layers.MaxPooling2D((2,2))(x)\n",
    "x=tf.keras.layers.Dropout(0.25)(x)\n",
    "x=tf.keras.layers.Conv2D(128,(3,3),activation='relu')(x)\n",
    "x=tf.keras.layers.MaxPooling2D((2,2))(x)\n",
    "x=tf.keras.layers.Conv2D(128,(3,3),activation='relu')(x)\n",
    "x=tf.keras.layers.MaxPooling2D((2,2))(x)\n",
    "x=tf.keras.layers.Dropout(0.25)(x)\n",
    "x=tf.keras.layers.Flatten()(x)\n",
    "\n",
    "xlat=tf.keras.layers.Dense(256,activation='relu')(x)\n",
    "xlat=tf.keras.layers.Dropout(0.5)(xlat)\n",
    "xlat=tf.keras.layers.Dense(64,activation='relu')(xlat)\n",
    "regression_layer_lat = tf.keras.layers.Dense(1, name='regression_lat')(xlat)  \n",
    "\n",
    "xlong=tf.keras.layers.Dense(256,activation='relu')(x)\n",
    "xlong=tf.keras.layers.Dropout(0.5)(xlong)\n",
    "xlong=tf.keras.layers.Dense(64,activation='relu')(xlong)\n",
    "regression_layer_long = tf.keras.layers.Dense(1, name='regression_long')(xlong)\n",
    "\n",
    "model_output = [regression_layer_lat, regression_layer_long]\n",
    "losses = ['mean_squared_error', 'mean_squared_error']\n",
    "metrics = ['mean_squared_error', 'mean_squared_error']\n",
    "\n",
    "model = tf.keras.models.Model(inputs, model_output)\n",
    "model.compile(loss=losses,  optimizer='adam', metrics=metrics)"
   ]
  },
  {
   "cell_type": "code",
   "execution_count": null,
   "metadata": {},
   "outputs": [],
   "source": [
    "input_shape=(224,224,1)\n",
    "inputs = tf.keras.layers.Input(shape=input_shape)\n",
    "x=tf.keras.layers.Conv2D(64,(3,3),activation='relu')(inputs)\n",
    "x=tf.keras.layers.MaxPooling2D((2,2))(x)\n",
    "x=tf.keras.layers.Conv2D(64,(3,3),activation='relu')(x)\n",
    "x=tf.keras.layers.MaxPooling2D((2,2))(x)\n",
    "x=tf.keras.layers.Dropout(0.25)(x)\n",
    "x=tf.keras.layers.Conv2D(128,(3,3),activation='relu')(x)\n",
    "x=tf.keras.layers.MaxPooling2D((2,2))(x)\n",
    "x=tf.keras.layers.Conv2D(128,(3,3),activation='relu')(x)\n",
    "x=tf.keras.layers.MaxPooling2D((2,2))(x)\n",
    "x=tf.keras.layers.Dropout(0.25)(x)\n",
    "\n",
    "x=tf.keras.layers.Flatten()(x)\n",
    "x=tf.keras.layers.Dense(256,activation='relu')(x)\n",
    "x=tf.keras.layers.Dropout(0.5)(x)\n",
    "x=tf.keras.layers.Dense(64,activation='relu')(x)\n",
    "regression_layer_lat = tf.keras.layers.Dense(1, name='regression_lat')(x)  \n",
    "regression_layer_long = tf.keras.layers.Dense(1, name='regression_long')(x)\n",
    "\n",
    "model_output = [regression_layer_lat, regression_layer_long]\n",
    "losses = ['mean_squared_error', 'mean_squared_error']\n",
    "metrics = ['mean_squared_error', 'mean_squared_error']\n",
    "\n",
    "model = tf.keras.models.Model(inputs, model_output)\n",
    "model.compile(loss=losses,  optimizer='adam', metrics=metrics)"
   ]
  },
  {
   "cell_type": "code",
   "execution_count": null,
   "metadata": {},
   "outputs": [],
   "source": [
    "model = tf.keras.Sequential([\n",
    "    tf.keras.layers.Flatten(input_shape=(224,224)),\n",
    "    tf.keras.layers.Dense(512, activation='relu'),\n",
    "    #tf.keras.layers.Dense(512, activation='relu'),\n",
    "    #tf.keras.layers.Dense(512, activation='relu'),\n",
    "    #tf.keras.layers.Dense(512, activation='relu'),\n",
    "    #tf.keras.layers.Dense(512, activation='relu'),\n",
    "    tf.keras.layers.Dense(256, activation='relu'),\n",
    "    #tf.keras.layers.Dense(256, activation='relu'),\n",
    "    #tf.keras.layers.Dense(256, activation='relu'),\n",
    "    #tf.keras.layers.Dense(256, activation='relu'),\n",
    "    #tf.keras.layers.Dense(256, activation='relu'),\n",
    "    #tf.keras.layers.Dense(256, activation='relu'),\n",
    "    tf.keras.layers.Dense(128, activation='relu'),\n",
    "    #tf.keras.layers.Dense(128, activation='relu'),\n",
    "    #tf.keras.layers.Dense(128, activation='relu'),\n",
    "    #tf.keras.layers.Dense(128, activation='relu'),\n",
    "    #tf.keras.layers.Dense(128, activation='relu'),\n",
    "    #tf.keras.layers.Dense(128, activation='relu'),\n",
    "    #tf.keras.layers.Dense(128, activation='relu'),\n",
    "    tf.keras.layers.Dense(64, activation='relu'),\n",
    "    tf.keras.layers.Dense(32, activation='relu'),\n",
    "    tf.keras.layers.Dropout(0.3),\n",
    "    tf.keras.layers.Dense(2)\n",
    "])"
   ]
  },
  {
   "cell_type": "code",
   "execution_count": null,
   "metadata": {},
   "outputs": [],
   "source": [
    "losses = ['mean_squared_error', 'mean_squared_error']\n",
    "metrics = ['mean_squared_error', 'mean_squared_error']\n",
    "\n",
    "model = tf.keras.models.Model(inputs, model_output)\n",
    "model.compile(loss=losses,  optimizer='adam', metrics=metrics)"
   ]
  }
 ],
 "metadata": {
  "accelerator": "GPU",
  "colab": {
   "collapsed_sections": [],
   "name": "iso-chron.ipynb",
   "provenance": [],
   "toc_visible": true
  },
  "kernelspec": {
   "display_name": "Environment (conda_thesis)",
   "language": "python",
   "name": "conda_thesis"
  },
  "language_info": {
   "codemirror_mode": {
    "name": "ipython",
    "version": 3
   },
   "file_extension": ".py",
   "mimetype": "text/x-python",
   "name": "python",
   "nbconvert_exporter": "python",
   "pygments_lexer": "ipython3",
   "version": "3.6.10"
  }
 },
 "nbformat": 4,
 "nbformat_minor": 1
}
