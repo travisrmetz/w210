{
 "cells": [
  {
   "cell_type": "markdown",
   "metadata": {
    "colab_type": "text",
    "id": "ImJOhE4BrfK7"
   },
   "source": [
    "## Exoplanet Model Work\n",
    "\n"
   ]
  },
  {
   "cell_type": "markdown",
   "metadata": {
    "colab_type": "text",
    "id": "OlNrYnNsrp4C"
   },
   "source": [
    "#### Import packages"
   ]
  },
  {
   "cell_type": "code",
   "execution_count": 20,
   "metadata": {
    "colab": {},
    "colab_type": "code",
    "id": "5Y0LD8oscOFG"
   },
   "outputs": [],
   "source": [
    "import pydot\n",
    "import numpy as np\n",
    "import tensorflow as tf\n",
    "import pandas as pd \n",
    "import matplotlib.pyplot as plt\n",
    "import cv2\n",
    "import os\n",
    "from sklearn.model_selection import train_test_split\n",
    "from sklearn.preprocessing import scale\n",
    "from sklearn.preprocessing import LabelEncoder\n",
    "from sklearn.preprocessing import StandardScaler\n",
    "import io\n",
    "from keras.utils import plot_model\n",
    "import random\n",
    "import yaml\n",
    "#import ktrain\n",
    "from astropy.io import ascii as ap_ascii\n",
    "import seaborn as sns\n",
    "import os\n",
    "import IPython\n",
    "\n",
    "import matplotlib as mpl\n",
    "from sklearn.metrics import roc_curve\n",
    "from sklearn.metrics import confusion_matrix\n",
    "from sklearn.model_selection import RandomizedSearchCV\n",
    "\n",
    "pd.set_option('display.float_format', lambda x: '%.5f' % x)\n",
    "mpl.rcParams['figure.figsize'] = (12, 10)\n",
    "colors = plt.rcParams['axes.prop_cycle'].by_key()['color']\n",
    "np.set_printoptions(precision=None, suppress=True)\n",
    "\n",
    "from helpers.visualize import chart_curves \n",
    "from definitions import PROCESSED_DATA_DIR,PROCESSED_DATA_CATALOG\n",
    "#PROCESSED_DATA_DIR='processed_data'\n",
    "TCE_LIST='tce_table.csv'\n",
    "FAILED_LIST='failed_kepids.csv'\n",
    "MODEL_DIR='models'\n",
    "\n",
    "BATCH_SIZE=96"
   ]
  },
  {
   "cell_type": "markdown",
   "metadata": {},
   "source": [
    "#### Model analysis plotting and charting functions"
   ]
  },
  {
   "cell_type": "code",
   "execution_count": 21,
   "metadata": {},
   "outputs": [],
   "source": [
    "def plot_metrics(history):\n",
    "    metrics =  ['loss', 'accuracy', 'precision', 'recall']\n",
    "    for n, metric in enumerate(metrics):\n",
    "        name = metric.replace(\"_\",\" \").capitalize()\n",
    "        plt.subplot(2,2,n+1)\n",
    "        plt.plot(history.epoch,  history.history[metric], color=colors[0], label='Train')\n",
    "        plt.plot(history.epoch, history.history['val_'+metric],\n",
    "                 color=colors[0], linestyle=\"--\", label='Val')\n",
    "        plt.xlabel('Epoch')\n",
    "        plt.ylabel(name)\n",
    "        if metric == 'loss':\n",
    "          plt.ylim([0, plt.ylim()[1]])\n",
    "        elif metric == 'auc':\n",
    "          plt.ylim([0.8,1])\n",
    "        else:\n",
    "          plt.ylim([0,1])\n",
    "\n",
    "        plt.legend()\n",
    "    plt.show()\n",
    "\n",
    "\n",
    "#roc curve\n",
    "def plot_roc(name, labels, predictions, **kwargs):\n",
    "    fp, tp, _ = roc_curve(labels, predictions)\n",
    "\n",
    "    plt.plot(100*fp, 100*tp, label=name, linewidth=2, **kwargs)\n",
    "    plt.xlabel('False positives [%]')\n",
    "    plt.ylabel('True positives [%]')\n",
    "    plt.xlim([-0.5,20])\n",
    "    plt.ylim([80,100.5])\n",
    "    plt.grid(True)\n",
    "    ax = plt.gca()\n",
    "    ax.set_aspect('equal')\n",
    "    \n",
    "\n",
    "#confusion matrix\n",
    "def plot_cm(labels, predictions, p=0.5):\n",
    "    cm = confusion_matrix(labels, predictions > p)\n",
    "    plt.figure(figsize=(5,5))\n",
    "    sns.heatmap(cm, annot=True, fmt=\"d\")\n",
    "    plt.title('Confusion matrix @{:.2f}'.format(p))\n",
    "    plt.ylabel('Actual label')\n",
    "    plt.xlabel('Predicted label')\n",
    "    plt.show()\n",
    "    \n",
    "    print('Not Planets Properly Categorized (True Negatives): ', cm[0][0])\n",
    "    print('Not Planets Categorized as Planets Detected (False Positives): ', cm[0][1])\n",
    "    print('Planets Missed (False Negatives): ', cm[1][0])\n",
    "    print('Planets Properly Categorized (True Positives): ', cm[1][1])\n",
    "    print('Total Planets: ', np.sum(cm[1]))\n",
    "    print('Accuracy: ',(cm[0][0]+cm[1][1])/len(predictions))\n",
    "    \n",
    "#takes in the tce index number, the tce id table, the results table (which figures out tp etc),\n",
    "#and the two vector tables and then calls the visualization helper function which\n",
    "#creates a chart and saves inside of processed_data folder structure\n",
    "def chart(tce_number,tce_id,results,x_global,x_local):\n",
    "    kepid=tce_id.loc[tce_number].kepid\n",
    "    result=val_results.loc[tce_number].result\n",
    "    tce_plnt_num=tce_id.loc[tce_number].tce_plnt_num\n",
    "    chart_curves(str(kepid),tce_plnt_num,\n",
    "             result,\n",
    "             x_global_val[tce_number],x_local_val[tce_number])\n",
    "    "
   ]
  },
  {
   "cell_type": "markdown",
   "metadata": {},
   "source": [
    "#### Construct and return a model"
   ]
  },
  {
   "cell_type": "code",
   "execution_count": 3,
   "metadata": {},
   "outputs": [],
   "source": [
    "#make the model\n",
    "METRICS = [\n",
    "          tf.keras.metrics.TruePositives(name='tp'),\n",
    "          tf.keras.metrics.FalsePositives(name='fp'),\n",
    "          tf.keras.metrics.TrueNegatives(name='tn'),\n",
    "          tf.keras.metrics.FalseNegatives(name='fn'), \n",
    "          tf.keras.metrics.BinaryAccuracy(name='accuracy'),\n",
    "          tf.keras.metrics.Precision(name='precision'),\n",
    "          tf.keras.metrics.Recall(name='recall'),\n",
    "          tf.keras.metrics.AUC(name='auc')\n",
    "    ]\n",
    "\n",
    "\n",
    "def make_model(metrics=METRICS,output_bias=None):\n",
    "    input_local = tf.keras.layers.Input(shape=[x_local.shape[1],1])\n",
    "    input_global=tf.keras.layers.Input(shape=[x_global.shape[1],1])\n",
    "\n",
    "    #k_local = tf.keras.layers.BatchNormalization()(input_local)\n",
    "    #k_local=tf.keras.layers.Conv1D(filters=16,kernel_size=5,activation='relu')(k_local)\n",
    "    k_local=tf.keras.layers.Conv1D(filters=16,kernel_size=5,activation='relu')(input_local)\n",
    "\n",
    "    k_local=tf.keras.layers.Conv1D(16,5,activation='relu')(k_local)\n",
    "    k_local=tf.keras.layers.MaxPooling1D(pool_size=7,strides=2,padding='same')(k_local)\n",
    "    k_local=tf.keras.layers.Conv1D(32,5,activation='relu')(k_local)\n",
    "    k_local=tf.keras.layers.Conv1D(32,5,activation='relu')(k_local)\n",
    "    k_local=tf.keras.layers.MaxPooling1D(pool_size=7,strides=2,padding='same')(k_local)\n",
    "    k_local=tf.keras.layers.Flatten()(k_local)\n",
    "\n",
    "    #k_global=tf.keras.layers.BatchNormalization()(input_global)\n",
    "    #k_global=tf.keras.layers.Conv1D(filters=16,kernel_size=5,activation='relu')(k_global)\n",
    "    k_global=tf.keras.layers.Conv1D(filters=16,kernel_size=5,activation='relu')(input_global)\n",
    "\n",
    "    k_global=tf.keras.layers.Conv1D(16,5,activation='relu')(k_global)\n",
    "    k_global=tf.keras.layers.MaxPooling1D(pool_size=5,strides=2,padding='same')(k_global)\n",
    "    k_global=tf.keras.layers.Conv1D(32,5,activation='relu')(k_global)\n",
    "    k_global=tf.keras.layers.Conv1D(32,5,activation='relu')(k_global)\n",
    "    k_global=tf.keras.layers.MaxPooling1D(pool_size=5,strides=2,padding='same')(k_global)\n",
    "    #k_global=tf.keras.layers.Conv1D(64,5,activation='relu')(k_global)\n",
    "    #k_global=tf.keras.layers.Conv1D(64,5,activation='relu')(k_global)\n",
    "    #k_global=tf.keras.layers.MaxPooling1D(pool_size=5,strides=2,padding='same')(k_global)\n",
    "    #k_global=tf.keras.layers.Conv1D(128,5,activation='relu')(k_global)\n",
    "    #k_global=tf.keras.layers.Conv1D(128,5,activation='relu')(k_global)\n",
    "    #k_global=tf.keras.layers.MaxPooling1D(pool_size=5,strides=2,padding='same')(k_global)\n",
    "    #k_global=tf.keras.layers.Conv1D(256,5,activation='relu')(k_global)\n",
    "    #k_global=tf.keras.layers.Conv1D(256,5,activation='relu')(k_global)\n",
    "    #k_global=tf.keras.layers.MaxPooling1D(pool_size=5,strides=2,padding='same')(k_global)\n",
    "    k_global=tf.keras.layers.Flatten()(k_global)\n",
    "\n",
    "    #combines two branches\n",
    "    k = tf.keras.layers.concatenate([k_local, k_global])\n",
    "\n",
    "    k=tf.keras.layers.Dense(512,activation='relu')(k)\n",
    "    k=tf.keras.layers.Dropout(.6)(k)\n",
    "    k=tf.keras.layers.Dense(512,activation='relu')(k)\n",
    "    #k=tf.keras.layers.Dropout(.6)(k)\n",
    "    k=tf.keras.layers.Dense(512,activation='relu')(k)\n",
    "    #k=tf.keras.layers.Dropout(.6)(k)\n",
    "    k=tf.keras.layers.Dense(512,activation='relu')(k)\n",
    "    k=tf.keras.layers.Dropout(.6)(k)\n",
    "\n",
    "    if output_bias is not None:\n",
    "        output_bias=tf.keras.initializers.Constant(output_bias)\n",
    "        \n",
    "    output=tf.keras.layers.Dense(1,activation='sigmoid',bias_initializer=output_bias)(k)\n",
    "\n",
    "    model=tf.keras.Model(inputs=[input_local,input_global],outputs=output)\n",
    "\n",
    "    model.compile(loss=tf.keras.losses.BinaryCrossentropy()\n",
    "                  ,optimizer=tf.keras.optimizers.Adam(lr=1e-3),\n",
    "                  metrics=METRICS)\n",
    "\n",
    "    return(model)"
   ]
  },
  {
   "cell_type": "markdown",
   "metadata": {},
   "source": [
    "#### Read in and process data for use in model"
   ]
  },
  {
   "cell_type": "code",
   "execution_count": 22,
   "metadata": {},
   "outputs": [
    {
     "name": "stdout",
     "output_type": "stream",
     "text": [
      "(34032, 86)\n",
      "(438, 2)\n",
      "(33594, 86)\n",
      "FALSE POSITIVE    29397\n",
      "CONFIRMED          2345\n",
      "CANDIDATE          1852\n",
      "Name: koi_disposition, dtype: int64\n",
      "0-FALSE POSITIVE    29397\n",
      "1-CONFIRMED          4197\n",
      "Name: koi_disposition, dtype: int64\n",
      "Baseline accuracy: 0.8750669762457581\n",
      "(33594, 201)\n",
      "(33594, 2001)\n",
      "(33594, 201)\n",
      "(33594, 2001)\n"
     ]
    },
    {
     "data": {
      "image/png": "[encoded data removed]",
      "text/plain": [
       "<Figure size 1440x432 with 2 Axes>"
      ]
     },
     "metadata": {
      "needs_background": "light"
     },
     "output_type": "display_data"
    },
    {
     "name": "stdout",
     "output_type": "stream",
     "text": [
      "(33594, 201, 1)\n",
      "(33594, 2001, 1)\n",
      "(26875, 201, 1)\n",
      "(26875, 2001, 1)\n",
      "(26875,)\n",
      "(26875, 3)\n",
      "(6719, 201, 1)\n",
      "(6719, 2001, 1)\n",
      "(6719,)\n",
      "(6719, 3)\n"
     ]
    }
   ],
   "source": [
    "def get_data():\n",
    "    #this excludes from tce_list those kepids and planet numbers that failed make_data process\n",
    "    processed=pd.read_csv(os.path.join(PROCESSED_DATA_DIR,TCE_LIST))\n",
    "    print(processed.shape)\n",
    "    try:\n",
    "        failed=pd.read_csv(os.path.join(PROCESSED_DATA_DIR,FAILED_LIST))\n",
    "        failed.columns=['kepid','tce_plnt_num']\n",
    "        print(failed.shape)\n",
    "        for index,row in failed.iterrows():\n",
    "            processed.drop(processed[(processed.kepid==row.kepid) & \n",
    "                                     (processed.tce_plnt_num==row.tce_plnt_num)].index,inplace=True)\n",
    "    except:\n",
    "        pass\n",
    "\n",
    "    processed=processed.reset_index(drop=True)\n",
    "    print(processed.shape)\n",
    "\n",
    "    #maybe need to save processed with failed KEPIDs in it and with a flag - do analysis of how many of those\n",
    "    #are confirmed?\n",
    "\n",
    "    #save processed list back out (so excludes those KEPIDS/PLNTs with NO light curves)\n",
    "    processed.to_csv(os.path.join(PROCESSED_DATA_DIR,PROCESSED_DATA_CATALOG),index=False)\n",
    "    \n",
    "    \n",
    "    print(processed.koi_disposition.value_counts())\n",
    "\n",
    "    #combine confirmed and candidate\n",
    "    #using 0 and 1 in front of name to force positive class to be planets\n",
    "    processed.replace({'koi_disposition':\n",
    "                       {'CANDIDATE':'1-CONFIRMED','CONFIRMED':'1-CONFIRMED','FALSE POSITIVE':'0-FALSE POSITIVE'}},\n",
    "                      inplace=True)\n",
    "\n",
    "    print(processed.koi_disposition.value_counts())\n",
    "    print('Baseline accuracy:', processed[processed.koi_disposition=='0-FALSE POSITIVE'].shape[0]/processed.shape[0])\n",
    "\n",
    "    \n",
    "    LOCAL='localbinned_df.csv'\n",
    "    GLOBAL='globalbinned_df.csv'\n",
    "    x_local=pd.read_csv(os.path.join(PROCESSED_DATA_DIR,LOCAL))\n",
    "    x_global=pd.read_csv(os.path.join(PROCESSED_DATA_DIR,GLOBAL))\n",
    "    print(x_local.shape)\n",
    "    print(x_global.shape)\n",
    "    \n",
    "    \n",
    "    #add kepid and tce_plnt_number to x\n",
    "    tce_id=pd.DataFrame()\n",
    "    tce_id['kepid']=processed.kepid.astype('int')\n",
    "    tce_id['tce_plnt_num']=processed.tce_plnt_num.astype('int')\n",
    "    tce_id['koi_disposition']=processed.koi_disposition\n",
    "    \n",
    "    #turn into numpy arrays/series\n",
    "    x_local=x_local.to_numpy()\n",
    "    x_global=x_global.to_numpy()\n",
    "    print(x_local.shape)\n",
    "    print(x_global.shape)\n",
    "    \n",
    "    #can print out charts\n",
    "    tce_number=3\n",
    "    chart_curves(tce_id.kepid[tce_number],\n",
    "                 tce_id.tce_plnt_num[tce_number],\n",
    "                 x_global[tce_number],\n",
    "                 x_local[tce_number],\n",
    "                 tce_id.koi_disposition[tce_number])\n",
    "    #Conv1D layers take in tensors of dimension (length of vector = 201 or 2001, and dimensions of vector=1)\n",
    "    #So as with Conv2D in BW where need to add a color dimension here have to specify that there is only one\n",
    "    #dimension in each vector\n",
    "    x_local=np.expand_dims(x_local,axis=2)\n",
    "    x_global=np.expand_dims(x_global,axis=2)\n",
    "\n",
    "    print(x_local.shape)\n",
    "    print(x_global.shape)\n",
    "    \n",
    "    #turn output into categorical variable with encoding\n",
    "    Y=processed.koi_disposition\n",
    "    le=LabelEncoder()\n",
    "    le.fit(['1-CONFIRMED','0-FALSE POSITIVE'])\n",
    "    Y=le.transform(Y)\n",
    "    \n",
    "    x_local_train, x_local_val, x_global_train, x_global_val, Y_train, Y_val,tce_id_train,tce_id_val = train_test_split(\n",
    "    x_local,x_global, Y,tce_id, test_size=0.2)\n",
    "\n",
    "\n",
    "    return (x_local_train, x_local_val, x_global_train, x_global_val, Y_train, Y_val,tce_id_train,tce_id_val)\n",
    "\n",
    "\n",
    "x_local_train, x_local_val, x_global_train, x_global_val, Y_train, Y_val,tce_id_train,tce_id_val=get_data()   \n",
    "print(x_local_train.shape)\n",
    "print(x_global_train.shape)\n",
    "print(Y_train.shape)\n",
    "print(tce_id_train.shape)\n",
    "print(x_local_val.shape)\n",
    "print(x_global_val.shape)\n",
    "print(Y_val.shape)\n",
    "print(tce_id_val.shape)\n",
    "    \n",
    "    "
   ]
  },
  {
   "cell_type": "code",
   "execution_count": 4,
   "metadata": {},
   "outputs": [
    {
     "name": "stdout",
     "output_type": "stream",
     "text": [
      "(34032, 86)\n",
      "(438, 2)\n",
      "(33594, 86)\n"
     ]
    }
   ],
   "source": [
    "#this excludes from tce_list those kepids and planet numbers that failed make_data process\n",
    "processed=pd.read_csv(os.path.join(PROCESSED_DATA_DIR,TCE_LIST))\n",
    "print(processed.shape)\n",
    "try:\n",
    "    failed=pd.read_csv(os.path.join(PROCESSED_DATA_DIR,FAILED_LIST))\n",
    "    failed.columns=['kepid','tce_plnt_num']\n",
    "    print(failed.shape)\n",
    "    for index,row in failed.iterrows():\n",
    "        processed.drop(processed[(processed.kepid==row.kepid) & \n",
    "                                 (processed.tce_plnt_num==row.tce_plnt_num)].index,inplace=True)\n",
    "except:\n",
    "    pass\n",
    "    \n",
    "processed=processed.reset_index(drop=True)\n",
    "print(processed.shape)\n",
    "\n",
    "#maybe need to save processed with failed KEPIDs in it and with a flag - do analysis of how many of those\n",
    "#are confirmed?\n",
    "\n",
    "#save processed list back out (so excludes those KEPIDS/PLNTs with NO light curves)\n",
    "processed.to_csv(os.path.join(PROCESSED_DATA_DIR,PROCESSED_DATA_CATALOG),index=False)"
   ]
  },
  {
   "cell_type": "code",
   "execution_count": 5,
   "metadata": {},
   "outputs": [
    {
     "name": "stdout",
     "output_type": "stream",
     "text": [
      "FALSE POSITIVE    29397\n",
      "CONFIRMED          2345\n",
      "CANDIDATE          1852\n",
      "Name: koi_disposition, dtype: int64\n",
      "0-FALSE POSITIVE    29397\n",
      "1-CONFIRMED          4197\n",
      "Name: koi_disposition, dtype: int64\n",
      "Baseline accuracy: 0.8750669762457581\n"
     ]
    }
   ],
   "source": [
    "print(processed.koi_disposition.value_counts())\n",
    "\n",
    "#combine confirmed and candidate\n",
    "#using 0 and 1 in front of name to force positive class to be planets\n",
    "processed.replace({'koi_disposition':\n",
    "                   {'CANDIDATE':'1-CONFIRMED','CONFIRMED':'1-CONFIRMED','FALSE POSITIVE':'0-FALSE POSITIVE'}},\n",
    "                  inplace=True)\n",
    "\n",
    "print(processed.koi_disposition.value_counts())\n",
    "print('Baseline accuracy:', processed[processed.koi_disposition=='0-FALSE POSITIVE'].shape[0]/processed.shape[0])\n",
    "\n",
    "#add kepid and tce_plnt_number to x\n",
    "tce_id=pd.DataFrame()\n",
    "tce_id['kepid']=processed.kepid.astype('int')\n",
    "tce_id['tce_plnt_num']=processed.tce_plnt_num.astype('int')\n",
    "tce_id['koi_disposition']=processed.koi_disposition"
   ]
  },
  {
   "cell_type": "code",
   "execution_count": 6,
   "metadata": {},
   "outputs": [
    {
     "name": "stdout",
     "output_type": "stream",
     "text": [
      "(33594, 201)\n",
      "(33594, 2001)\n"
     ]
    }
   ],
   "source": [
    "LOCAL='localbinned_df.csv'\n",
    "GLOBAL='globalbinned_df.csv'\n",
    "x_local=pd.read_csv(os.path.join(PROCESSED_DATA_DIR,LOCAL))\n",
    "x_global=pd.read_csv(os.path.join(PROCESSED_DATA_DIR,GLOBAL))\n",
    "print(x_local.shape)\n",
    "print(x_global.shape)"
   ]
  },
  {
   "cell_type": "code",
   "execution_count": 7,
   "metadata": {},
   "outputs": [],
   "source": [
    "#add kepid and tce_plnt_number to x\n",
    "tce_id=pd.DataFrame()\n",
    "tce_id['kepid']=processed.kepid.astype('int')\n",
    "tce_id['tce_plnt_num']=processed.tce_plnt_num.astype('int')\n",
    "tce_id['koi_disposition']=processed.koi_disposition\n"
   ]
  },
  {
   "cell_type": "code",
   "execution_count": 8,
   "metadata": {},
   "outputs": [
    {
     "name": "stdout",
     "output_type": "stream",
     "text": [
      "(33594, 201)\n",
      "(33594, 2001)\n"
     ]
    }
   ],
   "source": [
    "#turn into numpy arrays/series\n",
    "x_local=x_local.to_numpy()\n",
    "x_global=x_global.to_numpy()\n",
    "print(x_local.shape)\n",
    "print(x_global.shape)"
   ]
  },
  {
   "cell_type": "code",
   "execution_count": 9,
   "metadata": {},
   "outputs": [
    {
     "data": {
      "image/png": "[encoded data removed]",
      "text/plain": [
       "<Figure size 1440x432 with 2 Axes>"
      ]
     },
     "metadata": {
      "needs_background": "light"
     },
     "output_type": "display_data"
    }
   ],
   "source": [
    "#can print out charts\n",
    "tce_number=3\n",
    "chart_curves(tce_id.kepid[tce_number],\n",
    "             tce_id.tce_plnt_num[tce_number],\n",
    "             x_global[tce_number],\n",
    "             x_local[tce_number],\n",
    "             tce_id.koi_disposition[tce_number])\n",
    "\n"
   ]
  },
  {
   "cell_type": "code",
   "execution_count": 10,
   "metadata": {},
   "outputs": [
    {
     "name": "stdout",
     "output_type": "stream",
     "text": [
      "(33594, 201, 1)\n",
      "(33594, 2001, 1)\n"
     ]
    }
   ],
   "source": [
    "#Conv1D layers take in tensors of dimension (length of vector = 201 or 2001, and dimensions of vector=1)\n",
    "#So as with Conv2D in BW where need to add a color dimension here have to specify that there is only one\n",
    "#dimension in each vector\n",
    "x_local=np.expand_dims(x_local,axis=2)\n",
    "x_global=np.expand_dims(x_global,axis=2)\n",
    "\n",
    "print(x_local.shape)\n",
    "print(x_global.shape)"
   ]
  },
  {
   "cell_type": "code",
   "execution_count": 11,
   "metadata": {},
   "outputs": [],
   "source": [
    "#turn output into categorical variable with encoding\n",
    "Y=processed.koi_disposition\n",
    "le=LabelEncoder()\n",
    "le.fit(['1-CONFIRMED','0-FALSE POSITIVE'])\n",
    "Y=le.transform(Y)"
   ]
  },
  {
   "cell_type": "code",
   "execution_count": 12,
   "metadata": {},
   "outputs": [
    {
     "name": "stdout",
     "output_type": "stream",
     "text": [
      "(26875, 201, 1)\n",
      "(26875, 2001, 1)\n",
      "(26875,)\n",
      "(26875, 3)\n",
      "(6719, 201, 1)\n",
      "(6719, 2001, 1)\n",
      "(6719,)\n",
      "(6719, 3)\n"
     ]
    }
   ],
   "source": [
    "x_local_train, x_local_val, x_global_train, x_global_val, Y_train, Y_val,tce_id_train,tce_id_val = train_test_split(\n",
    "    x_local,x_global, Y,tce_id, test_size=0.2)\n",
    "\n",
    "print(x_local_train.shape)\n",
    "print(x_global_train.shape)\n",
    "print(Y_train.shape)\n",
    "print(tce_id_train.shape)\n",
    "print(x_local_val.shape)\n",
    "print(x_global_val.shape)\n",
    "print(Y_val.shape)\n",
    "print(tce_id_val.shape)"
   ]
  },
  {
   "cell_type": "markdown",
   "metadata": {},
   "source": [
    "#### Model setup work"
   ]
  },
  {
   "cell_type": "code",
   "execution_count": 13,
   "metadata": {},
   "outputs": [
    {
     "name": "stdout",
     "output_type": "stream",
     "text": [
      "WARNING:tensorflow:Large dropout rate: 0.6 (>0.5). In TensorFlow 2.x, dropout() uses dropout rate instead of keep_prob. Please ensure that this is intended.\n",
      "WARNING:tensorflow:Large dropout rate: 0.6 (>0.5). In TensorFlow 2.x, dropout() uses dropout rate instead of keep_prob. Please ensure that this is intended.\n",
      "26875/26875 [==============================] - 15s 561us/sample - loss: 0.6575 - tp: 0.0000e+00 - fp: 0.0000e+00 - tn: 23529.0000 - fn: 3346.0000 - accuracy: 0.8755 - precision: 0.0000e+00 - recall: 0.0000e+00 - auc: 0.7477\n",
      "Loss: 0.6575\n",
      "29397 4197 33594\n",
      "[-1.94652264]\n",
      "WARNING:tensorflow:Large dropout rate: 0.6 (>0.5). In TensorFlow 2.x, dropout() uses dropout rate instead of keep_prob. Please ensure that this is intended.\n",
      "WARNING:tensorflow:Large dropout rate: 0.6 (>0.5). In TensorFlow 2.x, dropout() uses dropout rate instead of keep_prob. Please ensure that this is intended.\n",
      "26875/26875 [==============================] - 15s 559us/sample - loss: 0.3758 - tp: 0.0000e+00 - fp: 0.0000e+00 - tn: 23529.0000 - fn: 3346.0000 - accuracy: 0.8755 - precision: 0.0000e+00 - recall: 0.0000e+00 - auc: 0.4640\n",
      "Loss: 0.3758\n"
     ]
    }
   ],
   "source": [
    "#work on setting initial bias\n",
    "tf.keras.backend.clear_session()\n",
    "model=make_model()\n",
    "model.predict([x_local_train[:10],x_global_train[:10]])\n",
    "results = model.evaluate([x_local_train,x_global_train],Y_train, batch_size=BATCH_SIZE, verbose=1)\n",
    "print(\"Loss: {:0.4f}\".format(results[0]))\n",
    "neg, pos = np.bincount(Y)\n",
    "total = neg + pos\n",
    "print(neg,pos,total)\n",
    "initial_bias=np.log([pos/neg])\n",
    "print(initial_bias)\n",
    "model = make_model(output_bias = initial_bias)\n",
    "model.predict([x_local_train[:10],x_global_train[:10]])\n",
    "results = model.evaluate([x_local_train,x_global_train],Y_train, batch_size=BATCH_SIZE, verbose=1)\n",
    "print(\"Loss: {:0.4f}\".format(results[0]))\n",
    "\n",
    "initial_weights = os.path.join(MODEL_DIR,'initial_weights')\n",
    "model.save_weights(initial_weights)"
   ]
  },
  {
   "cell_type": "code",
   "execution_count": 14,
   "metadata": {},
   "outputs": [
    {
     "data": {
      "image/png": "[encoded data removed]",
      "text/plain": [
       "<IPython.core.display.Image object>"
      ]
     },
     "execution_count": 14,
     "metadata": {},
     "output_type": "execute_result"
    }
   ],
   "source": [
    "tf.keras.utils.plot_model(\n",
    "    model, to_file=os.path.join(MODEL_DIR,'model.png'), show_shapes=True, show_layer_names=True,\n",
    "    rankdir='TB', expand_nested=True, dpi=96\n",
    ")"
   ]
  },
  {
   "cell_type": "markdown",
   "metadata": {},
   "source": [
    "#### Train model"
   ]
  },
  {
   "cell_type": "code",
   "execution_count": 16,
   "metadata": {},
   "outputs": [],
   "source": [
    "early_stopping = tf.keras.callbacks.EarlyStopping(\n",
    "    monitor='val_accuracy', \n",
    "    verbose=1,\n",
    "    patience=5,\n",
    "    mode='max',\n",
    "    restore_best_weights=True)"
   ]
  },
  {
   "cell_type": "code",
   "execution_count": 17,
   "metadata": {},
   "outputs": [
    {
     "name": "stdout",
     "output_type": "stream",
     "text": [
      "WARNING:tensorflow:Large dropout rate: 0.6 (>0.5). In TensorFlow 2.x, dropout() uses dropout rate instead of keep_prob. Please ensure that this is intended.\n",
      "Train on 26875 samples, validate on 6719 samples\n",
      "Epoch 1/20\n",
      "26875/26875 [==============================] - 60s 2ms/sample - loss: 0.1738 - tp: 2185.0000 - fp: 599.0000 - tn: 22930.0000 - fn: 1161.0000 - accuracy: 0.9345 - precision: 0.7848 - recall: 0.6530 - auc: 0.9485 - val_loss: 0.1401 - val_tp: 614.0000 - val_fp: 77.0000 - val_tn: 5791.0000 - val_fn: 237.0000 - val_accuracy: 0.9533 - val_precision: 0.8886 - val_recall: 0.7215 - val_auc: 0.9683\n",
      "Epoch 2/20\n",
      "26875/26875 [==============================] - 56s 2ms/sample - loss: 0.1329 - tp: 2568.0000 - fp: 468.0000 - tn: 23061.0000 - fn: 778.0000 - accuracy: 0.9536 - precision: 0.8458 - recall: 0.7675 - auc: 0.9656 - val_loss: 0.1217 - val_tp: 711.0000 - val_fp: 144.0000 - val_tn: 5724.0000 - val_fn: 140.0000 - val_accuracy: 0.9577 - val_precision: 0.8316 - val_recall: 0.8355 - val_auc: 0.9709\n",
      "Epoch 3/20\n",
      "26875/26875 [==============================] - 56s 2ms/sample - loss: 0.1201 - tp: 2659.0000 - fp: 433.0000 - tn: 23096.0000 - fn: 687.0000 - accuracy: 0.9583 - precision: 0.8600 - recall: 0.7947 - auc: 0.9701 - val_loss: 0.1368 - val_tp: 587.0000 - val_fp: 54.0000 - val_tn: 5814.0000 - val_fn: 264.0000 - val_accuracy: 0.9527 - val_precision: 0.9158 - val_recall: 0.6898 - val_auc: 0.9722\n",
      "Epoch 4/20\n",
      "26875/26875 [==============================] - 56s 2ms/sample - loss: 0.1171 - tp: 2684.0000 - fp: 432.0000 - tn: 23097.0000 - fn: 662.0000 - accuracy: 0.9593 - precision: 0.8614 - recall: 0.8022 - auc: 0.9723 - val_loss: 0.1188 - val_tp: 718.0000 - val_fp: 131.0000 - val_tn: 5737.0000 - val_fn: 133.0000 - val_accuracy: 0.9607 - val_precision: 0.8457 - val_recall: 0.8437 - val_auc: 0.9727\n",
      "Epoch 5/20\n",
      "26875/26875 [==============================] - 56s 2ms/sample - loss: 0.1090 - tp: 2739.0000 - fp: 397.0000 - tn: 23132.0000 - fn: 607.0000 - accuracy: 0.9626 - precision: 0.8734 - recall: 0.8186 - auc: 0.9762 - val_loss: 0.1193 - val_tp: 655.0000 - val_fp: 83.0000 - val_tn: 5785.0000 - val_fn: 196.0000 - val_accuracy: 0.9585 - val_precision: 0.8875 - val_recall: 0.7697 - val_auc: 0.9731\n",
      "Epoch 6/20\n",
      "26875/26875 [==============================] - 56s 2ms/sample - loss: 0.0980 - tp: 2805.0000 - fp: 365.0000 - tn: 23164.0000 - fn: 541.0000 - accuracy: 0.9663 - precision: 0.8849 - recall: 0.8383 - auc: 0.9806 - val_loss: 0.1187 - val_tp: 643.0000 - val_fp: 74.0000 - val_tn: 5794.0000 - val_fn: 208.0000 - val_accuracy: 0.9580 - val_precision: 0.8968 - val_recall: 0.7556 - val_auc: 0.9724\n",
      "Epoch 7/20\n",
      "26875/26875 [==============================] - 56s 2ms/sample - loss: 0.0889 - tp: 2831.0000 - fp: 314.0000 - tn: 23215.0000 - fn: 515.0000 - accuracy: 0.9692 - precision: 0.9002 - recall: 0.8461 - auc: 0.9848 - val_loss: 0.1183 - val_tp: 656.0000 - val_fp: 84.0000 - val_tn: 5784.0000 - val_fn: 195.0000 - val_accuracy: 0.9585 - val_precision: 0.8865 - val_recall: 0.7709 - val_auc: 0.9738\n",
      "Epoch 8/20\n",
      "26875/26875 [==============================] - 56s 2ms/sample - loss: 0.0786 - tp: 2891.0000 - fp: 291.0000 - tn: 23238.0000 - fn: 455.0000 - accuracy: 0.9722 - precision: 0.9085 - recall: 0.8640 - auc: 0.9871 - val_loss: 0.1364 - val_tp: 653.0000 - val_fp: 75.0000 - val_tn: 5793.0000 - val_fn: 198.0000 - val_accuracy: 0.9594 - val_precision: 0.8970 - val_recall: 0.7673 - val_auc: 0.9661\n",
      "Epoch 9/20\n",
      "26784/26875 [============================>.] - ETA: 0s - loss: 0.0678 - tp: 2957.0000 - fp: 242.0000 - tn: 23208.0000 - fn: 377.0000 - accuracy: 0.9769 - precision: 0.9244 - recall: 0.8869 - auc: 0.9911Restoring model weights from the end of the best epoch.\n",
      "26875/26875 [==============================] - 56s 2ms/sample - loss: 0.0679 - tp: 2966.0000 - fp: 243.0000 - tn: 23286.0000 - fn: 380.0000 - accuracy: 0.9768 - precision: 0.9243 - recall: 0.8864 - auc: 0.9911 - val_loss: 0.1489 - val_tp: 656.0000 - val_fp: 73.0000 - val_tn: 5795.0000 - val_fn: 195.0000 - val_accuracy: 0.9601 - val_precision: 0.8999 - val_recall: 0.7709 - val_auc: 0.9608\n",
      "Epoch 00009: early stopping\n"
     ]
    }
   ],
   "source": [
    "tf.keras.backend.clear_session()\n",
    "model=make_model()\n",
    "model.load_weights(initial_weights)\n",
    "\n",
    "#history=model.fit([x_local_train,x_global_train],\n",
    "#                  Y_train,\n",
    "#                  validation_data=([x_local_val,x_global_val],Y_val),\n",
    "#                  steps_per_epoch=25,\n",
    "#                  epochs=EPOCHS*20,\n",
    "#                  callbacks=[early_stopping],\n",
    "#                  verbose=1)\n",
    "\n",
    "EPOCHS=20\n",
    "\n",
    "\n",
    "\n",
    "history=model.fit([x_local_train,x_global_train],\n",
    "                  Y_train,\n",
    "                  validation_data=([x_local_val,x_global_val],Y_val),\n",
    "                  batch_size=BATCH_SIZE,\n",
    "                  epochs=EPOCHS,\n",
    "                  callbacks=[early_stopping],\n",
    "                  verbose=1)\n",
    "\n"
   ]
  },
  {
   "cell_type": "markdown",
   "metadata": {},
   "source": [
    "#### Save model"
   ]
  },
  {
   "cell_type": "code",
   "execution_count": 50,
   "metadata": {},
   "outputs": [
    {
     "name": "stdout",
     "output_type": "stream",
     "text": [
      "INFO:tensorflow:Assets written to: models/normal_model/assets\n"
     ]
    }
   ],
   "source": [
    "model.save(os.path.join(MODEL_DIR,'normal_model'))\n"
   ]
  },
  {
   "cell_type": "markdown",
   "metadata": {},
   "source": [
    "#### Load model"
   ]
  },
  {
   "cell_type": "code",
   "execution_count": null,
   "metadata": {},
   "outputs": [],
   "source": [
    "model = tf.keras.models.load_model(os.path.join(MODEL_DIR,'normal_model'))\n",
    "model.summary()"
   ]
  },
  {
   "cell_type": "code",
   "execution_count": 18,
   "metadata": {},
   "outputs": [],
   "source": [
    "val_predictions_baseline = model.predict([x_local_val,x_global_val], batch_size=BATCH_SIZE)\n",
    "train_predictions_baseline = model.predict([x_local_train,x_global_train], batch_size=BATCH_SIZE)"
   ]
  },
  {
   "cell_type": "code",
   "execution_count": 19,
   "metadata": {
    "scrolled": false
   },
   "outputs": [
    {
     "data": {
      "image/png": "[encoded data removed]",
      "text/plain": [
       "<Figure size 864x720 with 4 Axes>"
      ]
     },
     "metadata": {
      "needs_background": "light"
     },
     "output_type": "display_data"
    },
    {
     "data": {
      "image/png": "[encoded data removed]",
      "text/plain": [
       "<Figure size 360x360 with 2 Axes>"
      ]
     },
     "metadata": {
      "needs_background": "light"
     },
     "output_type": "display_data"
    },
    {
     "name": "stdout",
     "output_type": "stream",
     "text": [
      "Not Planets Properly Categorized (True Negatives):  5769\n",
      "Not Planets Categorized as Planets Detected (False Positives):  99\n",
      "Planets Missed (False Negatives):  167\n",
      "Planets Properly Categorized (True Positives):  684\n",
      "Total Planets:  851\n",
      "Accuracy:  0.9604107754130079\n"
     ]
    },
    {
     "data": {
      "image/png": "[encoded data removed]",
      "text/plain": [
       "<Figure size 360x360 with 2 Axes>"
      ]
     },
     "metadata": {
      "needs_background": "light"
     },
     "output_type": "display_data"
    },
    {
     "name": "stdout",
     "output_type": "stream",
     "text": [
      "Not Planets Properly Categorized (True Negatives):  5737\n",
      "Not Planets Categorized as Planets Detected (False Positives):  131\n",
      "Planets Missed (False Negatives):  133\n",
      "Planets Properly Categorized (True Positives):  718\n",
      "Total Planets:  851\n",
      "Accuracy:  0.9607084387557673\n"
     ]
    },
    {
     "data": {
      "image/png": "[encoded data removed]",
      "text/plain": [
       "<Figure size 360x360 with 2 Axes>"
      ]
     },
     "metadata": {
      "needs_background": "light"
     },
     "output_type": "display_data"
    },
    {
     "name": "stdout",
     "output_type": "stream",
     "text": [
      "Not Planets Properly Categorized (True Negatives):  5694\n",
      "Not Planets Categorized as Planets Detected (False Positives):  174\n",
      "Planets Missed (False Negatives):  110\n",
      "Planets Properly Categorized (True Positives):  741\n",
      "Total Planets:  851\n",
      "Accuracy:  0.9577318053281738\n"
     ]
    },
    {
     "data": {
      "text/plain": [
       "<matplotlib.legend.Legend at 0x7f210481a9b0>"
      ]
     },
     "execution_count": 19,
     "metadata": {},
     "output_type": "execute_result"
    },
    {
     "data": {
      "image/png": "[encoded data removed]",
      "text/plain": [
       "<Figure size 864x720 with 1 Axes>"
      ]
     },
     "metadata": {
      "needs_background": "light"
     },
     "output_type": "display_data"
    }
   ],
   "source": [
    "plot_metrics(history)\n",
    "\n",
    "plot_cm(Y_val, val_predictions_baseline,p=.6)\n",
    "plot_cm(Y_val, val_predictions_baseline)\n",
    "plot_cm(Y_val, val_predictions_baseline,p=.4)\n",
    "\n",
    "\n",
    "plot_roc(\"Train Baseline\", Y_train, train_predictions_baseline, color=colors[0])\n",
    "plot_roc(\"Test Baseline\", Y_val, val_predictions_baseline, color=colors[0], linestyle='--')\n",
    "plt.legend(loc='lower right')"
   ]
  },
  {
   "cell_type": "markdown",
   "metadata": {},
   "source": [
    "#### Parameter search using RandomizedSearchCV"
   ]
  },
  {
   "cell_type": "code",
   "execution_count": 12,
   "metadata": {},
   "outputs": [],
   "source": [
    "METRICS = [\n",
    "          tf.keras.metrics.TruePositives(name='tp'),\n",
    "          tf.keras.metrics.FalsePositives(name='fp'),\n",
    "          tf.keras.metrics.TrueNegatives(name='tn'),\n",
    "          tf.keras.metrics.FalseNegatives(name='fn'), \n",
    "          tf.keras.metrics.BinaryAccuracy(name='accuracy'),\n",
    "          tf.keras.metrics.Precision(name='precision'),\n",
    "          tf.keras.metrics.Recall(name='recall'),\n",
    "          tf.keras.metrics.AUC(name='auc')\n",
    "    ]\n",
    "\n",
    "\n",
    "#def make_cnn_model(\n",
    "#    cnn_global_filters,\n",
    "#    cnn_global_kernel,\n",
    "#    cnn_global_maxpool_window,\n",
    "#    cnn_global_maxpool_stride,\n",
    "#    cnn_local_filters,\n",
    "#    cnn_local_kernel,\n",
    "#    cnn_local_maxpool_window,\n",
    "#    cnn_local_maxpool_stride,\n",
    "#    fc_layers,\n",
    "#    fc_dropout_rate,\n",
    "#    l2_penalty,\n",
    "#    activation,\n",
    "#    optimizer):\n",
    "\n",
    "def make_cnn_model(param)\n",
    "    model = Sequential()   \n",
    "    \n",
    "    \n",
    "    input_local = tf.keras.layers.Input(shape=[x_local.shape[1],1])\n",
    "    input_global=tf.keras.layers.Input(shape=[x_global.shape[1],1])\n",
    "    \n",
    "    #combi_input = tf.keras.layers.Input((2,)) # (None, 3)\n",
    "    #input_local = Lambda(lambda x: tf.expand_dims(x[:,0],-1))(combi_input) # (None, 1) \n",
    "    #input_global = Lambda(lambda x: tf.expand_dims(x[:,1],-1))(combi_input) # (None, 1)\n",
    "    \n",
    "    \n",
    "    \n",
    "    #build global branch\n",
    "    for index, filters in enumerate(cnn_global_filters):       \n",
    "        if not index:\n",
    "            k_global=tf.keras.layers.Conv1D(filters=filters,\n",
    "                                            kernel_size=cnn_global_kernel,\n",
    "                                            activation=activation)(input_global)\n",
    "        else:\n",
    "            k_global=tf.keras.layers.Conv1D(filters=filters,\n",
    "                                            kernel_size=cnn_global_kernel,\n",
    "                                            activation=activation)(k_global)\n",
    "        \n",
    "        k_global=tf.keras.layers.MaxPooling1D(pool_size=cnn_global_window,\n",
    "                                              strides=cnn_global_stride,padding='same')(k_global)\n",
    "    \n",
    "    #build local branch\n",
    "    for index, filters in enumerate(cnn_local_filters):       \n",
    "        if not index:\n",
    "            k_local=tf.keras.layers.Conv1D(filters=filters,\n",
    "                                            kernel_size=cnn_local_kernel,\n",
    "                                            activation=activation)(input_local)\n",
    "        else:\n",
    "            k_local=tf.keras.layers.Conv1D(filters=filters,\n",
    "                                            kernel_size=cnn_local_kernel,\n",
    "                                            activation=activation)(k_local)\n",
    "        \n",
    "        k_local=tf.keras.layers.MaxPooling1D(pool_size=cnn_local_window,\n",
    "                                              strides=cnn_local_stride,padding='same')(k_local)\n",
    "    #flatten and concatenate\n",
    "    k_global=tf.keras.layers.Flatten()(k_global)\n",
    "    k_local=tf.keras.layers.Flatten()(k_local)\n",
    "    k = tf.keras.layers.concatenate([k_local, k_global])\n",
    "    \n",
    "    #now add dense layers\n",
    "    for fc_layer in fc_layers:\n",
    "            k=tf.keras.layers.Dense(fc_layer,activation=activation)(k)\n",
    "            k=tf.keras.layers.Dropout(fc_dropout_rate)(k)\n",
    "    \n",
    "    #output layer        \n",
    "    output=tf.keras.layers.Dense(1,activation='sigmoid')(k)\n",
    "\n",
    "    model=tf.keras.Model(inputs=[input_local,input_global],outputs=output)\n",
    "\n",
    "    model.compile(loss=tf.keras.losses.BinaryCrossentropy()\n",
    "                  ,optimizer=optimizer,\n",
    "                  metrics=METRICS)\n",
    "    return model"
   ]
  },
  {
   "cell_type": "code",
   "execution_count": 17,
   "metadata": {},
   "outputs": [],
   "source": [
    "#revised for keras-hypetune\n",
    "METRICS = [\n",
    "          tf.keras.metrics.TruePositives(name='tp'),\n",
    "          tf.keras.metrics.FalsePositives(name='fp'),\n",
    "          tf.keras.metrics.TrueNegatives(name='tn'),\n",
    "          tf.keras.metrics.FalseNegatives(name='fn'), \n",
    "          tf.keras.metrics.BinaryAccuracy(name='accuracy'),\n",
    "          tf.keras.metrics.Precision(name='precision'),\n",
    "          tf.keras.metrics.Recall(name='recall'),\n",
    "          tf.keras.metrics.AUC(name='auc')\n",
    "    ]\n",
    "\n",
    "\n",
    "def make_cnn_model(param):\n",
    "    model = Sequential()   \n",
    "    \n",
    "    \n",
    "    input_local = tf.keras.layers.Input(shape=[x_local.shape[1],1])\n",
    "    input_global=tf.keras.layers.Input(shape=[x_global.shape[1],1])\n",
    "    \n",
    "    #combi_input = tf.keras.layers.Input((2,)) # (None, 3)\n",
    "    #input_local = Lambda(lambda x: tf.expand_dims(x[:,0],-1))(combi_input) # (None, 1) \n",
    "    #input_global = Lambda(lambda x: tf.expand_dims(x[:,1],-1))(combi_input) # (None, 1)\n",
    "    \n",
    "    \n",
    "    \n",
    "    #build global branch\n",
    "    for index, filters in enumerate(param['cnn_global_filters']):       \n",
    "        if not index:\n",
    "            k_global=tf.keras.layers.Conv1D(filters=filters,\n",
    "                                            kernel_size=param['cnn_global_kernel'],\n",
    "                                            activation=param['activation'])(input_global)\n",
    "        else:\n",
    "            k_global=tf.keras.layers.Conv1D(filters=filters,\n",
    "                                            kernel_size=param['cnn_global_kernel'],\n",
    "                                            activation=param['activation'])(k_global)\n",
    "        \n",
    "        k_global=tf.keras.layers.MaxPooling1D(pool_size=param['cnn_global_window'],\n",
    "                                              strides=param['cnn_global_stride'],padding='same')(k_global)\n",
    "    \n",
    "    #build local branch\n",
    "    for index, filters in enumerate(param['cnn_local_filters']):       \n",
    "        if not index:\n",
    "            k_local=tf.keras.layers.Conv1D(filters=filters,\n",
    "                                            kernel_size=param['cnn_local_kernel'],\n",
    "                                            activation=param['activation'])(input_local)\n",
    "        else:\n",
    "            k_local=tf.keras.layers.Conv1D(filters=filters,\n",
    "                                            kernel_size=param['cnn_local_kernel'],\n",
    "                                            activation=param['activation'])(k_local)\n",
    "        \n",
    "        k_local=tf.keras.layers.MaxPooling1D(pool_size=param['cnn_local_window'],\n",
    "                                              strides=param['cnn_local_stride'],padding='same')(k_local)\n",
    "    #flatten and concatenate\n",
    "    k_global=tf.keras.layers.Flatten()(k_global)\n",
    "    k_local=tf.keras.layers.Flatten()(k_local)\n",
    "    k = tf.keras.layers.concatenate([k_local, k_global])\n",
    "    \n",
    "    #now add dense layers\n",
    "    for fc_layer in param['fc_layers']:\n",
    "            k=tf.keras.layers.Dense(fc_layer,activation=activation)(k)\n",
    "            k=tf.keras.layers.Dropout(param['fc_dropout_rate'])(k)\n",
    "    \n",
    "    #output layer        \n",
    "    output=tf.keras.layers.Dense(1,activation='sigmoid')(k)\n",
    "\n",
    "    model=tf.keras.Model(inputs=[input_local,input_global],outputs=output)\n",
    "\n",
    "    model.compile(loss=tf.keras.losses.BinaryCrossentropy()\n",
    "                  ,optimizer=optimizer,\n",
    "                  metrics=METRICS)\n",
    "    return model"
   ]
  },
  {
   "cell_type": "code",
   "execution_count": 23,
   "metadata": {},
   "outputs": [],
   "source": [
    "#revised for keras-tuner\n",
    "import kerastuner as kt\n",
    "from keras.layers.advanced_activations import PReLU\n",
    "\n",
    "METRICS = [\n",
    "          tf.keras.metrics.TruePositives(name='tp'),\n",
    "          tf.keras.metrics.FalsePositives(name='fp'),\n",
    "          tf.keras.metrics.TrueNegatives(name='tn'),\n",
    "          tf.keras.metrics.FalseNegatives(name='fn'), \n",
    "          tf.keras.metrics.BinaryAccuracy(name='accuracy'),\n",
    "          tf.keras.metrics.Precision(name='precision'),\n",
    "          tf.keras.metrics.Recall(name='recall'),\n",
    "          tf.keras.metrics.AUC(name='auc')\n",
    "    ]\n",
    "\n",
    "\n",
    "def make_cnn_model(hp):\n",
    "    #model = Sequential()   \n",
    "    \n",
    "    \n",
    "    input_local = tf.keras.layers.Input(shape=[x_local.shape[1],1])\n",
    "    input_global=tf.keras.layers.Input(shape=[x_global.shape[1],1])\n",
    "    \n",
    "    first_global_cnn_filters=hp.Int('first_global_cnn_filters',min_value=8,max_value=32,step=8)\n",
    "    further_global_cnn_filters=hp.Int('further_global_cnn_filters',min_value=16,max_value=128, step=16)\n",
    "    cnn_global_kernel=hp.Int('cnn_global_kernel',min_value=3,max_value=9,step=2)\n",
    "    cnn_global_maxpool=hp.Int('cnn_global_maxpool',min_value=3,max_value=7,step=2)\n",
    "    cnn_global_stride=hp.Int('cnn_global_stride',min_value=1,max_value=3,step=1)\n",
    "    \n",
    "    first_local_cnn_filters=hp.Int('first_local_cnn_filters',min_value=8,max_value=32,step=8)\n",
    "    further_local_cnn_filters=hp.Int('further_local_cnn_filters',min_value=16,max_value=128, step=16)\n",
    "    cnn_local_kernel=hp.Int('cnn_local_kernel',min_value=3,max_value=9,step=2)\n",
    "    cnn_local_maxpool=hp.Int('cnn_local_maxpool',min_value=3,max_value=9,step=2)\n",
    "    cnn_local_stride=hp.Int('cnn_local_stride',min_value=1,max_value=3,step=1)\n",
    "    \n",
    "    \n",
    "    \n",
    "    cnn_activation=hp.Choice('cnn_activation',values=['relu'])#,'PReLU()'])\n",
    "    \n",
    "    \n",
    "    #first global cnn\n",
    "    k_global=tf.keras.layers.Conv1D(filters=first_global_cnn_filters,\n",
    "                                    kernel_size=cnn_global_kernel,\n",
    "                                    activation=cnn_activation)(input_global)\n",
    "    \n",
    "    k_global=tf.keras.layers.MaxPooling1D(pool_size=cnn_global_maxpool,\n",
    "                                              strides=cnn_global_stride,padding='same')(k_global)\n",
    "    \n",
    "    #first local cnn\n",
    "    k_local=tf.keras.layers.Conv1D(filters=first_local_cnn_filters,\n",
    "                                    kernel_size=cnn_local_kernel,\n",
    "                                    activation=cnn_activation)(input_local)\n",
    "    \n",
    "    k_local=tf.keras.layers.MaxPooling1D(pool_size=cnn_local_maxpool,\n",
    "                                              strides=cnn_local_stride,padding='same')(k_local)\n",
    "    \n",
    "    \n",
    "    \n",
    "    further_global_cnn_layers=hp.Int('further_global_cnn_layers',min_value=1,max_value=4,step=1)\n",
    "    further_local_cnn_layers=hp.Int('further_global_cnn_layers',min_value=1,max_value=4,step=1)\n",
    "    \n",
    "    for i in range(further_global_cnn_layers):\n",
    "        k_global=tf.keras.layers.Conv1D(filters=further_global_cnn_filters,\n",
    "                                    kernel_size=cnn_global_kernel,\n",
    "                                    activation=cnn_activation)(k_global)\n",
    "        k_global=tf.keras.layers.MaxPooling1D(pool_size=cnn_global_maxpool,\n",
    "                                              strides=cnn_global_stride,padding='same')(k_global)\n",
    "    \n",
    "    for i in range(further_local_cnn_layers):\n",
    "        k_local=tf.keras.layers.Conv1D(filters=further_local_cnn_filters,\n",
    "                                    kernel_size=cnn_local_kernel,\n",
    "                                    activation=cnn_activation)(k_local)\n",
    "        k_local=tf.keras.layers.MaxPooling1D(pool_size=cnn_local_maxpool,\n",
    "                                              strides=cnn_local_stride,padding='same')(k_local)\n",
    "        \n",
    "    #flatten and concatenate\n",
    "    k_global=tf.keras.layers.Flatten()(k_global)\n",
    "    k_local=tf.keras.layers.Flatten()(k_local)\n",
    "    k = tf.keras.layers.concatenate([k_local, k_global])\n",
    "    \n",
    "    \n",
    "    number_of_dense_layers=hp.Int('number_of_dense_layers',min_value=2,max_value=5,step=1)\n",
    "    size_of_dense_layers=hp.Int('size_of_dense_layers',min_value=64, max_value=512, step=64)\n",
    "    dense_activation=hp.Choice('dense_activation',values=['relu'])#,'PReLU()'])\n",
    "    dense_dropout=hp.Choice('dense_dropout',values=[0.0,.2,.5])\n",
    "    \n",
    "    #now add dense layers\n",
    "    for i in range(number_of_dense_layers):\n",
    "        k=tf.keras.layers.Dense(size_of_dense_layers,activation=dense_activation)(k)\n",
    "        k=tf.keras.layers.Dropout(dense_dropout)(k)\n",
    "    \n",
    "    #output layer        \n",
    "    output=tf.keras.layers.Dense(1,activation='sigmoid')(k)\n",
    "\n",
    "    model=tf.keras.Model(inputs=[input_local,input_global],outputs=output)\n",
    "\n",
    "    learning_rate=hp.Choice('learning_rate',values=[1e-2,1e-3,1e-4])\n",
    "    \n",
    "    model.compile(loss=tf.keras.losses.BinaryCrossentropy()\n",
    "                  ,optimizer=tf.keras.optimizers.Adam(learning_rate),\n",
    "                  metrics=METRICS)\n",
    "    return model"
   ]
  },
  {
   "cell_type": "code",
   "execution_count": 24,
   "metadata": {},
   "outputs": [
    {
     "name": "stdout",
     "output_type": "stream",
     "text": [
      "INFO:tensorflow:Reloading Oracle from existing project hyper/w2p/oracle.json\n"
     ]
    }
   ],
   "source": [
    "#may need to delete directory so doesn't reload?\n",
    "tuner = kt.Hyperband(make_cnn_model,\n",
    "                     kt.Objective(\"val_auc\", direction=\"min\"), \n",
    "                     max_epochs = 15,\n",
    "                     factor = 3,\n",
    "                     directory = 'hyper',\n",
    "                     project_name = 'w2p')        "
   ]
  },
  {
   "cell_type": "code",
   "execution_count": 25,
   "metadata": {},
   "outputs": [],
   "source": [
    "class ClearTrainingOutput(tf.keras.callbacks.Callback):\n",
    "  def on_train_end(*args, **kwargs):\n",
    "    IPython.display.clear_output(wait = True)"
   ]
  },
  {
   "cell_type": "code",
   "execution_count": 26,
   "metadata": {},
   "outputs": [
    {
     "name": "stdout",
     "output_type": "stream",
     "text": [
      "Epoch 1/2\n"
     ]
    },
    {
     "name": "stdout",
     "output_type": "stream",
     "text": [
      " 53/840 [>.............................] - ETA: 0s - loss: 0.7011 - tp: 8.0000 - fp: 24.0000 - tn: 0.0000e+00 - fn: 0.0000e+00 - accuracy: 0.2500 - precision: 0.2500 - recall: 1.0000 - auc: 0.48 - ETA: 2:20 - loss: 35.2881 - tp: 8.0000 - fp: 24.0000 - tn: 24.0000 - fn: 8.0000 - accuracy: 0.5000 - precision: 0.2500 - recall: 0.5000 - auc: 0.4961   - ETA: 3:02 - loss: 23.6380 - tp: 8.0000 - fp: 24.0000 - tn: 54.0000 - fn: 10.0000 - accuracy: 0.6458 - precision: 0.2500 - recall: 0.4444 - auc: 0.555 - ETA: 3:27 - loss: 17.9151 - tp: 12.0000 - fp: 48.0000 - tn: 58.0000 - fn: 10.0000 - accuracy: 0.5469 - precision: 0.2000 - recall: 0.5455 - auc: 0.49 - ETA: 3:31 - loss: 14.6416 - tp: 12.0000 - fp: 48.0000 - tn: 87.0000 - fn: 13.0000 - accuracy: 0.6187 - precision: 0.2000 - recall: 0.4800 - auc: 0.52 - ETA: 3:30 - loss: 12.3264 - tp: 12.0000 - fp: 48.0000 - tn: 115.0000 - fn: 17.0000 - accuracy: 0.6615 - precision: 0.2000 - recall: 0.4138 - auc: 0.517 - ETA: 3:38 - loss: 10.9961 - tp: 17.0000 - fp: 75.0000 - tn: 115.0000 - fn: 17.0000 - accuracy: 0.5893 - precision: 0.1848 - recall: 0.5000 - auc: 0.511 - ETA: 3:42 - loss: 9.7115 - tp: 18.0000 - fp: 97.0000 - tn: 123.0000 - fn: 18.0000 - accuracy: 0.5508 - precision: 0.1565 - recall: 0.5000 - auc: 0.497 - ETA: 3:40 - loss: 8.7003 - tp: 18.0000 - fp: 97.0000 - tn: 150.0000 - fn: 23.0000 - accuracy: 0.5833 - precision: 0.1565 - recall: 0.4390 - auc: 0.50 - ETA: 3:40 - loss: 7.8811 - tp: 18.0000 - fp: 97.0000 - tn: 178.0000 - fn: 27.0000 - accuracy: 0.6125 - precision: 0.1565 - recall: 0.4000 - auc: 0.51 - ETA: 3:44 - loss: 7.1990 - tp: 18.0000 - fp: 97.0000 - tn: 206.0000 - fn: 31.0000 - accuracy: 0.6364 - precision: 0.1565 - recall: 0.3673 - auc: 0.51 - ETA: 3:44 - loss: 6.6195 - tp: 18.0000 - fp: 97.0000 - tn: 235.0000 - fn: 34.0000 - accuracy: 0.6589 - precision: 0.1565 - recall: 0.3462 - auc: 0.52 - ETA: 3:46 - loss: 6.1194 - tp: 18.0000 - fp: 97.0000 - tn: 266.0000 - fn: 35.0000 - accuracy: 0.6827 - precision: 0.1565 - recall: 0.3396 - auc: 0.54 - ETA: 3:46 - loss: 5.7133 - tp: 18.0000 - fp: 97.0000 - tn: 293.0000 - fn: 40.0000 - accuracy: 0.6942 - precision: 0.1565 - recall: 0.3103 - auc: 0.55 - ETA: 3:44 - loss: 5.3708 - tp: 18.0000 - fp: 97.0000 - tn: 318.0000 - fn: 47.0000 - accuracy: 0.7000 - precision: 0.1565 - recall: 0.2769 - auc: 0.55 - ETA: 3:44 - loss: 5.0918 - tp: 20.0000 - fp: 119.0000 - tn: 324.0000 - fn: 49.0000 - accuracy: 0.6719 - precision: 0.1439 - recall: 0.2899 - auc: 0.539 - ETA: 3:43 - loss: 4.8234 - tp: 20.0000 - fp: 119.0000 - tn: 349.0000 - fn: 56.0000 - accuracy: 0.6783 - precision: 0.1439 - recall: 0.2632 - auc: 0.539 - ETA: 3:41 - loss: 4.5871 - tp: 20.0000 - fp: 119.0000 - tn: 372.0000 - fn: 65.0000 - accuracy: 0.6806 - precision: 0.1439 - recall: 0.2353 - auc: 0.540 - ETA: 3:41 - loss: 4.3561 - tp: 20.0000 - fp: 119.0000 - tn: 402.0000 - fn: 67.0000 - accuracy: 0.6941 - precision: 0.1439 - recall: 0.2299 - auc: 0.550 - ETA: 3:40 - loss: 4.1615 - tp: 20.0000 - fp: 119.0000 - tn: 429.0000 - fn: 72.0000 - accuracy: 0.7016 - precision: 0.1439 - recall: 0.2174 - auc: 0.558 - ETA: 3:39 - loss: 3.9797 - tp: 20.0000 - fp: 119.0000 - tn: 457.0000 - fn: 76.0000 - accuracy: 0.7098 - precision: 0.1439 - recall: 0.2083 - auc: 0.567 - ETA: 3:40 - loss: 3.8076 - tp: 20.0000 - fp: 119.0000 - tn: 487.0000 - fn: 78.0000 - accuracy: 0.7202 - precision: 0.1439 - recall: 0.2041 - auc: 0.576 - ETA: 3:40 - loss: 3.6572 - tp: 20.0000 - fp: 119.0000 - tn: 514.0000 - fn: 83.0000 - accuracy: 0.7255 - precision: 0.1439 - recall: 0.1942 - auc: 0.583 - ETA: 3:39 - loss: 3.5234 - tp: 20.0000 - fp: 119.0000 - tn: 540.0000 - fn: 89.0000 - accuracy: 0.7292 - precision: 0.1439 - recall: 0.1835 - auc: 0.588 - ETA: 3:40 - loss: 3.3944 - tp: 20.0000 - fp: 119.0000 - tn: 568.0000 - fn: 93.0000 - accuracy: 0.7350 - precision: 0.1439 - recall: 0.1770 - auc: 0.595 - ETA: 3:40 - loss: 3.2808 - tp: 20.0000 - fp: 119.0000 - tn: 594.0000 - fn: 99.0000 - accuracy: 0.7380 - precision: 0.1439 - recall: 0.1681 - auc: 0.600 - ETA: 3:39 - loss: 3.1755 - tp: 20.0000 - fp: 119.0000 - tn: 618.0000 - fn: 107.0000 - accuracy: 0.7384 - precision: 0.1439 - recall: 0.1575 - auc: 0.60 - ETA: 3:40 - loss: 3.0720 - tp: 20.0000 - fp: 119.0000 - tn: 648.0000 - fn: 109.0000 - accuracy: 0.7455 - precision: 0.1439 - recall: 0.1550 - auc: 0.61 - ETA: 3:40 - loss: 2.9753 - tp: 20.0000 - fp: 119.0000 - tn: 676.0000 - fn: 113.0000 - accuracy: 0.7500 - precision: 0.1439 - recall: 0.1504 - auc: 0.61 - ETA: 3:41 - loss: 2.8887 - tp: 20.0000 - fp: 119.0000 - tn: 701.0000 - fn: 120.0000 - accuracy: 0.7510 - precision: 0.1439 - recall: 0.1429 - auc: 0.62 - ETA: 3:42 - loss: 2.8148 - tp: 20.0000 - fp: 119.0000 - tn: 728.0000 - fn: 125.0000 - accuracy: 0.7540 - precision: 0.1439 - recall: 0.1379 - auc: 0.62 - ETA: 3:44 - loss: 2.7370 - tp: 20.0000 - fp: 119.0000 - tn: 756.0000 - fn: 129.0000 - accuracy: 0.7578 - precision: 0.1439 - recall: 0.1342 - auc: 0.63 - ETA: 3:43 - loss: 2.6650 - tp: 20.0000 - fp: 119.0000 - tn: 783.0000 - fn: 134.0000 - accuracy: 0.7604 - precision: 0.1439 - recall: 0.1299 - auc: 0.63 - ETA: 3:43 - loss: 2.5977 - tp: 20.0000 - fp: 119.0000 - tn: 807.0000 - fn: 142.0000 - accuracy: 0.7601 - precision: 0.1439 - recall: 0.1235 - auc: 0.64 - ETA: 3:42 - loss: 2.5325 - tp: 20.0000 - fp: 119.0000 - tn: 835.0000 - fn: 146.0000 - accuracy: 0.7634 - precision: 0.1439 - recall: 0.1205 - auc: 0.64 - ETA: 3:41 - loss: 2.4709 - tp: 20.0000 - fp: 119.0000 - tn: 861.0000 - fn: 152.0000 - accuracy: 0.7648 - precision: 0.1439 - recall: 0.1163 - auc: 0.65 - ETA: 3:40 - loss: 2.4095 - tp: 20.0000 - fp: 119.0000 - tn: 891.0000 - fn: 154.0000 - accuracy: 0.7694 - precision: 0.1439 - recall: 0.1149 - auc: 0.66 - ETA: 3:40 - loss: 2.3549 - tp: 20.0000 - fp: 119.0000 - tn: 919.0000 - fn: 158.0000 - accuracy: 0.7722 - precision: 0.1439 - recall: 0.1124 - auc: 0.66 - ETA: 3:39 - loss: 2.3012 - tp: 20.0000 - fp: 119.0000 - tn: 947.0000 - fn: 162.0000 - accuracy: 0.7748 - precision: 0.1439 - recall: 0.1099 - auc: 0.66 - ETA: 3:39 - loss: 2.2509 - tp: 20.0000 - fp: 119.0000 - tn: 974.0000 - fn: 167.0000 - accuracy: 0.7766 - precision: 0.1439 - recall: 0.1070 - auc: 0.67 - ETA: 3:38 - loss: 2.2002 - tp: 20.0000 - fp: 119.0000 - tn: 1004.0000 - fn: 169.0000 - accuracy: 0.7805 - precision: 0.1439 - recall: 0.1058 - auc: 0.676 - ETA: 3:39 - loss: 2.1563 - tp: 20.0000 - fp: 119.0000 - tn: 1031.0000 - fn: 174.0000 - accuracy: 0.7820 - precision: 0.1439 - recall: 0.1031 - auc: 0.679 - ETA: 3:39 - loss: 2.1109 - tp: 20.0000 - fp: 119.0000 - tn: 1061.0000 - fn: 176.0000 - accuracy: 0.7856 - precision: 0.1439 - recall: 0.1020 - auc: 0.682 - ETA: 3:38 - loss: 2.0695 - tp: 20.0000 - fp: 119.0000 - tn: 1087.0000 - fn: 182.0000 - accuracy: 0.7862 - precision: 0.1439 - recall: 0.0990 - auc: 0.687 - ETA: 3:38 - loss: 2.0282 - tp: 20.0000 - fp: 119.0000 - tn: 1117.0000 - fn: 184.0000 - accuracy: 0.7896 - precision: 0.1439 - recall: 0.0980 - auc: 0.690 - ETA: 3:37 - loss: 1.9903 - tp: 20.0000 - fp: 119.0000 - tn: 1144.0000 - fn: 189.0000 - accuracy: 0.7908 - precision: 0.1439 - recall: 0.0957 - auc: 0.694 - ETA: 3:36 - loss: 1.9531 - tp: 20.0000 - fp: 119.0000 - tn: 1173.0000 - fn: 192.0000 - accuracy: 0.7932 - precision: 0.1439 - recall: 0.0943 - auc: 0.696 - ETA: 3:37 - loss: 1.9170 - tp: 20.0000 - fp: 119.0000 - tn: 1200.0000 - fn: 197.0000 - accuracy: 0.7943 - precision: 0.1439 - recall: 0.0922 - auc: 0.702 - ETA: 3:37 - loss: 1.8814 - tp: 20.0000 - fp: 119.0000 - tn: 1229.0000 - fn: 200.0000 - accuracy: 0.7966 - precision: 0.1439 - recall: 0.0909 - auc: 0.706 - ETA: 3:38 - loss: 1.8467 - tp: 20.0000 - fp: 119.0000 - tn: 1259.0000 - fn: 202.0000 - accuracy: 0.7994 - precision: 0.1439 - recall: 0.0901 - auc: 0.710 - ETA: 3:38 - loss: 1.8182 - tp: 20.0000 - fp: 119.0000 - tn: 1285.0000 - fn: 208.0000 - accuracy: 0.7996 - precision: 0.1439 - recall: 0.0877 - auc: 0.713 - ETA: 3:39 - loss: 1.7913 - tp: 20.0000 - fp: 119.0000 - tn: 1309.0000 - fn: 216.0000 - accuracy: 0.7987 - precision: 0.1439 - recall: 0.0847 - auc: 0.716 - ETA: 3:40 - loss: 1.7604 - tp: 20.0000 - fp: 119.0000 - tn: 1338.0000 - fn: 219.0000 - accuracy: 0.8007 - precision: 0.1439 - recall: 0.0837 - auc: 0.7210\b\b\b\b\b\b\b\b\b\b\b\b\b\b\b\b\b\b\b\b\b\b\b\b\b\b\b\b\b\b\b\b\b\b\b\b\b\b\b\b\b\b\b\b\b\b\b\b\b\b\b\b\b\b\b\b\b\b\b\b\b\b\b\b\b\b\b\b\b\b\b\b\b\b\b\b\b\b\b\b\b\b\b\b\b\b\b\b\b\b\b\b\b\b\b\b\b\b\b\b\b\b\b\b\b\b\b\b\b\b\b\b\b\b\b\b\b\b\b\b\b\b\b\b\b\b\b\b\b\b\b\b\b\b\b\b\b\b\b\b\b\b\b\b\b\b\b\b\b\b\b\b\b\b\b\b\b\b\b\b\b\b\b\b\b\b\b\b\b\b\b\b\b\b\b\b\b\b\b\b\b\b\b\b\b\b\b\b\b\b\b\b\b\b\b\b\b"
     ]
    },
    {
     "name": "stdout",
     "output_type": "stream",
     "text": [
      " 94/840 [==>...........................] - ETA: 3:40 - loss: 1.7319 - tp: 20.0000 - fp: 119.0000 - tn: 1366.0000 - fn: 223.0000 - accuracy: 0.8021 - precision: 0.1439 - recall: 0.0823 - auc: 0.724 - ETA: 3:39 - loss: 1.7055 - tp: 20.0000 - fp: 119.0000 - tn: 1393.0000 - fn: 228.0000 - accuracy: 0.8028 - precision: 0.1439 - recall: 0.0806 - auc: 0.727 - ETA: 3:38 - loss: 1.6789 - tp: 20.0000 - fp: 119.0000 - tn: 1420.0000 - fn: 233.0000 - accuracy: 0.8036 - precision: 0.1439 - recall: 0.0791 - auc: 0.732 - ETA: 3:38 - loss: 1.6551 - tp: 20.0000 - fp: 119.0000 - tn: 1446.0000 - fn: 239.0000 - accuracy: 0.8037 - precision: 0.1439 - recall: 0.0772 - auc: 0.735 - ETA: 3:37 - loss: 1.6294 - tp: 20.0000 - fp: 119.0000 - tn: 1475.0000 - fn: 242.0000 - accuracy: 0.8055 - precision: 0.1439 - recall: 0.0763 - auc: 0.739 - ETA: 3:37 - loss: 1.6176 - tp: 20.0000 - fp: 119.0000 - tn: 1503.0000 - fn: 246.0000 - accuracy: 0.8067 - precision: 0.1439 - recall: 0.0752 - auc: 0.738 - ETA: 3:38 - loss: 1.5942 - tp: 20.0000 - fp: 119.0000 - tn: 1533.0000 - fn: 248.0000 - accuracy: 0.8089 - precision: 0.1439 - recall: 0.0746 - auc: 0.738 - ETA: 3:39 - loss: 1.5742 - tp: 20.0000 - fp: 119.0000 - tn: 1557.0000 - fn: 256.0000 - accuracy: 0.8079 - precision: 0.1439 - recall: 0.0725 - auc: 0.742 - ETA: 3:39 - loss: 1.5534 - tp: 20.0000 - fp: 119.0000 - tn: 1586.0000 - fn: 259.0000 - accuracy: 0.8095 - precision: 0.1439 - recall: 0.0717 - auc: 0.742 - ETA: 3:40 - loss: 1.5336 - tp: 20.0000 - fp: 119.0000 - tn: 1614.0000 - fn: 263.0000 - accuracy: 0.8105 - precision: 0.1439 - recall: 0.0707 - auc: 0.743 - ETA: 3:40 - loss: 1.5143 - tp: 20.0000 - fp: 119.0000 - tn: 1641.0000 - fn: 268.0000 - accuracy: 0.8110 - precision: 0.1439 - recall: 0.0694 - auc: 0.745 - ETA: 3:39 - loss: 1.4936 - tp: 20.0000 - fp: 119.0000 - tn: 1672.0000 - fn: 269.0000 - accuracy: 0.8135 - precision: 0.1439 - recall: 0.0692 - auc: 0.746 - ETA: 3:39 - loss: 1.4742 - tp: 20.0000 - fp: 119.0000 - tn: 1702.0000 - fn: 271.0000 - accuracy: 0.8153 - precision: 0.1439 - recall: 0.0687 - auc: 0.747 - ETA: 3:39 - loss: 1.4564 - tp: 20.0000 - fp: 119.0000 - tn: 1728.0000 - fn: 277.0000 - accuracy: 0.8153 - precision: 0.1439 - recall: 0.0673 - auc: 0.749 - ETA: 3:38 - loss: 1.4393 - tp: 20.0000 - fp: 119.0000 - tn: 1755.0000 - fn: 282.0000 - accuracy: 0.8157 - precision: 0.1439 - recall: 0.0662 - auc: 0.751 - ETA: 3:38 - loss: 1.4229 - tp: 20.0000 - fp: 119.0000 - tn: 1783.0000 - fn: 286.0000 - accuracy: 0.8166 - precision: 0.1439 - recall: 0.0654 - auc: 0.752 - ETA: 3:38 - loss: 1.4075 - tp: 20.0000 - fp: 119.0000 - tn: 1811.0000 - fn: 290.0000 - accuracy: 0.8174 - precision: 0.1439 - recall: 0.0645 - auc: 0.753 - ETA: 3:37 - loss: 1.3898 - tp: 20.0000 - fp: 119.0000 - tn: 1840.0000 - fn: 293.0000 - accuracy: 0.8187 - precision: 0.1439 - recall: 0.0639 - auc: 0.755 - ETA: 3:37 - loss: 1.3729 - tp: 20.0000 - fp: 119.0000 - tn: 1868.0000 - fn: 297.0000 - accuracy: 0.8194 - precision: 0.1439 - recall: 0.0631 - auc: 0.758 - ETA: 3:36 - loss: 1.3573 - tp: 20.0000 - fp: 119.0000 - tn: 1896.0000 - fn: 301.0000 - accuracy: 0.8202 - precision: 0.1439 - recall: 0.0623 - auc: 0.760 - ETA: 3:35 - loss: 1.3413 - tp: 20.0000 - fp: 119.0000 - tn: 1925.0000 - fn: 304.0000 - accuracy: 0.8214 - precision: 0.1439 - recall: 0.0617 - auc: 0.762 - ETA: 3:35 - loss: 1.3265 - tp: 20.0000 - fp: 119.0000 - tn: 1953.0000 - fn: 308.0000 - accuracy: 0.8221 - precision: 0.1439 - recall: 0.0610 - auc: 0.764 - ETA: 3:34 - loss: 1.3127 - tp: 20.0000 - fp: 119.0000 - tn: 1980.0000 - fn: 313.0000 - accuracy: 0.8224 - precision: 0.1439 - recall: 0.0601 - auc: 0.765 - ETA: 3:34 - loss: 1.2984 - tp: 20.0000 - fp: 119.0000 - tn: 2009.0000 - fn: 316.0000 - accuracy: 0.8235 - precision: 0.1439 - recall: 0.0595 - auc: 0.767 - ETA: 3:34 - loss: 1.2871 - tp: 20.0000 - fp: 119.0000 - tn: 2035.0000 - fn: 322.0000 - accuracy: 0.8233 - precision: 0.1439 - recall: 0.0585 - auc: 0.767 - ETA: 3:33 - loss: 1.2742 - tp: 20.0000 - fp: 119.0000 - tn: 2063.0000 - fn: 326.0000 - accuracy: 0.8240 - precision: 0.1439 - recall: 0.0578 - auc: 0.767 - ETA: 3:33 - loss: 1.2608 - tp: 20.0000 - fp: 119.0000 - tn: 2091.0000 - fn: 330.0000 - accuracy: 0.8246 - precision: 0.1439 - recall: 0.0571 - auc: 0.769 - ETA: 3:33 - loss: 1.2497 - tp: 20.0000 - fp: 119.0000 - tn: 2117.0000 - fn: 336.0000 - accuracy: 0.8245 - precision: 0.1439 - recall: 0.0562 - auc: 0.770 - ETA: 3:33 - loss: 1.2374 - tp: 20.0000 - fp: 119.0000 - tn: 2147.0000 - fn: 338.0000 - accuracy: 0.8258 - precision: 0.1439 - recall: 0.0559 - auc: 0.770 - ETA: 3:32 - loss: 1.2246 - tp: 20.0000 - fp: 119.0000 - tn: 2177.0000 - fn: 340.0000 - accuracy: 0.8272 - precision: 0.1439 - recall: 0.0556 - auc: 0.771 - ETA: 3:32 - loss: 1.2118 - tp: 20.0000 - fp: 119.0000 - tn: 2208.0000 - fn: 341.0000 - accuracy: 0.8289 - precision: 0.1439 - recall: 0.0554 - auc: 0.772 - ETA: 3:31 - loss: 1.1986 - tp: 20.0000 - fp: 119.0000 - tn: 2239.0000 - fn: 342.0000 - accuracy: 0.8305 - precision: 0.1439 - recall: 0.0552 - auc: 0.774 - ETA: 3:30 - loss: 1.1864 - tp: 20.0000 - fp: 119.0000 - tn: 2268.0000 - fn: 345.0000 - accuracy: 0.8314 - precision: 0.1439 - recall: 0.0548 - auc: 0.776 - ETA: 3:30 - loss: 1.1795 - tp: 20.0000 - fp: 119.0000 - tn: 2292.0000 - fn: 353.0000 - accuracy: 0.8305 - precision: 0.1439 - recall: 0.0536 - auc: 0.774 - ETA: 3:29 - loss: 1.1694 - tp: 20.0000 - fp: 119.0000 - tn: 2318.0000 - fn: 359.0000 - accuracy: 0.8303 - precision: 0.1439 - recall: 0.0528 - auc: 0.776 - ETA: 3:30 - loss: 1.1585 - tp: 20.0000 - fp: 119.0000 - tn: 2347.0000 - fn: 362.0000 - accuracy: 0.8311 - precision: 0.1439 - recall: 0.0524 - auc: 0.777 - ETA: 3:30 - loss: 1.1471 - tp: 20.0000 - fp: 119.0000 - tn: 2378.0000 - fn: 363.0000 - accuracy: 0.8326 - precision: 0.1439 - recall: 0.0522 - auc: 0.778 - ETA: 3:30 - loss: 1.1378 - tp: 20.0000 - fp: 119.0000 - tn: 2405.0000 - fn: 368.0000 - accuracy: 0.8328 - precision: 0.1439 - recall: 0.0515 - auc: 0.779 - ETA: 3:30 - loss: 1.1281 - tp: 20.0000 - fp: 119.0000 - tn: 2432.0000 - fn: 373.0000 - accuracy: 0.8329 - precision: 0.1439 - recall: 0.0509 - auc: 0.781 - ETA: 3:31 - loss: 1.1202 - tp: 20.0000 - fp: 119.0000 - tn: 2461.0000 - fn: 376.0000 - accuracy: 0.8337 - precision: 0.1439 - recall: 0.0505 - auc: 0.780 - ETA: 3:31 - loss: 1.1115 - tp: 20.0000 - fp: 119.0000 - tn: 2488.0000 - fn: 381.0000 - accuracy: 0.8338 - precision: 0.1439 - recall: 0.0499 - auc: 0.7810"
     ]
    },
    {
     "ename": "KeyboardInterrupt",
     "evalue": "",
     "output_type": "error",
     "traceback": [
      "\u001b[0;31m---------------------------------------------------------------------------\u001b[0m",
      "\u001b[0;31mKeyboardInterrupt\u001b[0m                         Traceback (most recent call last)",
      "\u001b[0;32m<ipython-input-26-44543b814251>\u001b[0m in \u001b[0;36m<module>\u001b[0;34m\u001b[0m\n\u001b[1;32m      4\u001b[0m              \u001b[0mepochs\u001b[0m \u001b[0;34m=\u001b[0m \u001b[0;36m10\u001b[0m\u001b[0;34m,\u001b[0m\u001b[0;34m\u001b[0m\u001b[0;34m\u001b[0m\u001b[0m\n\u001b[1;32m      5\u001b[0m              \u001b[0mvalidation_data\u001b[0m\u001b[0;34m=\u001b[0m\u001b[0;34m(\u001b[0m\u001b[0;34m[\u001b[0m\u001b[0mx_local_val\u001b[0m\u001b[0;34m,\u001b[0m\u001b[0mx_global_val\u001b[0m\u001b[0;34m]\u001b[0m\u001b[0;34m,\u001b[0m\u001b[0mY_val\u001b[0m\u001b[0;34m)\u001b[0m\u001b[0;34m,\u001b[0m\u001b[0;34m\u001b[0m\u001b[0;34m\u001b[0m\u001b[0m\n\u001b[0;32m----> 6\u001b[0;31m              callbacks = [ClearTrainingOutput()])\n\u001b[0m\u001b[1;32m      7\u001b[0m \u001b[0;34m\u001b[0m\u001b[0m\n\u001b[1;32m      8\u001b[0m \u001b[0;31m# Get the optimal hyperparameters\u001b[0m\u001b[0;34m\u001b[0m\u001b[0;34m\u001b[0m\u001b[0;34m\u001b[0m\u001b[0m\n",
      "\u001b[0;32m~/anaconda3/envs/thesis/lib/python3.6/site-packages/kerastuner/engine/base_tuner.py\u001b[0m in \u001b[0;36msearch\u001b[0;34m(self, *fit_args, **fit_kwargs)\u001b[0m\n\u001b[1;32m    128\u001b[0m \u001b[0;34m\u001b[0m\u001b[0m\n\u001b[1;32m    129\u001b[0m             \u001b[0mself\u001b[0m\u001b[0;34m.\u001b[0m\u001b[0mon_trial_begin\u001b[0m\u001b[0;34m(\u001b[0m\u001b[0mtrial\u001b[0m\u001b[0;34m)\u001b[0m\u001b[0;34m\u001b[0m\u001b[0;34m\u001b[0m\u001b[0m\n\u001b[0;32m--> 130\u001b[0;31m             \u001b[0mself\u001b[0m\u001b[0;34m.\u001b[0m\u001b[0mrun_trial\u001b[0m\u001b[0;34m(\u001b[0m\u001b[0mtrial\u001b[0m\u001b[0;34m,\u001b[0m \u001b[0;34m*\u001b[0m\u001b[0mfit_args\u001b[0m\u001b[0;34m,\u001b[0m \u001b[0;34m**\u001b[0m\u001b[0mfit_kwargs\u001b[0m\u001b[0;34m)\u001b[0m\u001b[0;34m\u001b[0m\u001b[0;34m\u001b[0m\u001b[0m\n\u001b[0m\u001b[1;32m    131\u001b[0m             \u001b[0mself\u001b[0m\u001b[0;34m.\u001b[0m\u001b[0mon_trial_end\u001b[0m\u001b[0;34m(\u001b[0m\u001b[0mtrial\u001b[0m\u001b[0;34m)\u001b[0m\u001b[0;34m\u001b[0m\u001b[0;34m\u001b[0m\u001b[0m\n\u001b[1;32m    132\u001b[0m         \u001b[0mself\u001b[0m\u001b[0;34m.\u001b[0m\u001b[0mon_search_end\u001b[0m\u001b[0;34m(\u001b[0m\u001b[0;34m)\u001b[0m\u001b[0;34m\u001b[0m\u001b[0;34m\u001b[0m\u001b[0m\n",
      "\u001b[0;32m~/anaconda3/envs/thesis/lib/python3.6/site-packages/kerastuner/tuners/hyperband.py\u001b[0m in \u001b[0;36mrun_trial\u001b[0;34m(self, trial, *fit_args, **fit_kwargs)\u001b[0m\n\u001b[1;32m    385\u001b[0m             \u001b[0mfit_kwargs\u001b[0m\u001b[0;34m[\u001b[0m\u001b[0;34m'epochs'\u001b[0m\u001b[0;34m]\u001b[0m \u001b[0;34m=\u001b[0m \u001b[0mhp\u001b[0m\u001b[0;34m.\u001b[0m\u001b[0mvalues\u001b[0m\u001b[0;34m[\u001b[0m\u001b[0;34m'tuner/epochs'\u001b[0m\u001b[0;34m]\u001b[0m\u001b[0;34m\u001b[0m\u001b[0;34m\u001b[0m\u001b[0m\n\u001b[1;32m    386\u001b[0m             \u001b[0mfit_kwargs\u001b[0m\u001b[0;34m[\u001b[0m\u001b[0;34m'initial_epoch'\u001b[0m\u001b[0;34m]\u001b[0m \u001b[0;34m=\u001b[0m \u001b[0mhp\u001b[0m\u001b[0;34m.\u001b[0m\u001b[0mvalues\u001b[0m\u001b[0;34m[\u001b[0m\u001b[0;34m'tuner/initial_epoch'\u001b[0m\u001b[0;34m]\u001b[0m\u001b[0;34m\u001b[0m\u001b[0;34m\u001b[0m\u001b[0m\n\u001b[0;32m--> 387\u001b[0;31m         \u001b[0msuper\u001b[0m\u001b[0;34m(\u001b[0m\u001b[0mHyperband\u001b[0m\u001b[0;34m,\u001b[0m \u001b[0mself\u001b[0m\u001b[0;34m)\u001b[0m\u001b[0;34m.\u001b[0m\u001b[0mrun_trial\u001b[0m\u001b[0;34m(\u001b[0m\u001b[0mtrial\u001b[0m\u001b[0;34m,\u001b[0m \u001b[0;34m*\u001b[0m\u001b[0mfit_args\u001b[0m\u001b[0;34m,\u001b[0m \u001b[0;34m**\u001b[0m\u001b[0mfit_kwargs\u001b[0m\u001b[0;34m)\u001b[0m\u001b[0;34m\u001b[0m\u001b[0;34m\u001b[0m\u001b[0m\n\u001b[0m\u001b[1;32m    388\u001b[0m \u001b[0;34m\u001b[0m\u001b[0m\n\u001b[1;32m    389\u001b[0m     \u001b[0;32mdef\u001b[0m \u001b[0m_build_model\u001b[0m\u001b[0;34m(\u001b[0m\u001b[0mself\u001b[0m\u001b[0;34m,\u001b[0m \u001b[0mhp\u001b[0m\u001b[0;34m)\u001b[0m\u001b[0;34m:\u001b[0m\u001b[0;34m\u001b[0m\u001b[0;34m\u001b[0m\u001b[0m\n",
      "\u001b[0;32m~/anaconda3/envs/thesis/lib/python3.6/site-packages/kerastuner/engine/multi_execution_tuner.py\u001b[0m in \u001b[0;36mrun_trial\u001b[0;34m(self, trial, *fit_args, **fit_kwargs)\u001b[0m\n\u001b[1;32m     94\u001b[0m \u001b[0;34m\u001b[0m\u001b[0m\n\u001b[1;32m     95\u001b[0m             \u001b[0mmodel\u001b[0m \u001b[0;34m=\u001b[0m \u001b[0mself\u001b[0m\u001b[0;34m.\u001b[0m\u001b[0mhypermodel\u001b[0m\u001b[0;34m.\u001b[0m\u001b[0mbuild\u001b[0m\u001b[0;34m(\u001b[0m\u001b[0mtrial\u001b[0m\u001b[0;34m.\u001b[0m\u001b[0mhyperparameters\u001b[0m\u001b[0;34m)\u001b[0m\u001b[0;34m\u001b[0m\u001b[0;34m\u001b[0m\u001b[0m\n\u001b[0;32m---> 96\u001b[0;31m             \u001b[0mhistory\u001b[0m \u001b[0;34m=\u001b[0m \u001b[0mmodel\u001b[0m\u001b[0;34m.\u001b[0m\u001b[0mfit\u001b[0m\u001b[0;34m(\u001b[0m\u001b[0;34m*\u001b[0m\u001b[0mfit_args\u001b[0m\u001b[0;34m,\u001b[0m \u001b[0;34m**\u001b[0m\u001b[0mcopied_fit_kwargs\u001b[0m\u001b[0;34m)\u001b[0m\u001b[0;34m\u001b[0m\u001b[0;34m\u001b[0m\u001b[0m\n\u001b[0m\u001b[1;32m     97\u001b[0m             \u001b[0;32mfor\u001b[0m \u001b[0mmetric\u001b[0m\u001b[0;34m,\u001b[0m \u001b[0mepoch_values\u001b[0m \u001b[0;32min\u001b[0m \u001b[0mhistory\u001b[0m\u001b[0;34m.\u001b[0m\u001b[0mhistory\u001b[0m\u001b[0;34m.\u001b[0m\u001b[0mitems\u001b[0m\u001b[0;34m(\u001b[0m\u001b[0;34m)\u001b[0m\u001b[0;34m:\u001b[0m\u001b[0;34m\u001b[0m\u001b[0;34m\u001b[0m\u001b[0m\n\u001b[1;32m     98\u001b[0m                 \u001b[0;32mif\u001b[0m \u001b[0mself\u001b[0m\u001b[0;34m.\u001b[0m\u001b[0moracle\u001b[0m\u001b[0;34m.\u001b[0m\u001b[0mobjective\u001b[0m\u001b[0;34m.\u001b[0m\u001b[0mdirection\u001b[0m \u001b[0;34m==\u001b[0m \u001b[0;34m'min'\u001b[0m\u001b[0;34m:\u001b[0m\u001b[0;34m\u001b[0m\u001b[0;34m\u001b[0m\u001b[0m\n",
      "\u001b[0;32m~/anaconda3/envs/thesis/lib/python3.6/site-packages/tensorflow/python/keras/engine/training.py\u001b[0m in \u001b[0;36m_method_wrapper\u001b[0;34m(self, *args, **kwargs)\u001b[0m\n\u001b[1;32m     64\u001b[0m   \u001b[0;32mdef\u001b[0m \u001b[0m_method_wrapper\u001b[0m\u001b[0;34m(\u001b[0m\u001b[0mself\u001b[0m\u001b[0;34m,\u001b[0m \u001b[0;34m*\u001b[0m\u001b[0margs\u001b[0m\u001b[0;34m,\u001b[0m \u001b[0;34m**\u001b[0m\u001b[0mkwargs\u001b[0m\u001b[0;34m)\u001b[0m\u001b[0;34m:\u001b[0m\u001b[0;34m\u001b[0m\u001b[0;34m\u001b[0m\u001b[0m\n\u001b[1;32m     65\u001b[0m     \u001b[0;32mif\u001b[0m \u001b[0;32mnot\u001b[0m \u001b[0mself\u001b[0m\u001b[0;34m.\u001b[0m\u001b[0m_in_multi_worker_mode\u001b[0m\u001b[0;34m(\u001b[0m\u001b[0;34m)\u001b[0m\u001b[0;34m:\u001b[0m  \u001b[0;31m# pylint: disable=protected-access\u001b[0m\u001b[0;34m\u001b[0m\u001b[0;34m\u001b[0m\u001b[0m\n\u001b[0;32m---> 66\u001b[0;31m       \u001b[0;32mreturn\u001b[0m \u001b[0mmethod\u001b[0m\u001b[0;34m(\u001b[0m\u001b[0mself\u001b[0m\u001b[0;34m,\u001b[0m \u001b[0;34m*\u001b[0m\u001b[0margs\u001b[0m\u001b[0;34m,\u001b[0m \u001b[0;34m**\u001b[0m\u001b[0mkwargs\u001b[0m\u001b[0;34m)\u001b[0m\u001b[0;34m\u001b[0m\u001b[0;34m\u001b[0m\u001b[0m\n\u001b[0m\u001b[1;32m     67\u001b[0m \u001b[0;34m\u001b[0m\u001b[0m\n\u001b[1;32m     68\u001b[0m     \u001b[0;31m# Running inside `run_distribute_coordinator` already.\u001b[0m\u001b[0;34m\u001b[0m\u001b[0;34m\u001b[0m\u001b[0;34m\u001b[0m\u001b[0m\n",
      "\u001b[0;32m~/anaconda3/envs/thesis/lib/python3.6/site-packages/tensorflow/python/keras/engine/training.py\u001b[0m in \u001b[0;36mfit\u001b[0;34m(self, x, y, batch_size, epochs, verbose, callbacks, validation_split, validation_data, shuffle, class_weight, sample_weight, initial_epoch, steps_per_epoch, validation_steps, validation_batch_size, validation_freq, max_queue_size, workers, use_multiprocessing)\u001b[0m\n\u001b[1;32m    846\u001b[0m                 batch_size=batch_size):\n\u001b[1;32m    847\u001b[0m               \u001b[0mcallbacks\u001b[0m\u001b[0;34m.\u001b[0m\u001b[0mon_train_batch_begin\u001b[0m\u001b[0;34m(\u001b[0m\u001b[0mstep\u001b[0m\u001b[0;34m)\u001b[0m\u001b[0;34m\u001b[0m\u001b[0;34m\u001b[0m\u001b[0m\n\u001b[0;32m--> 848\u001b[0;31m               \u001b[0mtmp_logs\u001b[0m \u001b[0;34m=\u001b[0m \u001b[0mtrain_function\u001b[0m\u001b[0;34m(\u001b[0m\u001b[0miterator\u001b[0m\u001b[0;34m)\u001b[0m\u001b[0;34m\u001b[0m\u001b[0;34m\u001b[0m\u001b[0m\n\u001b[0m\u001b[1;32m    849\u001b[0m               \u001b[0;31m# Catch OutOfRangeError for Datasets of unknown size.\u001b[0m\u001b[0;34m\u001b[0m\u001b[0;34m\u001b[0m\u001b[0;34m\u001b[0m\u001b[0m\n\u001b[1;32m    850\u001b[0m               \u001b[0;31m# This blocks until the batch has finished executing.\u001b[0m\u001b[0;34m\u001b[0m\u001b[0;34m\u001b[0m\u001b[0;34m\u001b[0m\u001b[0m\n",
      "\u001b[0;32m~/anaconda3/envs/thesis/lib/python3.6/site-packages/tensorflow/python/eager/def_function.py\u001b[0m in \u001b[0;36m__call__\u001b[0;34m(self, *args, **kwds)\u001b[0m\n\u001b[1;32m    578\u001b[0m         \u001b[0mxla_context\u001b[0m\u001b[0;34m.\u001b[0m\u001b[0mExit\u001b[0m\u001b[0;34m(\u001b[0m\u001b[0;34m)\u001b[0m\u001b[0;34m\u001b[0m\u001b[0;34m\u001b[0m\u001b[0m\n\u001b[1;32m    579\u001b[0m     \u001b[0;32melse\u001b[0m\u001b[0;34m:\u001b[0m\u001b[0;34m\u001b[0m\u001b[0;34m\u001b[0m\u001b[0m\n\u001b[0;32m--> 580\u001b[0;31m       \u001b[0mresult\u001b[0m \u001b[0;34m=\u001b[0m \u001b[0mself\u001b[0m\u001b[0;34m.\u001b[0m\u001b[0m_call\u001b[0m\u001b[0;34m(\u001b[0m\u001b[0;34m*\u001b[0m\u001b[0margs\u001b[0m\u001b[0;34m,\u001b[0m \u001b[0;34m**\u001b[0m\u001b[0mkwds\u001b[0m\u001b[0;34m)\u001b[0m\u001b[0;34m\u001b[0m\u001b[0;34m\u001b[0m\u001b[0m\n\u001b[0m\u001b[1;32m    581\u001b[0m \u001b[0;34m\u001b[0m\u001b[0m\n\u001b[1;32m    582\u001b[0m     \u001b[0;32mif\u001b[0m \u001b[0mtracing_count\u001b[0m \u001b[0;34m==\u001b[0m \u001b[0mself\u001b[0m\u001b[0;34m.\u001b[0m\u001b[0m_get_tracing_count\u001b[0m\u001b[0;34m(\u001b[0m\u001b[0;34m)\u001b[0m\u001b[0;34m:\u001b[0m\u001b[0;34m\u001b[0m\u001b[0;34m\u001b[0m\u001b[0m\n",
      "\u001b[0;32m~/anaconda3/envs/thesis/lib/python3.6/site-packages/tensorflow/python/eager/def_function.py\u001b[0m in \u001b[0;36m_call\u001b[0;34m(self, *args, **kwds)\u001b[0m\n\u001b[1;32m    609\u001b[0m       \u001b[0;31m# In this case we have created variables on the first call, so we run the\u001b[0m\u001b[0;34m\u001b[0m\u001b[0;34m\u001b[0m\u001b[0;34m\u001b[0m\u001b[0m\n\u001b[1;32m    610\u001b[0m       \u001b[0;31m# defunned version which is guaranteed to never create variables.\u001b[0m\u001b[0;34m\u001b[0m\u001b[0;34m\u001b[0m\u001b[0;34m\u001b[0m\u001b[0m\n\u001b[0;32m--> 611\u001b[0;31m       \u001b[0;32mreturn\u001b[0m \u001b[0mself\u001b[0m\u001b[0;34m.\u001b[0m\u001b[0m_stateless_fn\u001b[0m\u001b[0;34m(\u001b[0m\u001b[0;34m*\u001b[0m\u001b[0margs\u001b[0m\u001b[0;34m,\u001b[0m \u001b[0;34m**\u001b[0m\u001b[0mkwds\u001b[0m\u001b[0;34m)\u001b[0m  \u001b[0;31m# pylint: disable=not-callable\u001b[0m\u001b[0;34m\u001b[0m\u001b[0;34m\u001b[0m\u001b[0m\n\u001b[0m\u001b[1;32m    612\u001b[0m     \u001b[0;32melif\u001b[0m \u001b[0mself\u001b[0m\u001b[0;34m.\u001b[0m\u001b[0m_stateful_fn\u001b[0m \u001b[0;32mis\u001b[0m \u001b[0;32mnot\u001b[0m \u001b[0;32mNone\u001b[0m\u001b[0;34m:\u001b[0m\u001b[0;34m\u001b[0m\u001b[0;34m\u001b[0m\u001b[0m\n\u001b[1;32m    613\u001b[0m       \u001b[0;31m# Release the lock early so that multiple threads can perform the call\u001b[0m\u001b[0;34m\u001b[0m\u001b[0;34m\u001b[0m\u001b[0;34m\u001b[0m\u001b[0m\n",
      "\u001b[0;32m~/anaconda3/envs/thesis/lib/python3.6/site-packages/tensorflow/python/eager/function.py\u001b[0m in \u001b[0;36m__call__\u001b[0;34m(self, *args, **kwargs)\u001b[0m\n\u001b[1;32m   2418\u001b[0m     \u001b[0;32mwith\u001b[0m \u001b[0mself\u001b[0m\u001b[0;34m.\u001b[0m\u001b[0m_lock\u001b[0m\u001b[0;34m:\u001b[0m\u001b[0;34m\u001b[0m\u001b[0;34m\u001b[0m\u001b[0m\n\u001b[1;32m   2419\u001b[0m       \u001b[0mgraph_function\u001b[0m\u001b[0;34m,\u001b[0m \u001b[0margs\u001b[0m\u001b[0;34m,\u001b[0m \u001b[0mkwargs\u001b[0m \u001b[0;34m=\u001b[0m \u001b[0mself\u001b[0m\u001b[0;34m.\u001b[0m\u001b[0m_maybe_define_function\u001b[0m\u001b[0;34m(\u001b[0m\u001b[0margs\u001b[0m\u001b[0;34m,\u001b[0m \u001b[0mkwargs\u001b[0m\u001b[0;34m)\u001b[0m\u001b[0;34m\u001b[0m\u001b[0;34m\u001b[0m\u001b[0m\n\u001b[0;32m-> 2420\u001b[0;31m     \u001b[0;32mreturn\u001b[0m \u001b[0mgraph_function\u001b[0m\u001b[0;34m.\u001b[0m\u001b[0m_filtered_call\u001b[0m\u001b[0;34m(\u001b[0m\u001b[0margs\u001b[0m\u001b[0;34m,\u001b[0m \u001b[0mkwargs\u001b[0m\u001b[0;34m)\u001b[0m  \u001b[0;31m# pylint: disable=protected-access\u001b[0m\u001b[0;34m\u001b[0m\u001b[0;34m\u001b[0m\u001b[0m\n\u001b[0m\u001b[1;32m   2421\u001b[0m \u001b[0;34m\u001b[0m\u001b[0m\n\u001b[1;32m   2422\u001b[0m   \u001b[0;34m@\u001b[0m\u001b[0mproperty\u001b[0m\u001b[0;34m\u001b[0m\u001b[0;34m\u001b[0m\u001b[0m\n",
      "\u001b[0;32m~/anaconda3/envs/thesis/lib/python3.6/site-packages/tensorflow/python/eager/function.py\u001b[0m in \u001b[0;36m_filtered_call\u001b[0;34m(self, args, kwargs)\u001b[0m\n\u001b[1;32m   1663\u001b[0m          if isinstance(t, (ops.Tensor,\n\u001b[1;32m   1664\u001b[0m                            resource_variable_ops.BaseResourceVariable))),\n\u001b[0;32m-> 1665\u001b[0;31m         self.captured_inputs)\n\u001b[0m\u001b[1;32m   1666\u001b[0m \u001b[0;34m\u001b[0m\u001b[0m\n\u001b[1;32m   1667\u001b[0m   \u001b[0;32mdef\u001b[0m \u001b[0m_call_flat\u001b[0m\u001b[0;34m(\u001b[0m\u001b[0mself\u001b[0m\u001b[0;34m,\u001b[0m \u001b[0margs\u001b[0m\u001b[0;34m,\u001b[0m \u001b[0mcaptured_inputs\u001b[0m\u001b[0;34m,\u001b[0m \u001b[0mcancellation_manager\u001b[0m\u001b[0;34m=\u001b[0m\u001b[0;32mNone\u001b[0m\u001b[0;34m)\u001b[0m\u001b[0;34m:\u001b[0m\u001b[0;34m\u001b[0m\u001b[0;34m\u001b[0m\u001b[0m\n",
      "\u001b[0;32m~/anaconda3/envs/thesis/lib/python3.6/site-packages/tensorflow/python/eager/function.py\u001b[0m in \u001b[0;36m_call_flat\u001b[0;34m(self, args, captured_inputs, cancellation_manager)\u001b[0m\n\u001b[1;32m   1744\u001b[0m       \u001b[0;31m# No tape is watching; skip to running the function.\u001b[0m\u001b[0;34m\u001b[0m\u001b[0;34m\u001b[0m\u001b[0;34m\u001b[0m\u001b[0m\n\u001b[1;32m   1745\u001b[0m       return self._build_call_outputs(self._inference_function.call(\n\u001b[0;32m-> 1746\u001b[0;31m           ctx, args, cancellation_manager=cancellation_manager))\n\u001b[0m\u001b[1;32m   1747\u001b[0m     forward_backward = self._select_forward_and_backward_functions(\n\u001b[1;32m   1748\u001b[0m         \u001b[0margs\u001b[0m\u001b[0;34m,\u001b[0m\u001b[0;34m\u001b[0m\u001b[0;34m\u001b[0m\u001b[0m\n",
      "\u001b[0;32m~/anaconda3/envs/thesis/lib/python3.6/site-packages/tensorflow/python/eager/function.py\u001b[0m in \u001b[0;36mcall\u001b[0;34m(self, ctx, args, cancellation_manager)\u001b[0m\n\u001b[1;32m    596\u001b[0m               \u001b[0minputs\u001b[0m\u001b[0;34m=\u001b[0m\u001b[0margs\u001b[0m\u001b[0;34m,\u001b[0m\u001b[0;34m\u001b[0m\u001b[0;34m\u001b[0m\u001b[0m\n\u001b[1;32m    597\u001b[0m               \u001b[0mattrs\u001b[0m\u001b[0;34m=\u001b[0m\u001b[0mattrs\u001b[0m\u001b[0;34m,\u001b[0m\u001b[0;34m\u001b[0m\u001b[0;34m\u001b[0m\u001b[0m\n\u001b[0;32m--> 598\u001b[0;31m               ctx=ctx)\n\u001b[0m\u001b[1;32m    599\u001b[0m         \u001b[0;32melse\u001b[0m\u001b[0;34m:\u001b[0m\u001b[0;34m\u001b[0m\u001b[0;34m\u001b[0m\u001b[0m\n\u001b[1;32m    600\u001b[0m           outputs = execute.execute_with_cancellation(\n",
      "\u001b[0;32m~/anaconda3/envs/thesis/lib/python3.6/site-packages/tensorflow/python/eager/execute.py\u001b[0m in \u001b[0;36mquick_execute\u001b[0;34m(op_name, num_outputs, inputs, attrs, ctx, name)\u001b[0m\n\u001b[1;32m     58\u001b[0m     \u001b[0mctx\u001b[0m\u001b[0;34m.\u001b[0m\u001b[0mensure_initialized\u001b[0m\u001b[0;34m(\u001b[0m\u001b[0;34m)\u001b[0m\u001b[0;34m\u001b[0m\u001b[0;34m\u001b[0m\u001b[0m\n\u001b[1;32m     59\u001b[0m     tensors = pywrap_tfe.TFE_Py_Execute(ctx._handle, device_name, op_name,\n\u001b[0;32m---> 60\u001b[0;31m                                         inputs, attrs, num_outputs)\n\u001b[0m\u001b[1;32m     61\u001b[0m   \u001b[0;32mexcept\u001b[0m \u001b[0mcore\u001b[0m\u001b[0;34m.\u001b[0m\u001b[0m_NotOkStatusException\u001b[0m \u001b[0;32mas\u001b[0m \u001b[0me\u001b[0m\u001b[0;34m:\u001b[0m\u001b[0;34m\u001b[0m\u001b[0;34m\u001b[0m\u001b[0m\n\u001b[1;32m     62\u001b[0m     \u001b[0;32mif\u001b[0m \u001b[0mname\u001b[0m \u001b[0;32mis\u001b[0m \u001b[0;32mnot\u001b[0m \u001b[0;32mNone\u001b[0m\u001b[0;34m:\u001b[0m\u001b[0;34m\u001b[0m\u001b[0;34m\u001b[0m\u001b[0m\n",
      "\u001b[0;31mKeyboardInterrupt\u001b[0m: "
     ]
    }
   ],
   "source": [
    "tf.keras.backend.clear_session()\n",
    "tuner.search([x_local_train,x_global_train],\n",
    "             Y_train,\n",
    "             epochs = 10, \n",
    "             validation_data=([x_local_val,x_global_val],Y_val),\n",
    "             callbacks = [ClearTrainingOutput()])\n",
    "\n",
    "# Get the optimal hyperparameters\n",
    "best_hps = tuner.get_best_hyperparameters(num_trials = 1)[0]\n",
    "\n",
    "#print(f\"\"\"\n",
    "#The hyperparameter search is complete. The optimal number of units in the first densely-connected\n",
    "#layer is {best_hps.get('units')} and the optimal learning rate for the optimizer\n",
    "#is {best_hps.get('learning_rate')}.\n",
    "#\"\"\")"
   ]
  },
  {
   "cell_type": "code",
   "execution_count": 21,
   "metadata": {},
   "outputs": [],
   "source": [
    "from kerashypetune import KerasRandomSearch"
   ]
  },
  {
   "cell_type": "code",
   "execution_count": 22,
   "metadata": {},
   "outputs": [
    {
     "ename": "TypeError",
     "evalue": "unhashable type: 'list'",
     "output_type": "error",
     "traceback": [
      "\u001b[0;31m---------------------------------------------------------------------------\u001b[0m",
      "\u001b[0;31mTypeError\u001b[0m                                 Traceback (most recent call last)",
      "\u001b[0;32m<ipython-input-22-c159878b5dde>\u001b[0m in \u001b[0;36m<module>\u001b[0;34m\u001b[0m\n\u001b[1;32m     46\u001b[0m krs.search([x_local_train,x_global_train],\n\u001b[1;32m     47\u001b[0m            \u001b[0mY_train\u001b[0m\u001b[0;34m,\u001b[0m\u001b[0;34m\u001b[0m\u001b[0;34m\u001b[0m\u001b[0m\n\u001b[0;32m---> 48\u001b[0;31m            validation_data=([x_local_val,x_global_val],Y_val))\n\u001b[0m",
      "\u001b[0;32m~/anaconda3/envs/thesis/lib/python3.6/site-packages/kerashypetune/kerashypetune.py\u001b[0m in \u001b[0;36msearch\u001b[0;34m(self, x, y, validation_data, validation_split, **fitargs)\u001b[0m\n\u001b[1;32m    426\u001b[0m                               \u001b[0mparam_distributions\u001b[0m \u001b[0;34m=\u001b[0m \u001b[0mself\u001b[0m\u001b[0;34m.\u001b[0m\u001b[0mparam_grid\u001b[0m\u001b[0;34m,\u001b[0m\u001b[0;34m\u001b[0m\u001b[0;34m\u001b[0m\u001b[0m\n\u001b[1;32m    427\u001b[0m                               random_state = self.sampling_seed)\n\u001b[0;32m--> 428\u001b[0;31m         \u001b[0msampled_params\u001b[0m \u001b[0;34m=\u001b[0m \u001b[0mrs\u001b[0m\u001b[0;34m.\u001b[0m\u001b[0msample\u001b[0m\u001b[0;34m(\u001b[0m\u001b[0;34m)\u001b[0m\u001b[0;34m\u001b[0m\u001b[0;34m\u001b[0m\u001b[0m\n\u001b[0m\u001b[1;32m    429\u001b[0m \u001b[0;34m\u001b[0m\u001b[0m\n\u001b[1;32m    430\u001b[0m         \u001b[0;32mif\u001b[0m \u001b[0mself\u001b[0m\u001b[0;34m.\u001b[0m\u001b[0mtuner_verbose\u001b[0m \u001b[0;34m==\u001b[0m \u001b[0;36m1\u001b[0m\u001b[0;34m:\u001b[0m\u001b[0;34m\u001b[0m\u001b[0;34m\u001b[0m\u001b[0m\n",
      "\u001b[0;32m~/anaconda3/envs/thesis/lib/python3.6/site-packages/kerashypetune/utils.py\u001b[0m in \u001b[0;36msample\u001b[0;34m(self)\u001b[0m\n\u001b[1;32m    223\u001b[0m \u001b[0;34m\u001b[0m\u001b[0m\n\u001b[1;32m    224\u001b[0m         \u001b[0;32mfor\u001b[0m \u001b[0mp_k\u001b[0m\u001b[0;34m,\u001b[0m \u001b[0mp_v\u001b[0m \u001b[0;32min\u001b[0m \u001b[0mself\u001b[0m\u001b[0;34m.\u001b[0m\u001b[0mparam_distributions\u001b[0m\u001b[0;34m.\u001b[0m\u001b[0mitems\u001b[0m\u001b[0;34m(\u001b[0m\u001b[0;34m)\u001b[0m\u001b[0;34m:\u001b[0m\u001b[0;34m\u001b[0m\u001b[0;34m\u001b[0m\u001b[0m\n\u001b[0;32m--> 225\u001b[0;31m             \u001b[0mself\u001b[0m\u001b[0;34m.\u001b[0m\u001b[0mparam_distributions\u001b[0m\u001b[0;34m[\u001b[0m\u001b[0mp_k\u001b[0m\u001b[0;34m]\u001b[0m \u001b[0;34m=\u001b[0m \u001b[0m_check_param\u001b[0m\u001b[0;34m(\u001b[0m\u001b[0mp_v\u001b[0m\u001b[0;34m)\u001b[0m\u001b[0;34m\u001b[0m\u001b[0;34m\u001b[0m\u001b[0m\n\u001b[0m\u001b[1;32m    226\u001b[0m \u001b[0;34m\u001b[0m\u001b[0m\n\u001b[1;32m    227\u001b[0m         all_lists = all(not hasattr(p, \"rvs\") \n",
      "\u001b[0;32m~/anaconda3/envs/thesis/lib/python3.6/site-packages/kerashypetune/utils.py\u001b[0m in \u001b[0;36m_check_param\u001b[0;34m(values)\u001b[0m\n\u001b[1;32m     15\u001b[0m \u001b[0;34m\u001b[0m\u001b[0m\n\u001b[1;32m     16\u001b[0m     \u001b[0;32mif\u001b[0m \u001b[0misinstance\u001b[0m\u001b[0;34m(\u001b[0m\u001b[0mvalues\u001b[0m\u001b[0;34m,\u001b[0m \u001b[0;34m(\u001b[0m\u001b[0mlist\u001b[0m\u001b[0;34m,\u001b[0m\u001b[0mtuple\u001b[0m\u001b[0;34m,\u001b[0m\u001b[0mnp\u001b[0m\u001b[0;34m.\u001b[0m\u001b[0mndarray\u001b[0m\u001b[0;34m)\u001b[0m\u001b[0;34m)\u001b[0m\u001b[0;34m:\u001b[0m\u001b[0;34m\u001b[0m\u001b[0;34m\u001b[0m\u001b[0m\n\u001b[0;32m---> 17\u001b[0;31m         \u001b[0;32mreturn\u001b[0m \u001b[0mlist\u001b[0m\u001b[0;34m(\u001b[0m\u001b[0mset\u001b[0m\u001b[0;34m(\u001b[0m\u001b[0mvalues\u001b[0m\u001b[0;34m)\u001b[0m\u001b[0;34m)\u001b[0m\u001b[0;34m\u001b[0m\u001b[0;34m\u001b[0m\u001b[0m\n\u001b[0m\u001b[1;32m     18\u001b[0m     \u001b[0;32melif\u001b[0m \u001b[0mhasattr\u001b[0m\u001b[0;34m(\u001b[0m\u001b[0mvalues\u001b[0m\u001b[0;34m,\u001b[0m \u001b[0;34m'rvs'\u001b[0m\u001b[0;34m)\u001b[0m\u001b[0;34m:\u001b[0m\u001b[0;34m\u001b[0m\u001b[0;34m\u001b[0m\u001b[0m\n\u001b[1;32m     19\u001b[0m         \u001b[0;32mreturn\u001b[0m \u001b[0mvalues\u001b[0m\u001b[0;34m\u001b[0m\u001b[0;34m\u001b[0m\u001b[0m\n",
      "\u001b[0;31mTypeError\u001b[0m: unhashable type: 'list'"
     ]
    }
   ],
   "source": [
    "#keras-hypetune\n",
    "cnn_global_filters_opts=[[16,32,64,128,256],[16,32],[32,64,128]]\n",
    "cnn_global_kernel_opts=[5,2,3,7]\n",
    "cnn_global_maxpool_window_opts=[3,5,7]\n",
    "cnn_global_maxpool_stride_opts=[1,2,3]\n",
    "cnn_local_filters_opts=[[16,32],[8,16,32],[8,16,32,64]]\n",
    "cnn_local_kernel_opts=[5,2,3,7]\n",
    "cnn_local_maxpool_window_opts=[5,7,9]\n",
    "cnn_local_maxpool_stride_opts=[1,2,3]\n",
    "fc_dropout_rate_opts  = [0, 0.2, 0.5]\n",
    "fc_layers_opts = [[64, 64, 64, 64], [128, 128, 128], [512,512,512,512],[256,256,256]]\n",
    "l2_penalty_opts = [0.01, 0.1, 0.5]\n",
    "activation_opts=['relu','prelu']\n",
    "optimizer_opts=['adam']\n",
    "epochs_opts=[10,15,20]\n",
    "batch_size_opts=[64,96,128]\n",
    "\n",
    "keras_param_options = {\n",
    "    'cnn_global_filters':cnn_global_filters_opts,\n",
    "    'cnn_global_kernel':cnn_global_kernel_opts,\n",
    "    'cnn_global_maxpool_window':cnn_global_maxpool_window_opts,\n",
    "    'cnn_global_maxpool_stride':cnn_global_maxpool_stride_opts,\n",
    "    'cnn_local_filters':cnn_local_filters_opts,\n",
    "    'cnn_local_kernel':cnn_local_kernel_opts,\n",
    "    'cnn_local_maxpool_window':cnn_local_maxpool_window_opts,\n",
    "    'cnn_local_maxpool_stride':cnn_local_maxpool_stride_opts,\n",
    "    'fc_layers': fc_layers_opts,\n",
    "    'fc_dropout_rate':fc_dropout_rate_opts,\n",
    "    'l2_penalty': l2_penalty_opts,\n",
    "    'activation':activation_opts,\n",
    "    'optimizer':optimizer_opts,\n",
    "    'epochs':epochs_opts,\n",
    "    'batch_size':batch_size_opts\n",
    "}\n",
    "\n",
    "\n",
    "krs = KerasRandomSearch(make_cnn_model, \n",
    "                        keras_param_options, \n",
    "                        monitor='val_auc', \n",
    "                        greater_is_better=True, \n",
    "                        n_iter=20, \n",
    "                        sampling_seed=33)\n",
    "\n",
    "krs.search([x_local_train,x_global_train],\n",
    "           Y_train,\n",
    "           validation_data=([x_local_val,x_global_val],Y_val))"
   ]
  },
  {
   "cell_type": "code",
   "execution_count": null,
   "metadata": {},
   "outputs": [],
   "source": [
    "\n",
    "cnn_global_filters_opts=[[16,32,64,128,256],[16,32],[32,64,128]]\n",
    "cnn_global_kernel_opts=[5,2,3,7]\n",
    "cnn_global_maxpool_window_opts=[3,5,7]\n",
    "cnn_global_maxpool_stride_opts=[1,2,3]\n",
    "cnn_local_filters_opts=[[16,32],[8,16,32],[8,16,32,64]]\n",
    "cnn_local_kernel_opts=[5,2,3,7]\n",
    "cnn_local_maxpool_window_opts=[5,7,9]\n",
    "cnn_local_maxpool_stride_opts=[1,2,3]\n",
    "fc_dropout_rate_opts  = [0, 0.2, 0.5]\n",
    "fc_layers_opts = [[64, 64, 64, 64], [128, 128, 128], [512,512,512,512],[256,256,256]]\n",
    "l2_penalty_opts = [0.01, 0.1, 0.5]\n",
    "activation_opts=['relu','prelu']\n",
    "optimizer_opts=['adam']\n",
    "epochs_opts=[10,15,20]\n",
    "batch_size_opts=[64,96,128]\n",
    "\n",
    "keras_param_options = {\n",
    "    'cnn_global_filters':cnn_global_filters_opts,\n",
    "    'cnn_global_kernel':cnn_global_kernel_opts,\n",
    "    'cnn_global_maxpool_window':cnn_global_maxpool_window_opts,\n",
    "    'cnn_global_maxpool_stride':cnn_global_maxpool_stride_opts,\n",
    "    'cnn_local_filters':cnn_local_filters_opts,\n",
    "    'cnn_local_kernel':cnn_local_kernel_opts,\n",
    "    'cnn_local_maxpool_window':cnn_local_maxpool_window_opts,\n",
    "    'cnn_local_maxpool_stride':cnn_local_maxpool_stride_opts,\n",
    "    'fc_layers': fc_layers_opts,\n",
    "    'fc_dropout_rate':fc_dropout_rate_opts,\n",
    "    'l2_penalty': l2_penalty_opts,\n",
    "    'activation':activation_opts,\n",
    "    'optimizer':optimizer_opts,\n",
    "    'epochs':epochs_opts,\n",
    "    'batch_size':batch_size_opts\n",
    "}\n",
    "\n",
    "\n",
    "krs = KerasRandomSearch(make_cnn_model, \n",
    "                        keras_param_options, \n",
    "                        monitor='val_auc', \n",
    "                        greater_is_better=True, \n",
    "                        n_iter=20, \n",
    "                        sampling_seed=33)\n",
    "\n",
    "krs.search([x_local_train,x_global_train],\n",
    "           Y_train,\n",
    "           validation_data=([x_local_val,x_global_val],Y_val))"
   ]
  },
  {
   "cell_type": "code",
   "execution_count": 13,
   "metadata": {},
   "outputs": [],
   "source": [
    "model_keras = tf.keras.wrappers.scikit_learn.KerasClassifier(\n",
    "    build_fn = make_cnn_model\n",
    "    )\n",
    "\n",
    "# specify other extra parameters pass to the .fit\n",
    "# number of epochs is set to a large number, we'll\n",
    "# let early stopping terminate the training process\n",
    "early_stop = tf.keras.callbacks.EarlyStopping(\n",
    "    monitor='val_auc', \n",
    "    verbose=1,\n",
    "    patience=5,\n",
    "    mode='max',\n",
    "    restore_best_weights=True)\n",
    "\n",
    "callbacks = [early_stop]\n",
    "\n",
    "keras_fit_params = {   \n",
    "    'callbacks': callbacks,\n",
    "    'epochs': 20,\n",
    "    'batch_size': 96,\n",
    "    'validation_data': ([x_local_val,x_global_val], Y_val),\n",
    "    'verbose': 1\n",
    "}\n",
    "\n",
    "# random search's parameter:\n",
    "# specify the options and store them inside the dictionary\n",
    "# batch size and training method can also be hyperparameters, \n",
    "# but it is fixed\n",
    "cnn_global_filters_opts=[[16,32,64,128,256],[16,32],[32,64,128]]\n",
    "cnn_global_kernel_opts=[5,2,3,7]\n",
    "cnn_global_maxpool_window_opts=[3,5,7]\n",
    "cnn_global_maxpool_stride_opts=[1,2,3]\n",
    "cnn_local_filters_opts=[[16,32],[8,16,32],[8,16,32,64]]\n",
    "cnn_local_kernel_opts=[5,2,3,7]\n",
    "cnn_local_maxpool_window_opts=[5,7,9]\n",
    "cnn_local_maxpool_stride_opts=[1,2,3]\n",
    "fc_dropout_rate_opts  = [0, 0.2, 0.5]\n",
    "fc_layers_opts = [[64, 64, 64, 64], [128, 128, 128], [512,512,512,512],[256,256,256]]\n",
    "l2_penalty_opts = [0.01, 0.1, 0.5]\n",
    "activation_opts=['relu','prelu']\n",
    "optimizer_opts=['adam']\n",
    "\n",
    "keras_param_options = {\n",
    "    'cnn_global_filters':cnn_global_filters_opts,\n",
    "    'cnn_global_kernel':cnn_global_kernel_opts,\n",
    "    'cnn_global_maxpool_window':cnn_global_maxpool_window_opts,\n",
    "    'cnn_global_maxpool_stride':cnn_global_maxpool_stride_opts,\n",
    "    'cnn_local_filters':cnn_local_filters_opts,\n",
    "    'cnn_local_kernel':cnn_local_kernel_opts,\n",
    "    'cnn_local_maxpool_window':cnn_local_maxpool_window_opts,\n",
    "    'cnn_local_maxpool_stride':cnn_local_maxpool_stride_opts,\n",
    "    'fc_layers': fc_layers_opts,\n",
    "    'fc_dropout_rate':fc_dropout_rate_opts,\n",
    "    'l2_penalty': l2_penalty_opts,\n",
    "    'activation':activation_opts,\n",
    "    'optimizer':optimizer_opts\n",
    "}"
   ]
  },
  {
   "cell_type": "code",
   "execution_count": 18,
   "metadata": {},
   "outputs": [
    {
     "name": "stdout",
     "output_type": "stream",
     "text": [
      "(26875, 201, 1)\n",
      "(26875, 2001, 1)\n",
      "(26875,)\n"
     ]
    }
   ],
   "source": [
    "print (x_local_train.shape)\n",
    "print(x_global_train.shape)\n",
    "print(Y_train.shape)"
   ]
  },
  {
   "cell_type": "code",
   "execution_count": 21,
   "metadata": {},
   "outputs": [
    {
     "ename": "ValueError",
     "evalue": "all input arrays must have the same shape",
     "output_type": "error",
     "traceback": [
      "\u001b[0;31m---------------------------------------------------------------------------\u001b[0m",
      "\u001b[0;31mValueError\u001b[0m                                Traceback (most recent call last)",
      "\u001b[0;32m<ipython-input-21-edcfad5281a3>\u001b[0m in \u001b[0;36m<module>\u001b[0;34m\u001b[0m\n\u001b[1;32m     13\u001b[0m \u001b[0;34m\u001b[0m\u001b[0m\n\u001b[1;32m     14\u001b[0m \u001b[0;34m\u001b[0m\u001b[0m\n\u001b[0;32m---> 15\u001b[0;31m \u001b[0mcombi_input\u001b[0m \u001b[0;34m=\u001b[0m \u001b[0mnp\u001b[0m\u001b[0;34m.\u001b[0m\u001b[0mstack\u001b[0m\u001b[0;34m(\u001b[0m\u001b[0;34m[\u001b[0m\u001b[0mx_local_train\u001b[0m\u001b[0;34m,\u001b[0m \u001b[0mx_global_train\u001b[0m\u001b[0;34m]\u001b[0m\u001b[0;34m,\u001b[0m \u001b[0maxis\u001b[0m\u001b[0;34m=\u001b[0m\u001b[0;34m-\u001b[0m\u001b[0;36m1\u001b[0m\u001b[0;34m)\u001b[0m\u001b[0;34m\u001b[0m\u001b[0;34m\u001b[0m\u001b[0m\n\u001b[0m\u001b[1;32m     16\u001b[0m \u001b[0;31m#see https://stackoverflow.com/questions/56824968/grid-search-for-keras-with-multiple-inputs/62512554#62512554\u001b[0m\u001b[0;34m\u001b[0m\u001b[0;34m\u001b[0m\u001b[0;34m\u001b[0m\u001b[0m\n\u001b[1;32m     17\u001b[0m \u001b[0;31m#rs_keras.fit([x_local_train,x_global_train], Y_train)\u001b[0m\u001b[0;34m\u001b[0m\u001b[0;34m\u001b[0m\u001b[0;34m\u001b[0m\u001b[0m\n",
      "\u001b[0;32m<__array_function__ internals>\u001b[0m in \u001b[0;36mstack\u001b[0;34m(*args, **kwargs)\u001b[0m\n",
      "\u001b[0;32m~/anaconda3/envs/thesis/lib/python3.6/site-packages/numpy/core/shape_base.py\u001b[0m in \u001b[0;36mstack\u001b[0;34m(arrays, axis, out)\u001b[0m\n\u001b[1;32m    424\u001b[0m     \u001b[0mshapes\u001b[0m \u001b[0;34m=\u001b[0m \u001b[0;34m{\u001b[0m\u001b[0marr\u001b[0m\u001b[0;34m.\u001b[0m\u001b[0mshape\u001b[0m \u001b[0;32mfor\u001b[0m \u001b[0marr\u001b[0m \u001b[0;32min\u001b[0m \u001b[0marrays\u001b[0m\u001b[0;34m}\u001b[0m\u001b[0;34m\u001b[0m\u001b[0;34m\u001b[0m\u001b[0m\n\u001b[1;32m    425\u001b[0m     \u001b[0;32mif\u001b[0m \u001b[0mlen\u001b[0m\u001b[0;34m(\u001b[0m\u001b[0mshapes\u001b[0m\u001b[0;34m)\u001b[0m \u001b[0;34m!=\u001b[0m \u001b[0;36m1\u001b[0m\u001b[0;34m:\u001b[0m\u001b[0;34m\u001b[0m\u001b[0;34m\u001b[0m\u001b[0m\n\u001b[0;32m--> 426\u001b[0;31m         \u001b[0;32mraise\u001b[0m \u001b[0mValueError\u001b[0m\u001b[0;34m(\u001b[0m\u001b[0;34m'all input arrays must have the same shape'\u001b[0m\u001b[0;34m)\u001b[0m\u001b[0;34m\u001b[0m\u001b[0;34m\u001b[0m\u001b[0m\n\u001b[0m\u001b[1;32m    427\u001b[0m \u001b[0;34m\u001b[0m\u001b[0m\n\u001b[1;32m    428\u001b[0m     \u001b[0mresult_ndim\u001b[0m \u001b[0;34m=\u001b[0m \u001b[0marrays\u001b[0m\u001b[0;34m[\u001b[0m\u001b[0;36m0\u001b[0m\u001b[0;34m]\u001b[0m\u001b[0;34m.\u001b[0m\u001b[0mndim\u001b[0m \u001b[0;34m+\u001b[0m \u001b[0;36m1\u001b[0m\u001b[0;34m\u001b[0m\u001b[0;34m\u001b[0m\u001b[0m\n",
      "\u001b[0;31mValueError\u001b[0m: all input arrays must have the same shape"
     ]
    }
   ],
   "source": [
    "# `verbose` 2 will print the class info for every cross validation, \n",
    "# kind of too much\n",
    "rs_keras = RandomizedSearchCV( \n",
    "    model_keras, \n",
    "    param_distributions = keras_param_options,\n",
    "    fit_params = keras_fit_params,\n",
    "    scoring = 'neg_log_loss',\n",
    "    n_iter = 3, \n",
    "    cv = 3,\n",
    "    n_jobs = -1,\n",
    "    verbose = 1\n",
    ")\n",
    "\n",
    "\n",
    "combi_input = np.stack([x_local_train, x_global_train], axis=-1)\n",
    "#see https://stackoverflow.com/questions/56824968/grid-search-for-keras-with-multiple-inputs/62512554#62512554\n",
    "rs_keras.fit([x_local_train,x_global_train], Y_train)\n",
    "rs_keras.fit(combi_input, Y_train)\n",
    "\n",
    "#rs_keras.fit([x_local_train,x_global_train],\n",
    "#                  Y_train,\n",
    "#                  validation_data=([x_local_val,x_global_val],Y_val),\n",
    "#                  batch_size=BATCH_SIZE,\n",
    "#                  epochs=EPOCHS,\n",
    "#                  callbacks=[early_stopping],\n",
    "#                  verbose=1)\n",
    "\n",
    "print('Best score obtained: {0}'.format(rs_keras.best_score_))\n",
    "print('Parameters:')\n",
    "for param, value in rs_keras.best_params_.items():\n",
    "    print('\\t{}: {}'.format(param, value))"
   ]
  },
  {
   "cell_type": "code",
   "execution_count": 14,
   "metadata": {},
   "outputs": [
    {
     "ename": "NameError",
     "evalue": "name 'KerasRandomSearch' is not defined",
     "output_type": "error",
     "traceback": [
      "\u001b[0;31m---------------------------------------------------------------------------\u001b[0m",
      "\u001b[0;31mNameError\u001b[0m                                 Traceback (most recent call last)",
      "\u001b[0;32m<ipython-input-14-91e6b07d5169>\u001b[0m in \u001b[0;36m<module>\u001b[0;34m\u001b[0m\n\u001b[1;32m      1\u001b[0m \u001b[0;31m#keras-hypetune\u001b[0m\u001b[0;34m\u001b[0m\u001b[0;34m\u001b[0m\u001b[0;34m\u001b[0m\u001b[0m\n\u001b[0;32m----> 2\u001b[0;31m krs = KerasRandomSearch(make_cnn_model, keras_param_options, monitor='val_auc', greater_is_better=True, \n\u001b[0m\u001b[1;32m      3\u001b[0m                         n_iter=15, sampling_seed=33)\n\u001b[1;32m      4\u001b[0m \u001b[0mkrs\u001b[0m\u001b[0;34m.\u001b[0m\u001b[0msearch\u001b[0m\u001b[0;34m(\u001b[0m\u001b[0;34m[\u001b[0m\u001b[0mx_local_train\u001b[0m\u001b[0;34m,\u001b[0m\u001b[0mx_global_train\u001b[0m\u001b[0;34m]\u001b[0m\u001b[0;34m,\u001b[0m \u001b[0mY_train\u001b[0m\u001b[0;34m,\u001b[0m\u001b[0mvalidation_data\u001b[0m\u001b[0;34m=\u001b[0m\u001b[0;34m(\u001b[0m\u001b[0;34m[\u001b[0m\u001b[0mx_local_val\u001b[0m\u001b[0;34m,\u001b[0m\u001b[0mx_global_val\u001b[0m\u001b[0;34m]\u001b[0m\u001b[0;34m,\u001b[0m\u001b[0mY_val\u001b[0m\u001b[0;34m)\u001b[0m\u001b[0;34m)\u001b[0m\u001b[0;34m\u001b[0m\u001b[0;34m\u001b[0m\u001b[0m\n",
      "\u001b[0;31mNameError\u001b[0m: name 'KerasRandomSearch' is not defined"
     ]
    }
   ],
   "source": [
    "\n"
   ]
  },
  {
   "cell_type": "code",
   "execution_count": null,
   "metadata": {},
   "outputs": [],
   "source": [
    "parameters={\n",
    "            'cnn':{'alpha':np.linspace(0.0005,1,25),\n",
    "                    'l1_ratio':np.linspace(0.1,1,25)},\n",
    "            }\n",
    "\n",
    "models={\n",
    "        'cnn':cnn_make_model(),\n",
    "       }\n",
    "\n",
    "best_models={}\n",
    "model_scores=[]\n",
    "\n",
    "model='cnn'\n",
    "print('working on '+model+' model')\n",
    "\n",
    "rs_cv_model=RandomizedSearchCV(models[model],parameters[model],\n",
    "                         scoring=\"val_auc\",\n",
    "                         verbose=1,n_iter=20)\n",
    "    \n",
    "rs_cv_model.fit(train_data,train_labels)\n",
    "best_models[model]=rs_cv_model.best_estimator_\n",
    "print (model,'score: ',-rs_cv_model.best_score_)\n",
    "model_scores.append([model,-rs_cv_model.best_score_])\n",
    "\n",
    "print(best_models)\n",
    "print(model_scores)"
   ]
  },
  {
   "cell_type": "markdown",
   "metadata": {},
   "source": [
    "#### Create Disposition Prediction for Entire Dataset"
   ]
  },
  {
   "cell_type": "code",
   "execution_count": 28,
   "metadata": {},
   "outputs": [
    {
     "data": {
      "text/plain": [
       "array([[0.00292027],\n",
       "       [0.00032339],\n",
       "       [0.00001524],\n",
       "       ...,\n",
       "       [0.00307733],\n",
       "       [0.0055193 ],\n",
       "       [0.2659907 ]], dtype=float32)"
      ]
     },
     "execution_count": 28,
     "metadata": {},
     "output_type": "execute_result"
    }
   ],
   "source": [
    "full_predictions = model.predict([x_local,x_global])\n",
    "full_predictions\n"
   ]
  },
  {
   "cell_type": "code",
   "execution_count": 29,
   "metadata": {},
   "outputs": [
    {
     "name": "stdout",
     "output_type": "stream",
     "text": [
      "(33594, 1)\n",
      "(33594,)\n"
     ]
    },
    {
     "data": {
      "image/png": "[encoded data removed]",
      "text/plain": [
       "<Figure size 360x360 with 2 Axes>"
      ]
     },
     "metadata": {
      "needs_background": "light"
     },
     "output_type": "display_data"
    },
    {
     "name": "stdout",
     "output_type": "stream",
     "text": [
      "Not Planets Properly Categorized (True Negatives):  29071\n",
      "Not Planets Categorized as Planets Detected (False Positives):  326\n",
      "Planets Missed (False Negatives):  706\n",
      "Planets Properly Categorized (True Positives):  3491\n",
      "Total Planets:  4197\n",
      "Accuracy:  0.9692802286122522\n"
     ]
    }
   ],
   "source": [
    "print(full_predictions.shape)\n",
    "print(Y.shape)\n",
    "plot_cm(Y, full_predictions)"
   ]
  },
  {
   "cell_type": "code",
   "execution_count": 117,
   "metadata": {},
   "outputs": [],
   "source": [
    "processed_final=processed.copy()\n",
    "processed_final['w2p_score']=full_predictions\n",
    "processed_final['w2p_disposition']='FALSE POSITIVE'\n",
    "processed_final.loc[processed_final.w2p_score>=0.5,['w2p_disposition']]='CONFIRMED'\n",
    "processed_final.replace({'koi_disposition':\n",
    "                   {'1-CONFIRMED':'CONFIRMED','0-FALSE POSITIVE':'FALSE POSITIVE'}},\n",
    "                  inplace=True)"
   ]
  },
  {
   "cell_type": "code",
   "execution_count": 118,
   "metadata": {},
   "outputs": [
    {
     "name": "stdout",
     "output_type": "stream",
     "text": [
      "w2p_disposition: FALSE POSITIVE    29777\n",
      "CONFIRMED          3817\n",
      "Name: w2p_disposition, dtype: int64\n",
      "koi disposition: FALSE POSITIVE    29397\n",
      "CONFIRMED          4197\n",
      "Name: koi_disposition, dtype: int64\n",
      "koi pdisposition: FALSE POSITIVE    29403\n",
      "CANDIDATE          4191\n",
      "Name: koi_pdisposition, dtype: int64\n",
      "koi pdisposition: FALSE POSITIVE    29403\n",
      "CANDIDATE          4191\n",
      "Name: koi_pdisposition, dtype: int64\n"
     ]
    }
   ],
   "source": [
    "#key columns to compare\n",
    "#koi_disposition\n",
    "#https://exoplanetarchive.ipac.caltech.edu/docs/API_kepcandidate_columns.html\n",
    "#https://exoplanetarchive.ipac.caltech.edu/docs/API_kepcandidate_columns.html (has AV descriptions)\n",
    "#koi_pdisposition and koi_score are ROBOVETTER outcomes (where available)\n",
    "\n",
    "print('w2p_disposition:',processed_final.w2p_disposition.value_counts())\n",
    "print('koi disposition:',processed_final.koi_disposition.value_counts())\n",
    "print('koi pdisposition:',processed_final.koi_pdisposition.value_counts())\n",
    "print('koi pdisposition:',processed_final.koi_pdisposition.value_counts())\n",
    "\n"
   ]
  },
  {
   "cell_type": "code",
   "execution_count": 119,
   "metadata": {},
   "outputs": [
    {
     "name": "stdout",
     "output_type": "stream",
     "text": [
      "AV disposition: FALSE POSITIVE    29833\n",
      "CONFIRMED          3761\n",
      "Name: av_disposition, dtype: int64\n"
     ]
    }
   ],
   "source": [
    "#av_pp_pc is posterior probability score from autovetter model (where available).  \n",
    "#Have divided by 100 to make comparable to koi_score\n",
    "#and created a column representing AV disposition / unclear how differs from av_pred_class\n",
    "processed_final.av_vf_pc=processed_final.av_vf_pc/100\n",
    "processed_final['av_disposition']='FALSE POSITIVE'\n",
    "processed_final.loc[processed_final.av_vf_pc>.5,['av_disposition']]='CONFIRMED'\n",
    "print('AV disposition:',processed_final.av_disposition.value_counts())"
   ]
  },
  {
   "cell_type": "code",
   "execution_count": 120,
   "metadata": {},
   "outputs": [],
   "source": [
    "#replacing koi_score with zero where NAN.  Only 8000 of TCEs had koi_score and koi_pdisposition (ie robovetter)\n",
    "#same with av_vf_pc\n",
    "processed_final.koi_score.fillna(0,inplace=True)\n",
    "processed_final.av_vf_pc.fillna(0,inplace=True)"
   ]
  },
  {
   "cell_type": "code",
   "execution_count": 122,
   "metadata": {},
   "outputs": [
    {
     "data": {
      "text/html": [
       "<div>\n",
       "<style scoped>\n",
       "    .dataframe tbody tr th:only-of-type {\n",
       "        vertical-align: middle;\n",
       "    }\n",
       "\n",
       "    .dataframe tbody tr th {\n",
       "        vertical-align: top;\n",
       "    }\n",
       "\n",
       "    .dataframe thead th {\n",
       "        text-align: right;\n",
       "    }\n",
       "</style>\n",
       "<table border=\"1\" class=\"dataframe\">\n",
       "  <thead>\n",
       "    <tr style=\"text-align: right;\">\n",
       "      <th></th>\n",
       "      <th>kepid</th>\n",
       "      <th>tce_plnt_num</th>\n",
       "      <th>koi_disposition</th>\n",
       "      <th>koi_score</th>\n",
       "      <th>koi_pdisposition</th>\n",
       "      <th>w2p_score</th>\n",
       "      <th>w2p_disposition</th>\n",
       "      <th>av_disposition</th>\n",
       "      <th>av_vf_pc</th>\n",
       "    </tr>\n",
       "  </thead>\n",
       "  <tbody>\n",
       "    <tr>\n",
       "      <th>152</th>\n",
       "      <td>1575873</td>\n",
       "      <td>1</td>\n",
       "      <td>FALSE POSITIVE</td>\n",
       "      <td>1.00000</td>\n",
       "      <td>FALSE POSITIVE</td>\n",
       "      <td>0.05936</td>\n",
       "      <td>FALSE POSITIVE</td>\n",
       "      <td>FALSE POSITIVE</td>\n",
       "      <td>0.06109</td>\n",
       "    </tr>\n",
       "    <tr>\n",
       "      <th>1797</th>\n",
       "      <td>3757590</td>\n",
       "      <td>1</td>\n",
       "      <td>FALSE POSITIVE</td>\n",
       "      <td>0.69500</td>\n",
       "      <td>FALSE POSITIVE</td>\n",
       "      <td>0.07564</td>\n",
       "      <td>FALSE POSITIVE</td>\n",
       "      <td>FALSE POSITIVE</td>\n",
       "      <td>0.04012</td>\n",
       "    </tr>\n",
       "    <tr>\n",
       "      <th>1810</th>\n",
       "      <td>3848948</td>\n",
       "      <td>1</td>\n",
       "      <td>FALSE POSITIVE</td>\n",
       "      <td>0.79100</td>\n",
       "      <td>FALSE POSITIVE</td>\n",
       "      <td>0.01425</td>\n",
       "      <td>FALSE POSITIVE</td>\n",
       "      <td>FALSE POSITIVE</td>\n",
       "      <td>0.06569</td>\n",
       "    </tr>\n",
       "    <tr>\n",
       "      <th>1826</th>\n",
       "      <td>3547760</td>\n",
       "      <td>1</td>\n",
       "      <td>FALSE POSITIVE</td>\n",
       "      <td>0.98100</td>\n",
       "      <td>FALSE POSITIVE</td>\n",
       "      <td>0.60197</td>\n",
       "      <td>CONFIRMED</td>\n",
       "      <td>CONFIRMED</td>\n",
       "      <td>0.91787</td>\n",
       "    </tr>\n",
       "    <tr>\n",
       "      <th>1974</th>\n",
       "      <td>3831523</td>\n",
       "      <td>1</td>\n",
       "      <td>FALSE POSITIVE</td>\n",
       "      <td>0.77500</td>\n",
       "      <td>FALSE POSITIVE</td>\n",
       "      <td>0.01803</td>\n",
       "      <td>FALSE POSITIVE</td>\n",
       "      <td>FALSE POSITIVE</td>\n",
       "      <td>0.00361</td>\n",
       "    </tr>\n",
       "    <tr>\n",
       "      <th>...</th>\n",
       "      <td>...</td>\n",
       "      <td>...</td>\n",
       "      <td>...</td>\n",
       "      <td>...</td>\n",
       "      <td>...</td>\n",
       "      <td>...</td>\n",
       "      <td>...</td>\n",
       "      <td>...</td>\n",
       "      <td>...</td>\n",
       "    </tr>\n",
       "    <tr>\n",
       "      <th>32989</th>\n",
       "      <td>11974540</td>\n",
       "      <td>1</td>\n",
       "      <td>CONFIRMED</td>\n",
       "      <td>1.00000</td>\n",
       "      <td>FALSE POSITIVE</td>\n",
       "      <td>0.69357</td>\n",
       "      <td>CONFIRMED</td>\n",
       "      <td>CONFIRMED</td>\n",
       "      <td>0.81810</td>\n",
       "    </tr>\n",
       "    <tr>\n",
       "      <th>33018</th>\n",
       "      <td>11820830</td>\n",
       "      <td>1</td>\n",
       "      <td>FALSE POSITIVE</td>\n",
       "      <td>0.99400</td>\n",
       "      <td>FALSE POSITIVE</td>\n",
       "      <td>0.26735</td>\n",
       "      <td>FALSE POSITIVE</td>\n",
       "      <td>FALSE POSITIVE</td>\n",
       "      <td>0.07924</td>\n",
       "    </tr>\n",
       "    <tr>\n",
       "      <th>33025</th>\n",
       "      <td>11869052</td>\n",
       "      <td>1</td>\n",
       "      <td>FALSE POSITIVE</td>\n",
       "      <td>0.57300</td>\n",
       "      <td>FALSE POSITIVE</td>\n",
       "      <td>0.09049</td>\n",
       "      <td>FALSE POSITIVE</td>\n",
       "      <td>CONFIRMED</td>\n",
       "      <td>0.53663</td>\n",
       "    </tr>\n",
       "    <tr>\n",
       "      <th>33268</th>\n",
       "      <td>12004971</td>\n",
       "      <td>1</td>\n",
       "      <td>FALSE POSITIVE</td>\n",
       "      <td>1.00000</td>\n",
       "      <td>FALSE POSITIVE</td>\n",
       "      <td>0.65369</td>\n",
       "      <td>CONFIRMED</td>\n",
       "      <td>CONFIRMED</td>\n",
       "      <td>0.89296</td>\n",
       "    </tr>\n",
       "    <tr>\n",
       "      <th>33418</th>\n",
       "      <td>11911561</td>\n",
       "      <td>1</td>\n",
       "      <td>FALSE POSITIVE</td>\n",
       "      <td>1.00000</td>\n",
       "      <td>FALSE POSITIVE</td>\n",
       "      <td>0.42309</td>\n",
       "      <td>FALSE POSITIVE</td>\n",
       "      <td>CONFIRMED</td>\n",
       "      <td>0.81788</td>\n",
       "    </tr>\n",
       "  </tbody>\n",
       "</table>\n",
       "<p>118 rows × 9 columns</p>\n",
       "</div>"
      ],
      "text/plain": [
       "          kepid  tce_plnt_num koi_disposition  koi_score koi_pdisposition  \\\n",
       "152     1575873             1  FALSE POSITIVE    1.00000   FALSE POSITIVE   \n",
       "1797    3757590             1  FALSE POSITIVE    0.69500   FALSE POSITIVE   \n",
       "1810    3848948             1  FALSE POSITIVE    0.79100   FALSE POSITIVE   \n",
       "1826    3547760             1  FALSE POSITIVE    0.98100   FALSE POSITIVE   \n",
       "1974    3831523             1  FALSE POSITIVE    0.77500   FALSE POSITIVE   \n",
       "...         ...           ...             ...        ...              ...   \n",
       "32989  11974540             1       CONFIRMED    1.00000   FALSE POSITIVE   \n",
       "33018  11820830             1  FALSE POSITIVE    0.99400   FALSE POSITIVE   \n",
       "33025  11869052             1  FALSE POSITIVE    0.57300   FALSE POSITIVE   \n",
       "33268  12004971             1  FALSE POSITIVE    1.00000   FALSE POSITIVE   \n",
       "33418  11911561             1  FALSE POSITIVE    1.00000   FALSE POSITIVE   \n",
       "\n",
       "       w2p_score w2p_disposition  av_disposition  av_vf_pc  \n",
       "152      0.05936  FALSE POSITIVE  FALSE POSITIVE   0.06109  \n",
       "1797     0.07564  FALSE POSITIVE  FALSE POSITIVE   0.04012  \n",
       "1810     0.01425  FALSE POSITIVE  FALSE POSITIVE   0.06569  \n",
       "1826     0.60197       CONFIRMED       CONFIRMED   0.91787  \n",
       "1974     0.01803  FALSE POSITIVE  FALSE POSITIVE   0.00361  \n",
       "...          ...             ...             ...       ...  \n",
       "32989    0.69357       CONFIRMED       CONFIRMED   0.81810  \n",
       "33018    0.26735  FALSE POSITIVE  FALSE POSITIVE   0.07924  \n",
       "33025    0.09049  FALSE POSITIVE       CONFIRMED   0.53663  \n",
       "33268    0.65369       CONFIRMED       CONFIRMED   0.89296  \n",
       "33418    0.42309  FALSE POSITIVE       CONFIRMED   0.81788  \n",
       "\n",
       "[118 rows x 9 columns]"
      ]
     },
     "execution_count": 122,
     "metadata": {},
     "output_type": "execute_result"
    }
   ],
   "source": [
    "#koi_score is RV monte carlo prob.  koi_pdisposition is some subjective measure beyond RV score\n",
    "processed_final[(processed_final.koi_score>=0.5)&(processed_final.koi_pdisposition=='FALSE POSITIVE')][[\n",
    "    'kepid','tce_plnt_num','koi_disposition','koi_score','koi_pdisposition','w2p_score','w2p_disposition','av_disposition','av_vf_pc']]"
   ]
  },
  {
   "cell_type": "markdown",
   "metadata": {},
   "source": [
    "#### Key column descriptions\n",
    "- koi_disposition:  ground truth\n",
    "- w2p_score: w2p probability\n",
    "- w2p_disposition: w2p disposition\n",
    "- koi_score: robovetter probability\n",
    "- koi_pdisposition: robovetter disposition (though does not exactly match up with koi_score>0.5- unclear why)\n",
    "- av_disposition: autovetter disposition (does not exactly match up with av_vf_pc>0- unclear why)\n",
    "- av_vf_pc: autovetter probability (not posterior)\n",
    "\n",
    "Links for other column descriptions:\n",
    "\n",
    "https://exoplanetarchive.ipac.caltech.edu/docs/API_kepcandidate_columns.html\n",
    "\n",
    "https://exoplanetarchive.ipac.caltech.edu/docs/API_tce_columns.html (has AV descriptions)"
   ]
  },
  {
   "cell_type": "code",
   "execution_count": 124,
   "metadata": {},
   "outputs": [
    {
     "data": {
      "text/html": [
       "<div>\n",
       "<style scoped>\n",
       "    .dataframe tbody tr th:only-of-type {\n",
       "        vertical-align: middle;\n",
       "    }\n",
       "\n",
       "    .dataframe tbody tr th {\n",
       "        vertical-align: top;\n",
       "    }\n",
       "\n",
       "    .dataframe thead th {\n",
       "        text-align: right;\n",
       "    }\n",
       "</style>\n",
       "<table border=\"1\" class=\"dataframe\">\n",
       "  <thead>\n",
       "    <tr style=\"text-align: right;\">\n",
       "      <th></th>\n",
       "      <th>kepid</th>\n",
       "      <th>tce_plnt_num</th>\n",
       "      <th>koi_disposition</th>\n",
       "      <th>w2p_score</th>\n",
       "      <th>w2p_disposition</th>\n",
       "      <th>koi_score</th>\n",
       "      <th>koi_pdisposition</th>\n",
       "      <th>av_disposition</th>\n",
       "      <th>av_vf_pc</th>\n",
       "    </tr>\n",
       "  </thead>\n",
       "  <tbody>\n",
       "    <tr>\n",
       "      <th>0</th>\n",
       "      <td>2304168</td>\n",
       "      <td>2</td>\n",
       "      <td>FALSE POSITIVE</td>\n",
       "      <td>0.00292</td>\n",
       "      <td>FALSE POSITIVE</td>\n",
       "      <td>0.00000</td>\n",
       "      <td>FALSE POSITIVE</td>\n",
       "      <td>FALSE POSITIVE</td>\n",
       "      <td>0.00099</td>\n",
       "    </tr>\n",
       "    <tr>\n",
       "      <th>1</th>\n",
       "      <td>2304235</td>\n",
       "      <td>1</td>\n",
       "      <td>FALSE POSITIVE</td>\n",
       "      <td>0.00032</td>\n",
       "      <td>FALSE POSITIVE</td>\n",
       "      <td>0.00000</td>\n",
       "      <td>FALSE POSITIVE</td>\n",
       "      <td>FALSE POSITIVE</td>\n",
       "      <td>0.00390</td>\n",
       "    </tr>\n",
       "    <tr>\n",
       "      <th>2</th>\n",
       "      <td>2304566</td>\n",
       "      <td>1</td>\n",
       "      <td>FALSE POSITIVE</td>\n",
       "      <td>0.00002</td>\n",
       "      <td>FALSE POSITIVE</td>\n",
       "      <td>0.00000</td>\n",
       "      <td>FALSE POSITIVE</td>\n",
       "      <td>FALSE POSITIVE</td>\n",
       "      <td>0.00566</td>\n",
       "    </tr>\n",
       "    <tr>\n",
       "      <th>3</th>\n",
       "      <td>2304320</td>\n",
       "      <td>1</td>\n",
       "      <td>CONFIRMED</td>\n",
       "      <td>0.97901</td>\n",
       "      <td>CONFIRMED</td>\n",
       "      <td>0.99800</td>\n",
       "      <td>CANDIDATE</td>\n",
       "      <td>CONFIRMED</td>\n",
       "      <td>0.97850</td>\n",
       "    </tr>\n",
       "    <tr>\n",
       "      <th>4</th>\n",
       "      <td>2303365</td>\n",
       "      <td>2</td>\n",
       "      <td>FALSE POSITIVE</td>\n",
       "      <td>0.00062</td>\n",
       "      <td>FALSE POSITIVE</td>\n",
       "      <td>0.00000</td>\n",
       "      <td>FALSE POSITIVE</td>\n",
       "      <td>FALSE POSITIVE</td>\n",
       "      <td>0.00000</td>\n",
       "    </tr>\n",
       "    <tr>\n",
       "      <th>...</th>\n",
       "      <td>...</td>\n",
       "      <td>...</td>\n",
       "      <td>...</td>\n",
       "      <td>...</td>\n",
       "      <td>...</td>\n",
       "      <td>...</td>\n",
       "      <td>...</td>\n",
       "      <td>...</td>\n",
       "      <td>...</td>\n",
       "    </tr>\n",
       "    <tr>\n",
       "      <th>33589</th>\n",
       "      <td>11912947</td>\n",
       "      <td>6</td>\n",
       "      <td>FALSE POSITIVE</td>\n",
       "      <td>0.00000</td>\n",
       "      <td>FALSE POSITIVE</td>\n",
       "      <td>0.00000</td>\n",
       "      <td>FALSE POSITIVE</td>\n",
       "      <td>FALSE POSITIVE</td>\n",
       "      <td>0.00000</td>\n",
       "    </tr>\n",
       "    <tr>\n",
       "      <th>33590</th>\n",
       "      <td>11922283</td>\n",
       "      <td>3</td>\n",
       "      <td>FALSE POSITIVE</td>\n",
       "      <td>0.00087</td>\n",
       "      <td>FALSE POSITIVE</td>\n",
       "      <td>0.00000</td>\n",
       "      <td>FALSE POSITIVE</td>\n",
       "      <td>FALSE POSITIVE</td>\n",
       "      <td>0.00000</td>\n",
       "    </tr>\n",
       "    <tr>\n",
       "      <th>33591</th>\n",
       "      <td>11922283</td>\n",
       "      <td>4</td>\n",
       "      <td>FALSE POSITIVE</td>\n",
       "      <td>0.00308</td>\n",
       "      <td>FALSE POSITIVE</td>\n",
       "      <td>0.00000</td>\n",
       "      <td>FALSE POSITIVE</td>\n",
       "      <td>FALSE POSITIVE</td>\n",
       "      <td>0.00000</td>\n",
       "    </tr>\n",
       "    <tr>\n",
       "      <th>33592</th>\n",
       "      <td>11922290</td>\n",
       "      <td>1</td>\n",
       "      <td>FALSE POSITIVE</td>\n",
       "      <td>0.00552</td>\n",
       "      <td>FALSE POSITIVE</td>\n",
       "      <td>0.04200</td>\n",
       "      <td>FALSE POSITIVE</td>\n",
       "      <td>FALSE POSITIVE</td>\n",
       "      <td>0.00000</td>\n",
       "    </tr>\n",
       "    <tr>\n",
       "      <th>33593</th>\n",
       "      <td>11922648</td>\n",
       "      <td>1</td>\n",
       "      <td>FALSE POSITIVE</td>\n",
       "      <td>0.26599</td>\n",
       "      <td>FALSE POSITIVE</td>\n",
       "      <td>0.00000</td>\n",
       "      <td>FALSE POSITIVE</td>\n",
       "      <td>FALSE POSITIVE</td>\n",
       "      <td>0.18905</td>\n",
       "    </tr>\n",
       "  </tbody>\n",
       "</table>\n",
       "<p>33594 rows × 9 columns</p>\n",
       "</div>"
      ],
      "text/plain": [
       "          kepid  tce_plnt_num koi_disposition  w2p_score w2p_disposition  \\\n",
       "0       2304168             2  FALSE POSITIVE    0.00292  FALSE POSITIVE   \n",
       "1       2304235             1  FALSE POSITIVE    0.00032  FALSE POSITIVE   \n",
       "2       2304566             1  FALSE POSITIVE    0.00002  FALSE POSITIVE   \n",
       "3       2304320             1       CONFIRMED    0.97901       CONFIRMED   \n",
       "4       2303365             2  FALSE POSITIVE    0.00062  FALSE POSITIVE   \n",
       "...         ...           ...             ...        ...             ...   \n",
       "33589  11912947             6  FALSE POSITIVE    0.00000  FALSE POSITIVE   \n",
       "33590  11922283             3  FALSE POSITIVE    0.00087  FALSE POSITIVE   \n",
       "33591  11922283             4  FALSE POSITIVE    0.00308  FALSE POSITIVE   \n",
       "33592  11922290             1  FALSE POSITIVE    0.00552  FALSE POSITIVE   \n",
       "33593  11922648             1  FALSE POSITIVE    0.26599  FALSE POSITIVE   \n",
       "\n",
       "       koi_score koi_pdisposition  av_disposition  av_vf_pc  \n",
       "0        0.00000   FALSE POSITIVE  FALSE POSITIVE   0.00099  \n",
       "1        0.00000   FALSE POSITIVE  FALSE POSITIVE   0.00390  \n",
       "2        0.00000   FALSE POSITIVE  FALSE POSITIVE   0.00566  \n",
       "3        0.99800        CANDIDATE       CONFIRMED   0.97850  \n",
       "4        0.00000   FALSE POSITIVE  FALSE POSITIVE   0.00000  \n",
       "...          ...              ...             ...       ...  \n",
       "33589    0.00000   FALSE POSITIVE  FALSE POSITIVE   0.00000  \n",
       "33590    0.00000   FALSE POSITIVE  FALSE POSITIVE   0.00000  \n",
       "33591    0.00000   FALSE POSITIVE  FALSE POSITIVE   0.00000  \n",
       "33592    0.04200   FALSE POSITIVE  FALSE POSITIVE   0.00000  \n",
       "33593    0.00000   FALSE POSITIVE  FALSE POSITIVE   0.18905  \n",
       "\n",
       "[33594 rows x 9 columns]"
      ]
     },
     "execution_count": 124,
     "metadata": {},
     "output_type": "execute_result"
    }
   ],
   "source": [
    "processed_final[[\n",
    "    'kepid','tce_plnt_num','koi_disposition',\n",
    "    'w2p_score','w2p_disposition',\n",
    "    'koi_score','koi_pdisposition',\n",
    "    'av_disposition','av_vf_pc']]"
   ]
  },
  {
   "cell_type": "code",
   "execution_count": 127,
   "metadata": {},
   "outputs": [],
   "source": [
    "processed_final.to_csv(os.path.join(PROCESSED_DATA_DIR,'processed_final.csv'),index=False)"
   ]
  },
  {
   "cell_type": "code",
   "execution_count": null,
   "metadata": {},
   "outputs": [],
   "source": []
  },
  {
   "cell_type": "code",
   "execution_count": 44,
   "metadata": {},
   "outputs": [
    {
     "name": "stdout",
     "output_type": "stream",
     "text": [
      "Index(['kepid', 'tce_plnt_num', 'tce_rogue_flag', 'tce_period',\n",
      "       'tce_period_err', 'tce_time0bk', 'tce_time0bk_err', 'tce_impact',\n",
      "       'tce_impact_err', 'tce_duration', 'tce_duration_err', 'tce_depth',\n",
      "       'tce_depth_err', 'tce_model_snr', 'tce_prad', 'tce_prad_err', 'tce_eqt',\n",
      "       'tce_eqt_err', 'tce_insol', 'tce_insol_err', 'tce_steff',\n",
      "       'tce_steff_err', 'tce_slogg', 'tce_slogg_err', 'tce_sradius',\n",
      "       'tce_sradius_err', 'kepoi_name', 'kepler_name', 'koi_disposition',\n",
      "       'koi_pdisposition', 'koi_score', 'koi_fpflag_nt', 'koi_fpflag_ss',\n",
      "       'koi_fpflag_co', 'koi_fpflag_ec', 'koi_period', 'koi_period_err1',\n",
      "       'koi_period_err2', 'koi_time0bk', 'koi_time0bk_err1',\n",
      "       'koi_time0bk_err2', 'koi_impact', 'koi_impact_err1', 'koi_impact_err2',\n",
      "       'koi_duration', 'koi_duration_err1', 'koi_duration_err2', 'koi_depth',\n",
      "       'koi_depth_err1', 'koi_depth_err2', 'koi_prad', 'koi_prad_err1',\n",
      "       'koi_prad_err2', 'koi_teq', 'koi_teq_err1', 'koi_teq_err2', 'koi_insol',\n",
      "       'koi_insol_err1', 'koi_insol_err2', 'koi_model_snr', 'koi_tce_plnt_num',\n",
      "       'koi_tce_delivname', 'koi_steff', 'koi_steff_err1', 'koi_steff_err2',\n",
      "       'koi_slogg', 'koi_slogg_err1', 'koi_slogg_err2', 'koi_srad',\n",
      "       'koi_srad_err1', 'koi_srad_err2', 'ra', 'dec', 'koi_kepmag',\n",
      "       'koi_new_tce_plnt_num', 'av_vf_pc', 'av_vf_pc_err', 'av_vf_afp',\n",
      "       'av_vf_afp_err', 'av_vf_ntp', 'av_vf_ntp_err', 'av_pp_pc', 'av_pp_afp',\n",
      "       'av_pp_ntp', 'av_training_set', 'av_pred_class', 'w2p_prob',\n",
      "       'w2p_disposition'],\n",
      "      dtype='object')\n"
     ]
    }
   ],
   "source": [
    "print (processed_final.columns)"
   ]
  },
  {
   "cell_type": "markdown",
   "metadata": {},
   "source": [
    "#### Error Analysis"
   ]
  },
  {
   "cell_type": "code",
   "execution_count": 25,
   "metadata": {},
   "outputs": [],
   "source": [
    "val_results=pd.DataFrame({'truth':Y_val, 'prediction':np.squeeze(val_predictions_baseline)})\n",
    "val_results['truth_delta']=val_results.truth-val_results.prediction\n",
    "val_results=val_results.sort_values('truth_delta')"
   ]
  },
  {
   "cell_type": "code",
   "execution_count": 26,
   "metadata": {},
   "outputs": [],
   "source": [
    "val_results['result']='True Positive'\n",
    "val_results.loc[val_results.truth_delta<0,'result']='True Negative' #then some get replaced by false positive\n",
    "val_results.loc[val_results.truth_delta<=-0.5,'result']='False Positive'\n",
    "val_results.loc[val_results.truth_delta>=0.5,'result']='False Negative'\n"
   ]
  },
  {
   "cell_type": "code",
   "execution_count": null,
   "metadata": {},
   "outputs": [],
   "source": [
    "val_results.result.value_counts()"
   ]
  },
  {
   "cell_type": "code",
   "execution_count": null,
   "metadata": {},
   "outputs": [],
   "source": [
    "cutoff=.05\n",
    "val_results_mod=val_results[(val_results.truth_delta<-cutoff)|(val_results.truth_delta>cutoff)]\n",
    "import seaborn as sns\n",
    "ax = sns.histplot(data=val_results_mod, x=\"truth_delta\",hue='result').set_title('Distribution of Deltas (excluding vast majority between -.05 and .05)')"
   ]
  },
  {
   "cell_type": "code",
   "execution_count": null,
   "metadata": {},
   "outputs": [],
   "source": [
    "cutoff=.05\n",
    "val_results_mod=val_results[(val_results.prediction>cutoff)]\n",
    "import seaborn as sns\n",
    "ax = sns.histplot(data=val_results_mod, \n",
    "                  x=\"prediction\",\n",
    "                  hue='result',\n",
    "                  multiple='stack',\n",
    "                  bins=30).set_title('Distribution of Validation Set Predictions (excluding true negatives <0.05)')\n",
    "\n",
    "plt.axvline(0.5,0,30)"
   ]
  },
  {
   "cell_type": "code",
   "execution_count": null,
   "metadata": {},
   "outputs": [],
   "source": [
    "false_positives=val_results[val_results.truth_delta<=-.5]\n",
    "print(false_positives.shape)\n",
    "false_positives"
   ]
  },
  {
   "cell_type": "code",
   "execution_count": null,
   "metadata": {},
   "outputs": [],
   "source": [
    "\n",
    "\n",
    "tce_number=835\n",
    "chart(tce_number,tce_id,val_results,x_global_val,x_local_val)\n"
   ]
  },
  {
   "cell_type": "code",
   "execution_count": null,
   "metadata": {},
   "outputs": [],
   "source": [
    "val_results.result[790]"
   ]
  },
  {
   "cell_type": "code",
   "execution_count": null,
   "metadata": {},
   "outputs": [],
   "source": [
    "false_negatives=val_results[val_results.truth_delta>=0.5].sort_values('truth_delta',ascending=False)\n",
    "print (false_negatives.shape)\n",
    "false_negatives"
   ]
  },
  {
   "cell_type": "code",
   "execution_count": null,
   "metadata": {},
   "outputs": [],
   "source": [
    "tce_number=629\n",
    "chart_curves(9999,0,\n",
    "             'FALSE NEGATIVE',\n",
    "             x_global_val[tce_number],x_local_val[tce_number])"
   ]
  },
  {
   "cell_type": "code",
   "execution_count": null,
   "metadata": {},
   "outputs": [],
   "source": [
    "print(val_results[val_results.result=='True Positive'].sort_values('prediction',ascending=False))\n",
    "tce_number=118\n",
    "chart_curves(9999,0,\n",
    "             'TRUE POSITIVE',\n",
    "             x_global_val[tce_number],x_local_val[tce_number])"
   ]
  },
  {
   "cell_type": "code",
   "execution_count": null,
   "metadata": {},
   "outputs": [],
   "source": [
    "print(val_results[val_results.result=='True Negative'].sort_values('prediction',ascending=True))\n",
    "tce_number=135\n",
    "chart_curves(9999,0,\n",
    "             'TRUE NEGATIVE',\n",
    "             x_global_val[tce_number],x_local_val[tce_number])"
   ]
  },
  {
   "cell_type": "code",
   "execution_count": null,
   "metadata": {},
   "outputs": [],
   "source": [
    "baseline_results = model.evaluate([x_local_train,x_global_train],Y_train,\n",
    "                                  batch_size=BATCH_SIZE, verbose=0)\n",
    "for name, value in zip(model.metrics_names, baseline_results):\n",
    "  print(name, ': ', value)\n",
    "print()"
   ]
  },
  {
   "cell_type": "markdown",
   "metadata": {},
   "source": []
  },
  {
   "cell_type": "code",
   "execution_count": null,
   "metadata": {},
   "outputs": [],
   "source": []
  },
  {
   "cell_type": "markdown",
   "metadata": {},
   "source": [
    "#### Class weighting to deal with unbalanced classes"
   ]
  },
  {
   "cell_type": "code",
   "execution_count": null,
   "metadata": {},
   "outputs": [],
   "source": [
    "weight_for_0 = (1 / neg)*(total)/2.0 \n",
    "weight_for_1 = (1 / pos)*(total)/2.0\n",
    "\n",
    "class_weight = {0: weight_for_0, 1: weight_for_1}\n",
    "\n",
    "print('Weight for class 0: {:.2f}'.format(weight_for_0))\n",
    "print('Weight for class 1: {:.2f}'.format(weight_for_1))"
   ]
  },
  {
   "cell_type": "code",
   "execution_count": null,
   "metadata": {},
   "outputs": [],
   "source": [
    "tf.keras.backend.clear_session()\n",
    "model=make_model()\n",
    "#model.load_weights(initial_weights)\n",
    "\n",
    "history=model.fit([x_local_train,x_global_train],\n",
    "                  Y_train,\n",
    "                  validation_data=([x_local_val,x_global_val],Y_val),\n",
    "                  epochs=EPOCHS,\n",
    "                  batch_size=BATCH_SIZE,\n",
    "                  class_weight=class_weight,\n",
    "                  callbacks=[early_stopping],\n",
    "                  verbose=2)"
   ]
  },
  {
   "cell_type": "code",
   "execution_count": null,
   "metadata": {},
   "outputs": [],
   "source": [
    "plot_metrics(history)\n",
    "plot_cm(Y_val, val_predictions_baseline)\n",
    "\n",
    "val_predictions_baseline = model.predict([x_local_val,x_global_val], batch_size=BATCH_SIZE)\n",
    "train_predictions_baseline = model.predict([x_local_train,x_global_train], batch_size=BATCH_SIZE)\n",
    "\n",
    "plot_roc(\"Train Baseline\", Y_train, train_predictions_baseline, color=colors[0])\n",
    "plot_roc(\"Test Baseline\", Y_val, val_predictions_baseline, color=colors[0], linestyle='--')\n",
    "plt.legend(loc='lower right')"
   ]
  },
  {
   "cell_type": "markdown",
   "metadata": {},
   "source": [
    "#### Oversampling to deal with unbalanced classes"
   ]
  },
  {
   "cell_type": "code",
   "execution_count": null,
   "metadata": {},
   "outputs": [],
   "source": [
    "#oversampling\n",
    "bool_train_labels = Y_train != 0\n",
    "pos_features_local = x_local_train[bool_train_labels]\n",
    "neg_features_local = x_local_train[~bool_train_labels]\n",
    "pos_features_global = x_global_train[bool_train_labels]\n",
    "neg_features_global = x_global_train[~bool_train_labels]\n",
    "\n",
    "pos_labels = Y_train[bool_train_labels]\n",
    "neg_labels = Y_train[~bool_train_labels]"
   ]
  },
  {
   "cell_type": "code",
   "execution_count": null,
   "metadata": {},
   "outputs": [],
   "source": [
    "ids = np.arange(len(pos_features_local))\n",
    "choices = np.random.choice(ids, len(neg_features_local))\n",
    "\n",
    "res_pos_features_local = pos_features_local[choices]\n",
    "res_pos_features_global = pos_features_global[choices]\n",
    "res_pos_labels = pos_labels[choices]\n",
    "\n",
    "print(res_pos_features_local.shape,res_pos_features_global.shape)"
   ]
  },
  {
   "cell_type": "code",
   "execution_count": null,
   "metadata": {},
   "outputs": [],
   "source": [
    "res_features_local=np.concatenate([res_pos_features_local,neg_features_local],axis=0)\n",
    "res_features_global=np.concatenate([res_pos_features_global,neg_features_global],axis=0)\n",
    "res_labels=np.concatenate([res_pos_labels,neg_labels],axis=0)\n",
    "order=np.arange(len(res_labels))\n",
    "np.random.shuffle(order)\n",
    "res_features_local=res_features_local[order]\n",
    "res_features_global=res_features_global[order]\n",
    "res_labels=res_labels[order]\n",
    "print(res_features_local.shape,res_features_global.shape,res_labels.shape)"
   ]
  },
  {
   "cell_type": "code",
   "execution_count": null,
   "metadata": {},
   "outputs": [],
   "source": [
    "tf.keras.backend.clear_session()\n",
    "model=make_model()\n",
    "history = model.fit(\n",
    "        [res_features_local,res_features_global],\n",
    "        res_labels,\n",
    "        validation_data=([x_local_val,x_global_val],Y_val),\n",
    "        epochs=EPOCHS,\n",
    "        batch_size=BATCH_SIZE,\n",
    "        callbacks=[early_stopping],\n",
    "        verbose=2)\n"
   ]
  },
  {
   "cell_type": "code",
   "execution_count": null,
   "metadata": {},
   "outputs": [],
   "source": [
    "plot_metrics(history)\n",
    "plot_cm(Y_val, val_predictions_baseline)\n",
    "\n",
    "val_predictions_baseline = model.predict([x_local_val,x_global_val], batch_size=BATCH_SIZE)\n",
    "train_predictions_baseline = model.predict([x_local_train,x_global_train], batch_size=BATCH_SIZE)\n",
    "\n",
    "plot_roc(\"Train Baseline\", Y_train, train_predictions_baseline, color=colors[0])\n",
    "plot_roc(\"Test Baseline\", Y_val, val_predictions_baseline, color=colors[0], linestyle='--')\n",
    "plt.legend(loc='lower right')"
   ]
  },
  {
   "cell_type": "code",
   "execution_count": null,
   "metadata": {},
   "outputs": [],
   "source": []
  },
  {
   "cell_type": "code",
   "execution_count": null,
   "metadata": {},
   "outputs": [],
   "source": []
  },
  {
   "cell_type": "code",
   "execution_count": null,
   "metadata": {},
   "outputs": [],
   "source": []
  },
  {
   "cell_type": "code",
   "execution_count": null,
   "metadata": {},
   "outputs": [],
   "source": []
  },
  {
   "cell_type": "code",
   "execution_count": null,
   "metadata": {},
   "outputs": [],
   "source": []
  },
  {
   "cell_type": "code",
   "execution_count": null,
   "metadata": {},
   "outputs": [],
   "source": []
  },
  {
   "cell_type": "code",
   "execution_count": null,
   "metadata": {},
   "outputs": [],
   "source": [
    "np.set_printoptions(suppress=True)\n",
    "Y_val_pred=model.predict([x_local_val,x_global_val])\n",
    "print(Y_val_pred.shape)\n",
    "print(Y_val_pred[0:30])\n",
    "print(Y_val[0:30])"
   ]
  },
  {
   "cell_type": "code",
   "execution_count": null,
   "metadata": {},
   "outputs": [],
   "source": [
    "from sklearn.metrics import classification_report\n",
    "\n",
    "Y_val_pred_bool = np.argmax(Y_val_pred, axis=1)\n",
    "\n",
    "print(classification_report(Y_val, Y_val_pred_bool))"
   ]
  },
  {
   "cell_type": "code",
   "execution_count": null,
   "metadata": {},
   "outputs": [],
   "source": [
    "np.bincount(Y_val)"
   ]
  },
  {
   "cell_type": "code",
   "execution_count": null,
   "metadata": {},
   "outputs": [],
   "source": [
    "import matplotlib.pyplot as plt\n",
    "fig,axes=plt.subplots(2,2,figsize=(16,8))\n",
    "plt.subplot(221)\n",
    "plt.title('Loss')\n",
    "plt.plot(history.history['loss'], label='train')\n",
    "plt.plot(history.history['val_loss'], label='test')\n",
    "plt.legend()\n",
    "# plot accuracy during training\n",
    "plt.subplot(222)\n",
    "plt.title('Accuracy')\n",
    "plt.plot(history.history['accuracy'], label='train')\n",
    "plt.plot(history.history['val_accuracy'], label='test')\n",
    "plt.legend()\n",
    "\n",
    "plt.subplot(223)\n",
    "plt.title('AUC')\n",
    "plt.plot(history.history['auc'], label='train')\n",
    "plt.plot(history.history['val_auc'], label='test')\n",
    "plt.legend()\n",
    "plt.show()"
   ]
  },
  {
   "cell_type": "code",
   "execution_count": null,
   "metadata": {},
   "outputs": [],
   "source": []
  },
  {
   "cell_type": "code",
   "execution_count": null,
   "metadata": {},
   "outputs": [],
   "source": []
  },
  {
   "cell_type": "code",
   "execution_count": null,
   "metadata": {},
   "outputs": [],
   "source": []
  },
  {
   "cell_type": "code",
   "execution_count": null,
   "metadata": {},
   "outputs": [],
   "source": []
  },
  {
   "cell_type": "code",
   "execution_count": null,
   "metadata": {},
   "outputs": [],
   "source": [
    "# the first branch operates on the first input\n",
    "x = Dense(8, activation=\"relu\")(inputA)\n",
    "x = Dense(4, activation=\"relu\")(x)\n",
    "x = Model(inputs=inputA, outputs=x)\n",
    "# the second branch opreates on the second input\n",
    "y = Dense(64, activation=\"relu\")(inputB)\n",
    "y = Dense(32, activation=\"relu\")(y)\n",
    "y = Dense(4, activation=\"relu\")(y)\n",
    "y = Model(inputs=inputB, outputs=y)\n",
    "# combine the output of the two branches\n",
    "combined = concatenate([x.output, y.output])\n",
    "# apply a FC layer and then a regression prediction on the\n",
    "# combined outputs\n",
    "z = Dense(2, activation=\"relu\")(combined)\n",
    "z = Dense(1, activation=\"linear\")(z)\n",
    "# our model will accept the inputs of the two branches and\n",
    "# then output a single value\n",
    "model = Model(inputs=[x.input, y.input], outputs=z)"
   ]
  },
  {
   "cell_type": "code",
   "execution_count": null,
   "metadata": {},
   "outputs": [],
   "source": []
  },
  {
   "cell_type": "code",
   "execution_count": null,
   "metadata": {},
   "outputs": [],
   "source": [
    "#model splits into lat long after convolutional layers\n",
    "\n",
    "input_shape=(270,480,1)\n",
    "x=tf.keras.layers.Conv2D(64,(3,3),activation='relu')(inputs)\n",
    "x=tf.keras.layers.MaxPooling2D((2,2))(x)\n",
    "input = tf.keras.layers.Input(shape=input_shape)\n",
    "x=tf.keras.layers.Conv2D(64,(3,3),activation='relu')(x)\n",
    "x=tf.keras.layers.MaxPooling2D((2,2))(x)\n",
    "x=tf.keras.layers.Dropout(0.25)(x)\n",
    "x=tf.keras.layers.Conv2D(128,(3,3),activation='relu')(x)\n",
    "x=tf.keras.layers.MaxPooling2D((2,2))(x)\n",
    "x=tf.keras.layers.Conv2D(128,(3,3),activation='relu')(x)\n",
    "x=tf.keras.layers.MaxPooling2D((2,2))(x)\n",
    "x=tf.keras.layers.Dropout(0.25)(x)\n",
    "x=tf.keras.layers.Flatten()(x)\n",
    "\n",
    "xlat=tf.keras.layers.Dense(256,activation='relu')(x)\n",
    "xlat=tf.keras.layers.Dropout(0.5)(xlat)\n",
    "xlat=tf.keras.layers.Dense(64,activation='relu')(xlat)\n",
    "regression_layer_lat = tf.keras.layers.Dense(1, name='regression_lat')(xlat)  \n",
    "\n",
    "xlong=tf.keras.layers.Dense(256,activation='relu')(x)\n",
    "xlong=tf.keras.layers.Dropout(0.5)(xlong)\n",
    "xlong=tf.keras.layers.Dense(64,activation='relu')(xlong)\n",
    "regression_layer_long = tf.keras.layers.Dense(1, name='regression_long')(xlong)\n",
    "\n",
    "model_output = [regression_layer_lat, regression_layer_long]\n",
    "losses = ['mean_squared_error', 'mean_squared_error']\n",
    "metrics = ['mean_squared_error', 'mean_squared_error']\n",
    "\n",
    "model = tf.keras.models.Model(inputs, model_output)\n",
    "model.compile(loss=losses,  optimizer='adam', metrics=metrics)"
   ]
  },
  {
   "cell_type": "code",
   "execution_count": null,
   "metadata": {},
   "outputs": [],
   "source": [
    "with open('model.yml') as config_file:\n",
    "    config_data = yaml.load(config_file)\n",
    "    image_dir = config_data['image_dir']\n",
    "    latstart= config_data['latstart']\n",
    "    latend=config_data['latend']\n",
    "    longstart = config_data['longstart']\n",
    "    longend=config_data['longend']\n",
    "    dtstart= config_data['dtstart']\n",
    "    dtend=config_data['dtend']"
   ]
  },
  {
   "cell_type": "code",
   "execution_count": null,
   "metadata": {},
   "outputs": [],
   "source": []
  },
  {
   "cell_type": "markdown",
   "metadata": {
    "colab_type": "text",
    "id": "-k4t6YLVrt49"
   },
   "source": [
    "## Define functions to load the data\n"
   ]
  },
  {
   "cell_type": "markdown",
   "metadata": {},
   "source": [
    "#### comment\n"
   ]
  },
  {
   "cell_type": "markdown",
   "metadata": {},
   "source": [
    "### Key image read-in functions: load_image and build_input"
   ]
  },
  {
   "cell_type": "code",
   "execution_count": null,
   "metadata": {
    "colab": {},
    "colab_type": "code",
    "id": "FVUFnke4eIZI"
   },
   "outputs": [],
   "source": [
    "def load_image(s3_client,bucket_name,file_name, dim=(224,224)):\n",
    "    \"\"\"\n",
    "    Loads a single image as a Numpy array and resizes it as\n",
    "    desired.  The default dimensions are consistent with\n",
    "    those expected by the VGG models.  \n",
    "\n",
    "    Args:\n",
    "    s3_client:  s3 resource\n",
    "    bucket_name:name of bucket\n",
    "    file_name:  file to convert to image\n",
    "\n",
    "    dim: Two-element tuple giving the desired height\n",
    "         and width of the processed image\n",
    "\n",
    "    Returns:\n",
    "    image:  A single-channel Numpy array\n",
    "    \"\"\"\n",
    "    #image = cv2.imread(image_path, 0)\n",
    "    file_stream = io.BytesIO()\n",
    "    s3.download_fileobj(bucket_name,file_name,file_stream)\n",
    "    nparr = np.frombuffer(file_stream.getvalue(), np.uint8)\n",
    "    image=cv2.imdecode(nparr,0)\n",
    "    image = cv2.resize(image, dim)#, interpolation = cv2.INTER_AREA)\n",
    "    return image"
   ]
  },
  {
   "cell_type": "code",
   "execution_count": null,
   "metadata": {
    "colab": {},
    "colab_type": "code",
    "id": "CFJgfKxOi9Uj"
   },
   "outputs": [],
   "source": [
    "def build_input(s3_client,bucket_name,file_list,files_to_load,dim):\n",
    "    \"\"\"\n",
    "    Loads all of the images into a single numpy array.\n",
    "    Assumes that there are 101 equally-spaced images\n",
    "    spanning lattitudes from 35N to 45N.  \n",
    "\n",
    "    Args:\n",
    "    s3_client:  s3 resource\n",
    "    bucket_name:name of bucket\n",
    "    file_list:  list of files in bucket\n",
    "    Returns:\n",
    "    X:  A 3-dimensional numpy array containing the\n",
    "        images. Image height and width are set by\n",
    "        `load_images` and default to 224 x 224.\n",
    "\n",
    "    y:  A 1-dimensional numpy array of target lattitudes.\n",
    "    \"\"\"\n",
    "    X = []\n",
    "    i=0\n",
    "    for file in file_list[0:files_to_load]:\n",
    "        if file[-4:] == '.png':\n",
    "            print(file)\n",
    "            image = load_image(s3_client,bucket_name,file,dim)\n",
    "            X.append(image)\n",
    "            if i%100==0:\n",
    "                print('loaded:',i)\n",
    "            i+=1\n",
    "    return (np.array(X) / 255)"
   ]
  },
  {
   "cell_type": "code",
   "execution_count": null,
   "metadata": {
    "colab": {},
    "colab_type": "code",
    "id": "g4CpV8Yue8G1"
   },
   "outputs": [],
   "source": [
    "def build_labels(file_list,files_to_load):\n",
    "    y = []\n",
    "    t=[]\n",
    "    for file in file_list[0:files_to_load]:\n",
    "        if file[-4:] == '.png':\n",
    "            file_split = file.split('+')\n",
    "            lat = float(file_split[0])\n",
    "            long = float(file_split[1])\n",
    "            time = file_split[2].split('.')[0]\n",
    "            y.append((lat, long))\n",
    "            t.append(time)\n",
    "    return np.array(y),np.array(t)"
   ]
  },
  {
   "cell_type": "markdown",
   "metadata": {},
   "source": [
    "#### Test load_image on one image manually"
   ]
  },
  {
   "cell_type": "code",
   "execution_count": null,
   "metadata": {
    "colab": {
     "base_uri": "https://localhost:8080/",
     "height": 286
    },
    "colab_type": "code",
    "id": "6aWURghls3NV",
    "outputId": "cc7d27e7-ddee-424c-88ed-0bbf23b57972"
   },
   "outputs": [],
   "source": [
    "bucket_name='w251-final-project'\n",
    "file_name='36.0014762509164+-74.82905304191733+2020-05-26T01:10:59.png'\n",
    "s3 = boto3.client('s3')\n",
    "sample_image = load_image(s3,bucket_name,file_name)\n",
    "plt.imshow(sample_image)\n",
    "print(sample_image.shape)\n",
    "file_list=[file_name]\n",
    "test_label, test_time=build_labels(file_list,1)\n",
    "print (test_label,test_time)"
   ]
  },
  {
   "cell_type": "markdown",
   "metadata": {
    "colab_type": "text",
    "id": "10QkIM_Rso10"
   },
   "source": [
    "## Prepare the data"
   ]
  },
  {
   "cell_type": "markdown",
   "metadata": {
    "colab_type": "text",
    "id": "HkcP-D-Esrce"
   },
   "source": [
    "### Load the images"
   ]
  },
  {
   "cell_type": "code",
   "execution_count": null,
   "metadata": {
    "colab": {},
    "colab_type": "code",
    "id": "kUp7yqdFkFi0"
   },
   "outputs": [],
   "source": [
    "#clear out models for memory management purposes\n",
    "tf.keras.backend.clear_session()\n",
    "\n",
    "#change this to true to force it to reload from S3 bucket\n",
    "force_load=False\n",
    "\n",
    "#check if np arrays have already been saved and load if so\n",
    "if ((os.path.exists('x.npy'))&(not force_load)):\n",
    "    print('loading from files')\n",
    "    X=np.load('x.npy')\n",
    "    y=np.load('y.npy')\n",
    "    t=np.load('t.npy')\n",
    "\n",
    "#otherwise go to S3 bucket\n",
    "else:\n",
    "    print('loading from S3')\n",
    "    bucket_name='w251-final-project'\n",
    "    file_list=get_matching_s3_keys(bucket_name)\n",
    "    \n",
    "    #shuffle file list so that if take less than all are distributed.  also makes array randomly shuffled\n",
    "    random.shuffle(file_list)\n",
    "    \n",
    "    s3 = boto3.client('s3')\n",
    "\n",
    "    #max_files=100000\n",
    "    max_files=500\n",
    "    file_list_length=len(file_list)\n",
    "    files_to_load=np.minimum(max_files,file_list_length)\n",
    "\n",
    "    #get images\n",
    "    print('About to call build_input on',files_to_load,' files')\n",
    "    dim=(224,224)\n",
    "    X = build_input(s3,bucket_name,file_list,files_to_load,dim)\n",
    "\n",
    "\n",
    "    #get labels\n",
    "    print ('Building labels')\n",
    "    y,t = build_labels(file_list,files_to_load)\n",
    "    \n",
    "    print ('saving arrays so can reload more easily next time through')\n",
    "    np.save('x.npy',X)\n",
    "    np.save('y.npy',y)\n",
    "    np.save('t.npy',t)\n",
    "\n",
    "print ('shape of image array:', X.shape)\n",
    "print ('shape of label list:', y.shape)\n",
    "print ('shape of time list:',t.shape)"
   ]
  },
  {
   "cell_type": "markdown",
   "metadata": {
    "colab_type": "text",
    "id": "mdemcB48loMr"
   },
   "source": [
    "\n",
    "### Standardize the values"
   ]
  },
  {
   "cell_type": "code",
   "execution_count": null,
   "metadata": {},
   "outputs": [],
   "source": [
    "def scale_down(numbers,top,bottom):\n",
    "    number_range=top-bottom\n",
    "    revised=[x-bottom for x in numbers]\n",
    "    revised=[x/number_range for x in revised]\n",
    "    return revised\n",
    "\n",
    "def scale_up(number,top,bottom):\n",
    "    number_range=top-bottom\n",
    "    revised=number*number_range\n",
    "    revised=revised+bottom\n",
    "    return revised\n"
   ]
  },
  {
   "cell_type": "code",
   "execution_count": null,
   "metadata": {
    "colab": {},
    "colab_type": "code",
    "id": "CQDi4jNTivAZ"
   },
   "outputs": [],
   "source": [
    "#just scaling down without normalizing\n",
    "y[:,0]=scale_down(y[:,0],latend,latstart)\n",
    "y[:,1]=scale_down(y[:,1],longend,longstart)\n",
    "\n",
    "#y[:,0] = scale(y[:,0])\n",
    "#y[:,1]=scale(y[:,1])\n",
    "\n",
    "print (y[:,0].mean(),y[:,0].std())\n",
    "print (y[:,1].mean(),y[:,1].std())"
   ]
  },
  {
   "cell_type": "markdown",
   "metadata": {
    "colab_type": "text",
    "id": "fwhGSeYdstxS"
   },
   "source": [
    "### Split into test and training sets"
   ]
  },
  {
   "cell_type": "code",
   "execution_count": null,
   "metadata": {
    "colab": {
     "base_uri": "https://localhost:8080/",
     "height": 85
    },
    "colab_type": "code",
    "id": "owd0SyrvlUHo",
    "outputId": "e1e23c19-08da-4f84-df78-b6a8b0da9b51"
   },
   "outputs": [],
   "source": [
    "X_train, X_val, y_train, y_val = train_test_split(X, y, test_size=0.2)\n",
    "print(X_train.shape)\n",
    "print(y_train.shape)\n",
    "print(X_val.shape)\n",
    "print(y_val.shape)\n"
   ]
  },
  {
   "cell_type": "code",
   "execution_count": null,
   "metadata": {},
   "outputs": [],
   "source": [
    "print(X_train[0].shape)\n",
    "print (X_train[0])\n",
    "print (X_train[0].max())\n",
    "print (X_train[0].mean())"
   ]
  },
  {
   "cell_type": "markdown",
   "metadata": {},
   "source": [
    "### Add channel for CNN"
   ]
  },
  {
   "cell_type": "code",
   "execution_count": null,
   "metadata": {},
   "outputs": [],
   "source": [
    "#need to add channel for B&W for CNN\n",
    "#https://machinelearningmastery.com/a-gentle-introduction-to-channels-first-and-channels-last-image-formats-for-deep-learning/\n",
    "\n",
    "print(X_train.shape,y_train.shape)\n",
    "X_train=np.expand_dims(X_train,axis=3)\n",
    "X_val=np.expand_dims(X_val,axis=3)\n",
    "print(X_train.shape,X_val.shape)"
   ]
  },
  {
   "cell_type": "markdown",
   "metadata": {
    "colab_type": "text",
    "id": "otvKdtM3tKDG"
   },
   "source": [
    "## The model\n"
   ]
  },
  {
   "cell_type": "code",
   "execution_count": null,
   "metadata": {},
   "outputs": [],
   "source": [
    "#just dense\n",
    "\n",
    "input_shape=(224,224,1)\n",
    "input_image = tf.keras.layers.Input(shape=X_train[0].shape)\n",
    "input_time=input_time=tf.keras.layers.Input(shape=t_train[0].shape)\n",
    "i=tf.keras.layers.Flatten()(input_image)\n",
    "i=tf.keras.layers.Dense(528,activation='relu')(i)\n",
    "i=tf.keras.layers.Dense(528,activation='relu')(i)\n",
    "i=tf.keras.layers.Dense(528,activation='relu')(i)\n",
    "\n",
    "t=tf.keras.layers.Flatten()(input_time)\n",
    "it=tf.keras.layers.concatenate([i,t])\n",
    "\n",
    "xlat=tf.keras.layers.Dense(256,activation='relu')(it)\n",
    "xlat=tf.keras.layers.Dropout(0.25)(xlat)\n",
    "xlat=tf.keras.layers.Dense(256,activation='relu')(xlat)\n",
    "regression_layer_lat = tf.keras.layers.Dense(1, name='regression_lat')(xlat)  \n",
    "\n",
    "xlong=tf.keras.layers.Dense(256,activation='relu')(it)\n",
    "xlong=tf.keras.layers.Dropout(0.25)(xlong)\n",
    "xlong=tf.keras.layers.Dense(256,activation='relu')(xlong)\n",
    "regression_layer_long = tf.keras.layers.Dense(1, name='regression_long')(xlong)\n",
    "\n",
    "model_output = [regression_layer_lat, regression_layer_long]\n",
    "losses = ['mean_squared_error', 'mean_squared_error']\n",
    "metrics = ['mean_squared_error', 'mean_squared_error']\n",
    "\n",
    "model = tf.keras.models.Model([input_image,input_time], model_output)\n",
    "\n",
    "\n",
    "\n",
    "\n",
    "\n"
   ]
  },
  {
   "cell_type": "code",
   "execution_count": null,
   "metadata": {},
   "outputs": [],
   "source": [
    "losses = ['mean_squared_error','mean_squared_error']\n",
    "metrics = ['mean_squared_error','mean_squared_error']\n",
    "\n",
    "model.compile(optimizer='Adam',\n",
    "                 loss=losses,\n",
    "                 metrics=metrics)\n",
    "\n",
    "print(model.summary())\n"
   ]
  },
  {
   "cell_type": "markdown",
   "metadata": {
    "colab_type": "text",
    "id": "45ubHGx-0fZT"
   },
   "source": [
    "### Fit the model"
   ]
  },
  {
   "cell_type": "code",
   "execution_count": null,
   "metadata": {
    "colab": {
     "base_uri": "https://localhost:8080/",
     "height": 1000
    },
    "colab_type": "code",
    "id": "GSdEVoRTn7KO",
    "outputId": "f18a5e41-575f-4cc5-a200-7ed098765963"
   },
   "outputs": [],
   "source": [
    "tf.keras.backend.clear_session()\n",
    "history = model.fit(x=[X_train,t_train], \n",
    "                    y=[y_train[:,0],y_train[:,1]],\n",
    "                    validation_data=[[X_val,t_val],[y_val[:,0],y_val[:,1]]],\n",
    "                    verbose=1, epochs=15, batch_size=32)\n",
    "\n",
    "    \n"
   ]
  },
  {
   "cell_type": "markdown",
   "metadata": {
    "colab_type": "text",
    "id": "xgjEi6oP0kNE"
   },
   "source": [
    "### Evaluate model performance"
   ]
  },
  {
   "cell_type": "code",
   "execution_count": null,
   "metadata": {
    "colab": {
     "base_uri": "https://localhost:8080/",
     "height": 295
    },
    "colab_type": "code",
    "id": "CZNI6nGtzbYy",
    "outputId": "0af1dc94-1682-46eb-e7d9-e5a52d01eacb"
   },
   "outputs": [],
   "source": [
    "history_df = pd.DataFrame(history.history)\n",
    "ax = history_df.plot(y=['loss', 'val_loss'],\n",
    "                xticks=np.linspace(0, len(history_df), 6))\n",
    "ax.set_ylabel('Loss')\n",
    "ax.set_xlabel('Epoch')\n",
    "ax.set_title('Evolution of Mean Squared Error')\n",
    "plt.show()\n"
   ]
  },
  {
   "cell_type": "code",
   "execution_count": null,
   "metadata": {},
   "outputs": [],
   "source": [
    "print(X_val.shape)\n",
    "print(y_val.shape)"
   ]
  },
  {
   "cell_type": "code",
   "execution_count": null,
   "metadata": {
    "colab": {},
    "colab_type": "code",
    "id": "29eHeDjEoNqj"
   },
   "outputs": [],
   "source": [
    "y_hat = model.predict([X_val,t_val])\n",
    "#y_hat_lat=model.predict(X_val)[0]\n",
    "#y_hat_long=model.predict(X_val)[1]\n",
    "y_hat_lat=y_hat[:,0]\n",
    "y_hat_long=y_hat[:,1]\n",
    "\n",
    "y_hat_lat=scale_up(y_hat_lat,latend,latstart)\n",
    "y_hat_long=scale_up(y_hat_long,longend,longstart)\n",
    "\n",
    "y_val_lat=y_val[:,0]\n",
    "y_val_long=y_val[:,1]\n",
    "\n",
    "y_val_lat=scale_up(y_val_lat,latend,latstart)\n",
    "y_val_long=scale_up(y_val_long,longend,longstart)"
   ]
  },
  {
   "cell_type": "code",
   "execution_count": null,
   "metadata": {
    "colab": {
     "base_uri": "https://localhost:8080/",
     "height": 295
    },
    "colab_type": "code",
    "id": "6CoZVBtCrT7K",
    "outputId": "f9b36a5f-5eef-468e-edd9-e6811ba7ea39"
   },
   "outputs": [],
   "source": [
    "fig = plt.figure(figsize=(12,6))\n",
    "ax=fig.add_subplot(111)\n",
    "ax.scatter(y_val_lat, y_hat_lat)\n",
    "plt.title('Predicted lat vs. True lat')\n",
    "plt.xlabel('True lat')\n",
    "plt.ylabel('Predicted lat')\n",
    "ax.set_xlim(36,40)\n",
    "ax.set_ylim(36,40)\n",
    "#draw straight line\n"
   ]
  },
  {
   "cell_type": "code",
   "execution_count": null,
   "metadata": {
    "colab": {
     "base_uri": "https://localhost:8080/",
     "height": 295
    },
    "colab_type": "code",
    "id": "n5tCuM2HvK72",
    "outputId": "f1b6570d-1fa3-464c-c820-8e01ca393676"
   },
   "outputs": [],
   "source": [
    "fig = plt.figure(figsize=(12,6))\n",
    "ax=fig.add_subplot(111)\n",
    "ax.scatter(y_val_long, y_hat_long)\n",
    "plt.title('Predicted long vs. True long')\n",
    "plt.xlabel('True long')\n",
    "plt.ylabel('Predicted long')\n",
    "ax.set_xlim(-78,-74)\n",
    "ax.set_ylim(-78,-74)\n"
   ]
  },
  {
   "cell_type": "markdown",
   "metadata": {},
   "source": [
    "### Save Model"
   ]
  },
  {
   "cell_type": "code",
   "execution_count": null,
   "metadata": {},
   "outputs": [],
   "source": [
    "model_dir='inference_model'\n",
    "model.save(model_dir)\n"
   ]
  },
  {
   "cell_type": "code",
   "execution_count": null,
   "metadata": {},
   "outputs": [],
   "source": [
    "test_model=tf.keras.models.load_model(model_dir)\n"
   ]
  },
  {
   "cell_type": "code",
   "execution_count": null,
   "metadata": {},
   "outputs": [],
   "source": [
    "def upload_model(model_dir,bucket_name):\n",
    "    #s3_client=boto3.client('s3')\n",
    "    session = boto3.Session()\n",
    "    s3 = session.resource('s3')\n",
    "    bucket = s3.Bucket(bucket_name)\n",
    "    for subdir, dirs, files in os.walk(model_dir):\n",
    "        for file in files:\n",
    "            full_path = os.path.join(subdir, file)\n",
    "            with open(full_path, 'rb') as data:\n",
    "                bucket.put_object(Key=full_path[len(model_dir)+1:], Body=data)\n",
    "\n",
    "bucket_name='w251-final-project-model'\n",
    "upload_model(model_dir,bucket_name)"
   ]
  },
  {
   "cell_type": "code",
   "execution_count": null,
   "metadata": {},
   "outputs": [],
   "source": []
  },
  {
   "cell_type": "code",
   "execution_count": null,
   "metadata": {},
   "outputs": [],
   "source": [
    "input_image = tf.keras.layers.Input(shape=X_train[0].shape)\n",
    "input_time=tf.keras.layers.Input(shape=t_train[0].shape)\n",
    "\n",
    "i=tf.keras.layers.Conv2D(filters=5,kernel_size=10,padding='same',activation='relu')(input_image)\n",
    "i=tf.keras.layers.Conv2D(filters=1,kernel_size=10,padding='same',activation='relu') (i)\n",
    "i=tf.keras.layers.Flatten()(i)\n",
    "\n",
    "t=tf.keras.layers.Flatten()(input_time)\n",
    "ti=tf.keras.layers.concatenate([i,t])\n",
    "ti=tf.keras.layers.Dense(256,activation='relu')(ti)\n",
    "ti=tf.keras.layers.Dropout(0.2)(ti)\n",
    "outputs=tf.keras.layers.Dense(2,activation='sigmoid')(ti)\n",
    "\n",
    "model = tf.keras.Model(inputs=[input_image, input_time], outputs=outputs)\n",
    "\n",
    "\n",
    "lr_schedule = tf.keras.optimizers.schedules.ExponentialDecay(\n",
    "    initial_learning_rate=1e-2,\n",
    "    decay_steps=10000,\n",
    "    decay_rate=0.9)\n",
    "\n",
    "optimizer = tf.keras.optimizers.SGD(learning_rate=lr_schedule)\n",
    "\n",
    "model.compile(optimizer=optimizer,\n",
    "                 loss=haversine_loss)\n",
    "\n",
    "print(model.summary())\n",
    "\n",
    "history = model.fit(x=[X_train,t_train], \n",
    "                    y=[y_train],\n",
    "                    validation_data=[[X_val,t_val],y_val],\n",
    "                    verbose=1, epochs=15, batch_size=64)\n"
   ]
  },
  {
   "cell_type": "markdown",
   "metadata": {},
   "source": [
    "### Feed Forward Dense"
   ]
  },
  {
   "cell_type": "code",
   "execution_count": null,
   "metadata": {},
   "outputs": [],
   "source": [
    "#just dense\n",
    "\n",
    "input_shape=(224,224,1)\n",
    "inputs = tf.keras.layers.Input(shape=input_shape)\n",
    "x=tf.keras.layers.Flatten()(inputs)\n",
    "x=tf.keras.layers.Dense(528,activation='relu')(x)\n",
    "x=tf.keras.layers.Dense(528,activation='relu')(x)\n",
    "x=tf.keras.layers.Dense(528,activation='relu')(x)\n",
    "\n",
    "xlat=tf.keras.layers.Dense(256,activation='relu')(x)\n",
    "xlat=tf.keras.layers.Dropout(0.25)(xlat)\n",
    "xlat=tf.keras.layers.Dense(256,activation='relu')(xlat)\n",
    "regression_layer_lat = tf.keras.layers.Dense(1, name='regression_lat')(xlat)  \n",
    "\n",
    "xlong=tf.keras.layers.Dense(256,activation='relu')(x)\n",
    "xlong=tf.keras.layers.Dropout(0.25)(xlong)\n",
    "xlong=tf.keras.layers.Dense(256,activation='relu')(xlong)\n",
    "regression_layer_long = tf.keras.layers.Dense(1, name='regression_long')(xlong)\n",
    "\n",
    "model_output = [regression_layer_lat, regression_layer_long]\n",
    "losses = ['mean_squared_error', 'mean_squared_error']\n",
    "metrics = ['mean_squared_error', 'mean_squared_error']\n",
    "\n",
    "model = tf.keras.models.Model(inputs, model_output)\n",
    "model.compile(loss=losses,  optimizer='adam', metrics=metrics)\n",
    "print(model.summary())"
   ]
  },
  {
   "cell_type": "code",
   "execution_count": null,
   "metadata": {},
   "outputs": [],
   "source": [
    "history = model.fit(x=X_train, \n",
    "                    y=[y_train[:,0],y_train[:,1]],\n",
    "                    validation_data=[X_val,[y_val[:,0],y_val[:,1]]],\n",
    "                    verbose=1, epochs=20, batch_size=128)"
   ]
  },
  {
   "cell_type": "code",
   "execution_count": null,
   "metadata": {},
   "outputs": [],
   "source": [
    "y_hat = model.predict(X_val)\n",
    "#y_hat_lat=model.predict(X_val)[0]\n",
    "#y_hat_long=model.predict(X_val)[1]\n",
    "y_hat_lat=y_hat[0]\n",
    "y_hat_long=y_hat[1]\n",
    "\n",
    "y_hat_lat=scale_up(y_hat_lat,toplat,bottomlat)\n",
    "y_hat_long=scale_up(y_hat_long,toplong,bottomlong)\n",
    "\n",
    "y_val_lat=y_val[:,0]\n",
    "y_val_long=y_val[:,1]\n",
    "\n",
    "y_val_lat=scale_up(y_val_lat,toplat,bottomlat)\n",
    "y_val_long=scale_up(y_val_long,toplong,bottomlong)"
   ]
  },
  {
   "cell_type": "code",
   "execution_count": null,
   "metadata": {},
   "outputs": [],
   "source": [
    "plt.scatter(y_val_lat, y_hat_lat)\n",
    "plt.title('Predicted lat vs. True lat')\n",
    "plt.xlabel('True lat')\n",
    "plt.ylabel('Predicted lat')\n",
    "plt.show()"
   ]
  },
  {
   "cell_type": "code",
   "execution_count": null,
   "metadata": {},
   "outputs": [],
   "source": [
    "plt.scatter(y_val_long, y_hat_long)\n",
    "plt.title('Predicted long vs. True long')\n",
    "plt.xlabel('True long')\n",
    "plt.ylabel('Predicted long')\n",
    "plt.show()"
   ]
  },
  {
   "cell_type": "code",
   "execution_count": null,
   "metadata": {},
   "outputs": [],
   "source": []
  },
  {
   "cell_type": "code",
   "execution_count": null,
   "metadata": {},
   "outputs": [],
   "source": []
  },
  {
   "cell_type": "markdown",
   "metadata": {
    "colab": {},
    "colab_type": "code",
    "id": "l1Lg2v4LqKCp"
   },
   "source": [
    "### Things to consider doing:\n",
    "- don't normalize the lat and long - just scale it DONE\n",
    "- convert back to lat and long DONE\n",
    "- set validation batch size to deal with OOM errors (possibly) DONE\n",
    "- loss weights?\n",
    "- what is resolution of png files coming in?  are they squares?\n",
    "- since set wide rectangle, need to make sure entirely at night time\n",
    "- change angle of view - look more tired horizon?\n"
   ]
  },
  {
   "cell_type": "markdown",
   "metadata": {},
   "source": [
    "### Old models"
   ]
  },
  {
   "cell_type": "code",
   "execution_count": null,
   "metadata": {},
   "outputs": [],
   "source": [
    "# Define Input layer(s)\n",
    "inputShape = (224, 224)\n",
    "inputs = tf.keras.layers.Input(shape=inputShape)\n",
    "\n",
    "flatten = tf.keras.layers.Flatten()(inputs)\n",
    "\n",
    "x=tf.keras.layers.Dense(512,activation='relu')(flatten)\n",
    "x=tf.keras.layers.Dense(512,activation='relu')(x)\n",
    "x=tf.keras.layers.Dense(512,activation='relu')(x)\n",
    "x=tf.keras.layers.Dense(512,activation='relu')(x)\n",
    "regression_layer_lat = tf.keras.layers.Dense(1, name='regression_lat')(x)  \n",
    "regression_layer_long = tf.keras.layers.Dense(1, name='regression_long')(x)\n",
    "\n",
    "\n",
    "# Build and compile model\n",
    "model_input = inputs\n",
    "model_output = [regression_layer_lat, regression_layer_long]\n",
    "losses = ['mean_squared_error', 'mean_squared_error']\n",
    "metrics = ['mean_squared_error', 'mean_squared_error']\n",
    "\n",
    "model = tf.keras.models.Model(model_input, model_output)\n",
    "model.compile(loss=losses,  optimizer='adam', metrics=metrics)"
   ]
  },
  {
   "cell_type": "code",
   "execution_count": null,
   "metadata": {},
   "outputs": [],
   "source": [
    "#model splits into lat long after convolutional layers\n",
    "\n",
    "input_shape=(270,480,1)\n",
    "input = tf.keras.layers.Input(shape=input_shape)\n",
    "x=tf.keras.layers.Conv2D(64,(3,3),activation='relu')(inputs)\n",
    "x=tf.keras.layers.MaxPooling2D((2,2))(x)\n",
    "x=tf.keras.layers.Conv2D(64,(3,3),activation='relu')(x)\n",
    "x=tf.keras.layers.MaxPooling2D((2,2))(x)\n",
    "x=tf.keras.layers.Dropout(0.25)(x)\n",
    "x=tf.keras.layers.Conv2D(128,(3,3),activation='relu')(x)\n",
    "x=tf.keras.layers.MaxPooling2D((2,2))(x)\n",
    "x=tf.keras.layers.Conv2D(128,(3,3),activation='relu')(x)\n",
    "x=tf.keras.layers.MaxPooling2D((2,2))(x)\n",
    "x=tf.keras.layers.Dropout(0.25)(x)\n",
    "x=tf.keras.layers.Flatten()(x)\n",
    "\n",
    "xlat=tf.keras.layers.Dense(256,activation='relu')(x)\n",
    "xlat=tf.keras.layers.Dropout(0.5)(xlat)\n",
    "xlat=tf.keras.layers.Dense(64,activation='relu')(xlat)\n",
    "regression_layer_lat = tf.keras.layers.Dense(1, name='regression_lat')(xlat)  \n",
    "\n",
    "xlong=tf.keras.layers.Dense(256,activation='relu')(x)\n",
    "xlong=tf.keras.layers.Dropout(0.5)(xlong)\n",
    "xlong=tf.keras.layers.Dense(64,activation='relu')(xlong)\n",
    "regression_layer_long = tf.keras.layers.Dense(1, name='regression_long')(xlong)\n",
    "\n",
    "model_output = [regression_layer_lat, regression_layer_long]\n",
    "losses = ['mean_squared_error', 'mean_squared_error']\n",
    "metrics = ['mean_squared_error', 'mean_squared_error']\n",
    "\n",
    "model = tf.keras.models.Model(inputs, model_output)\n",
    "model.compile(loss=losses,  optimizer='adam', metrics=metrics)"
   ]
  },
  {
   "cell_type": "code",
   "execution_count": null,
   "metadata": {},
   "outputs": [],
   "source": [
    "input_shape=(224,224,1)\n",
    "inputs = tf.keras.layers.Input(shape=input_shape)\n",
    "x=tf.keras.layers.Conv2D(64,(3,3),activation='relu')(inputs)\n",
    "x=tf.keras.layers.MaxPooling2D((2,2))(x)\n",
    "x=tf.keras.layers.Conv2D(64,(3,3),activation='relu')(x)\n",
    "x=tf.keras.layers.MaxPooling2D((2,2))(x)\n",
    "x=tf.keras.layers.Dropout(0.25)(x)\n",
    "x=tf.keras.layers.Conv2D(128,(3,3),activation='relu')(x)\n",
    "x=tf.keras.layers.MaxPooling2D((2,2))(x)\n",
    "x=tf.keras.layers.Conv2D(128,(3,3),activation='relu')(x)\n",
    "x=tf.keras.layers.MaxPooling2D((2,2))(x)\n",
    "x=tf.keras.layers.Dropout(0.25)(x)\n",
    "\n",
    "x=tf.keras.layers.Flatten()(x)\n",
    "x=tf.keras.layers.Dense(256,activation='relu')(x)\n",
    "x=tf.keras.layers.Dropout(0.5)(x)\n",
    "x=tf.keras.layers.Dense(64,activation='relu')(x)\n",
    "regression_layer_lat = tf.keras.layers.Dense(1, name='regression_lat')(x)  \n",
    "regression_layer_long = tf.keras.layers.Dense(1, name='regression_long')(x)\n",
    "\n",
    "model_output = [regression_layer_lat, regression_layer_long]\n",
    "losses = ['mean_squared_error', 'mean_squared_error']\n",
    "metrics = ['mean_squared_error', 'mean_squared_error']\n",
    "\n",
    "model = tf.keras.models.Model(inputs, model_output)\n",
    "model.compile(loss=losses,  optimizer='adam', metrics=metrics)"
   ]
  },
  {
   "cell_type": "code",
   "execution_count": null,
   "metadata": {},
   "outputs": [],
   "source": [
    "model = tf.keras.Sequential([\n",
    "    tf.keras.layers.Flatten(input_shape=(224,224)),\n",
    "    tf.keras.layers.Dense(512, activation='relu'),\n",
    "    #tf.keras.layers.Dense(512, activation='relu'),\n",
    "    #tf.keras.layers.Dense(512, activation='relu'),\n",
    "    #tf.keras.layers.Dense(512, activation='relu'),\n",
    "    #tf.keras.layers.Dense(512, activation='relu'),\n",
    "    tf.keras.layers.Dense(256, activation='relu'),\n",
    "    #tf.keras.layers.Dense(256, activation='relu'),\n",
    "    #tf.keras.layers.Dense(256, activation='relu'),\n",
    "    #tf.keras.layers.Dense(256, activation='relu'),\n",
    "    #tf.keras.layers.Dense(256, activation='relu'),\n",
    "    #tf.keras.layers.Dense(256, activation='relu'),\n",
    "    tf.keras.layers.Dense(128, activation='relu'),\n",
    "    #tf.keras.layers.Dense(128, activation='relu'),\n",
    "    #tf.keras.layers.Dense(128, activation='relu'),\n",
    "    #tf.keras.layers.Dense(128, activation='relu'),\n",
    "    #tf.keras.layers.Dense(128, activation='relu'),\n",
    "    #tf.keras.layers.Dense(128, activation='relu'),\n",
    "    #tf.keras.layers.Dense(128, activation='relu'),\n",
    "    tf.keras.layers.Dense(64, activation='relu'),\n",
    "    tf.keras.layers.Dense(32, activation='relu'),\n",
    "    tf.keras.layers.Dropout(0.3),\n",
    "    tf.keras.layers.Dense(2)\n",
    "])"
   ]
  },
  {
   "cell_type": "code",
   "execution_count": null,
   "metadata": {},
   "outputs": [],
   "source": [
    "losses = ['mean_squared_error', 'mean_squared_error']\n",
    "metrics = ['mean_squared_error', 'mean_squared_error']\n",
    "\n",
    "model = tf.keras.models.Model(inputs, model_output)\n",
    "model.compile(loss=losses,  optimizer='adam', metrics=metrics)"
   ]
  }
 ],
 "metadata": {
  "accelerator": "GPU",
  "colab": {
   "collapsed_sections": [],
   "name": "iso-chron.ipynb",
   "provenance": [],
   "toc_visible": true
  },
  "kernelspec": {
   "display_name": "Environment (conda_thesis)",
   "language": "python",
   "name": "conda_thesis"
  },
  "language_info": {
   "codemirror_mode": {
    "name": "ipython",
    "version": 3
   },
   "file_extension": ".py",
   "mimetype": "text/x-python",
   "name": "python",
   "nbconvert_exporter": "python",
   "pygments_lexer": "ipython3",
   "version": "3.6.10"
  }
 },
 "nbformat": 4,
 "nbformat_minor": 1
}
