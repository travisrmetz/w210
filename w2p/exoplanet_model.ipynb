{
 "cells": [
  {
   "cell_type": "markdown",
   "metadata": {
    "colab_type": "text",
    "id": "ImJOhE4BrfK7"
   },
   "source": [
    "## General Model\n",
    "\n"
   ]
  },
  {
   "cell_type": "markdown",
   "metadata": {},
   "source": [
    "#### comments"
   ]
  },
  {
   "cell_type": "markdown",
   "metadata": {
    "colab_type": "text",
    "id": "OlNrYnNsrp4C"
   },
   "source": [
    "## Import useful packages"
   ]
  },
  {
   "cell_type": "code",
   "execution_count": 27,
   "metadata": {
    "colab": {},
    "colab_type": "code",
    "id": "5Y0LD8oscOFG"
   },
   "outputs": [],
   "source": [
    "import numpy as np\n",
    "import tensorflow as tf\n",
    "import pandas as pd \n",
    "import matplotlib.pyplot as plt\n",
    "import cv2\n",
    "import os\n",
    "from sklearn.model_selection import train_test_split\n",
    "from sklearn.preprocessing import scale\n",
    "from sklearn.preprocessing import LabelEncoder\n",
    "from sklearn.preprocessing import StandardScaler\n",
    "import io\n",
    "#from keras.utils import plot_model\n",
    "import random\n",
    "import yaml\n",
    "#import ktrain\n",
    "from astropy.io import ascii as ap_ascii\n",
    "import seaborn as sns\n",
    "import os\n",
    "\n",
    "from helpers.visualize import chart_curves \n",
    "\n",
    "pd.set_option('display.float_format', lambda x: '%.5f' % x)\n",
    "\n"
   ]
  },
  {
   "cell_type": "code",
   "execution_count": 2,
   "metadata": {},
   "outputs": [
    {
     "name": "stdout",
     "output_type": "stream",
     "text": [
      "total 191680\r\n",
      "-rw-rw-r-- 1 ubuntu ubuntu     1273 Oct 26 14:28 2304235_1.png\r\n",
      "-rw-rw-r-- 1 ubuntu ubuntu      329 Oct 25 16:27 README.md\r\n",
      "-rw-rw-r-- 1 ubuntu ubuntu    31676 Oct 26 19:27 Untitled.ipynb\r\n",
      "drwxrwxr-x 2 ubuntu ubuntu     4096 Oct 26 14:46 __pycache__\r\n",
      "-rw-rw-r-- 1 ubuntu ubuntu  3650473 Oct 25 16:27 cumulative_2020.10.19_16.12.52.csv\r\n",
      "-rw-rw-r-- 1 ubuntu ubuntu      272 Oct 26 14:45 definitions.py\r\n",
      "-rw-rw-r-- 1 ubuntu ubuntu   271302 Oct 25 16:27 eda.ipynb\r\n",
      "-rw-rw-r-- 1 ubuntu ubuntu   226740 Oct 26 16:05 exoplanet_model.ipynb\r\n",
      "-rw-rw-r-- 1 ubuntu ubuntu 31546781 Oct 25 16:27 full_tce_list.csv\r\n",
      "-rw-rw-r-- 1 ubuntu ubuntu 11390972 Oct 25 16:27 full_tce_list_with_disposition_34032.csv\r\n",
      "-rw-rw-r-- 1 ubuntu ubuntu 12452957 Oct 25 16:27 full_tce_list_with_disposition_and_av_34032.csv\r\n",
      "-rw-rw-r-- 1 ubuntu ubuntu      937 Oct 25 16:27 get_light_curves.py\r\n",
      "drwxrwxr-x 3 ubuntu ubuntu     4096 Oct 26 13:50 helpers\r\n",
      "-rw-rw-r-- 1 ubuntu ubuntu 46576123 Oct 25 16:27 kplr_dr25_obs_robovetter_input.txt\r\n",
      "-rw-rw-r-- 1 ubuntu ubuntu  3248616 Oct 25 16:27 kplr_dr25_obs_robovetter_output.txt\r\n",
      "-rw-rw-r-- 1 ubuntu ubuntu    11626 Oct 25 16:27 main.py\r\n",
      "-rw-rw-r-- 1 ubuntu ubuntu     5576 Oct 25 23:50 make_dataset1.py\r\n",
      "-rw-rw-r-- 1 ubuntu ubuntu     5576 Oct 25 23:50 make_dataset2.py\r\n",
      "-rw-rw-r-- 1 ubuntu ubuntu     5576 Oct 25 23:50 make_dataset3.py\r\n",
      "-rw-rw-r-- 1 ubuntu ubuntu     5576 Oct 25 23:51 make_dataset4.py\r\n",
      "drwxrwxr-x 2 ubuntu ubuntu     4096 Oct 25 16:27 models\r\n",
      "-rw------- 1 ubuntu ubuntu 72194321 Oct 26 21:13 nohup.out\r\n",
      "drwxrwxr-x 2 ubuntu ubuntu     4096 Oct 26 06:35 processed_data\r\n",
      "-rw-rw-r-- 1 ubuntu ubuntu  6277284 Oct 25 16:27 q1_q17_dr24_tce_2020.10.20_10.28.20.csv\r\n",
      "-rw-rw-r-- 1 ubuntu ubuntu  2744865 Oct 25 16:27 q1_q17_dr25_koi.csv\r\n",
      "-rw-rw-r-- 1 ubuntu ubuntu  5546910 Oct 25 16:27 q1_q17_dr25_tce.csv\r\n",
      "drwxrwxr-x 4 ubuntu ubuntu     4096 Oct 25 16:43 raw_data\r\n"
     ]
    }
   ],
   "source": [
    "!ls -l\n"
   ]
  },
  {
   "cell_type": "code",
   "execution_count": 3,
   "metadata": {},
   "outputs": [
    {
     "name": "stdout",
     "output_type": "stream",
     "text": [
      "total 245060\r\n",
      "-rw-rw-r-- 1 ubuntu ubuntu       181 Oct 25 18:35 README.md\r\n",
      "-rw-rw-r-- 1 ubuntu ubuntu       704 Oct 26 13:36 failed_kepids.csv\r\n",
      "-rw-rw-r-- 1 ubuntu ubuntu       204 Oct 26 06:35 failed_kepids1.csv\r\n",
      "-rw-rw-r-- 1 ubuntu ubuntu       234 Oct 26 05:46 failed_kepids2.csv\r\n",
      "-rw-rw-r-- 1 ubuntu ubuntu       164 Oct 26 06:35 failed_kepids3.csv\r\n",
      "-rw-rw-r-- 1 ubuntu ubuntu       114 Oct 26 05:38 failed_kepids4.csv\r\n",
      "-rw-rw-r-- 1 ubuntu ubuntu 127159568 Oct 26 13:36 globalbinned_df.csv\r\n",
      "-rw-rw-r-- 1 ubuntu ubuntu  24337627 Oct 26 06:35 globalbinned_df1.csv\r\n",
      "-rw-rw-r-- 1 ubuntu ubuntu  24306649 Oct 26 05:46 globalbinned_df2.csv\r\n",
      "-rw-rw-r-- 1 ubuntu ubuntu  24433578 Oct 26 06:35 globalbinned_df3.csv\r\n",
      "-rw-rw-r-- 1 ubuntu ubuntu  24693250 Oct 26 05:38 globalbinned_df4.csv\r\n",
      "-rw-rw-r-- 1 ubuntu ubuntu  12507236 Oct 26 13:36 localbinned_df.csv\r\n",
      "-rw-rw-r-- 1 ubuntu ubuntu   2394841 Oct 26 06:35 localbinned_df1.csv\r\n",
      "-rw-rw-r-- 1 ubuntu ubuntu   2397483 Oct 26 05:46 localbinned_df2.csv\r\n",
      "-rw-rw-r-- 1 ubuntu ubuntu   2406533 Oct 26 06:35 localbinned_df3.csv\r\n",
      "-rw-rw-r-- 1 ubuntu ubuntu   2422455 Oct 26 05:38 localbinned_df4.csv\r\n",
      "-rw------- 1 ubuntu ubuntu        81 Oct 25 23:52 nohup.out\r\n",
      "-rw-rw-r-- 1 ubuntu ubuntu       782 Oct 26 13:36 stitch.py\r\n",
      "-rw-rw-r-- 1 ubuntu ubuntu   1960253 Oct 26 13:36 tce_table.csv\r\n",
      "-rw-rw-r-- 1 ubuntu ubuntu    428210 Oct 26 06:35 tce_table1.csv\r\n",
      "-rw-rw-r-- 1 ubuntu ubuntu    450497 Oct 26 05:46 tce_table2.csv\r\n",
      "-rw-rw-r-- 1 ubuntu ubuntu    439452 Oct 26 06:35 tce_table3.csv\r\n",
      "-rw-rw-r-- 1 ubuntu ubuntu    435882 Oct 26 05:38 tce_table4.csv\r\n",
      "-rw-rw-r-- 1 ubuntu ubuntu    104837 Oct 25 16:27 visualize.ipynb\r\n"
     ]
    }
   ],
   "source": [
    "!ls -l processed_data"
   ]
  },
  {
   "cell_type": "code",
   "execution_count": 133,
   "metadata": {},
   "outputs": [],
   "source": [
    "PROCESSED_DATA_DIR='processed_data'\n",
    "TCE_LIST='tce_table.csv'\n",
    "FAILED_LIST='failed_kepids.csv'\n"
   ]
  },
  {
   "cell_type": "code",
   "execution_count": 134,
   "metadata": {},
   "outputs": [
    {
     "name": "stdout",
     "output_type": "stream",
     "text": [
      "(5000, 86)\n",
      "(70, 2)\n"
     ]
    },
    {
     "data": {
      "text/plain": [
       "(4930, 86)"
      ]
     },
     "execution_count": 134,
     "metadata": {},
     "output_type": "execute_result"
    }
   ],
   "source": [
    "#this excludes from tce_list those kepids and planet numbers that failed make_data process\n",
    "processed=pd.read_csv(os.path.join(PROCESSED_DATA_DIR,TCE_LIST))\n",
    "print(processed.shape)\n",
    "try:\n",
    "    failed=pd.read_csv(os.path.join(PROCESSED_DATA_DIR,FAILED_LIST))\n",
    "    failed.columns=['kepid','tce_plnt_num']\n",
    "    print(failed.shape)\n",
    "    for index,row in failed.iterrows():\n",
    "        processed.drop(processed[(processed.kepid==row.kepid) & \n",
    "                                 (processed.tce_plnt_num==row.tce_plnt_num)].index,inplace=True)\n",
    "except:\n",
    "    pass\n",
    "    \n",
    "processed.shape"
   ]
  },
  {
   "cell_type": "code",
   "execution_count": 135,
   "metadata": {},
   "outputs": [
    {
     "name": "stdout",
     "output_type": "stream",
     "text": [
      "FALSE POSITIVE    4384\n",
      "CONFIRMED          274\n",
      "CANDIDATE          272\n",
      "Name: koi_disposition, dtype: int64\n",
      "0-FALSE POSITIVE    4384\n",
      "1-CONFIRMED          546\n",
      "Name: koi_disposition, dtype: int64\n",
      "Baseline accuracy: 0.8892494929006085\n"
     ]
    }
   ],
   "source": [
    "print(processed.koi_disposition.value_counts())\n",
    "\n",
    "#combine confirmed and candidate\n",
    "processed.replace({'koi_disposition':\n",
    "                   {'CANDIDATE':'1-CONFIRMED','CONFIRMED':'1-CONFIRMED','FALSE POSITIVE':'0-FALSE POSITIVE'}},\n",
    "                  inplace=True)\n",
    "print(processed.koi_disposition.value_counts())\n",
    "\n",
    "print('Baseline accuracy:', processed[processed.koi_disposition=='0-FALSE POSITIVE'].shape[0]/processed.shape[0])"
   ]
  },
  {
   "cell_type": "code",
   "execution_count": 136,
   "metadata": {},
   "outputs": [
    {
     "data": {
      "text/plain": [
       "0       0-FALSE POSITIVE\n",
       "1       0-FALSE POSITIVE\n",
       "2       0-FALSE POSITIVE\n",
       "3            1-CONFIRMED\n",
       "4       0-FALSE POSITIVE\n",
       "              ...       \n",
       "4995    0-FALSE POSITIVE\n",
       "4996    0-FALSE POSITIVE\n",
       "4997    0-FALSE POSITIVE\n",
       "4998    0-FALSE POSITIVE\n",
       "4999         1-CONFIRMED\n",
       "Name: koi_disposition, Length: 4930, dtype: object"
      ]
     },
     "execution_count": 136,
     "metadata": {},
     "output_type": "execute_result"
    }
   ],
   "source": [
    "processed.koi_disposition"
   ]
  },
  {
   "cell_type": "code",
   "execution_count": 137,
   "metadata": {},
   "outputs": [
    {
     "name": "stdout",
     "output_type": "stream",
     "text": [
      "(4930, 201)\n",
      "(4930, 2001)\n"
     ]
    }
   ],
   "source": [
    "LOCAL='localbinned_df.csv'\n",
    "GLOBAL='globalbinned_df.csv'\n",
    "x_local=pd.read_csv(os.path.join(PROCESSED_DATA_DIR,LOCAL))\n",
    "x_global=pd.read_csv(os.path.join(PROCESSED_DATA_DIR,GLOBAL))\n",
    "print(x_local.shape)\n",
    "print(x_global.shape)"
   ]
  },
  {
   "cell_type": "code",
   "execution_count": 138,
   "metadata": {},
   "outputs": [
    {
     "data": {
      "text/html": [
       "<div>\n",
       "<style scoped>\n",
       "    .dataframe tbody tr th:only-of-type {\n",
       "        vertical-align: middle;\n",
       "    }\n",
       "\n",
       "    .dataframe tbody tr th {\n",
       "        vertical-align: top;\n",
       "    }\n",
       "\n",
       "    .dataframe thead th {\n",
       "        text-align: right;\n",
       "    }\n",
       "</style>\n",
       "<table border=\"1\" class=\"dataframe\">\n",
       "  <thead>\n",
       "    <tr style=\"text-align: right;\">\n",
       "      <th></th>\n",
       "      <th>0</th>\n",
       "      <th>1</th>\n",
       "      <th>2</th>\n",
       "      <th>3</th>\n",
       "      <th>4</th>\n",
       "      <th>5</th>\n",
       "      <th>6</th>\n",
       "      <th>7</th>\n",
       "      <th>8</th>\n",
       "      <th>9</th>\n",
       "      <th>...</th>\n",
       "      <th>191</th>\n",
       "      <th>192</th>\n",
       "      <th>193</th>\n",
       "      <th>194</th>\n",
       "      <th>195</th>\n",
       "      <th>196</th>\n",
       "      <th>197</th>\n",
       "      <th>198</th>\n",
       "      <th>199</th>\n",
       "      <th>200</th>\n",
       "    </tr>\n",
       "  </thead>\n",
       "  <tbody>\n",
       "    <tr>\n",
       "      <th>0</th>\n",
       "      <td>-0.12883</td>\n",
       "      <td>-0.12883</td>\n",
       "      <td>0.11047</td>\n",
       "      <td>0.10683</td>\n",
       "      <td>0.10683</td>\n",
       "      <td>0.10683</td>\n",
       "      <td>0.16249</td>\n",
       "      <td>0.46529</td>\n",
       "      <td>0.46529</td>\n",
       "      <td>-0.48506</td>\n",
       "      <td>...</td>\n",
       "      <td>-0.19387</td>\n",
       "      <td>-0.37898</td>\n",
       "      <td>-0.26841</td>\n",
       "      <td>-0.26841</td>\n",
       "      <td>-0.26841</td>\n",
       "      <td>-0.26770</td>\n",
       "      <td>0.49615</td>\n",
       "      <td>0.49615</td>\n",
       "      <td>-0.28652</td>\n",
       "      <td>-1.00000</td>\n",
       "    </tr>\n",
       "    <tr>\n",
       "      <th>1</th>\n",
       "      <td>-0.64856</td>\n",
       "      <td>-0.66408</td>\n",
       "      <td>-0.67727</td>\n",
       "      <td>-0.54849</td>\n",
       "      <td>-0.47479</td>\n",
       "      <td>-0.55081</td>\n",
       "      <td>-0.33476</td>\n",
       "      <td>-0.29946</td>\n",
       "      <td>-0.43057</td>\n",
       "      <td>-0.27812</td>\n",
       "      <td>...</td>\n",
       "      <td>-0.19899</td>\n",
       "      <td>-0.17378</td>\n",
       "      <td>-0.44841</td>\n",
       "      <td>-0.45539</td>\n",
       "      <td>-0.39255</td>\n",
       "      <td>-0.65981</td>\n",
       "      <td>-0.75834</td>\n",
       "      <td>-0.67649</td>\n",
       "      <td>-0.68309</td>\n",
       "      <td>-0.72304</td>\n",
       "    </tr>\n",
       "    <tr>\n",
       "      <th>2</th>\n",
       "      <td>-0.54546</td>\n",
       "      <td>-0.52649</td>\n",
       "      <td>-0.54284</td>\n",
       "      <td>-0.56115</td>\n",
       "      <td>-0.54807</td>\n",
       "      <td>-0.55396</td>\n",
       "      <td>-0.58600</td>\n",
       "      <td>-0.55723</td>\n",
       "      <td>-0.59385</td>\n",
       "      <td>-0.60759</td>\n",
       "      <td>...</td>\n",
       "      <td>-0.13211</td>\n",
       "      <td>-0.16743</td>\n",
       "      <td>-0.20667</td>\n",
       "      <td>-0.25180</td>\n",
       "      <td>-0.30477</td>\n",
       "      <td>-0.35448</td>\n",
       "      <td>-0.37410</td>\n",
       "      <td>-0.38718</td>\n",
       "      <td>-0.39765</td>\n",
       "      <td>-0.41988</td>\n",
       "    </tr>\n",
       "    <tr>\n",
       "      <th>3</th>\n",
       "      <td>0.11573</td>\n",
       "      <td>0.11786</td>\n",
       "      <td>0.11786</td>\n",
       "      <td>0.11878</td>\n",
       "      <td>0.19217</td>\n",
       "      <td>0.19217</td>\n",
       "      <td>0.18334</td>\n",
       "      <td>0.05116</td>\n",
       "      <td>0.06091</td>\n",
       "      <td>0.03868</td>\n",
       "      <td>...</td>\n",
       "      <td>0.01218</td>\n",
       "      <td>0.04781</td>\n",
       "      <td>0.08132</td>\n",
       "      <td>0.04690</td>\n",
       "      <td>0.04507</td>\n",
       "      <td>-0.03213</td>\n",
       "      <td>-0.06578</td>\n",
       "      <td>-0.07264</td>\n",
       "      <td>0.02832</td>\n",
       "      <td>0.00609</td>\n",
       "    </tr>\n",
       "    <tr>\n",
       "      <th>4</th>\n",
       "      <td>0.83657</td>\n",
       "      <td>0.59813</td>\n",
       "      <td>1.12659</td>\n",
       "      <td>0.94575</td>\n",
       "      <td>0.83691</td>\n",
       "      <td>0.94910</td>\n",
       "      <td>0.68319</td>\n",
       "      <td>0.18687</td>\n",
       "      <td>0.26892</td>\n",
       "      <td>0.14200</td>\n",
       "      <td>...</td>\n",
       "      <td>-0.30543</td>\n",
       "      <td>0.22673</td>\n",
       "      <td>0.00435</td>\n",
       "      <td>-0.43252</td>\n",
       "      <td>-0.12224</td>\n",
       "      <td>0.18151</td>\n",
       "      <td>-0.01021</td>\n",
       "      <td>0.29571</td>\n",
       "      <td>0.51172</td>\n",
       "      <td>0.01792</td>\n",
       "    </tr>\n",
       "  </tbody>\n",
       "</table>\n",
       "<p>5 rows × 201 columns</p>\n",
       "</div>"
      ],
      "text/plain": [
       "         0        1        2        3        4        5        6        7  \\\n",
       "0 -0.12883 -0.12883  0.11047  0.10683  0.10683  0.10683  0.16249  0.46529   \n",
       "1 -0.64856 -0.66408 -0.67727 -0.54849 -0.47479 -0.55081 -0.33476 -0.29946   \n",
       "2 -0.54546 -0.52649 -0.54284 -0.56115 -0.54807 -0.55396 -0.58600 -0.55723   \n",
       "3  0.11573  0.11786  0.11786  0.11878  0.19217  0.19217  0.18334  0.05116   \n",
       "4  0.83657  0.59813  1.12659  0.94575  0.83691  0.94910  0.68319  0.18687   \n",
       "\n",
       "         8        9  ...      191      192      193      194      195  \\\n",
       "0  0.46529 -0.48506  ... -0.19387 -0.37898 -0.26841 -0.26841 -0.26841   \n",
       "1 -0.43057 -0.27812  ... -0.19899 -0.17378 -0.44841 -0.45539 -0.39255   \n",
       "2 -0.59385 -0.60759  ... -0.13211 -0.16743 -0.20667 -0.25180 -0.30477   \n",
       "3  0.06091  0.03868  ...  0.01218  0.04781  0.08132  0.04690  0.04507   \n",
       "4  0.26892  0.14200  ... -0.30543  0.22673  0.00435 -0.43252 -0.12224   \n",
       "\n",
       "       196      197      198      199      200  \n",
       "0 -0.26770  0.49615  0.49615 -0.28652 -1.00000  \n",
       "1 -0.65981 -0.75834 -0.67649 -0.68309 -0.72304  \n",
       "2 -0.35448 -0.37410 -0.38718 -0.39765 -0.41988  \n",
       "3 -0.03213 -0.06578 -0.07264  0.02832  0.00609  \n",
       "4  0.18151 -0.01021  0.29571  0.51172  0.01792  \n",
       "\n",
       "[5 rows x 201 columns]"
      ]
     },
     "execution_count": 138,
     "metadata": {},
     "output_type": "execute_result"
    }
   ],
   "source": [
    "x_local.head(5)"
   ]
  },
  {
   "cell_type": "code",
   "execution_count": 139,
   "metadata": {},
   "outputs": [
    {
     "name": "stdout",
     "output_type": "stream",
     "text": [
      "(4930, 201)\n",
      "(4930, 2001)\n"
     ]
    }
   ],
   "source": [
    "#turn into numpy arrays/series\n",
    "x_local=x_local.to_numpy()\n",
    "x_global=x_global.to_numpy()\n",
    "print(x_local.shape)\n",
    "print(x_global.shape)"
   ]
  },
  {
   "cell_type": "code",
   "execution_count": 140,
   "metadata": {},
   "outputs": [
    {
     "data": {
      "image/png": "[encoded data removed]",
      "text/plain": [
       "<Figure size 1440x432 with 2 Axes>"
      ]
     },
     "metadata": {
      "needs_background": "light"
     },
     "output_type": "display_data"
    },
    {
     "data": {
      "text/plain": [
       "<Figure size 864x720 with 0 Axes>"
      ]
     },
     "metadata": {},
     "output_type": "display_data"
    }
   ],
   "source": [
    "#can print out charts\n",
    "\n",
    "tce_number=1\n",
    "chart_curves(processed.kepid[tce_number],processed.tce_plnt_num[tce_number],\n",
    "             processed.koi_disposition[tce_number],\n",
    "             x_global[tce_number],x_local[tce_number])"
   ]
  },
  {
   "cell_type": "code",
   "execution_count": 141,
   "metadata": {},
   "outputs": [
    {
     "data": {
      "text/plain": [
       "array([[-0.34718116, -0.35041927,  0.22017149, ...,  1.21741582,\n",
       "        -0.72965968, -2.44372116],\n",
       "       [-1.53650627, -1.60157999, -1.67158078, ..., -1.70891471,\n",
       "        -1.71318242, -1.77389766],\n",
       "       [-1.30055704, -1.279954  , -1.3487436 , ..., -0.98693601,\n",
       "        -1.00526885, -1.04070963],\n",
       "       ...,\n",
       "       [-0.67003642, -1.23174738,  2.26811788, ...,  1.64025868,\n",
       "         1.24555016,  1.4313727 ],\n",
       "       [ 0.29332113,  0.21745481, -0.36282591, ...,  0.95580735,\n",
       "         0.59856922,  0.10814751],\n",
       "       [ 0.10139286,  0.40597791,  0.17507044, ..., -0.28931841,\n",
       "         0.21536508,  0.47885393]])"
      ]
     },
     "execution_count": 141,
     "metadata": {},
     "output_type": "execute_result"
    }
   ],
   "source": [
    "scaler_local = StandardScaler()\n",
    "x_local= scaler_local.fit_transform(x_local)\n",
    "\n",
    "scaler_global=StandardScaler()\n",
    "x_global=scaler_global.fit_transform(x_global)\n",
    "\n",
    "x_local"
   ]
  },
  {
   "cell_type": "code",
   "execution_count": 142,
   "metadata": {},
   "outputs": [
    {
     "name": "stdout",
     "output_type": "stream",
     "text": [
      "(4930, 201, 1)\n",
      "(4930, 2001, 1)\n"
     ]
    }
   ],
   "source": [
    "#Conv1D layers take in tensors of dimension (length of vector = 201 or 2001, and dimensions of vector=1)\n",
    "#So as with Conv2D in BW where need to add a color dimension here have to specify that there is only one\n",
    "#dimension in each vector\n",
    "x_local=np.expand_dims(x_local,axis=2)\n",
    "x_global=np.expand_dims(x_global,axis=2)\n",
    "\n",
    "print(x_local.shape)\n",
    "print(x_global.shape)"
   ]
  },
  {
   "cell_type": "code",
   "execution_count": 143,
   "metadata": {},
   "outputs": [
    {
     "name": "stdout",
     "output_type": "stream",
     "text": [
      "0    0-FALSE POSITIVE\n",
      "1    0-FALSE POSITIVE\n",
      "2    0-FALSE POSITIVE\n",
      "3         1-CONFIRMED\n",
      "4    0-FALSE POSITIVE\n",
      "5    0-FALSE POSITIVE\n",
      "6         1-CONFIRMED\n",
      "7    0-FALSE POSITIVE\n",
      "8    0-FALSE POSITIVE\n",
      "9    0-FALSE POSITIVE\n",
      "Name: koi_disposition, dtype: object\n",
      "['0-FALSE POSITIVE' '1-CONFIRMED']\n",
      "[0 0 0 1 0 0 1 0 0 0]\n"
     ]
    }
   ],
   "source": [
    "#turn output into categorical variable with encoding\n",
    "Y=processed.koi_disposition\n",
    "print(Y[0:10])\n",
    "le=LabelEncoder()\n",
    "le.fit(['1-CONFIRMED','0-FALSE POSITIVE'])\n",
    "print(le.classes_)\n",
    "Y=le.transform(Y)\n",
    "print(Y[0:10])\n"
   ]
  },
  {
   "cell_type": "code",
   "execution_count": 144,
   "metadata": {},
   "outputs": [],
   "source": [
    "# define two sets of inputs\n",
    "tf.keras.backend.clear_session()\n",
    "METRICS = [\n",
    "          tf.keras.metrics.TruePositives(name='tp'),\n",
    "          tf.keras.metrics.FalsePositives(name='fp'),\n",
    "          tf.keras.metrics.TrueNegatives(name='tn'),\n",
    "          tf.keras.metrics.FalseNegatives(name='fn'), \n",
    "          tf.keras.metrics.BinaryAccuracy(name='accuracy'),\n",
    "          tf.keras.metrics.Precision(name='precision'),\n",
    "          tf.keras.metrics.Recall(name='recall'),\n",
    "          tf.keras.metrics.AUC(name='auc')\n",
    "    ]\n",
    "\n",
    "\n",
    "def make_model(metrics=METRICS,output_bias=None):\n",
    "    input_local = tf.keras.layers.Input(shape=[x_local.shape[1],1])\n",
    "    input_global=tf.keras.layers.Input(shape=[x_global.shape[1],1])\n",
    "\n",
    "    #k_local = tf.keras.layers.BatchNormalization()(input_local)\n",
    "    #k_local=tf.keras.layers.Conv1D(filters=16,kernel_size=5,activation='relu')(k_local)\n",
    "    k_local=tf.keras.layers.Conv1D(filters=16,kernel_size=5,activation='relu')(input_local)\n",
    "\n",
    "    k_local=tf.keras.layers.Conv1D(16,5,activation='relu')(k_local)\n",
    "    k_local=tf.keras.layers.MaxPooling1D(pool_size=7,strides=2,padding='same')(k_local)\n",
    "    k_local=tf.keras.layers.Conv1D(32,5,activation='relu')(k_local)\n",
    "    k_local=tf.keras.layers.Conv1D(32,5,activation='relu')(k_local)\n",
    "    k_local=tf.keras.layers.MaxPooling1D(pool_size=7,strides=2,padding='same')(k_local)\n",
    "    k_local=tf.keras.layers.Flatten()(k_local)\n",
    "\n",
    "    #k_global=tf.keras.layers.BatchNormalization()(input_global)\n",
    "    #k_global=tf.keras.layers.Conv1D(filters=16,kernel_size=5,activation='relu')(k_global)\n",
    "    k_global=tf.keras.layers.Conv1D(filters=16,kernel_size=5,activation='relu')(input_global)\n",
    "\n",
    "    k_global=tf.keras.layers.Conv1D(16,5,activation='relu')(k_global)\n",
    "    k_global=tf.keras.layers.MaxPooling1D(pool_size=5,strides=2,padding='same')(k_global)\n",
    "    k_global=tf.keras.layers.Conv1D(32,5,activation='relu')(k_global)\n",
    "    k_global=tf.keras.layers.Conv1D(32,5,activation='relu')(k_global)\n",
    "    k_global=tf.keras.layers.MaxPooling1D(pool_size=5,strides=2,padding='same')(k_global)\n",
    "    k_global=tf.keras.layers.Conv1D(64,5,activation='relu')(k_global)\n",
    "    k_global=tf.keras.layers.Conv1D(64,5,activation='relu')(k_global)\n",
    "    k_global=tf.keras.layers.MaxPooling1D(pool_size=5,strides=2,padding='same')(k_global)\n",
    "    k_global=tf.keras.layers.Flatten()(k_global)\n",
    "\n",
    "    #combines two branches\n",
    "    k = tf.keras.layers.concatenate([k_local, k_global])\n",
    "\n",
    "    k=tf.keras.layers.Dense(512,activation='relu')(k)\n",
    "    k=tf.keras.layers.Dropout(.5)(k)\n",
    "    k=tf.keras.layers.Dense(512,activation='relu')(k)\n",
    "    k=tf.keras.layers.Dropout(.5)(k)\n",
    "    k=tf.keras.layers.Dense(512,activation='relu')(k)\n",
    "    k=tf.keras.layers.Dropout(.5)(k)\n",
    "    k=tf.keras.layers.Dense(512,activation='relu')(k)\n",
    "    #k=tf.keras.layers.Dropout(.6)(k)\n",
    "\n",
    "    if output_bias is not None:\n",
    "        output_bias=tf.keras.initializers.Constant(output_bias)\n",
    "        \n",
    "    output=tf.keras.layers.Dense(1,activation='sigmoid',bias_initializer=output_bias)(k)\n",
    "\n",
    "\n",
    "    model=tf.keras.Model(inputs=[input_local,input_global],outputs=output)\n",
    "\n",
    "    model.compile(loss=tf.keras.losses.BinaryCrossentropy()\n",
    "                  ,optimizer=tf.keras.optimizers.Adam(lr=1e-3),\n",
    "                  metrics=METRICS)\n",
    "\n",
    "    #print (model.summary())\n",
    "    return(model)"
   ]
  },
  {
   "cell_type": "code",
   "execution_count": 145,
   "metadata": {},
   "outputs": [
    {
     "name": "stdout",
     "output_type": "stream",
     "text": [
      "(3944, 201, 1)\n",
      "(3944, 2001, 1)\n",
      "(3944,)\n",
      "(986, 201, 1)\n",
      "(986, 2001, 1)\n",
      "(986,)\n"
     ]
    }
   ],
   "source": [
    "x_local_train, x_local_val, x_global_train, x_global_val, Y_train, Y_val = train_test_split(\n",
    "    x_local,x_global, Y, test_size=0.2)\n",
    "\n",
    "print(x_local_train.shape)\n",
    "print(x_global_train.shape)\n",
    "print(Y_train.shape)\n",
    "print(x_local_val.shape)\n",
    "print(x_global_val.shape)\n",
    "print(Y_val.shape)\n"
   ]
  },
  {
   "cell_type": "code",
   "execution_count": 146,
   "metadata": {},
   "outputs": [],
   "source": [
    "EPOCHS = 20\n",
    "BATCH_SIZE = 64\n",
    "\n",
    "early_stopping = tf.keras.callbacks.EarlyStopping(\n",
    "    monitor='val_auc', \n",
    "    verbose=1,\n",
    "    patience=10,\n",
    "    mode='max',\n",
    "    restore_best_weights=True)"
   ]
  },
  {
   "cell_type": "code",
   "execution_count": 147,
   "metadata": {},
   "outputs": [
    {
     "data": {
      "text/plain": [
       "array([[0.17365636],\n",
       "       [0.17841175],\n",
       "       [0.17498267],\n",
       "       [0.17403372],\n",
       "       [0.17625244],\n",
       "       [0.17572689],\n",
       "       [0.17626174],\n",
       "       [0.17552888],\n",
       "       [0.17228323],\n",
       "       [0.17436464]], dtype=float32)"
      ]
     },
     "execution_count": 147,
     "metadata": {},
     "output_type": "execute_result"
    }
   ],
   "source": [
    "#work on setting initial bias\n",
    "model=make_model()\n",
    "model.predict([x_local_train[:10],x_global_train[:10]])"
   ]
  },
  {
   "cell_type": "code",
   "execution_count": 148,
   "metadata": {},
   "outputs": [
    {
     "name": "stdout",
     "output_type": "stream",
     "text": [
      "3944/3944 [==============================] - 7s 2ms/sample - loss: 0.3638 - tp: 0.0000e+00 - fp: 0.0000e+00 - tn: 3507.0000 - fn: 437.0000 - accuracy: 0.8892 - precision: 0.0000e+00 - recall: 0.0000e+00 - auc: 0.4917\n",
      "Loss: 0.3638\n",
      "4384 546 4930\n"
     ]
    },
    {
     "data": {
      "text/plain": [
       "array([-2.08309785])"
      ]
     },
     "execution_count": 148,
     "metadata": {},
     "output_type": "execute_result"
    }
   ],
   "source": [
    "results = model.evaluate([x_local_train,x_global_train],Y_train, batch_size=BATCH_SIZE, verbose=1)\n",
    "print(\"Loss: {:0.4f}\".format(results[0]))\n",
    "neg, pos = np.bincount(Y)\n",
    "total = neg + pos\n",
    "print(neg,pos,total)\n",
    "initial_bias=np.log([pos/neg])\n",
    "initial_bias"
   ]
  },
  {
   "cell_type": "code",
   "execution_count": 149,
   "metadata": {},
   "outputs": [
    {
     "data": {
      "text/plain": [
       "array([[0.11184333],\n",
       "       [0.11271536],\n",
       "       [0.11141064],\n",
       "       [0.11100477],\n",
       "       [0.11114534],\n",
       "       [0.11106362],\n",
       "       [0.10962041],\n",
       "       [0.11228878],\n",
       "       [0.11056609],\n",
       "       [0.11107285]], dtype=float32)"
      ]
     },
     "execution_count": 149,
     "metadata": {},
     "output_type": "execute_result"
    }
   ],
   "source": [
    "model = make_model(output_bias = initial_bias)\n",
    "model.predict([x_local_train[:10],x_global_train[:10]])"
   ]
  },
  {
   "cell_type": "code",
   "execution_count": 150,
   "metadata": {},
   "outputs": [
    {
     "name": "stdout",
     "output_type": "stream",
     "text": [
      "3944/3944 [==============================] - 7s 2ms/sample - loss: 0.3480 - tp: 0.0000e+00 - fp: 0.0000e+00 - tn: 3507.0000 - fn: 437.0000 - accuracy: 0.8892 - precision: 0.0000e+00 - recall: 0.0000e+00 - auc: 0.5866\n",
      "Loss: 0.3480\n"
     ]
    }
   ],
   "source": [
    "results = model.evaluate([x_local_train,x_global_train],Y_train, batch_size=BATCH_SIZE, verbose=1)\n",
    "print(\"Loss: {:0.4f}\".format(results[0]))"
   ]
  },
  {
   "cell_type": "code",
   "execution_count": 151,
   "metadata": {},
   "outputs": [],
   "source": [
    "MODEL_DIR='models'\n",
    "initial_weights = os.path.join(MODEL_DIR,'initial_weights')\n",
    "model.save_weights(initial_weights)"
   ]
  },
  {
   "cell_type": "code",
   "execution_count": 152,
   "metadata": {},
   "outputs": [
    {
     "name": "stdout",
     "output_type": "stream",
     "text": [
      "Train on 3944 samples, validate on 986 samples\n",
      "Epoch 1/20\n",
      "3944/3944 [==============================] - 22s 6ms/sample - loss: 0.2551 - tp: 91.0000 - fp: 43.0000 - tn: 3464.0000 - fn: 346.0000 - accuracy: 0.9014 - precision: 0.6791 - recall: 0.2082 - auc: 0.8752 - val_loss: 0.1977 - val_tp: 60.0000 - val_fp: 20.0000 - val_tn: 857.0000 - val_fn: 49.0000 - val_accuracy: 0.9300 - val_precision: 0.7500 - val_recall: 0.5505 - val_auc: 0.9378\n",
      "Epoch 2/20\n",
      "3944/3944 [==============================] - 18s 5ms/sample - loss: 0.1707 - tp: 257.0000 - fp: 75.0000 - tn: 3432.0000 - fn: 180.0000 - accuracy: 0.9353 - precision: 0.7741 - recall: 0.5881 - auc: 0.9451 - val_loss: 0.1783 - val_tp: 72.0000 - val_fp: 25.0000 - val_tn: 852.0000 - val_fn: 37.0000 - val_accuracy: 0.9371 - val_precision: 0.7423 - val_recall: 0.6606 - val_auc: 0.9448\n",
      "Epoch 3/20\n",
      "3944/3944 [==============================] - 19s 5ms/sample - loss: 0.1581 - tp: 275.0000 - fp: 83.0000 - tn: 3424.0000 - fn: 162.0000 - accuracy: 0.9379 - precision: 0.7682 - recall: 0.6293 - auc: 0.9547 - val_loss: 0.1505 - val_tp: 80.0000 - val_fp: 22.0000 - val_tn: 855.0000 - val_fn: 29.0000 - val_accuracy: 0.9483 - val_precision: 0.7843 - val_recall: 0.7339 - val_auc: 0.9521\n",
      "Epoch 4/20\n",
      "3944/3944 [==============================] - 18s 5ms/sample - loss: 0.1399 - tp: 292.0000 - fp: 65.0000 - tn: 3442.0000 - fn: 145.0000 - accuracy: 0.9468 - precision: 0.8179 - recall: 0.6682 - auc: 0.9618 - val_loss: 0.1676 - val_tp: 85.0000 - val_fp: 36.0000 - val_tn: 841.0000 - val_fn: 24.0000 - val_accuracy: 0.9391 - val_precision: 0.7025 - val_recall: 0.7798 - val_auc: 0.9491\n",
      "Epoch 5/20\n",
      "3944/3944 [==============================] - 19s 5ms/sample - loss: 0.1301 - tp: 325.0000 - fp: 70.0000 - tn: 3437.0000 - fn: 112.0000 - accuracy: 0.9539 - precision: 0.8228 - recall: 0.7437 - auc: 0.9663 - val_loss: 0.2093 - val_tp: 51.0000 - val_fp: 7.0000 - val_tn: 870.0000 - val_fn: 58.0000 - val_accuracy: 0.9341 - val_precision: 0.8793 - val_recall: 0.4679 - val_auc: 0.9466\n",
      "Epoch 6/20\n",
      "3944/3944 [==============================] - 19s 5ms/sample - loss: 0.1208 - tp: 334.0000 - fp: 57.0000 - tn: 3450.0000 - fn: 103.0000 - accuracy: 0.9594 - precision: 0.8542 - recall: 0.7643 - auc: 0.9717 - val_loss: 0.1489 - val_tp: 80.0000 - val_fp: 26.0000 - val_tn: 851.0000 - val_fn: 29.0000 - val_accuracy: 0.9442 - val_precision: 0.7547 - val_recall: 0.7339 - val_auc: 0.9579\n",
      "Epoch 7/20\n",
      "3944/3944 [==============================] - 19s 5ms/sample - loss: 0.1148 - tp: 344.0000 - fp: 62.0000 - tn: 3445.0000 - fn: 93.0000 - accuracy: 0.9607 - precision: 0.8473 - recall: 0.7872 - auc: 0.9740 - val_loss: 0.1719 - val_tp: 76.0000 - val_fp: 20.0000 - val_tn: 857.0000 - val_fn: 33.0000 - val_accuracy: 0.9462 - val_precision: 0.7917 - val_recall: 0.6972 - val_auc: 0.9549\n",
      "Epoch 8/20\n",
      "3944/3944 [==============================] - 19s 5ms/sample - loss: 0.1017 - tp: 354.0000 - fp: 47.0000 - tn: 3460.0000 - fn: 83.0000 - accuracy: 0.9670 - precision: 0.8828 - recall: 0.8101 - auc: 0.9791 - val_loss: 0.1716 - val_tp: 53.0000 - val_fp: 9.0000 - val_tn: 868.0000 - val_fn: 56.0000 - val_accuracy: 0.9341 - val_precision: 0.8548 - val_recall: 0.4862 - val_auc: 0.9472\n",
      "Epoch 9/20\n",
      "3944/3944 [==============================] - 19s 5ms/sample - loss: 0.0927 - tp: 355.0000 - fp: 55.0000 - tn: 3452.0000 - fn: 82.0000 - accuracy: 0.9653 - precision: 0.8659 - recall: 0.8124 - auc: 0.9833 - val_loss: 0.1613 - val_tp: 72.0000 - val_fp: 15.0000 - val_tn: 862.0000 - val_fn: 37.0000 - val_accuracy: 0.9473 - val_precision: 0.8276 - val_recall: 0.6606 - val_auc: 0.9529\n",
      "Epoch 10/20\n",
      "3944/3944 [==============================] - 19s 5ms/sample - loss: 0.0871 - tp: 363.0000 - fp: 38.0000 - tn: 3469.0000 - fn: 74.0000 - accuracy: 0.9716 - precision: 0.9052 - recall: 0.8307 - auc: 0.9852 - val_loss: 0.1828 - val_tp: 83.0000 - val_fp: 27.0000 - val_tn: 850.0000 - val_fn: 26.0000 - val_accuracy: 0.9462 - val_precision: 0.7545 - val_recall: 0.7615 - val_auc: 0.9431\n",
      "Epoch 11/20\n",
      "3944/3944 [==============================] - 19s 5ms/sample - loss: 0.0850 - tp: 360.0000 - fp: 45.0000 - tn: 3462.0000 - fn: 77.0000 - accuracy: 0.9691 - precision: 0.8889 - recall: 0.8238 - auc: 0.9855 - val_loss: 0.1960 - val_tp: 78.0000 - val_fp: 23.0000 - val_tn: 854.0000 - val_fn: 31.0000 - val_accuracy: 0.9452 - val_precision: 0.7723 - val_recall: 0.7156 - val_auc: 0.9422\n",
      "Epoch 12/20\n",
      "3944/3944 [==============================] - 19s 5ms/sample - loss: 0.0680 - tp: 383.0000 - fp: 32.0000 - tn: 3475.0000 - fn: 54.0000 - accuracy: 0.9782 - precision: 0.9229 - recall: 0.8764 - auc: 0.9899 - val_loss: 0.1988 - val_tp: 87.0000 - val_fp: 38.0000 - val_tn: 839.0000 - val_fn: 22.0000 - val_accuracy: 0.9391 - val_precision: 0.6960 - val_recall: 0.7982 - val_auc: 0.9491\n",
      "Epoch 13/20\n",
      "3944/3944 [==============================] - 19s 5ms/sample - loss: 0.0649 - tp: 384.0000 - fp: 32.0000 - tn: 3475.0000 - fn: 53.0000 - accuracy: 0.9784 - precision: 0.9231 - recall: 0.8787 - auc: 0.9926 - val_loss: 0.1974 - val_tp: 80.0000 - val_fp: 23.0000 - val_tn: 854.0000 - val_fn: 29.0000 - val_accuracy: 0.9473 - val_precision: 0.7767 - val_recall: 0.7339 - val_auc: 0.9509\n",
      "Epoch 14/20\n",
      "3944/3944 [==============================] - 19s 5ms/sample - loss: 0.0649 - tp: 393.0000 - fp: 26.0000 - tn: 3481.0000 - fn: 44.0000 - accuracy: 0.9823 - precision: 0.9379 - recall: 0.8993 - auc: 0.9890 - val_loss: 0.1755 - val_tp: 76.0000 - val_fp: 16.0000 - val_tn: 861.0000 - val_fn: 33.0000 - val_accuracy: 0.9503 - val_precision: 0.8261 - val_recall: 0.6972 - val_auc: 0.9464\n",
      "Epoch 15/20\n",
      "3944/3944 [==============================] - 19s 5ms/sample - loss: 0.0527 - tp: 385.0000 - fp: 24.0000 - tn: 3483.0000 - fn: 52.0000 - accuracy: 0.9807 - precision: 0.9413 - recall: 0.8810 - auc: 0.9917 - val_loss: 0.2862 - val_tp: 83.0000 - val_fp: 25.0000 - val_tn: 852.0000 - val_fn: 26.0000 - val_accuracy: 0.9483 - val_precision: 0.7685 - val_recall: 0.7615 - val_auc: 0.9378\n",
      "Epoch 16/20\n",
      "3904/3944 [============================>.] - ETA: 0s - loss: 0.0435 - tp: 395.0000 - fp: 16.0000 - tn: 3457.0000 - fn: 36.0000 - accuracy: 0.9867 - precision: 0.9611 - recall: 0.9165 - auc: 0.9952Restoring model weights from the end of the best epoch.\n",
      "3944/3944 [==============================] - 19s 5ms/sample - loss: 0.0433 - tp: 401.0000 - fp: 16.0000 - tn: 3491.0000 - fn: 36.0000 - accuracy: 0.9868 - precision: 0.9616 - recall: 0.9176 - auc: 0.9953 - val_loss: 0.2574 - val_tp: 77.0000 - val_fp: 20.0000 - val_tn: 857.0000 - val_fn: 32.0000 - val_accuracy: 0.9473 - val_precision: 0.7938 - val_recall: 0.7064 - val_auc: 0.9310\n",
      "Epoch 00016: early stopping\n"
     ]
    }
   ],
   "source": [
    "model=make_model()\n",
    "model.load_weights(initial_weights)\n",
    "\n",
    "history=model.fit([x_local_train,x_global_train],\n",
    "                  Y_train,\n",
    "                  validation_data=([x_local_val,x_global_val],Y_val),\n",
    "                  epochs=EPOCHS,\n",
    "                  batch_size=BATCH_SIZE,\n",
    "                  callbacks=[early_stopping],\n",
    "                  verbose=1)"
   ]
  },
  {
   "cell_type": "code",
   "execution_count": 56,
   "metadata": {},
   "outputs": [
    {
     "name": "stdout",
     "output_type": "stream",
     "text": [
      "986/986 [==============================] - 1s 1ms/sample - loss: 0.1558 - tp: 860.0000 - fp: 28.0000 - tn: 76.0000 - fn: 22.0000 - accuracy: 0.9493 - precision: 0.9685 - recall: 0.9751 - auc: 0.9590\n"
     ]
    },
    {
     "data": {
      "text/plain": [
       "[0.15579329101599254,\n",
       " 860.0,\n",
       " 28.0,\n",
       " 76.0,\n",
       " 22.0,\n",
       " 0.94929004,\n",
       " 0.9684685,\n",
       " 0.9750567,\n",
       " 0.9590256]"
      ]
     },
     "execution_count": 56,
     "metadata": {},
     "output_type": "execute_result"
    }
   ],
   "source": [
    "model.evaluate([x_local_train,x_global_train],Y_train,verbose=1)\n",
    "model.evaluate([x_local_val,x_global_val],Y_val,verbose=1)"
   ]
  },
  {
   "cell_type": "code",
   "execution_count": 100,
   "metadata": {},
   "outputs": [],
   "source": [
    "import matplotlib as mpl\n",
    "mpl.rcParams['figure.figsize'] = (12, 10)\n",
    "colors = plt.rcParams['axes.prop_cycle'].by_key()['color']\n",
    "\n",
    "def plot_metrics(history):\n",
    "  metrics =  ['loss', 'accuracy', 'precision', 'recall']\n",
    "  for n, metric in enumerate(metrics):\n",
    "    name = metric.replace(\"_\",\" \").capitalize()\n",
    "    plt.subplot(2,2,n+1)\n",
    "    plt.plot(history.epoch,  history.history[metric], color=colors[0], label='Train')\n",
    "    plt.plot(history.epoch, history.history['val_'+metric],\n",
    "             color=colors[0], linestyle=\"--\", label='Val')\n",
    "    plt.xlabel('Epoch')\n",
    "    plt.ylabel(name)\n",
    "    if metric == 'loss':\n",
    "      plt.ylim([0, plt.ylim()[1]])\n",
    "    elif metric == 'auc':\n",
    "      plt.ylim([0.8,1])\n",
    "    else:\n",
    "      plt.ylim([0,1])\n",
    "\n",
    "    plt.legend()"
   ]
  },
  {
   "cell_type": "code",
   "execution_count": 101,
   "metadata": {},
   "outputs": [
    {
     "data": {
      "image/png": "[encoded data removed]",
      "text/plain": [
       "<Figure size 864x720 with 4 Axes>"
      ]
     },
     "metadata": {
      "needs_background": "light"
     },
     "output_type": "display_data"
    }
   ],
   "source": [
    "plot_metrics(history)"
   ]
  },
  {
   "cell_type": "code",
   "execution_count": 165,
   "metadata": {},
   "outputs": [],
   "source": [
    "#confusion matrix\n",
    "from sklearn.metrics import confusion_matrix\n",
    "def plot_cm(labels, predictions, p=0.5):\n",
    "  cm = confusion_matrix(labels, predictions > p)\n",
    "  plt.figure(figsize=(5,5))\n",
    "  sns.heatmap(cm, annot=True, fmt=\"d\")\n",
    "  plt.title('Confusion matrix @{:.2f}'.format(p))\n",
    "  plt.ylabel('Actual label')\n",
    "  plt.xlabel('Predicted label')\n",
    "\n",
    "  print('Not Planets Properly Categorized (True Negatives): ', cm[0][0])\n",
    "  print('Not Planets Categorized as Planets Detected (False Positives): ', cm[0][1])\n",
    "  print('Planets Missed (False Negatives): ', cm[1][0])\n",
    "  print('Planets Properly Categorized (True Positives): ', cm[1][1])\n",
    "  print('Total Planets: ', np.sum(cm[1]))"
   ]
  },
  {
   "cell_type": "code",
   "execution_count": 156,
   "metadata": {},
   "outputs": [
    {
     "name": "stdout",
     "output_type": "stream",
     "text": [
      "loss :  0.1058009666963112\n",
      "tp :  372.0\n",
      "fp :  95.0\n",
      "tn :  3412.0\n",
      "fn :  65.0\n",
      "accuracy :  0.95943207\n",
      "precision :  0.7965739\n",
      "recall :  0.8512586\n",
      "auc :  0.9798314\n",
      "\n",
      "Not Planets Properly Categorized (True Negatives):  851\n",
      "Not Planets Categorized as Planets Detected (False Positives):  26\n",
      "Planets Missed (False Negatives):  29\n",
      "Planets Properly Categorized (True Positives):  80\n",
      "Total Not Planets:  109\n"
     ]
    },
    {
     "data": {
      "image/png": "[encoded data removed]",
      "text/plain": [
       "<Figure size 360x360 with 2 Axes>"
      ]
     },
     "metadata": {
      "needs_background": "light"
     },
     "output_type": "display_data"
    }
   ],
   "source": [
    "#train_predictions_baseline = model.predict(train_features, batch_size=BATCH_SIZE)\n",
    "\n",
    "val_predictions_baseline = model.predict([x_local_val,x_global_val], batch_size=BATCH_SIZE)\n",
    "train_predictions_baseline = model.predict([x_local_train,x_global_train], batch_size=BATCH_SIZE)\n",
    "\n",
    "baseline_results = model.evaluate([x_local_train,x_global_train],Y_train,\n",
    "                                  batch_size=BATCH_SIZE, verbose=0)\n",
    "for name, value in zip(model.metrics_names, baseline_results):\n",
    "  print(name, ': ', value)\n",
    "print()\n",
    "\n",
    "plot_cm(Y_val, val_predictions_baseline)"
   ]
  },
  {
   "cell_type": "code",
   "execution_count": 158,
   "metadata": {},
   "outputs": [],
   "source": [
    "from sklearn.metrics import roc_curve\n",
    "\n",
    "def plot_roc(name, labels, predictions, **kwargs):\n",
    "  fp, tp, _ = roc_curve(labels, predictions)\n",
    "\n",
    "  plt.plot(100*fp, 100*tp, label=name, linewidth=2, **kwargs)\n",
    "  plt.xlabel('False positives [%]')\n",
    "  plt.ylabel('True positives [%]')\n",
    "  plt.xlim([-0.5,20])\n",
    "  plt.ylim([80,100.5])\n",
    "  plt.grid(True)\n",
    "  ax = plt.gca()\n",
    "  ax.set_aspect('equal')"
   ]
  },
  {
   "cell_type": "code",
   "execution_count": 160,
   "metadata": {},
   "outputs": [
    {
     "data": {
      "text/plain": [
       "<matplotlib.legend.Legend at 0x7f03b3d3e3c8>"
      ]
     },
     "execution_count": 160,
     "metadata": {},
     "output_type": "execute_result"
    },
    {
     "data": {
      "image/png": "[encoded data removed]",
      "text/plain": [
       "<Figure size 864x720 with 1 Axes>"
      ]
     },
     "metadata": {
      "needs_background": "light"
     },
     "output_type": "display_data"
    }
   ],
   "source": [
    "plot_roc(\"Train Baseline\", Y_train, train_predictions_baseline, color=colors[0])\n",
    "plot_roc(\"Test Baseline\", Y_val, val_predictions_baseline, color=colors[0], linestyle='--')\n",
    "plt.legend(loc='lower right')"
   ]
  },
  {
   "cell_type": "code",
   "execution_count": 161,
   "metadata": {},
   "outputs": [
    {
     "name": "stdout",
     "output_type": "stream",
     "text": [
      "Weight for class 0: 0.56\n",
      "Weight for class 1: 4.51\n"
     ]
    }
   ],
   "source": [
    "weight_for_0 = (1 / neg)*(total)/2.0 \n",
    "weight_for_1 = (1 / pos)*(total)/2.0\n",
    "\n",
    "class_weight = {0: weight_for_0, 1: weight_for_1}\n",
    "\n",
    "print('Weight for class 0: {:.2f}'.format(weight_for_0))\n",
    "print('Weight for class 1: {:.2f}'.format(weight_for_1))"
   ]
  },
  {
   "cell_type": "code",
   "execution_count": 162,
   "metadata": {},
   "outputs": [
    {
     "name": "stdout",
     "output_type": "stream",
     "text": [
      "WARNING:tensorflow:sample_weight modes were coerced from\n",
      "  ...\n",
      "    to  \n",
      "  ['...']\n",
      "WARNING:tensorflow:sample_weight modes were coerced from\n",
      "  ...\n",
      "    to  \n",
      "  ['...']\n",
      "Train on 3944 samples, validate on 986 samples\n",
      "Epoch 1/20\n",
      "3944/3944 [==============================] - 23s 6ms/sample - loss: 0.5647 - tp: 278.0000 - fp: 710.0000 - tn: 2797.0000 - fn: 159.0000 - accuracy: 0.7797 - precision: 0.2814 - recall: 0.6362 - auc: 0.8109 - val_loss: 0.3763 - val_tp: 82.0000 - val_fp: 70.0000 - val_tn: 807.0000 - val_fn: 27.0000 - val_accuracy: 0.9016 - val_precision: 0.5395 - val_recall: 0.7523 - val_auc: 0.9402\n",
      "Epoch 2/20\n",
      "3944/3944 [==============================] - 19s 5ms/sample - loss: 0.3053 - tp: 392.0000 - fp: 388.0000 - tn: 3119.0000 - fn: 45.0000 - accuracy: 0.8902 - precision: 0.5026 - recall: 0.8970 - auc: 0.9437 - val_loss: 0.2879 - val_tp: 99.0000 - val_fp: 95.0000 - val_tn: 782.0000 - val_fn: 10.0000 - val_accuracy: 0.8935 - val_precision: 0.5103 - val_recall: 0.9083 - val_auc: 0.9511\n",
      "Epoch 3/20\n",
      "3944/3944 [==============================] - 19s 5ms/sample - loss: 0.2693 - tp: 401.0000 - fp: 330.0000 - tn: 3177.0000 - fn: 36.0000 - accuracy: 0.9072 - precision: 0.5486 - recall: 0.9176 - auc: 0.9526 - val_loss: 0.3478 - val_tp: 86.0000 - val_fp: 43.0000 - val_tn: 834.0000 - val_fn: 23.0000 - val_accuracy: 0.9331 - val_precision: 0.6667 - val_recall: 0.7890 - val_auc: 0.9533\n",
      "Epoch 4/20\n",
      "3944/3944 [==============================] - 19s 5ms/sample - loss: 0.2550 - tp: 402.0000 - fp: 317.0000 - tn: 3190.0000 - fn: 35.0000 - accuracy: 0.9108 - precision: 0.5591 - recall: 0.9199 - auc: 0.9599 - val_loss: 0.3527 - val_tp: 83.0000 - val_fp: 59.0000 - val_tn: 818.0000 - val_fn: 26.0000 - val_accuracy: 0.9138 - val_precision: 0.5845 - val_recall: 0.7615 - val_auc: 0.9457\n",
      "Epoch 5/20\n",
      "3944/3944 [==============================] - 19s 5ms/sample - loss: 0.2329 - tp: 405.0000 - fp: 296.0000 - tn: 3211.0000 - fn: 32.0000 - accuracy: 0.9168 - precision: 0.5777 - recall: 0.9268 - auc: 0.9661 - val_loss: 0.2575 - val_tp: 98.0000 - val_fp: 92.0000 - val_tn: 785.0000 - val_fn: 11.0000 - val_accuracy: 0.8955 - val_precision: 0.5158 - val_recall: 0.8991 - val_auc: 0.9604\n",
      "Epoch 6/20\n",
      "3944/3944 [==============================] - 19s 5ms/sample - loss: 0.2148 - tp: 406.0000 - fp: 285.0000 - tn: 3222.0000 - fn: 31.0000 - accuracy: 0.9199 - precision: 0.5876 - recall: 0.9291 - auc: 0.9714 - val_loss: 0.2676 - val_tp: 96.0000 - val_fp: 80.0000 - val_tn: 797.0000 - val_fn: 13.0000 - val_accuracy: 0.9057 - val_precision: 0.5455 - val_recall: 0.8807 - val_auc: 0.9616\n",
      "Epoch 7/20\n",
      "3944/3944 [==============================] - 19s 5ms/sample - loss: 0.2061 - tp: 407.0000 - fp: 301.0000 - tn: 3206.0000 - fn: 30.0000 - accuracy: 0.9161 - precision: 0.5749 - recall: 0.9314 - auc: 0.9725 - val_loss: 0.3463 - val_tp: 93.0000 - val_fp: 62.0000 - val_tn: 815.0000 - val_fn: 16.0000 - val_accuracy: 0.9209 - val_precision: 0.6000 - val_recall: 0.8532 - val_auc: 0.9584\n",
      "Epoch 8/20\n",
      "3944/3944 [==============================] - 19s 5ms/sample - loss: 0.2030 - tp: 408.0000 - fp: 271.0000 - tn: 3236.0000 - fn: 29.0000 - accuracy: 0.9239 - precision: 0.6009 - recall: 0.9336 - auc: 0.9729 - val_loss: 0.2858 - val_tp: 101.0000 - val_fp: 104.0000 - val_tn: 773.0000 - val_fn: 8.0000 - val_accuracy: 0.8864 - val_precision: 0.4927 - val_recall: 0.9266 - val_auc: 0.9631\n",
      "Epoch 9/20\n",
      "3944/3944 [==============================] - 19s 5ms/sample - loss: 0.2021 - tp: 410.0000 - fp: 270.0000 - tn: 3237.0000 - fn: 27.0000 - accuracy: 0.9247 - precision: 0.6029 - recall: 0.9382 - auc: 0.9734 - val_loss: 0.2680 - val_tp: 98.0000 - val_fp: 91.0000 - val_tn: 786.0000 - val_fn: 11.0000 - val_accuracy: 0.8966 - val_precision: 0.5185 - val_recall: 0.8991 - val_auc: 0.9592\n",
      "Epoch 10/20\n",
      "3944/3944 [==============================] - 19s 5ms/sample - loss: 0.1994 - tp: 409.0000 - fp: 285.0000 - tn: 3222.0000 - fn: 28.0000 - accuracy: 0.9206 - precision: 0.5893 - recall: 0.9359 - auc: 0.9751 - val_loss: 0.2754 - val_tp: 92.0000 - val_fp: 50.0000 - val_tn: 827.0000 - val_fn: 17.0000 - val_accuracy: 0.9320 - val_precision: 0.6479 - val_recall: 0.8440 - val_auc: 0.9606\n",
      "Epoch 11/20\n",
      "3944/3944 [==============================] - 19s 5ms/sample - loss: 0.1727 - tp: 412.0000 - fp: 222.0000 - tn: 3285.0000 - fn: 25.0000 - accuracy: 0.9374 - precision: 0.6498 - recall: 0.9428 - auc: 0.9807 - val_loss: 0.2887 - val_tp: 97.0000 - val_fp: 77.0000 - val_tn: 800.0000 - val_fn: 12.0000 - val_accuracy: 0.9097 - val_precision: 0.5575 - val_recall: 0.8899 - val_auc: 0.9492\n",
      "Epoch 12/20\n",
      "3944/3944 [==============================] - 19s 5ms/sample - loss: 0.1506 - tp: 417.0000 - fp: 208.0000 - tn: 3299.0000 - fn: 20.0000 - accuracy: 0.9422 - precision: 0.6672 - recall: 0.9542 - auc: 0.9849 - val_loss: 0.8602 - val_tp: 77.0000 - val_fp: 21.0000 - val_tn: 856.0000 - val_fn: 32.0000 - val_accuracy: 0.9462 - val_precision: 0.7857 - val_recall: 0.7064 - val_auc: 0.9173\n",
      "Epoch 13/20\n",
      "3944/3944 [==============================] - 19s 5ms/sample - loss: 0.1685 - tp: 416.0000 - fp: 224.0000 - tn: 3283.0000 - fn: 21.0000 - accuracy: 0.9379 - precision: 0.6500 - recall: 0.9519 - auc: 0.9804 - val_loss: 0.3943 - val_tp: 92.0000 - val_fp: 49.0000 - val_tn: 828.0000 - val_fn: 17.0000 - val_accuracy: 0.9331 - val_precision: 0.6525 - val_recall: 0.8440 - val_auc: 0.9578\n",
      "Epoch 14/20\n",
      "3944/3944 [==============================] - 19s 5ms/sample - loss: 0.1599 - tp: 414.0000 - fp: 231.0000 - tn: 3276.0000 - fn: 23.0000 - accuracy: 0.9356 - precision: 0.6419 - recall: 0.9474 - auc: 0.9828 - val_loss: 0.4797 - val_tp: 90.0000 - val_fp: 54.0000 - val_tn: 823.0000 - val_fn: 19.0000 - val_accuracy: 0.9260 - val_precision: 0.6250 - val_recall: 0.8257 - val_auc: 0.9409\n",
      "Epoch 15/20\n",
      "3944/3944 [==============================] - 19s 5ms/sample - loss: 0.1927 - tp: 415.0000 - fp: 270.0000 - tn: 3237.0000 - fn: 22.0000 - accuracy: 0.9260 - precision: 0.6058 - recall: 0.9497 - auc: 0.9768 - val_loss: 0.3871 - val_tp: 89.0000 - val_fp: 70.0000 - val_tn: 807.0000 - val_fn: 20.0000 - val_accuracy: 0.9087 - val_precision: 0.5597 - val_recall: 0.8165 - val_auc: 0.9469\n",
      "Epoch 16/20\n",
      "3944/3944 [==============================] - 19s 5ms/sample - loss: 0.1659 - tp: 410.0000 - fp: 232.0000 - tn: 3275.0000 - fn: 27.0000 - accuracy: 0.9343 - precision: 0.6386 - recall: 0.9382 - auc: 0.9820 - val_loss: 0.5186 - val_tp: 88.0000 - val_fp: 58.0000 - val_tn: 819.0000 - val_fn: 21.0000 - val_accuracy: 0.9199 - val_precision: 0.6027 - val_recall: 0.8073 - val_auc: 0.9341\n",
      "Epoch 17/20\n",
      "3944/3944 [==============================] - 19s 5ms/sample - loss: 0.1817 - tp: 416.0000 - fp: 257.0000 - tn: 3250.0000 - fn: 21.0000 - accuracy: 0.9295 - precision: 0.6181 - recall: 0.9519 - auc: 0.9791 - val_loss: 0.4830 - val_tp: 88.0000 - val_fp: 44.0000 - val_tn: 833.0000 - val_fn: 21.0000 - val_accuracy: 0.9341 - val_precision: 0.6667 - val_recall: 0.8073 - val_auc: 0.9383\n",
      "Epoch 18/20\n",
      "3904/3944 [============================>.] - ETA: 0s - loss: 0.1284 - tp: 417.0000 - fp: 170.0000 - tn: 3299.0000 - fn: 18.0000 - accuracy: 0.9518 - precision: 0.7104 - recall: 0.9586 - auc: 0.9886Restoring model weights from the end of the best epoch.\n",
      "3944/3944 [==============================] - 19s 5ms/sample - loss: 0.1279 - tp: 419.0000 - fp: 172.0000 - tn: 3335.0000 - fn: 18.0000 - accuracy: 0.9518 - precision: 0.7090 - recall: 0.9588 - auc: 0.9886 - val_loss: 0.5967 - val_tp: 88.0000 - val_fp: 42.0000 - val_tn: 835.0000 - val_fn: 21.0000 - val_accuracy: 0.9361 - val_precision: 0.6769 - val_recall: 0.8073 - val_auc: 0.9333\n",
      "Epoch 00018: early stopping\n"
     ]
    }
   ],
   "source": [
    "tf.keras.backend.clear_session()\n",
    "model=make_model()\n",
    "#model.load_weights(initial_weights)\n",
    "\n",
    "weighted_history=model.fit([x_local_train,x_global_train],\n",
    "                  Y_train,\n",
    "                  validation_data=([x_local_val,x_global_val],Y_val),\n",
    "                  epochs=EPOCHS,\n",
    "                  batch_size=BATCH_SIZE,\n",
    "                  class_weight=class_weight,\n",
    "                  callbacks=[early_stopping],\n",
    "                  verbose=1)"
   ]
  },
  {
   "cell_type": "code",
   "execution_count": 164,
   "metadata": {},
   "outputs": [
    {
     "name": "stdout",
     "output_type": "stream",
     "text": [
      "loss :  0.1841216412265209\n",
      "tp :  428.0\n",
      "fp :  317.0\n",
      "tn :  3190.0\n",
      "fn :  9.0\n",
      "accuracy :  0.9173428\n",
      "precision :  0.5744966\n",
      "recall :  0.97940505\n",
      "auc :  0.9874564\n",
      "\n",
      "Not Planets Properly Categorized (True Negatives):  773\n",
      "Not Planets Categorized as Planets Detected (False Positives):  104\n",
      "Planets Missed (False Negatives):  8\n",
      "Planets Properly Categorized (True Positives):  101\n",
      "Total Not Planets:  109\n"
     ]
    },
    {
     "data": {
      "image/png": "[encoded data removed]",
      "text/plain": [
       "<Figure size 864x720 with 4 Axes>"
      ]
     },
     "metadata": {
      "needs_background": "light"
     },
     "output_type": "display_data"
    },
    {
     "data": {
      "image/png": "[encoded data removed]",
      "text/plain": [
       "<Figure size 360x360 with 2 Axes>"
      ]
     },
     "metadata": {
      "needs_background": "light"
     },
     "output_type": "display_data"
    }
   ],
   "source": [
    "plot_metrics(weighted_history)\n",
    "val_predictions_baseline = model.predict([x_local_val,x_global_val], batch_size=BATCH_SIZE)\n",
    "train_predictions_baseline = model.predict([x_local_train,x_global_train], batch_size=BATCH_SIZE)\n",
    "\n",
    "baseline_results = model.evaluate([x_local_train,x_global_train],Y_train,\n",
    "                                  batch_size=BATCH_SIZE, verbose=0)\n",
    "for name, value in zip(model.metrics_names, baseline_results):\n",
    "  print(name, ': ', value)\n",
    "print()\n",
    "\n",
    "plot_cm(Y_val, val_predictions_baseline)"
   ]
  },
  {
   "cell_type": "code",
   "execution_count": 170,
   "metadata": {},
   "outputs": [],
   "source": [
    "#oversampling\n",
    "bool_train_labels = Y_train != 0\n",
    "pos_features_local = x_local_train[bool_train_labels]\n",
    "neg_features_local = x_local_train[~bool_train_labels]\n",
    "pos_features_global = x_global_train[bool_train_labels]\n",
    "neg_features_global = x_global_train[~bool_train_labels]\n",
    "\n",
    "pos_labels = Y_train[bool_train_labels]\n",
    "neg_labels = Y_train[~bool_train_labels]"
   ]
  },
  {
   "cell_type": "code",
   "execution_count": 174,
   "metadata": {},
   "outputs": [
    {
     "name": "stdout",
     "output_type": "stream",
     "text": [
      "(3507, 201, 1) (3507, 2001, 1)\n"
     ]
    }
   ],
   "source": [
    "ids = np.arange(len(pos_features_local))\n",
    "choices = np.random.choice(ids, len(neg_features_local))\n",
    "\n",
    "res_pos_features_local = pos_features_local[choices]\n",
    "res_pos_features_global = pos_features_global[choices]\n",
    "res_pos_labels = pos_labels[choices]\n",
    "\n",
    "print(res_pos_features_local.shape,res_pos_features_global.shape)"
   ]
  },
  {
   "cell_type": "code",
   "execution_count": 181,
   "metadata": {},
   "outputs": [
    {
     "name": "stdout",
     "output_type": "stream",
     "text": [
      "(7014, 201, 1) (7014, 2001, 1) (7014,)\n"
     ]
    }
   ],
   "source": [
    "res_features_local=np.concatenate([res_pos_features_local,neg_features_local],axis=0)\n",
    "res_features_global=np.concatenate([res_pos_features_global,neg_features_global],axis=0)\n",
    "res_labels=np.concatenate([res_pos_labels,neg_labels],axis=0)\n",
    "order=np.arange(len(res_labels))\n",
    "np.random.shuffle(order)\n",
    "res_features_local=res_features_local[order]\n",
    "res_features_global=res_features_global[order]\n",
    "res_labels=res_labels[order]\n",
    "print(res_features_local.shape,res_features_global.shape,res_labels.shape)"
   ]
  },
  {
   "cell_type": "code",
   "execution_count": null,
   "metadata": {},
   "outputs": [],
   "source": [
    "tf.keras.backend.clear_session()\n",
    "resampled_model=make_model()\n",
    "resampled_history = resampled_model.fit(\n",
    "        [res_features_local,res_features_global],\n",
    "        res_labels,\n",
    "        validation_data=([x_local_val,x_global_val],Y_val),\n",
    "        epochs=EPOCHS,\n",
    "        batch_size=BATCH_SIZE,\n",
    "        callbacks=[early_stopping],\n",
    "        verbose=2)\n"
   ]
  },
  {
   "cell_type": "code",
   "execution_count": null,
   "metadata": {},
   "outputs": [],
   "source": [
    "plot_metrics(resampled_model)\n",
    "val_predictions_baseline = model.predict([x_local_val,x_global_val], batch_size=BATCH_SIZE)\n",
    "train_predictions_baseline = model.predict([x_local_train,x_global_train], batch_size=BATCH_SIZE)\n",
    "\n",
    "baseline_results = model.evaluate([x_local_train,x_global_train],Y_train,\n",
    "                                  batch_size=BATCH_SIZE, verbose=0)\n",
    "for name, value in zip(model.metrics_names, baseline_results):\n",
    "  print(name, ': ', value)\n",
    "print()\n",
    "\n",
    "plot_cm(Y_val, val_predictions_baseline)"
   ]
  },
  {
   "cell_type": "code",
   "execution_count": null,
   "metadata": {},
   "outputs": [],
   "source": []
  },
  {
   "cell_type": "code",
   "execution_count": null,
   "metadata": {},
   "outputs": [],
   "source": []
  },
  {
   "cell_type": "code",
   "execution_count": null,
   "metadata": {},
   "outputs": [],
   "source": []
  },
  {
   "cell_type": "code",
   "execution_count": null,
   "metadata": {},
   "outputs": [],
   "source": []
  },
  {
   "cell_type": "code",
   "execution_count": null,
   "metadata": {},
   "outputs": [],
   "source": []
  },
  {
   "cell_type": "code",
   "execution_count": null,
   "metadata": {},
   "outputs": [],
   "source": []
  },
  {
   "cell_type": "code",
   "execution_count": 62,
   "metadata": {},
   "outputs": [
    {
     "name": "stdout",
     "output_type": "stream",
     "text": [
      "(986, 1)\n",
      "[[1.        ]\n",
      " [0.9592259 ]\n",
      " [0.9999994 ]\n",
      " [0.98998755]\n",
      " [0.03937406]\n",
      " [1.        ]\n",
      " [0.9993449 ]\n",
      " [0.9999541 ]\n",
      " [0.9986337 ]\n",
      " [0.81464547]\n",
      " [0.88243836]\n",
      " [0.5429766 ]\n",
      " [0.99783427]\n",
      " [1.        ]\n",
      " [0.97419953]\n",
      " [0.9989348 ]\n",
      " [0.03919312]\n",
      " [0.99962485]\n",
      " [0.9917487 ]\n",
      " [0.9992415 ]\n",
      " [0.9989913 ]\n",
      " [0.99997437]\n",
      " [0.9956975 ]\n",
      " [0.99999416]\n",
      " [0.999992  ]\n",
      " [0.99962926]\n",
      " [0.9906729 ]\n",
      " [0.2439829 ]\n",
      " [0.99999666]\n",
      " [1.        ]]\n",
      "[1 1 1 1 0 1 1 1 1 1 1 0 1 1 1 1 0 1 1 1 1 1 1 1 1 1 1 0 1 1]\n"
     ]
    }
   ],
   "source": [
    "np.set_printoptions(suppress=True)\n",
    "Y_val_pred=model.predict([x_local_val,x_global_val])\n",
    "print(Y_val_pred.shape)\n",
    "print(Y_val_pred[0:30])\n",
    "print(Y_val[0:30])"
   ]
  },
  {
   "cell_type": "code",
   "execution_count": 63,
   "metadata": {},
   "outputs": [
    {
     "name": "stdout",
     "output_type": "stream",
     "text": [
      "              precision    recall  f1-score   support\n",
      "\n",
      "           0       0.11      1.00      0.19       104\n",
      "           1       0.00      0.00      0.00       882\n",
      "\n",
      "    accuracy                           0.11       986\n",
      "   macro avg       0.05      0.50      0.10       986\n",
      "weighted avg       0.01      0.11      0.02       986\n",
      "\n"
     ]
    },
    {
     "name": "stderr",
     "output_type": "stream",
     "text": [
      "/home/ubuntu/anaconda3/envs/thesis/lib/python3.6/site-packages/sklearn/metrics/_classification.py:1272: UndefinedMetricWarning: Precision and F-score are ill-defined and being set to 0.0 in labels with no predicted samples. Use `zero_division` parameter to control this behavior.\n",
      "  _warn_prf(average, modifier, msg_start, len(result))\n"
     ]
    }
   ],
   "source": [
    "from sklearn.metrics import classification_report\n",
    "\n",
    "Y_val_pred_bool = np.argmax(Y_val_pred, axis=1)\n",
    "\n",
    "print(classification_report(Y_val, Y_val_pred_bool))"
   ]
  },
  {
   "cell_type": "code",
   "execution_count": 57,
   "metadata": {},
   "outputs": [
    {
     "data": {
      "text/plain": [
       "array([104, 882])"
      ]
     },
     "execution_count": 57,
     "metadata": {},
     "output_type": "execute_result"
    }
   ],
   "source": [
    "np.bincount(Y_val)"
   ]
  },
  {
   "cell_type": "code",
   "execution_count": 61,
   "metadata": {},
   "outputs": [
    {
     "data": {
      "image/png": "[encoded data removed]",
      "text/plain": [
       "<Figure size 1152x576 with 4 Axes>"
      ]
     },
     "metadata": {
      "needs_background": "light"
     },
     "output_type": "display_data"
    }
   ],
   "source": [
    "import matplotlib.pyplot as plt\n",
    "fig,axes=plt.subplots(2,2,figsize=(16,8))\n",
    "plt.subplot(221)\n",
    "plt.title('Loss')\n",
    "plt.plot(history.history['loss'], label='train')\n",
    "plt.plot(history.history['val_loss'], label='test')\n",
    "plt.legend()\n",
    "# plot accuracy during training\n",
    "plt.subplot(222)\n",
    "plt.title('Accuracy')\n",
    "plt.plot(history.history['accuracy'], label='train')\n",
    "plt.plot(history.history['val_accuracy'], label='test')\n",
    "plt.legend()\n",
    "\n",
    "plt.subplot(223)\n",
    "plt.title('AUC')\n",
    "plt.plot(history.history['auc'], label='train')\n",
    "plt.plot(history.history['val_auc'], label='test')\n",
    "plt.legend()\n",
    "plt.show()"
   ]
  },
  {
   "cell_type": "code",
   "execution_count": null,
   "metadata": {},
   "outputs": [],
   "source": []
  },
  {
   "cell_type": "code",
   "execution_count": null,
   "metadata": {},
   "outputs": [],
   "source": []
  },
  {
   "cell_type": "code",
   "execution_count": null,
   "metadata": {},
   "outputs": [],
   "source": []
  },
  {
   "cell_type": "code",
   "execution_count": null,
   "metadata": {},
   "outputs": [],
   "source": []
  },
  {
   "cell_type": "code",
   "execution_count": null,
   "metadata": {},
   "outputs": [],
   "source": [
    "# the first branch operates on the first input\n",
    "x = Dense(8, activation=\"relu\")(inputA)\n",
    "x = Dense(4, activation=\"relu\")(x)\n",
    "x = Model(inputs=inputA, outputs=x)\n",
    "# the second branch opreates on the second input\n",
    "y = Dense(64, activation=\"relu\")(inputB)\n",
    "y = Dense(32, activation=\"relu\")(y)\n",
    "y = Dense(4, activation=\"relu\")(y)\n",
    "y = Model(inputs=inputB, outputs=y)\n",
    "# combine the output of the two branches\n",
    "combined = concatenate([x.output, y.output])\n",
    "# apply a FC layer and then a regression prediction on the\n",
    "# combined outputs\n",
    "z = Dense(2, activation=\"relu\")(combined)\n",
    "z = Dense(1, activation=\"linear\")(z)\n",
    "# our model will accept the inputs of the two branches and\n",
    "# then output a single value\n",
    "model = Model(inputs=[x.input, y.input], outputs=z)"
   ]
  },
  {
   "cell_type": "code",
   "execution_count": null,
   "metadata": {},
   "outputs": [],
   "source": []
  },
  {
   "cell_type": "code",
   "execution_count": null,
   "metadata": {},
   "outputs": [],
   "source": [
    "#model splits into lat long after convolutional layers\n",
    "\n",
    "input_shape=(270,480,1)\n",
    "x=tf.keras.layers.Conv2D(64,(3,3),activation='relu')(inputs)\n",
    "x=tf.keras.layers.MaxPooling2D((2,2))(x)\n",
    "input = tf.keras.layers.Input(shape=input_shape)\n",
    "x=tf.keras.layers.Conv2D(64,(3,3),activation='relu')(x)\n",
    "x=tf.keras.layers.MaxPooling2D((2,2))(x)\n",
    "x=tf.keras.layers.Dropout(0.25)(x)\n",
    "x=tf.keras.layers.Conv2D(128,(3,3),activation='relu')(x)\n",
    "x=tf.keras.layers.MaxPooling2D((2,2))(x)\n",
    "x=tf.keras.layers.Conv2D(128,(3,3),activation='relu')(x)\n",
    "x=tf.keras.layers.MaxPooling2D((2,2))(x)\n",
    "x=tf.keras.layers.Dropout(0.25)(x)\n",
    "x=tf.keras.layers.Flatten()(x)\n",
    "\n",
    "xlat=tf.keras.layers.Dense(256,activation='relu')(x)\n",
    "xlat=tf.keras.layers.Dropout(0.5)(xlat)\n",
    "xlat=tf.keras.layers.Dense(64,activation='relu')(xlat)\n",
    "regression_layer_lat = tf.keras.layers.Dense(1, name='regression_lat')(xlat)  \n",
    "\n",
    "xlong=tf.keras.layers.Dense(256,activation='relu')(x)\n",
    "xlong=tf.keras.layers.Dropout(0.5)(xlong)\n",
    "xlong=tf.keras.layers.Dense(64,activation='relu')(xlong)\n",
    "regression_layer_long = tf.keras.layers.Dense(1, name='regression_long')(xlong)\n",
    "\n",
    "model_output = [regression_layer_lat, regression_layer_long]\n",
    "losses = ['mean_squared_error', 'mean_squared_error']\n",
    "metrics = ['mean_squared_error', 'mean_squared_error']\n",
    "\n",
    "model = tf.keras.models.Model(inputs, model_output)\n",
    "model.compile(loss=losses,  optimizer='adam', metrics=metrics)"
   ]
  },
  {
   "cell_type": "code",
   "execution_count": null,
   "metadata": {},
   "outputs": [],
   "source": [
    "with open('model.yml') as config_file:\n",
    "    config_data = yaml.load(config_file)\n",
    "    image_dir = config_data['image_dir']\n",
    "    latstart= config_data['latstart']\n",
    "    latend=config_data['latend']\n",
    "    longstart = config_data['longstart']\n",
    "    longend=config_data['longend']\n",
    "    dtstart= config_data['dtstart']\n",
    "    dtend=config_data['dtend']"
   ]
  },
  {
   "cell_type": "code",
   "execution_count": null,
   "metadata": {},
   "outputs": [],
   "source": []
  },
  {
   "cell_type": "markdown",
   "metadata": {
    "colab_type": "text",
    "id": "-k4t6YLVrt49"
   },
   "source": [
    "## Define functions to load the data\n"
   ]
  },
  {
   "cell_type": "markdown",
   "metadata": {},
   "source": [
    "#### comment\n"
   ]
  },
  {
   "cell_type": "markdown",
   "metadata": {},
   "source": [
    "### Key image read-in functions: load_image and build_input"
   ]
  },
  {
   "cell_type": "code",
   "execution_count": null,
   "metadata": {
    "colab": {},
    "colab_type": "code",
    "id": "FVUFnke4eIZI"
   },
   "outputs": [],
   "source": [
    "def load_image(s3_client,bucket_name,file_name, dim=(224,224)):\n",
    "    \"\"\"\n",
    "    Loads a single image as a Numpy array and resizes it as\n",
    "    desired.  The default dimensions are consistent with\n",
    "    those expected by the VGG models.  \n",
    "\n",
    "    Args:\n",
    "    s3_client:  s3 resource\n",
    "    bucket_name:name of bucket\n",
    "    file_name:  file to convert to image\n",
    "\n",
    "    dim: Two-element tuple giving the desired height\n",
    "         and width of the processed image\n",
    "\n",
    "    Returns:\n",
    "    image:  A single-channel Numpy array\n",
    "    \"\"\"\n",
    "    #image = cv2.imread(image_path, 0)\n",
    "    file_stream = io.BytesIO()\n",
    "    s3.download_fileobj(bucket_name,file_name,file_stream)\n",
    "    nparr = np.frombuffer(file_stream.getvalue(), np.uint8)\n",
    "    image=cv2.imdecode(nparr,0)\n",
    "    image = cv2.resize(image, dim)#, interpolation = cv2.INTER_AREA)\n",
    "    return image"
   ]
  },
  {
   "cell_type": "code",
   "execution_count": null,
   "metadata": {
    "colab": {},
    "colab_type": "code",
    "id": "CFJgfKxOi9Uj"
   },
   "outputs": [],
   "source": [
    "def build_input(s3_client,bucket_name,file_list,files_to_load,dim):\n",
    "    \"\"\"\n",
    "    Loads all of the images into a single numpy array.\n",
    "    Assumes that there are 101 equally-spaced images\n",
    "    spanning lattitudes from 35N to 45N.  \n",
    "\n",
    "    Args:\n",
    "    s3_client:  s3 resource\n",
    "    bucket_name:name of bucket\n",
    "    file_list:  list of files in bucket\n",
    "    Returns:\n",
    "    X:  A 3-dimensional numpy array containing the\n",
    "        images. Image height and width are set by\n",
    "        `load_images` and default to 224 x 224.\n",
    "\n",
    "    y:  A 1-dimensional numpy array of target lattitudes.\n",
    "    \"\"\"\n",
    "    X = []\n",
    "    i=0\n",
    "    for file in file_list[0:files_to_load]:\n",
    "        if file[-4:] == '.png':\n",
    "            print(file)\n",
    "            image = load_image(s3_client,bucket_name,file,dim)\n",
    "            X.append(image)\n",
    "            if i%100==0:\n",
    "                print('loaded:',i)\n",
    "            i+=1\n",
    "    return (np.array(X) / 255)"
   ]
  },
  {
   "cell_type": "code",
   "execution_count": null,
   "metadata": {
    "colab": {},
    "colab_type": "code",
    "id": "g4CpV8Yue8G1"
   },
   "outputs": [],
   "source": [
    "def build_labels(file_list,files_to_load):\n",
    "    y = []\n",
    "    t=[]\n",
    "    for file in file_list[0:files_to_load]:\n",
    "        if file[-4:] == '.png':\n",
    "            file_split = file.split('+')\n",
    "            lat = float(file_split[0])\n",
    "            long = float(file_split[1])\n",
    "            time = file_split[2].split('.')[0]\n",
    "            y.append((lat, long))\n",
    "            t.append(time)\n",
    "    return np.array(y),np.array(t)"
   ]
  },
  {
   "cell_type": "markdown",
   "metadata": {},
   "source": [
    "#### Test load_image on one image manually"
   ]
  },
  {
   "cell_type": "code",
   "execution_count": null,
   "metadata": {
    "colab": {
     "base_uri": "https://localhost:8080/",
     "height": 286
    },
    "colab_type": "code",
    "id": "6aWURghls3NV",
    "outputId": "cc7d27e7-ddee-424c-88ed-0bbf23b57972"
   },
   "outputs": [],
   "source": [
    "bucket_name='w251-final-project'\n",
    "file_name='36.0014762509164+-74.82905304191733+2020-05-26T01:10:59.png'\n",
    "s3 = boto3.client('s3')\n",
    "sample_image = load_image(s3,bucket_name,file_name)\n",
    "plt.imshow(sample_image)\n",
    "print(sample_image.shape)\n",
    "file_list=[file_name]\n",
    "test_label, test_time=build_labels(file_list,1)\n",
    "print (test_label,test_time)"
   ]
  },
  {
   "cell_type": "markdown",
   "metadata": {
    "colab_type": "text",
    "id": "10QkIM_Rso10"
   },
   "source": [
    "## Prepare the data"
   ]
  },
  {
   "cell_type": "markdown",
   "metadata": {
    "colab_type": "text",
    "id": "HkcP-D-Esrce"
   },
   "source": [
    "### Load the images"
   ]
  },
  {
   "cell_type": "code",
   "execution_count": null,
   "metadata": {
    "colab": {},
    "colab_type": "code",
    "id": "kUp7yqdFkFi0"
   },
   "outputs": [],
   "source": [
    "#clear out models for memory management purposes\n",
    "tf.keras.backend.clear_session()\n",
    "\n",
    "#change this to true to force it to reload from S3 bucket\n",
    "force_load=False\n",
    "\n",
    "#check if np arrays have already been saved and load if so\n",
    "if ((os.path.exists('x.npy'))&(not force_load)):\n",
    "    print('loading from files')\n",
    "    X=np.load('x.npy')\n",
    "    y=np.load('y.npy')\n",
    "    t=np.load('t.npy')\n",
    "\n",
    "#otherwise go to S3 bucket\n",
    "else:\n",
    "    print('loading from S3')\n",
    "    bucket_name='w251-final-project'\n",
    "    file_list=get_matching_s3_keys(bucket_name)\n",
    "    \n",
    "    #shuffle file list so that if take less than all are distributed.  also makes array randomly shuffled\n",
    "    random.shuffle(file_list)\n",
    "    \n",
    "    s3 = boto3.client('s3')\n",
    "\n",
    "    #max_files=100000\n",
    "    max_files=500\n",
    "    file_list_length=len(file_list)\n",
    "    files_to_load=np.minimum(max_files,file_list_length)\n",
    "\n",
    "    #get images\n",
    "    print('About to call build_input on',files_to_load,' files')\n",
    "    dim=(224,224)\n",
    "    X = build_input(s3,bucket_name,file_list,files_to_load,dim)\n",
    "\n",
    "\n",
    "    #get labels\n",
    "    print ('Building labels')\n",
    "    y,t = build_labels(file_list,files_to_load)\n",
    "    \n",
    "    print ('saving arrays so can reload more easily next time through')\n",
    "    np.save('x.npy',X)\n",
    "    np.save('y.npy',y)\n",
    "    np.save('t.npy',t)\n",
    "\n",
    "print ('shape of image array:', X.shape)\n",
    "print ('shape of label list:', y.shape)\n",
    "print ('shape of time list:',t.shape)"
   ]
  },
  {
   "cell_type": "markdown",
   "metadata": {
    "colab_type": "text",
    "id": "mdemcB48loMr"
   },
   "source": [
    "\n",
    "### Standardize the values"
   ]
  },
  {
   "cell_type": "code",
   "execution_count": null,
   "metadata": {},
   "outputs": [],
   "source": [
    "def scale_down(numbers,top,bottom):\n",
    "    number_range=top-bottom\n",
    "    revised=[x-bottom for x in numbers]\n",
    "    revised=[x/number_range for x in revised]\n",
    "    return revised\n",
    "\n",
    "def scale_up(number,top,bottom):\n",
    "    number_range=top-bottom\n",
    "    revised=number*number_range\n",
    "    revised=revised+bottom\n",
    "    return revised\n"
   ]
  },
  {
   "cell_type": "code",
   "execution_count": null,
   "metadata": {
    "colab": {},
    "colab_type": "code",
    "id": "CQDi4jNTivAZ"
   },
   "outputs": [],
   "source": [
    "#just scaling down without normalizing\n",
    "y[:,0]=scale_down(y[:,0],latend,latstart)\n",
    "y[:,1]=scale_down(y[:,1],longend,longstart)\n",
    "\n",
    "#y[:,0] = scale(y[:,0])\n",
    "#y[:,1]=scale(y[:,1])\n",
    "\n",
    "print (y[:,0].mean(),y[:,0].std())\n",
    "print (y[:,1].mean(),y[:,1].std())"
   ]
  },
  {
   "cell_type": "markdown",
   "metadata": {
    "colab_type": "text",
    "id": "fwhGSeYdstxS"
   },
   "source": [
    "### Split into test and training sets"
   ]
  },
  {
   "cell_type": "code",
   "execution_count": null,
   "metadata": {
    "colab": {
     "base_uri": "https://localhost:8080/",
     "height": 85
    },
    "colab_type": "code",
    "id": "owd0SyrvlUHo",
    "outputId": "e1e23c19-08da-4f84-df78-b6a8b0da9b51"
   },
   "outputs": [],
   "source": [
    "X_train, X_val, y_train, y_val = train_test_split(X, y, test_size=0.2)\n",
    "print(X_train.shape)\n",
    "print(y_train.shape)\n",
    "print(X_val.shape)\n",
    "print(y_val.shape)\n"
   ]
  },
  {
   "cell_type": "code",
   "execution_count": null,
   "metadata": {},
   "outputs": [],
   "source": [
    "print(X_train[0].shape)\n",
    "print (X_train[0])\n",
    "print (X_train[0].max())\n",
    "print (X_train[0].mean())"
   ]
  },
  {
   "cell_type": "markdown",
   "metadata": {},
   "source": [
    "### Add channel for CNN"
   ]
  },
  {
   "cell_type": "code",
   "execution_count": null,
   "metadata": {},
   "outputs": [],
   "source": [
    "#need to add channel for B&W for CNN\n",
    "#https://machinelearningmastery.com/a-gentle-introduction-to-channels-first-and-channels-last-image-formats-for-deep-learning/\n",
    "\n",
    "print(X_train.shape,y_train.shape)\n",
    "X_train=np.expand_dims(X_train,axis=3)\n",
    "X_val=np.expand_dims(X_val,axis=3)\n",
    "print(X_train.shape,X_val.shape)"
   ]
  },
  {
   "cell_type": "markdown",
   "metadata": {
    "colab_type": "text",
    "id": "otvKdtM3tKDG"
   },
   "source": [
    "## The model\n"
   ]
  },
  {
   "cell_type": "code",
   "execution_count": null,
   "metadata": {},
   "outputs": [],
   "source": [
    "#just dense\n",
    "\n",
    "input_shape=(224,224,1)\n",
    "input_image = tf.keras.layers.Input(shape=X_train[0].shape)\n",
    "input_time=input_time=tf.keras.layers.Input(shape=t_train[0].shape)\n",
    "i=tf.keras.layers.Flatten()(input_image)\n",
    "i=tf.keras.layers.Dense(528,activation='relu')(i)\n",
    "i=tf.keras.layers.Dense(528,activation='relu')(i)\n",
    "i=tf.keras.layers.Dense(528,activation='relu')(i)\n",
    "\n",
    "t=tf.keras.layers.Flatten()(input_time)\n",
    "it=tf.keras.layers.concatenate([i,t])\n",
    "\n",
    "xlat=tf.keras.layers.Dense(256,activation='relu')(it)\n",
    "xlat=tf.keras.layers.Dropout(0.25)(xlat)\n",
    "xlat=tf.keras.layers.Dense(256,activation='relu')(xlat)\n",
    "regression_layer_lat = tf.keras.layers.Dense(1, name='regression_lat')(xlat)  \n",
    "\n",
    "xlong=tf.keras.layers.Dense(256,activation='relu')(it)\n",
    "xlong=tf.keras.layers.Dropout(0.25)(xlong)\n",
    "xlong=tf.keras.layers.Dense(256,activation='relu')(xlong)\n",
    "regression_layer_long = tf.keras.layers.Dense(1, name='regression_long')(xlong)\n",
    "\n",
    "model_output = [regression_layer_lat, regression_layer_long]\n",
    "losses = ['mean_squared_error', 'mean_squared_error']\n",
    "metrics = ['mean_squared_error', 'mean_squared_error']\n",
    "\n",
    "model = tf.keras.models.Model([input_image,input_time], model_output)\n",
    "\n",
    "\n",
    "\n",
    "\n",
    "\n"
   ]
  },
  {
   "cell_type": "code",
   "execution_count": null,
   "metadata": {},
   "outputs": [],
   "source": [
    "losses = ['mean_squared_error','mean_squared_error']\n",
    "metrics = ['mean_squared_error','mean_squared_error']\n",
    "\n",
    "model.compile(optimizer='Adam',\n",
    "                 loss=losses,\n",
    "                 metrics=metrics)\n",
    "\n",
    "print(model.summary())\n"
   ]
  },
  {
   "cell_type": "markdown",
   "metadata": {
    "colab_type": "text",
    "id": "45ubHGx-0fZT"
   },
   "source": [
    "### Fit the model"
   ]
  },
  {
   "cell_type": "code",
   "execution_count": null,
   "metadata": {
    "colab": {
     "base_uri": "https://localhost:8080/",
     "height": 1000
    },
    "colab_type": "code",
    "id": "GSdEVoRTn7KO",
    "outputId": "f18a5e41-575f-4cc5-a200-7ed098765963"
   },
   "outputs": [],
   "source": [
    "tf.keras.backend.clear_session()\n",
    "history = model.fit(x=[X_train,t_train], \n",
    "                    y=[y_train[:,0],y_train[:,1]],\n",
    "                    validation_data=[[X_val,t_val],[y_val[:,0],y_val[:,1]]],\n",
    "                    verbose=1, epochs=15, batch_size=32)\n",
    "\n",
    "    \n"
   ]
  },
  {
   "cell_type": "markdown",
   "metadata": {
    "colab_type": "text",
    "id": "xgjEi6oP0kNE"
   },
   "source": [
    "### Evaluate model performance"
   ]
  },
  {
   "cell_type": "code",
   "execution_count": null,
   "metadata": {
    "colab": {
     "base_uri": "https://localhost:8080/",
     "height": 295
    },
    "colab_type": "code",
    "id": "CZNI6nGtzbYy",
    "outputId": "0af1dc94-1682-46eb-e7d9-e5a52d01eacb"
   },
   "outputs": [],
   "source": [
    "history_df = pd.DataFrame(history.history)\n",
    "ax = history_df.plot(y=['loss', 'val_loss'],\n",
    "                xticks=np.linspace(0, len(history_df), 6))\n",
    "ax.set_ylabel('Loss')\n",
    "ax.set_xlabel('Epoch')\n",
    "ax.set_title('Evolution of Mean Squared Error')\n",
    "plt.show()\n"
   ]
  },
  {
   "cell_type": "code",
   "execution_count": null,
   "metadata": {},
   "outputs": [],
   "source": [
    "print(X_val.shape)\n",
    "print(y_val.shape)"
   ]
  },
  {
   "cell_type": "code",
   "execution_count": null,
   "metadata": {
    "colab": {},
    "colab_type": "code",
    "id": "29eHeDjEoNqj"
   },
   "outputs": [],
   "source": [
    "y_hat = model.predict([X_val,t_val])\n",
    "#y_hat_lat=model.predict(X_val)[0]\n",
    "#y_hat_long=model.predict(X_val)[1]\n",
    "y_hat_lat=y_hat[:,0]\n",
    "y_hat_long=y_hat[:,1]\n",
    "\n",
    "y_hat_lat=scale_up(y_hat_lat,latend,latstart)\n",
    "y_hat_long=scale_up(y_hat_long,longend,longstart)\n",
    "\n",
    "y_val_lat=y_val[:,0]\n",
    "y_val_long=y_val[:,1]\n",
    "\n",
    "y_val_lat=scale_up(y_val_lat,latend,latstart)\n",
    "y_val_long=scale_up(y_val_long,longend,longstart)"
   ]
  },
  {
   "cell_type": "code",
   "execution_count": null,
   "metadata": {
    "colab": {
     "base_uri": "https://localhost:8080/",
     "height": 295
    },
    "colab_type": "code",
    "id": "6CoZVBtCrT7K",
    "outputId": "f9b36a5f-5eef-468e-edd9-e6811ba7ea39"
   },
   "outputs": [],
   "source": [
    "fig = plt.figure(figsize=(12,6))\n",
    "ax=fig.add_subplot(111)\n",
    "ax.scatter(y_val_lat, y_hat_lat)\n",
    "plt.title('Predicted lat vs. True lat')\n",
    "plt.xlabel('True lat')\n",
    "plt.ylabel('Predicted lat')\n",
    "ax.set_xlim(36,40)\n",
    "ax.set_ylim(36,40)\n",
    "#draw straight line\n"
   ]
  },
  {
   "cell_type": "code",
   "execution_count": null,
   "metadata": {
    "colab": {
     "base_uri": "https://localhost:8080/",
     "height": 295
    },
    "colab_type": "code",
    "id": "n5tCuM2HvK72",
    "outputId": "f1b6570d-1fa3-464c-c820-8e01ca393676"
   },
   "outputs": [],
   "source": [
    "fig = plt.figure(figsize=(12,6))\n",
    "ax=fig.add_subplot(111)\n",
    "ax.scatter(y_val_long, y_hat_long)\n",
    "plt.title('Predicted long vs. True long')\n",
    "plt.xlabel('True long')\n",
    "plt.ylabel('Predicted long')\n",
    "ax.set_xlim(-78,-74)\n",
    "ax.set_ylim(-78,-74)\n"
   ]
  },
  {
   "cell_type": "markdown",
   "metadata": {},
   "source": [
    "### Save Model"
   ]
  },
  {
   "cell_type": "code",
   "execution_count": null,
   "metadata": {},
   "outputs": [],
   "source": [
    "model_dir='inference_model'\n",
    "model.save(model_dir)\n"
   ]
  },
  {
   "cell_type": "code",
   "execution_count": null,
   "metadata": {},
   "outputs": [],
   "source": [
    "test_model=tf.keras.models.load_model(model_dir)\n"
   ]
  },
  {
   "cell_type": "code",
   "execution_count": null,
   "metadata": {},
   "outputs": [],
   "source": [
    "def upload_model(model_dir,bucket_name):\n",
    "    #s3_client=boto3.client('s3')\n",
    "    session = boto3.Session()\n",
    "    s3 = session.resource('s3')\n",
    "    bucket = s3.Bucket(bucket_name)\n",
    "    for subdir, dirs, files in os.walk(model_dir):\n",
    "        for file in files:\n",
    "            full_path = os.path.join(subdir, file)\n",
    "            with open(full_path, 'rb') as data:\n",
    "                bucket.put_object(Key=full_path[len(model_dir)+1:], Body=data)\n",
    "\n",
    "bucket_name='w251-final-project-model'\n",
    "upload_model(model_dir,bucket_name)"
   ]
  },
  {
   "cell_type": "code",
   "execution_count": null,
   "metadata": {},
   "outputs": [],
   "source": []
  },
  {
   "cell_type": "code",
   "execution_count": null,
   "metadata": {},
   "outputs": [],
   "source": [
    "input_image = tf.keras.layers.Input(shape=X_train[0].shape)\n",
    "input_time=tf.keras.layers.Input(shape=t_train[0].shape)\n",
    "\n",
    "i=tf.keras.layers.Conv2D(filters=5,kernel_size=10,padding='same',activation='relu')(input_image)\n",
    "i=tf.keras.layers.Conv2D(filters=1,kernel_size=10,padding='same',activation='relu') (i)\n",
    "i=tf.keras.layers.Flatten()(i)\n",
    "\n",
    "t=tf.keras.layers.Flatten()(input_time)\n",
    "ti=tf.keras.layers.concatenate([i,t])\n",
    "ti=tf.keras.layers.Dense(256,activation='relu')(ti)\n",
    "ti=tf.keras.layers.Dropout(0.2)(ti)\n",
    "outputs=tf.keras.layers.Dense(2,activation='sigmoid')(ti)\n",
    "\n",
    "model = tf.keras.Model(inputs=[input_image, input_time], outputs=outputs)\n",
    "\n",
    "\n",
    "lr_schedule = tf.keras.optimizers.schedules.ExponentialDecay(\n",
    "    initial_learning_rate=1e-2,\n",
    "    decay_steps=10000,\n",
    "    decay_rate=0.9)\n",
    "\n",
    "optimizer = tf.keras.optimizers.SGD(learning_rate=lr_schedule)\n",
    "\n",
    "model.compile(optimizer=optimizer,\n",
    "                 loss=haversine_loss)\n",
    "\n",
    "print(model.summary())\n",
    "\n",
    "history = model.fit(x=[X_train,t_train], \n",
    "                    y=[y_train],\n",
    "                    validation_data=[[X_val,t_val],y_val],\n",
    "                    verbose=1, epochs=15, batch_size=64)\n"
   ]
  },
  {
   "cell_type": "markdown",
   "metadata": {},
   "source": [
    "### Feed Forward Dense"
   ]
  },
  {
   "cell_type": "code",
   "execution_count": null,
   "metadata": {},
   "outputs": [],
   "source": [
    "#just dense\n",
    "\n",
    "input_shape=(224,224,1)\n",
    "inputs = tf.keras.layers.Input(shape=input_shape)\n",
    "x=tf.keras.layers.Flatten()(inputs)\n",
    "x=tf.keras.layers.Dense(528,activation='relu')(x)\n",
    "x=tf.keras.layers.Dense(528,activation='relu')(x)\n",
    "x=tf.keras.layers.Dense(528,activation='relu')(x)\n",
    "\n",
    "xlat=tf.keras.layers.Dense(256,activation='relu')(x)\n",
    "xlat=tf.keras.layers.Dropout(0.25)(xlat)\n",
    "xlat=tf.keras.layers.Dense(256,activation='relu')(xlat)\n",
    "regression_layer_lat = tf.keras.layers.Dense(1, name='regression_lat')(xlat)  \n",
    "\n",
    "xlong=tf.keras.layers.Dense(256,activation='relu')(x)\n",
    "xlong=tf.keras.layers.Dropout(0.25)(xlong)\n",
    "xlong=tf.keras.layers.Dense(256,activation='relu')(xlong)\n",
    "regression_layer_long = tf.keras.layers.Dense(1, name='regression_long')(xlong)\n",
    "\n",
    "model_output = [regression_layer_lat, regression_layer_long]\n",
    "losses = ['mean_squared_error', 'mean_squared_error']\n",
    "metrics = ['mean_squared_error', 'mean_squared_error']\n",
    "\n",
    "model = tf.keras.models.Model(inputs, model_output)\n",
    "model.compile(loss=losses,  optimizer='adam', metrics=metrics)\n",
    "print(model.summary())"
   ]
  },
  {
   "cell_type": "code",
   "execution_count": null,
   "metadata": {},
   "outputs": [],
   "source": [
    "history = model.fit(x=X_train, \n",
    "                    y=[y_train[:,0],y_train[:,1]],\n",
    "                    validation_data=[X_val,[y_val[:,0],y_val[:,1]]],\n",
    "                    verbose=1, epochs=20, batch_size=128)"
   ]
  },
  {
   "cell_type": "code",
   "execution_count": null,
   "metadata": {},
   "outputs": [],
   "source": [
    "y_hat = model.predict(X_val)\n",
    "#y_hat_lat=model.predict(X_val)[0]\n",
    "#y_hat_long=model.predict(X_val)[1]\n",
    "y_hat_lat=y_hat[0]\n",
    "y_hat_long=y_hat[1]\n",
    "\n",
    "y_hat_lat=scale_up(y_hat_lat,toplat,bottomlat)\n",
    "y_hat_long=scale_up(y_hat_long,toplong,bottomlong)\n",
    "\n",
    "y_val_lat=y_val[:,0]\n",
    "y_val_long=y_val[:,1]\n",
    "\n",
    "y_val_lat=scale_up(y_val_lat,toplat,bottomlat)\n",
    "y_val_long=scale_up(y_val_long,toplong,bottomlong)"
   ]
  },
  {
   "cell_type": "code",
   "execution_count": null,
   "metadata": {},
   "outputs": [],
   "source": [
    "plt.scatter(y_val_lat, y_hat_lat)\n",
    "plt.title('Predicted lat vs. True lat')\n",
    "plt.xlabel('True lat')\n",
    "plt.ylabel('Predicted lat')\n",
    "plt.show()"
   ]
  },
  {
   "cell_type": "code",
   "execution_count": null,
   "metadata": {},
   "outputs": [],
   "source": [
    "plt.scatter(y_val_long, y_hat_long)\n",
    "plt.title('Predicted long vs. True long')\n",
    "plt.xlabel('True long')\n",
    "plt.ylabel('Predicted long')\n",
    "plt.show()"
   ]
  },
  {
   "cell_type": "code",
   "execution_count": null,
   "metadata": {},
   "outputs": [],
   "source": []
  },
  {
   "cell_type": "code",
   "execution_count": null,
   "metadata": {},
   "outputs": [],
   "source": []
  },
  {
   "cell_type": "markdown",
   "metadata": {
    "colab": {},
    "colab_type": "code",
    "id": "l1Lg2v4LqKCp"
   },
   "source": [
    "### Things to consider doing:\n",
    "- don't normalize the lat and long - just scale it DONE\n",
    "- convert back to lat and long DONE\n",
    "- set validation batch size to deal with OOM errors (possibly) DONE\n",
    "- loss weights?\n",
    "- what is resolution of png files coming in?  are they squares?\n",
    "- since set wide rectangle, need to make sure entirely at night time\n",
    "- change angle of view - look more tired horizon?\n"
   ]
  },
  {
   "cell_type": "markdown",
   "metadata": {},
   "source": [
    "### Old models"
   ]
  },
  {
   "cell_type": "code",
   "execution_count": null,
   "metadata": {},
   "outputs": [],
   "source": [
    "# Define Input layer(s)\n",
    "inputShape = (224, 224)\n",
    "inputs = tf.keras.layers.Input(shape=inputShape)\n",
    "\n",
    "flatten = tf.keras.layers.Flatten()(inputs)\n",
    "\n",
    "x=tf.keras.layers.Dense(512,activation='relu')(flatten)\n",
    "x=tf.keras.layers.Dense(512,activation='relu')(x)\n",
    "x=tf.keras.layers.Dense(512,activation='relu')(x)\n",
    "x=tf.keras.layers.Dense(512,activation='relu')(x)\n",
    "regression_layer_lat = tf.keras.layers.Dense(1, name='regression_lat')(x)  \n",
    "regression_layer_long = tf.keras.layers.Dense(1, name='regression_long')(x)\n",
    "\n",
    "\n",
    "# Build and compile model\n",
    "model_input = inputs\n",
    "model_output = [regression_layer_lat, regression_layer_long]\n",
    "losses = ['mean_squared_error', 'mean_squared_error']\n",
    "metrics = ['mean_squared_error', 'mean_squared_error']\n",
    "\n",
    "model = tf.keras.models.Model(model_input, model_output)\n",
    "model.compile(loss=losses,  optimizer='adam', metrics=metrics)"
   ]
  },
  {
   "cell_type": "code",
   "execution_count": null,
   "metadata": {},
   "outputs": [],
   "source": [
    "#model splits into lat long after convolutional layers\n",
    "\n",
    "input_shape=(270,480,1)\n",
    "input = tf.keras.layers.Input(shape=input_shape)\n",
    "x=tf.keras.layers.Conv2D(64,(3,3),activation='relu')(inputs)\n",
    "x=tf.keras.layers.MaxPooling2D((2,2))(x)\n",
    "x=tf.keras.layers.Conv2D(64,(3,3),activation='relu')(x)\n",
    "x=tf.keras.layers.MaxPooling2D((2,2))(x)\n",
    "x=tf.keras.layers.Dropout(0.25)(x)\n",
    "x=tf.keras.layers.Conv2D(128,(3,3),activation='relu')(x)\n",
    "x=tf.keras.layers.MaxPooling2D((2,2))(x)\n",
    "x=tf.keras.layers.Conv2D(128,(3,3),activation='relu')(x)\n",
    "x=tf.keras.layers.MaxPooling2D((2,2))(x)\n",
    "x=tf.keras.layers.Dropout(0.25)(x)\n",
    "x=tf.keras.layers.Flatten()(x)\n",
    "\n",
    "xlat=tf.keras.layers.Dense(256,activation='relu')(x)\n",
    "xlat=tf.keras.layers.Dropout(0.5)(xlat)\n",
    "xlat=tf.keras.layers.Dense(64,activation='relu')(xlat)\n",
    "regression_layer_lat = tf.keras.layers.Dense(1, name='regression_lat')(xlat)  \n",
    "\n",
    "xlong=tf.keras.layers.Dense(256,activation='relu')(x)\n",
    "xlong=tf.keras.layers.Dropout(0.5)(xlong)\n",
    "xlong=tf.keras.layers.Dense(64,activation='relu')(xlong)\n",
    "regression_layer_long = tf.keras.layers.Dense(1, name='regression_long')(xlong)\n",
    "\n",
    "model_output = [regression_layer_lat, regression_layer_long]\n",
    "losses = ['mean_squared_error', 'mean_squared_error']\n",
    "metrics = ['mean_squared_error', 'mean_squared_error']\n",
    "\n",
    "model = tf.keras.models.Model(inputs, model_output)\n",
    "model.compile(loss=losses,  optimizer='adam', metrics=metrics)"
   ]
  },
  {
   "cell_type": "code",
   "execution_count": null,
   "metadata": {},
   "outputs": [],
   "source": [
    "input_shape=(224,224,1)\n",
    "inputs = tf.keras.layers.Input(shape=input_shape)\n",
    "x=tf.keras.layers.Conv2D(64,(3,3),activation='relu')(inputs)\n",
    "x=tf.keras.layers.MaxPooling2D((2,2))(x)\n",
    "x=tf.keras.layers.Conv2D(64,(3,3),activation='relu')(x)\n",
    "x=tf.keras.layers.MaxPooling2D((2,2))(x)\n",
    "x=tf.keras.layers.Dropout(0.25)(x)\n",
    "x=tf.keras.layers.Conv2D(128,(3,3),activation='relu')(x)\n",
    "x=tf.keras.layers.MaxPooling2D((2,2))(x)\n",
    "x=tf.keras.layers.Conv2D(128,(3,3),activation='relu')(x)\n",
    "x=tf.keras.layers.MaxPooling2D((2,2))(x)\n",
    "x=tf.keras.layers.Dropout(0.25)(x)\n",
    "\n",
    "x=tf.keras.layers.Flatten()(x)\n",
    "x=tf.keras.layers.Dense(256,activation='relu')(x)\n",
    "x=tf.keras.layers.Dropout(0.5)(x)\n",
    "x=tf.keras.layers.Dense(64,activation='relu')(x)\n",
    "regression_layer_lat = tf.keras.layers.Dense(1, name='regression_lat')(x)  \n",
    "regression_layer_long = tf.keras.layers.Dense(1, name='regression_long')(x)\n",
    "\n",
    "model_output = [regression_layer_lat, regression_layer_long]\n",
    "losses = ['mean_squared_error', 'mean_squared_error']\n",
    "metrics = ['mean_squared_error', 'mean_squared_error']\n",
    "\n",
    "model = tf.keras.models.Model(inputs, model_output)\n",
    "model.compile(loss=losses,  optimizer='adam', metrics=metrics)"
   ]
  },
  {
   "cell_type": "code",
   "execution_count": null,
   "metadata": {},
   "outputs": [],
   "source": [
    "model = tf.keras.Sequential([\n",
    "    tf.keras.layers.Flatten(input_shape=(224,224)),\n",
    "    tf.keras.layers.Dense(512, activation='relu'),\n",
    "    #tf.keras.layers.Dense(512, activation='relu'),\n",
    "    #tf.keras.layers.Dense(512, activation='relu'),\n",
    "    #tf.keras.layers.Dense(512, activation='relu'),\n",
    "    #tf.keras.layers.Dense(512, activation='relu'),\n",
    "    tf.keras.layers.Dense(256, activation='relu'),\n",
    "    #tf.keras.layers.Dense(256, activation='relu'),\n",
    "    #tf.keras.layers.Dense(256, activation='relu'),\n",
    "    #tf.keras.layers.Dense(256, activation='relu'),\n",
    "    #tf.keras.layers.Dense(256, activation='relu'),\n",
    "    #tf.keras.layers.Dense(256, activation='relu'),\n",
    "    tf.keras.layers.Dense(128, activation='relu'),\n",
    "    #tf.keras.layers.Dense(128, activation='relu'),\n",
    "    #tf.keras.layers.Dense(128, activation='relu'),\n",
    "    #tf.keras.layers.Dense(128, activation='relu'),\n",
    "    #tf.keras.layers.Dense(128, activation='relu'),\n",
    "    #tf.keras.layers.Dense(128, activation='relu'),\n",
    "    #tf.keras.layers.Dense(128, activation='relu'),\n",
    "    tf.keras.layers.Dense(64, activation='relu'),\n",
    "    tf.keras.layers.Dense(32, activation='relu'),\n",
    "    tf.keras.layers.Dropout(0.3),\n",
    "    tf.keras.layers.Dense(2)\n",
    "])"
   ]
  },
  {
   "cell_type": "code",
   "execution_count": null,
   "metadata": {},
   "outputs": [],
   "source": [
    "losses = ['mean_squared_error', 'mean_squared_error']\n",
    "metrics = ['mean_squared_error', 'mean_squared_error']\n",
    "\n",
    "model = tf.keras.models.Model(inputs, model_output)\n",
    "model.compile(loss=losses,  optimizer='adam', metrics=metrics)"
   ]
  }
 ],
 "metadata": {
  "accelerator": "GPU",
  "colab": {
   "collapsed_sections": [],
   "name": "iso-chron.ipynb",
   "provenance": [],
   "toc_visible": true
  },
  "kernelspec": {
   "display_name": "Environment (conda_thesis)",
   "language": "python",
   "name": "conda_thesis"
  },
  "language_info": {
   "codemirror_mode": {
    "name": "ipython",
    "version": 3
   },
   "file_extension": ".py",
   "mimetype": "text/x-python",
   "name": "python",
   "nbconvert_exporter": "python",
   "pygments_lexer": "ipython3",
   "version": "3.6.10"
  }
 },
 "nbformat": 4,
 "nbformat_minor": 1
}
