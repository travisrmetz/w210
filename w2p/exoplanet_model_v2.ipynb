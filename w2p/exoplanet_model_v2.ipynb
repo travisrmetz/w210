{
 "cells": [
  {
   "cell_type": "markdown",
   "metadata": {
    "colab_type": "text",
    "id": "ImJOhE4BrfK7"
   },
   "source": [
    "## Exoplanet Model Work\n",
    "\n"
   ]
  },
  {
   "cell_type": "markdown",
   "metadata": {
    "colab_type": "text",
    "id": "OlNrYnNsrp4C"
   },
   "source": [
    "#### Import packages"
   ]
  },
  {
   "cell_type": "code",
   "execution_count": 1,
   "metadata": {
    "colab": {},
    "colab_type": "code",
    "id": "5Y0LD8oscOFG"
   },
   "outputs": [
    {
     "name": "stderr",
     "output_type": "stream",
     "text": [
      "Using TensorFlow backend.\n"
     ]
    }
   ],
   "source": [
    "import pydot\n",
    "import numpy as np\n",
    "import tensorflow as tf\n",
    "import pandas as pd \n",
    "import matplotlib.pyplot as plt\n",
    "import cv2\n",
    "import os\n",
    "from sklearn.model_selection import train_test_split\n",
    "from sklearn.preprocessing import scale\n",
    "from sklearn.preprocessing import LabelEncoder\n",
    "from sklearn.preprocessing import StandardScaler\n",
    "import io\n",
    "from keras.utils import plot_model\n",
    "import random\n",
    "import yaml\n",
    "#import ktrain\n",
    "from astropy.io import ascii as ap_ascii\n",
    "import seaborn as sns\n",
    "import os\n",
    "import IPython\n",
    "\n",
    "import matplotlib as mpl\n",
    "from sklearn.metrics import roc_curve\n",
    "from sklearn.metrics import confusion_matrix\n",
    "from sklearn.model_selection import RandomizedSearchCV\n",
    "import kerastuner as kt\n",
    "\n",
    "pd.set_option('display.float_format', lambda x: '%.5f' % x)\n",
    "mpl.rcParams['figure.figsize'] = (12, 10)\n",
    "colors = plt.rcParams['axes.prop_cycle'].by_key()['color']\n",
    "np.set_printoptions(precision=None, suppress=True)\n",
    "\n",
    "from helpers.visualize import chart_curves \n",
    "from definitions import PROCESSED_DATA_DIR,PROCESSED_DATA_CATALOG\n",
    "#PROCESSED_DATA_DIR='processed_data'\n",
    "TCE_LIST='tce_table.csv'\n",
    "FAILED_LIST='failed_kepids.csv'\n",
    "MODEL_DIR='models'\n",
    "\n",
    "BATCH_SIZE=96\n",
    "METRICS = [\n",
    "          tf.keras.metrics.TruePositives(name='tp'),\n",
    "          tf.keras.metrics.FalsePositives(name='fp'),\n",
    "          tf.keras.metrics.TrueNegatives(name='tn'),\n",
    "          tf.keras.metrics.FalseNegatives(name='fn'), \n",
    "          tf.keras.metrics.BinaryAccuracy(name='accuracy'),\n",
    "          tf.keras.metrics.Precision(name='precision'),\n",
    "          tf.keras.metrics.Recall(name='recall'),\n",
    "          tf.keras.metrics.AUC(name='auc')\n",
    "    ]"
   ]
  },
  {
   "cell_type": "markdown",
   "metadata": {},
   "source": [
    "#### Model analysis plotting and charting functions"
   ]
  },
  {
   "cell_type": "code",
   "execution_count": 2,
   "metadata": {},
   "outputs": [],
   "source": [
    "def plot_metrics(history):\n",
    "    metrics =  ['loss', 'accuracy', 'precision', 'recall']\n",
    "    for n, metric in enumerate(metrics):\n",
    "        name = metric.replace(\"_\",\" \").capitalize()\n",
    "        plt.subplot(2,2,n+1)\n",
    "        plt.plot(history.epoch,  history.history[metric], color=colors[0], label='Train')\n",
    "        plt.plot(history.epoch, history.history['val_'+metric],\n",
    "                 color=colors[0], linestyle=\"--\", label='Val')\n",
    "        plt.xlabel('Epoch')\n",
    "        plt.ylabel(name)\n",
    "        if metric == 'loss':\n",
    "          plt.ylim([0, plt.ylim()[1]])\n",
    "        elif metric == 'auc':\n",
    "          plt.ylim([0.8,1])\n",
    "        else:\n",
    "          plt.ylim([0,1])\n",
    "\n",
    "        plt.legend()\n",
    "    plt.show()\n",
    "\n",
    "\n",
    "#roc curve\n",
    "def plot_roc(name, labels, predictions, **kwargs):\n",
    "    fp, tp, _ = roc_curve(labels, predictions)\n",
    "\n",
    "    plt.plot(100*fp, 100*tp, label=name, linewidth=2, **kwargs)\n",
    "    plt.xlabel('False positives [%]')\n",
    "    plt.ylabel('True positives [%]')\n",
    "    plt.xlim([-0.5,20])\n",
    "    plt.ylim([80,100.5])\n",
    "    plt.grid(True)\n",
    "    ax = plt.gca()\n",
    "    ax.set_aspect('equal')\n",
    "    \n",
    "\n",
    "#confusion matrix\n",
    "def plot_cm(labels, predictions, p=0.5):\n",
    "    cm = confusion_matrix(labels, predictions > p)\n",
    "    plt.figure(figsize=(5,5))\n",
    "    sns.heatmap(cm, annot=True, fmt=\"d\")\n",
    "    plt.title('Confusion matrix @{:.2f}'.format(p))\n",
    "    plt.ylabel('Actual label')\n",
    "    plt.xlabel('Predicted label')\n",
    "    plt.show()\n",
    "    \n",
    "    print('Not Planets Properly Categorized (True Negatives): ', cm[0][0])\n",
    "    print('Not Planets Categorized as Planets Detected (False Positives): ', cm[0][1])\n",
    "    print('Planets Missed (False Negatives): ', cm[1][0])\n",
    "    print('Planets Properly Categorized (True Positives): ', cm[1][1])\n",
    "    print('Total Planets: ', np.sum(cm[1]))\n",
    "    print('Accuracy: ',(cm[0][0]+cm[1][1])/len(predictions))\n",
    "    \n",
    "#takes in the tce index number, the tce id table, the results table (which figures out tp etc),\n",
    "#and the two vector tables and then calls the visualization helper function which\n",
    "#creates a chart and saves inside of processed_data folder structure\n",
    "def chart(tce_number,tce_id,results,x_global,x_local):\n",
    "    kepid=tce_id.loc[tce_number].kepid\n",
    "    result=val_results.loc[tce_number].result\n",
    "    tce_plnt_num=tce_id.loc[tce_number].tce_plnt_num\n",
    "    chart_curves(str(kepid),tce_plnt_num,\n",
    "             result,\n",
    "             x_global_val[tce_number],x_local_val[tce_number])\n",
    "    "
   ]
  },
  {
   "cell_type": "markdown",
   "metadata": {},
   "source": [
    "#### Read in and process data for use in model"
   ]
  },
  {
   "cell_type": "code",
   "execution_count": 3,
   "metadata": {},
   "outputs": [
    {
     "name": "stdout",
     "output_type": "stream",
     "text": [
      "(34032, 86)\n",
      "(438, 2)\n",
      "(33594, 86)\n",
      "FALSE POSITIVE    29397\n",
      "CONFIRMED          2345\n",
      "CANDIDATE          1852\n",
      "Name: koi_disposition, dtype: int64\n",
      "0-FALSE POSITIVE    29397\n",
      "1-CONFIRMED          4197\n",
      "Name: koi_disposition, dtype: int64\n",
      "Baseline accuracy: 0.8750669762457581\n",
      "(33594, 201)\n",
      "(33594, 2001)\n",
      "(33594, 201)\n",
      "(33594, 2001)\n"
     ]
    },
    {
     "data": {
      "image/png": "[encoded data removed]",
      "text/plain": [
       "<Figure size 1440x432 with 2 Axes>"
      ]
     },
     "metadata": {
      "needs_background": "light"
     },
     "output_type": "display_data"
    },
    {
     "name": "stdout",
     "output_type": "stream",
     "text": [
      "(33594, 201, 1)\n",
      "(33594, 2001, 1)\n",
      "(26875, 201, 1)\n",
      "(26875, 2001, 1)\n",
      "(26875,)\n",
      "(26875, 3)\n",
      "(6719, 201, 1)\n",
      "(6719, 2001, 1)\n",
      "(6719,)\n",
      "(6719, 3)\n"
     ]
    }
   ],
   "source": [
    "def get_data():\n",
    "    #this excludes from tce_list those kepids and planet numbers that failed make_data process\n",
    "    processed=pd.read_csv(os.path.join(PROCESSED_DATA_DIR,TCE_LIST))\n",
    "    print(processed.shape)\n",
    "    try:\n",
    "        failed=pd.read_csv(os.path.join(PROCESSED_DATA_DIR,FAILED_LIST))\n",
    "        failed.columns=['kepid','tce_plnt_num']\n",
    "        print(failed.shape)\n",
    "        for index,row in failed.iterrows():\n",
    "            processed.drop(processed[(processed.kepid==row.kepid) & \n",
    "                                     (processed.tce_plnt_num==row.tce_plnt_num)].index,inplace=True)\n",
    "    except:\n",
    "        pass\n",
    "\n",
    "    processed=processed.reset_index(drop=True)\n",
    "    print(processed.shape)\n",
    "\n",
    "    #maybe need to save processed with failed KEPIDs in it and with a flag - do analysis of how many of those\n",
    "    #are confirmed?\n",
    "\n",
    "    #save processed list back out (so excludes those KEPIDS/PLNTs with NO light curves)\n",
    "    processed.to_csv(os.path.join(PROCESSED_DATA_DIR,PROCESSED_DATA_CATALOG),index=False)\n",
    "    \n",
    "    \n",
    "    print(processed.koi_disposition.value_counts())\n",
    "\n",
    "    #combine confirmed and candidate\n",
    "    #using 0 and 1 in front of name to force positive class to be planets\n",
    "    processed.replace({'koi_disposition':\n",
    "                       {'CANDIDATE':'1-CONFIRMED','CONFIRMED':'1-CONFIRMED','FALSE POSITIVE':'0-FALSE POSITIVE'}},\n",
    "                      inplace=True)\n",
    "\n",
    "    print(processed.koi_disposition.value_counts())\n",
    "    print('Baseline accuracy:', processed[processed.koi_disposition=='0-FALSE POSITIVE'].shape[0]/processed.shape[0])\n",
    "\n",
    "    \n",
    "    LOCAL='localbinned_df.csv'\n",
    "    GLOBAL='globalbinned_df.csv'\n",
    "    x_local=pd.read_csv(os.path.join(PROCESSED_DATA_DIR,LOCAL))\n",
    "    x_global=pd.read_csv(os.path.join(PROCESSED_DATA_DIR,GLOBAL))\n",
    "    print(x_local.shape)\n",
    "    print(x_global.shape)\n",
    "    \n",
    "    \n",
    "    #add kepid and tce_plnt_number to x\n",
    "    tce_id=pd.DataFrame()\n",
    "    tce_id['kepid']=processed.kepid.astype('int')\n",
    "    tce_id['tce_plnt_num']=processed.tce_plnt_num.astype('int')\n",
    "    tce_id['koi_disposition']=processed.koi_disposition\n",
    "    \n",
    "    #turn into numpy arrays/series\n",
    "    x_local=x_local.to_numpy()\n",
    "    x_global=x_global.to_numpy()\n",
    "    print(x_local.shape)\n",
    "    print(x_global.shape)\n",
    "    \n",
    "    #can print out charts\n",
    "    tce_number=3\n",
    "    chart_curves(tce_id.kepid[tce_number],\n",
    "                 tce_id.tce_plnt_num[tce_number],\n",
    "                 x_global[tce_number],\n",
    "                 x_local[tce_number],\n",
    "                 tce_id.koi_disposition[tce_number])\n",
    "    #Conv1D layers take in tensors of dimension (length of vector = 201 or 2001, and dimensions of vector=1)\n",
    "    #So as with Conv2D in BW where need to add a color dimension here have to specify that there is only one\n",
    "    #dimension in each vector\n",
    "    x_local=np.expand_dims(x_local,axis=2)\n",
    "    x_global=np.expand_dims(x_global,axis=2)\n",
    "\n",
    "    print(x_local.shape)\n",
    "    print(x_global.shape)\n",
    "    \n",
    "    #turn output into categorical variable with encoding\n",
    "    Y=processed.koi_disposition\n",
    "    le=LabelEncoder()\n",
    "    le.fit(['1-CONFIRMED','0-FALSE POSITIVE'])\n",
    "    Y=le.transform(Y)\n",
    "    \n",
    "    x_local_train, x_local_val, x_global_train, x_global_val, Y_train, Y_val,tce_id_train,tce_id_val = train_test_split(\n",
    "    x_local,x_global, Y,tce_id, test_size=0.2)\n",
    "\n",
    "\n",
    "    return (x_local_train, x_local_val, x_global_train, x_global_val, Y_train, Y_val,tce_id_train,tce_id_val)\n",
    "\n",
    "\n",
    "x_local_train, x_local_val, x_global_train, x_global_val, Y_train, Y_val,tce_id_train,tce_id_val=get_data()   \n",
    "print(x_local_train.shape)\n",
    "print(x_global_train.shape)\n",
    "print(Y_train.shape)\n",
    "print(tce_id_train.shape)\n",
    "print(x_local_val.shape)\n",
    "print(x_global_val.shape)\n",
    "print(Y_val.shape)\n",
    "print(tce_id_val.shape)\n",
    "    \n",
    "    "
   ]
  },
  {
   "cell_type": "code",
   "execution_count": 6,
   "metadata": {},
   "outputs": [],
   "source": [
    "#revised for keras-tuner\n",
    "#model making that allows keras-tuner hyperparameter optimization to be run\n",
    "\n",
    "def make_cnn_model(hp):\n",
    "    #model = Sequential()   \n",
    "    \n",
    "    \n",
    "    input_local = tf.keras.layers.Input(shape=[x_local_train.shape[1],1])\n",
    "    input_global=tf.keras.layers.Input(shape=[x_global_train.shape[1],1])\n",
    "    \n",
    "    first_global_cnn_filters=hp.Int('first_global_cnn_filters',min_value=8,max_value=32,step=8)\n",
    "    further_global_cnn_filters=hp.Int('further_global_cnn_filters',min_value=16,max_value=128, step=16)\n",
    "    cnn_global_kernel=hp.Int('cnn_global_kernel',min_value=3,max_value=9,step=2)\n",
    "    cnn_global_maxpool=hp.Int('cnn_global_maxpool',min_value=3,max_value=7,step=2)\n",
    "    cnn_global_stride=hp.Int('cnn_global_stride',min_value=1,max_value=3,step=1)\n",
    "    \n",
    "    first_local_cnn_filters=hp.Int('first_local_cnn_filters',min_value=8,max_value=32,step=8)\n",
    "    further_local_cnn_filters=hp.Int('further_local_cnn_filters',min_value=16,max_value=128, step=16)\n",
    "    cnn_local_kernel=hp.Int('cnn_local_kernel',min_value=3,max_value=9,step=2)\n",
    "    cnn_local_maxpool=hp.Int('cnn_local_maxpool',min_value=3,max_value=9,step=2)\n",
    "    cnn_local_stride=hp.Int('cnn_local_stride',min_value=1,max_value=3,step=1)   \n",
    "    \n",
    "    cnn_activation=hp.Choice('cnn_activation',values=['relu'])#,'PReLU()'])\n",
    "    \n",
    "    \n",
    "    #first global cnn\n",
    "    k_global=tf.keras.layers.Conv1D(filters=first_global_cnn_filters,\n",
    "                                    kernel_size=cnn_global_kernel,\n",
    "                                    activation=cnn_activation)(input_global)\n",
    "    \n",
    "    k_global=tf.keras.layers.MaxPooling1D(pool_size=cnn_global_maxpool,\n",
    "                                              strides=cnn_global_stride,padding='same')(k_global)\n",
    "    \n",
    "    #first local cnn\n",
    "    k_local=tf.keras.layers.Conv1D(filters=first_local_cnn_filters,\n",
    "                                    kernel_size=cnn_local_kernel,\n",
    "                                    activation=cnn_activation)(input_local)\n",
    "    \n",
    "    k_local=tf.keras.layers.MaxPooling1D(pool_size=cnn_local_maxpool,\n",
    "                                              strides=cnn_local_stride,padding='same')(k_local)\n",
    "    \n",
    "    \n",
    "    \n",
    "    further_global_cnn_layers=hp.Int('further_global_cnn_layers',min_value=1,max_value=4,step=1)\n",
    "    further_local_cnn_layers=hp.Int('further_global_cnn_layers',min_value=1,max_value=4,step=1)\n",
    "    \n",
    "    for i in range(further_global_cnn_layers):\n",
    "        k_global=tf.keras.layers.Conv1D(filters=further_global_cnn_filters,\n",
    "                                    kernel_size=cnn_global_kernel,\n",
    "                                    activation=cnn_activation)(k_global)\n",
    "        k_global=tf.keras.layers.MaxPooling1D(pool_size=cnn_global_maxpool,\n",
    "                                              strides=cnn_global_stride,padding='same')(k_global)\n",
    "    \n",
    "    for i in range(further_local_cnn_layers):\n",
    "        k_local=tf.keras.layers.Conv1D(filters=further_local_cnn_filters,\n",
    "                                    kernel_size=cnn_local_kernel,\n",
    "                                    activation=cnn_activation)(k_local)\n",
    "        k_local=tf.keras.layers.MaxPooling1D(pool_size=cnn_local_maxpool,\n",
    "                                              strides=cnn_local_stride,padding='same')(k_local)\n",
    "        \n",
    "    #flatten and concatenate\n",
    "    k_global=tf.keras.layers.Flatten()(k_global)\n",
    "    k_local=tf.keras.layers.Flatten()(k_local)\n",
    "    k = tf.keras.layers.concatenate([k_local, k_global])\n",
    "    \n",
    "    \n",
    "    number_of_dense_layers=hp.Int('number_of_dense_layers',min_value=2,max_value=5,step=1)\n",
    "    size_of_dense_layers=hp.Int('size_of_dense_layers',min_value=64, max_value=512, step=64)\n",
    "    dense_activation=hp.Choice('dense_activation',values=['relu'])#,'PReLU()'])\n",
    "    dense_dropout=hp.Choice('dense_dropout',values=[0.0,.2,.5])\n",
    "    \n",
    "    #now add dense layers\n",
    "    for i in range(number_of_dense_layers):\n",
    "        k=tf.keras.layers.Dense(size_of_dense_layers,activation=dense_activation)(k)\n",
    "        k=tf.keras.layers.Dropout(dense_dropout)(k)\n",
    "    \n",
    "    #output layer        \n",
    "    output=tf.keras.layers.Dense(1,activation='sigmoid')(k)\n",
    "\n",
    "    model=tf.keras.Model(inputs=[input_local,input_global],outputs=output)\n",
    "\n",
    "    learning_rate=hp.Choice('learning_rate',values=[1e-2,1e-3,1e-4])\n",
    "    \n",
    "    model.compile(loss=tf.keras.losses.BinaryCrossentropy()\n",
    "                  ,optimizer=tf.keras.optimizers.Adam(learning_rate),\n",
    "                  metrics=METRICS)\n",
    "    return model"
   ]
  },
  {
   "cell_type": "code",
   "execution_count": null,
   "metadata": {},
   "outputs": [
    {
     "name": "stdout",
     "output_type": "stream",
     "text": [
      "INFO:tensorflow:Reloading Oracle from existing project hyper/w2p/oracle.json\n",
      "Epoch 1/2\n",
      " 50/840 [>.............................] - ETA: 0s - loss: 0.6856 - tp: 0.0000e+00 - fp: 1.0000 - tn: 27.0000 - fn: 4.0000 - accuracy: 0.8438 - precision: 0.0000e+00 - recall: 0.0000e+00 - auc: 0.39 - ETA: 2:42 - loss: 119.8221 - tp: 0.0000e+00 - fp: 1.0000 - tn: 52.0000 - fn: 11.0000 - accuracy: 0.8125 - precision: 0.0000e+00 - recall: 0.0000e+00 - auc: 0.397 - ETA: 3:52 - loss: 80.8786 - tp: 0.0000e+00 - fp: 1.0000 - tn: 78.0000 - fn: 17.0000 - accuracy: 0.8125 - precision: 0.0000e+00 - recall: 0.0000e+00 - auc: 0.421 - ETA: 4:24 - loss: 60.7497 - tp: 0.0000e+00 - fp: 1.0000 - tn: 106.0000 - fn: 21.0000 - accuracy: 0.8281 - precision: 0.0000e+00 - recall: 0.0000e+00 - auc: 0.434 - ETA: 4:35 - loss: 48.6783 - tp: 0.0000e+00 - fp: 1.0000 - tn: 135.0000 - fn: 24.0000 - accuracy: 0.8438 - precision: 0.0000e+00 - recall: 0.0000e+00 - auc: 0.437 - ETA: 4:41 - loss: 40.9399 - tp: 0.0000e+00 - fp: 1.0000 - tn: 159.0000 - fn: 32.0000 - accuracy: 0.8281 - precision: 0.0000e+00 - recall: 0.0000e+00 - auc: 0.423 - ETA: 4:47 - loss: 35.1147 - tp: 0.0000e+00 - fp: 1.0000 - tn: 190.0000 - fn: 33.0000 - accuracy: 0.8482 - precision: 0.0000e+00 - recall: 0.0000e+00 - auc: 0.416 - ETA: 4:51 - loss: 30.7801 - tp: 0.0000e+00 - fp: 1.0000 - tn: 215.0000 - fn: 40.0000 - accuracy: 0.8398 - precision: 0.0000e+00 - recall: 0.0000e+00 - auc: 0.469 - ETA: 4:54 - loss: 27.4221 - tp: 0.0000e+00 - fp: 1.0000 - tn: 238.0000 - fn: 49.0000 - accuracy: 0.8264 - precision: 0.0000e+00 - recall: 0.0000e+00 - auc: 0.516 - ETA: 4:57 - loss: 24.7116 - tp: 0.0000e+00 - fp: 1.0000 - tn: 266.0000 - fn: 53.0000 - accuracy: 0.8313 - precision: 0.0000e+00 - recall: 0.0000e+00 - auc: 0.535 - ETA: 5:00 - loss: 22.4851 - tp: 0.0000e+00 - fp: 1.0000 - tn: 295.0000 - fn: 56.0000 - accuracy: 0.8381 - precision: 0.0000e+00 - recall: 0.0000e+00 - auc: 0.552 - ETA: 5:02 - loss: 20.6389 - tp: 0.0000e+00 - fp: 1.0000 - tn: 323.0000 - fn: 60.0000 - accuracy: 0.8411 - precision: 0.0000e+00 - recall: 0.0000e+00 - auc: 0.567 - ETA: 5:03 - loss: 19.0786 - tp: 0.0000e+00 - fp: 1.0000 - tn: 350.0000 - fn: 65.0000 - accuracy: 0.8413 - precision: 0.0000e+00 - recall: 0.0000e+00 - auc: 0.581 - ETA: 5:04 - loss: 17.7366 - tp: 0.0000e+00 - fp: 1.0000 - tn: 379.0000 - fn: 68.0000 - accuracy: 0.8460 - precision: 0.0000e+00 - recall: 0.0000e+00 - auc: 0.587 - ETA: 5:05 - loss: 16.5751 - tp: 0.0000e+00 - fp: 1.0000 - tn: 408.0000 - fn: 71.0000 - accuracy: 0.8500 - precision: 0.0000e+00 - recall: 0.0000e+00 - auc: 0.592 - ETA: 5:06 - loss: 15.5625 - tp: 0.0000e+00 - fp: 1.0000 - tn: 434.0000 - fn: 77.0000 - accuracy: 0.8477 - precision: 0.0000e+00 - recall: 0.0000e+00 - auc: 0.607 - ETA: 5:06 - loss: 14.6601 - tp: 0.0000e+00 - fp: 1.0000 - tn: 463.0000 - fn: 80.0000 - accuracy: 0.8511 - precision: 0.0000e+00 - recall: 0.0000e+00 - auc: 0.617 - ETA: 5:07 - loss: 13.8611 - tp: 0.0000e+00 - fp: 1.0000 - tn: 490.0000 - fn: 85.0000 - accuracy: 0.8507 - precision: 0.0000e+00 - recall: 0.0000e+00 - auc: 0.634 - ETA: 5:07 - loss: 13.1415 - tp: 0.0000e+00 - fp: 1.0000 - tn: 520.0000 - fn: 87.0000 - accuracy: 0.8553 - precision: 0.0000e+00 - recall: 0.0000e+00 - auc: 0.642 - ETA: 5:08 - loss: 12.4959 - tp: 0.0000e+00 - fp: 1.0000 - tn: 549.0000 - fn: 90.0000 - accuracy: 0.8578 - precision: 0.0000e+00 - recall: 0.0000e+00 - auc: 0.651 - ETA: 5:08 - loss: 11.9144 - tp: 0.0000e+00 - fp: 1.0000 - tn: 576.0000 - fn: 95.0000 - accuracy: 0.8571 - precision: 0.0000e+00 - recall: 0.0000e+00 - auc: 0.663 - ETA: 5:08 - loss: 11.3828 - tp: 0.0000e+00 - fp: 1.0000 - tn: 604.0000 - fn: 99.0000 - accuracy: 0.8580 - precision: 0.0000e+00 - recall: 0.0000e+00 - auc: 0.675 - ETA: 5:09 - loss: 10.8985 - tp: 0.0000e+00 - fp: 1.0000 - tn: 632.0000 - fn: 103.0000 - accuracy: 0.8587 - precision: 0.0000e+00 - recall: 0.0000e+00 - auc: 0.68 - ETA: 5:09 - loss: 10.4557 - tp: 0.0000e+00 - fp: 1.0000 - tn: 659.0000 - fn: 108.0000 - accuracy: 0.8581 - precision: 0.0000e+00 - recall: 0.0000e+00 - auc: 0.69 - ETA: 5:09 - loss: 10.0487 - tp: 0.0000e+00 - fp: 1.0000 - tn: 685.0000 - fn: 114.0000 - accuracy: 0.8562 - precision: 0.0000e+00 - recall: 0.0000e+00 - auc: 0.70 - ETA: 5:10 - loss: 9.6727 - tp: 0.0000e+00 - fp: 1.0000 - tn: 711.0000 - fn: 120.0000 - accuracy: 0.8546 - precision: 0.0000e+00 - recall: 0.0000e+00 - auc: 0.7157 - ETA: 5:09 - loss: 9.3209 - tp: 0.0000e+00 - fp: 1.0000 - tn: 741.0000 - fn: 122.0000 - accuracy: 0.8576 - precision: 0.0000e+00 - recall: 0.0000e+00 - auc: 0.719 - ETA: 5:09 - loss: 8.9937 - tp: 0.0000e+00 - fp: 1.0000 - tn: 771.0000 - fn: 124.0000 - accuracy: 0.8605 - precision: 0.0000e+00 - recall: 0.0000e+00 - auc: 0.724 - ETA: 5:08 - loss: 8.6964 - tp: 0.0000e+00 - fp: 1.0000 - tn: 797.0000 - fn: 130.0000 - accuracy: 0.8588 - precision: 0.0000e+00 - recall: 0.0000e+00 - auc: 0.728 - ETA: 5:08 - loss: 8.4144 - tp: 0.0000e+00 - fp: 1.0000 - tn: 826.0000 - fn: 133.0000 - accuracy: 0.8604 - precision: 0.0000e+00 - recall: 0.0000e+00 - auc: 0.732 - ETA: 5:08 - loss: 8.1737 - tp: 0.0000e+00 - fp: 1.0000 - tn: 856.0000 - fn: 135.0000 - accuracy: 0.8629 - precision: 0.0000e+00 - recall: 0.0000e+00 - auc: 0.730 - ETA: 5:08 - loss: 7.9362 - tp: 0.0000e+00 - fp: 1.0000 - tn: 883.0000 - fn: 140.0000 - accuracy: 0.8623 - precision: 0.0000e+00 - recall: 0.0000e+00 - auc: 0.729 - ETA: 5:08 - loss: 7.7129 - tp: 0.0000e+00 - fp: 1.0000 - tn: 912.0000 - fn: 143.0000 - accuracy: 0.8636 - precision: 0.0000e+00 - recall: 0.0000e+00 - auc: 0.718 - ETA: 5:08 - loss: 7.5031 - tp: 0.0000e+00 - fp: 1.0000 - tn: 943.0000 - fn: 144.0000 - accuracy: 0.8667 - precision: 0.0000e+00 - recall: 0.0000e+00 - auc: 0.701 - ETA: 5:09 - loss: 7.3056 - tp: 0.0000e+00 - fp: 1.0000 - tn: 972.0000 - fn: 147.0000 - accuracy: 0.8679 - precision: 0.0000e+00 - recall: 0.0000e+00 - auc: 0.690 - ETA: 5:09 - loss: 7.1190 - tp: 0.0000e+00 - fp: 1.0000 - tn: 998.0000 - fn: 153.0000 - accuracy: 0.8663 - precision: 0.0000e+00 - recall: 0.0000e+00 - auc: 0.688 - ETA: 5:09 - loss: 6.9423 - tp: 0.0000e+00 - fp: 1.0000 - tn: 1028.0000 - fn: 155.0000 - accuracy: 0.8682 - precision: 0.0000e+00 - recall: 0.0000e+00 - auc: 0.67 - ETA: 5:09 - loss: 6.7744 - tp: 0.0000e+00 - fp: 1.0000 - tn: 1055.0000 - fn: 160.0000 - accuracy: 0.8676 - precision: 0.0000e+00 - recall: 0.0000e+00 - auc: 0.67 - ETA: 5:09 - loss: 6.6128 - tp: 0.0000e+00 - fp: 1.0000 - tn: 1085.0000 - fn: 162.0000 - accuracy: 0.8694 - precision: 0.0000e+00 - recall: 0.0000e+00 - auc: 0.67 - ETA: 5:09 - loss: 6.4582 - tp: 0.0000e+00 - fp: 1.0000 - tn: 1113.0000 - fn: 166.0000 - accuracy: 0.8695 - precision: 0.0000e+00 - recall: 0.0000e+00 - auc: 0.67 - ETA: 5:09 - loss: 6.3122 - tp: 0.0000e+00 - fp: 1.0000 - tn: 1138.0000 - fn: 173.0000 - accuracy: 0.8674 - precision: 0.0000e+00 - recall: 0.0000e+00 - auc: 0.67 - ETA: 5:08 - loss: 6.1706 - tp: 0.0000e+00 - fp: 1.0000 - tn: 1166.0000 - fn: 177.0000 - accuracy: 0.8676 - precision: 0.0000e+00 - recall: 0.0000e+00 - auc: 0.67 - ETA: 5:08 - loss: 6.0371 - tp: 0.0000e+00 - fp: 1.0000 - tn: 1193.0000 - fn: 182.0000 - accuracy: 0.8670 - precision: 0.0000e+00 - recall: 0.0000e+00 - auc: 0.67 - ETA: 5:07 - loss: 5.9030 - tp: 0.0000e+00 - fp: 1.0000 - tn: 1224.0000 - fn: 183.0000 - accuracy: 0.8693 - precision: 0.0000e+00 - recall: 0.0000e+00 - auc: 0.67 - ETA: 5:07 - loss: 5.7765 - tp: 0.0000e+00 - fp: 1.0000 - tn: 1254.0000 - fn: 185.0000 - accuracy: 0.8708 - precision: 0.0000e+00 - recall: 0.0000e+00 - auc: 0.67 - ETA: 5:07 - loss: 5.6644 - tp: 0.0000e+00 - fp: 1.0000 - tn: 1280.0000 - fn: 191.0000 - accuracy: 0.8696 - precision: 0.0000e+00 - recall: 0.0000e+00 - auc: 0.67 - ETA: 5:06 - loss: 5.5488 - tp: 0.0000e+00 - fp: 1.0000 - tn: 1310.0000 - fn: 193.0000 - accuracy: 0.8710 - precision: 0.0000e+00 - recall: 0.0000e+00 - auc: 0.67 - ETA: 5:06 - loss: 5.4432 - tp: 0.0000e+00 - fp: 1.0000 - tn: 1337.0000 - fn: 198.0000 - accuracy: 0.8704 - precision: 0.0000e+00 - recall: 0.0000e+00 - auc: 0.67 - ETA: 5:06 - loss: 5.3370 - tp: 0.0000e+00 - fp: 1.0000 - tn: 1367.0000 - fn: 200.0000 - accuracy: 0.8718 - precision: 0.0000e+00 - recall: 0.0000e+00 - auc: 0.67 - ETA: 5:05 - loss: 5.2376 - tp: 0.0000e+00 - fp: 1.0000 - tn: 1395.0000 - fn: 204.0000 - accuracy: 0.8719 - precision: 0.0000e+00 - recall: 0.0000e+00 - auc: 0.6720"
     ]
    }
   ],
   "source": [
    "#may need to delete directory so doesn't reload?\n",
    "tuner = kt.Hyperband(make_cnn_model,\n",
    "                     kt.Objective(\"val_auc\", direction=\"min\"), \n",
    "                     max_epochs = 15,\n",
    "                     factor = 3,\n",
    "                     directory = 'hyper',\n",
    "                     project_name = 'w2p')     \n",
    "\n",
    "class ClearTrainingOutput(tf.keras.callbacks.Callback):\n",
    "  def on_train_end(*args, **kwargs):\n",
    "    IPython.display.clear_output(wait = True)\n",
    "    \n",
    "tf.keras.backend.clear_session()\n",
    "tuner.search([x_local_train,x_global_train],\n",
    "             Y_train,\n",
    "             epochs = 10, \n",
    "             validation_data=([x_local_val,x_global_val],Y_val),\n",
    "             callbacks = [ClearTrainingOutput()])\n",
    "\n",
    "# Get the optimal hyperparameters\n",
    "best_hps = tuner.get_best_hyperparameters(num_trials = 1)[0]\n",
    "\n",
    "#print(f\"\"\"\n",
    "#The hyperparameter search is complete. The optimal number of units in the first densely-connected\n",
    "#layer is {best_hps.get('units')} and the optimal learning rate for the optimizer\n",
    "#is {best_hps.get('learning_rate')}.\n",
    "#\"\"\")"
   ]
  },
  {
   "cell_type": "code",
   "execution_count": null,
   "metadata": {},
   "outputs": [],
   "source": []
  },
  {
   "cell_type": "code",
   "execution_count": null,
   "metadata": {},
   "outputs": [],
   "source": []
  },
  {
   "cell_type": "code",
   "execution_count": null,
   "metadata": {},
   "outputs": [],
   "source": []
  },
  {
   "cell_type": "markdown",
   "metadata": {},
   "source": [
    "#### Model utility functions"
   ]
  },
  {
   "cell_type": "code",
   "execution_count": null,
   "metadata": {},
   "outputs": [],
   "source": [
    "#graphical evaluation of model\n",
    "\n",
    "val_predictions_baseline = model.predict([x_local_val,x_global_val], batch_size=BATCH_SIZE)\n",
    "train_predictions_baseline = model.predict([x_local_train,x_global_train], batch_size=BATCH_SIZE)\n",
    "\n",
    "plot_metrics(history)\n",
    "\n",
    "plot_cm(Y_val, val_predictions_baseline,p=.6)\n",
    "plot_cm(Y_val, val_predictions_baseline)\n",
    "plot_cm(Y_val, val_predictions_baseline,p=.4)\n",
    "\n",
    "\n",
    "plot_roc(\"Train Baseline\", Y_train, train_predictions_baseline, color=colors[0])\n",
    "plot_roc(\"Test Baseline\", Y_val, val_predictions_baseline, color=colors[0], linestyle='--')\n",
    "plt.legend(loc='lower right')"
   ]
  },
  {
   "cell_type": "code",
   "execution_count": null,
   "metadata": {},
   "outputs": [],
   "source": [
    "model = tf.keras.models.load_model(os.path.join(MODEL_DIR,'normal_model'))\n",
    "model.summary()"
   ]
  },
  {
   "cell_type": "code",
   "execution_count": null,
   "metadata": {},
   "outputs": [],
   "source": [
    "model.save(os.path.join(MODEL_DIR,'normal_model'))"
   ]
  },
  {
   "cell_type": "code",
   "execution_count": null,
   "metadata": {},
   "outputs": [],
   "source": [
    "tf.keras.utils.plot_model(\n",
    "    model, to_file=os.path.join(MODEL_DIR,'model.png'), show_shapes=True, show_layer_names=True,\n",
    "    rankdir='TB', expand_nested=True, dpi=96\n",
    ")"
   ]
  },
  {
   "cell_type": "markdown",
   "metadata": {},
   "source": [
    "#### Model setup work"
   ]
  },
  {
   "cell_type": "code",
   "execution_count": null,
   "metadata": {},
   "outputs": [],
   "source": [
    "#work on setting initial bias\n",
    "tf.keras.backend.clear_session()\n",
    "model=make_model()\n",
    "model.predict([x_local_train[:10],x_global_train[:10]])\n",
    "results = model.evaluate([x_local_train,x_global_train],Y_train, batch_size=BATCH_SIZE, verbose=1)\n",
    "print(\"Loss: {:0.4f}\".format(results[0]))\n",
    "neg, pos = np.bincount(Y)\n",
    "total = neg + pos\n",
    "print(neg,pos,total)\n",
    "initial_bias=np.log([pos/neg])\n",
    "print(initial_bias)\n",
    "model = make_model(output_bias = initial_bias)\n",
    "model.predict([x_local_train[:10],x_global_train[:10]])\n",
    "results = model.evaluate([x_local_train,x_global_train],Y_train, batch_size=BATCH_SIZE, verbose=1)\n",
    "print(\"Loss: {:0.4f}\".format(results[0]))\n",
    "\n",
    "initial_weights = os.path.join(MODEL_DIR,'initial_weights')\n",
    "model.save_weights(initial_weights)"
   ]
  },
  {
   "cell_type": "markdown",
   "metadata": {},
   "source": [
    "#### Train model"
   ]
  },
  {
   "cell_type": "code",
   "execution_count": null,
   "metadata": {},
   "outputs": [],
   "source": [
    "early_stopping = tf.keras.callbacks.EarlyStopping(\n",
    "    monitor='val_accuracy', \n",
    "    verbose=1,\n",
    "    patience=5,\n",
    "    mode='max',\n",
    "    restore_best_weights=True)"
   ]
  },
  {
   "cell_type": "code",
   "execution_count": null,
   "metadata": {},
   "outputs": [],
   "source": [
    "tf.keras.backend.clear_session()\n",
    "model=make_model()\n",
    "model.load_weights(initial_weights)\n",
    "\n",
    "#history=model.fit([x_local_train,x_global_train],\n",
    "#                  Y_train,\n",
    "#                  validation_data=([x_local_val,x_global_val],Y_val),\n",
    "#                  steps_per_epoch=25,\n",
    "#                  epochs=EPOCHS*20,\n",
    "#                  callbacks=[early_stopping],\n",
    "#                  verbose=1)\n",
    "\n",
    "EPOCHS=20\n",
    "\n",
    "history=model.fit([x_local_train,x_global_train],\n",
    "                  Y_train,\n",
    "                  validation_data=([x_local_val,x_global_val],Y_val),\n",
    "                  batch_size=BATCH_SIZE,\n",
    "                  epochs=EPOCHS,\n",
    "                  callbacks=[early_stopping],\n",
    "                  verbose=1)\n",
    "\n"
   ]
  },
  {
   "cell_type": "markdown",
   "metadata": {},
   "source": [
    "#### Parameter search using RandomizedSearchCV"
   ]
  },
  {
   "cell_type": "code",
   "execution_count": null,
   "metadata": {},
   "outputs": [],
   "source": [
    "cnn_global_filters_opts=[[16,32,64,128,256],[16,32],[32,64,128]]\n",
    "cnn_global_kernel_opts=[5,2,3,7]\n",
    "cnn_global_maxpool_window_opts=[3,5,7]\n",
    "cnn_global_maxpool_stride_opts=[1,2,3]\n",
    "cnn_local_filters_opts=[[16,32],[8,16,32],[8,16,32,64]]\n",
    "cnn_local_kernel_opts=[5,2,3,7]\n",
    "cnn_local_maxpool_window_opts=[5,7,9]\n",
    "cnn_local_maxpool_stride_opts=[1,2,3]\n",
    "fc_dropout_rate_opts  = [0, 0.2, 0.5]\n",
    "fc_layers_opts = [[64, 64, 64, 64], [128, 128, 128], [512,512,512,512],[256,256,256]]\n",
    "l2_penalty_opts = [0.01, 0.1, 0.5]\n",
    "activation_opts=['relu','prelu']\n",
    "optimizer_opts=['adam']\n",
    "epochs_opts=[10,15,20]\n",
    "batch_size_opts=[64,96,128]\n",
    "\n",
    "\n",
    "keras_param_options = {\n",
    "    'cnn_global_filters':cnn_global_filters_opts,\n",
    "    'cnn_global_kernel':cnn_global_kernel_opts,\n",
    "    'cnn_global_maxpool_window':cnn_global_maxpool_window_opts,\n",
    "    'cnn_global_maxpool_stride':cnn_global_maxpool_stride_opts,\n",
    "    'cnn_local_filters':cnn_local_filters_opts,\n",
    "    'cnn_local_kernel':cnn_local_kernel_opts,\n",
    "    'cnn_local_maxpool_window':cnn_local_maxpool_window_opts,\n",
    "    'cnn_local_maxpool_stride':cnn_local_maxpool_stride_opts,\n",
    "    'fc_layers': fc_layers_opts,\n",
    "    'fc_dropout_rate':fc_dropout_rate_opts,\n",
    "    'l2_penalty': l2_penalty_opts,\n",
    "    'activation':activation_opts,\n",
    "    'optimizer':optimizer_opts,\n",
    "    'epochs':epochs_opts,\n",
    "    'batch_size':batch_size_opts\n",
    "}\n",
    "\n",
    "def make_cnn_model(param)\n",
    "    model = Sequential()   \n",
    "    \n",
    "    \n",
    "    input_local = tf.keras.layers.Input(shape=[x_local.shape[1],1])\n",
    "    input_global=tf.keras.layers.Input(shape=[x_global.shape[1],1])\n",
    "    \n",
    "    #combi_input = tf.keras.layers.Input((2,)) # (None, 3)\n",
    "    #input_local = Lambda(lambda x: tf.expand_dims(x[:,0],-1))(combi_input) # (None, 1) \n",
    "    #input_global = Lambda(lambda x: tf.expand_dims(x[:,1],-1))(combi_input) # (None, 1)\n",
    "    \n",
    "    \n",
    "    \n",
    "    #build global branch\n",
    "    for index, filters in enumerate(cnn_global_filters):       \n",
    "        if not index:\n",
    "            k_global=tf.keras.layers.Conv1D(filters=filters,\n",
    "                                            kernel_size=cnn_global_kernel,\n",
    "                                            activation=activation)(input_global)\n",
    "        else:\n",
    "            k_global=tf.keras.layers.Conv1D(filters=filters,\n",
    "                                            kernel_size=cnn_global_kernel,\n",
    "                                            activation=activation)(k_global)\n",
    "        \n",
    "        k_global=tf.keras.layers.MaxPooling1D(pool_size=cnn_global_window,\n",
    "                                              strides=cnn_global_stride,padding='same')(k_global)\n",
    "    \n",
    "    #build local branch\n",
    "    for index, filters in enumerate(cnn_local_filters):       \n",
    "        if not index:\n",
    "            k_local=tf.keras.layers.Conv1D(filters=filters,\n",
    "                                            kernel_size=cnn_local_kernel,\n",
    "                                            activation=activation)(input_local)\n",
    "        else:\n",
    "            k_local=tf.keras.layers.Conv1D(filters=filters,\n",
    "                                            kernel_size=cnn_local_kernel,\n",
    "                                            activation=activation)(k_local)\n",
    "        \n",
    "        k_local=tf.keras.layers.MaxPooling1D(pool_size=cnn_local_window,\n",
    "                                              strides=cnn_local_stride,padding='same')(k_local)\n",
    "    #flatten and concatenate\n",
    "    k_global=tf.keras.layers.Flatten()(k_global)\n",
    "    k_local=tf.keras.layers.Flatten()(k_local)\n",
    "    k = tf.keras.layers.concatenate([k_local, k_global])\n",
    "    \n",
    "    #now add dense layers\n",
    "    for fc_layer in fc_layers:\n",
    "            k=tf.keras.layers.Dense(fc_layer,activation=activation)(k)\n",
    "            k=tf.keras.layers.Dropout(fc_dropout_rate)(k)\n",
    "    \n",
    "    #output layer        \n",
    "    output=tf.keras.layers.Dense(1,activation='sigmoid')(k)\n",
    "\n",
    "    model=tf.keras.Model(inputs=[input_local,input_global],outputs=output)\n",
    "\n",
    "    model.compile(loss=tf.keras.losses.BinaryCrossentropy()\n",
    "                  ,optimizer=optimizer,\n",
    "                  metrics=METRICS)\n",
    "    return model\n",
    "\n",
    "#randomizedsearchcv\n",
    "#but will not take multiple inputs\n",
    "\n",
    "model_keras = tf.keras.wrappers.scikit_learn.KerasClassifier(\n",
    "    build_fn = make_cnn_model\n",
    "    )\n",
    "\n",
    "# specify other extra parameters pass to the .fit\n",
    "# number of epochs is set to a large number, we'll\n",
    "# let early stopping terminate the training process\n",
    "early_stop = tf.keras.callbacks.EarlyStopping(\n",
    "    monitor='val_auc', \n",
    "    verbose=1,\n",
    "    patience=5,\n",
    "    mode='max',\n",
    "    restore_best_weights=True)\n",
    "\n",
    "callbacks = [early_stop]\n",
    "\n",
    "keras_fit_params = {   \n",
    "    'callbacks': callbacks,\n",
    "    'epochs': 20,\n",
    "    'batch_size': 96,\n",
    "    'validation_data': ([x_local_val,x_global_val], Y_val),\n",
    "    'verbose': 1\n",
    "}\n",
    "\n",
    "rs_keras = RandomizedSearchCV( \n",
    "    model_keras, \n",
    "    param_distributions = keras_param_options,\n",
    "    fit_params = keras_fit_params,\n",
    "    scoring = 'neg_log_loss',\n",
    "    n_iter = 3, \n",
    "    cv = 3,\n",
    "    n_jobs = -1,\n",
    "    verbose = 1\n",
    ")\n",
    "\n",
    "\n",
    "combi_input = np.stack([x_local_train, x_global_train], axis=-1)\n",
    "#see https://stackoverflow.com/questions/56824968/grid-search-for-keras-with-multiple-inputs/62512554#62512554\n",
    "rs_keras.fit([x_local_train,x_global_train], Y_train)\n",
    "rs_keras.fit(combi_input, Y_train)\n",
    "\n",
    "#rs_keras.fit([x_local_train,x_global_train],\n",
    "#                  Y_train,\n",
    "#                  validation_data=([x_local_val,x_global_val],Y_val),\n",
    "#                  batch_size=BATCH_SIZE,\n",
    "#                  epochs=EPOCHS,\n",
    "#                  callbacks=[early_stopping],\n",
    "#                  verbose=1)\n",
    "\n",
    "print('Best score obtained: {0}'.format(rs_keras.best_score_))\n",
    "print('Parameters:')\n",
    "for param, value in rs_keras.best_params_.items():\n",
    "    print('\\t{}: {}'.format(param, value))\n",
    "\n",
    "\n"
   ]
  },
  {
   "cell_type": "code",
   "execution_count": null,
   "metadata": {},
   "outputs": [],
   "source": [
    "#tried this - but does not look like takes multiple inputs\n",
    "#keras-hypetune\n",
    "\n",
    "def make_cnn_model(param):\n",
    "    model = Sequential()   \n",
    "    \n",
    "    \n",
    "    input_local = tf.keras.layers.Input(shape=[x_local.shape[1],1])\n",
    "    input_global=tf.keras.layers.Input(shape=[x_global.shape[1],1])\n",
    "    \n",
    "    #combi_input = tf.keras.layers.Input((2,)) # (None, 3)\n",
    "    #input_local = Lambda(lambda x: tf.expand_dims(x[:,0],-1))(combi_input) # (None, 1) \n",
    "    #input_global = Lambda(lambda x: tf.expand_dims(x[:,1],-1))(combi_input) # (None, 1)\n",
    "    \n",
    "    \n",
    "    #build global branch\n",
    "    for index, filters in enumerate(param['cnn_global_filters']):       \n",
    "        if not index:\n",
    "            k_global=tf.keras.layers.Conv1D(filters=filters,\n",
    "                                            kernel_size=param['cnn_global_kernel'],\n",
    "                                            activation=param['activation'])(input_global)\n",
    "        else:\n",
    "            k_global=tf.keras.layers.Conv1D(filters=filters,\n",
    "                                            kernel_size=param['cnn_global_kernel'],\n",
    "                                            activation=param['activation'])(k_global)\n",
    "        \n",
    "        k_global=tf.keras.layers.MaxPooling1D(pool_size=param['cnn_global_window'],\n",
    "                                              strides=param['cnn_global_stride'],padding='same')(k_global)\n",
    "    \n",
    "    #build local branch\n",
    "    for index, filters in enumerate(param['cnn_local_filters']):       \n",
    "        if not index:\n",
    "            k_local=tf.keras.layers.Conv1D(filters=filters,\n",
    "                                            kernel_size=param['cnn_local_kernel'],\n",
    "                                            activation=param['activation'])(input_local)\n",
    "        else:\n",
    "            k_local=tf.keras.layers.Conv1D(filters=filters,\n",
    "                                            kernel_size=param['cnn_local_kernel'],\n",
    "                                            activation=param['activation'])(k_local)\n",
    "        \n",
    "        k_local=tf.keras.layers.MaxPooling1D(pool_size=param['cnn_local_window'],\n",
    "                                              strides=param['cnn_local_stride'],padding='same')(k_local)\n",
    "    #flatten and concatenate\n",
    "    k_global=tf.keras.layers.Flatten()(k_global)\n",
    "    k_local=tf.keras.layers.Flatten()(k_local)\n",
    "    k = tf.keras.layers.concatenate([k_local, k_global])\n",
    "    \n",
    "    #now add dense layers\n",
    "    for fc_layer in param['fc_layers']:\n",
    "            k=tf.keras.layers.Dense(fc_layer,activation=activation)(k)\n",
    "            k=tf.keras.layers.Dropout(param['fc_dropout_rate'])(k)\n",
    "    \n",
    "    #output layer        \n",
    "    output=tf.keras.layers.Dense(1,activation='sigmoid')(k)\n",
    "\n",
    "    model=tf.keras.Model(inputs=[input_local,input_global],outputs=output)\n",
    "\n",
    "    model.compile(loss=tf.keras.losses.BinaryCrossentropy()\n",
    "                  ,optimizer=optimizer,\n",
    "                  metrics=METRICS)\n",
    "    return model\n",
    "\n",
    "from kerashypetune import KerasRandomSearch\n",
    "\n",
    "\n",
    "cnn_global_filters_opts=[[16,32,64,128,256],[16,32],[32,64,128]]\n",
    "cnn_global_kernel_opts=[5,2,3,7]\n",
    "cnn_global_maxpool_window_opts=[3,5,7]\n",
    "cnn_global_maxpool_stride_opts=[1,2,3]\n",
    "cnn_local_filters_opts=[[16,32],[8,16,32],[8,16,32,64]]\n",
    "cnn_local_kernel_opts=[5,2,3,7]\n",
    "cnn_local_maxpool_window_opts=[5,7,9]\n",
    "cnn_local_maxpool_stride_opts=[1,2,3]\n",
    "fc_dropout_rate_opts  = [0, 0.2, 0.5]\n",
    "fc_layers_opts = [[64, 64, 64, 64], [128, 128, 128], [512,512,512,512],[256,256,256]]\n",
    "l2_penalty_opts = [0.01, 0.1, 0.5]\n",
    "activation_opts=['relu','prelu']\n",
    "optimizer_opts=['adam']\n",
    "epochs_opts=[10,15,20]\n",
    "batch_size_opts=[64,96,128]\n",
    "\n",
    "keras_param_options = {\n",
    "    'cnn_global_filters':cnn_global_filters_opts,\n",
    "    'cnn_global_kernel':cnn_global_kernel_opts,\n",
    "    'cnn_global_maxpool_window':cnn_global_maxpool_window_opts,\n",
    "    'cnn_global_maxpool_stride':cnn_global_maxpool_stride_opts,\n",
    "    'cnn_local_filters':cnn_local_filters_opts,\n",
    "    'cnn_local_kernel':cnn_local_kernel_opts,\n",
    "    'cnn_local_maxpool_window':cnn_local_maxpool_window_opts,\n",
    "    'cnn_local_maxpool_stride':cnn_local_maxpool_stride_opts,\n",
    "    'fc_layers': fc_layers_opts,\n",
    "    'fc_dropout_rate':fc_dropout_rate_opts,\n",
    "    'l2_penalty': l2_penalty_opts,\n",
    "    'activation':activation_opts,\n",
    "    'optimizer':optimizer_opts,\n",
    "    'epochs':epochs_opts,\n",
    "    'batch_size':batch_size_opts\n",
    "}\n",
    "\n",
    "\n",
    "krs = KerasRandomSearch(make_cnn_model, \n",
    "                        keras_param_options, \n",
    "                        monitor='val_auc', \n",
    "                        greater_is_better=True, \n",
    "                        n_iter=20, \n",
    "                        sampling_seed=33)\n",
    "\n",
    "krs.search([x_local_train,x_global_train],\n",
    "           Y_train,\n",
    "           validation_data=([x_local_val,x_global_val],Y_val))"
   ]
  },
  {
   "cell_type": "markdown",
   "metadata": {},
   "source": [
    "#### 207 model infrastructure"
   ]
  },
  {
   "cell_type": "code",
   "execution_count": null,
   "metadata": {},
   "outputs": [],
   "source": [
    "parameters={\n",
    "            'cnn':{'alpha':np.linspace(0.0005,1,25),\n",
    "                    'l1_ratio':np.linspace(0.1,1,25)},\n",
    "            }\n",
    "\n",
    "models={\n",
    "        'cnn':cnn_make_model(),\n",
    "       }\n",
    "\n",
    "best_models={}\n",
    "model_scores=[]\n",
    "\n",
    "model='cnn'\n",
    "print('working on '+model+' model')\n",
    "\n",
    "rs_cv_model=RandomizedSearchCV(models[model],parameters[model],\n",
    "                         scoring=\"val_auc\",\n",
    "                         verbose=1,n_iter=20)\n",
    "    \n",
    "rs_cv_model.fit(train_data,train_labels)\n",
    "best_models[model]=rs_cv_model.best_estimator_\n",
    "print (model,'score: ',-rs_cv_model.best_score_)\n",
    "model_scores.append([model,-rs_cv_model.best_score_])\n",
    "\n",
    "print(best_models)\n",
    "print(model_scores)"
   ]
  },
  {
   "cell_type": "markdown",
   "metadata": {},
   "source": [
    "#### Create Disposition Prediction for Entire Dataset"
   ]
  },
  {
   "cell_type": "code",
   "execution_count": null,
   "metadata": {},
   "outputs": [],
   "source": [
    "full_predictions = model.predict([x_local,x_global])\n",
    "full_predictions\n"
   ]
  },
  {
   "cell_type": "code",
   "execution_count": null,
   "metadata": {},
   "outputs": [],
   "source": [
    "print(full_predictions.shape)\n",
    "print(Y.shape)\n",
    "plot_cm(Y, full_predictions)"
   ]
  },
  {
   "cell_type": "code",
   "execution_count": null,
   "metadata": {},
   "outputs": [],
   "source": [
    "processed_final=processed.copy()\n",
    "processed_final['w2p_score']=full_predictions\n",
    "processed_final['w2p_disposition']='FALSE POSITIVE'\n",
    "processed_final.loc[processed_final.w2p_score>=0.5,['w2p_disposition']]='CONFIRMED'\n",
    "processed_final.replace({'koi_disposition':\n",
    "                   {'1-CONFIRMED':'CONFIRMED','0-FALSE POSITIVE':'FALSE POSITIVE'}},\n",
    "                  inplace=True)"
   ]
  },
  {
   "cell_type": "code",
   "execution_count": null,
   "metadata": {},
   "outputs": [],
   "source": [
    "#key columns to compare\n",
    "#koi_disposition\n",
    "#https://exoplanetarchive.ipac.caltech.edu/docs/API_kepcandidate_columns.html\n",
    "#https://exoplanetarchive.ipac.caltech.edu/docs/API_kepcandidate_columns.html (has AV descriptions)\n",
    "#koi_pdisposition and koi_score are ROBOVETTER outcomes (where available)\n",
    "\n",
    "print('w2p_disposition:',processed_final.w2p_disposition.value_counts())\n",
    "print('koi disposition:',processed_final.koi_disposition.value_counts())\n",
    "print('koi pdisposition:',processed_final.koi_pdisposition.value_counts())\n",
    "print('koi pdisposition:',processed_final.koi_pdisposition.value_counts())\n",
    "\n"
   ]
  },
  {
   "cell_type": "code",
   "execution_count": null,
   "metadata": {},
   "outputs": [],
   "source": [
    "#av_pp_pc is posterior probability score from autovetter model (where available).  \n",
    "#Have divided by 100 to make comparable to koi_score\n",
    "#and created a column representing AV disposition / unclear how differs from av_pred_class\n",
    "processed_final.av_vf_pc=processed_final.av_vf_pc/100\n",
    "processed_final['av_disposition']='FALSE POSITIVE'\n",
    "processed_final.loc[processed_final.av_vf_pc>.5,['av_disposition']]='CONFIRMED'\n",
    "print('AV disposition:',processed_final.av_disposition.value_counts())"
   ]
  },
  {
   "cell_type": "code",
   "execution_count": null,
   "metadata": {},
   "outputs": [],
   "source": [
    "#replacing koi_score with zero where NAN.  Only 8000 of TCEs had koi_score and koi_pdisposition (ie robovetter)\n",
    "#same with av_vf_pc\n",
    "processed_final.koi_score.fillna(0,inplace=True)\n",
    "processed_final.av_vf_pc.fillna(0,inplace=True)"
   ]
  },
  {
   "cell_type": "code",
   "execution_count": null,
   "metadata": {},
   "outputs": [],
   "source": [
    "#koi_score is RV monte carlo prob.  koi_pdisposition is some subjective measure beyond RV score\n",
    "processed_final[(processed_final.koi_score>=0.5)&(processed_final.koi_pdisposition=='FALSE POSITIVE')][[\n",
    "    'kepid','tce_plnt_num','koi_disposition','koi_score','koi_pdisposition','w2p_score','w2p_disposition','av_disposition','av_vf_pc']]"
   ]
  },
  {
   "cell_type": "markdown",
   "metadata": {},
   "source": [
    "#### Key column descriptions\n",
    "- koi_disposition:  ground truth\n",
    "- w2p_score: w2p probability\n",
    "- w2p_disposition: w2p disposition\n",
    "- koi_score: robovetter probability\n",
    "- koi_pdisposition: robovetter disposition (though does not exactly match up with koi_score>0.5- unclear why)\n",
    "- av_disposition: autovetter disposition (does not exactly match up with av_vf_pc>0- unclear why)\n",
    "- av_vf_pc: autovetter probability (not posterior)\n",
    "\n",
    "Links for other column descriptions:\n",
    "\n",
    "https://exoplanetarchive.ipac.caltech.edu/docs/API_kepcandidate_columns.html\n",
    "\n",
    "https://exoplanetarchive.ipac.caltech.edu/docs/API_tce_columns.html (has AV descriptions)"
   ]
  },
  {
   "cell_type": "code",
   "execution_count": null,
   "metadata": {},
   "outputs": [],
   "source": [
    "processed_final[[\n",
    "    'kepid','tce_plnt_num','koi_disposition',\n",
    "    'w2p_score','w2p_disposition',\n",
    "    'koi_score','koi_pdisposition',\n",
    "    'av_disposition','av_vf_pc']]"
   ]
  },
  {
   "cell_type": "code",
   "execution_count": null,
   "metadata": {},
   "outputs": [],
   "source": [
    "processed_final.to_csv(os.path.join(PROCESSED_DATA_DIR,'processed_final.csv'),index=False)"
   ]
  },
  {
   "cell_type": "code",
   "execution_count": null,
   "metadata": {},
   "outputs": [],
   "source": []
  },
  {
   "cell_type": "code",
   "execution_count": null,
   "metadata": {},
   "outputs": [],
   "source": [
    "print (processed_final.columns)"
   ]
  },
  {
   "cell_type": "markdown",
   "metadata": {},
   "source": [
    "#### Error Analysis"
   ]
  },
  {
   "cell_type": "code",
   "execution_count": null,
   "metadata": {},
   "outputs": [],
   "source": [
    "val_results=pd.DataFrame({'truth':Y_val, 'prediction':np.squeeze(val_predictions_baseline)})\n",
    "val_results['truth_delta']=val_results.truth-val_results.prediction\n",
    "val_results=val_results.sort_values('truth_delta')"
   ]
  },
  {
   "cell_type": "code",
   "execution_count": null,
   "metadata": {},
   "outputs": [],
   "source": [
    "val_results['result']='True Positive'\n",
    "val_results.loc[val_results.truth_delta<0,'result']='True Negative' #then some get replaced by false positive\n",
    "val_results.loc[val_results.truth_delta<=-0.5,'result']='False Positive'\n",
    "val_results.loc[val_results.truth_delta>=0.5,'result']='False Negative'\n"
   ]
  },
  {
   "cell_type": "code",
   "execution_count": null,
   "metadata": {},
   "outputs": [],
   "source": [
    "val_results.result.value_counts()"
   ]
  },
  {
   "cell_type": "code",
   "execution_count": null,
   "metadata": {},
   "outputs": [],
   "source": [
    "cutoff=.05\n",
    "val_results_mod=val_results[(val_results.truth_delta<-cutoff)|(val_results.truth_delta>cutoff)]\n",
    "import seaborn as sns\n",
    "ax = sns.histplot(data=val_results_mod, x=\"truth_delta\",hue='result').set_title('Distribution of Deltas (excluding vast majority between -.05 and .05)')"
   ]
  },
  {
   "cell_type": "code",
   "execution_count": null,
   "metadata": {},
   "outputs": [],
   "source": [
    "cutoff=.05\n",
    "val_results_mod=val_results[(val_results.prediction>cutoff)]\n",
    "import seaborn as sns\n",
    "ax = sns.histplot(data=val_results_mod, \n",
    "                  x=\"prediction\",\n",
    "                  hue='result',\n",
    "                  multiple='stack',\n",
    "                  bins=30).set_title('Distribution of Validation Set Predictions (excluding true negatives <0.05)')\n",
    "\n",
    "plt.axvline(0.5,0,30)"
   ]
  },
  {
   "cell_type": "code",
   "execution_count": null,
   "metadata": {},
   "outputs": [],
   "source": [
    "false_positives=val_results[val_results.truth_delta<=-.5]\n",
    "print(false_positives.shape)\n",
    "false_positives"
   ]
  },
  {
   "cell_type": "code",
   "execution_count": null,
   "metadata": {},
   "outputs": [],
   "source": [
    "\n",
    "\n",
    "tce_number=835\n",
    "chart(tce_number,tce_id,val_results,x_global_val,x_local_val)\n"
   ]
  },
  {
   "cell_type": "code",
   "execution_count": null,
   "metadata": {},
   "outputs": [],
   "source": [
    "val_results.result[790]"
   ]
  },
  {
   "cell_type": "code",
   "execution_count": null,
   "metadata": {},
   "outputs": [],
   "source": [
    "false_negatives=val_results[val_results.truth_delta>=0.5].sort_values('truth_delta',ascending=False)\n",
    "print (false_negatives.shape)\n",
    "false_negatives"
   ]
  },
  {
   "cell_type": "code",
   "execution_count": null,
   "metadata": {},
   "outputs": [],
   "source": [
    "tce_number=629\n",
    "chart_curves(9999,0,\n",
    "             'FALSE NEGATIVE',\n",
    "             x_global_val[tce_number],x_local_val[tce_number])"
   ]
  },
  {
   "cell_type": "code",
   "execution_count": null,
   "metadata": {},
   "outputs": [],
   "source": [
    "print(val_results[val_results.result=='True Positive'].sort_values('prediction',ascending=False))\n",
    "tce_number=118\n",
    "chart_curves(9999,0,\n",
    "             'TRUE POSITIVE',\n",
    "             x_global_val[tce_number],x_local_val[tce_number])"
   ]
  },
  {
   "cell_type": "code",
   "execution_count": null,
   "metadata": {},
   "outputs": [],
   "source": [
    "print(val_results[val_results.result=='True Negative'].sort_values('prediction',ascending=True))\n",
    "tce_number=135\n",
    "chart_curves(9999,0,\n",
    "             'TRUE NEGATIVE',\n",
    "             x_global_val[tce_number],x_local_val[tce_number])"
   ]
  },
  {
   "cell_type": "code",
   "execution_count": null,
   "metadata": {},
   "outputs": [],
   "source": [
    "baseline_results = model.evaluate([x_local_train,x_global_train],Y_train,\n",
    "                                  batch_size=BATCH_SIZE, verbose=0)\n",
    "for name, value in zip(model.metrics_names, baseline_results):\n",
    "  print(name, ': ', value)\n",
    "print()"
   ]
  },
  {
   "cell_type": "markdown",
   "metadata": {},
   "source": []
  },
  {
   "cell_type": "code",
   "execution_count": null,
   "metadata": {},
   "outputs": [],
   "source": []
  },
  {
   "cell_type": "markdown",
   "metadata": {},
   "source": [
    "#### Class weighting to deal with unbalanced classes"
   ]
  },
  {
   "cell_type": "code",
   "execution_count": null,
   "metadata": {},
   "outputs": [],
   "source": [
    "weight_for_0 = (1 / neg)*(total)/2.0 \n",
    "weight_for_1 = (1 / pos)*(total)/2.0\n",
    "\n",
    "class_weight = {0: weight_for_0, 1: weight_for_1}\n",
    "\n",
    "print('Weight for class 0: {:.2f}'.format(weight_for_0))\n",
    "print('Weight for class 1: {:.2f}'.format(weight_for_1))"
   ]
  },
  {
   "cell_type": "code",
   "execution_count": null,
   "metadata": {},
   "outputs": [],
   "source": [
    "tf.keras.backend.clear_session()\n",
    "model=make_model()\n",
    "#model.load_weights(initial_weights)\n",
    "\n",
    "history=model.fit([x_local_train,x_global_train],\n",
    "                  Y_train,\n",
    "                  validation_data=([x_local_val,x_global_val],Y_val),\n",
    "                  epochs=EPOCHS,\n",
    "                  batch_size=BATCH_SIZE,\n",
    "                  class_weight=class_weight,\n",
    "                  callbacks=[early_stopping],\n",
    "                  verbose=2)"
   ]
  },
  {
   "cell_type": "code",
   "execution_count": null,
   "metadata": {},
   "outputs": [],
   "source": [
    "plot_metrics(history)\n",
    "plot_cm(Y_val, val_predictions_baseline)\n",
    "\n",
    "val_predictions_baseline = model.predict([x_local_val,x_global_val], batch_size=BATCH_SIZE)\n",
    "train_predictions_baseline = model.predict([x_local_train,x_global_train], batch_size=BATCH_SIZE)\n",
    "\n",
    "plot_roc(\"Train Baseline\", Y_train, train_predictions_baseline, color=colors[0])\n",
    "plot_roc(\"Test Baseline\", Y_val, val_predictions_baseline, color=colors[0], linestyle='--')\n",
    "plt.legend(loc='lower right')"
   ]
  },
  {
   "cell_type": "markdown",
   "metadata": {},
   "source": [
    "#### Oversampling to deal with unbalanced classes"
   ]
  },
  {
   "cell_type": "code",
   "execution_count": null,
   "metadata": {},
   "outputs": [],
   "source": [
    "#oversampling\n",
    "bool_train_labels = Y_train != 0\n",
    "pos_features_local = x_local_train[bool_train_labels]\n",
    "neg_features_local = x_local_train[~bool_train_labels]\n",
    "pos_features_global = x_global_train[bool_train_labels]\n",
    "neg_features_global = x_global_train[~bool_train_labels]\n",
    "\n",
    "pos_labels = Y_train[bool_train_labels]\n",
    "neg_labels = Y_train[~bool_train_labels]"
   ]
  },
  {
   "cell_type": "code",
   "execution_count": null,
   "metadata": {},
   "outputs": [],
   "source": [
    "ids = np.arange(len(pos_features_local))\n",
    "choices = np.random.choice(ids, len(neg_features_local))\n",
    "\n",
    "res_pos_features_local = pos_features_local[choices]\n",
    "res_pos_features_global = pos_features_global[choices]\n",
    "res_pos_labels = pos_labels[choices]\n",
    "\n",
    "print(res_pos_features_local.shape,res_pos_features_global.shape)"
   ]
  },
  {
   "cell_type": "code",
   "execution_count": null,
   "metadata": {},
   "outputs": [],
   "source": [
    "res_features_local=np.concatenate([res_pos_features_local,neg_features_local],axis=0)\n",
    "res_features_global=np.concatenate([res_pos_features_global,neg_features_global],axis=0)\n",
    "res_labels=np.concatenate([res_pos_labels,neg_labels],axis=0)\n",
    "order=np.arange(len(res_labels))\n",
    "np.random.shuffle(order)\n",
    "res_features_local=res_features_local[order]\n",
    "res_features_global=res_features_global[order]\n",
    "res_labels=res_labels[order]\n",
    "print(res_features_local.shape,res_features_global.shape,res_labels.shape)"
   ]
  },
  {
   "cell_type": "code",
   "execution_count": null,
   "metadata": {},
   "outputs": [],
   "source": [
    "tf.keras.backend.clear_session()\n",
    "model=make_model()\n",
    "history = model.fit(\n",
    "        [res_features_local,res_features_global],\n",
    "        res_labels,\n",
    "        validation_data=([x_local_val,x_global_val],Y_val),\n",
    "        epochs=EPOCHS,\n",
    "        batch_size=BATCH_SIZE,\n",
    "        callbacks=[early_stopping],\n",
    "        verbose=2)\n"
   ]
  },
  {
   "cell_type": "code",
   "execution_count": null,
   "metadata": {},
   "outputs": [],
   "source": [
    "plot_metrics(history)\n",
    "plot_cm(Y_val, val_predictions_baseline)\n",
    "\n",
    "val_predictions_baseline = model.predict([x_local_val,x_global_val], batch_size=BATCH_SIZE)\n",
    "train_predictions_baseline = model.predict([x_local_train,x_global_train], batch_size=BATCH_SIZE)\n",
    "\n",
    "plot_roc(\"Train Baseline\", Y_train, train_predictions_baseline, color=colors[0])\n",
    "plot_roc(\"Test Baseline\", Y_val, val_predictions_baseline, color=colors[0], linestyle='--')\n",
    "plt.legend(loc='lower right')"
   ]
  },
  {
   "cell_type": "code",
   "execution_count": null,
   "metadata": {},
   "outputs": [],
   "source": []
  },
  {
   "cell_type": "code",
   "execution_count": null,
   "metadata": {},
   "outputs": [],
   "source": []
  },
  {
   "cell_type": "code",
   "execution_count": null,
   "metadata": {},
   "outputs": [],
   "source": []
  },
  {
   "cell_type": "code",
   "execution_count": null,
   "metadata": {},
   "outputs": [],
   "source": []
  },
  {
   "cell_type": "code",
   "execution_count": null,
   "metadata": {},
   "outputs": [],
   "source": []
  },
  {
   "cell_type": "code",
   "execution_count": null,
   "metadata": {},
   "outputs": [],
   "source": []
  },
  {
   "cell_type": "code",
   "execution_count": null,
   "metadata": {},
   "outputs": [],
   "source": [
    "np.set_printoptions(suppress=True)\n",
    "Y_val_pred=model.predict([x_local_val,x_global_val])\n",
    "print(Y_val_pred.shape)\n",
    "print(Y_val_pred[0:30])\n",
    "print(Y_val[0:30])"
   ]
  },
  {
   "cell_type": "code",
   "execution_count": null,
   "metadata": {},
   "outputs": [],
   "source": [
    "from sklearn.metrics import classification_report\n",
    "\n",
    "Y_val_pred_bool = np.argmax(Y_val_pred, axis=1)\n",
    "\n",
    "print(classification_report(Y_val, Y_val_pred_bool))"
   ]
  },
  {
   "cell_type": "code",
   "execution_count": null,
   "metadata": {},
   "outputs": [],
   "source": [
    "np.bincount(Y_val)"
   ]
  },
  {
   "cell_type": "code",
   "execution_count": null,
   "metadata": {},
   "outputs": [],
   "source": [
    "import matplotlib.pyplot as plt\n",
    "fig,axes=plt.subplots(2,2,figsize=(16,8))\n",
    "plt.subplot(221)\n",
    "plt.title('Loss')\n",
    "plt.plot(history.history['loss'], label='train')\n",
    "plt.plot(history.history['val_loss'], label='test')\n",
    "plt.legend()\n",
    "# plot accuracy during training\n",
    "plt.subplot(222)\n",
    "plt.title('Accuracy')\n",
    "plt.plot(history.history['accuracy'], label='train')\n",
    "plt.plot(history.history['val_accuracy'], label='test')\n",
    "plt.legend()\n",
    "\n",
    "plt.subplot(223)\n",
    "plt.title('AUC')\n",
    "plt.plot(history.history['auc'], label='train')\n",
    "plt.plot(history.history['val_auc'], label='test')\n",
    "plt.legend()\n",
    "plt.show()"
   ]
  },
  {
   "cell_type": "code",
   "execution_count": null,
   "metadata": {},
   "outputs": [],
   "source": []
  },
  {
   "cell_type": "code",
   "execution_count": null,
   "metadata": {},
   "outputs": [],
   "source": []
  },
  {
   "cell_type": "code",
   "execution_count": null,
   "metadata": {},
   "outputs": [],
   "source": []
  },
  {
   "cell_type": "code",
   "execution_count": null,
   "metadata": {},
   "outputs": [],
   "source": []
  },
  {
   "cell_type": "code",
   "execution_count": null,
   "metadata": {},
   "outputs": [],
   "source": [
    "# the first branch operates on the first input\n",
    "x = Dense(8, activation=\"relu\")(inputA)\n",
    "x = Dense(4, activation=\"relu\")(x)\n",
    "x = Model(inputs=inputA, outputs=x)\n",
    "# the second branch opreates on the second input\n",
    "y = Dense(64, activation=\"relu\")(inputB)\n",
    "y = Dense(32, activation=\"relu\")(y)\n",
    "y = Dense(4, activation=\"relu\")(y)\n",
    "y = Model(inputs=inputB, outputs=y)\n",
    "# combine the output of the two branches\n",
    "combined = concatenate([x.output, y.output])\n",
    "# apply a FC layer and then a regression prediction on the\n",
    "# combined outputs\n",
    "z = Dense(2, activation=\"relu\")(combined)\n",
    "z = Dense(1, activation=\"linear\")(z)\n",
    "# our model will accept the inputs of the two branches and\n",
    "# then output a single value\n",
    "model = Model(inputs=[x.input, y.input], outputs=z)"
   ]
  },
  {
   "cell_type": "code",
   "execution_count": null,
   "metadata": {},
   "outputs": [],
   "source": []
  },
  {
   "cell_type": "code",
   "execution_count": null,
   "metadata": {},
   "outputs": [],
   "source": [
    "#model splits into lat long after convolutional layers\n",
    "\n",
    "input_shape=(270,480,1)\n",
    "x=tf.keras.layers.Conv2D(64,(3,3),activation='relu')(inputs)\n",
    "x=tf.keras.layers.MaxPooling2D((2,2))(x)\n",
    "input = tf.keras.layers.Input(shape=input_shape)\n",
    "x=tf.keras.layers.Conv2D(64,(3,3),activation='relu')(x)\n",
    "x=tf.keras.layers.MaxPooling2D((2,2))(x)\n",
    "x=tf.keras.layers.Dropout(0.25)(x)\n",
    "x=tf.keras.layers.Conv2D(128,(3,3),activation='relu')(x)\n",
    "x=tf.keras.layers.MaxPooling2D((2,2))(x)\n",
    "x=tf.keras.layers.Conv2D(128,(3,3),activation='relu')(x)\n",
    "x=tf.keras.layers.MaxPooling2D((2,2))(x)\n",
    "x=tf.keras.layers.Dropout(0.25)(x)\n",
    "x=tf.keras.layers.Flatten()(x)\n",
    "\n",
    "xlat=tf.keras.layers.Dense(256,activation='relu')(x)\n",
    "xlat=tf.keras.layers.Dropout(0.5)(xlat)\n",
    "xlat=tf.keras.layers.Dense(64,activation='relu')(xlat)\n",
    "regression_layer_lat = tf.keras.layers.Dense(1, name='regression_lat')(xlat)  \n",
    "\n",
    "xlong=tf.keras.layers.Dense(256,activation='relu')(x)\n",
    "xlong=tf.keras.layers.Dropout(0.5)(xlong)\n",
    "xlong=tf.keras.layers.Dense(64,activation='relu')(xlong)\n",
    "regression_layer_long = tf.keras.layers.Dense(1, name='regression_long')(xlong)\n",
    "\n",
    "model_output = [regression_layer_lat, regression_layer_long]\n",
    "losses = ['mean_squared_error', 'mean_squared_error']\n",
    "metrics = ['mean_squared_error', 'mean_squared_error']\n",
    "\n",
    "model = tf.keras.models.Model(inputs, model_output)\n",
    "model.compile(loss=losses,  optimizer='adam', metrics=metrics)"
   ]
  },
  {
   "cell_type": "code",
   "execution_count": null,
   "metadata": {},
   "outputs": [],
   "source": [
    "with open('model.yml') as config_file:\n",
    "    config_data = yaml.load(config_file)\n",
    "    image_dir = config_data['image_dir']\n",
    "    latstart= config_data['latstart']\n",
    "    latend=config_data['latend']\n",
    "    longstart = config_data['longstart']\n",
    "    longend=config_data['longend']\n",
    "    dtstart= config_data['dtstart']\n",
    "    dtend=config_data['dtend']"
   ]
  },
  {
   "cell_type": "code",
   "execution_count": null,
   "metadata": {},
   "outputs": [],
   "source": []
  },
  {
   "cell_type": "markdown",
   "metadata": {
    "colab_type": "text",
    "id": "-k4t6YLVrt49"
   },
   "source": [
    "## Define functions to load the data\n"
   ]
  },
  {
   "cell_type": "markdown",
   "metadata": {},
   "source": [
    "#### comment\n"
   ]
  },
  {
   "cell_type": "markdown",
   "metadata": {},
   "source": [
    "### Key image read-in functions: load_image and build_input"
   ]
  },
  {
   "cell_type": "code",
   "execution_count": null,
   "metadata": {
    "colab": {},
    "colab_type": "code",
    "id": "FVUFnke4eIZI"
   },
   "outputs": [],
   "source": [
    "def load_image(s3_client,bucket_name,file_name, dim=(224,224)):\n",
    "    \"\"\"\n",
    "    Loads a single image as a Numpy array and resizes it as\n",
    "    desired.  The default dimensions are consistent with\n",
    "    those expected by the VGG models.  \n",
    "\n",
    "    Args:\n",
    "    s3_client:  s3 resource\n",
    "    bucket_name:name of bucket\n",
    "    file_name:  file to convert to image\n",
    "\n",
    "    dim: Two-element tuple giving the desired height\n",
    "         and width of the processed image\n",
    "\n",
    "    Returns:\n",
    "    image:  A single-channel Numpy array\n",
    "    \"\"\"\n",
    "    #image = cv2.imread(image_path, 0)\n",
    "    file_stream = io.BytesIO()\n",
    "    s3.download_fileobj(bucket_name,file_name,file_stream)\n",
    "    nparr = np.frombuffer(file_stream.getvalue(), np.uint8)\n",
    "    image=cv2.imdecode(nparr,0)\n",
    "    image = cv2.resize(image, dim)#, interpolation = cv2.INTER_AREA)\n",
    "    return image"
   ]
  },
  {
   "cell_type": "code",
   "execution_count": null,
   "metadata": {
    "colab": {},
    "colab_type": "code",
    "id": "CFJgfKxOi9Uj"
   },
   "outputs": [],
   "source": [
    "def build_input(s3_client,bucket_name,file_list,files_to_load,dim):\n",
    "    \"\"\"\n",
    "    Loads all of the images into a single numpy array.\n",
    "    Assumes that there are 101 equally-spaced images\n",
    "    spanning lattitudes from 35N to 45N.  \n",
    "\n",
    "    Args:\n",
    "    s3_client:  s3 resource\n",
    "    bucket_name:name of bucket\n",
    "    file_list:  list of files in bucket\n",
    "    Returns:\n",
    "    X:  A 3-dimensional numpy array containing the\n",
    "        images. Image height and width are set by\n",
    "        `load_images` and default to 224 x 224.\n",
    "\n",
    "    y:  A 1-dimensional numpy array of target lattitudes.\n",
    "    \"\"\"\n",
    "    X = []\n",
    "    i=0\n",
    "    for file in file_list[0:files_to_load]:\n",
    "        if file[-4:] == '.png':\n",
    "            print(file)\n",
    "            image = load_image(s3_client,bucket_name,file,dim)\n",
    "            X.append(image)\n",
    "            if i%100==0:\n",
    "                print('loaded:',i)\n",
    "            i+=1\n",
    "    return (np.array(X) / 255)"
   ]
  },
  {
   "cell_type": "code",
   "execution_count": null,
   "metadata": {
    "colab": {},
    "colab_type": "code",
    "id": "g4CpV8Yue8G1"
   },
   "outputs": [],
   "source": [
    "def build_labels(file_list,files_to_load):\n",
    "    y = []\n",
    "    t=[]\n",
    "    for file in file_list[0:files_to_load]:\n",
    "        if file[-4:] == '.png':\n",
    "            file_split = file.split('+')\n",
    "            lat = float(file_split[0])\n",
    "            long = float(file_split[1])\n",
    "            time = file_split[2].split('.')[0]\n",
    "            y.append((lat, long))\n",
    "            t.append(time)\n",
    "    return np.array(y),np.array(t)"
   ]
  },
  {
   "cell_type": "markdown",
   "metadata": {},
   "source": [
    "#### Test load_image on one image manually"
   ]
  },
  {
   "cell_type": "code",
   "execution_count": null,
   "metadata": {
    "colab": {
     "base_uri": "https://localhost:8080/",
     "height": 286
    },
    "colab_type": "code",
    "id": "6aWURghls3NV",
    "outputId": "cc7d27e7-ddee-424c-88ed-0bbf23b57972"
   },
   "outputs": [],
   "source": [
    "bucket_name='w251-final-project'\n",
    "file_name='36.0014762509164+-74.82905304191733+2020-05-26T01:10:59.png'\n",
    "s3 = boto3.client('s3')\n",
    "sample_image = load_image(s3,bucket_name,file_name)\n",
    "plt.imshow(sample_image)\n",
    "print(sample_image.shape)\n",
    "file_list=[file_name]\n",
    "test_label, test_time=build_labels(file_list,1)\n",
    "print (test_label,test_time)"
   ]
  },
  {
   "cell_type": "markdown",
   "metadata": {
    "colab_type": "text",
    "id": "10QkIM_Rso10"
   },
   "source": [
    "## Prepare the data"
   ]
  },
  {
   "cell_type": "markdown",
   "metadata": {
    "colab_type": "text",
    "id": "HkcP-D-Esrce"
   },
   "source": [
    "### Load the images"
   ]
  },
  {
   "cell_type": "code",
   "execution_count": null,
   "metadata": {
    "colab": {},
    "colab_type": "code",
    "id": "kUp7yqdFkFi0"
   },
   "outputs": [],
   "source": [
    "#clear out models for memory management purposes\n",
    "tf.keras.backend.clear_session()\n",
    "\n",
    "#change this to true to force it to reload from S3 bucket\n",
    "force_load=False\n",
    "\n",
    "#check if np arrays have already been saved and load if so\n",
    "if ((os.path.exists('x.npy'))&(not force_load)):\n",
    "    print('loading from files')\n",
    "    X=np.load('x.npy')\n",
    "    y=np.load('y.npy')\n",
    "    t=np.load('t.npy')\n",
    "\n",
    "#otherwise go to S3 bucket\n",
    "else:\n",
    "    print('loading from S3')\n",
    "    bucket_name='w251-final-project'\n",
    "    file_list=get_matching_s3_keys(bucket_name)\n",
    "    \n",
    "    #shuffle file list so that if take less than all are distributed.  also makes array randomly shuffled\n",
    "    random.shuffle(file_list)\n",
    "    \n",
    "    s3 = boto3.client('s3')\n",
    "\n",
    "    #max_files=100000\n",
    "    max_files=500\n",
    "    file_list_length=len(file_list)\n",
    "    files_to_load=np.minimum(max_files,file_list_length)\n",
    "\n",
    "    #get images\n",
    "    print('About to call build_input on',files_to_load,' files')\n",
    "    dim=(224,224)\n",
    "    X = build_input(s3,bucket_name,file_list,files_to_load,dim)\n",
    "\n",
    "\n",
    "    #get labels\n",
    "    print ('Building labels')\n",
    "    y,t = build_labels(file_list,files_to_load)\n",
    "    \n",
    "    print ('saving arrays so can reload more easily next time through')\n",
    "    np.save('x.npy',X)\n",
    "    np.save('y.npy',y)\n",
    "    np.save('t.npy',t)\n",
    "\n",
    "print ('shape of image array:', X.shape)\n",
    "print ('shape of label list:', y.shape)\n",
    "print ('shape of time list:',t.shape)"
   ]
  },
  {
   "cell_type": "markdown",
   "metadata": {
    "colab_type": "text",
    "id": "mdemcB48loMr"
   },
   "source": [
    "\n",
    "### Standardize the values"
   ]
  },
  {
   "cell_type": "code",
   "execution_count": null,
   "metadata": {},
   "outputs": [],
   "source": [
    "def scale_down(numbers,top,bottom):\n",
    "    number_range=top-bottom\n",
    "    revised=[x-bottom for x in numbers]\n",
    "    revised=[x/number_range for x in revised]\n",
    "    return revised\n",
    "\n",
    "def scale_up(number,top,bottom):\n",
    "    number_range=top-bottom\n",
    "    revised=number*number_range\n",
    "    revised=revised+bottom\n",
    "    return revised\n"
   ]
  },
  {
   "cell_type": "code",
   "execution_count": null,
   "metadata": {
    "colab": {},
    "colab_type": "code",
    "id": "CQDi4jNTivAZ"
   },
   "outputs": [],
   "source": [
    "#just scaling down without normalizing\n",
    "y[:,0]=scale_down(y[:,0],latend,latstart)\n",
    "y[:,1]=scale_down(y[:,1],longend,longstart)\n",
    "\n",
    "#y[:,0] = scale(y[:,0])\n",
    "#y[:,1]=scale(y[:,1])\n",
    "\n",
    "print (y[:,0].mean(),y[:,0].std())\n",
    "print (y[:,1].mean(),y[:,1].std())"
   ]
  },
  {
   "cell_type": "markdown",
   "metadata": {
    "colab_type": "text",
    "id": "fwhGSeYdstxS"
   },
   "source": [
    "### Split into test and training sets"
   ]
  },
  {
   "cell_type": "code",
   "execution_count": null,
   "metadata": {
    "colab": {
     "base_uri": "https://localhost:8080/",
     "height": 85
    },
    "colab_type": "code",
    "id": "owd0SyrvlUHo",
    "outputId": "e1e23c19-08da-4f84-df78-b6a8b0da9b51"
   },
   "outputs": [],
   "source": [
    "X_train, X_val, y_train, y_val = train_test_split(X, y, test_size=0.2)\n",
    "print(X_train.shape)\n",
    "print(y_train.shape)\n",
    "print(X_val.shape)\n",
    "print(y_val.shape)\n"
   ]
  },
  {
   "cell_type": "code",
   "execution_count": null,
   "metadata": {},
   "outputs": [],
   "source": [
    "print(X_train[0].shape)\n",
    "print (X_train[0])\n",
    "print (X_train[0].max())\n",
    "print (X_train[0].mean())"
   ]
  },
  {
   "cell_type": "markdown",
   "metadata": {},
   "source": [
    "### Add channel for CNN"
   ]
  },
  {
   "cell_type": "code",
   "execution_count": null,
   "metadata": {},
   "outputs": [],
   "source": [
    "#need to add channel for B&W for CNN\n",
    "#https://machinelearningmastery.com/a-gentle-introduction-to-channels-first-and-channels-last-image-formats-for-deep-learning/\n",
    "\n",
    "print(X_train.shape,y_train.shape)\n",
    "X_train=np.expand_dims(X_train,axis=3)\n",
    "X_val=np.expand_dims(X_val,axis=3)\n",
    "print(X_train.shape,X_val.shape)"
   ]
  },
  {
   "cell_type": "markdown",
   "metadata": {
    "colab_type": "text",
    "id": "otvKdtM3tKDG"
   },
   "source": [
    "## The model\n"
   ]
  },
  {
   "cell_type": "code",
   "execution_count": null,
   "metadata": {},
   "outputs": [],
   "source": [
    "#just dense\n",
    "\n",
    "input_shape=(224,224,1)\n",
    "input_image = tf.keras.layers.Input(shape=X_train[0].shape)\n",
    "input_time=input_time=tf.keras.layers.Input(shape=t_train[0].shape)\n",
    "i=tf.keras.layers.Flatten()(input_image)\n",
    "i=tf.keras.layers.Dense(528,activation='relu')(i)\n",
    "i=tf.keras.layers.Dense(528,activation='relu')(i)\n",
    "i=tf.keras.layers.Dense(528,activation='relu')(i)\n",
    "\n",
    "t=tf.keras.layers.Flatten()(input_time)\n",
    "it=tf.keras.layers.concatenate([i,t])\n",
    "\n",
    "xlat=tf.keras.layers.Dense(256,activation='relu')(it)\n",
    "xlat=tf.keras.layers.Dropout(0.25)(xlat)\n",
    "xlat=tf.keras.layers.Dense(256,activation='relu')(xlat)\n",
    "regression_layer_lat = tf.keras.layers.Dense(1, name='regression_lat')(xlat)  \n",
    "\n",
    "xlong=tf.keras.layers.Dense(256,activation='relu')(it)\n",
    "xlong=tf.keras.layers.Dropout(0.25)(xlong)\n",
    "xlong=tf.keras.layers.Dense(256,activation='relu')(xlong)\n",
    "regression_layer_long = tf.keras.layers.Dense(1, name='regression_long')(xlong)\n",
    "\n",
    "model_output = [regression_layer_lat, regression_layer_long]\n",
    "losses = ['mean_squared_error', 'mean_squared_error']\n",
    "metrics = ['mean_squared_error', 'mean_squared_error']\n",
    "\n",
    "model = tf.keras.models.Model([input_image,input_time], model_output)\n",
    "\n",
    "\n",
    "\n",
    "\n",
    "\n"
   ]
  },
  {
   "cell_type": "code",
   "execution_count": null,
   "metadata": {},
   "outputs": [],
   "source": [
    "losses = ['mean_squared_error','mean_squared_error']\n",
    "metrics = ['mean_squared_error','mean_squared_error']\n",
    "\n",
    "model.compile(optimizer='Adam',\n",
    "                 loss=losses,\n",
    "                 metrics=metrics)\n",
    "\n",
    "print(model.summary())\n"
   ]
  },
  {
   "cell_type": "markdown",
   "metadata": {
    "colab_type": "text",
    "id": "45ubHGx-0fZT"
   },
   "source": [
    "### Fit the model"
   ]
  },
  {
   "cell_type": "code",
   "execution_count": null,
   "metadata": {
    "colab": {
     "base_uri": "https://localhost:8080/",
     "height": 1000
    },
    "colab_type": "code",
    "id": "GSdEVoRTn7KO",
    "outputId": "f18a5e41-575f-4cc5-a200-7ed098765963"
   },
   "outputs": [],
   "source": [
    "tf.keras.backend.clear_session()\n",
    "history = model.fit(x=[X_train,t_train], \n",
    "                    y=[y_train[:,0],y_train[:,1]],\n",
    "                    validation_data=[[X_val,t_val],[y_val[:,0],y_val[:,1]]],\n",
    "                    verbose=1, epochs=15, batch_size=32)\n",
    "\n",
    "    \n"
   ]
  },
  {
   "cell_type": "markdown",
   "metadata": {
    "colab_type": "text",
    "id": "xgjEi6oP0kNE"
   },
   "source": [
    "### Evaluate model performance"
   ]
  },
  {
   "cell_type": "code",
   "execution_count": null,
   "metadata": {
    "colab": {
     "base_uri": "https://localhost:8080/",
     "height": 295
    },
    "colab_type": "code",
    "id": "CZNI6nGtzbYy",
    "outputId": "0af1dc94-1682-46eb-e7d9-e5a52d01eacb"
   },
   "outputs": [],
   "source": [
    "history_df = pd.DataFrame(history.history)\n",
    "ax = history_df.plot(y=['loss', 'val_loss'],\n",
    "                xticks=np.linspace(0, len(history_df), 6))\n",
    "ax.set_ylabel('Loss')\n",
    "ax.set_xlabel('Epoch')\n",
    "ax.set_title('Evolution of Mean Squared Error')\n",
    "plt.show()\n"
   ]
  },
  {
   "cell_type": "code",
   "execution_count": null,
   "metadata": {},
   "outputs": [],
   "source": [
    "print(X_val.shape)\n",
    "print(y_val.shape)"
   ]
  },
  {
   "cell_type": "code",
   "execution_count": null,
   "metadata": {
    "colab": {},
    "colab_type": "code",
    "id": "29eHeDjEoNqj"
   },
   "outputs": [],
   "source": [
    "y_hat = model.predict([X_val,t_val])\n",
    "#y_hat_lat=model.predict(X_val)[0]\n",
    "#y_hat_long=model.predict(X_val)[1]\n",
    "y_hat_lat=y_hat[:,0]\n",
    "y_hat_long=y_hat[:,1]\n",
    "\n",
    "y_hat_lat=scale_up(y_hat_lat,latend,latstart)\n",
    "y_hat_long=scale_up(y_hat_long,longend,longstart)\n",
    "\n",
    "y_val_lat=y_val[:,0]\n",
    "y_val_long=y_val[:,1]\n",
    "\n",
    "y_val_lat=scale_up(y_val_lat,latend,latstart)\n",
    "y_val_long=scale_up(y_val_long,longend,longstart)"
   ]
  },
  {
   "cell_type": "code",
   "execution_count": null,
   "metadata": {
    "colab": {
     "base_uri": "https://localhost:8080/",
     "height": 295
    },
    "colab_type": "code",
    "id": "6CoZVBtCrT7K",
    "outputId": "f9b36a5f-5eef-468e-edd9-e6811ba7ea39"
   },
   "outputs": [],
   "source": [
    "fig = plt.figure(figsize=(12,6))\n",
    "ax=fig.add_subplot(111)\n",
    "ax.scatter(y_val_lat, y_hat_lat)\n",
    "plt.title('Predicted lat vs. True lat')\n",
    "plt.xlabel('True lat')\n",
    "plt.ylabel('Predicted lat')\n",
    "ax.set_xlim(36,40)\n",
    "ax.set_ylim(36,40)\n",
    "#draw straight line\n"
   ]
  },
  {
   "cell_type": "code",
   "execution_count": null,
   "metadata": {
    "colab": {
     "base_uri": "https://localhost:8080/",
     "height": 295
    },
    "colab_type": "code",
    "id": "n5tCuM2HvK72",
    "outputId": "f1b6570d-1fa3-464c-c820-8e01ca393676"
   },
   "outputs": [],
   "source": [
    "fig = plt.figure(figsize=(12,6))\n",
    "ax=fig.add_subplot(111)\n",
    "ax.scatter(y_val_long, y_hat_long)\n",
    "plt.title('Predicted long vs. True long')\n",
    "plt.xlabel('True long')\n",
    "plt.ylabel('Predicted long')\n",
    "ax.set_xlim(-78,-74)\n",
    "ax.set_ylim(-78,-74)\n"
   ]
  },
  {
   "cell_type": "markdown",
   "metadata": {},
   "source": [
    "### Save Model"
   ]
  },
  {
   "cell_type": "code",
   "execution_count": null,
   "metadata": {},
   "outputs": [],
   "source": [
    "model_dir='inference_model'\n",
    "model.save(model_dir)\n"
   ]
  },
  {
   "cell_type": "code",
   "execution_count": null,
   "metadata": {},
   "outputs": [],
   "source": [
    "test_model=tf.keras.models.load_model(model_dir)\n"
   ]
  },
  {
   "cell_type": "code",
   "execution_count": null,
   "metadata": {},
   "outputs": [],
   "source": [
    "def upload_model(model_dir,bucket_name):\n",
    "    #s3_client=boto3.client('s3')\n",
    "    session = boto3.Session()\n",
    "    s3 = session.resource('s3')\n",
    "    bucket = s3.Bucket(bucket_name)\n",
    "    for subdir, dirs, files in os.walk(model_dir):\n",
    "        for file in files:\n",
    "            full_path = os.path.join(subdir, file)\n",
    "            with open(full_path, 'rb') as data:\n",
    "                bucket.put_object(Key=full_path[len(model_dir)+1:], Body=data)\n",
    "\n",
    "bucket_name='w251-final-project-model'\n",
    "upload_model(model_dir,bucket_name)"
   ]
  },
  {
   "cell_type": "code",
   "execution_count": null,
   "metadata": {},
   "outputs": [],
   "source": []
  },
  {
   "cell_type": "code",
   "execution_count": null,
   "metadata": {},
   "outputs": [],
   "source": [
    "input_image = tf.keras.layers.Input(shape=X_train[0].shape)\n",
    "input_time=tf.keras.layers.Input(shape=t_train[0].shape)\n",
    "\n",
    "i=tf.keras.layers.Conv2D(filters=5,kernel_size=10,padding='same',activation='relu')(input_image)\n",
    "i=tf.keras.layers.Conv2D(filters=1,kernel_size=10,padding='same',activation='relu') (i)\n",
    "i=tf.keras.layers.Flatten()(i)\n",
    "\n",
    "t=tf.keras.layers.Flatten()(input_time)\n",
    "ti=tf.keras.layers.concatenate([i,t])\n",
    "ti=tf.keras.layers.Dense(256,activation='relu')(ti)\n",
    "ti=tf.keras.layers.Dropout(0.2)(ti)\n",
    "outputs=tf.keras.layers.Dense(2,activation='sigmoid')(ti)\n",
    "\n",
    "model = tf.keras.Model(inputs=[input_image, input_time], outputs=outputs)\n",
    "\n",
    "\n",
    "lr_schedule = tf.keras.optimizers.schedules.ExponentialDecay(\n",
    "    initial_learning_rate=1e-2,\n",
    "    decay_steps=10000,\n",
    "    decay_rate=0.9)\n",
    "\n",
    "optimizer = tf.keras.optimizers.SGD(learning_rate=lr_schedule)\n",
    "\n",
    "model.compile(optimizer=optimizer,\n",
    "                 loss=haversine_loss)\n",
    "\n",
    "print(model.summary())\n",
    "\n",
    "history = model.fit(x=[X_train,t_train], \n",
    "                    y=[y_train],\n",
    "                    validation_data=[[X_val,t_val],y_val],\n",
    "                    verbose=1, epochs=15, batch_size=64)\n"
   ]
  },
  {
   "cell_type": "markdown",
   "metadata": {},
   "source": [
    "### Feed Forward Dense"
   ]
  },
  {
   "cell_type": "code",
   "execution_count": null,
   "metadata": {},
   "outputs": [],
   "source": [
    "#just dense\n",
    "\n",
    "input_shape=(224,224,1)\n",
    "inputs = tf.keras.layers.Input(shape=input_shape)\n",
    "x=tf.keras.layers.Flatten()(inputs)\n",
    "x=tf.keras.layers.Dense(528,activation='relu')(x)\n",
    "x=tf.keras.layers.Dense(528,activation='relu')(x)\n",
    "x=tf.keras.layers.Dense(528,activation='relu')(x)\n",
    "\n",
    "xlat=tf.keras.layers.Dense(256,activation='relu')(x)\n",
    "xlat=tf.keras.layers.Dropout(0.25)(xlat)\n",
    "xlat=tf.keras.layers.Dense(256,activation='relu')(xlat)\n",
    "regression_layer_lat = tf.keras.layers.Dense(1, name='regression_lat')(xlat)  \n",
    "\n",
    "xlong=tf.keras.layers.Dense(256,activation='relu')(x)\n",
    "xlong=tf.keras.layers.Dropout(0.25)(xlong)\n",
    "xlong=tf.keras.layers.Dense(256,activation='relu')(xlong)\n",
    "regression_layer_long = tf.keras.layers.Dense(1, name='regression_long')(xlong)\n",
    "\n",
    "model_output = [regression_layer_lat, regression_layer_long]\n",
    "losses = ['mean_squared_error', 'mean_squared_error']\n",
    "metrics = ['mean_squared_error', 'mean_squared_error']\n",
    "\n",
    "model = tf.keras.models.Model(inputs, model_output)\n",
    "model.compile(loss=losses,  optimizer='adam', metrics=metrics)\n",
    "print(model.summary())"
   ]
  },
  {
   "cell_type": "code",
   "execution_count": null,
   "metadata": {},
   "outputs": [],
   "source": [
    "history = model.fit(x=X_train, \n",
    "                    y=[y_train[:,0],y_train[:,1]],\n",
    "                    validation_data=[X_val,[y_val[:,0],y_val[:,1]]],\n",
    "                    verbose=1, epochs=20, batch_size=128)"
   ]
  },
  {
   "cell_type": "code",
   "execution_count": null,
   "metadata": {},
   "outputs": [],
   "source": [
    "y_hat = model.predict(X_val)\n",
    "#y_hat_lat=model.predict(X_val)[0]\n",
    "#y_hat_long=model.predict(X_val)[1]\n",
    "y_hat_lat=y_hat[0]\n",
    "y_hat_long=y_hat[1]\n",
    "\n",
    "y_hat_lat=scale_up(y_hat_lat,toplat,bottomlat)\n",
    "y_hat_long=scale_up(y_hat_long,toplong,bottomlong)\n",
    "\n",
    "y_val_lat=y_val[:,0]\n",
    "y_val_long=y_val[:,1]\n",
    "\n",
    "y_val_lat=scale_up(y_val_lat,toplat,bottomlat)\n",
    "y_val_long=scale_up(y_val_long,toplong,bottomlong)"
   ]
  },
  {
   "cell_type": "code",
   "execution_count": null,
   "metadata": {},
   "outputs": [],
   "source": [
    "plt.scatter(y_val_lat, y_hat_lat)\n",
    "plt.title('Predicted lat vs. True lat')\n",
    "plt.xlabel('True lat')\n",
    "plt.ylabel('Predicted lat')\n",
    "plt.show()"
   ]
  },
  {
   "cell_type": "code",
   "execution_count": null,
   "metadata": {},
   "outputs": [],
   "source": [
    "plt.scatter(y_val_long, y_hat_long)\n",
    "plt.title('Predicted long vs. True long')\n",
    "plt.xlabel('True long')\n",
    "plt.ylabel('Predicted long')\n",
    "plt.show()"
   ]
  },
  {
   "cell_type": "code",
   "execution_count": null,
   "metadata": {},
   "outputs": [],
   "source": []
  },
  {
   "cell_type": "code",
   "execution_count": null,
   "metadata": {},
   "outputs": [],
   "source": []
  },
  {
   "cell_type": "markdown",
   "metadata": {
    "colab": {},
    "colab_type": "code",
    "id": "l1Lg2v4LqKCp"
   },
   "source": [
    "### Things to consider doing:\n",
    "- don't normalize the lat and long - just scale it DONE\n",
    "- convert back to lat and long DONE\n",
    "- set validation batch size to deal with OOM errors (possibly) DONE\n",
    "- loss weights?\n",
    "- what is resolution of png files coming in?  are they squares?\n",
    "- since set wide rectangle, need to make sure entirely at night time\n",
    "- change angle of view - look more tired horizon?\n"
   ]
  },
  {
   "cell_type": "markdown",
   "metadata": {},
   "source": [
    "### Old models"
   ]
  },
  {
   "cell_type": "code",
   "execution_count": null,
   "metadata": {},
   "outputs": [],
   "source": [
    "# Define Input layer(s)\n",
    "inputShape = (224, 224)\n",
    "inputs = tf.keras.layers.Input(shape=inputShape)\n",
    "\n",
    "flatten = tf.keras.layers.Flatten()(inputs)\n",
    "\n",
    "x=tf.keras.layers.Dense(512,activation='relu')(flatten)\n",
    "x=tf.keras.layers.Dense(512,activation='relu')(x)\n",
    "x=tf.keras.layers.Dense(512,activation='relu')(x)\n",
    "x=tf.keras.layers.Dense(512,activation='relu')(x)\n",
    "regression_layer_lat = tf.keras.layers.Dense(1, name='regression_lat')(x)  \n",
    "regression_layer_long = tf.keras.layers.Dense(1, name='regression_long')(x)\n",
    "\n",
    "\n",
    "# Build and compile model\n",
    "model_input = inputs\n",
    "model_output = [regression_layer_lat, regression_layer_long]\n",
    "losses = ['mean_squared_error', 'mean_squared_error']\n",
    "metrics = ['mean_squared_error', 'mean_squared_error']\n",
    "\n",
    "model = tf.keras.models.Model(model_input, model_output)\n",
    "model.compile(loss=losses,  optimizer='adam', metrics=metrics)"
   ]
  },
  {
   "cell_type": "code",
   "execution_count": null,
   "metadata": {},
   "outputs": [],
   "source": [
    "#model splits into lat long after convolutional layers\n",
    "\n",
    "input_shape=(270,480,1)\n",
    "input = tf.keras.layers.Input(shape=input_shape)\n",
    "x=tf.keras.layers.Conv2D(64,(3,3),activation='relu')(inputs)\n",
    "x=tf.keras.layers.MaxPooling2D((2,2))(x)\n",
    "x=tf.keras.layers.Conv2D(64,(3,3),activation='relu')(x)\n",
    "x=tf.keras.layers.MaxPooling2D((2,2))(x)\n",
    "x=tf.keras.layers.Dropout(0.25)(x)\n",
    "x=tf.keras.layers.Conv2D(128,(3,3),activation='relu')(x)\n",
    "x=tf.keras.layers.MaxPooling2D((2,2))(x)\n",
    "x=tf.keras.layers.Conv2D(128,(3,3),activation='relu')(x)\n",
    "x=tf.keras.layers.MaxPooling2D((2,2))(x)\n",
    "x=tf.keras.layers.Dropout(0.25)(x)\n",
    "x=tf.keras.layers.Flatten()(x)\n",
    "\n",
    "xlat=tf.keras.layers.Dense(256,activation='relu')(x)\n",
    "xlat=tf.keras.layers.Dropout(0.5)(xlat)\n",
    "xlat=tf.keras.layers.Dense(64,activation='relu')(xlat)\n",
    "regression_layer_lat = tf.keras.layers.Dense(1, name='regression_lat')(xlat)  \n",
    "\n",
    "xlong=tf.keras.layers.Dense(256,activation='relu')(x)\n",
    "xlong=tf.keras.layers.Dropout(0.5)(xlong)\n",
    "xlong=tf.keras.layers.Dense(64,activation='relu')(xlong)\n",
    "regression_layer_long = tf.keras.layers.Dense(1, name='regression_long')(xlong)\n",
    "\n",
    "model_output = [regression_layer_lat, regression_layer_long]\n",
    "losses = ['mean_squared_error', 'mean_squared_error']\n",
    "metrics = ['mean_squared_error', 'mean_squared_error']\n",
    "\n",
    "model = tf.keras.models.Model(inputs, model_output)\n",
    "model.compile(loss=losses,  optimizer='adam', metrics=metrics)"
   ]
  },
  {
   "cell_type": "code",
   "execution_count": null,
   "metadata": {},
   "outputs": [],
   "source": [
    "input_shape=(224,224,1)\n",
    "inputs = tf.keras.layers.Input(shape=input_shape)\n",
    "x=tf.keras.layers.Conv2D(64,(3,3),activation='relu')(inputs)\n",
    "x=tf.keras.layers.MaxPooling2D((2,2))(x)\n",
    "x=tf.keras.layers.Conv2D(64,(3,3),activation='relu')(x)\n",
    "x=tf.keras.layers.MaxPooling2D((2,2))(x)\n",
    "x=tf.keras.layers.Dropout(0.25)(x)\n",
    "x=tf.keras.layers.Conv2D(128,(3,3),activation='relu')(x)\n",
    "x=tf.keras.layers.MaxPooling2D((2,2))(x)\n",
    "x=tf.keras.layers.Conv2D(128,(3,3),activation='relu')(x)\n",
    "x=tf.keras.layers.MaxPooling2D((2,2))(x)\n",
    "x=tf.keras.layers.Dropout(0.25)(x)\n",
    "\n",
    "x=tf.keras.layers.Flatten()(x)\n",
    "x=tf.keras.layers.Dense(256,activation='relu')(x)\n",
    "x=tf.keras.layers.Dropout(0.5)(x)\n",
    "x=tf.keras.layers.Dense(64,activation='relu')(x)\n",
    "regression_layer_lat = tf.keras.layers.Dense(1, name='regression_lat')(x)  \n",
    "regression_layer_long = tf.keras.layers.Dense(1, name='regression_long')(x)\n",
    "\n",
    "model_output = [regression_layer_lat, regression_layer_long]\n",
    "losses = ['mean_squared_error', 'mean_squared_error']\n",
    "metrics = ['mean_squared_error', 'mean_squared_error']\n",
    "\n",
    "model = tf.keras.models.Model(inputs, model_output)\n",
    "model.compile(loss=losses,  optimizer='adam', metrics=metrics)"
   ]
  },
  {
   "cell_type": "code",
   "execution_count": null,
   "metadata": {},
   "outputs": [],
   "source": [
    "model = tf.keras.Sequential([\n",
    "    tf.keras.layers.Flatten(input_shape=(224,224)),\n",
    "    tf.keras.layers.Dense(512, activation='relu'),\n",
    "    #tf.keras.layers.Dense(512, activation='relu'),\n",
    "    #tf.keras.layers.Dense(512, activation='relu'),\n",
    "    #tf.keras.layers.Dense(512, activation='relu'),\n",
    "    #tf.keras.layers.Dense(512, activation='relu'),\n",
    "    tf.keras.layers.Dense(256, activation='relu'),\n",
    "    #tf.keras.layers.Dense(256, activation='relu'),\n",
    "    #tf.keras.layers.Dense(256, activation='relu'),\n",
    "    #tf.keras.layers.Dense(256, activation='relu'),\n",
    "    #tf.keras.layers.Dense(256, activation='relu'),\n",
    "    #tf.keras.layers.Dense(256, activation='relu'),\n",
    "    tf.keras.layers.Dense(128, activation='relu'),\n",
    "    #tf.keras.layers.Dense(128, activation='relu'),\n",
    "    #tf.keras.layers.Dense(128, activation='relu'),\n",
    "    #tf.keras.layers.Dense(128, activation='relu'),\n",
    "    #tf.keras.layers.Dense(128, activation='relu'),\n",
    "    #tf.keras.layers.Dense(128, activation='relu'),\n",
    "    #tf.keras.layers.Dense(128, activation='relu'),\n",
    "    tf.keras.layers.Dense(64, activation='relu'),\n",
    "    tf.keras.layers.Dense(32, activation='relu'),\n",
    "    tf.keras.layers.Dropout(0.3),\n",
    "    tf.keras.layers.Dense(2)\n",
    "])"
   ]
  },
  {
   "cell_type": "code",
   "execution_count": null,
   "metadata": {},
   "outputs": [],
   "source": [
    "losses = ['mean_squared_error', 'mean_squared_error']\n",
    "metrics = ['mean_squared_error', 'mean_squared_error']\n",
    "\n",
    "model = tf.keras.models.Model(inputs, model_output)\n",
    "model.compile(loss=losses,  optimizer='adam', metrics=metrics)"
   ]
  }
 ],
 "metadata": {
  "accelerator": "GPU",
  "colab": {
   "collapsed_sections": [],
   "name": "iso-chron.ipynb",
   "provenance": [],
   "toc_visible": true
  },
  "kernelspec": {
   "display_name": "Environment (conda_thesis)",
   "language": "python",
   "name": "conda_thesis"
  },
  "language_info": {
   "codemirror_mode": {
    "name": "ipython",
    "version": 3
   },
   "file_extension": ".py",
   "mimetype": "text/x-python",
   "name": "python",
   "nbconvert_exporter": "python",
   "pygments_lexer": "ipython3",
   "version": "3.6.10"
  }
 },
 "nbformat": 4,
 "nbformat_minor": 1
}
