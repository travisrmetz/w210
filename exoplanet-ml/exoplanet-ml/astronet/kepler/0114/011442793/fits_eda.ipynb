{
 "cells": [
  {
   "cell_type": "code",
   "execution_count": 38,
   "metadata": {},
   "outputs": [],
   "source": [
    "from astropy.io import fits\n",
    "import pandas as pd\n",
    "import numpy as np\n"
   ]
  },
  {
   "cell_type": "markdown",
   "metadata": {},
   "source": [
    "### ran this to get light curves for this particular target\n",
    "\n",
    "\n",
    "KEPLER_DATA_DIR=\"/home/ubuntu/w210/exoplanet-ml/exoplanet-ml/astronet/kepler/\"\n",
    "\n",
    "wget -nH --cut-dirs=6 -r -l0 -c -N -np -erobots=off -R 'index*' -A _llc.fits   -P ${KEPLER_DATA_DIR}/0114/011442793   http://archive.stsci.edu/pub/kepler/lightcurves/0114/011442793/"
   ]
  },
  {
   "cell_type": "code",
   "execution_count": 1,
   "metadata": {},
   "outputs": [
    {
     "name": "stdout",
     "output_type": "stream",
     "text": [
      "total 5748\r\n",
      "-rw-rw-r-- 1 ubuntu ubuntu     72 Oct  1 16:49 Untitled.ipynb\r\n",
      "-rw-rw-r-- 1 ubuntu ubuntu 192960 Oct 15  2015 kplr011442793-2009166043257_llc.fits\r\n",
      "-rw-rw-r-- 1 ubuntu ubuntu 466560 Oct 20  2015 kplr011442793-2009259160929_llc.fits\r\n",
      "-rw-rw-r-- 1 ubuntu ubuntu 466560 Oct 25  2015 kplr011442793-2009350155506_llc.fits\r\n",
      "-rw-rw-r-- 1 ubuntu ubuntu 132480 Oct 29  2015 kplr011442793-2010009091648_llc.fits\r\n",
      "-rw-rw-r-- 1 ubuntu ubuntu 492480 Nov  5  2015 kplr011442793-2010174085026_llc.fits\r\n",
      "-rw-rw-r-- 1 ubuntu ubuntu 469440 Nov 12  2015 kplr011442793-2010265121752_llc.fits\r\n",
      "-rw-rw-r-- 1 ubuntu ubuntu 466560 Nov 17  2015 kplr011442793-2010355172524_llc.fits\r\n",
      "-rw-rw-r-- 1 ubuntu ubuntu 506880 Nov 24  2015 kplr011442793-2011177032512_llc.fits\r\n",
      "-rw-rw-r-- 1 ubuntu ubuntu 486720 Nov 30  2015 kplr011442793-2011271113734_llc.fits\r\n",
      "-rw-rw-r-- 1 ubuntu ubuntu 506880 Dec  8  2015 kplr011442793-2012004120508_llc.fits\r\n",
      "-rw-rw-r-- 1 ubuntu ubuntu 472320 Dec 17  2015 kplr011442793-2012179063303_llc.fits\r\n",
      "-rw-rw-r-- 1 ubuntu ubuntu 506880 Dec 22  2015 kplr011442793-2012277125453_llc.fits\r\n",
      "-rw-rw-r-- 1 ubuntu ubuntu 506880 Jan  4  2016 kplr011442793-2013011073258_llc.fits\r\n",
      "-rw-rw-r-- 1 ubuntu ubuntu 187200 Jan 13  2016 kplr011442793-2013131215648_llc.fits\r\n"
     ]
    }
   ],
   "source": [
    "\n",
    "!ls -l"
   ]
  },
  {
   "cell_type": "code",
   "execution_count": 2,
   "metadata": {},
   "outputs": [],
   "source": [
    "from astropy.io import fits"
   ]
  },
  {
   "cell_type": "code",
   "execution_count": 3,
   "metadata": {},
   "outputs": [],
   "source": [
    "hdul=fits.open('kplr011442793-2009166043257_llc.fits')"
   ]
  },
  {
   "cell_type": "code",
   "execution_count": 4,
   "metadata": {},
   "outputs": [
    {
     "data": {
      "text/plain": [
       "[<astropy.io.fits.hdu.image.PrimaryHDU object at 0x7fd4dfb34110>, <astropy.io.fits.hdu.table.BinTableHDU object at 0x7fd4dfb4e9d0>, <astropy.io.fits.hdu.image.ImageHDU object at 0x7fd4dee7f7d0>]"
      ]
     },
     "execution_count": 4,
     "metadata": {},
     "output_type": "execute_result"
    }
   ],
   "source": [
    "hdul"
   ]
  },
  {
   "cell_type": "code",
   "execution_count": 5,
   "metadata": {},
   "outputs": [
    {
     "name": "stdout",
     "output_type": "stream",
     "text": [
      "Filename: kplr011442793-2009166043257_llc.fits\n",
      "No.    Name      Ver    Type      Cards   Dimensions   Format\n",
      "  0  PRIMARY       1 PrimaryHDU      58   ()      \n",
      "  1  LIGHTCURVE    1 BinTableHDU    155   1639R x 20C   [D, E, J, E, E, E, E, E, E, J, D, E, D, E, D, E, D, E, E, E]   \n",
      "  2  APERTURE      1 ImageHDU        48   (6, 6)   int32   \n"
     ]
    }
   ],
   "source": [
    "hdul.info()"
   ]
  },
  {
   "cell_type": "code",
   "execution_count": 7,
   "metadata": {},
   "outputs": [
    {
     "data": {
      "text/plain": [
       "'2015-09-01'"
      ]
     },
     "execution_count": 7,
     "metadata": {},
     "output_type": "execute_result"
    }
   ],
   "source": [
    "hdul[0].header['DATE']"
   ]
  },
  {
   "cell_type": "code",
   "execution_count": 8,
   "metadata": {},
   "outputs": [
    {
     "data": {
      "text/plain": [
       "SIMPLE  =                    T / conforms to FITS standards                     \n",
       "BITPIX  =                    8 / array data type                                \n",
       "NAXIS   =                    0 / number of array dimensions                     \n",
       "EXTEND  =                    T / file contains extensions                       \n",
       "NEXTEND =                    2 / number of standard extensions                  \n",
       "EXTNAME = 'PRIMARY '           / name of extension                              \n",
       "EXTVER  =                    1 / extension version number (not format version)  \n",
       "ORIGIN  = 'NASA/Ames'          / institution responsible for creating this file \n",
       "DATE    = '2015-09-01'         / file creation date.                            \n",
       "CREATOR = '795955 FluxExporter2PipelineModule' / pipeline job and program used t\n",
       "PROCVER = 'svn+ssh://murzim/repo/soc/tags/release/9.3.22 r60269' / SW version   \n",
       "FILEVER = '6.1     '           / file format version                            \n",
       "TIMVERSN= 'OGIP/93-003'        / OGIP memo number for file format               \n",
       "TELESCOP= 'Kepler  '           / telescope                                      \n",
       "INSTRUME= 'Kepler Photometer'  / detector type                                  \n",
       "OBJECT  = 'KIC 11442793'       / string version of target id                    \n",
       "KEPLERID=             11442793 / unique Kepler target identifier                \n",
       "CHANNEL =                   35 / CCD channel                                    \n",
       "SKYGROUP=                    7 / roll-independent location of channel           \n",
       "MODULE  =                   11 / CCD module                                     \n",
       "OUTPUT  =                    3 / CCD output                                     \n",
       "QUARTER =                    1 / Observing quarter                              \n",
       "SEASON  =                    3 / mission season during which data was collected \n",
       "DATA_REL=                   25 / data release version number                    \n",
       "OBSMODE = 'long cadence'       / observing mode                                 \n",
       "MISSION = 'Kepler  '           / Mission name                                   \n",
       "TTABLEID=                   20 / target table id                                \n",
       "RADESYS = 'ICRS    '           / reference frame of celestial coordinates       \n",
       "RA_OBJ  =           284.433491 / [deg] right ascension                          \n",
       "DEC_OBJ =            49.305160 / [deg] declination                              \n",
       "EQUINOX =               2000.0 / equinox of celestial coordinate system         \n",
       "PMRA    =               0.0000 / [arcsec/yr] RA proper motion                   \n",
       "PMDEC   =               0.0000 / [arcsec/yr] Dec proper motion                  \n",
       "PMTOTAL =               0.0000 / [arcsec/yr] total proper motion                \n",
       "PARALLAX=                      / [arcsec] parallax                              \n",
       "GLON    =            79.269504 / [deg] galactic longitude                       \n",
       "GLAT    =            19.255665 / [deg] galactic latitude                        \n",
       "GMAG    =               14.139 / [mag] SDSS g band magnitude                    \n",
       "RMAG    =               13.741 / [mag] SDSS r band magnitude                    \n",
       "IMAG    =               13.660 / [mag] SDSS i band magnitude                    \n",
       "ZMAG    =               13.634 / [mag] SDSS z band magnitude                    \n",
       "D51MAG  =               13.971 / [mag] D51 magnitude,                           \n",
       "JMAG    =               12.789 / [mag] J band magnitude from 2MASS              \n",
       "HMAG    =               12.531 / [mag] H band magnitude from 2MASS              \n",
       "KMAG    =               12.481 / [mag] K band magnitude from 2MASS              \n",
       "KEPMAG  =               13.804 / [mag] Kepler magnitude (Kp)                    \n",
       "GRCOLOR =                0.398 / [mag] (g-r) color, SDSS bands                  \n",
       "JKCOLOR =                0.308 / [mag] (J-K) color, 2MASS bands                 \n",
       "GKCOLOR =                1.658 / [mag] (g-K) color, SDSS g - 2MASS K            \n",
       "TEFF    =                 5970 / [K] Effective temperature                      \n",
       "LOGG    =                4.317 / [cm/s2] log10 surface gravity                  \n",
       "FEH     =                0.100 / [log10([Fe/H])]  metallicity                   \n",
       "EBMINUSV=                0.094 / [mag] E(B-V) reddening                         \n",
       "AV      =                0.290 / [mag] A_v extinction                           \n",
       "RADIUS  =                1.200 / [solar radii] stellar radius                   \n",
       "TMINDEX =           1106826700 / unique 2MASS catalog ID                        \n",
       "SCPID   =                      / unique SCP processing ID                       \n",
       "CHECKSUM= 'CAWaD9TVCATaC9TU'   / HDU checksum updated 2015-09-01T14:44:03Z      "
      ]
     },
     "execution_count": 8,
     "metadata": {},
     "output_type": "execute_result"
    }
   ],
   "source": [
    "hdul[0].header"
   ]
  },
  {
   "cell_type": "code",
   "execution_count": 9,
   "metadata": {},
   "outputs": [
    {
     "data": {
      "text/plain": [
       "XTENSION= 'BINTABLE'           / marks the beginning of a new HDU               \n",
       "BITPIX  =                    8 / array data type                                \n",
       "NAXIS   =                    2 / number of array dimensions                     \n",
       "NAXIS1  =                  100 / length of first array dimension                \n",
       "NAXIS2  =                 1639 / length of second array dimension               \n",
       "PCOUNT  =                    0 / group parameter count (not used)               \n",
       "GCOUNT  =                    1 / group count (not used)                         \n",
       "TFIELDS =                   20 / number of table fields                         \n",
       "TTYPE1  = 'TIME    '           / column title: data time stamps                 \n",
       "TFORM1  = 'D       '           / column format: 64-bit floating point           \n",
       "TUNIT1  = 'BJD - 2454833'      / column units: barycenter corrected JD          \n",
       "TDISP1  = 'D14.7   '           / column display format                          \n",
       "TTYPE2  = 'TIMECORR'           / column title: barycenter - timeslice correction\n",
       "TFORM2  = 'E       '           / column format: 32-bit floating point           \n",
       "TUNIT2  = 'd       '           / column units: day                              \n",
       "TDISP2  = 'E13.6   '           / column display format                          \n",
       "TTYPE3  = 'CADENCENO'          / column title: unique cadence number            \n",
       "TFORM3  = 'J       '           / column format: signed 32-bit integer           \n",
       "TDISP3  = 'I10     '           / column display format                          \n",
       "TTYPE4  = 'SAP_FLUX'           / column title: aperture photometry flux         \n",
       "TFORM4  = 'E       '           / column format: 32-bit floating point           \n",
       "TUNIT4  = 'e-/s    '           / column units: electrons per second             \n",
       "TDISP4  = 'E14.7   '           / column display format                          \n",
       "TTYPE5  = 'SAP_FLUX_ERR'       / column title: aperture phot. flux error        \n",
       "TFORM5  = 'E       '           / column format: 32-bit floating point           \n",
       "TUNIT5  = 'e-/s    '           / column units: electrons per second (1-sigma)   \n",
       "TDISP5  = 'E14.7   '           / column display format                          \n",
       "TTYPE6  = 'SAP_BKG '           / column title: aperture phot. background flux   \n",
       "TFORM6  = 'E       '           / column format: 32-bit floating point           \n",
       "TUNIT6  = 'e-/s    '           / column units: electrons per second             \n",
       "TDISP6  = 'E14.7   '           / column display format                          \n",
       "TTYPE7  = 'SAP_BKG_ERR'        / column title: ap. phot. background flux error  \n",
       "TFORM7  = 'E       '           / column format: 32-bit floating point           \n",
       "TUNIT7  = 'e-/s    '           / column units: electrons per second (1-sigma)   \n",
       "TDISP7  = 'E14.7   '           / column display format                          \n",
       "TTYPE8  = 'PDCSAP_FLUX'        / column title: aperture phot. PDC flux          \n",
       "TFORM8  = 'E       '           / column format: 32-bit floating point           \n",
       "TUNIT8  = 'e-/s    '           / column units: electrons per second             \n",
       "TDISP8  = 'E14.7   '           / column display format                          \n",
       "TTYPE9  = 'PDCSAP_FLUX_ERR'    / column title: ap. phot. PDC flux error         \n",
       "TFORM9  = 'E       '           / column format: 32-bit floating point           \n",
       "TUNIT9  = 'e-/s    '           / column units: electrons per second (1-sigma)   \n",
       "TDISP9  = 'E14.7   '           / column display format                          \n",
       "TTYPE10 = 'SAP_QUALITY'        / column title: aperture photometry quality flag \n",
       "TFORM10 = 'J       '           / column format: signed 32-bit integer           \n",
       "TDISP10 = 'B16.16  '           / column display format                          \n",
       "TTYPE11 = 'PSF_CENTR1'         / column title: PSF-fitted column centroid       \n",
       "TFORM11 = 'D       '           / column format: 64-bit floating point           \n",
       "TUNIT11 = 'pixel   '           / column units: pixel                            \n",
       "TDISP11 = 'F10.5   '           / column display format                          \n",
       "TTYPE12 = 'PSF_CENTR1_ERR'     / column title: PSF-fitted column error          \n",
       "TFORM12 = 'E       '           / column format: 32-bit floating point           \n",
       "TUNIT12 = 'pixel   '           / column units: pixel (1-sigma)                  \n",
       "TDISP12 = 'E14.7   '           / column display format                          \n",
       "TTYPE13 = 'PSF_CENTR2'         / column title: PSF-fitted row centroid          \n",
       "TFORM13 = 'D       '           / column format: 64-bit floating point           \n",
       "TUNIT13 = 'pixel   '           / column units: pixel                            \n",
       "TDISP13 = 'F10.5   '           / column display format                          \n",
       "TTYPE14 = 'PSF_CENTR2_ERR'     / column title: PSF-fitted row error             \n",
       "TFORM14 = 'E       '           / column format: 32-bit floating point           \n",
       "TUNIT14 = 'pixel   '           / column units: pixel (1-sigma)                  \n",
       "TDISP14 = 'E14.7   '           / column display format                          \n",
       "TTYPE15 = 'MOM_CENTR1'         / column title: moment-derived column centroid   \n",
       "TFORM15 = 'D       '           / column format: 64-bit floating point           \n",
       "TUNIT15 = 'pixel   '           / column units: pixel                            \n",
       "TDISP15 = 'F10.5   '           / column display format                          \n",
       "TTYPE16 = 'MOM_CENTR1_ERR'     / column title: moment-derived column error      \n",
       "TFORM16 = 'E       '           / column format: 32-bit floating point           \n",
       "TUNIT16 = 'pixel   '           / column units: pixel (1-sigma)                  \n",
       "TDISP16 = 'E14.7   '           / column display format                          \n",
       "TTYPE17 = 'MOM_CENTR2'         / column title: moment-derived row centroid      \n",
       "TFORM17 = 'D       '           / column format: 64-bit floating point           \n",
       "TUNIT17 = 'pixel   '           / column units: pixel                            \n",
       "TDISP17 = 'F10.5   '           / column display format                          \n",
       "TTYPE18 = 'MOM_CENTR2_ERR'     / column title: moment-derived row error         \n",
       "TFORM18 = 'E       '           / column format: 32-bit floating point           \n",
       "TUNIT18 = 'pixel   '           / column units: pixel (1-sigma)                  \n",
       "TDISP18 = 'E14.7   '           / column display format                          \n",
       "TTYPE19 = 'POS_CORR1'          / column title: column position correction       \n",
       "TFORM19 = 'E       '           / column format: 32-bit floating point           \n",
       "TUNIT19 = 'pixels  '           / column units: pixel                            \n",
       "TDISP19 = 'E14.7   '           / column display format                          \n",
       "TTYPE20 = 'POS_CORR2'          / column title: row position correction          \n",
       "TFORM20 = 'E       '           / column format: 32-bit floating point           \n",
       "TUNIT20 = 'pixels  '           / column units: pixel                            \n",
       "TDISP20 = 'E14.7   '           / column display format                          \n",
       "INHERIT =                    T / inherit the primary header                     \n",
       "EXTNAME = 'LIGHTCURVE'         / name of extension                              \n",
       "EXTVER  =                    1 / extension version number (not format version)  \n",
       "TELESCOP= 'Kepler  '           / telescope                                      \n",
       "INSTRUME= 'Kepler Photometer'  / detector type                                  \n",
       "OBJECT  = 'KIC 11442793'       / string version of target id                    \n",
       "KEPLERID=             11442793 / unique Kepler target identifier                \n",
       "RADESYS = 'ICRS    '           / reference frame of celestial coordinates       \n",
       "RA_OBJ  =           284.433491 / [deg] right ascension                          \n",
       "DEC_OBJ =            49.305160 / [deg] declination                              \n",
       "EQUINOX =               2000.0 / equinox of celestial coordinate system         \n",
       "EXPOSURE=          30.83344938 / [d] time on source                             \n",
       "TIMEREF = 'SOLARSYSTEM'        / barycentric correction applied to times        \n",
       "TASSIGN = 'SPACECRAFT'         / where time is assigned                         \n",
       "TIMESYS = 'TDB     '           / time system is barycentric JD                  \n",
       "BJDREFI =              2454833 / integer part of BJD reference date             \n",
       "BJDREFF =           0.00000000 / fraction of the day in BJD reference date      \n",
       "TIMEUNIT= 'd       '           / time unit for TIME, TSTART and TSTOP           \n",
       "TELAPSE =          33.49150537 / [d] TSTOP - TSTART                             \n",
       "LIVETIME=          30.83344938 / [d] TELAPSE multiplied by DEADC                \n",
       "TSTART  =         131.50222238 / observation start time in BJD-BJDREF           \n",
       "TSTOP   =         164.99372774 / observation stop time in BJD-BJDREF            \n",
       "LC_START=       54964.01099382 / mid point of first cadence in MJD              \n",
       "LC_END  =       54997.48122492 / mid point of last cadence in MJD               \n",
       "DEADC   =           0.92063492 / deadtime correction                            \n",
       "TIMEPIXR=                  0.5 / bin time beginning=0 middle=0.5 end=1          \n",
       "TIERRELA=             5.78E-07 / [d] relative time error                        \n",
       "TIERABSO=                      / [d] absolute time error                        \n",
       "INT_TIME=       6.019802903270 / [s] photon accumulation time per frame         \n",
       "READTIME=       0.518948526144 / [s] readout time per frame                     \n",
       "FRAMETIM=       6.538751429414 / [s] frame time (INT_TIME + READTIME)           \n",
       "NUM_FRM =                  270 / number of frames per time stamp                \n",
       "TIMEDEL =     0.02043359821692 / [d] time resolution of data                    \n",
       "DATE-OBS= '2009-05-13T00:01:07.136Z' / TSTART as UTC calendar date              \n",
       "DATE-END= '2009-06-15T11:47:40.562Z' / TSTOP as UTC calendar date               \n",
       "BACKAPP =                    T / background is subtracted                       \n",
       "DEADAPP =                    T / deadtime applied                               \n",
       "VIGNAPP =                    T / vignetting or collimator correction applied    \n",
       "GAIN    =               114.65 / [electrons/count] channel gain                 \n",
       "READNOIS=            92.534015 / [electrons] read noise                         \n",
       "NREADOUT=                  270 / number of read per cadence                     \n",
       "TIMSLICE=                    4 / time-slice readout sequence section            \n",
       "MEANBLCK=                  659 / [count] FSW mean black level                   \n",
       "LCFXDOFF=               419400 / long cadence fixed offset                      \n",
       "SCFXDOFF=               219400 / short cadence fixed offset                     \n",
       "CDPP3_0 =    87.93231964111328 / [ppm] RMS CDPP on 3.0-hr time scales           \n",
       "CDPP6_0 =    69.45165252685547 / [ppm] RMS CDPP on 6.0-hr time scales           \n",
       "CDPP12_0=    61.18773651123047 / [ppm] RMS CDPP on 12.0-hr time scales          \n",
       "CROWDSAP=               1.0000 / Ratio of target flux to total flux in op. ap.  \n",
       "FLFRCSAP=               0.8842 / Frac. of target flux w/in the op. aperture     \n",
       "NSPSDDET=                    0 / Number of SPSDs detected                       \n",
       "NSPSDCOR=                    0 / Number of SPSDs corrected                      \n",
       "PDCVAR  =   1.0871423482894897 / Target variability                             \n",
       "PDCMETHD= 'regularMap'         / PDC algorithm used for target                  \n",
       "NUMBAND =                    1 / Number of scale bands                          \n",
       "FITTYPE1= 'prior   '           / Fit type used for band 1                       \n",
       "PR_GOOD1=  0.47960662841796875 / Prior goodness for band 1                      \n",
       "PR_WGHT1=    2.089244842529297 / Prior weight for band 1                        \n",
       "PDC_TOT =   0.9910781383514404 / PDC total goodness metric for target           \n",
       "PDC_TOTP=    88.71306610107422 / PDC_TOT percentile compared to mod/out         \n",
       "PDC_COR =   0.9937941431999207 / PDC correlation goodness metric for target     \n",
       "PDC_CORP=     82.7606430053711 / PDC_COR percentile compared to mod/out         \n",
       "PDC_VAR =   0.9998106360435486 / PDC variability goodness metric for target     \n",
       "PDC_VARP=    78.92485046386719 / PDC_VAR percentile compared to mod/out         \n",
       "PDC_NOI =    0.971616268157959 / PDC noise goodness metric for target           \n",
       "PDC_NOIP=    75.97969818115234 / PDC_NOI percentile compared to mod/out         \n",
       "PDC_EPT =                      / PDC earth point goodness metric for target     \n",
       "PDC_EPTP=                      / PDC_EPT percentile compared to mod/out         \n",
       "CHECKSUM= 'eDFThADReADReADR'   / HDU checksum updated 2015-09-01T14:44:03Z      "
      ]
     },
     "execution_count": 9,
     "metadata": {},
     "output_type": "execute_result"
    }
   ],
   "source": [
    "hdul[1].header"
   ]
  },
  {
   "cell_type": "code",
   "execution_count": 10,
   "metadata": {},
   "outputs": [
    {
     "data": {
      "text/plain": [
       "XTENSION= 'IMAGE   '           / marks the beginning of a new HDU               \n",
       "BITPIX  =                   32 / array data type                                \n",
       "NAXIS   =                    2 / number of array dimensions                     \n",
       "NAXIS1  =                    6 / length of first array dimension                \n",
       "NAXIS2  =                    6 / length of second array dimension               \n",
       "PCOUNT  =                    0 / group parameter count (not used)               \n",
       "GCOUNT  =                    1 / group count (not used)                         \n",
       "INHERIT =                    T / inherit the primary header                     \n",
       "EXTNAME = 'APERTURE'           / name of extension                              \n",
       "EXTVER  =                    1 / extension version number (not format version)  \n",
       "TELESCOP= 'Kepler  '           / telescope                                      \n",
       "INSTRUME= 'Kepler Photometer'  / detector type                                  \n",
       "OBJECT  = 'KIC 11442793'       / string version of target id                    \n",
       "KEPLERID=             11442793 / unique Kepler target identifier                \n",
       "RADESYS = 'ICRS    '           / reference frame of celestial coordinates       \n",
       "RA_OBJ  =           284.433491 / [deg] right ascension                          \n",
       "DEC_OBJ =            49.305160 / [deg] declination                              \n",
       "EQUINOX =               2000.0 / equinox of celestial coordinate system         \n",
       "WCSAXES =                    2 / number of WCS axes                             \n",
       "CTYPE1  = 'RA---TAN'           / right ascension coordinate type                \n",
       "CTYPE2  = 'DEC--TAN'           / declination coordinate type                    \n",
       "CRPIX1  =   3.7424266666774884 / [pixel] reference pixel along image axis 1     \n",
       "CRPIX2  =    3.569696274880698 / [pixel] reference pixel along image axis 2     \n",
       "CRVAL1  =          284.4334905 / [deg] right ascension at reference pixel       \n",
       "CRVAL2  =             49.30516 / [deg] declination at reference pixel           \n",
       "CUNIT1  = 'deg     '           / physical unit in column dimension              \n",
       "CUNIT2  = 'deg     '           / physical unit in row dimension                 \n",
       "CDELT1  =   -0.001105258821344 / [deg] pixel scale in RA dimension              \n",
       "CDELT2  =    0.001105258821344 / [deg] pixel scale in Dec dimension             \n",
       "PC1_1   =  -0.7925982335943295 / linear transformation element cos(th)          \n",
       "PC1_2   =  -0.6099776459386095 / linear transformation element -sin(th)         \n",
       "PC2_1   =   0.6098532821796696 / linear transformation element sin(th)          \n",
       "PC2_2   =  -0.7923347592136286 / linear transformation element cos(th)          \n",
       "WCSNAMEP= 'PHYSICAL'           / name of world coordinate system alternate P    \n",
       "WCSAXESP=                    2 / number of WCS physical axes                    \n",
       "CTYPE1P = 'RAWX    '           / physical WCS axis 1 type CCD col               \n",
       "CUNIT1P = 'PIXEL   '           / physical WCS axis 1 unit                       \n",
       "CRPIX1P =                    1 / reference CCD column                           \n",
       "CRVAL1P =                  469 / value at reference CCD column                  \n",
       "CDELT1P =                  1.0 / physical WCS axis 1 step                       \n",
       "CTYPE2P = 'RAWY    '           / physical WCS axis 2 type CCD row               \n",
       "CUNIT2P = 'PIXEL   '           / physical WCS axis 2 units                      \n",
       "CRPIX2P =                    1 / reference CCD row                              \n",
       "CRVAL2P =                  484 / value at reference CCD row                     \n",
       "CDELT2P =                  1.0 / physical WCS axis 2 step                       \n",
       "NPIXSAP =                    8 / Number of pixels in optimal aperture           \n",
       "NPIXMISS=                    0 / Number of op. aperture pixels not collected    \n",
       "CHECKSUM= 'iDlOiDlNiDlNiDlN'   / HDU checksum updated 2015-09-01T14:44:03Z      "
      ]
     },
     "execution_count": 10,
     "metadata": {},
     "output_type": "execute_result"
    }
   ],
   "source": [
    "hdul[2].header"
   ]
  },
  {
   "cell_type": "markdown",
   "metadata": {},
   "source": [
    "#### working with image data"
   ]
  },
  {
   "cell_type": "code",
   "execution_count": 11,
   "metadata": {},
   "outputs": [
    {
     "data": {
      "text/plain": [
       "array([[ 9, 13, 13, 13, 13,  0],\n",
       "       [ 9, 13, 15, 15, 13, 13],\n",
       "       [ 9, 13, 15, 15, 15, 13],\n",
       "       [ 9, 13, 15, 15, 13, 13],\n",
       "       [ 9, 13, 13, 15, 13,  9],\n",
       "       [ 0,  9, 13, 13, 13,  0]], dtype=int32)"
      ]
     },
     "execution_count": 11,
     "metadata": {},
     "output_type": "execute_result"
    }
   ],
   "source": [
    "hdul[2].data"
   ]
  },
  {
   "cell_type": "markdown",
   "metadata": {},
   "source": [
    "#### working with table data"
   ]
  },
  {
   "cell_type": "code",
   "execution_count": 13,
   "metadata": {},
   "outputs": [
    {
     "data": {
      "text/plain": [
       "FITS_rec([(131.51243946, 0.00144564, 1105, 34751.586, 6.1211696, 1041.6097 , 0.4687456 , 39024.062, 6.8862076,    0, 471.73899628, 0.00011278, 486.6331789 , 1.05328974e-04, 471.76120036, 0.00021951, 486.65082752, 0.0002826 , -0.00199746,  0.04352283),\n",
       "          (131.53287376, 0.00144624, 1106, 34765.273, 6.1216455, 1039.3431 , 0.46697727, 39034.062, 6.8904653,    0, 471.73934668, 0.00011278, 486.63340351, 1.05272309e-04, 471.76166904, 0.00021936, 486.65081883, 0.00028243, -0.00192891,  0.04359748),\n",
       "          (131.55330797, 0.00144685, 1107, 34759.652, 6.1214185, 1041.2794 , 0.46803695, 39028.047, 6.8908534, 8192, 471.73901698, 0.00011275, 486.63327159, 1.05299820e-04, 471.76120454, 0.0002194 , 486.65069645, 0.00028249, -0.00207302,  0.04369882),\n",
       "          ...,\n",
       "          (164.94264287, 0.00228505, 2741, 34197.26 , 6.0830383,  974.10474, 0.4679694 , 39012.67 , 6.8562007,    0, 471.72081806, 0.00011429, 486.52163023, 9.85800580e-05, 471.74923811, 0.00022059, 486.53253667, 0.00028311, -0.0053142 , -0.05859188),\n",
       "          (164.96307677, 0.00228545, 2742, 34195.69 , 6.082975 ,  974.5569 , 0.46829915, 39013.125, 6.8552017,    0, 471.72036847, 0.00011428, 486.52109945, 9.84932558e-05, 471.7491121 , 0.0002206 , 486.53233502, 0.00028313, -0.00556219, -0.05897318),\n",
       "          (164.98351076, 0.00228584, 2743, 34195.56 , 6.082985 ,  974.9003 , 0.46878207, 39016.6  , 6.8546557,    0, 471.72013823, 0.00011426, 486.52114788, 9.85031438e-05, 471.74916292, 0.00022058, 486.53245128, 0.00028312, -0.00547735, -0.05888715)],\n",
       "         dtype=(numpy.record, [('TIME', '>f8'), ('TIMECORR', '>f4'), ('CADENCENO', '>i4'), ('SAP_FLUX', '>f4'), ('SAP_FLUX_ERR', '>f4'), ('SAP_BKG', '>f4'), ('SAP_BKG_ERR', '>f4'), ('PDCSAP_FLUX', '>f4'), ('PDCSAP_FLUX_ERR', '>f4'), ('SAP_QUALITY', '>i4'), ('PSF_CENTR1', '>f8'), ('PSF_CENTR1_ERR', '>f4'), ('PSF_CENTR2', '>f8'), ('PSF_CENTR2_ERR', '>f4'), ('MOM_CENTR1', '>f8'), ('MOM_CENTR1_ERR', '>f4'), ('MOM_CENTR2', '>f8'), ('MOM_CENTR2_ERR', '>f4'), ('POS_CORR1', '>f4'), ('POS_CORR2', '>f4')]))"
      ]
     },
     "execution_count": 13,
     "metadata": {},
     "output_type": "execute_result"
    }
   ],
   "source": [
    "data=hdul[1].data\n",
    "data"
   ]
  },
  {
   "cell_type": "code",
   "execution_count": 14,
   "metadata": {},
   "outputs": [
    {
     "data": {
      "text/plain": [
       "(131.5124394588347, 0.0014456388, 1105, 34751.586, 6.1211696, 1041.6097, 0.4687456, 39024.062, 6.8862076, 0, 471.73899627562633, 0.00011278285, 486.6331789026923, 0.000105328974, 471.76120035588144, 0.00021950746, 486.65082751864014, 0.00028259802, -0.0019974618, 0.043522827)"
      ]
     },
     "execution_count": 14,
     "metadata": {},
     "output_type": "execute_result"
    }
   ],
   "source": [
    "data[0]"
   ]
  },
  {
   "cell_type": "code",
   "execution_count": 15,
   "metadata": {},
   "outputs": [
    {
     "data": {
      "text/plain": [
       "ColDefs(\n",
       "    name = 'TIME'; format = 'D'; unit = 'BJD - 2454833'; disp = 'D14.7'\n",
       "    name = 'TIMECORR'; format = 'E'; unit = 'd'; disp = 'E13.6'\n",
       "    name = 'CADENCENO'; format = 'J'; disp = 'I10'\n",
       "    name = 'SAP_FLUX'; format = 'E'; unit = 'e-/s'; disp = 'E14.7'\n",
       "    name = 'SAP_FLUX_ERR'; format = 'E'; unit = 'e-/s'; disp = 'E14.7'\n",
       "    name = 'SAP_BKG'; format = 'E'; unit = 'e-/s'; disp = 'E14.7'\n",
       "    name = 'SAP_BKG_ERR'; format = 'E'; unit = 'e-/s'; disp = 'E14.7'\n",
       "    name = 'PDCSAP_FLUX'; format = 'E'; unit = 'e-/s'; disp = 'E14.7'\n",
       "    name = 'PDCSAP_FLUX_ERR'; format = 'E'; unit = 'e-/s'; disp = 'E14.7'\n",
       "    name = 'SAP_QUALITY'; format = 'J'; disp = 'B16.16'\n",
       "    name = 'PSF_CENTR1'; format = 'D'; unit = 'pixel'; disp = 'F10.5'\n",
       "    name = 'PSF_CENTR1_ERR'; format = 'E'; unit = 'pixel'; disp = 'E14.7'\n",
       "    name = 'PSF_CENTR2'; format = 'D'; unit = 'pixel'; disp = 'F10.5'\n",
       "    name = 'PSF_CENTR2_ERR'; format = 'E'; unit = 'pixel'; disp = 'E14.7'\n",
       "    name = 'MOM_CENTR1'; format = 'D'; unit = 'pixel'; disp = 'F10.5'\n",
       "    name = 'MOM_CENTR1_ERR'; format = 'E'; unit = 'pixel'; disp = 'E14.7'\n",
       "    name = 'MOM_CENTR2'; format = 'D'; unit = 'pixel'; disp = 'F10.5'\n",
       "    name = 'MOM_CENTR2_ERR'; format = 'E'; unit = 'pixel'; disp = 'E14.7'\n",
       "    name = 'POS_CORR1'; format = 'E'; unit = 'pixels'; disp = 'E14.7'\n",
       "    name = 'POS_CORR2'; format = 'E'; unit = 'pixels'; disp = 'E14.7'\n",
       ")"
      ]
     },
     "execution_count": 15,
     "metadata": {},
     "output_type": "execute_result"
    }
   ],
   "source": [
    "cols=hdul[1].columns\n",
    "cols"
   ]
  },
  {
   "cell_type": "code",
   "execution_count": 16,
   "metadata": {},
   "outputs": [
    {
     "data": {
      "text/plain": [
       "['TIME',\n",
       " 'TIMECORR',\n",
       " 'CADENCENO',\n",
       " 'SAP_FLUX',\n",
       " 'SAP_FLUX_ERR',\n",
       " 'SAP_BKG',\n",
       " 'SAP_BKG_ERR',\n",
       " 'PDCSAP_FLUX',\n",
       " 'PDCSAP_FLUX_ERR',\n",
       " 'SAP_QUALITY',\n",
       " 'PSF_CENTR1',\n",
       " 'PSF_CENTR1_ERR',\n",
       " 'PSF_CENTR2',\n",
       " 'PSF_CENTR2_ERR',\n",
       " 'MOM_CENTR1',\n",
       " 'MOM_CENTR1_ERR',\n",
       " 'MOM_CENTR2',\n",
       " 'MOM_CENTR2_ERR',\n",
       " 'POS_CORR1',\n",
       " 'POS_CORR2']"
      ]
     },
     "execution_count": 16,
     "metadata": {},
     "output_type": "execute_result"
    }
   ],
   "source": [
    "cols.names"
   ]
  },
  {
   "cell_type": "code",
   "execution_count": 37,
   "metadata": {},
   "outputs": [
    {
     "name": "stdout",
     "output_type": "stream",
     "text": [
      "(1639,)\n",
      "count     1624.000000\n",
      "mean     39034.941406\n",
      "std         39.573364\n",
      "min      38728.843750\n",
      "25%      39033.269531\n",
      "50%      39041.304688\n",
      "75%      39048.562500\n",
      "max      39145.132812\n",
      "dtype: float64\n",
      "15\n"
     ]
    },
    {
     "data": {
      "text/plain": [
       "0       39024.062500\n",
       "1       39034.062500\n",
       "2       39028.046875\n",
       "3       39028.257812\n",
       "4       39031.824219\n",
       "            ...     \n",
       "1634    39010.511719\n",
       "1635    39008.289062\n",
       "1636    39012.671875\n",
       "1637    39013.125000\n",
       "1638    39016.601562\n",
       "Length: 1639, dtype: float32"
      ]
     },
     "execution_count": 37,
     "metadata": {},
     "output_type": "execute_result"
    }
   ],
   "source": [
    "light=pd.Series(data['PDCSAP_FLUX'])\n",
    "print(light.shape)\n",
    "print(light.describe())\n",
    "print(light.isna().sum())\n",
    "light"
   ]
  },
  {
   "cell_type": "markdown",
   "metadata": {},
   "source": [
    "#### using script from https://exoplanetarchive.ipac.caltech.edu/cgi-bin/TblView/nph-tblView?app=ExoTbls&config=tce to download FITS"
   ]
  },
  {
   "cell_type": "code",
   "execution_count": 39,
   "metadata": {},
   "outputs": [],
   "source": [
    "!wget -O 'kplr002304566-20160128150956_dvt.fits' 'http://exoplanetarchive.ipac.caltech.edu:80/data/ETSS//KeplerDV/005/712/70/kplr002304566-20160128150956_dvt.fits' -a search_31512760.log\n"
   ]
  },
  {
   "cell_type": "code",
   "execution_count": 40,
   "metadata": {},
   "outputs": [],
   "source": [
    "!wget -O 'kplr002304566_q1_q17_dr25_tce_01_dvt_lc.tbl' 'http://exoplanetarchive.ipac.caltech.edu:80/data/ETSS//KeplerDV/005/715/27/kplr002304566_q1_q17_dr25_tce_01_dvt_lc.tbl' -a search_31512760.log\n"
   ]
  },
  {
   "cell_type": "code",
   "execution_count": 41,
   "metadata": {},
   "outputs": [],
   "source": [
    "hdul=fits.open('kplr002304566-20160128150956_dvt.fits')"
   ]
  },
  {
   "cell_type": "code",
   "execution_count": 42,
   "metadata": {},
   "outputs": [
    {
     "name": "stdout",
     "output_type": "stream",
     "text": [
      "Filename: kplr002304566-20160128150956_dvt.fits\n",
      "No.    Name      Ver    Type      Cards   Dimensions   Format\n",
      "  0  PRIMARY       1 PrimaryHDU      56   ()      \n",
      "  1  TCE_1         1 BinTableHDU    106   71427R x 10C   [D, E, J, E, E, E, E, E, E, E]   \n",
      "  2  Statistics    1 BinTableHDU    221   71427R x 50C   [D, E, J, E, E, E, E, J, E, E, E, E, E, E, E, E, E, E, E, E, E, E, E, E, E, E, E, E, E, E, E, E, E, E, E, E, E, E, E, E, E, E, E, E, E, E, E, E, E, E]   \n"
     ]
    }
   ],
   "source": [
    "hdul.info()"
   ]
  },
  {
   "cell_type": "code",
   "execution_count": 43,
   "metadata": {},
   "outputs": [],
   "source": [
    "light=hdul[1].data"
   ]
  },
  {
   "cell_type": "code",
   "execution_count": 44,
   "metadata": {},
   "outputs": [
    {
     "data": {
      "text/plain": [
       "FITS_rec([( 131.51261381, -0.00161999,  1105, 0.36891592,  2.3073003e-04, 0.00011691,  1.2563534 ,  2.3073003e-04, 0., 0.00262903),\n",
       "          ( 131.53304851, -0.00162099,  1106, 0.3893506 , -8.1233062e-05, 0.00011702, -0.5985206 , -8.1233062e-05, 0., 0.00216719),\n",
       "          ( 131.55348311, -0.00162199,  1107, 0.4097852 , -2.6777497e-04, 0.00011703, -1.4789597 , -2.6777497e-04, 0., 0.0016323 ),\n",
       "          ...,\n",
       "          (1590.96056868, -0.00028366, 72529, 0.18857953, -7.4173906e-05, 0.0001244 , -0.42694682, -7.4173906e-05, 0., 0.00348609),\n",
       "          (1590.9810032 , -0.00028468, 72530, 0.20901406, -1.4738475e-04, 0.00012401, -0.75604767, -1.4738475e-04, 0., 0.00263861),\n",
       "          (1591.00143793, -0.00028571, 72531, 0.2294488 ,  2.3761233e-05, 0.00012426,  0.50727314,  2.3761233e-05, 0., 0.00207366)],\n",
       "         dtype=(numpy.record, [('TIME', '>f8'), ('TIMECORR', '>f4'), ('CADENCENO', '>i4'), ('PHASE', '>f4'), ('LC_INIT', '>f4'), ('LC_INIT_ERR', '>f4'), ('LC_WHITE', '>f4'), ('LC_DETREND', '>f4'), ('MODEL_INIT', '>f4'), ('MODEL_WHITE', '>f4')]))"
      ]
     },
     "execution_count": 44,
     "metadata": {},
     "output_type": "execute_result"
    }
   ],
   "source": [
    "light"
   ]
  }
 ],
 "metadata": {
  "kernelspec": {
   "display_name": "Python 3",
   "language": "python",
   "name": "python3"
  },
  "language_info": {
   "codemirror_mode": {
    "name": "ipython",
    "version": 3
   },
   "file_extension": ".py",
   "mimetype": "text/x-python",
   "name": "python",
   "nbconvert_exporter": "python",
   "pygments_lexer": "ipython3",
   "version": "3.7.6"
  }
 },
 "nbformat": 4,
 "nbformat_minor": 4
}
