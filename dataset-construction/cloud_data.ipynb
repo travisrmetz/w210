{
 "cells": [
  {
   "cell_type": "code",
   "execution_count": 7,
   "metadata": {},
   "outputs": [
    {
     "name": "stdout",
     "output_type": "stream",
     "text": [
      "Collecting boto3\n",
      "  Downloading boto3-1.15.18-py2.py3-none-any.whl (129 kB)\n",
      "\u001b[K     |████████████████████████████████| 129 kB 19.7 MB/s eta 0:00:01\n",
      "\u001b[?25hCollecting s3transfer<0.4.0,>=0.3.0\n",
      "  Downloading s3transfer-0.3.3-py2.py3-none-any.whl (69 kB)\n",
      "\u001b[K     |████████████████████████████████| 69 kB 8.5 MB/s  eta 0:00:01\n",
      "\u001b[?25hCollecting jmespath<1.0.0,>=0.7.1\n",
      "  Downloading jmespath-0.10.0-py2.py3-none-any.whl (24 kB)\n",
      "Collecting botocore<1.19.0,>=1.18.18\n",
      "  Downloading botocore-1.18.18-py2.py3-none-any.whl (6.7 MB)\n",
      "\u001b[K     |████████████████████████████████| 6.7 MB 33.7 MB/s eta 0:00:01     |██▉                             | 593 kB 33.7 MB/s eta 0:00:01     |██████████████████▉             | 3.9 MB 33.7 MB/s eta 0:00:01\n",
      "\u001b[?25hRequirement already satisfied: python-dateutil<3.0.0,>=2.1 in /home/ubuntu/anaconda3/lib/python3.8/site-packages (from botocore<1.19.0,>=1.18.18->boto3) (2.8.1)\n",
      "Requirement already satisfied: urllib3<1.26,>=1.20; python_version != \"3.4\" in /home/ubuntu/anaconda3/lib/python3.8/site-packages (from botocore<1.19.0,>=1.18.18->boto3) (1.25.9)\n",
      "Requirement already satisfied: six>=1.5 in /home/ubuntu/anaconda3/lib/python3.8/site-packages (from python-dateutil<3.0.0,>=2.1->botocore<1.19.0,>=1.18.18->boto3) (1.15.0)\n",
      "Installing collected packages: jmespath, botocore, s3transfer, boto3\n",
      "Successfully installed boto3-1.15.18 botocore-1.18.18 jmespath-0.10.0 s3transfer-0.3.3\n"
     ]
    }
   ],
   "source": [
    "# Install a pip package in the current Jupyter kernel\n",
    "import sys\n",
    "# !{sys.executable} -m pip install astroquery\n",
    "# !{sys.executable} -m pip install boto3"
   ]
  },
  {
   "cell_type": "code",
   "execution_count": 34,
   "metadata": {},
   "outputs": [],
   "source": [
    "import os\n",
    "from astroquery.mast import Observations\n",
    "from credentials import AWS_ACCESS_KEY_ID, AWS_SECRET_ACCESS_KEY"
   ]
  },
  {
   "cell_type": "code",
   "execution_count": 37,
   "metadata": {},
   "outputs": [],
   "source": [
    "# If credential environment are not already set, we can set them within python.\n",
    "os.environ['AWS_ACCESS_KEY_ID'] = AWS_ACCESS_KEY_ID\n",
    "os.environ['AWS_SECRET_ACCESS_KEY'] = AWS_SECRET_ACCESS_KEY"
   ]
  },
  {
   "cell_type": "code",
   "execution_count": 24,
   "metadata": {},
   "outputs": [
    {
     "name": "stdout",
     "output_type": "stream",
     "text": [
      "INFO: Using the S3 STScI public dataset [astroquery.mast.cloud]\n",
      "INFO: See Request Pricing in https://aws.amazon.com/s3/pricing/ for details [astroquery.mast.cloud]\n",
      "INFO: If you have not configured boto3, follow the instructions here: https://boto3.readthedocs.io/en/latest/guide/configuration.html [astroquery.mast.cloud]\n"
     ]
    },
    {
     "name": "stderr",
     "output_type": "stream",
     "text": [
      "WARNING: Your AWS account will be charged for access to the S3 bucket [astroquery.mast.cloud]\n"
     ]
    }
   ],
   "source": [
    "# If your profile is not called [default], update the next line:\n",
    "# Observations.enable_cloud_dataset(provider='AWS', profile='Dean')\n",
    "Observations.enable_cloud_dataset(provider='AWS')"
   ]
  },
  {
   "cell_type": "code",
   "execution_count": 13,
   "metadata": {},
   "outputs": [
    {
     "name": "stderr",
     "output_type": "stream",
     "text": [
      "WARNING: NoResultsWarning: Unable to locate file hst_12062_eo_acs_wfc_f606w_drz.fits. [astroquery.mast.cloud]\n",
      "WARNING: NoResultsWarning: Unable to locate file hst_12062_eo_acs_wfc_f606w_01_drz.fits. [astroquery.mast.cloud]\n",
      "WARNING: NoResultsWarning: Unable to locate file hst_12062_eo_acs_wfc_f606w_02_drz.fits. [astroquery.mast.cloud]\n",
      "WARNING: NoResultsWarning: Unable to locate file hst_12062_eo_acs_wfc_f606w_03_drz.fits. [astroquery.mast.cloud]\n",
      "WARNING: NoResultsWarning: Unable to locate file hst_12062_eo_acs_wfc_f606w_04_drz.fits. [astroquery.mast.cloud]\n",
      "WARNING: NoResultsWarning: Unable to locate file hst_12062_eo_acs_wfc_f606w_05_drz.fits. [astroquery.mast.cloud]\n",
      "WARNING: NoResultsWarning: Unable to locate file hst_12062_et_acs_wfc_f606w_drz.fits. [astroquery.mast.cloud]\n",
      "WARNING: NoResultsWarning: Unable to locate file hst_12062_et_acs_wfc_f606w_01_drz.fits. [astroquery.mast.cloud]\n",
      "WARNING: NoResultsWarning: Unable to locate file hst_12062_et_acs_wfc_f606w_02_drz.fits. [astroquery.mast.cloud]\n",
      "WARNING: NoResultsWarning: Unable to locate file hst_12062_et_acs_wfc_f606w_03_drz.fits. [astroquery.mast.cloud]\n",
      "WARNING: NoResultsWarning: Unable to locate file hst_12062_et_acs_wfc_f606w_04_drz.fits. [astroquery.mast.cloud]\n",
      "WARNING: NoResultsWarning: Unable to locate file hst_12062_et_acs_wfc_f606w_05_drz.fits. [astroquery.mast.cloud]\n"
     ]
    },
    {
     "name": "stdout",
     "output_type": "stream",
     "text": [
      "[None, None, None, None, None, None, None, None, None, None, None, None, 's3://stpubdata/hst/public/jbev/jbeveo010/jbeveo010_drz.fits', 's3://stpubdata/hst/public/jbev/jbevet010/jbevet010_drz.fits']\n"
     ]
    }
   ],
   "source": [
    "# Getting the cloud URIs\n",
    "obs_table = Observations.query_criteria(obs_collection='HST',\n",
    "                                        filters='F606W',\n",
    "                                        instrument_name='ACS/WFC',\n",
    "                                        proposal_id=['12062'],\n",
    "                                        dataRights='PUBLIC')\n",
    "products = Observations.get_product_list(obs_table)\n",
    "filtered = Observations.filter_products(products,\n",
    "                                        productSubGroupDescription='DRZ')\n",
    "s3_uris = Observations.get_cloud_uris(filtered)\n",
    "print(s3_uris)"
   ]
  },
  {
   "cell_type": "code",
   "execution_count": 62,
   "metadata": {},
   "outputs": [
    {
     "name": "stdout",
     "output_type": "stream",
     "text": [
      "Downloading URL s3://stpubdata/kepler/public/lightcurves/0007/000757099/kplr000757099-2009166043257_llc.fits to ./mastDownload/Kepler/kplr000757099_lc_Q011111111111111111/kplr000757099-2009166043257_llc.fits ... [Done]\n",
      "Downloading URL s3://stpubdata/kepler/public/lightcurves/0007/000757099/kplr000757099-2009259160929_llc.fits to ./mastDownload/Kepler/kplr000757099_lc_Q011111111111111111/kplr000757099-2009259160929_llc.fits ... [Done]\n",
      "Downloading URL s3://stpubdata/kepler/public/lightcurves/0007/000757099/kplr000757099-2009350155506_llc.fits to ./mastDownload/Kepler/kplr000757099_lc_Q011111111111111111/kplr000757099-2009350155506_llc.fits ... [Done]\n",
      "Downloading URL s3://stpubdata/kepler/public/lightcurves/0007/000757099/kplr000757099-2010078095331_llc.fits to ./mastDownload/Kepler/kplr000757099_lc_Q011111111111111111/kplr000757099-2010078095331_llc.fits ... [Done]\n",
      "Downloading URL s3://stpubdata/kepler/public/lightcurves/0007/000757099/kplr000757099-2010174085026_llc.fits to ./mastDownload/Kepler/kplr000757099_lc_Q011111111111111111/kplr000757099-2010174085026_llc.fits ... [Done]\n",
      "Downloading URL s3://stpubdata/kepler/public/lightcurves/0007/000757099/kplr000757099-2010265121752_llc.fits to ./mastDownload/Kepler/kplr000757099_lc_Q011111111111111111/kplr000757099-2010265121752_llc.fits ... [Failed]\n"
     ]
    },
    {
     "name": "stderr",
     "output_type": "stream",
     "text": [
      "ERROR: Error pulling from S3 bucket: [Errno 28] No space left on device [astroquery.mast.observations]\n",
      "WARNING: Skipping file... [astroquery.mast.observations]\n"
     ]
    },
    {
     "name": "stdout",
     "output_type": "stream",
     "text": [
      "Downloading URL s3://stpubdata/kepler/public/lightcurves/0007/000757099/kplr000757099-2010355172524_llc.fits to ./mastDownload/Kepler/kplr000757099_lc_Q011111111111111111/kplr000757099-2010355172524_llc.fits ... [Failed]\n"
     ]
    },
    {
     "name": "stderr",
     "output_type": "stream",
     "text": [
      "ERROR: Error pulling from S3 bucket: [Errno 28] No space left on device [astroquery.mast.observations]\n",
      "WARNING: Skipping file... [astroquery.mast.observations]\n"
     ]
    },
    {
     "name": "stdout",
     "output_type": "stream",
     "text": [
      "Downloading URL s3://stpubdata/kepler/public/lightcurves/0007/000757099/kplr000757099-2011073133259_llc.fits to ./mastDownload/Kepler/kplr000757099_lc_Q011111111111111111/kplr000757099-2011073133259_llc.fits ... [Failed]\n"
     ]
    },
    {
     "name": "stderr",
     "output_type": "stream",
     "text": [
      "ERROR: Error pulling from S3 bucket: [Errno 28] No space left on device [astroquery.mast.observations]\n",
      "WARNING: Skipping file... [astroquery.mast.observations]\n"
     ]
    },
    {
     "name": "stdout",
     "output_type": "stream",
     "text": [
      "Downloading URL s3://stpubdata/kepler/public/lightcurves/0007/000757099/kplr000757099-2011177032512_llc.fits to ./mastDownload/Kepler/kplr000757099_lc_Q011111111111111111/kplr000757099-2011177032512_llc.fits ... [Failed]\n"
     ]
    },
    {
     "name": "stderr",
     "output_type": "stream",
     "text": [
      "ERROR: Error pulling from S3 bucket: [Errno 28] No space left on device [astroquery.mast.observations]\n",
      "WARNING: Skipping file... [astroquery.mast.observations]\n"
     ]
    },
    {
     "name": "stdout",
     "output_type": "stream",
     "text": [
      "Downloading URL s3://stpubdata/kepler/public/lightcurves/0007/000757099/kplr000757099-2011271113734_llc.fits to ./mastDownload/Kepler/kplr000757099_lc_Q011111111111111111/kplr000757099-2011271113734_llc.fits ... [Failed]\n"
     ]
    },
    {
     "name": "stderr",
     "output_type": "stream",
     "text": [
      "ERROR: Error pulling from S3 bucket: [Errno 28] No space left on device [astroquery.mast.observations]\n",
      "WARNING: Skipping file... [astroquery.mast.observations]\n"
     ]
    }
   ],
   "source": [
    "# Downloading from the cloud\n",
    "obs_table = Observations.query_criteria(obs_collection=['Kepler'],\n",
    "                                        objectname=\"KIC 757099\", \n",
    "                                        dataproduct_type=\"timeseries\",\n",
    "                                        radius=0)\n",
    "products = Observations.get_product_list(obs_table[0])\n",
    "products = Observations.filter_products(products,\n",
    "                                       extension=\"fits\",\n",
    "                                       productType=\"SCIENCE\")\n",
    "manifest = Observations.download_products(products[:10], cloud_only=True)"
   ]
  },
  {
   "cell_type": "code",
   "execution_count": 63,
   "metadata": {},
   "outputs": [
    {
     "data": {
      "text/html": [
       "<i>Table masked=True length=17</i>\n",
       "<table id=\"table140343579628016\" class=\"table-striped table-bordered table-condensed\">\n",
       "<thead><tr><th>obsID</th><th>obs_collection</th><th>dataproduct_type</th><th>obs_id</th><th>description</th><th>type</th><th>dataURI</th><th>productType</th><th>productGroupDescription</th><th>productSubGroupDescription</th><th>productDocumentationURL</th><th>project</th><th>prvversion</th><th>proposal_id</th><th>productFilename</th><th>size</th><th>parent_obsid</th></tr></thead>\n",
       "<thead><tr><th>str10</th><th>str6</th><th>str10</th><th>str36</th><th>str59</th><th>str1</th><th>str110</th><th>str9</th><th>str28</th><th>str8</th><th>str1</th><th>str6</th><th>str1</th><th>str2</th><th>str44</th><th>int64</th><th>str10</th></tr></thead>\n",
       "<tr><td>9000179539</td><td>Kepler</td><td>timeseries</td><td>kplr000757099_lc_Q011111111111111111</td><td>Lightcurve Long Cadence (CLC) - Q1</td><td>C</td><td>mast:Kepler/url/missions/kepler/lightcurves/0007/000757099/kplr000757099-2009166043257_llc.fits</td><td>SCIENCE</td><td>Minimum Recommended Products</td><td>LLC</td><td>--</td><td>Kepler</td><td>--</td><td>EX</td><td>kplr000757099-2009166043257_llc.fits</td><td>192960</td><td>9000179539</td></tr>\n",
       "<tr><td>9000179539</td><td>Kepler</td><td>timeseries</td><td>kplr000757099_lc_Q011111111111111111</td><td>Lightcurve Long Cadence (CLC) - Q2</td><td>C</td><td>mast:Kepler/url/missions/kepler/lightcurves/0007/000757099/kplr000757099-2009259160929_llc.fits</td><td>SCIENCE</td><td>Minimum Recommended Products</td><td>LLC</td><td>--</td><td>Kepler</td><td>--</td><td>EX</td><td>kplr000757099-2009259160929_llc.fits</td><td>466560</td><td>9000179539</td></tr>\n",
       "<tr><td>9000179539</td><td>Kepler</td><td>timeseries</td><td>kplr000757099_lc_Q011111111111111111</td><td>Lightcurve Long Cadence (CLC) - Q3</td><td>C</td><td>mast:Kepler/url/missions/kepler/lightcurves/0007/000757099/kplr000757099-2009350155506_llc.fits</td><td>SCIENCE</td><td>Minimum Recommended Products</td><td>LLC</td><td>--</td><td>Kepler</td><td>--</td><td>EX</td><td>kplr000757099-2009350155506_llc.fits</td><td>466560</td><td>9000179539</td></tr>\n",
       "<tr><td>9000179539</td><td>Kepler</td><td>timeseries</td><td>kplr000757099_lc_Q011111111111111111</td><td>Lightcurve Long Cadence (CLC) - Q4</td><td>C</td><td>mast:Kepler/url/missions/kepler/lightcurves/0007/000757099/kplr000757099-2010078095331_llc.fits</td><td>SCIENCE</td><td>Minimum Recommended Products</td><td>LLC</td><td>--</td><td>Kepler</td><td>--</td><td>EX</td><td>kplr000757099-2010078095331_llc.fits</td><td>469440</td><td>9000179539</td></tr>\n",
       "<tr><td>9000179539</td><td>Kepler</td><td>timeseries</td><td>kplr000757099_lc_Q011111111111111111</td><td>Lightcurve Long Cadence (CLC) - Q5</td><td>C</td><td>mast:Kepler/url/missions/kepler/lightcurves/0007/000757099/kplr000757099-2010174085026_llc.fits</td><td>SCIENCE</td><td>Minimum Recommended Products</td><td>LLC</td><td>--</td><td>Kepler</td><td>--</td><td>EX</td><td>kplr000757099-2010174085026_llc.fits</td><td>492480</td><td>9000179539</td></tr>\n",
       "<tr><td>9000179539</td><td>Kepler</td><td>timeseries</td><td>kplr000757099_lc_Q011111111111111111</td><td>Lightcurve Long Cadence (CLC) - Q6</td><td>C</td><td>mast:Kepler/url/missions/kepler/lightcurves/0007/000757099/kplr000757099-2010265121752_llc.fits</td><td>SCIENCE</td><td>Minimum Recommended Products</td><td>LLC</td><td>--</td><td>Kepler</td><td>--</td><td>EX</td><td>kplr000757099-2010265121752_llc.fits</td><td>469440</td><td>9000179539</td></tr>\n",
       "<tr><td>9000179539</td><td>Kepler</td><td>timeseries</td><td>kplr000757099_lc_Q011111111111111111</td><td>Lightcurve Long Cadence (CLC) - Q7</td><td>C</td><td>mast:Kepler/url/missions/kepler/lightcurves/0007/000757099/kplr000757099-2010355172524_llc.fits</td><td>SCIENCE</td><td>Minimum Recommended Products</td><td>LLC</td><td>--</td><td>Kepler</td><td>--</td><td>EX</td><td>kplr000757099-2010355172524_llc.fits</td><td>466560</td><td>9000179539</td></tr>\n",
       "<tr><td>9000179539</td><td>Kepler</td><td>timeseries</td><td>kplr000757099_lc_Q011111111111111111</td><td>Lightcurve Long Cadence (CLC) - Q8</td><td>C</td><td>mast:Kepler/url/missions/kepler/lightcurves/0007/000757099/kplr000757099-2011073133259_llc.fits</td><td>SCIENCE</td><td>Minimum Recommended Products</td><td>LLC</td><td>--</td><td>Kepler</td><td>--</td><td>EX</td><td>kplr000757099-2011073133259_llc.fits</td><td>357120</td><td>9000179539</td></tr>\n",
       "<tr><td>9000179539</td><td>Kepler</td><td>timeseries</td><td>kplr000757099_lc_Q011111111111111111</td><td>Lightcurve Long Cadence (CLC) - Q9</td><td>C</td><td>mast:Kepler/url/missions/kepler/lightcurves/0007/000757099/kplr000757099-2011177032512_llc.fits</td><td>SCIENCE</td><td>Minimum Recommended Products</td><td>LLC</td><td>--</td><td>Kepler</td><td>--</td><td>EX</td><td>kplr000757099-2011177032512_llc.fits</td><td>506880</td><td>9000179539</td></tr>\n",
       "<tr><td>9000179539</td><td>Kepler</td><td>timeseries</td><td>kplr000757099_lc_Q011111111111111111</td><td>Lightcurve Long Cadence (CLC) - Q10</td><td>C</td><td>mast:Kepler/url/missions/kepler/lightcurves/0007/000757099/kplr000757099-2011271113734_llc.fits</td><td>SCIENCE</td><td>Minimum Recommended Products</td><td>LLC</td><td>--</td><td>Kepler</td><td>--</td><td>EX</td><td>kplr000757099-2011271113734_llc.fits</td><td>486720</td><td>9000179539</td></tr>\n",
       "<tr><td>9000179539</td><td>Kepler</td><td>timeseries</td><td>kplr000757099_lc_Q011111111111111111</td><td>Lightcurve Long Cadence (CLC) - Q11</td><td>C</td><td>mast:Kepler/url/missions/kepler/lightcurves/0007/000757099/kplr000757099-2012004120508_llc.fits</td><td>SCIENCE</td><td>Minimum Recommended Products</td><td>LLC</td><td>--</td><td>Kepler</td><td>--</td><td>EX</td><td>kplr000757099-2012004120508_llc.fits</td><td>506880</td><td>9000179539</td></tr>\n",
       "<tr><td>9000179539</td><td>Kepler</td><td>timeseries</td><td>kplr000757099_lc_Q011111111111111111</td><td>Lightcurve Long Cadence (CLC) - Q12</td><td>C</td><td>mast:Kepler/url/missions/kepler/lightcurves/0007/000757099/kplr000757099-2012088054726_llc.fits</td><td>SCIENCE</td><td>Minimum Recommended Products</td><td>LLC</td><td>--</td><td>Kepler</td><td>--</td><td>EX</td><td>kplr000757099-2012088054726_llc.fits</td><td>434880</td><td>9000179539</td></tr>\n",
       "<tr><td>9000179539</td><td>Kepler</td><td>timeseries</td><td>kplr000757099_lc_Q011111111111111111</td><td>Lightcurve Long Cadence (CLC) - Q13</td><td>C</td><td>mast:Kepler/url/missions/kepler/lightcurves/0007/000757099/kplr000757099-2012179063303_llc.fits</td><td>SCIENCE</td><td>Minimum Recommended Products</td><td>LLC</td><td>--</td><td>Kepler</td><td>--</td><td>EX</td><td>kplr000757099-2012179063303_llc.fits</td><td>472320</td><td>9000179539</td></tr>\n",
       "<tr><td>9000179539</td><td>Kepler</td><td>timeseries</td><td>kplr000757099_lc_Q011111111111111111</td><td>Lightcurve Long Cadence (CLC) - Q14</td><td>C</td><td>mast:Kepler/url/missions/kepler/lightcurves/0007/000757099/kplr000757099-2012277125453_llc.fits</td><td>SCIENCE</td><td>Minimum Recommended Products</td><td>LLC</td><td>--</td><td>Kepler</td><td>--</td><td>EX</td><td>kplr000757099-2012277125453_llc.fits</td><td>506880</td><td>9000179539</td></tr>\n",
       "<tr><td>9000179539</td><td>Kepler</td><td>timeseries</td><td>kplr000757099_lc_Q011111111111111111</td><td>Lightcurve Long Cadence (CLC) - Q15</td><td>C</td><td>mast:Kepler/url/missions/kepler/lightcurves/0007/000757099/kplr000757099-2013011073258_llc.fits</td><td>SCIENCE</td><td>Minimum Recommended Products</td><td>LLC</td><td>--</td><td>Kepler</td><td>--</td><td>EX</td><td>kplr000757099-2013011073258_llc.fits</td><td>506880</td><td>9000179539</td></tr>\n",
       "<tr><td>9000179539</td><td>Kepler</td><td>timeseries</td><td>kplr000757099_lc_Q011111111111111111</td><td>Lightcurve Long Cadence (CLC) - Q16</td><td>C</td><td>mast:Kepler/url/missions/kepler/lightcurves/0007/000757099/kplr000757099-2013098041711_llc.fits</td><td>SCIENCE</td><td>Minimum Recommended Products</td><td>LLC</td><td>--</td><td>Kepler</td><td>--</td><td>EX</td><td>kplr000757099-2013098041711_llc.fits</td><td>449280</td><td>9000179539</td></tr>\n",
       "<tr><td>9000179539</td><td>Kepler</td><td>timeseries</td><td>kplr000757099_lc_Q011111111111111111</td><td>Lightcurve Long Cadence (CLC) - Q17</td><td>C</td><td>mast:Kepler/url/missions/kepler/lightcurves/0007/000757099/kplr000757099-2013131215648_llc.fits</td><td>SCIENCE</td><td>Minimum Recommended Products</td><td>LLC</td><td>--</td><td>Kepler</td><td>--</td><td>EX</td><td>kplr000757099-2013131215648_llc.fits</td><td>187200</td><td>9000179539</td></tr>\n",
       "</table>"
      ],
      "text/plain": [
       "<Table masked=True length=17>\n",
       "  obsID    obs_collection dataproduct_type ...  size  parent_obsid\n",
       "  str10         str6           str10       ... int64     str10    \n",
       "---------- -------------- ---------------- ... ------ ------------\n",
       "9000179539         Kepler       timeseries ... 192960   9000179539\n",
       "9000179539         Kepler       timeseries ... 466560   9000179539\n",
       "9000179539         Kepler       timeseries ... 466560   9000179539\n",
       "9000179539         Kepler       timeseries ... 469440   9000179539\n",
       "9000179539         Kepler       timeseries ... 492480   9000179539\n",
       "9000179539         Kepler       timeseries ... 469440   9000179539\n",
       "9000179539         Kepler       timeseries ... 466560   9000179539\n",
       "9000179539         Kepler       timeseries ... 357120   9000179539\n",
       "9000179539         Kepler       timeseries ... 506880   9000179539\n",
       "9000179539         Kepler       timeseries ... 486720   9000179539\n",
       "9000179539         Kepler       timeseries ... 506880   9000179539\n",
       "9000179539         Kepler       timeseries ... 434880   9000179539\n",
       "9000179539         Kepler       timeseries ... 472320   9000179539\n",
       "9000179539         Kepler       timeseries ... 506880   9000179539\n",
       "9000179539         Kepler       timeseries ... 506880   9000179539\n",
       "9000179539         Kepler       timeseries ... 449280   9000179539\n",
       "9000179539         Kepler       timeseries ... 187200   9000179539"
      ]
     },
     "execution_count": 63,
     "metadata": {},
     "output_type": "execute_result"
    }
   ],
   "source": [
    "products"
   ]
  },
  {
   "cell_type": "code",
   "execution_count": 26,
   "metadata": {},
   "outputs": [
    {
     "name": "stdout",
     "output_type": "stream",
     "text": [
      " Status \n",
      "--------\n",
      " SKIPPED\n",
      " SKIPPED\n",
      " SKIPPED\n",
      " SKIPPED\n",
      " SKIPPED\n",
      "COMPLETE\n",
      "COMPLETE\n",
      "COMPLETE\n",
      "COMPLETE\n",
      "COMPLETE\n"
     ]
    }
   ],
   "source": [
    "print(manifest[\"Status\"])"
   ]
  },
  {
   "cell_type": "code",
   "execution_count": 59,
   "metadata": {},
   "outputs": [
    {
     "name": "stdout",
     "output_type": "stream",
     "text": [
      "Downloading URL s3://stpubdata/tess/public/ffi/s0014/2019/199/2-4/tess2019199202929-s0014-2-4-0150-s_ffic.fits to ./mastDownload/TESS/tess2019199202929-s0014-2-4-0150-s/tess2019199202929-s0014-2-4-0150-s_ffic.fits ... [Failed]\n"
     ]
    },
    {
     "name": "stderr",
     "output_type": "stream",
     "text": [
      "ERROR: Error pulling from S3 bucket: [Errno 28] No space left on device [astroquery.mast.observations]\n",
      "WARNING: Skipping file... [astroquery.mast.observations]\n"
     ]
    },
    {
     "name": "stdout",
     "output_type": "stream",
     "text": [
      "Downloading URL s3://stpubdata/tess/public/ffi/s0014/2019/199/2-4/tess2019199202929-s0014-2-4-0150-s_ffir.fits to ./mastDownload/TESS/tess2019199202929-s0014-2-4-0150-s/tess2019199202929-s0014-2-4-0150-s_ffir.fits ... [Failed]\n"
     ]
    },
    {
     "name": "stderr",
     "output_type": "stream",
     "text": [
      "ERROR: Error pulling from S3 bucket: [Errno 28] No space left on device [astroquery.mast.observations]\n",
      "WARNING: Skipping file... [astroquery.mast.observations]\n"
     ]
    },
    {
     "name": "stdout",
     "output_type": "stream",
     "text": [
      "Downloading URL s3://stpubdata/tess/public/ffi/s0014/2019/199/2-4/tess2019199205929-s0014-2-4-0150-s_ffic.fits to ./mastDownload/TESS/tess2019199205929-s0014-2-4-0150-s/tess2019199205929-s0014-2-4-0150-s_ffic.fits ... [Failed]\n"
     ]
    },
    {
     "name": "stderr",
     "output_type": "stream",
     "text": [
      "ERROR: Error pulling from S3 bucket: [Errno 28] No space left on device [astroquery.mast.observations]\n",
      "WARNING: Skipping file... [astroquery.mast.observations]\n"
     ]
    },
    {
     "name": "stdout",
     "output_type": "stream",
     "text": [
      "Downloading URL s3://stpubdata/tess/public/ffi/s0014/2019/199/2-4/tess2019199205929-s0014-2-4-0150-s_ffir.fits to ./mastDownload/TESS/tess2019199205929-s0014-2-4-0150-s/tess2019199205929-s0014-2-4-0150-s_ffir.fits ... [Failed]\n"
     ]
    },
    {
     "name": "stderr",
     "output_type": "stream",
     "text": [
      "ERROR: Error pulling from S3 bucket: [Errno 28] No space left on device [astroquery.mast.observations]\n",
      "WARNING: Skipping file... [astroquery.mast.observations]\n"
     ]
    },
    {
     "name": "stdout",
     "output_type": "stream",
     "text": [
      "Downloading URL s3://stpubdata/tess/public/ffi/s0014/2019/199/2-4/tess2019199212929-s0014-2-4-0150-s_ffic.fits to ./mastDownload/TESS/tess2019199212929-s0014-2-4-0150-s/tess2019199212929-s0014-2-4-0150-s_ffic.fits ... [Failed]\n"
     ]
    },
    {
     "name": "stderr",
     "output_type": "stream",
     "text": [
      "ERROR: Error pulling from S3 bucket: [Errno 28] No space left on device [astroquery.mast.observations]\n",
      "WARNING: Skipping file... [astroquery.mast.observations]\n"
     ]
    },
    {
     "name": "stdout",
     "output_type": "stream",
     "text": [
      "Downloading URL s3://stpubdata/tess/public/ffi/s0014/2019/199/2-4/tess2019199212929-s0014-2-4-0150-s_ffir.fits to ./mastDownload/TESS/tess2019199212929-s0014-2-4-0150-s/tess2019199212929-s0014-2-4-0150-s_ffir.fits ... [Failed]\n"
     ]
    },
    {
     "name": "stderr",
     "output_type": "stream",
     "text": [
      "ERROR: Error pulling from S3 bucket: [Errno 28] No space left on device [astroquery.mast.observations]\n",
      "WARNING: Skipping file... [astroquery.mast.observations]\n"
     ]
    },
    {
     "name": "stdout",
     "output_type": "stream",
     "text": [
      "Downloading URL s3://stpubdata/tess/public/ffi/s0014/2019/199/2-4/tess2019199215929-s0014-2-4-0150-s_ffic.fits to ./mastDownload/TESS/tess2019199215929-s0014-2-4-0150-s/tess2019199215929-s0014-2-4-0150-s_ffic.fits ... [Failed]\n"
     ]
    },
    {
     "name": "stderr",
     "output_type": "stream",
     "text": [
      "ERROR: Error pulling from S3 bucket: [Errno 28] No space left on device [astroquery.mast.observations]\n",
      "WARNING: Skipping file... [astroquery.mast.observations]\n"
     ]
    },
    {
     "name": "stdout",
     "output_type": "stream",
     "text": [
      "Downloading URL s3://stpubdata/tess/public/ffi/s0014/2019/199/2-4/tess2019199215929-s0014-2-4-0150-s_ffir.fits to ./mastDownload/TESS/tess2019199215929-s0014-2-4-0150-s/tess2019199215929-s0014-2-4-0150-s_ffir.fits ... [Failed]\n",
      "Downloading URL s3://stpubdata/tess/public/ffi/s0014/2019/199/2-4/tess2019199222929-s0014-2-4-0150-s_ffic.fits to ./mastDownload/TESS/tess2019199222929-s0014-2-4-0150-s/tess2019199222929-s0014-2-4-0150-s_ffic.fits ..."
     ]
    },
    {
     "name": "stderr",
     "output_type": "stream",
     "text": [
      "ERROR: Error pulling from S3 bucket: [Errno 28] No space left on device [astroquery.mast.observations]\n",
      "WARNING: Skipping file... [astroquery.mast.observations]\n"
     ]
    },
    {
     "name": "stdout",
     "output_type": "stream",
     "text": [
      " [Failed]\n"
     ]
    },
    {
     "name": "stderr",
     "output_type": "stream",
     "text": [
      "ERROR: Error pulling from S3 bucket: [Errno 28] No space left on device [astroquery.mast.observations]\n",
      "WARNING: Skipping file... [astroquery.mast.observations]\n"
     ]
    },
    {
     "name": "stdout",
     "output_type": "stream",
     "text": [
      "Downloading URL s3://stpubdata/tess/public/ffi/s0014/2019/199/2-4/tess2019199222929-s0014-2-4-0150-s_ffir.fits to ./mastDownload/TESS/tess2019199222929-s0014-2-4-0150-s/tess2019199222929-s0014-2-4-0150-s_ffir.fits ... [Failed]\n"
     ]
    },
    {
     "name": "stderr",
     "output_type": "stream",
     "text": [
      "ERROR: Error pulling from S3 bucket: [Errno 28] No space left on device [astroquery.mast.observations]\n",
      "WARNING: Skipping file... [astroquery.mast.observations]\n"
     ]
    }
   ],
   "source": [
    "# Downloading from the cloud\n",
    "obs_table = Observations.query_criteria(obs_collection=['TESS'],\n",
    "                                        objectname=\"TIC 406952657\",\n",
    "                                        radius=0)\n",
    "products = Observations.get_product_list(obs_table[0])\n",
    "manifest = Observations.download_products(products[:10], cloud_only=True)"
   ]
  },
  {
   "cell_type": "code",
   "execution_count": 60,
   "metadata": {},
   "outputs": [
    {
     "data": {
      "text/html": [
       "<i>Table masked=True length=2482</i>\n",
       "<table id=\"table140343579159040\" class=\"table-striped table-bordered table-condensed\">\n",
       "<thead><tr><th>obsID</th><th>obs_collection</th><th>dataproduct_type</th><th>obs_id</th><th>description</th><th>type</th><th>dataURI</th><th>productType</th><th>productGroupDescription</th><th>productSubGroupDescription</th><th>productDocumentationURL</th><th>project</th><th>prvversion</th><th>proposal_id</th><th>productFilename</th><th>size</th><th>parent_obsid</th></tr></thead>\n",
       "<thead><tr><th>str11</th><th>str4</th><th>str5</th><th>str34</th><th>str29</th><th>str1</th><th>str62</th><th>str7</th><th>str1</th><th>str4</th><th>str1</th><th>str4</th><th>str20</th><th>str3</th><th>str44</th><th>int64</th><th>str11</th></tr></thead>\n",
       "<tr><td>17000972287</td><td>TESS</td><td>image</td><td>tess2019199202929-s0014-2-4-0150-s</td><td>Calibrated full frame image</td><td>S</td><td>mast:TESS/product/tess2019199202929-s0014-2-4-0150-s_ffic.fits</td><td>SCIENCE</td><td>--</td><td>FFIC</td><td>--</td><td>SPOC</td><td>spoc-4.0.28-20200407</td><td>N/A</td><td>tess2019199202929-s0014-2-4-0150-s_ffic.fits</td><td>35547840</td><td>17000972124</td></tr>\n",
       "<tr><td>17000972287</td><td>TESS</td><td>image</td><td>tess2019199202929-s0014-2-4-0150-s</td><td>Uncalibrated full frame image</td><td>S</td><td>mast:TESS/product/tess2019199202929-s0014-2-4-0150-s_ffir.fits</td><td>SCIENCE</td><td>--</td><td>FFIR</td><td>--</td><td>SPOC</td><td>spoc-4.0.28-20200407</td><td>N/A</td><td>tess2019199202929-s0014-2-4-0150-s_ffir.fits</td><td>17775360</td><td>17000972124</td></tr>\n",
       "<tr><td>17000964563</td><td>TESS</td><td>image</td><td>tess2019199205929-s0014-2-4-0150-s</td><td>Calibrated full frame image</td><td>S</td><td>mast:TESS/product/tess2019199205929-s0014-2-4-0150-s_ffic.fits</td><td>SCIENCE</td><td>--</td><td>FFIC</td><td>--</td><td>SPOC</td><td>spoc-4.0.27-20200326</td><td>N/A</td><td>tess2019199205929-s0014-2-4-0150-s_ffic.fits</td><td>35547840</td><td>17000972124</td></tr>\n",
       "<tr><td>17000964563</td><td>TESS</td><td>image</td><td>tess2019199205929-s0014-2-4-0150-s</td><td>Uncalibrated full frame image</td><td>S</td><td>mast:TESS/product/tess2019199205929-s0014-2-4-0150-s_ffir.fits</td><td>SCIENCE</td><td>--</td><td>FFIR</td><td>--</td><td>SPOC</td><td>spoc-4.0.27-20200326</td><td>N/A</td><td>tess2019199205929-s0014-2-4-0150-s_ffir.fits</td><td>17775360</td><td>17000972124</td></tr>\n",
       "<tr><td>17000973704</td><td>TESS</td><td>image</td><td>tess2019199212929-s0014-2-4-0150-s</td><td>Calibrated full frame image</td><td>S</td><td>mast:TESS/product/tess2019199212929-s0014-2-4-0150-s_ffic.fits</td><td>SCIENCE</td><td>--</td><td>FFIC</td><td>--</td><td>SPOC</td><td>spoc-4.0.27-20200326</td><td>N/A</td><td>tess2019199212929-s0014-2-4-0150-s_ffic.fits</td><td>35547840</td><td>17000972124</td></tr>\n",
       "<tr><td>17000973704</td><td>TESS</td><td>image</td><td>tess2019199212929-s0014-2-4-0150-s</td><td>Uncalibrated full frame image</td><td>S</td><td>mast:TESS/product/tess2019199212929-s0014-2-4-0150-s_ffir.fits</td><td>SCIENCE</td><td>--</td><td>FFIR</td><td>--</td><td>SPOC</td><td>spoc-4.0.27-20200326</td><td>N/A</td><td>tess2019199212929-s0014-2-4-0150-s_ffir.fits</td><td>17775360</td><td>17000972124</td></tr>\n",
       "<tr><td>17000971117</td><td>TESS</td><td>image</td><td>tess2019199215929-s0014-2-4-0150-s</td><td>Calibrated full frame image</td><td>S</td><td>mast:TESS/product/tess2019199215929-s0014-2-4-0150-s_ffic.fits</td><td>SCIENCE</td><td>--</td><td>FFIC</td><td>--</td><td>SPOC</td><td>spoc-4.0.27-20200326</td><td>N/A</td><td>tess2019199215929-s0014-2-4-0150-s_ffic.fits</td><td>35547840</td><td>17000972124</td></tr>\n",
       "<tr><td>17000971117</td><td>TESS</td><td>image</td><td>tess2019199215929-s0014-2-4-0150-s</td><td>Uncalibrated full frame image</td><td>S</td><td>mast:TESS/product/tess2019199215929-s0014-2-4-0150-s_ffir.fits</td><td>SCIENCE</td><td>--</td><td>FFIR</td><td>--</td><td>SPOC</td><td>spoc-4.0.27-20200326</td><td>N/A</td><td>tess2019199215929-s0014-2-4-0150-s_ffir.fits</td><td>17775360</td><td>17000972124</td></tr>\n",
       "<tr><td>17000964562</td><td>TESS</td><td>image</td><td>tess2019199222929-s0014-2-4-0150-s</td><td>Calibrated full frame image</td><td>S</td><td>mast:TESS/product/tess2019199222929-s0014-2-4-0150-s_ffic.fits</td><td>SCIENCE</td><td>--</td><td>FFIC</td><td>--</td><td>SPOC</td><td>spoc-4.0.27-20200326</td><td>N/A</td><td>tess2019199222929-s0014-2-4-0150-s_ffic.fits</td><td>35547840</td><td>17000972124</td></tr>\n",
       "<tr><td>17000964562</td><td>TESS</td><td>image</td><td>tess2019199222929-s0014-2-4-0150-s</td><td>Uncalibrated full frame image</td><td>S</td><td>mast:TESS/product/tess2019199222929-s0014-2-4-0150-s_ffir.fits</td><td>SCIENCE</td><td>--</td><td>FFIR</td><td>--</td><td>SPOC</td><td>spoc-4.0.27-20200326</td><td>N/A</td><td>tess2019199222929-s0014-2-4-0150-s_ffir.fits</td><td>17775360</td><td>17000972124</td></tr>\n",
       "<tr><td>...</td><td>...</td><td>...</td><td>...</td><td>...</td><td>...</td><td>...</td><td>...</td><td>...</td><td>...</td><td>...</td><td>...</td><td>...</td><td>...</td><td>...</td><td>...</td><td>...</td></tr>\n",
       "<tr><td>17000966601</td><td>TESS</td><td>image</td><td>tess2019226135928-s0014-2-4-0150-s</td><td>Calibrated full frame image</td><td>S</td><td>mast:TESS/product/tess2019226135928-s0014-2-4-0150-s_ffic.fits</td><td>SCIENCE</td><td>--</td><td>FFIC</td><td>--</td><td>SPOC</td><td>spoc-4.0.27-20200326</td><td>N/A</td><td>tess2019226135928-s0014-2-4-0150-s_ffic.fits</td><td>35547840</td><td>17000972124</td></tr>\n",
       "<tr><td>17000966601</td><td>TESS</td><td>image</td><td>tess2019226135928-s0014-2-4-0150-s</td><td>Uncalibrated full frame image</td><td>S</td><td>mast:TESS/product/tess2019226135928-s0014-2-4-0150-s_ffir.fits</td><td>SCIENCE</td><td>--</td><td>FFIR</td><td>--</td><td>SPOC</td><td>spoc-4.0.27-20200326</td><td>N/A</td><td>tess2019226135928-s0014-2-4-0150-s_ffir.fits</td><td>17775360</td><td>17000972124</td></tr>\n",
       "<tr><td>17000961436</td><td>TESS</td><td>image</td><td>tess2019226142928-s0014-2-4-0150-s</td><td>Calibrated full frame image</td><td>S</td><td>mast:TESS/product/tess2019226142928-s0014-2-4-0150-s_ffic.fits</td><td>SCIENCE</td><td>--</td><td>FFIC</td><td>--</td><td>SPOC</td><td>spoc-4.0.27-20200326</td><td>N/A</td><td>tess2019226142928-s0014-2-4-0150-s_ffic.fits</td><td>35547840</td><td>17000972124</td></tr>\n",
       "<tr><td>17000961436</td><td>TESS</td><td>image</td><td>tess2019226142928-s0014-2-4-0150-s</td><td>Uncalibrated full frame image</td><td>S</td><td>mast:TESS/product/tess2019226142928-s0014-2-4-0150-s_ffir.fits</td><td>SCIENCE</td><td>--</td><td>FFIR</td><td>--</td><td>SPOC</td><td>spoc-4.0.27-20200326</td><td>N/A</td><td>tess2019226142928-s0014-2-4-0150-s_ffir.fits</td><td>17775360</td><td>17000972124</td></tr>\n",
       "<tr><td>17000961428</td><td>TESS</td><td>image</td><td>tess2019226145928-s0014-2-4-0150-s</td><td>Calibrated full frame image</td><td>S</td><td>mast:TESS/product/tess2019226145928-s0014-2-4-0150-s_ffic.fits</td><td>SCIENCE</td><td>--</td><td>FFIC</td><td>--</td><td>SPOC</td><td>spoc-4.0.27-20200326</td><td>N/A</td><td>tess2019226145928-s0014-2-4-0150-s_ffic.fits</td><td>35547840</td><td>17000972124</td></tr>\n",
       "<tr><td>17000961428</td><td>TESS</td><td>image</td><td>tess2019226145928-s0014-2-4-0150-s</td><td>Uncalibrated full frame image</td><td>S</td><td>mast:TESS/product/tess2019226145928-s0014-2-4-0150-s_ffir.fits</td><td>SCIENCE</td><td>--</td><td>FFIR</td><td>--</td><td>SPOC</td><td>spoc-4.0.27-20200326</td><td>N/A</td><td>tess2019226145928-s0014-2-4-0150-s_ffir.fits</td><td>17775360</td><td>17000972124</td></tr>\n",
       "<tr><td>17000957146</td><td>TESS</td><td>image</td><td>tess2019226152928-s0014-2-4-0150-s</td><td>Calibrated full frame image</td><td>S</td><td>mast:TESS/product/tess2019226152928-s0014-2-4-0150-s_ffic.fits</td><td>SCIENCE</td><td>--</td><td>FFIC</td><td>--</td><td>SPOC</td><td>spoc-4.0.27-20200326</td><td>N/A</td><td>tess2019226152928-s0014-2-4-0150-s_ffic.fits</td><td>35547840</td><td>17000972124</td></tr>\n",
       "<tr><td>17000957146</td><td>TESS</td><td>image</td><td>tess2019226152928-s0014-2-4-0150-s</td><td>Uncalibrated full frame image</td><td>S</td><td>mast:TESS/product/tess2019226152928-s0014-2-4-0150-s_ffir.fits</td><td>SCIENCE</td><td>--</td><td>FFIR</td><td>--</td><td>SPOC</td><td>spoc-4.0.27-20200326</td><td>N/A</td><td>tess2019226152928-s0014-2-4-0150-s_ffir.fits</td><td>17775360</td><td>17000972124</td></tr>\n",
       "<tr><td>17000970344</td><td>TESS</td><td>image</td><td>tess2019226155928-s0014-2-4-0150-s</td><td>Calibrated full frame image</td><td>S</td><td>mast:TESS/product/tess2019226155928-s0014-2-4-0150-s_ffic.fits</td><td>SCIENCE</td><td>--</td><td>FFIC</td><td>--</td><td>SPOC</td><td>spoc-4.0.27-20200326</td><td>N/A</td><td>tess2019226155928-s0014-2-4-0150-s_ffic.fits</td><td>35547840</td><td>17000972124</td></tr>\n",
       "<tr><td>17000970344</td><td>TESS</td><td>image</td><td>tess2019226155928-s0014-2-4-0150-s</td><td>Uncalibrated full frame image</td><td>S</td><td>mast:TESS/product/tess2019226155928-s0014-2-4-0150-s_ffir.fits</td><td>SCIENCE</td><td>--</td><td>FFIR</td><td>--</td><td>SPOC</td><td>spoc-4.0.27-20200326</td><td>N/A</td><td>tess2019226155928-s0014-2-4-0150-s_ffir.fits</td><td>17775360</td><td>17000972124</td></tr>\n",
       "</table>"
      ],
      "text/plain": [
       "<Table masked=True length=2482>\n",
       "   obsID    obs_collection dataproduct_type ...   size   parent_obsid\n",
       "   str11         str4            str5       ...  int64      str11    \n",
       "----------- -------------- ---------------- ... -------- ------------\n",
       "17000972287           TESS            image ... 35547840  17000972124\n",
       "17000972287           TESS            image ... 17775360  17000972124\n",
       "17000964563           TESS            image ... 35547840  17000972124\n",
       "17000964563           TESS            image ... 17775360  17000972124\n",
       "17000973704           TESS            image ... 35547840  17000972124\n",
       "17000973704           TESS            image ... 17775360  17000972124\n",
       "17000971117           TESS            image ... 35547840  17000972124\n",
       "17000971117           TESS            image ... 17775360  17000972124\n",
       "17000964562           TESS            image ... 35547840  17000972124\n",
       "17000964562           TESS            image ... 17775360  17000972124\n",
       "        ...            ...              ... ...      ...          ...\n",
       "17000966601           TESS            image ... 35547840  17000972124\n",
       "17000966601           TESS            image ... 17775360  17000972124\n",
       "17000961436           TESS            image ... 35547840  17000972124\n",
       "17000961436           TESS            image ... 17775360  17000972124\n",
       "17000961428           TESS            image ... 35547840  17000972124\n",
       "17000961428           TESS            image ... 17775360  17000972124\n",
       "17000957146           TESS            image ... 35547840  17000972124\n",
       "17000957146           TESS            image ... 17775360  17000972124\n",
       "17000970344           TESS            image ... 35547840  17000972124\n",
       "17000970344           TESS            image ... 17775360  17000972124"
      ]
     },
     "execution_count": 60,
     "metadata": {},
     "output_type": "execute_result"
    }
   ],
   "source": [
    "products"
   ]
  },
  {
   "cell_type": "code",
   "execution_count": 61,
   "metadata": {},
   "outputs": [
    {
     "data": {
      "text/html": [
       "&lt;MaskedColumn name=&apos;dataproduct_type&apos; dtype=&apos;str5&apos; length=2482&gt;\n",
       "<table>\n",
       "<tr><td>image</td></tr>\n",
       "<tr><td>image</td></tr>\n",
       "<tr><td>image</td></tr>\n",
       "<tr><td>image</td></tr>\n",
       "<tr><td>image</td></tr>\n",
       "<tr><td>image</td></tr>\n",
       "<tr><td>image</td></tr>\n",
       "<tr><td>image</td></tr>\n",
       "<tr><td>image</td></tr>\n",
       "<tr><td>image</td></tr>\n",
       "<tr><td>image</td></tr>\n",
       "<tr><td>image</td></tr>\n",
       "<tr><td>...</td></tr>\n",
       "<tr><td>image</td></tr>\n",
       "<tr><td>image</td></tr>\n",
       "<tr><td>image</td></tr>\n",
       "<tr><td>image</td></tr>\n",
       "<tr><td>image</td></tr>\n",
       "<tr><td>image</td></tr>\n",
       "<tr><td>image</td></tr>\n",
       "<tr><td>image</td></tr>\n",
       "<tr><td>image</td></tr>\n",
       "<tr><td>image</td></tr>\n",
       "<tr><td>image</td></tr>\n",
       "<tr><td>image</td></tr>\n",
       "</table>"
      ],
      "text/plain": [
       "<MaskedColumn name='dataproduct_type' dtype='str5' length=2482>\n",
       "image\n",
       "image\n",
       "image\n",
       "image\n",
       "image\n",
       "image\n",
       "image\n",
       "image\n",
       "image\n",
       "image\n",
       "image\n",
       "image\n",
       "  ...\n",
       "image\n",
       "image\n",
       "image\n",
       "image\n",
       "image\n",
       "image\n",
       "image\n",
       "image\n",
       "image\n",
       "image\n",
       "image\n",
       "image"
      ]
     },
     "execution_count": 61,
     "metadata": {},
     "output_type": "execute_result"
    }
   ],
   "source": [
    "products[\"dataproduct_type\"]"
   ]
  },
  {
   "cell_type": "code",
   "execution_count": 30,
   "metadata": {},
   "outputs": [
    {
     "name": "stdout",
     "output_type": "stream",
     "text": [
      " Status \n",
      "--------\n",
      "COMPLETE\n",
      "COMPLETE\n",
      "COMPLETE\n",
      "COMPLETE\n",
      "COMPLETE\n",
      "COMPLETE\n",
      "COMPLETE\n",
      "COMPLETE\n",
      "COMPLETE\n",
      "COMPLETE\n"
     ]
    }
   ],
   "source": [
    "print(manifest[\"Status\"])"
   ]
  },
  {
   "cell_type": "code",
   "execution_count": 21,
   "metadata": {},
   "outputs": [],
   "source": [
    "Observations.disable_cloud_dataset()"
   ]
  },
  {
   "cell_type": "code",
   "execution_count": null,
   "metadata": {},
   "outputs": [],
   "source": []
  }
 ],
 "metadata": {
  "kernelspec": {
   "display_name": "Python 3",
   "language": "python",
   "name": "python3"
  },
  "language_info": {
   "codemirror_mode": {
    "name": "ipython",
    "version": 3
   },
   "file_extension": ".py",
   "mimetype": "text/x-python",
   "name": "python",
   "nbconvert_exporter": "python",
   "pygments_lexer": "ipython3",
   "version": "3.8.3"
  }
 },
 "nbformat": 4,
 "nbformat_minor": 4
}
