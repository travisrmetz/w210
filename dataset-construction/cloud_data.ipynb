{
 "cells": [
  {
   "cell_type": "code",
   "execution_count": 1,
   "metadata": {},
   "outputs": [],
   "source": [
    "# Install a pip package in the current Jupyter kernel\n",
    "import sys\n",
    "# !{sys.executable} -m pip install astroquery\n",
    "# !{sys.executable} -m pip install boto3"
   ]
  },
  {
   "cell_type": "code",
   "execution_count": 2,
   "metadata": {},
   "outputs": [],
   "source": [
    "import os\n",
    "import pandas as pd\n",
    "from astroquery.mast import Observations\n",
    "from credentials import AWS_ACCESS_KEY_ID, AWS_SECRET_ACCESS_KEY"
   ]
  },
  {
   "cell_type": "code",
   "execution_count": 3,
   "metadata": {},
   "outputs": [],
   "source": [
    "# If credential environment are not already set, we can set them within python.\n",
    "os.environ['AWS_ACCESS_KEY_ID'] = AWS_ACCESS_KEY_ID\n",
    "os.environ['AWS_SECRET_ACCESS_KEY'] = AWS_SECRET_ACCESS_KEY"
   ]
  },
  {
   "cell_type": "code",
   "execution_count": 4,
   "metadata": {},
   "outputs": [
    {
     "name": "stdout",
     "output_type": "stream",
     "text": [
      "INFO: Using the S3 STScI public dataset [astroquery.mast.cloud]\n",
      "INFO: See Request Pricing in https://aws.amazon.com/s3/pricing/ for details [astroquery.mast.cloud]\n",
      "INFO: If you have not configured boto3, follow the instructions here: https://boto3.readthedocs.io/en/latest/guide/configuration.html [astroquery.mast.cloud]\n"
     ]
    },
    {
     "name": "stderr",
     "output_type": "stream",
     "text": [
      "WARNING: Your AWS account will be charged for access to the S3 bucket [astroquery.mast.cloud]\n"
     ]
    }
   ],
   "source": [
    "# If your profile is not called [default], update the next line:\n",
    "# Observations.enable_cloud_dataset(provider='AWS', profile='Dean')\n",
    "Observations.enable_cloud_dataset(provider='AWS')"
   ]
  },
  {
   "cell_type": "markdown",
   "metadata": {},
   "source": [
    "# Try Getting Cloud URIs"
   ]
  },
  {
   "cell_type": "code",
   "execution_count": 8,
   "metadata": {},
   "outputs": [
    {
     "name": "stderr",
     "output_type": "stream",
     "text": [
      "WARNING: NoResultsWarning: Unable to locate file hst_12062_eo_acs_wfc_f606w_drz.fits. [astroquery.mast.cloud]\n",
      "WARNING: NoResultsWarning: Unable to locate file hst_12062_eo_acs_wfc_f606w_01_drz.fits. [astroquery.mast.cloud]\n",
      "WARNING: NoResultsWarning: Unable to locate file hst_12062_eo_acs_wfc_f606w_02_drz.fits. [astroquery.mast.cloud]\n",
      "WARNING: NoResultsWarning: Unable to locate file hst_12062_eo_acs_wfc_f606w_03_drz.fits. [astroquery.mast.cloud]\n",
      "WARNING: NoResultsWarning: Unable to locate file hst_12062_eo_acs_wfc_f606w_04_drz.fits. [astroquery.mast.cloud]\n",
      "WARNING: NoResultsWarning: Unable to locate file hst_12062_eo_acs_wfc_f606w_05_drz.fits. [astroquery.mast.cloud]\n",
      "WARNING: NoResultsWarning: Unable to locate file hst_12062_et_acs_wfc_f606w_drz.fits. [astroquery.mast.cloud]\n",
      "WARNING: NoResultsWarning: Unable to locate file hst_12062_et_acs_wfc_f606w_01_drz.fits. [astroquery.mast.cloud]\n",
      "WARNING: NoResultsWarning: Unable to locate file hst_12062_et_acs_wfc_f606w_02_drz.fits. [astroquery.mast.cloud]\n",
      "WARNING: NoResultsWarning: Unable to locate file hst_12062_et_acs_wfc_f606w_03_drz.fits. [astroquery.mast.cloud]\n",
      "WARNING: NoResultsWarning: Unable to locate file hst_12062_et_acs_wfc_f606w_04_drz.fits. [astroquery.mast.cloud]\n",
      "WARNING: NoResultsWarning: Unable to locate file hst_12062_et_acs_wfc_f606w_05_drz.fits. [astroquery.mast.cloud]\n"
     ]
    },
    {
     "name": "stdout",
     "output_type": "stream",
     "text": [
      "[None, None, None, None, None, None, None, None, None, None, None, None, 's3://stpubdata/hst/public/jbev/jbeveo010/jbeveo010_drz.fits', 's3://stpubdata/hst/public/jbev/jbevet010/jbevet010_drz.fits']\n"
     ]
    }
   ],
   "source": [
    "# Getting the cloud URIs\n",
    "obs_table = Observations.query_criteria(obs_collection='HST',\n",
    "                                        filters='F606W',\n",
    "                                        instrument_name='ACS/WFC',\n",
    "                                        proposal_id=['12062'],\n",
    "                                        dataRights='PUBLIC')\n",
    "products = Observations.get_product_list(obs_table)\n",
    "filtered = Observations.filter_products(products,\n",
    "                                        productSubGroupDescription='DRZ')\n",
    "s3_uris = Observations.get_cloud_uris(filtered)\n",
    "print(s3_uris)"
   ]
  },
  {
   "cell_type": "markdown",
   "metadata": {},
   "source": [
    "# Download Kepler Data"
   ]
  },
  {
   "cell_type": "code",
   "execution_count": 45,
   "metadata": {},
   "outputs": [
    {
     "name": "stdout",
     "output_type": "stream",
     "text": [
      "Downloading URL s3://stpubdata/kepler/public/lightcurves/0031/003120320/kplr003120320-2009131105131_llc.fits to ./mastDownload/Kepler/kplr003120320_lc_Q111111111111111111/kplr003120320-2009131105131_llc.fits ... [Done]\n",
      "Downloading URL s3://stpubdata/kepler/public/lightcurves/0031/003120320/kplr003120320-2009166043257_llc.fits to ./mastDownload/Kepler/kplr003120320_lc_Q111111111111111111/kplr003120320-2009166043257_llc.fits ... [Done]\n",
      "Downloading URL s3://stpubdata/kepler/public/lightcurves/0031/003120320/kplr003120320-2009259160929_llc.fits to ./mastDownload/Kepler/kplr003120320_lc_Q111111111111111111/kplr003120320-2009259160929_llc.fits ... [Done]\n",
      "Downloading URL s3://stpubdata/kepler/public/lightcurves/0031/003120320/kplr003120320-2009350155506_llc.fits to ./mastDownload/Kepler/kplr003120320_lc_Q111111111111111111/kplr003120320-2009350155506_llc.fits ... [Done]\n",
      "Downloading URL s3://stpubdata/kepler/public/lightcurves/0031/003120320/kplr003120320-2010078095331_llc.fits to ./mastDownload/Kepler/kplr003120320_lc_Q111111111111111111/kplr003120320-2010078095331_llc.fits ... [Done]\n",
      "Downloading URL s3://stpubdata/kepler/public/lightcurves/0031/003120320/kplr003120320-2010174085026_llc.fits to ./mastDownload/Kepler/kplr003120320_lc_Q111111111111111111/kplr003120320-2010174085026_llc.fits ... [Done]\n",
      "Downloading URL s3://stpubdata/kepler/public/lightcurves/0031/003120320/kplr003120320-2010265121752_llc.fits to ./mastDownload/Kepler/kplr003120320_lc_Q111111111111111111/kplr003120320-2010265121752_llc.fits ... [Done]\n",
      "Downloading URL s3://stpubdata/kepler/public/lightcurves/0031/003120320/kplr003120320-2010355172524_llc.fits to ./mastDownload/Kepler/kplr003120320_lc_Q111111111111111111/kplr003120320-2010355172524_llc.fits ... [Done]\n",
      "Downloading URL s3://stpubdata/kepler/public/lightcurves/0031/003120320/kplr003120320-2011073133259_llc.fits to ./mastDownload/Kepler/kplr003120320_lc_Q111111111111111111/kplr003120320-2011073133259_llc.fits ... [Done]\n",
      "Downloading URL s3://stpubdata/kepler/public/lightcurves/0031/003120320/kplr003120320-2011177032512_llc.fits to ./mastDownload/Kepler/kplr003120320_lc_Q111111111111111111/kplr003120320-2011177032512_llc.fits ... [Done]\n",
      "Downloading URL s3://stpubdata/kepler/public/lightcurves/0031/003120320/kplr003120320-2011271113734_llc.fits to ./mastDownload/Kepler/kplr003120320_lc_Q111111111111111111/kplr003120320-2011271113734_llc.fits ... [Done]\n",
      "Downloading URL s3://stpubdata/kepler/public/lightcurves/0031/003120320/kplr003120320-2012004120508_llc.fits to ./mastDownload/Kepler/kplr003120320_lc_Q111111111111111111/kplr003120320-2012004120508_llc.fits ... [Done]\n",
      "Downloading URL s3://stpubdata/kepler/public/lightcurves/0031/003120320/kplr003120320-2012088054726_llc.fits to ./mastDownload/Kepler/kplr003120320_lc_Q111111111111111111/kplr003120320-2012088054726_llc.fits ... [Done]\n",
      "Downloading URL s3://stpubdata/kepler/public/lightcurves/0031/003120320/kplr003120320-2012179063303_llc.fits to ./mastDownload/Kepler/kplr003120320_lc_Q111111111111111111/kplr003120320-2012179063303_llc.fits ... [Done]\n",
      "Downloading URL s3://stpubdata/kepler/public/lightcurves/0031/003120320/kplr003120320-2012277125453_llc.fits to ./mastDownload/Kepler/kplr003120320_lc_Q111111111111111111/kplr003120320-2012277125453_llc.fits ... [Done]\n",
      "Downloading URL s3://stpubdata/kepler/public/lightcurves/0031/003120320/kplr003120320-2013011073258_llc.fits to ./mastDownload/Kepler/kplr003120320_lc_Q111111111111111111/kplr003120320-2013011073258_llc.fits ... [Done]\n",
      "Downloading URL s3://stpubdata/kepler/public/lightcurves/0031/003120320/kplr003120320-2013098041711_llc.fits to ./mastDownload/Kepler/kplr003120320_lc_Q111111111111111111/kplr003120320-2013098041711_llc.fits ... [Done]\n",
      "Downloading URL s3://stpubdata/kepler/public/lightcurves/0031/003120320/kplr003120320-2013131215648_llc.fits to ./mastDownload/Kepler/kplr003120320_lc_Q111111111111111111/kplr003120320-2013131215648_llc.fits ... [Done]\n"
     ]
    }
   ],
   "source": [
    "# Downloading from the cloud\n",
    "obs_table = Observations.query_criteria(obs_collection=['Kepler'],\n",
    "                                        objectname=\"KIC 3120320\", \n",
    "                                        dataproduct_type=\"timeseries\",\n",
    "                                        radius=0)\n",
    "products = Observations.get_product_list(obs_table[0])\n",
    "products = Observations.filter_products(products,\n",
    "                                       extension=\"fits\",\n",
    "                                       productType=\"SCIENCE\")\n",
    "# manifest = Observations.download_products(products[:10], cloud_only=True)\n",
    "manifest = Observations.download_products(products, cloud_only=True)"
   ]
  },
  {
   "cell_type": "code",
   "execution_count": 46,
   "metadata": {},
   "outputs": [
    {
     "data": {
      "text/html": [
       "<i>Table masked=True length=18</i>\n",
       "<table id=\"table139996487799184\" class=\"table-striped table-bordered table-condensed\">\n",
       "<thead><tr><th>obsID</th><th>obs_collection</th><th>dataproduct_type</th><th>obs_id</th><th>description</th><th>type</th><th>dataURI</th><th>productType</th><th>productGroupDescription</th><th>productSubGroupDescription</th><th>productDocumentationURL</th><th>project</th><th>prvversion</th><th>proposal_id</th><th>productFilename</th><th>size</th><th>parent_obsid</th></tr></thead>\n",
       "<thead><tr><th>str10</th><th>str6</th><th>str10</th><th>str36</th><th>str59</th><th>str1</th><th>str110</th><th>str9</th><th>str28</th><th>str8</th><th>str1</th><th>str6</th><th>str1</th><th>str2</th><th>str44</th><th>int64</th><th>str10</th></tr></thead>\n",
       "<tr><td>9000122074</td><td>Kepler</td><td>timeseries</td><td>kplr003120320_lc_Q111111111111111111</td><td>Lightcurve Long Cadence (CLC) - Q0</td><td>C</td><td>mast:Kepler/url/missions/kepler/lightcurves/0031/003120320/kplr003120320-2009131105131_llc.fits</td><td>SCIENCE</td><td>Minimum Recommended Products</td><td>LLC</td><td>--</td><td>Kepler</td><td>--</td><td>EX</td><td>kplr003120320-2009131105131_llc.fits</td><td>77760</td><td>9000122074</td></tr>\n",
       "<tr><td>9000122074</td><td>Kepler</td><td>timeseries</td><td>kplr003120320_lc_Q111111111111111111</td><td>Lightcurve Long Cadence (CLC) - Q1</td><td>C</td><td>mast:Kepler/url/missions/kepler/lightcurves/0031/003120320/kplr003120320-2009166043257_llc.fits</td><td>SCIENCE</td><td>Minimum Recommended Products</td><td>LLC</td><td>--</td><td>Kepler</td><td>--</td><td>EX</td><td>kplr003120320-2009166043257_llc.fits</td><td>192960</td><td>9000122074</td></tr>\n",
       "<tr><td>9000122074</td><td>Kepler</td><td>timeseries</td><td>kplr003120320_lc_Q111111111111111111</td><td>Lightcurve Long Cadence (CLC) - Q2</td><td>C</td><td>mast:Kepler/url/missions/kepler/lightcurves/0031/003120320/kplr003120320-2009259160929_llc.fits</td><td>SCIENCE</td><td>Minimum Recommended Products</td><td>LLC</td><td>--</td><td>Kepler</td><td>--</td><td>EX</td><td>kplr003120320-2009259160929_llc.fits</td><td>466560</td><td>9000122074</td></tr>\n",
       "<tr><td>9000122074</td><td>Kepler</td><td>timeseries</td><td>kplr003120320_lc_Q111111111111111111</td><td>Lightcurve Long Cadence (CLC) - Q3</td><td>C</td><td>mast:Kepler/url/missions/kepler/lightcurves/0031/003120320/kplr003120320-2009350155506_llc.fits</td><td>SCIENCE</td><td>Minimum Recommended Products</td><td>LLC</td><td>--</td><td>Kepler</td><td>--</td><td>EX</td><td>kplr003120320-2009350155506_llc.fits</td><td>466560</td><td>9000122074</td></tr>\n",
       "<tr><td>9000122074</td><td>Kepler</td><td>timeseries</td><td>kplr003120320_lc_Q111111111111111111</td><td>Lightcurve Long Cadence (CLC) - Q4</td><td>C</td><td>mast:Kepler/url/missions/kepler/lightcurves/0031/003120320/kplr003120320-2010078095331_llc.fits</td><td>SCIENCE</td><td>Minimum Recommended Products</td><td>LLC</td><td>--</td><td>Kepler</td><td>--</td><td>EX</td><td>kplr003120320-2010078095331_llc.fits</td><td>469440</td><td>9000122074</td></tr>\n",
       "<tr><td>9000122074</td><td>Kepler</td><td>timeseries</td><td>kplr003120320_lc_Q111111111111111111</td><td>Lightcurve Long Cadence (CLC) - Q5</td><td>C</td><td>mast:Kepler/url/missions/kepler/lightcurves/0031/003120320/kplr003120320-2010174085026_llc.fits</td><td>SCIENCE</td><td>Minimum Recommended Products</td><td>LLC</td><td>--</td><td>Kepler</td><td>--</td><td>EX</td><td>kplr003120320-2010174085026_llc.fits</td><td>492480</td><td>9000122074</td></tr>\n",
       "<tr><td>9000122074</td><td>Kepler</td><td>timeseries</td><td>kplr003120320_lc_Q111111111111111111</td><td>Lightcurve Long Cadence (CLC) - Q6</td><td>C</td><td>mast:Kepler/url/missions/kepler/lightcurves/0031/003120320/kplr003120320-2010265121752_llc.fits</td><td>SCIENCE</td><td>Minimum Recommended Products</td><td>LLC</td><td>--</td><td>Kepler</td><td>--</td><td>EX</td><td>kplr003120320-2010265121752_llc.fits</td><td>469440</td><td>9000122074</td></tr>\n",
       "<tr><td>9000122074</td><td>Kepler</td><td>timeseries</td><td>kplr003120320_lc_Q111111111111111111</td><td>Lightcurve Long Cadence (CLC) - Q7</td><td>C</td><td>mast:Kepler/url/missions/kepler/lightcurves/0031/003120320/kplr003120320-2010355172524_llc.fits</td><td>SCIENCE</td><td>Minimum Recommended Products</td><td>LLC</td><td>--</td><td>Kepler</td><td>--</td><td>EX</td><td>kplr003120320-2010355172524_llc.fits</td><td>466560</td><td>9000122074</td></tr>\n",
       "<tr><td>9000122074</td><td>Kepler</td><td>timeseries</td><td>kplr003120320_lc_Q111111111111111111</td><td>Lightcurve Long Cadence (CLC) - Q8</td><td>C</td><td>mast:Kepler/url/missions/kepler/lightcurves/0031/003120320/kplr003120320-2011073133259_llc.fits</td><td>SCIENCE</td><td>Minimum Recommended Products</td><td>LLC</td><td>--</td><td>Kepler</td><td>--</td><td>EX</td><td>kplr003120320-2011073133259_llc.fits</td><td>357120</td><td>9000122074</td></tr>\n",
       "<tr><td>9000122074</td><td>Kepler</td><td>timeseries</td><td>kplr003120320_lc_Q111111111111111111</td><td>Lightcurve Long Cadence (CLC) - Q9</td><td>C</td><td>mast:Kepler/url/missions/kepler/lightcurves/0031/003120320/kplr003120320-2011177032512_llc.fits</td><td>SCIENCE</td><td>Minimum Recommended Products</td><td>LLC</td><td>--</td><td>Kepler</td><td>--</td><td>EX</td><td>kplr003120320-2011177032512_llc.fits</td><td>506880</td><td>9000122074</td></tr>\n",
       "<tr><td>9000122074</td><td>Kepler</td><td>timeseries</td><td>kplr003120320_lc_Q111111111111111111</td><td>Lightcurve Long Cadence (CLC) - Q10</td><td>C</td><td>mast:Kepler/url/missions/kepler/lightcurves/0031/003120320/kplr003120320-2011271113734_llc.fits</td><td>SCIENCE</td><td>Minimum Recommended Products</td><td>LLC</td><td>--</td><td>Kepler</td><td>--</td><td>EX</td><td>kplr003120320-2011271113734_llc.fits</td><td>486720</td><td>9000122074</td></tr>\n",
       "<tr><td>9000122074</td><td>Kepler</td><td>timeseries</td><td>kplr003120320_lc_Q111111111111111111</td><td>Lightcurve Long Cadence (CLC) - Q11</td><td>C</td><td>mast:Kepler/url/missions/kepler/lightcurves/0031/003120320/kplr003120320-2012004120508_llc.fits</td><td>SCIENCE</td><td>Minimum Recommended Products</td><td>LLC</td><td>--</td><td>Kepler</td><td>--</td><td>EX</td><td>kplr003120320-2012004120508_llc.fits</td><td>506880</td><td>9000122074</td></tr>\n",
       "<tr><td>9000122074</td><td>Kepler</td><td>timeseries</td><td>kplr003120320_lc_Q111111111111111111</td><td>Lightcurve Long Cadence (CLC) - Q12</td><td>C</td><td>mast:Kepler/url/missions/kepler/lightcurves/0031/003120320/kplr003120320-2012088054726_llc.fits</td><td>SCIENCE</td><td>Minimum Recommended Products</td><td>LLC</td><td>--</td><td>Kepler</td><td>--</td><td>EX</td><td>kplr003120320-2012088054726_llc.fits</td><td>434880</td><td>9000122074</td></tr>\n",
       "<tr><td>9000122074</td><td>Kepler</td><td>timeseries</td><td>kplr003120320_lc_Q111111111111111111</td><td>Lightcurve Long Cadence (CLC) - Q13</td><td>C</td><td>mast:Kepler/url/missions/kepler/lightcurves/0031/003120320/kplr003120320-2012179063303_llc.fits</td><td>SCIENCE</td><td>Minimum Recommended Products</td><td>LLC</td><td>--</td><td>Kepler</td><td>--</td><td>EX</td><td>kplr003120320-2012179063303_llc.fits</td><td>472320</td><td>9000122074</td></tr>\n",
       "<tr><td>9000122074</td><td>Kepler</td><td>timeseries</td><td>kplr003120320_lc_Q111111111111111111</td><td>Lightcurve Long Cadence (CLC) - Q14</td><td>C</td><td>mast:Kepler/url/missions/kepler/lightcurves/0031/003120320/kplr003120320-2012277125453_llc.fits</td><td>SCIENCE</td><td>Minimum Recommended Products</td><td>LLC</td><td>--</td><td>Kepler</td><td>--</td><td>EX</td><td>kplr003120320-2012277125453_llc.fits</td><td>506880</td><td>9000122074</td></tr>\n",
       "<tr><td>9000122074</td><td>Kepler</td><td>timeseries</td><td>kplr003120320_lc_Q111111111111111111</td><td>Lightcurve Long Cadence (CLC) - Q15</td><td>C</td><td>mast:Kepler/url/missions/kepler/lightcurves/0031/003120320/kplr003120320-2013011073258_llc.fits</td><td>SCIENCE</td><td>Minimum Recommended Products</td><td>LLC</td><td>--</td><td>Kepler</td><td>--</td><td>EX</td><td>kplr003120320-2013011073258_llc.fits</td><td>506880</td><td>9000122074</td></tr>\n",
       "<tr><td>9000122074</td><td>Kepler</td><td>timeseries</td><td>kplr003120320_lc_Q111111111111111111</td><td>Lightcurve Long Cadence (CLC) - Q16</td><td>C</td><td>mast:Kepler/url/missions/kepler/lightcurves/0031/003120320/kplr003120320-2013098041711_llc.fits</td><td>SCIENCE</td><td>Minimum Recommended Products</td><td>LLC</td><td>--</td><td>Kepler</td><td>--</td><td>EX</td><td>kplr003120320-2013098041711_llc.fits</td><td>449280</td><td>9000122074</td></tr>\n",
       "<tr><td>9000122074</td><td>Kepler</td><td>timeseries</td><td>kplr003120320_lc_Q111111111111111111</td><td>Lightcurve Long Cadence (CLC) - Q17</td><td>C</td><td>mast:Kepler/url/missions/kepler/lightcurves/0031/003120320/kplr003120320-2013131215648_llc.fits</td><td>SCIENCE</td><td>Minimum Recommended Products</td><td>LLC</td><td>--</td><td>Kepler</td><td>--</td><td>EX</td><td>kplr003120320-2013131215648_llc.fits</td><td>187200</td><td>9000122074</td></tr>\n",
       "</table>"
      ],
      "text/plain": [
       "<Table masked=True length=18>\n",
       "  obsID    obs_collection dataproduct_type ...  size  parent_obsid\n",
       "  str10         str6           str10       ... int64     str10    \n",
       "---------- -------------- ---------------- ... ------ ------------\n",
       "9000122074         Kepler       timeseries ...  77760   9000122074\n",
       "9000122074         Kepler       timeseries ... 192960   9000122074\n",
       "9000122074         Kepler       timeseries ... 466560   9000122074\n",
       "9000122074         Kepler       timeseries ... 466560   9000122074\n",
       "9000122074         Kepler       timeseries ... 469440   9000122074\n",
       "9000122074         Kepler       timeseries ... 492480   9000122074\n",
       "9000122074         Kepler       timeseries ... 469440   9000122074\n",
       "9000122074         Kepler       timeseries ... 466560   9000122074\n",
       "9000122074         Kepler       timeseries ... 357120   9000122074\n",
       "9000122074         Kepler       timeseries ... 506880   9000122074\n",
       "9000122074         Kepler       timeseries ... 486720   9000122074\n",
       "9000122074         Kepler       timeseries ... 506880   9000122074\n",
       "9000122074         Kepler       timeseries ... 434880   9000122074\n",
       "9000122074         Kepler       timeseries ... 472320   9000122074\n",
       "9000122074         Kepler       timeseries ... 506880   9000122074\n",
       "9000122074         Kepler       timeseries ... 506880   9000122074\n",
       "9000122074         Kepler       timeseries ... 449280   9000122074\n",
       "9000122074         Kepler       timeseries ... 187200   9000122074"
      ]
     },
     "execution_count": 46,
     "metadata": {},
     "output_type": "execute_result"
    }
   ],
   "source": [
    "products"
   ]
  },
  {
   "cell_type": "code",
   "execution_count": 47,
   "metadata": {},
   "outputs": [
    {
     "name": "stdout",
     "output_type": "stream",
     "text": [
      " Status \n",
      "--------\n",
      "COMPLETE\n",
      "COMPLETE\n",
      "COMPLETE\n",
      "COMPLETE\n",
      "COMPLETE\n",
      "COMPLETE\n",
      "COMPLETE\n",
      "COMPLETE\n",
      "COMPLETE\n",
      "COMPLETE\n",
      "COMPLETE\n",
      "COMPLETE\n",
      "COMPLETE\n",
      "COMPLETE\n",
      "COMPLETE\n",
      "COMPLETE\n",
      "COMPLETE\n",
      "COMPLETE\n"
     ]
    }
   ],
   "source": [
    "print(manifest[\"Status\"])"
   ]
  },
  {
   "cell_type": "markdown",
   "metadata": {},
   "source": [
    "# Download TESS Data"
   ]
  },
  {
   "cell_type": "code",
   "execution_count": 6,
   "metadata": {},
   "outputs": [],
   "source": [
    "# Downloading from the cloud\n",
    "obs_table = Observations.query_criteria(obs_collection=['TESS'],\n",
    "                                        objectname=\"TIC 137549183\",\n",
    "                                        radius=0)\n",
    "products = Observations.get_product_list(obs_table[0])\n",
    "# products = Observations.filter_products(products,\n",
    "#                                        dataproduct_type=\"timeseries\",\n",
    "#                                        extension=\"fits\",\n",
    "#                                        productType=\"SCIENCE\",\n",
    "#                                        productSubGroupDescription,\"LC\")\n",
    "# manifest = Observations.download_products(products[:10], cloud_only=True)"
   ]
  },
  {
   "cell_type": "code",
   "execution_count": 7,
   "metadata": {},
   "outputs": [
    {
     "data": {
      "text/html": [
       "<i>Table masked=True length=13</i>\n",
       "<table id=\"table140099250146800\" class=\"table-striped table-bordered table-condensed\">\n",
       "<thead><tr><th>obsID</th><th>obs_collection</th><th>dataproduct_type</th><th>obs_id</th><th>description</th><th>type</th><th>dataURI</th><th>productType</th><th>productGroupDescription</th><th>productSubGroupDescription</th><th>productDocumentationURL</th><th>project</th><th>prvversion</th><th>proposal_id</th><th>productFilename</th><th>size</th><th>parent_obsid</th></tr></thead>\n",
       "<thead><tr><th>str11</th><th>str4</th><th>str10</th><th>str47</th><th>str33</th><th>str1</th><th>str81</th><th>str9</th><th>str28</th><th>str3</th><th>str1</th><th>str4</th><th>str20</th><th>str15</th><th>str63</th><th>int64</th><th>str11</th></tr></thead>\n",
       "<tr><td>17000950358</td><td>TESS</td><td>timeseries</td><td>tess2019198215352-s0014-0000000137549183-0150-s</td><td>full data validation report</td><td>S</td><td>mast:TESS/product/tess2019199201929-s0014-s0014-0000000137549183-00240_dvr.pdf</td><td>AUXILIARY</td><td>--</td><td>DVR</td><td>--</td><td>SPOC</td><td>f997d78fe0</td><td>G022062_G022204</td><td>tess2019199201929-s0014-s0014-0000000137549183-00240_dvr.pdf</td><td>9825732</td><td>17000950358</td></tr>\n",
       "<tr><td>17000950358</td><td>TESS</td><td>timeseries</td><td>tess2019198215352-s0014-0000000137549183-0150-s</td><td>full data validation report (xml)</td><td>S</td><td>mast:TESS/product/tess2019199201929-s0014-s0014-0000000137549183-00240_dvr.xml</td><td>AUXILIARY</td><td>--</td><td>DVR</td><td>--</td><td>SPOC</td><td>f997d78fe0</td><td>G022062_G022204</td><td>tess2019199201929-s0014-s0014-0000000137549183-00240_dvr.xml</td><td>109908</td><td>17000950358</td></tr>\n",
       "<tr><td>17000950358</td><td>TESS</td><td>timeseries</td><td>tess2019198215352-s0014-0000000137549183-0150-s</td><td>full data validation report</td><td>S</td><td>mast:TESS/product/tess2019199201929-s0014-s0014-0000000137549183-00290_dvr.pdf</td><td>AUXILIARY</td><td>--</td><td>DVR</td><td>--</td><td>SPOC</td><td>f997d78fe0</td><td>G022062_G022204</td><td>tess2019199201929-s0014-s0014-0000000137549183-00290_dvr.pdf</td><td>19725953</td><td>17000950358</td></tr>\n",
       "<tr><td>17000950358</td><td>TESS</td><td>timeseries</td><td>tess2019198215352-s0014-0000000137549183-0150-s</td><td>full data validation report (xml)</td><td>S</td><td>mast:TESS/product/tess2019199201929-s0014-s0014-0000000137549183-00290_dvr.xml</td><td>AUXILIARY</td><td>--</td><td>DVR</td><td>--</td><td>SPOC</td><td>f997d78fe0</td><td>G022062_G022204</td><td>tess2019199201929-s0014-s0014-0000000137549183-00290_dvr.xml</td><td>221607</td><td>17000950358</td></tr>\n",
       "<tr><td>17000950358</td><td>TESS</td><td>timeseries</td><td>tess2019198215352-s0014-0000000137549183-0150-s</td><td>data validation mini report</td><td>S</td><td>mast:TESS/product/tess2019199201929-s0014-s0014-0000000137549183-00240_dvm.pdf</td><td>AUXILIARY</td><td>Minimum Recommended Products</td><td>DVM</td><td>--</td><td>SPOC</td><td>f997d78fe0</td><td>G022062_G022204</td><td>tess2019199201929-s0014-s0014-0000000137549183-00240_dvm.pdf</td><td>4855740</td><td>17000950358</td></tr>\n",
       "<tr><td>17000950358</td><td>TESS</td><td>timeseries</td><td>tess2019198215352-s0014-0000000137549183-0150-s</td><td>data validation mini report</td><td>S</td><td>mast:TESS/product/tess2019199201929-s0014-s0014-0000000137549183-00290_dvm.pdf</td><td>AUXILIARY</td><td>Minimum Recommended Products</td><td>DVM</td><td>--</td><td>SPOC</td><td>f997d78fe0</td><td>G022062_G022204</td><td>tess2019199201929-s0014-s0014-0000000137549183-00290_dvm.pdf</td><td>6774245</td><td>17000950358</td></tr>\n",
       "<tr><td>17000950358</td><td>TESS</td><td>timeseries</td><td>tess2019198215352-s0014-0000000137549183-0150-s</td><td>TCE summary report</td><td>S</td><td>mast:TESS/product/tess2019199201929-s0014-s0014-0000000137549183-01-00240_dvs.pdf</td><td>AUXILIARY</td><td>Minimum Recommended Products</td><td>DVS</td><td>--</td><td>SPOC</td><td>f997d78fe0</td><td>G022062_G022204</td><td>tess2019199201929-s0014-s0014-0000000137549183-01-00240_dvs.pdf</td><td>701848</td><td>17000950358</td></tr>\n",
       "<tr><td>17000950358</td><td>TESS</td><td>timeseries</td><td>tess2019198215352-s0014-0000000137549183-0150-s</td><td>TCE summary report</td><td>S</td><td>mast:TESS/product/tess2019199201929-s0014-s0014-0000000137549183-01-00290_dvs.pdf</td><td>AUXILIARY</td><td>Minimum Recommended Products</td><td>DVS</td><td>--</td><td>SPOC</td><td>f997d78fe0</td><td>G022062_G022204</td><td>tess2019199201929-s0014-s0014-0000000137549183-01-00290_dvs.pdf</td><td>648098</td><td>17000950358</td></tr>\n",
       "<tr><td>17000950358</td><td>TESS</td><td>timeseries</td><td>tess2019198215352-s0014-0000000137549183-0150-s</td><td>TCE summary report</td><td>S</td><td>mast:TESS/product/tess2019199201929-s0014-s0014-0000000137549183-02-00290_dvs.pdf</td><td>AUXILIARY</td><td>Minimum Recommended Products</td><td>DVS</td><td>--</td><td>SPOC</td><td>f997d78fe0</td><td>G022062_G022204</td><td>tess2019199201929-s0014-s0014-0000000137549183-02-00290_dvs.pdf</td><td>596152</td><td>17000950358</td></tr>\n",
       "<tr><td>17000950358</td><td>TESS</td><td>timeseries</td><td>tess2019198215352-s0014-0000000137549183-0150-s</td><td>Data validation time series</td><td>S</td><td>mast:TESS/product/tess2019199201929-s0014-s0014-0000000137549183-00240_dvt.fits</td><td>SCIENCE</td><td>Minimum Recommended Products</td><td>DVT</td><td>--</td><td>SPOC</td><td>f997d78fe0</td><td>G022062_G022204</td><td>tess2019199201929-s0014-s0014-0000000137549183-00240_dvt.fits</td><td>3899520</td><td>17000950358</td></tr>\n",
       "<tr><td>17000950358</td><td>TESS</td><td>timeseries</td><td>tess2019198215352-s0014-0000000137549183-0150-s</td><td>Data validation time series</td><td>S</td><td>mast:TESS/product/tess2019199201929-s0014-s0014-0000000137549183-00290_dvt.fits</td><td>SCIENCE</td><td>Minimum Recommended Products</td><td>DVT</td><td>--</td><td>SPOC</td><td>f997d78fe0</td><td>G022062_G022204</td><td>tess2019199201929-s0014-s0014-0000000137549183-00290_dvt.fits</td><td>4760640</td><td>17000950358</td></tr>\n",
       "<tr><td>17000950358</td><td>TESS</td><td>timeseries</td><td>tess2019198215352-s0014-0000000137549183-0150-s</td><td>Light curves</td><td>S</td><td>mast:TESS/product/tess2019198215352-s0014-0000000137549183-0150-s_lc.fits</td><td>SCIENCE</td><td>Minimum Recommended Products</td><td>LC</td><td>--</td><td>SPOC</td><td>f997d78fe0</td><td>G022062_G022204</td><td>tess2019198215352-s0014-0000000137549183-0150-s_lc.fits</td><td>1964160</td><td>17000950358</td></tr>\n",
       "<tr><td>17000950358</td><td>TESS</td><td>timeseries</td><td>tess2019198215352-s0014-0000000137549183-0150-s</td><td>Target pixel files</td><td>S</td><td>mast:TESS/product/tess2019198215352-s0014-0000000137549183-0150-s_tp.fits</td><td>SCIENCE</td><td>Minimum Recommended Products</td><td>TP</td><td>--</td><td>SPOC</td><td>spoc-4.0.28-20200407</td><td>G022062_G022204</td><td>tess2019198215352-s0014-0000000137549183-0150-s_tp.fits</td><td>47376000</td><td>17000950358</td></tr>\n",
       "</table>"
      ],
      "text/plain": [
       "<Table masked=True length=13>\n",
       "   obsID    obs_collection dataproduct_type ...   size   parent_obsid\n",
       "   str11         str4           str10       ...  int64      str11    \n",
       "----------- -------------- ---------------- ... -------- ------------\n",
       "17000950358           TESS       timeseries ...  9825732  17000950358\n",
       "17000950358           TESS       timeseries ...   109908  17000950358\n",
       "17000950358           TESS       timeseries ... 19725953  17000950358\n",
       "17000950358           TESS       timeseries ...   221607  17000950358\n",
       "17000950358           TESS       timeseries ...  4855740  17000950358\n",
       "17000950358           TESS       timeseries ...  6774245  17000950358\n",
       "17000950358           TESS       timeseries ...   701848  17000950358\n",
       "17000950358           TESS       timeseries ...   648098  17000950358\n",
       "17000950358           TESS       timeseries ...   596152  17000950358\n",
       "17000950358           TESS       timeseries ...  3899520  17000950358\n",
       "17000950358           TESS       timeseries ...  4760640  17000950358\n",
       "17000950358           TESS       timeseries ...  1964160  17000950358\n",
       "17000950358           TESS       timeseries ... 47376000  17000950358"
      ]
     },
     "execution_count": 7,
     "metadata": {},
     "output_type": "execute_result"
    }
   ],
   "source": [
    "products"
   ]
  },
  {
   "cell_type": "code",
   "execution_count": 48,
   "metadata": {},
   "outputs": [
    {
     "name": "stdout",
     "output_type": "stream",
     "text": [
      "Downloading URL s3://stpubdata/tess/public/tid/s0014/0000/0001/3754/9183/tess2019199201929-s0014-s0014-0000000137549183-00240_dvt.fits to ./mastDownload/TESS/tess2019198215352-s0014-0000000137549183-0150-s/tess2019199201929-s0014-s0014-0000000137549183-00240_dvt.fits ... [Done]\n",
      "Downloading URL s3://stpubdata/tess/public/tid/s0014/0000/0001/3754/9183/tess2019199201929-s0014-s0014-0000000137549183-00290_dvt.fits to ./mastDownload/TESS/tess2019198215352-s0014-0000000137549183-0150-s/tess2019199201929-s0014-s0014-0000000137549183-00290_dvt.fits ... [Done]\n",
      "Downloading URL s3://stpubdata/tess/public/tid/s0014/0000/0001/3754/9183/tess2019198215352-s0014-0000000137549183-0150-s_lc.fits to ./mastDownload/TESS/tess2019198215352-s0014-0000000137549183-0150-s/tess2019198215352-s0014-0000000137549183-0150-s_lc.fits ... [Done]\n",
      "Downloading URL s3://stpubdata/tess/public/tid/s0014/0000/0001/3754/9183/tess2019198215352-s0014-0000000137549183-0150-s_tp.fits to ./mastDownload/TESS/tess2019198215352-s0014-0000000137549183-0150-s/tess2019198215352-s0014-0000000137549183-0150-s_tp.fits ... [Done]\n"
     ]
    }
   ],
   "source": [
    "# Downloading from the cloud\n",
    "obs_table = Observations.query_criteria(obs_collection=['TESS'],\n",
    "                                        objectname=\"TIC 137549183\",\n",
    "                                        radius=0)\n",
    "products = Observations.get_product_list(obs_table[0])\n",
    "products = Observations.filter_products(products,\n",
    "                                       dataproduct_type=\"timeseries\",\n",
    "                                       extension=\"fits\",\n",
    "                                       productType=\"SCIENCE\",\n",
    "                                       productSubGroupDescription,\"LC\")\n",
    "manifest = Observations.download_products(products[:10], cloud_only=True)"
   ]
  },
  {
   "cell_type": "code",
   "execution_count": 44,
   "metadata": {},
   "outputs": [
    {
     "data": {
      "text/html": [
       "<i>Table masked=True length=4</i>\n",
       "<table id=\"table139996487782800\" class=\"table-striped table-bordered table-condensed\">\n",
       "<thead><tr><th>obsID</th><th>obs_collection</th><th>dataproduct_type</th><th>obs_id</th><th>description</th><th>type</th><th>dataURI</th><th>productType</th><th>productGroupDescription</th><th>productSubGroupDescription</th><th>productDocumentationURL</th><th>project</th><th>prvversion</th><th>proposal_id</th><th>productFilename</th><th>size</th><th>parent_obsid</th></tr></thead>\n",
       "<thead><tr><th>str11</th><th>str4</th><th>str10</th><th>str47</th><th>str33</th><th>str1</th><th>str81</th><th>str9</th><th>str28</th><th>str3</th><th>str1</th><th>str4</th><th>str20</th><th>str15</th><th>str63</th><th>int64</th><th>str11</th></tr></thead>\n",
       "<tr><td>17000950358</td><td>TESS</td><td>timeseries</td><td>tess2019198215352-s0014-0000000137549183-0150-s</td><td>Data validation time series</td><td>S</td><td>mast:TESS/product/tess2019199201929-s0014-s0014-0000000137549183-00240_dvt.fits</td><td>SCIENCE</td><td>Minimum Recommended Products</td><td>DVT</td><td>--</td><td>SPOC</td><td>f997d78fe0</td><td>G022062_G022204</td><td>tess2019199201929-s0014-s0014-0000000137549183-00240_dvt.fits</td><td>3899520</td><td>17000950358</td></tr>\n",
       "<tr><td>17000950358</td><td>TESS</td><td>timeseries</td><td>tess2019198215352-s0014-0000000137549183-0150-s</td><td>Data validation time series</td><td>S</td><td>mast:TESS/product/tess2019199201929-s0014-s0014-0000000137549183-00290_dvt.fits</td><td>SCIENCE</td><td>Minimum Recommended Products</td><td>DVT</td><td>--</td><td>SPOC</td><td>f997d78fe0</td><td>G022062_G022204</td><td>tess2019199201929-s0014-s0014-0000000137549183-00290_dvt.fits</td><td>4760640</td><td>17000950358</td></tr>\n",
       "<tr><td>17000950358</td><td>TESS</td><td>timeseries</td><td>tess2019198215352-s0014-0000000137549183-0150-s</td><td>Light curves</td><td>S</td><td>mast:TESS/product/tess2019198215352-s0014-0000000137549183-0150-s_lc.fits</td><td>SCIENCE</td><td>Minimum Recommended Products</td><td>LC</td><td>--</td><td>SPOC</td><td>f997d78fe0</td><td>G022062_G022204</td><td>tess2019198215352-s0014-0000000137549183-0150-s_lc.fits</td><td>1964160</td><td>17000950358</td></tr>\n",
       "<tr><td>17000950358</td><td>TESS</td><td>timeseries</td><td>tess2019198215352-s0014-0000000137549183-0150-s</td><td>Target pixel files</td><td>S</td><td>mast:TESS/product/tess2019198215352-s0014-0000000137549183-0150-s_tp.fits</td><td>SCIENCE</td><td>Minimum Recommended Products</td><td>TP</td><td>--</td><td>SPOC</td><td>spoc-4.0.28-20200407</td><td>G022062_G022204</td><td>tess2019198215352-s0014-0000000137549183-0150-s_tp.fits</td><td>47376000</td><td>17000950358</td></tr>\n",
       "</table>"
      ],
      "text/plain": [
       "<Table masked=True length=4>\n",
       "   obsID    obs_collection dataproduct_type ...   size   parent_obsid\n",
       "   str11         str4           str10       ...  int64      str11    \n",
       "----------- -------------- ---------------- ... -------- ------------\n",
       "17000950358           TESS       timeseries ...  3899520  17000950358\n",
       "17000950358           TESS       timeseries ...  4760640  17000950358\n",
       "17000950358           TESS       timeseries ...  1964160  17000950358\n",
       "17000950358           TESS       timeseries ... 47376000  17000950358"
      ]
     },
     "execution_count": 44,
     "metadata": {},
     "output_type": "execute_result"
    }
   ],
   "source": [
    "products"
   ]
  },
  {
   "cell_type": "code",
   "execution_count": 30,
   "metadata": {},
   "outputs": [
    {
     "name": "stdout",
     "output_type": "stream",
     "text": [
      " Status \n",
      "--------\n",
      "COMPLETE\n",
      "COMPLETE\n",
      "COMPLETE\n",
      "COMPLETE\n",
      "COMPLETE\n",
      "COMPLETE\n",
      "COMPLETE\n",
      "COMPLETE\n",
      "COMPLETE\n",
      "COMPLETE\n"
     ]
    }
   ],
   "source": [
    "print(manifest[\"Status\"])"
   ]
  },
  {
   "cell_type": "code",
   "execution_count": 84,
   "metadata": {},
   "outputs": [],
   "source": [
    "def number_of_timeseries(tic):\n",
    "    # supply TIC\n",
    "    # restrict the mission to TESS\n",
    "    try:\n",
    "        objectname = \"TIC \" + str(tic)\n",
    "        obs_table = Observations.query_criteria(obs_collection=['TESS'],\n",
    "                                            objectname=objectname,\n",
    "                                            radius=0)\n",
    "\n",
    "        if len(obs_table) > 0:\n",
    "            products = Observations.get_product_list(obs_table[0])\n",
    "            products = Observations.filter_products(products,\n",
    "                                                   dataproduct_type=\"timeseries\",\n",
    "                                                   extension=\"fits\",\n",
    "                                                   productType=\"SCIENCE\")\n",
    "        else:\n",
    "            return 0\n",
    "    except Exception as e:\n",
    "        return -1\n",
    "    \n",
    "    return len(products)"
   ]
  },
  {
   "cell_type": "code",
   "execution_count": 85,
   "metadata": {},
   "outputs": [],
   "source": [
    "def number_of_light_curves(tic):\n",
    "    # supply TIC\n",
    "    # restrict the mission to TESS\n",
    "    try:\n",
    "        objectname = \"TIC \" + str(tic)\n",
    "        obs_table = Observations.query_criteria(obs_collection=['TESS'],\n",
    "                                            objectname=objectname,\n",
    "                                            radius=0)\n",
    "\n",
    "        if len(obs_table) > 0:\n",
    "            products = Observations.get_product_list(obs_table[0])\n",
    "            products = Observations.filter_products(products,\n",
    "                                                   dataproduct_type=\"timeseries\",\n",
    "                                                   extension=\"fits\",\n",
    "                                                   productType=\"SCIENCE\",\n",
    "                                                   productSubGroupDescription=\"LC\")\n",
    "        else:\n",
    "            return 0\n",
    "    except Exception as e:\n",
    "        return -1\n",
    "    \n",
    "    return len(products)"
   ]
  },
  {
   "cell_type": "code",
   "execution_count": 8,
   "metadata": {},
   "outputs": [],
   "source": [
    "def number_of_target_pixel_files(tic):\n",
    "    # supply TIC\n",
    "    # restrict the mission to TESS\n",
    "    try:\n",
    "        objectname = \"TIC \" + str(tic)\n",
    "        obs_table = Observations.query_criteria(obs_collection=['TESS'],\n",
    "                                            objectname=objectname,\n",
    "                                            radius=0)\n",
    "\n",
    "        if len(obs_table) > 0:\n",
    "            products = Observations.get_product_list(obs_table[0])\n",
    "            products = Observations.filter_products(products,\n",
    "                                                   dataproduct_type=\"timeseries\",\n",
    "                                                   extension=\"fits\",\n",
    "                                                   productType=\"SCIENCE\",\n",
    "                                                   productSubGroupDescription=\"TP\")\n",
    "        else:\n",
    "            return 0\n",
    "    except Exception as e:\n",
    "        return -1\n",
    "    \n",
    "    return len(products)"
   ]
  },
  {
   "cell_type": "code",
   "execution_count": 9,
   "metadata": {},
   "outputs": [
    {
     "data": {
      "text/plain": [
       "1"
      ]
     },
     "execution_count": 9,
     "metadata": {},
     "output_type": "execute_result"
    }
   ],
   "source": [
    "number_of_target_pixel_files(137549183)"
   ]
  },
  {
   "cell_type": "code",
   "execution_count": 68,
   "metadata": {},
   "outputs": [
    {
     "data": {
      "text/plain": [
       "4"
      ]
     },
     "execution_count": 68,
     "metadata": {},
     "output_type": "execute_result"
    }
   ],
   "source": [
    "number_of_light_curves(137549183)"
   ]
  },
  {
   "cell_type": "markdown",
   "metadata": {},
   "source": [
    "# light curve counts"
   ]
  },
  {
   "cell_type": "code",
   "execution_count": 56,
   "metadata": {},
   "outputs": [
    {
     "data": {
      "text/html": [
       "<div>\n",
       "<style scoped>\n",
       "    .dataframe tbody tr th:only-of-type {\n",
       "        vertical-align: middle;\n",
       "    }\n",
       "\n",
       "    .dataframe tbody tr th {\n",
       "        vertical-align: top;\n",
       "    }\n",
       "\n",
       "    .dataframe thead th {\n",
       "        text-align: right;\n",
       "    }\n",
       "</style>\n",
       "<table border=\"1\" class=\"dataframe\">\n",
       "  <thead>\n",
       "    <tr style=\"text-align: right;\">\n",
       "      <th></th>\n",
       "      <th>kic</th>\n",
       "      <th>tic</th>\n",
       "    </tr>\n",
       "  </thead>\n",
       "  <tbody>\n",
       "    <tr>\n",
       "      <th>0</th>\n",
       "      <td>757099</td>\n",
       "      <td>122785244</td>\n",
       "    </tr>\n",
       "    <tr>\n",
       "      <th>1</th>\n",
       "      <td>892667</td>\n",
       "      <td>122785148</td>\n",
       "    </tr>\n",
       "    <tr>\n",
       "      <th>2</th>\n",
       "      <td>1025986</td>\n",
       "      <td>122784720</td>\n",
       "    </tr>\n",
       "    <tr>\n",
       "      <th>3</th>\n",
       "      <td>1026133</td>\n",
       "      <td>122784832</td>\n",
       "    </tr>\n",
       "    <tr>\n",
       "      <th>4</th>\n",
       "      <td>1026133</td>\n",
       "      <td>122784832</td>\n",
       "    </tr>\n",
       "  </tbody>\n",
       "</table>\n",
       "</div>"
      ],
      "text/plain": [
       "       kic        tic\n",
       "0   757099  122785244\n",
       "1   892667  122785148\n",
       "2  1025986  122784720\n",
       "3  1026133  122784832\n",
       "4  1026133  122784832"
      ]
     },
     "execution_count": 56,
     "metadata": {},
     "output_type": "execute_result"
    }
   ],
   "source": [
    "joined_df = pd.read_csv(\"joined.csv\")\n",
    "joined_df.head()"
   ]
  },
  {
   "cell_type": "code",
   "execution_count": 69,
   "metadata": {},
   "outputs": [
    {
     "data": {
      "text/plain": [
       "0    0\n",
       "1    0\n",
       "2    0\n",
       "3    0\n",
       "4    0\n",
       "Name: tic, dtype: int64"
      ]
     },
     "execution_count": 69,
     "metadata": {},
     "output_type": "execute_result"
    }
   ],
   "source": [
    "joined_df.head()[\"tic\"].apply(number_of_light_curves)"
   ]
  },
  {
   "cell_type": "code",
   "execution_count": 70,
   "metadata": {},
   "outputs": [],
   "source": [
    "joined_df[\"tess_light_curves\"] = joined_df[\"tic\"].apply(number_of_light_curves)"
   ]
  },
  {
   "cell_type": "code",
   "execution_count": 75,
   "metadata": {},
   "outputs": [
    {
     "data": {
      "text/plain": [
       "0"
      ]
     },
     "execution_count": 75,
     "metadata": {},
     "output_type": "execute_result"
    }
   ],
   "source": [
    "# no connection errors\n",
    "len(joined_df[joined_df[\"tess_light_curves\"] == -1])"
   ]
  },
  {
   "cell_type": "code",
   "execution_count": 76,
   "metadata": {},
   "outputs": [
    {
     "data": {
      "text/html": [
       "<div>\n",
       "<style scoped>\n",
       "    .dataframe tbody tr th:only-of-type {\n",
       "        vertical-align: middle;\n",
       "    }\n",
       "\n",
       "    .dataframe tbody tr th {\n",
       "        vertical-align: top;\n",
       "    }\n",
       "\n",
       "    .dataframe thead th {\n",
       "        text-align: right;\n",
       "    }\n",
       "</style>\n",
       "<table border=\"1\" class=\"dataframe\">\n",
       "  <thead>\n",
       "    <tr style=\"text-align: right;\">\n",
       "      <th></th>\n",
       "      <th>kic</th>\n",
       "      <th>tic</th>\n",
       "      <th>tess_light_curves</th>\n",
       "    </tr>\n",
       "  </thead>\n",
       "  <tbody>\n",
       "    <tr>\n",
       "      <th>0</th>\n",
       "      <td>757099</td>\n",
       "      <td>122785244</td>\n",
       "      <td>0</td>\n",
       "    </tr>\n",
       "    <tr>\n",
       "      <th>1</th>\n",
       "      <td>892667</td>\n",
       "      <td>122785148</td>\n",
       "      <td>0</td>\n",
       "    </tr>\n",
       "    <tr>\n",
       "      <th>2</th>\n",
       "      <td>1025986</td>\n",
       "      <td>122784720</td>\n",
       "      <td>0</td>\n",
       "    </tr>\n",
       "    <tr>\n",
       "      <th>3</th>\n",
       "      <td>1026133</td>\n",
       "      <td>122784832</td>\n",
       "      <td>0</td>\n",
       "    </tr>\n",
       "    <tr>\n",
       "      <th>4</th>\n",
       "      <td>1026133</td>\n",
       "      <td>122784832</td>\n",
       "      <td>0</td>\n",
       "    </tr>\n",
       "  </tbody>\n",
       "</table>\n",
       "</div>"
      ],
      "text/plain": [
       "       kic        tic  tess_light_curves\n",
       "0   757099  122785244                  0\n",
       "1   892667  122785148                  0\n",
       "2  1025986  122784720                  0\n",
       "3  1026133  122784832                  0\n",
       "4  1026133  122784832                  0"
      ]
     },
     "execution_count": 76,
     "metadata": {},
     "output_type": "execute_result"
    }
   ],
   "source": [
    "joined_df.head()"
   ]
  },
  {
   "cell_type": "code",
   "execution_count": 78,
   "metadata": {},
   "outputs": [
    {
     "data": {
      "text/plain": [
       "<matplotlib.axes._subplots.AxesSubplot at 0x7f5370fd28e0>"
      ]
     },
     "execution_count": 78,
     "metadata": {},
     "output_type": "execute_result"
    },
    {
     "data": {
      "image/png": "[encoded data removed]",
      "text/plain": [
       "<Figure size 432x288 with 1 Axes>"
      ]
     },
     "metadata": {
      "needs_background": "light"
     },
     "output_type": "display_data"
    }
   ],
   "source": [
    "joined_df[\"tess_light_curves\"].hist()"
   ]
  },
  {
   "cell_type": "code",
   "execution_count": 73,
   "metadata": {},
   "outputs": [
    {
     "data": {
      "text/plain": [
       "550"
      ]
     },
     "execution_count": 73,
     "metadata": {},
     "output_type": "execute_result"
    }
   ],
   "source": [
    "# 550 of the TICs have light curves\n",
    "len(joined_df[joined_df[\"tess_light_curves\"] > 0])"
   ]
  },
  {
   "cell_type": "code",
   "execution_count": 74,
   "metadata": {},
   "outputs": [
    {
     "data": {
      "text/plain": [
       "13017"
      ]
     },
     "execution_count": 74,
     "metadata": {},
     "output_type": "execute_result"
    }
   ],
   "source": [
    "# out of a total of 13017 TICs\n",
    "len(joined_df)"
   ]
  },
  {
   "cell_type": "code",
   "execution_count": 79,
   "metadata": {},
   "outputs": [],
   "source": [
    "joined_df.to_csv(\"joined_with_tess_lc_counts.csv\")"
   ]
  },
  {
   "cell_type": "code",
   "execution_count": 80,
   "metadata": {},
   "outputs": [
    {
     "data": {
      "text/html": [
       "<div>\n",
       "<style scoped>\n",
       "    .dataframe tbody tr th:only-of-type {\n",
       "        vertical-align: middle;\n",
       "    }\n",
       "\n",
       "    .dataframe tbody tr th {\n",
       "        vertical-align: top;\n",
       "    }\n",
       "\n",
       "    .dataframe thead th {\n",
       "        text-align: right;\n",
       "    }\n",
       "</style>\n",
       "<table border=\"1\" class=\"dataframe\">\n",
       "  <thead>\n",
       "    <tr style=\"text-align: right;\">\n",
       "      <th></th>\n",
       "      <th>kic</th>\n",
       "      <th>tic</th>\n",
       "      <th>tess_light_curves</th>\n",
       "    </tr>\n",
       "  </thead>\n",
       "  <tbody>\n",
       "    <tr>\n",
       "      <th>7</th>\n",
       "      <td>1026957</td>\n",
       "      <td>137099260</td>\n",
       "      <td>2</td>\n",
       "    </tr>\n",
       "    <tr>\n",
       "      <th>122</th>\n",
       "      <td>2010607</td>\n",
       "      <td>122507978</td>\n",
       "      <td>2</td>\n",
       "    </tr>\n",
       "    <tr>\n",
       "      <th>168</th>\n",
       "      <td>2164791</td>\n",
       "      <td>137637285</td>\n",
       "      <td>2</td>\n",
       "    </tr>\n",
       "    <tr>\n",
       "      <th>169</th>\n",
       "      <td>2164791</td>\n",
       "      <td>137637285</td>\n",
       "      <td>2</td>\n",
       "    </tr>\n",
       "    <tr>\n",
       "      <th>297</th>\n",
       "      <td>2571868</td>\n",
       "      <td>122452155</td>\n",
       "      <td>2</td>\n",
       "    </tr>\n",
       "  </tbody>\n",
       "</table>\n",
       "</div>"
      ],
      "text/plain": [
       "         kic        tic  tess_light_curves\n",
       "7    1026957  137099260                  2\n",
       "122  2010607  122507978                  2\n",
       "168  2164791  137637285                  2\n",
       "169  2164791  137637285                  2\n",
       "297  2571868  122452155                  2"
      ]
     },
     "execution_count": 80,
     "metadata": {},
     "output_type": "execute_result"
    }
   ],
   "source": [
    "joined_df[joined_df[\"tess_light_curves\"] > 0].head()"
   ]
  },
  {
   "cell_type": "code",
   "execution_count": 94,
   "metadata": {},
   "outputs": [
    {
     "data": {
      "text/html": [
       "<div>\n",
       "<style scoped>\n",
       "    .dataframe tbody tr th:only-of-type {\n",
       "        vertical-align: middle;\n",
       "    }\n",
       "\n",
       "    .dataframe tbody tr th {\n",
       "        vertical-align: top;\n",
       "    }\n",
       "\n",
       "    .dataframe thead th {\n",
       "        text-align: right;\n",
       "    }\n",
       "</style>\n",
       "<table border=\"1\" class=\"dataframe\">\n",
       "  <thead>\n",
       "    <tr style=\"text-align: right;\">\n",
       "      <th></th>\n",
       "      <th>kic</th>\n",
       "      <th>tic</th>\n",
       "      <th>tess_light_curves</th>\n",
       "      <th>tess_timeseries</th>\n",
       "    </tr>\n",
       "  </thead>\n",
       "  <tbody>\n",
       "    <tr>\n",
       "      <th>12902</th>\n",
       "      <td>12405950</td>\n",
       "      <td>406998744</td>\n",
       "      <td>1</td>\n",
       "      <td>2</td>\n",
       "    </tr>\n",
       "    <tr>\n",
       "      <th>12903</th>\n",
       "      <td>12405950</td>\n",
       "      <td>406998744</td>\n",
       "      <td>1</td>\n",
       "      <td>2</td>\n",
       "    </tr>\n",
       "    <tr>\n",
       "      <th>12904</th>\n",
       "      <td>12405950</td>\n",
       "      <td>406998744</td>\n",
       "      <td>1</td>\n",
       "      <td>2</td>\n",
       "    </tr>\n",
       "    <tr>\n",
       "      <th>12905</th>\n",
       "      <td>12405950</td>\n",
       "      <td>406998744</td>\n",
       "      <td>1</td>\n",
       "      <td>2</td>\n",
       "    </tr>\n",
       "    <tr>\n",
       "      <th>12906</th>\n",
       "      <td>12405950</td>\n",
       "      <td>406998744</td>\n",
       "      <td>1</td>\n",
       "      <td>2</td>\n",
       "    </tr>\n",
       "    <tr>\n",
       "      <th>12907</th>\n",
       "      <td>12405950</td>\n",
       "      <td>406998744</td>\n",
       "      <td>1</td>\n",
       "      <td>2</td>\n",
       "    </tr>\n",
       "    <tr>\n",
       "      <th>12908</th>\n",
       "      <td>12405950</td>\n",
       "      <td>406998744</td>\n",
       "      <td>1</td>\n",
       "      <td>2</td>\n",
       "    </tr>\n",
       "    <tr>\n",
       "      <th>12919</th>\n",
       "      <td>12418816</td>\n",
       "      <td>27843942</td>\n",
       "      <td>1</td>\n",
       "      <td>4</td>\n",
       "    </tr>\n",
       "    <tr>\n",
       "      <th>12920</th>\n",
       "      <td>12418816</td>\n",
       "      <td>27843942</td>\n",
       "      <td>1</td>\n",
       "      <td>4</td>\n",
       "    </tr>\n",
       "    <tr>\n",
       "      <th>12944</th>\n",
       "      <td>12507325</td>\n",
       "      <td>416267120</td>\n",
       "      <td>1</td>\n",
       "      <td>2</td>\n",
       "    </tr>\n",
       "    <tr>\n",
       "      <th>12945</th>\n",
       "      <td>12507325</td>\n",
       "      <td>416267120</td>\n",
       "      <td>1</td>\n",
       "      <td>2</td>\n",
       "    </tr>\n",
       "    <tr>\n",
       "      <th>12946</th>\n",
       "      <td>12507325</td>\n",
       "      <td>416267120</td>\n",
       "      <td>1</td>\n",
       "      <td>2</td>\n",
       "    </tr>\n",
       "    <tr>\n",
       "      <th>12947</th>\n",
       "      <td>12507325</td>\n",
       "      <td>416267120</td>\n",
       "      <td>1</td>\n",
       "      <td>2</td>\n",
       "    </tr>\n",
       "    <tr>\n",
       "      <th>12948</th>\n",
       "      <td>12507325</td>\n",
       "      <td>416267120</td>\n",
       "      <td>1</td>\n",
       "      <td>2</td>\n",
       "    </tr>\n",
       "    <tr>\n",
       "      <th>12949</th>\n",
       "      <td>12507325</td>\n",
       "      <td>416267120</td>\n",
       "      <td>1</td>\n",
       "      <td>2</td>\n",
       "    </tr>\n",
       "    <tr>\n",
       "      <th>12950</th>\n",
       "      <td>12507325</td>\n",
       "      <td>416267120</td>\n",
       "      <td>1</td>\n",
       "      <td>2</td>\n",
       "    </tr>\n",
       "    <tr>\n",
       "      <th>12951</th>\n",
       "      <td>12507325</td>\n",
       "      <td>416267120</td>\n",
       "      <td>1</td>\n",
       "      <td>2</td>\n",
       "    </tr>\n",
       "    <tr>\n",
       "      <th>12952</th>\n",
       "      <td>12507325</td>\n",
       "      <td>416267120</td>\n",
       "      <td>1</td>\n",
       "      <td>2</td>\n",
       "    </tr>\n",
       "    <tr>\n",
       "      <th>12958</th>\n",
       "      <td>12553408</td>\n",
       "      <td>298970256</td>\n",
       "      <td>1</td>\n",
       "      <td>2</td>\n",
       "    </tr>\n",
       "    <tr>\n",
       "      <th>12961</th>\n",
       "      <td>12555642</td>\n",
       "      <td>267673296</td>\n",
       "      <td>1</td>\n",
       "      <td>2</td>\n",
       "    </tr>\n",
       "  </tbody>\n",
       "</table>\n",
       "</div>"
      ],
      "text/plain": [
       "            kic        tic  tess_light_curves  tess_timeseries\n",
       "12902  12405950  406998744                  1                2\n",
       "12903  12405950  406998744                  1                2\n",
       "12904  12405950  406998744                  1                2\n",
       "12905  12405950  406998744                  1                2\n",
       "12906  12405950  406998744                  1                2\n",
       "12907  12405950  406998744                  1                2\n",
       "12908  12405950  406998744                  1                2\n",
       "12919  12418816   27843942                  1                4\n",
       "12920  12418816   27843942                  1                4\n",
       "12944  12507325  416267120                  1                2\n",
       "12945  12507325  416267120                  1                2\n",
       "12946  12507325  416267120                  1                2\n",
       "12947  12507325  416267120                  1                2\n",
       "12948  12507325  416267120                  1                2\n",
       "12949  12507325  416267120                  1                2\n",
       "12950  12507325  416267120                  1                2\n",
       "12951  12507325  416267120                  1                2\n",
       "12952  12507325  416267120                  1                2\n",
       "12958  12553408  298970256                  1                2\n",
       "12961  12555642  267673296                  1                2"
      ]
     },
     "execution_count": 94,
     "metadata": {},
     "output_type": "execute_result"
    }
   ],
   "source": [
    "joined_df[joined_df[\"tess_light_curves\"] > 0].tail(20)"
   ]
  },
  {
   "cell_type": "markdown",
   "metadata": {},
   "source": [
    "# target pixel file counts"
   ]
  },
  {
   "cell_type": "code",
   "execution_count": 10,
   "metadata": {},
   "outputs": [
    {
     "data": {
      "text/html": [
       "<div>\n",
       "<style scoped>\n",
       "    .dataframe tbody tr th:only-of-type {\n",
       "        vertical-align: middle;\n",
       "    }\n",
       "\n",
       "    .dataframe tbody tr th {\n",
       "        vertical-align: top;\n",
       "    }\n",
       "\n",
       "    .dataframe thead th {\n",
       "        text-align: right;\n",
       "    }\n",
       "</style>\n",
       "<table border=\"1\" class=\"dataframe\">\n",
       "  <thead>\n",
       "    <tr style=\"text-align: right;\">\n",
       "      <th></th>\n",
       "      <th>kic</th>\n",
       "      <th>TCE_ID</th>\n",
       "      <th>tic</th>\n",
       "      <th>disposition</th>\n",
       "      <th>not_transit</th>\n",
       "      <th>pn</th>\n",
       "      <th>n_plan</th>\n",
       "      <th>period</th>\n",
       "    </tr>\n",
       "  </thead>\n",
       "  <tbody>\n",
       "    <tr>\n",
       "      <th>0</th>\n",
       "      <td>757099</td>\n",
       "      <td>000757099-01</td>\n",
       "      <td>122785244</td>\n",
       "      <td>FP</td>\n",
       "      <td>1</td>\n",
       "      <td>1</td>\n",
       "      <td>1</td>\n",
       "      <td>0.723930</td>\n",
       "    </tr>\n",
       "    <tr>\n",
       "      <th>1</th>\n",
       "      <td>892667</td>\n",
       "      <td>000892667-01</td>\n",
       "      <td>122785148</td>\n",
       "      <td>FP</td>\n",
       "      <td>1</td>\n",
       "      <td>1</td>\n",
       "      <td>1</td>\n",
       "      <td>2.262005</td>\n",
       "    </tr>\n",
       "    <tr>\n",
       "      <th>2</th>\n",
       "      <td>1025986</td>\n",
       "      <td>001025986-01</td>\n",
       "      <td>122784720</td>\n",
       "      <td>FP</td>\n",
       "      <td>1</td>\n",
       "      <td>1</td>\n",
       "      <td>1</td>\n",
       "      <td>275.071787</td>\n",
       "    </tr>\n",
       "    <tr>\n",
       "      <th>3</th>\n",
       "      <td>1026133</td>\n",
       "      <td>001026133-01</td>\n",
       "      <td>122784832</td>\n",
       "      <td>FP</td>\n",
       "      <td>1</td>\n",
       "      <td>1</td>\n",
       "      <td>2</td>\n",
       "      <td>1.346373</td>\n",
       "    </tr>\n",
       "    <tr>\n",
       "      <th>4</th>\n",
       "      <td>1026133</td>\n",
       "      <td>001026133-02</td>\n",
       "      <td>122784832</td>\n",
       "      <td>FP</td>\n",
       "      <td>1</td>\n",
       "      <td>2</td>\n",
       "      <td>2</td>\n",
       "      <td>186.181229</td>\n",
       "    </tr>\n",
       "  </tbody>\n",
       "</table>\n",
       "</div>"
      ],
      "text/plain": [
       "       kic        TCE_ID        tic disposition  not_transit  pn  n_plan  \\\n",
       "0   757099  000757099-01  122785244          FP            1   1       1   \n",
       "1   892667  000892667-01  122785148          FP            1   1       1   \n",
       "2  1025986  001025986-01  122784720          FP            1   1       1   \n",
       "3  1026133  001026133-01  122784832          FP            1   1       2   \n",
       "4  1026133  001026133-02  122784832          FP            1   2       2   \n",
       "\n",
       "       period  \n",
       "0    0.723930  \n",
       "1    2.262005  \n",
       "2  275.071787  \n",
       "3    1.346373  \n",
       "4  186.181229  "
      ]
     },
     "execution_count": 10,
     "metadata": {},
     "output_type": "execute_result"
    }
   ],
   "source": [
    "joined_df = pd.read_csv(\"joined.csv\")\n",
    "joined_df.head()"
   ]
  },
  {
   "cell_type": "code",
   "execution_count": 11,
   "metadata": {},
   "outputs": [
    {
     "name": "stderr",
     "output_type": "stream",
     "text": [
      "WARNING: NoResultsWarning: Query returned no results. [astroquery.mast.discovery_portal]\n"
     ]
    }
   ],
   "source": [
    "joined_df[\"target_pixel_files\"] = joined_df[\"tic\"].apply(number_of_target_pixel_files)"
   ]
  },
  {
   "cell_type": "code",
   "execution_count": 12,
   "metadata": {},
   "outputs": [
    {
     "data": {
      "text/plain": [
       "4"
      ]
     },
     "execution_count": 12,
     "metadata": {},
     "output_type": "execute_result"
    }
   ],
   "source": [
    "# connection errors?\n",
    "len(joined_df[joined_df[\"target_pixel_files\"] == -1])"
   ]
  },
  {
   "cell_type": "code",
   "execution_count": 18,
   "metadata": {},
   "outputs": [
    {
     "data": {
      "text/plain": [
       "9352     0\n",
       "10470    0\n",
       "11965    0\n",
       "12020    0\n",
       "Name: tic, dtype: int64"
      ]
     },
     "execution_count": 18,
     "metadata": {},
     "output_type": "execute_result"
    }
   ],
   "source": [
    "joined_df[joined_df[\"target_pixel_files\"] == -1][\"tic\"].apply(number_of_target_pixel_files)"
   ]
  },
  {
   "cell_type": "code",
   "execution_count": 19,
   "metadata": {},
   "outputs": [],
   "source": [
    "joined_df.loc[joined_df[\"target_pixel_files\"] == -1, \"target_pixel_files\"] = joined_df[joined_df[\"target_pixel_files\"] == -1][\"tic\"].apply(number_of_target_pixel_files)"
   ]
  },
  {
   "cell_type": "code",
   "execution_count": 20,
   "metadata": {},
   "outputs": [
    {
     "data": {
      "text/html": [
       "<div>\n",
       "<style scoped>\n",
       "    .dataframe tbody tr th:only-of-type {\n",
       "        vertical-align: middle;\n",
       "    }\n",
       "\n",
       "    .dataframe tbody tr th {\n",
       "        vertical-align: top;\n",
       "    }\n",
       "\n",
       "    .dataframe thead th {\n",
       "        text-align: right;\n",
       "    }\n",
       "</style>\n",
       "<table border=\"1\" class=\"dataframe\">\n",
       "  <thead>\n",
       "    <tr style=\"text-align: right;\">\n",
       "      <th></th>\n",
       "      <th>kic</th>\n",
       "      <th>TCE_ID</th>\n",
       "      <th>tic</th>\n",
       "      <th>disposition</th>\n",
       "      <th>not_transit</th>\n",
       "      <th>pn</th>\n",
       "      <th>n_plan</th>\n",
       "      <th>period</th>\n",
       "      <th>target_pixel_files</th>\n",
       "    </tr>\n",
       "  </thead>\n",
       "  <tbody>\n",
       "    <tr>\n",
       "      <th>0</th>\n",
       "      <td>757099</td>\n",
       "      <td>000757099-01</td>\n",
       "      <td>122785244</td>\n",
       "      <td>FP</td>\n",
       "      <td>1</td>\n",
       "      <td>1</td>\n",
       "      <td>1</td>\n",
       "      <td>0.723930</td>\n",
       "      <td>0</td>\n",
       "    </tr>\n",
       "    <tr>\n",
       "      <th>1</th>\n",
       "      <td>892667</td>\n",
       "      <td>000892667-01</td>\n",
       "      <td>122785148</td>\n",
       "      <td>FP</td>\n",
       "      <td>1</td>\n",
       "      <td>1</td>\n",
       "      <td>1</td>\n",
       "      <td>2.262005</td>\n",
       "      <td>0</td>\n",
       "    </tr>\n",
       "    <tr>\n",
       "      <th>2</th>\n",
       "      <td>1025986</td>\n",
       "      <td>001025986-01</td>\n",
       "      <td>122784720</td>\n",
       "      <td>FP</td>\n",
       "      <td>1</td>\n",
       "      <td>1</td>\n",
       "      <td>1</td>\n",
       "      <td>275.071787</td>\n",
       "      <td>0</td>\n",
       "    </tr>\n",
       "    <tr>\n",
       "      <th>3</th>\n",
       "      <td>1026133</td>\n",
       "      <td>001026133-01</td>\n",
       "      <td>122784832</td>\n",
       "      <td>FP</td>\n",
       "      <td>1</td>\n",
       "      <td>1</td>\n",
       "      <td>2</td>\n",
       "      <td>1.346373</td>\n",
       "      <td>0</td>\n",
       "    </tr>\n",
       "    <tr>\n",
       "      <th>4</th>\n",
       "      <td>1026133</td>\n",
       "      <td>001026133-02</td>\n",
       "      <td>122784832</td>\n",
       "      <td>FP</td>\n",
       "      <td>1</td>\n",
       "      <td>2</td>\n",
       "      <td>2</td>\n",
       "      <td>186.181229</td>\n",
       "      <td>0</td>\n",
       "    </tr>\n",
       "  </tbody>\n",
       "</table>\n",
       "</div>"
      ],
      "text/plain": [
       "       kic        TCE_ID        tic disposition  not_transit  pn  n_plan  \\\n",
       "0   757099  000757099-01  122785244          FP            1   1       1   \n",
       "1   892667  000892667-01  122785148          FP            1   1       1   \n",
       "2  1025986  001025986-01  122784720          FP            1   1       1   \n",
       "3  1026133  001026133-01  122784832          FP            1   1       2   \n",
       "4  1026133  001026133-02  122784832          FP            1   2       2   \n",
       "\n",
       "       period  target_pixel_files  \n",
       "0    0.723930                   0  \n",
       "1    2.262005                   0  \n",
       "2  275.071787                   0  \n",
       "3    1.346373                   0  \n",
       "4  186.181229                   0  "
      ]
     },
     "execution_count": 20,
     "metadata": {},
     "output_type": "execute_result"
    }
   ],
   "source": [
    "joined_df.head()"
   ]
  },
  {
   "cell_type": "code",
   "execution_count": 21,
   "metadata": {},
   "outputs": [
    {
     "data": {
      "text/plain": [
       "<matplotlib.axes._subplots.AxesSubplot at 0x7f6b64090e50>"
      ]
     },
     "execution_count": 21,
     "metadata": {},
     "output_type": "execute_result"
    },
    {
     "data": {
      "image/png": "[encoded data removed]",
      "text/plain": [
       "<Figure size 432x288 with 1 Axes>"
      ]
     },
     "metadata": {
      "needs_background": "light"
     },
     "output_type": "display_data"
    }
   ],
   "source": [
    "joined_df[\"target_pixel_files\"].hist()"
   ]
  },
  {
   "cell_type": "code",
   "execution_count": 22,
   "metadata": {},
   "outputs": [
    {
     "data": {
      "text/plain": [
       "478"
      ]
     },
     "execution_count": 22,
     "metadata": {},
     "output_type": "execute_result"
    }
   ],
   "source": [
    "# 478 of the TICs have target pixel files as of October 2020\n",
    "len(joined_df[joined_df[\"target_pixel_files\"] > 0])"
   ]
  },
  {
   "cell_type": "code",
   "execution_count": 23,
   "metadata": {},
   "outputs": [],
   "source": [
    "joined_df.to_csv(\"joined_with_tess_tp_counts.csv\")"
   ]
  },
  {
   "cell_type": "markdown",
   "metadata": {},
   "source": [
    "# Download More TESS Data"
   ]
  },
  {
   "cell_type": "code",
   "execution_count": 5,
   "metadata": {},
   "outputs": [
    {
     "name": "stdout",
     "output_type": "stream",
     "text": [
      "Downloading URL s3://stpubdata/tess/public/tid/s0014/0000/0002/7248/9100/tess2019198215352-s0014-0000000272489100-0150-s_lc.fits to ./mastDownload/TESS/tess2019198215352-s0014-0000000272489100-0150-s/tess2019198215352-s0014-0000000272489100-0150-s_lc.fits ... [Done]\n"
     ]
    }
   ],
   "source": [
    "obs_table = Observations.query_criteria(obs_collection=['TESS'],\n",
    "                                        objectname=\"TIC 272489100\",\n",
    "                                        radius=0)\n",
    "products = Observations.get_product_list(obs_table[0])\n",
    "products = Observations.filter_products(products,\n",
    "                                       dataproduct_type=\"timeseries\",\n",
    "                                       extension=\"fits\",\n",
    "                                       productType=\"SCIENCE\",\n",
    "                                       productSubGroupDescription=\"LC\")\n",
    "manifest = Observations.download_products(products[:10], cloud_only=True)"
   ]
  },
  {
   "cell_type": "code",
   "execution_count": 83,
   "metadata": {},
   "outputs": [
    {
     "name": "stdout",
     "output_type": "stream",
     "text": [
      "Downloading URL s3://stpubdata/tess/public/tid/s0014/0000/0001/2250/7978/tess2019198215352-s0014-0000000122507978-0150-s_lc.fits to ./mastDownload/TESS/tess2019198215352-s0014-0000000122507978-0150-s/tess2019198215352-s0014-0000000122507978-0150-s_lc.fits ... [Done]\n"
     ]
    }
   ],
   "source": [
    "obs_table = Observations.query_criteria(obs_collection=['TESS'],\n",
    "                                        objectname=\"TIC 122507978\",\n",
    "                                        radius=0)\n",
    "products = Observations.get_product_list(obs_table[0])\n",
    "products = Observations.filter_products(products,\n",
    "                                       dataproduct_type=\"timeseries\",\n",
    "                                       extension=\"fits\",\n",
    "                                       productType=\"SCIENCE\",\n",
    "                                       productSubGroupDescription=\"LC\")\n",
    "manifest = Observations.download_products(products[:10], cloud_only=True)"
   ]
  },
  {
   "cell_type": "code",
   "execution_count": 87,
   "metadata": {},
   "outputs": [],
   "source": [
    "joined_df[\"tess_timeseries\"] = joined_df[\"tess_light_curves\"]"
   ]
  },
  {
   "cell_type": "code",
   "execution_count": 91,
   "metadata": {},
   "outputs": [],
   "source": [
    "joined_df.loc[joined_df[\"tess_timeseries\"] > 0, \"tess_light_curves\"] = joined_df[joined_df[\"tess_timeseries\"] > 0][\"tic\"].apply(number_of_light_curves)"
   ]
  },
  {
   "cell_type": "code",
   "execution_count": 92,
   "metadata": {},
   "outputs": [
    {
     "data": {
      "text/plain": [
       "<matplotlib.axes._subplots.AxesSubplot at 0x7f5370efffa0>"
      ]
     },
     "execution_count": 92,
     "metadata": {},
     "output_type": "execute_result"
    },
    {
     "data": {
      "image/png": "[encoded data removed]",
      "text/plain": [
       "<Figure size 432x288 with 1 Axes>"
      ]
     },
     "metadata": {
      "needs_background": "light"
     },
     "output_type": "display_data"
    }
   ],
   "source": [
    "joined_df[joined_df[\"tess_timeseries\"] > 0][\"tess_light_curves\"].hist()"
   ]
  },
  {
   "cell_type": "code",
   "execution_count": 21,
   "metadata": {},
   "outputs": [],
   "source": [
    "Observations.disable_cloud_dataset()"
   ]
  },
  {
   "cell_type": "code",
   "execution_count": null,
   "metadata": {},
   "outputs": [],
   "source": []
  }
 ],
 "metadata": {
  "kernelspec": {
   "display_name": "Python 3",
   "language": "python",
   "name": "python3"
  },
  "language_info": {
   "codemirror_mode": {
    "name": "ipython",
    "version": 3
   },
   "file_extension": ".py",
   "mimetype": "text/x-python",
   "name": "python",
   "nbconvert_exporter": "python",
   "pygments_lexer": "ipython3",
   "version": "3.8.5"
  }
 },
 "nbformat": 4,
 "nbformat_minor": 4
}
