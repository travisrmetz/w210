{
 "cells": [
  {
   "cell_type": "code",
   "execution_count": 1,
   "metadata": {},
   "outputs": [
    {
     "name": "stdout",
     "output_type": "stream",
     "text": [
      "Collecting astroquery\n",
      "  Downloading astroquery-0.4.1.tar.gz (6.5 MB)\n",
      "\u001b[K     |████████████████████████████████| 6.5 MB 21.0 MB/s eta 0:00:01     |██████████▎                     | 2.1 MB 21.0 MB/s eta 0:00:01     |█████████████████████████▋      | 5.2 MB 21.0 MB/s eta 0:00:01\n",
      "\u001b[?25hRequirement already satisfied: numpy in /home/ubuntu/anaconda3/lib/python3.8/site-packages (from astroquery) (1.18.5)\n",
      "Requirement already satisfied: astropy>=3.1 in /home/ubuntu/anaconda3/lib/python3.8/site-packages (from astroquery) (4.0.1.post1)\n",
      "Requirement already satisfied: requests>=2.4.3 in /home/ubuntu/anaconda3/lib/python3.8/site-packages (from astroquery) (2.24.0)\n",
      "Requirement already satisfied: keyring>=4.0 in /home/ubuntu/anaconda3/lib/python3.8/site-packages (from astroquery) (21.2.1)\n",
      "Requirement already satisfied: beautifulsoup4>=4.3.2 in /home/ubuntu/anaconda3/lib/python3.8/site-packages (from astroquery) (4.9.1)\n",
      "Requirement already satisfied: html5lib>=0.999 in /home/ubuntu/anaconda3/lib/python3.8/site-packages (from astroquery) (1.1)\n",
      "Requirement already satisfied: six in /home/ubuntu/anaconda3/lib/python3.8/site-packages (from astroquery) (1.15.0)\n",
      "Requirement already satisfied: chardet<4,>=3.0.2 in /home/ubuntu/anaconda3/lib/python3.8/site-packages (from requests>=2.4.3->astroquery) (3.0.4)\n",
      "Requirement already satisfied: urllib3!=1.25.0,!=1.25.1,<1.26,>=1.21.1 in /home/ubuntu/anaconda3/lib/python3.8/site-packages (from requests>=2.4.3->astroquery) (1.25.9)\n",
      "Requirement already satisfied: certifi>=2017.4.17 in /home/ubuntu/anaconda3/lib/python3.8/site-packages (from requests>=2.4.3->astroquery) (2020.6.20)\n",
      "Requirement already satisfied: idna<3,>=2.5 in /home/ubuntu/anaconda3/lib/python3.8/site-packages (from requests>=2.4.3->astroquery) (2.10)\n",
      "Requirement already satisfied: SecretStorage>=3; sys_platform == \"linux\" in /home/ubuntu/anaconda3/lib/python3.8/site-packages (from keyring>=4.0->astroquery) (3.1.2)\n",
      "Requirement already satisfied: jeepney>=0.4.2; sys_platform == \"linux\" in /home/ubuntu/anaconda3/lib/python3.8/site-packages (from keyring>=4.0->astroquery) (0.4.3)\n",
      "Requirement already satisfied: soupsieve>1.2 in /home/ubuntu/anaconda3/lib/python3.8/site-packages (from beautifulsoup4>=4.3.2->astroquery) (2.0.1)\n",
      "Requirement already satisfied: webencodings in /home/ubuntu/anaconda3/lib/python3.8/site-packages (from html5lib>=0.999->astroquery) (0.5.1)\n",
      "Requirement already satisfied: cryptography in /home/ubuntu/anaconda3/lib/python3.8/site-packages (from SecretStorage>=3; sys_platform == \"linux\"->keyring>=4.0->astroquery) (2.9.2)\n",
      "Requirement already satisfied: cffi!=1.11.3,>=1.8 in /home/ubuntu/anaconda3/lib/python3.8/site-packages (from cryptography->SecretStorage>=3; sys_platform == \"linux\"->keyring>=4.0->astroquery) (1.14.0)\n",
      "Requirement already satisfied: pycparser in /home/ubuntu/anaconda3/lib/python3.8/site-packages (from cffi!=1.11.3,>=1.8->cryptography->SecretStorage>=3; sys_platform == \"linux\"->keyring>=4.0->astroquery) (2.20)\n",
      "Building wheels for collected packages: astroquery\n",
      "  Building wheel for astroquery (setup.py) ... \u001b[?25ldone\n",
      "\u001b[?25h  Created wheel for astroquery: filename=astroquery-0.4.1-py3-none-any.whl size=3831872 sha256=401306e1a12e3db71272d909d717303b3d8278ce65edab2633dafee52ca7a97b\n",
      "  Stored in directory: /home/ubuntu/.cache/pip/wheels/38/a3/2c/65f38691eef2c25e74f1ab45186b67e09cea7b59696fd67696\n",
      "Successfully built astroquery\n",
      "Installing collected packages: astroquery\n",
      "Successfully installed astroquery-0.4.1\n",
      "Collecting boto3\n",
      "  Downloading boto3-1.15.18-py2.py3-none-any.whl (129 kB)\n",
      "\u001b[K     |████████████████████████████████| 129 kB 19.5 MB/s eta 0:00:01\n",
      "\u001b[?25hCollecting jmespath<1.0.0,>=0.7.1\n",
      "  Downloading jmespath-0.10.0-py2.py3-none-any.whl (24 kB)\n",
      "Collecting s3transfer<0.4.0,>=0.3.0\n",
      "  Downloading s3transfer-0.3.3-py2.py3-none-any.whl (69 kB)\n",
      "\u001b[K     |████████████████████████████████| 69 kB 8.6 MB/s  eta 0:00:01\n",
      "\u001b[?25hCollecting botocore<1.19.0,>=1.18.18\n",
      "  Downloading botocore-1.18.18-py2.py3-none-any.whl (6.7 MB)\n",
      "\u001b[K     |████████████████████████████████| 6.7 MB 34.0 MB/s eta 0:00:01     |██████████████▊                 | 3.1 MB 34.0 MB/s eta 0:00:01\n",
      "\u001b[?25hRequirement already satisfied: urllib3<1.26,>=1.20; python_version != \"3.4\" in /home/ubuntu/anaconda3/lib/python3.8/site-packages (from botocore<1.19.0,>=1.18.18->boto3) (1.25.9)\n",
      "Requirement already satisfied: python-dateutil<3.0.0,>=2.1 in /home/ubuntu/anaconda3/lib/python3.8/site-packages (from botocore<1.19.0,>=1.18.18->boto3) (2.8.1)\n",
      "Requirement already satisfied: six>=1.5 in /home/ubuntu/anaconda3/lib/python3.8/site-packages (from python-dateutil<3.0.0,>=2.1->botocore<1.19.0,>=1.18.18->boto3) (1.15.0)\n",
      "Installing collected packages: jmespath, botocore, s3transfer, boto3\n",
      "Successfully installed boto3-1.15.18 botocore-1.18.18 jmespath-0.10.0 s3transfer-0.3.3\n"
     ]
    }
   ],
   "source": [
    "# Install a pip package in the current Jupyter kernel\n",
    "import sys\n",
    "# !{sys.executable} -m pip install astroquery\n",
    "# !{sys.executable} -m pip install boto3"
   ]
  },
  {
   "cell_type": "code",
   "execution_count": 2,
   "metadata": {},
   "outputs": [],
   "source": [
    "import os\n",
    "from astroquery.mast import Observations\n",
    "from credentials import AWS_ACCESS_KEY_ID, AWS_SECRET_ACCESS_KEY"
   ]
  },
  {
   "cell_type": "code",
   "execution_count": 3,
   "metadata": {},
   "outputs": [],
   "source": [
    "# If credential environment are not already set, we can set them within python.\n",
    "os.environ['AWS_ACCESS_KEY_ID'] = AWS_ACCESS_KEY_ID\n",
    "os.environ['AWS_SECRET_ACCESS_KEY'] = AWS_SECRET_ACCESS_KEY"
   ]
  },
  {
   "cell_type": "code",
   "execution_count": 4,
   "metadata": {},
   "outputs": [
    {
     "name": "stdout",
     "output_type": "stream",
     "text": [
      "INFO: Using the S3 STScI public dataset [astroquery.mast.cloud]\n",
      "INFO: See Request Pricing in https://aws.amazon.com/s3/pricing/ for details [astroquery.mast.cloud]\n",
      "INFO: If you have not configured boto3, follow the instructions here: https://boto3.readthedocs.io/en/latest/guide/configuration.html [astroquery.mast.cloud]\n"
     ]
    },
    {
     "name": "stderr",
     "output_type": "stream",
     "text": [
      "WARNING: Your AWS account will be charged for access to the S3 bucket [astroquery.mast.cloud]\n"
     ]
    }
   ],
   "source": [
    "# If your profile is not called [default], update the next line:\n",
    "# Observations.enable_cloud_dataset(provider='AWS', profile='Dean')\n",
    "Observations.enable_cloud_dataset(provider='AWS')"
   ]
  },
  {
   "cell_type": "code",
   "execution_count": 8,
   "metadata": {},
   "outputs": [
    {
     "name": "stderr",
     "output_type": "stream",
     "text": [
      "WARNING: NoResultsWarning: Unable to locate file hst_12062_eo_acs_wfc_f606w_drz.fits. [astroquery.mast.cloud]\n",
      "WARNING: NoResultsWarning: Unable to locate file hst_12062_eo_acs_wfc_f606w_01_drz.fits. [astroquery.mast.cloud]\n",
      "WARNING: NoResultsWarning: Unable to locate file hst_12062_eo_acs_wfc_f606w_02_drz.fits. [astroquery.mast.cloud]\n",
      "WARNING: NoResultsWarning: Unable to locate file hst_12062_eo_acs_wfc_f606w_03_drz.fits. [astroquery.mast.cloud]\n",
      "WARNING: NoResultsWarning: Unable to locate file hst_12062_eo_acs_wfc_f606w_04_drz.fits. [astroquery.mast.cloud]\n",
      "WARNING: NoResultsWarning: Unable to locate file hst_12062_eo_acs_wfc_f606w_05_drz.fits. [astroquery.mast.cloud]\n",
      "WARNING: NoResultsWarning: Unable to locate file hst_12062_et_acs_wfc_f606w_drz.fits. [astroquery.mast.cloud]\n",
      "WARNING: NoResultsWarning: Unable to locate file hst_12062_et_acs_wfc_f606w_01_drz.fits. [astroquery.mast.cloud]\n",
      "WARNING: NoResultsWarning: Unable to locate file hst_12062_et_acs_wfc_f606w_02_drz.fits. [astroquery.mast.cloud]\n",
      "WARNING: NoResultsWarning: Unable to locate file hst_12062_et_acs_wfc_f606w_03_drz.fits. [astroquery.mast.cloud]\n",
      "WARNING: NoResultsWarning: Unable to locate file hst_12062_et_acs_wfc_f606w_04_drz.fits. [astroquery.mast.cloud]\n",
      "WARNING: NoResultsWarning: Unable to locate file hst_12062_et_acs_wfc_f606w_05_drz.fits. [astroquery.mast.cloud]\n"
     ]
    },
    {
     "name": "stdout",
     "output_type": "stream",
     "text": [
      "[None, None, None, None, None, None, None, None, None, None, None, None, 's3://stpubdata/hst/public/jbev/jbeveo010/jbeveo010_drz.fits', 's3://stpubdata/hst/public/jbev/jbevet010/jbevet010_drz.fits']\n"
     ]
    }
   ],
   "source": [
    "# Getting the cloud URIs\n",
    "obs_table = Observations.query_criteria(obs_collection='HST',\n",
    "                                        filters='F606W',\n",
    "                                        instrument_name='ACS/WFC',\n",
    "                                        proposal_id=['12062'],\n",
    "                                        dataRights='PUBLIC')\n",
    "products = Observations.get_product_list(obs_table)\n",
    "filtered = Observations.filter_products(products,\n",
    "                                        productSubGroupDescription='DRZ')\n",
    "s3_uris = Observations.get_cloud_uris(filtered)\n",
    "print(s3_uris)"
   ]
  },
  {
   "cell_type": "code",
   "execution_count": 45,
   "metadata": {},
   "outputs": [
    {
     "name": "stdout",
     "output_type": "stream",
     "text": [
      "Downloading URL s3://stpubdata/kepler/public/lightcurves/0031/003120320/kplr003120320-2009131105131_llc.fits to ./mastDownload/Kepler/kplr003120320_lc_Q111111111111111111/kplr003120320-2009131105131_llc.fits ... [Done]\n",
      "Downloading URL s3://stpubdata/kepler/public/lightcurves/0031/003120320/kplr003120320-2009166043257_llc.fits to ./mastDownload/Kepler/kplr003120320_lc_Q111111111111111111/kplr003120320-2009166043257_llc.fits ... [Done]\n",
      "Downloading URL s3://stpubdata/kepler/public/lightcurves/0031/003120320/kplr003120320-2009259160929_llc.fits to ./mastDownload/Kepler/kplr003120320_lc_Q111111111111111111/kplr003120320-2009259160929_llc.fits ... [Done]\n",
      "Downloading URL s3://stpubdata/kepler/public/lightcurves/0031/003120320/kplr003120320-2009350155506_llc.fits to ./mastDownload/Kepler/kplr003120320_lc_Q111111111111111111/kplr003120320-2009350155506_llc.fits ... [Done]\n",
      "Downloading URL s3://stpubdata/kepler/public/lightcurves/0031/003120320/kplr003120320-2010078095331_llc.fits to ./mastDownload/Kepler/kplr003120320_lc_Q111111111111111111/kplr003120320-2010078095331_llc.fits ... [Done]\n",
      "Downloading URL s3://stpubdata/kepler/public/lightcurves/0031/003120320/kplr003120320-2010174085026_llc.fits to ./mastDownload/Kepler/kplr003120320_lc_Q111111111111111111/kplr003120320-2010174085026_llc.fits ... [Done]\n",
      "Downloading URL s3://stpubdata/kepler/public/lightcurves/0031/003120320/kplr003120320-2010265121752_llc.fits to ./mastDownload/Kepler/kplr003120320_lc_Q111111111111111111/kplr003120320-2010265121752_llc.fits ... [Done]\n",
      "Downloading URL s3://stpubdata/kepler/public/lightcurves/0031/003120320/kplr003120320-2010355172524_llc.fits to ./mastDownload/Kepler/kplr003120320_lc_Q111111111111111111/kplr003120320-2010355172524_llc.fits ... [Done]\n",
      "Downloading URL s3://stpubdata/kepler/public/lightcurves/0031/003120320/kplr003120320-2011073133259_llc.fits to ./mastDownload/Kepler/kplr003120320_lc_Q111111111111111111/kplr003120320-2011073133259_llc.fits ... [Done]\n",
      "Downloading URL s3://stpubdata/kepler/public/lightcurves/0031/003120320/kplr003120320-2011177032512_llc.fits to ./mastDownload/Kepler/kplr003120320_lc_Q111111111111111111/kplr003120320-2011177032512_llc.fits ... [Done]\n",
      "Downloading URL s3://stpubdata/kepler/public/lightcurves/0031/003120320/kplr003120320-2011271113734_llc.fits to ./mastDownload/Kepler/kplr003120320_lc_Q111111111111111111/kplr003120320-2011271113734_llc.fits ... [Done]\n",
      "Downloading URL s3://stpubdata/kepler/public/lightcurves/0031/003120320/kplr003120320-2012004120508_llc.fits to ./mastDownload/Kepler/kplr003120320_lc_Q111111111111111111/kplr003120320-2012004120508_llc.fits ... [Done]\n",
      "Downloading URL s3://stpubdata/kepler/public/lightcurves/0031/003120320/kplr003120320-2012088054726_llc.fits to ./mastDownload/Kepler/kplr003120320_lc_Q111111111111111111/kplr003120320-2012088054726_llc.fits ... [Done]\n",
      "Downloading URL s3://stpubdata/kepler/public/lightcurves/0031/003120320/kplr003120320-2012179063303_llc.fits to ./mastDownload/Kepler/kplr003120320_lc_Q111111111111111111/kplr003120320-2012179063303_llc.fits ... [Done]\n",
      "Downloading URL s3://stpubdata/kepler/public/lightcurves/0031/003120320/kplr003120320-2012277125453_llc.fits to ./mastDownload/Kepler/kplr003120320_lc_Q111111111111111111/kplr003120320-2012277125453_llc.fits ... [Done]\n",
      "Downloading URL s3://stpubdata/kepler/public/lightcurves/0031/003120320/kplr003120320-2013011073258_llc.fits to ./mastDownload/Kepler/kplr003120320_lc_Q111111111111111111/kplr003120320-2013011073258_llc.fits ... [Done]\n",
      "Downloading URL s3://stpubdata/kepler/public/lightcurves/0031/003120320/kplr003120320-2013098041711_llc.fits to ./mastDownload/Kepler/kplr003120320_lc_Q111111111111111111/kplr003120320-2013098041711_llc.fits ... [Done]\n",
      "Downloading URL s3://stpubdata/kepler/public/lightcurves/0031/003120320/kplr003120320-2013131215648_llc.fits to ./mastDownload/Kepler/kplr003120320_lc_Q111111111111111111/kplr003120320-2013131215648_llc.fits ... [Done]\n"
     ]
    }
   ],
   "source": [
    "# Downloading from the cloud\n",
    "obs_table = Observations.query_criteria(obs_collection=['Kepler'],\n",
    "                                        objectname=\"KIC 3120320\", \n",
    "                                        dataproduct_type=\"timeseries\",\n",
    "                                        radius=0)\n",
    "products = Observations.get_product_list(obs_table[0])\n",
    "products = Observations.filter_products(products,\n",
    "                                       extension=\"fits\",\n",
    "                                       productType=\"SCIENCE\")\n",
    "# manifest = Observations.download_products(products[:10], cloud_only=True)\n",
    "manifest = Observations.download_products(products, cloud_only=True)"
   ]
  },
  {
   "cell_type": "code",
   "execution_count": 46,
   "metadata": {},
   "outputs": [
    {
     "data": {
      "text/html": [
       "<i>Table masked=True length=18</i>\n",
       "<table id=\"table139996487799184\" class=\"table-striped table-bordered table-condensed\">\n",
       "<thead><tr><th>obsID</th><th>obs_collection</th><th>dataproduct_type</th><th>obs_id</th><th>description</th><th>type</th><th>dataURI</th><th>productType</th><th>productGroupDescription</th><th>productSubGroupDescription</th><th>productDocumentationURL</th><th>project</th><th>prvversion</th><th>proposal_id</th><th>productFilename</th><th>size</th><th>parent_obsid</th></tr></thead>\n",
       "<thead><tr><th>str10</th><th>str6</th><th>str10</th><th>str36</th><th>str59</th><th>str1</th><th>str110</th><th>str9</th><th>str28</th><th>str8</th><th>str1</th><th>str6</th><th>str1</th><th>str2</th><th>str44</th><th>int64</th><th>str10</th></tr></thead>\n",
       "<tr><td>9000122074</td><td>Kepler</td><td>timeseries</td><td>kplr003120320_lc_Q111111111111111111</td><td>Lightcurve Long Cadence (CLC) - Q0</td><td>C</td><td>mast:Kepler/url/missions/kepler/lightcurves/0031/003120320/kplr003120320-2009131105131_llc.fits</td><td>SCIENCE</td><td>Minimum Recommended Products</td><td>LLC</td><td>--</td><td>Kepler</td><td>--</td><td>EX</td><td>kplr003120320-2009131105131_llc.fits</td><td>77760</td><td>9000122074</td></tr>\n",
       "<tr><td>9000122074</td><td>Kepler</td><td>timeseries</td><td>kplr003120320_lc_Q111111111111111111</td><td>Lightcurve Long Cadence (CLC) - Q1</td><td>C</td><td>mast:Kepler/url/missions/kepler/lightcurves/0031/003120320/kplr003120320-2009166043257_llc.fits</td><td>SCIENCE</td><td>Minimum Recommended Products</td><td>LLC</td><td>--</td><td>Kepler</td><td>--</td><td>EX</td><td>kplr003120320-2009166043257_llc.fits</td><td>192960</td><td>9000122074</td></tr>\n",
       "<tr><td>9000122074</td><td>Kepler</td><td>timeseries</td><td>kplr003120320_lc_Q111111111111111111</td><td>Lightcurve Long Cadence (CLC) - Q2</td><td>C</td><td>mast:Kepler/url/missions/kepler/lightcurves/0031/003120320/kplr003120320-2009259160929_llc.fits</td><td>SCIENCE</td><td>Minimum Recommended Products</td><td>LLC</td><td>--</td><td>Kepler</td><td>--</td><td>EX</td><td>kplr003120320-2009259160929_llc.fits</td><td>466560</td><td>9000122074</td></tr>\n",
       "<tr><td>9000122074</td><td>Kepler</td><td>timeseries</td><td>kplr003120320_lc_Q111111111111111111</td><td>Lightcurve Long Cadence (CLC) - Q3</td><td>C</td><td>mast:Kepler/url/missions/kepler/lightcurves/0031/003120320/kplr003120320-2009350155506_llc.fits</td><td>SCIENCE</td><td>Minimum Recommended Products</td><td>LLC</td><td>--</td><td>Kepler</td><td>--</td><td>EX</td><td>kplr003120320-2009350155506_llc.fits</td><td>466560</td><td>9000122074</td></tr>\n",
       "<tr><td>9000122074</td><td>Kepler</td><td>timeseries</td><td>kplr003120320_lc_Q111111111111111111</td><td>Lightcurve Long Cadence (CLC) - Q4</td><td>C</td><td>mast:Kepler/url/missions/kepler/lightcurves/0031/003120320/kplr003120320-2010078095331_llc.fits</td><td>SCIENCE</td><td>Minimum Recommended Products</td><td>LLC</td><td>--</td><td>Kepler</td><td>--</td><td>EX</td><td>kplr003120320-2010078095331_llc.fits</td><td>469440</td><td>9000122074</td></tr>\n",
       "<tr><td>9000122074</td><td>Kepler</td><td>timeseries</td><td>kplr003120320_lc_Q111111111111111111</td><td>Lightcurve Long Cadence (CLC) - Q5</td><td>C</td><td>mast:Kepler/url/missions/kepler/lightcurves/0031/003120320/kplr003120320-2010174085026_llc.fits</td><td>SCIENCE</td><td>Minimum Recommended Products</td><td>LLC</td><td>--</td><td>Kepler</td><td>--</td><td>EX</td><td>kplr003120320-2010174085026_llc.fits</td><td>492480</td><td>9000122074</td></tr>\n",
       "<tr><td>9000122074</td><td>Kepler</td><td>timeseries</td><td>kplr003120320_lc_Q111111111111111111</td><td>Lightcurve Long Cadence (CLC) - Q6</td><td>C</td><td>mast:Kepler/url/missions/kepler/lightcurves/0031/003120320/kplr003120320-2010265121752_llc.fits</td><td>SCIENCE</td><td>Minimum Recommended Products</td><td>LLC</td><td>--</td><td>Kepler</td><td>--</td><td>EX</td><td>kplr003120320-2010265121752_llc.fits</td><td>469440</td><td>9000122074</td></tr>\n",
       "<tr><td>9000122074</td><td>Kepler</td><td>timeseries</td><td>kplr003120320_lc_Q111111111111111111</td><td>Lightcurve Long Cadence (CLC) - Q7</td><td>C</td><td>mast:Kepler/url/missions/kepler/lightcurves/0031/003120320/kplr003120320-2010355172524_llc.fits</td><td>SCIENCE</td><td>Minimum Recommended Products</td><td>LLC</td><td>--</td><td>Kepler</td><td>--</td><td>EX</td><td>kplr003120320-2010355172524_llc.fits</td><td>466560</td><td>9000122074</td></tr>\n",
       "<tr><td>9000122074</td><td>Kepler</td><td>timeseries</td><td>kplr003120320_lc_Q111111111111111111</td><td>Lightcurve Long Cadence (CLC) - Q8</td><td>C</td><td>mast:Kepler/url/missions/kepler/lightcurves/0031/003120320/kplr003120320-2011073133259_llc.fits</td><td>SCIENCE</td><td>Minimum Recommended Products</td><td>LLC</td><td>--</td><td>Kepler</td><td>--</td><td>EX</td><td>kplr003120320-2011073133259_llc.fits</td><td>357120</td><td>9000122074</td></tr>\n",
       "<tr><td>9000122074</td><td>Kepler</td><td>timeseries</td><td>kplr003120320_lc_Q111111111111111111</td><td>Lightcurve Long Cadence (CLC) - Q9</td><td>C</td><td>mast:Kepler/url/missions/kepler/lightcurves/0031/003120320/kplr003120320-2011177032512_llc.fits</td><td>SCIENCE</td><td>Minimum Recommended Products</td><td>LLC</td><td>--</td><td>Kepler</td><td>--</td><td>EX</td><td>kplr003120320-2011177032512_llc.fits</td><td>506880</td><td>9000122074</td></tr>\n",
       "<tr><td>9000122074</td><td>Kepler</td><td>timeseries</td><td>kplr003120320_lc_Q111111111111111111</td><td>Lightcurve Long Cadence (CLC) - Q10</td><td>C</td><td>mast:Kepler/url/missions/kepler/lightcurves/0031/003120320/kplr003120320-2011271113734_llc.fits</td><td>SCIENCE</td><td>Minimum Recommended Products</td><td>LLC</td><td>--</td><td>Kepler</td><td>--</td><td>EX</td><td>kplr003120320-2011271113734_llc.fits</td><td>486720</td><td>9000122074</td></tr>\n",
       "<tr><td>9000122074</td><td>Kepler</td><td>timeseries</td><td>kplr003120320_lc_Q111111111111111111</td><td>Lightcurve Long Cadence (CLC) - Q11</td><td>C</td><td>mast:Kepler/url/missions/kepler/lightcurves/0031/003120320/kplr003120320-2012004120508_llc.fits</td><td>SCIENCE</td><td>Minimum Recommended Products</td><td>LLC</td><td>--</td><td>Kepler</td><td>--</td><td>EX</td><td>kplr003120320-2012004120508_llc.fits</td><td>506880</td><td>9000122074</td></tr>\n",
       "<tr><td>9000122074</td><td>Kepler</td><td>timeseries</td><td>kplr003120320_lc_Q111111111111111111</td><td>Lightcurve Long Cadence (CLC) - Q12</td><td>C</td><td>mast:Kepler/url/missions/kepler/lightcurves/0031/003120320/kplr003120320-2012088054726_llc.fits</td><td>SCIENCE</td><td>Minimum Recommended Products</td><td>LLC</td><td>--</td><td>Kepler</td><td>--</td><td>EX</td><td>kplr003120320-2012088054726_llc.fits</td><td>434880</td><td>9000122074</td></tr>\n",
       "<tr><td>9000122074</td><td>Kepler</td><td>timeseries</td><td>kplr003120320_lc_Q111111111111111111</td><td>Lightcurve Long Cadence (CLC) - Q13</td><td>C</td><td>mast:Kepler/url/missions/kepler/lightcurves/0031/003120320/kplr003120320-2012179063303_llc.fits</td><td>SCIENCE</td><td>Minimum Recommended Products</td><td>LLC</td><td>--</td><td>Kepler</td><td>--</td><td>EX</td><td>kplr003120320-2012179063303_llc.fits</td><td>472320</td><td>9000122074</td></tr>\n",
       "<tr><td>9000122074</td><td>Kepler</td><td>timeseries</td><td>kplr003120320_lc_Q111111111111111111</td><td>Lightcurve Long Cadence (CLC) - Q14</td><td>C</td><td>mast:Kepler/url/missions/kepler/lightcurves/0031/003120320/kplr003120320-2012277125453_llc.fits</td><td>SCIENCE</td><td>Minimum Recommended Products</td><td>LLC</td><td>--</td><td>Kepler</td><td>--</td><td>EX</td><td>kplr003120320-2012277125453_llc.fits</td><td>506880</td><td>9000122074</td></tr>\n",
       "<tr><td>9000122074</td><td>Kepler</td><td>timeseries</td><td>kplr003120320_lc_Q111111111111111111</td><td>Lightcurve Long Cadence (CLC) - Q15</td><td>C</td><td>mast:Kepler/url/missions/kepler/lightcurves/0031/003120320/kplr003120320-2013011073258_llc.fits</td><td>SCIENCE</td><td>Minimum Recommended Products</td><td>LLC</td><td>--</td><td>Kepler</td><td>--</td><td>EX</td><td>kplr003120320-2013011073258_llc.fits</td><td>506880</td><td>9000122074</td></tr>\n",
       "<tr><td>9000122074</td><td>Kepler</td><td>timeseries</td><td>kplr003120320_lc_Q111111111111111111</td><td>Lightcurve Long Cadence (CLC) - Q16</td><td>C</td><td>mast:Kepler/url/missions/kepler/lightcurves/0031/003120320/kplr003120320-2013098041711_llc.fits</td><td>SCIENCE</td><td>Minimum Recommended Products</td><td>LLC</td><td>--</td><td>Kepler</td><td>--</td><td>EX</td><td>kplr003120320-2013098041711_llc.fits</td><td>449280</td><td>9000122074</td></tr>\n",
       "<tr><td>9000122074</td><td>Kepler</td><td>timeseries</td><td>kplr003120320_lc_Q111111111111111111</td><td>Lightcurve Long Cadence (CLC) - Q17</td><td>C</td><td>mast:Kepler/url/missions/kepler/lightcurves/0031/003120320/kplr003120320-2013131215648_llc.fits</td><td>SCIENCE</td><td>Minimum Recommended Products</td><td>LLC</td><td>--</td><td>Kepler</td><td>--</td><td>EX</td><td>kplr003120320-2013131215648_llc.fits</td><td>187200</td><td>9000122074</td></tr>\n",
       "</table>"
      ],
      "text/plain": [
       "<Table masked=True length=18>\n",
       "  obsID    obs_collection dataproduct_type ...  size  parent_obsid\n",
       "  str10         str6           str10       ... int64     str10    \n",
       "---------- -------------- ---------------- ... ------ ------------\n",
       "9000122074         Kepler       timeseries ...  77760   9000122074\n",
       "9000122074         Kepler       timeseries ... 192960   9000122074\n",
       "9000122074         Kepler       timeseries ... 466560   9000122074\n",
       "9000122074         Kepler       timeseries ... 466560   9000122074\n",
       "9000122074         Kepler       timeseries ... 469440   9000122074\n",
       "9000122074         Kepler       timeseries ... 492480   9000122074\n",
       "9000122074         Kepler       timeseries ... 469440   9000122074\n",
       "9000122074         Kepler       timeseries ... 466560   9000122074\n",
       "9000122074         Kepler       timeseries ... 357120   9000122074\n",
       "9000122074         Kepler       timeseries ... 506880   9000122074\n",
       "9000122074         Kepler       timeseries ... 486720   9000122074\n",
       "9000122074         Kepler       timeseries ... 506880   9000122074\n",
       "9000122074         Kepler       timeseries ... 434880   9000122074\n",
       "9000122074         Kepler       timeseries ... 472320   9000122074\n",
       "9000122074         Kepler       timeseries ... 506880   9000122074\n",
       "9000122074         Kepler       timeseries ... 506880   9000122074\n",
       "9000122074         Kepler       timeseries ... 449280   9000122074\n",
       "9000122074         Kepler       timeseries ... 187200   9000122074"
      ]
     },
     "execution_count": 46,
     "metadata": {},
     "output_type": "execute_result"
    }
   ],
   "source": [
    "products"
   ]
  },
  {
   "cell_type": "code",
   "execution_count": 47,
   "metadata": {},
   "outputs": [
    {
     "name": "stdout",
     "output_type": "stream",
     "text": [
      " Status \n",
      "--------\n",
      "COMPLETE\n",
      "COMPLETE\n",
      "COMPLETE\n",
      "COMPLETE\n",
      "COMPLETE\n",
      "COMPLETE\n",
      "COMPLETE\n",
      "COMPLETE\n",
      "COMPLETE\n",
      "COMPLETE\n",
      "COMPLETE\n",
      "COMPLETE\n",
      "COMPLETE\n",
      "COMPLETE\n",
      "COMPLETE\n",
      "COMPLETE\n",
      "COMPLETE\n",
      "COMPLETE\n"
     ]
    }
   ],
   "source": [
    "print(manifest[\"Status\"])"
   ]
  },
  {
   "cell_type": "code",
   "execution_count": 48,
   "metadata": {},
   "outputs": [
    {
     "name": "stdout",
     "output_type": "stream",
     "text": [
      "Downloading URL s3://stpubdata/tess/public/tid/s0014/0000/0001/3754/9183/tess2019199201929-s0014-s0014-0000000137549183-00240_dvt.fits to ./mastDownload/TESS/tess2019198215352-s0014-0000000137549183-0150-s/tess2019199201929-s0014-s0014-0000000137549183-00240_dvt.fits ... [Done]\n",
      "Downloading URL s3://stpubdata/tess/public/tid/s0014/0000/0001/3754/9183/tess2019199201929-s0014-s0014-0000000137549183-00290_dvt.fits to ./mastDownload/TESS/tess2019198215352-s0014-0000000137549183-0150-s/tess2019199201929-s0014-s0014-0000000137549183-00290_dvt.fits ... [Done]\n",
      "Downloading URL s3://stpubdata/tess/public/tid/s0014/0000/0001/3754/9183/tess2019198215352-s0014-0000000137549183-0150-s_lc.fits to ./mastDownload/TESS/tess2019198215352-s0014-0000000137549183-0150-s/tess2019198215352-s0014-0000000137549183-0150-s_lc.fits ... [Done]\n",
      "Downloading URL s3://stpubdata/tess/public/tid/s0014/0000/0001/3754/9183/tess2019198215352-s0014-0000000137549183-0150-s_tp.fits to ./mastDownload/TESS/tess2019198215352-s0014-0000000137549183-0150-s/tess2019198215352-s0014-0000000137549183-0150-s_tp.fits ... [Done]\n"
     ]
    }
   ],
   "source": [
    "# Downloading from the cloud\n",
    "obs_table = Observations.query_criteria(obs_collection=['TESS'],\n",
    "                                        objectname=\"TIC 137549183\",\n",
    "                                        radius=0)\n",
    "products = Observations.get_product_list(obs_table[0])\n",
    "products = Observations.filter_products(products,\n",
    "                                       dataproduct_type=\"timeseries\",\n",
    "                                       extension=\"fits\",\n",
    "                                       productType=\"SCIENCE\")\n",
    "manifest = Observations.download_products(products[:10], cloud_only=True)"
   ]
  },
  {
   "cell_type": "code",
   "execution_count": 44,
   "metadata": {},
   "outputs": [
    {
     "data": {
      "text/html": [
       "<i>Table masked=True length=4</i>\n",
       "<table id=\"table139996487782800\" class=\"table-striped table-bordered table-condensed\">\n",
       "<thead><tr><th>obsID</th><th>obs_collection</th><th>dataproduct_type</th><th>obs_id</th><th>description</th><th>type</th><th>dataURI</th><th>productType</th><th>productGroupDescription</th><th>productSubGroupDescription</th><th>productDocumentationURL</th><th>project</th><th>prvversion</th><th>proposal_id</th><th>productFilename</th><th>size</th><th>parent_obsid</th></tr></thead>\n",
       "<thead><tr><th>str11</th><th>str4</th><th>str10</th><th>str47</th><th>str33</th><th>str1</th><th>str81</th><th>str9</th><th>str28</th><th>str3</th><th>str1</th><th>str4</th><th>str20</th><th>str15</th><th>str63</th><th>int64</th><th>str11</th></tr></thead>\n",
       "<tr><td>17000950358</td><td>TESS</td><td>timeseries</td><td>tess2019198215352-s0014-0000000137549183-0150-s</td><td>Data validation time series</td><td>S</td><td>mast:TESS/product/tess2019199201929-s0014-s0014-0000000137549183-00240_dvt.fits</td><td>SCIENCE</td><td>Minimum Recommended Products</td><td>DVT</td><td>--</td><td>SPOC</td><td>f997d78fe0</td><td>G022062_G022204</td><td>tess2019199201929-s0014-s0014-0000000137549183-00240_dvt.fits</td><td>3899520</td><td>17000950358</td></tr>\n",
       "<tr><td>17000950358</td><td>TESS</td><td>timeseries</td><td>tess2019198215352-s0014-0000000137549183-0150-s</td><td>Data validation time series</td><td>S</td><td>mast:TESS/product/tess2019199201929-s0014-s0014-0000000137549183-00290_dvt.fits</td><td>SCIENCE</td><td>Minimum Recommended Products</td><td>DVT</td><td>--</td><td>SPOC</td><td>f997d78fe0</td><td>G022062_G022204</td><td>tess2019199201929-s0014-s0014-0000000137549183-00290_dvt.fits</td><td>4760640</td><td>17000950358</td></tr>\n",
       "<tr><td>17000950358</td><td>TESS</td><td>timeseries</td><td>tess2019198215352-s0014-0000000137549183-0150-s</td><td>Light curves</td><td>S</td><td>mast:TESS/product/tess2019198215352-s0014-0000000137549183-0150-s_lc.fits</td><td>SCIENCE</td><td>Minimum Recommended Products</td><td>LC</td><td>--</td><td>SPOC</td><td>f997d78fe0</td><td>G022062_G022204</td><td>tess2019198215352-s0014-0000000137549183-0150-s_lc.fits</td><td>1964160</td><td>17000950358</td></tr>\n",
       "<tr><td>17000950358</td><td>TESS</td><td>timeseries</td><td>tess2019198215352-s0014-0000000137549183-0150-s</td><td>Target pixel files</td><td>S</td><td>mast:TESS/product/tess2019198215352-s0014-0000000137549183-0150-s_tp.fits</td><td>SCIENCE</td><td>Minimum Recommended Products</td><td>TP</td><td>--</td><td>SPOC</td><td>spoc-4.0.28-20200407</td><td>G022062_G022204</td><td>tess2019198215352-s0014-0000000137549183-0150-s_tp.fits</td><td>47376000</td><td>17000950358</td></tr>\n",
       "</table>"
      ],
      "text/plain": [
       "<Table masked=True length=4>\n",
       "   obsID    obs_collection dataproduct_type ...   size   parent_obsid\n",
       "   str11         str4           str10       ...  int64      str11    \n",
       "----------- -------------- ---------------- ... -------- ------------\n",
       "17000950358           TESS       timeseries ...  3899520  17000950358\n",
       "17000950358           TESS       timeseries ...  4760640  17000950358\n",
       "17000950358           TESS       timeseries ...  1964160  17000950358\n",
       "17000950358           TESS       timeseries ... 47376000  17000950358"
      ]
     },
     "execution_count": 44,
     "metadata": {},
     "output_type": "execute_result"
    }
   ],
   "source": [
    "products"
   ]
  },
  {
   "cell_type": "code",
   "execution_count": 30,
   "metadata": {},
   "outputs": [
    {
     "name": "stdout",
     "output_type": "stream",
     "text": [
      " Status \n",
      "--------\n",
      "COMPLETE\n",
      "COMPLETE\n",
      "COMPLETE\n",
      "COMPLETE\n",
      "COMPLETE\n",
      "COMPLETE\n",
      "COMPLETE\n",
      "COMPLETE\n",
      "COMPLETE\n",
      "COMPLETE\n"
     ]
    }
   ],
   "source": [
    "print(manifest[\"Status\"])"
   ]
  },
  {
   "cell_type": "code",
   "execution_count": 21,
   "metadata": {},
   "outputs": [],
   "source": [
    "Observations.disable_cloud_dataset()"
   ]
  },
  {
   "cell_type": "code",
   "execution_count": null,
   "metadata": {},
   "outputs": [],
   "source": []
  }
 ],
 "metadata": {
  "kernelspec": {
   "display_name": "Python 3",
   "language": "python",
   "name": "python3"
  },
  "language_info": {
   "codemirror_mode": {
    "name": "ipython",
    "version": 3
   },
   "file_extension": ".py",
   "mimetype": "text/x-python",
   "name": "python",
   "nbconvert_exporter": "python",
   "pygments_lexer": "ipython3",
   "version": "3.8.3"
  }
 },
 "nbformat": 4,
 "nbformat_minor": 4
}
