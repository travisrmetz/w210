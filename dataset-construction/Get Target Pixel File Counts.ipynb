{
 "cells": [
  {
   "cell_type": "code",
   "execution_count": 1,
   "metadata": {},
   "outputs": [],
   "source": [
    "import os\n",
    "import pandas as pd\n",
    "from astroquery.mast import Observations"
   ]
  },
  {
   "cell_type": "code",
   "execution_count": 2,
   "metadata": {},
   "outputs": [],
   "source": [
    "def number_of_target_pixel_files(tic):\n",
    "    # supply TIC\n",
    "    # restrict the mission to TESS\n",
    "    try:\n",
    "        objectname = \"TIC \" + str(tic)\n",
    "        obs_table = Observations.query_criteria(obs_collection=['TESS'],\n",
    "                                            objectname=objectname,\n",
    "                                            radius=0)\n",
    "\n",
    "        if len(obs_table) > 0:\n",
    "            products = Observations.get_product_list(obs_table[0])\n",
    "            products = Observations.filter_products(products,\n",
    "                                                   dataproduct_type=\"timeseries\",\n",
    "                                                   extension=\"fits\",\n",
    "                                                   productType=\"SCIENCE\",\n",
    "                                                   productSubGroupDescription=\"TP\")\n",
    "        else:\n",
    "            return 0\n",
    "    except Exception as e:\n",
    "        return -1\n",
    "    \n",
    "    return len(products)"
   ]
  },
  {
   "cell_type": "code",
   "execution_count": 3,
   "metadata": {},
   "outputs": [
    {
     "data": {
      "text/html": [
       "<div>\n",
       "<style scoped>\n",
       "    .dataframe tbody tr th:only-of-type {\n",
       "        vertical-align: middle;\n",
       "    }\n",
       "\n",
       "    .dataframe tbody tr th {\n",
       "        vertical-align: top;\n",
       "    }\n",
       "\n",
       "    .dataframe thead th {\n",
       "        text-align: right;\n",
       "    }\n",
       "</style>\n",
       "<table border=\"1\" class=\"dataframe\">\n",
       "  <thead>\n",
       "    <tr style=\"text-align: right;\">\n",
       "      <th></th>\n",
       "      <th>kic</th>\n",
       "      <th>TCE_ID</th>\n",
       "      <th>tic</th>\n",
       "      <th>disposition</th>\n",
       "      <th>not_transit</th>\n",
       "      <th>pn</th>\n",
       "      <th>n_plan</th>\n",
       "      <th>period</th>\n",
       "      <th>depth</th>\n",
       "    </tr>\n",
       "  </thead>\n",
       "  <tbody>\n",
       "    <tr>\n",
       "      <th>0</th>\n",
       "      <td>757099</td>\n",
       "      <td>000757099-01</td>\n",
       "      <td>122785244</td>\n",
       "      <td>FP</td>\n",
       "      <td>1</td>\n",
       "      <td>1</td>\n",
       "      <td>1</td>\n",
       "      <td>0.723930</td>\n",
       "      <td>72.852405</td>\n",
       "    </tr>\n",
       "    <tr>\n",
       "      <th>1</th>\n",
       "      <td>892667</td>\n",
       "      <td>000892667-01</td>\n",
       "      <td>122785148</td>\n",
       "      <td>FP</td>\n",
       "      <td>1</td>\n",
       "      <td>1</td>\n",
       "      <td>1</td>\n",
       "      <td>2.262005</td>\n",
       "      <td>30.407424</td>\n",
       "    </tr>\n",
       "    <tr>\n",
       "      <th>2</th>\n",
       "      <td>1025986</td>\n",
       "      <td>001025986-01</td>\n",
       "      <td>122784720</td>\n",
       "      <td>FP</td>\n",
       "      <td>1</td>\n",
       "      <td>1</td>\n",
       "      <td>1</td>\n",
       "      <td>275.071787</td>\n",
       "      <td>204.701339</td>\n",
       "    </tr>\n",
       "    <tr>\n",
       "      <th>3</th>\n",
       "      <td>1026133</td>\n",
       "      <td>001026133-01</td>\n",
       "      <td>122784832</td>\n",
       "      <td>FP</td>\n",
       "      <td>1</td>\n",
       "      <td>1</td>\n",
       "      <td>2</td>\n",
       "      <td>1.346373</td>\n",
       "      <td>21.063829</td>\n",
       "    </tr>\n",
       "    <tr>\n",
       "      <th>4</th>\n",
       "      <td>1026133</td>\n",
       "      <td>001026133-02</td>\n",
       "      <td>122784832</td>\n",
       "      <td>FP</td>\n",
       "      <td>1</td>\n",
       "      <td>2</td>\n",
       "      <td>2</td>\n",
       "      <td>186.181229</td>\n",
       "      <td>278.023096</td>\n",
       "    </tr>\n",
       "  </tbody>\n",
       "</table>\n",
       "</div>"
      ],
      "text/plain": [
       "       kic        TCE_ID        tic disposition  not_transit  pn  n_plan  \\\n",
       "0   757099  000757099-01  122785244          FP            1   1       1   \n",
       "1   892667  000892667-01  122785148          FP            1   1       1   \n",
       "2  1025986  001025986-01  122784720          FP            1   1       1   \n",
       "3  1026133  001026133-01  122784832          FP            1   1       2   \n",
       "4  1026133  001026133-02  122784832          FP            1   2       2   \n",
       "\n",
       "       period       depth  \n",
       "0    0.723930   72.852405  \n",
       "1    2.262005   30.407424  \n",
       "2  275.071787  204.701339  \n",
       "3    1.346373   21.063829  \n",
       "4  186.181229  278.023096  "
      ]
     },
     "execution_count": 3,
     "metadata": {},
     "output_type": "execute_result"
    }
   ],
   "source": [
    "joined_df = pd.read_csv(\"joined.csv\")\n",
    "joined_df.head()"
   ]
  },
  {
   "cell_type": "code",
   "execution_count": 4,
   "metadata": {},
   "outputs": [
    {
     "name": "stderr",
     "output_type": "stream",
     "text": [
      "WARNING: NoResultsWarning: Query returned no results. [astroquery.mast.discovery_portal]\n"
     ]
    }
   ],
   "source": [
    "joined_df[\"target_pixel_files\"] = joined_df[\"tic\"].apply(number_of_target_pixel_files)"
   ]
  },
  {
   "cell_type": "code",
   "execution_count": 5,
   "metadata": {},
   "outputs": [
    {
     "data": {
      "text/plain": [
       "0"
      ]
     },
     "execution_count": 5,
     "metadata": {},
     "output_type": "execute_result"
    }
   ],
   "source": [
    "# connection issues?\n",
    "len(joined_df[joined_df[\"target_pixel_files\"] == -1])"
   ]
  },
  {
   "cell_type": "code",
   "execution_count": 6,
   "metadata": {},
   "outputs": [],
   "source": [
    "# retry where there were connection issues\n",
    "joined_df.loc[joined_df[\"target_pixel_files\"] == -1, \"target_pixel_files\"] = joined_df[joined_df[\"target_pixel_files\"] == -1][\"tic\"].apply(number_of_target_pixel_files)"
   ]
  },
  {
   "cell_type": "code",
   "execution_count": 7,
   "metadata": {},
   "outputs": [
    {
     "data": {
      "text/plain": [
       "<matplotlib.axes._subplots.AxesSubplot at 0x7fdbcf1fe670>"
      ]
     },
     "execution_count": 7,
     "metadata": {},
     "output_type": "execute_result"
    },
    {
     "data": {
      "image/png": "[encoded data removed]",
      "text/plain": [
       "<Figure size 432x288 with 1 Axes>"
      ]
     },
     "metadata": {
      "needs_background": "light"
     },
     "output_type": "display_data"
    }
   ],
   "source": [
    "joined_df[\"target_pixel_files\"].hist()"
   ]
  },
  {
   "cell_type": "code",
   "execution_count": 8,
   "metadata": {},
   "outputs": [],
   "source": [
    "joined_df.to_csv(\"joined_with_tess_tp_counts.csv\")"
   ]
  },
  {
   "cell_type": "code",
   "execution_count": null,
   "metadata": {},
   "outputs": [],
   "source": []
  }
 ],
 "metadata": {
  "kernelspec": {
   "display_name": "Python 3",
   "language": "python",
   "name": "python3"
  },
  "language_info": {
   "codemirror_mode": {
    "name": "ipython",
    "version": 3
   },
   "file_extension": ".py",
   "mimetype": "text/x-python",
   "name": "python",
   "nbconvert_exporter": "python",
   "pygments_lexer": "ipython3",
   "version": "3.8.3"
  }
 },
 "nbformat": 4,
 "nbformat_minor": 4
}
