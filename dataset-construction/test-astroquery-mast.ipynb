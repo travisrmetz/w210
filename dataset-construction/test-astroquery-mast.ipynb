{
 "cells": [
  {
   "cell_type": "code",
   "execution_count": 2,
   "metadata": {},
   "outputs": [],
   "source": [
    "from astroquery.mast import Observations"
   ]
  },
  {
   "cell_type": "code",
   "execution_count": 17,
   "metadata": {},
   "outputs": [
    {
     "data": {
      "text/plain": [
       "'122678660'"
      ]
     },
     "execution_count": 17,
     "metadata": {},
     "output_type": "execute_result"
    }
   ],
   "source": [
    "# supply KIC\n",
    "# restrict the mission to TESS\n",
    "# had to search by radius. Only produced results other than FFI around 0.2 degrees \n",
    "# How valid is this join?\n",
    "obs_table = Observations.query_criteria(objectname=\"KIC 757450\", radius=\".2 deg\", obs_collection=\"TESS\")\n",
    "obs_table[0][\"target_name\"]"
   ]
  },
  {
   "cell_type": "code",
   "execution_count": 6,
   "metadata": {},
   "outputs": [
    {
     "data": {
      "text/plain": [
       "'137099260'"
      ]
     },
     "execution_count": 6,
     "metadata": {},
     "output_type": "execute_result"
    }
   ],
   "source": [
    "obs_table = Observations.query_criteria(objectname=\"KIC 892376\", radius=\".2 deg\", obs_collection=\"TESS\")\n",
    "obs_table[0][\"target_name\"]"
   ]
  },
  {
   "cell_type": "code",
   "execution_count": 4,
   "metadata": {},
   "outputs": [
    {
     "data": {
      "text/html": [
       "<i>Table masked=True length=10</i>\n",
       "<table id=\"table140307597448576\" class=\"table-striped table-bordered table-condensed\">\n",
       "<thead><tr><th>intentType</th><th>obs_collection</th><th>provenance_name</th><th>instrument_name</th><th>project</th><th>filters</th><th>wavelength_region</th><th>target_name</th><th>target_classification</th><th>obs_id</th><th>s_ra</th><th>s_dec</th><th>dataproduct_type</th><th>proposal_pi</th><th>calib_level</th><th>t_min</th><th>t_max</th><th>t_exptime</th><th>em_min</th><th>em_max</th><th>obs_title</th><th>t_obs_release</th><th>proposal_id</th><th>proposal_type</th><th>sequence_number</th><th>s_region</th><th>jpegURL</th><th>dataURL</th><th>dataRights</th><th>mtFlag</th><th>srcDen</th><th>obsid</th><th>distance</th></tr></thead>\n",
       "<thead><tr><th>str7</th><th>str11</th><th>str12</th><th>str10</th><th>str6</th><th>str6</th><th>str16</th><th>str22</th><th>str1</th><th>str68</th><th>float64</th><th>float64</th><th>str10</th><th>str16</th><th>int64</th><th>float64</th><th>float64</th><th>float64</th><th>float64</th><th>float64</th><th>str29</th><th>float64</th><th>str12</th><th>str6</th><th>int64</th><th>str133</th><th>str136</th><th>str194</th><th>str6</th><th>bool</th><th>float64</th><th>str11</th><th>float64</th></tr></thead>\n",
       "<tr><td>science</td><td>TESS</td><td>SPOC</td><td>Photometer</td><td>TESS</td><td>TESS</td><td>Optical</td><td>TESS FFI</td><td>--</td><td>tess-s0014-1-2</td><td>288.7570728953938</td><td>32.917536981064885</td><td>image</td><td>Ricker, George</td><td>3</td><td>58682.85715596</td><td>58709.69017794</td><td>1425.599392</td><td>600.0</td><td>1000.0</td><td>--</td><td>58739.33333</td><td>N/A</td><td>--</td><td>14</td><td>POLYGON 293.22549200 40.63255200 297.67376100 29.29358100 284.71097800 25.18171900 279.50598200 35.76201400 293.22549200 40.63255200</td><td>--</td><td>--</td><td>PUBLIC</td><td>False</td><td>nan</td><td>17000972118</td><td>0.0</td></tr>\n",
       "<tr><td>science</td><td>TESS</td><td>SPOC</td><td>Photometer</td><td>TESS</td><td>TESS</td><td>Optical</td><td>122678660</td><td>--</td><td>tess2019198215352-s0014-0000000122678660-0150-s</td><td>291.025226823554</td><td>36.4520928646716</td><td>timeseries</td><td>Ricker, George</td><td>3</td><td>58682.85551286</td><td>58709.70673269</td><td>120.0</td><td>600.0</td><td>1000.0</td><td>--</td><td>58739.33333</td><td>N/A</td><td>--</td><td>14</td><td>CIRCLE ICRS 291.02522682 36.45209286 0.00138889</td><td>--</td><td>mast:TESS/product/tess2019198215352-s0014-0000000122678660-0150-s_lc.fits</td><td>PUBLIC</td><td>False</td><td>nan</td><td>17000943110</td><td>665.8173075652963</td></tr>\n",
       "<tr><td>science</td><td>TESS</td><td>SPOC</td><td>Photometer</td><td>TESS</td><td>TESS</td><td>Optical</td><td>137099260</td><td>--</td><td>tess2019198215352-s0014-0000000137099260-0150-s</td><td>291.254464786085</td><td>36.743581097158</td><td>timeseries</td><td>Ricker, George</td><td>3</td><td>58682.85549002</td><td>58709.7067223</td><td>120.0</td><td>600.0</td><td>1000.0</td><td>--</td><td>58739.33333</td><td>G022062</td><td>--</td><td>14</td><td>CIRCLE ICRS 291.25446479 36.74358110 0.00138889</td><td>--</td><td>mast:TESS/product/tess2019198215352-s0014-0000000137099260-0150-s_lc.fits</td><td>PUBLIC</td><td>False</td><td>nan</td><td>17000952819</td><td>668.2182565337151</td></tr>\n",
       "<tr><td>science</td><td>SPITZER_SHA</td><td>SSC Pipeline</td><td>IRAC</td><td>--</td><td>IRAC2</td><td>Infrared</td><td>Kepler10-1-2-1-1-1-1-1</td><td>--</td><td>000002FBFF00</td><td>291.32807629941567</td><td>36.70515086744968</td><td>image</td><td>Werner, Michael</td><td>3</td><td>56656.90113899</td><td>56656.93062685</td><td>10.4</td><td>3990.0</td><td>5010.0</td><td>SpiKeS: Spitzer Kepler Survey</td><td>56680.66667</td><td>SPIKES_10067</td><td>--</td><td>50069248</td><td>POLYGON -69.12330100 36.29483500 -69.20263400 36.85420100 -68.19222100 36.94227200 -68.12011100 36.38226900 -69.12330100 36.29483500</td><td>--</td><td>https://irsa.ipac.caltech.edu/data/SPITZER/SHA/archive/proc/IRAC036400/r50069248/ch2/pbcd/SPITZER_I2_50069248_0000_2_E10817345_maic.fits</td><td>PUBLIC</td><td>False</td><td>nan</td><td>19000125795</td><td>0.0</td></tr>\n",
       "<tr><td>science</td><td>SPITZER_SHA</td><td>SSC Pipeline</td><td>IRAC</td><td>--</td><td>IRAC1</td><td>Infrared</td><td>Kepler10-1-2-1-1-1-1-1</td><td>--</td><td>000002FBFF00</td><td>291.32807629941567</td><td>36.70515086744968</td><td>image</td><td>Werner, Michael</td><td>3</td><td>56656.90113899</td><td>56656.93062685</td><td>10.4</td><td>3170.0</td><td>3950.0000000000005</td><td>SpiKeS: Spitzer Kepler Survey</td><td>56680.66667</td><td>SPIKES_10067</td><td>--</td><td>50069248</td><td>POLYGON -69.12330100 36.29483500 -69.20263400 36.85420100 -68.19222100 36.94227200 -68.12011100 36.38226900 -69.12330100 36.29483500</td><td>--</td><td>https://irsa.ipac.caltech.edu/data/SPITZER/SHA/archive/proc/IRAC036400/r50069248/ch1/pbcd/SPITZER_I1_50069248_0000_2_E10814949_maic.fits</td><td>PUBLIC</td><td>False</td><td>nan</td><td>19000125795</td><td>0.0</td></tr>\n",
       "<tr><td>science</td><td>SPITZER_SHA</td><td>SSC Pipeline</td><td>IRAC</td><td>--</td><td>IRAC2</td><td>Infrared</td><td>Kepler10-1-1-1-1-1-1-1</td><td>--</td><td>000002FBC700</td><td>291.7403002740962</td><td>37.24331906950751</td><td>image</td><td>Werner, Michael</td><td>3</td><td>56656.76959194</td><td>56656.90035183</td><td>10.4</td><td>3990.0</td><td>5010.0</td><td>SpiKeS: Spitzer Kepler Survey</td><td>56680.66667</td><td>SPIKES_10067</td><td>--</td><td>50054912</td><td>POLYGON -69.46866200 36.59947700 -69.58256200 37.38424900 -66.99539300 37.59521000 -66.90791600 36.80826100 -69.46866200 36.59947700</td><td>--</td><td>https://irsa.ipac.caltech.edu/data/SPITZER/SHA/archive/proc/IRAC036400/r50054912/ch2/pbcd/SPITZER_I2_50054912_0000_2_E10821251_maic.fits</td><td>PUBLIC</td><td>False</td><td>nan</td><td>19000067143</td><td>41.87253547081102</td></tr>\n",
       "<tr><td>science</td><td>SPITZER_SHA</td><td>SSC Pipeline</td><td>IRAC</td><td>--</td><td>IRAC1</td><td>Infrared</td><td>Kepler10-1-1-1-1-1-1-1</td><td>--</td><td>000002FBC700</td><td>291.7403002740962</td><td>37.24331906950751</td><td>image</td><td>Werner, Michael</td><td>3</td><td>56656.76959194</td><td>56656.90035183</td><td>10.4</td><td>3170.0</td><td>3950.0000000000005</td><td>SpiKeS: Spitzer Kepler Survey</td><td>56680.66667</td><td>SPIKES_10067</td><td>--</td><td>50054912</td><td>POLYGON -69.46866200 36.59947700 -69.58256200 37.38424900 -66.99539300 37.59521000 -66.90791600 36.80826100 -69.46866200 36.59947700</td><td>--</td><td>https://irsa.ipac.caltech.edu/data/SPITZER/SHA/archive/proc/IRAC036400/r50054912/ch1/pbcd/SPITZER_I1_50054912_0000_2_E10820703_maic.fits</td><td>PUBLIC</td><td>False</td><td>nan</td><td>19000067143</td><td>41.87253547081102</td></tr>\n",
       "<tr><td>science</td><td>PS1</td><td>3PI</td><td>GPC1</td><td>PS1</td><td>g</td><td>OPTICAL</td><td>2143.012</td><td>--</td><td>rings.v3.skycell.2143.012.stk.g</td><td>291.2587907546542</td><td>36.58441606162258</td><td>image</td><td>--</td><td>3</td><td>55012.5913936</td><td>56511.33371818516</td><td>877.0</td><td>394299987792.96875</td><td>559299987792.9688</td><td>PS1 3PI Survey</td><td>57741.54167</td><td>--</td><td>3PI</td><td>--</td><td>POLYGON ICRS   291.526775    36.363433  291.535704    36.799049  290.989219    36.804826  290.983466    36.369116</td><td>https://ps1images.stsci.edu/cgi-bin/fitscut.cgi?red=/rings.v3.skycell/2143/012/rings.v3.skycell.2143.012.stk.g.unconv.fits</td><td>http://ps1images.stsci.edu/data/ps1/node03/stps03.1/nebulous/f1/05/7989477332.gpc1:LAP.PV3.20140730.ipp:2014:10:25:RINGS.V3:skycell.2143.012:RINGS.V3.skycell.2143.012.stk.3688145.unconv.fits</td><td>PUBLIC</td><td>--</td><td>5885.0</td><td>16000747594</td><td>0.0</td></tr>\n",
       "<tr><td>science</td><td>PS1</td><td>3PI</td><td>GPC1</td><td>PS1</td><td>i</td><td>OPTICAL</td><td>2143.012</td><td>--</td><td>rings.v3.skycell.2143.012.stk.i</td><td>291.2587907546542</td><td>36.58441606162258</td><td>image</td><td>--</td><td>3</td><td>55019.5737103</td><td>56523.44684543336</td><td>1125.0</td><td>677799987792.9688</td><td>830400024414.0625</td><td>PS1 3PI Survey</td><td>57741.54167</td><td>--</td><td>3PI</td><td>--</td><td>POLYGON ICRS   291.526775    36.363433  291.535704    36.799049  290.989219    36.804826  290.983466    36.369116</td><td>https://ps1images.stsci.edu/cgi-bin/fitscut.cgi?red=/rings.v3.skycell/2143/012/rings.v3.skycell.2143.012.stk.i.unconv.fits</td><td>http://ps1images.stsci.edu/data/ps1/node08/stps08.2/nebulous/e9/50/7992779084.gpc1:LAP.PV3.20140730.ipp:2014:10:26:RINGS.V3:skycell.2143.012:RINGS.V3.skycell.2143.012.stk.3690779.unconv.fits</td><td>PUBLIC</td><td>--</td><td>5885.0</td><td>16000747595</td><td>0.0</td></tr>\n",
       "<tr><td>science</td><td>PS1</td><td>3PI</td><td>GPC1</td><td>PS1</td><td>r</td><td>OPTICAL</td><td>2143.012</td><td>--</td><td>rings.v3.skycell.2143.012.stk.r</td><td>291.2587907546542</td><td>36.58441606162258</td><td>image</td><td>--</td><td>3</td><td>55014.3817931</td><td>56523.36758506295</td><td>1116.0</td><td>538599975585.9375</td><td>703599975585.9375</td><td>PS1 3PI Survey</td><td>57741.54167</td><td>--</td><td>3PI</td><td>--</td><td>POLYGON ICRS   291.526775    36.363433  291.535704    36.799049  290.989219    36.804826  290.983466    36.369116</td><td>https://ps1images.stsci.edu/cgi-bin/fitscut.cgi?red=/rings.v3.skycell/2143/012/rings.v3.skycell.2143.012.stk.r.unconv.fits</td><td>http://ps1images.stsci.edu/data/ps1/node12/stps12.0/nebulous/66/98/7997060207.gpc1:LAP.PV3.20140730.ipp:2014:10:26:RINGS.V3:skycell.2143.012:RINGS.V3.skycell.2143.012.stk.3688390.unconv.fits</td><td>PUBLIC</td><td>--</td><td>5885.0</td><td>16000747596</td><td>0.0</td></tr>\n",
       "</table>"
      ],
      "text/plain": [
       "<Table masked=True length=10>\n",
       "intentType obs_collection provenance_name ...    obsid         distance    \n",
       "   str7        str11           str12      ...    str11         float64     \n",
       "---------- -------------- --------------- ... ----------- -----------------\n",
       "   science           TESS            SPOC ... 17000972118               0.0\n",
       "   science           TESS            SPOC ... 17000943110 665.8173075652963\n",
       "   science           TESS            SPOC ... 17000952819 668.2182565337151\n",
       "   science    SPITZER_SHA    SSC Pipeline ... 19000125795               0.0\n",
       "   science    SPITZER_SHA    SSC Pipeline ... 19000125795               0.0\n",
       "   science    SPITZER_SHA    SSC Pipeline ... 19000067143 41.87253547081102\n",
       "   science    SPITZER_SHA    SSC Pipeline ... 19000067143 41.87253547081102\n",
       "   science            PS1             3PI ... 16000747594               0.0\n",
       "   science            PS1             3PI ... 16000747595               0.0\n",
       "   science            PS1             3PI ... 16000747596               0.0"
      ]
     },
     "execution_count": 4,
     "metadata": {},
     "output_type": "execute_result"
    }
   ],
   "source": [
    "obs_table = Observations.query_object(\"KIC 892376\", radius=\".2 deg\")\n",
    "obs_table[:10]"
   ]
  },
  {
   "cell_type": "code",
   "execution_count": 7,
   "metadata": {},
   "outputs": [
    {
     "data": {
      "text/plain": [
       "'122673496'"
      ]
     },
     "execution_count": 7,
     "metadata": {},
     "output_type": "execute_result"
    }
   ],
   "source": [
    "obs_table = Observations.query_criteria(objectname=\"KIC 1570924\", radius=\".2 deg\", obs_collection=\"TESS\")\n",
    "obs_table[0][\"target_name\"]"
   ]
  },
  {
   "cell_type": "code",
   "execution_count": 5,
   "metadata": {},
   "outputs": [
    {
     "data": {
      "text/html": [
       "<i>Table masked=True length=10</i>\n",
       "<table id=\"table140307571469664\" class=\"table-striped table-bordered table-condensed\">\n",
       "<thead><tr><th>intentType</th><th>obs_collection</th><th>provenance_name</th><th>instrument_name</th><th>project</th><th>filters</th><th>wavelength_region</th><th>target_name</th><th>target_classification</th><th>obs_id</th><th>s_ra</th><th>s_dec</th><th>dataproduct_type</th><th>proposal_pi</th><th>calib_level</th><th>t_min</th><th>t_max</th><th>t_exptime</th><th>em_min</th><th>em_max</th><th>obs_title</th><th>t_obs_release</th><th>proposal_id</th><th>proposal_type</th><th>sequence_number</th><th>s_region</th><th>jpegURL</th><th>dataURL</th><th>dataRights</th><th>mtFlag</th><th>srcDen</th><th>obsid</th><th>distance</th></tr></thead>\n",
       "<thead><tr><th>str7</th><th>str11</th><th>str12</th><th>str10</th><th>str6</th><th>str6</th><th>str16</th><th>str24</th><th>str1</th><th>str68</th><th>float64</th><th>float64</th><th>str10</th><th>str16</th><th>int64</th><th>float64</th><th>float64</th><th>float64</th><th>float64</th><th>float64</th><th>str102</th><th>float64</th><th>str12</th><th>str6</th><th>int64</th><th>str466</th><th>str146</th><th>str194</th><th>str6</th><th>bool</th><th>float64</th><th>str11</th><th>float64</th></tr></thead>\n",
       "<tr><td>science</td><td>TESS</td><td>SPOC</td><td>Photometer</td><td>TESS</td><td>TESS</td><td>Optical</td><td>TESS FFI</td><td>--</td><td>tess-s0014-1-2</td><td>288.7570728953938</td><td>32.917536981064885</td><td>image</td><td>Ricker, George</td><td>3</td><td>58682.85715596</td><td>58709.69017794</td><td>1425.599392</td><td>600.0</td><td>1000.0</td><td>--</td><td>58739.33333</td><td>N/A</td><td>--</td><td>14</td><td>POLYGON 293.22549200 40.63255200 297.67376100 29.29358100 284.71097800 25.18171900 279.50598200 35.76201400 293.22549200 40.63255200</td><td>--</td><td>--</td><td>PUBLIC</td><td>False</td><td>nan</td><td>17000972118</td><td>0.0</td></tr>\n",
       "<tr><td>science</td><td>TESS</td><td>SPOC</td><td>Photometer</td><td>TESS</td><td>TESS</td><td>Optical</td><td>122680392</td><td>--</td><td>tess2019198215352-s0014-0000000122680392-0150-s</td><td>290.888423975642</td><td>37.089369523911</td><td>timeseries</td><td>Ricker, George</td><td>3</td><td>58682.85545713</td><td>58709.70668262</td><td>120.0</td><td>600.0</td><td>1000.0</td><td>--</td><td>58739.33333</td><td>N/A</td><td>--</td><td>14</td><td>CIRCLE ICRS 290.88842398 37.08936952 0.00138889</td><td>--</td><td>mast:TESS/product/tess2019198215352-s0014-0000000122680392-0150-s_lc.fits</td><td>PUBLIC</td><td>False</td><td>nan</td><td>17000955801</td><td>145.03914665329518</td></tr>\n",
       "<tr><td>science</td><td>TESS</td><td>SPOC</td><td>Photometer</td><td>TESS</td><td>TESS</td><td>Optical</td><td>122680608</td><td>--</td><td>tess2019198215352-s0014-0000000122680608-0150-s</td><td>290.918968394155</td><td>37.1652325106706</td><td>timeseries</td><td>Ricker, George</td><td>3</td><td>58682.85545089</td><td>58709.70667863</td><td>120.0</td><td>600.0</td><td>1000.0</td><td>--</td><td>58739.33333</td><td>N/A</td><td>--</td><td>14</td><td>CIRCLE ICRS 290.91896839 37.16523251 0.00138889</td><td>--</td><td>mast:TESS/product/tess2019198215352-s0014-0000000122680608-0150-s_lc.fits</td><td>PUBLIC</td><td>False</td><td>nan</td><td>17000938416</td><td>207.5339234339033</td></tr>\n",
       "<tr><td>science</td><td>TESS</td><td>SPOC</td><td>Photometer</td><td>TESS</td><td>TESS</td><td>Optical</td><td>122673496</td><td>--</td><td>tess2019198215352-s0014-0000000122673496-0150-s</td><td>290.73743742272</td><td>37.2491027150402</td><td>timeseries</td><td>Ricker, George</td><td>3</td><td>58682.85544201</td><td>58709.70666501</td><td>120.0</td><td>600.0</td><td>1000.0</td><td>--</td><td>58739.33333</td><td>N/A</td><td>--</td><td>14</td><td>CIRCLE ICRS 290.73743742 37.24910272 0.00138889</td><td>--</td><td>mast:TESS/product/tess2019198215352-s0014-0000000122673496-0150-s_lc.fits</td><td>PUBLIC</td><td>False</td><td>nan</td><td>17000954277</td><td>566.9962137702842</td></tr>\n",
       "<tr><td>science</td><td>SWIFT</td><td>--</td><td>UVOT</td><td>--</td><td>UVW1</td><td>UV;OPTICAL</td><td>PBCJ1921.7+3704</td><td>--</td><td>00049643001</td><td>290.44060496515704</td><td>37.09360364559</td><td>cube</td><td>--</td><td>2</td><td>56639.891412</td><td>56639.9613426</td><td>1105.664733026353</td><td>160900000000.0</td><td>457000000000.0</td><td>--</td><td>nan</td><td>--</td><td>--</td><td>--</td><td>POLYGON -69.570378 36.879417 -69.468841 36.945759 -69.32475 37.049587 -69.315992 37.056542 -69.31982099999999 37.061291 -69.415041542005966 37.153382694912459 -69.420118 37.159479 -69.527851 37.277247 -69.651491000000021 37.209725 -69.804559999999981 37.115244 -69.788521221360924 37.097604153930625 -69.796269 37.091974 -69.70934611032213 37.010373251944849 -69.599844000000019 36.889312 -69.5879075134331 36.89596964222919 -69.570378 36.879417 -69.570378 36.879417</td><td>http://archive.stsci.edu/cgi-bin/hla/fitscut.cgi?red=sw00049643001uw1[2]&amp;size=ALL&amp;output_size=1393</td><td>http://archive.stsci.edu/missions/swift_uvot/00049643/00049643001/sw00049643001uw1_sk.img</td><td>PUBLIC</td><td>--</td><td>5885.0</td><td>15000832561</td><td>573.1806045188039</td></tr>\n",
       "<tr><td>science</td><td>SPITZER_SHA</td><td>SSC Pipeline</td><td>IRAC</td><td>--</td><td>IRAC2</td><td>Infrared</td><td>Kepler10-1-1-1-1-1-1-1</td><td>--</td><td>000002FBC700</td><td>291.7403002740962</td><td>37.24331906950751</td><td>image</td><td>Werner, Michael</td><td>3</td><td>56656.76959194</td><td>56656.90035183</td><td>10.4</td><td>3990.0</td><td>5010.0</td><td>SpiKeS: Spitzer Kepler Survey</td><td>56680.66667</td><td>SPIKES_10067</td><td>--</td><td>50054912</td><td>POLYGON -69.46866200 36.59947700 -69.58256200 37.38424900 -66.99539300 37.59521000 -66.90791600 36.80826100 -69.46866200 36.59947700</td><td>--</td><td>https://irsa.ipac.caltech.edu/data/SPITZER/SHA/archive/proc/IRAC036400/r50054912/ch2/pbcd/SPITZER_I2_50054912_0000_2_E10821251_maic.fits</td><td>PUBLIC</td><td>False</td><td>nan</td><td>19000067143</td><td>0.0</td></tr>\n",
       "<tr><td>science</td><td>SPITZER_SHA</td><td>SSC Pipeline</td><td>IRAC</td><td>--</td><td>IRAC1</td><td>Infrared</td><td>Kepler10-1-1-1-1-1-1-1</td><td>--</td><td>000002FBC700</td><td>291.7403002740962</td><td>37.24331906950751</td><td>image</td><td>Werner, Michael</td><td>3</td><td>56656.76959194</td><td>56656.90035183</td><td>10.4</td><td>3170.0</td><td>3950.0000000000005</td><td>SpiKeS: Spitzer Kepler Survey</td><td>56680.66667</td><td>SPIKES_10067</td><td>--</td><td>50054912</td><td>POLYGON -69.46866200 36.59947700 -69.58256200 37.38424900 -66.99539300 37.59521000 -66.90791600 36.80826100 -69.46866200 36.59947700</td><td>--</td><td>https://irsa.ipac.caltech.edu/data/SPITZER/SHA/archive/proc/IRAC036400/r50054912/ch1/pbcd/SPITZER_I1_50054912_0000_2_E10820703_maic.fits</td><td>PUBLIC</td><td>False</td><td>nan</td><td>19000067143</td><td>0.0</td></tr>\n",
       "<tr><td>science</td><td>SPITZER_SHA</td><td>SSC Pipeline</td><td>IRAC</td><td>--</td><td>IRAC1</td><td>Infrared</td><td>Kepler10-1-2-1-1-1-1-1</td><td>--</td><td>000002FBDF00</td><td>291.6573959059474</td><td>37.768101450747785</td><td>image</td><td>Werner, Michael</td><td>3</td><td>56657.12753493</td><td>56657.29647859</td><td>10.4</td><td>3170.0</td><td>3950.0000000000005</td><td>SpiKeS: Spitzer Kepler Survey</td><td>56680.66667</td><td>SPIKES_10067</td><td>--</td><td>50061056</td><td>POLYGON -69.91730500 37.08077700 -70.04224700 37.86682500 -66.70226100 38.15317600 -66.61211000 37.36411100 -69.91730500 37.08077700</td><td>--</td><td>https://irsa.ipac.caltech.edu/data/SPITZER/SHA/archive/proc/IRAC036400/r50061056/ch1/pbcd/SPITZER_I1_50061056_0000_2_E10821296_maic.fits</td><td>PUBLIC</td><td>False</td><td>nan</td><td>19000099909</td><td>107.86667170890955</td></tr>\n",
       "<tr><td>science</td><td>SPITZER_SHA</td><td>SSC Pipeline</td><td>IRAC</td><td>--</td><td>IRAC2</td><td>Infrared</td><td>Kepler10-1-2-1-1-1-1-1</td><td>--</td><td>000002FBDF00</td><td>291.6573959059474</td><td>37.768101450747785</td><td>image</td><td>Werner, Michael</td><td>3</td><td>56657.12753493</td><td>56657.29647859</td><td>10.4</td><td>3990.0</td><td>5010.0</td><td>SpiKeS: Spitzer Kepler Survey</td><td>56680.66667</td><td>SPIKES_10067</td><td>--</td><td>50061056</td><td>POLYGON -69.91730500 37.08077700 -70.04224700 37.86682500 -66.70226100 38.15317600 -66.61211000 37.36411100 -69.91730500 37.08077700</td><td>--</td><td>https://irsa.ipac.caltech.edu/data/SPITZER/SHA/archive/proc/IRAC036400/r50061056/ch2/pbcd/SPITZER_I2_50061056_0000_2_E10821489_maic.fits</td><td>PUBLIC</td><td>False</td><td>nan</td><td>19000099909</td><td>107.86667170890955</td></tr>\n",
       "<tr><td>science</td><td>PS1</td><td>3PI</td><td>GPC1</td><td>PS1</td><td>g</td><td>OPTICAL</td><td>2143.023</td><td>--</td><td>rings.v3.skycell.2143.023.stk.g</td><td>290.7593914091135</td><td>36.99113790141993</td><td>image</td><td>--</td><td>3</td><td>55012.5913936</td><td>56511.32315778516</td><td>791.0</td><td>394299987792.96875</td><td>559299987792.9688</td><td>PS1 3PI Survey</td><td>57741.54167</td><td>--</td><td>3PI</td><td>--</td><td>POLYGON ICRS   291.030370    36.771161  291.036430    37.206994  290.486806    37.210513  290.483960    36.774624</td><td>https://ps1images.stsci.edu/cgi-bin/fitscut.cgi?red=/rings.v3.skycell/2143/023/rings.v3.skycell.2143.023.stk.g.unconv.fits</td><td>http://ps1images.stsci.edu/data/ps1/node08/stps08.1/nebulous/7e/5f/7984034165.gpc1:LAP.PV3.20140730.ipp:2014:10:25:RINGS.V3:skycell.2143.023:RINGS.V3.skycell.2143.023.stk.3688152.unconv.fits</td><td>PUBLIC</td><td>--</td><td>5885.0</td><td>16000747649</td><td>0.0</td></tr>\n",
       "</table>"
      ],
      "text/plain": [
       "<Table masked=True length=10>\n",
       "intentType obs_collection provenance_name ...    obsid         distance     \n",
       "   str7        str11           str12      ...    str11         float64      \n",
       "---------- -------------- --------------- ... ----------- ------------------\n",
       "   science           TESS            SPOC ... 17000972118                0.0\n",
       "   science           TESS            SPOC ... 17000955801 145.03914665329518\n",
       "   science           TESS            SPOC ... 17000938416  207.5339234339033\n",
       "   science           TESS            SPOC ... 17000954277  566.9962137702842\n",
       "   science          SWIFT              -- ... 15000832561  573.1806045188039\n",
       "   science    SPITZER_SHA    SSC Pipeline ... 19000067143                0.0\n",
       "   science    SPITZER_SHA    SSC Pipeline ... 19000067143                0.0\n",
       "   science    SPITZER_SHA    SSC Pipeline ... 19000099909 107.86667170890955\n",
       "   science    SPITZER_SHA    SSC Pipeline ... 19000099909 107.86667170890955\n",
       "   science            PS1             3PI ... 16000747649                0.0"
      ]
     },
     "execution_count": 5,
     "metadata": {},
     "output_type": "execute_result"
    }
   ],
   "source": [
    "obs_table = Observations.query_object(\"KIC 1570924\", radius=\".2 deg\")\n",
    "obs_table[:10]"
   ]
  },
  {
   "cell_type": "code",
   "execution_count": 10,
   "metadata": {},
   "outputs": [
    {
     "data": {
      "text/html": [
       "<i>Table masked=True length=2</i>\n",
       "<table id=\"table140307597448432\" class=\"table-striped table-bordered table-condensed\">\n",
       "<thead><tr><th>dataproduct_type</th><th>calib_level</th><th>obs_collection</th><th>obs_id</th><th>target_name</th><th>s_ra</th><th>s_dec</th><th>t_min</th><th>t_max</th><th>t_exptime</th><th>wavelength_region</th><th>filters</th><th>em_min</th><th>em_max</th><th>target_classification</th><th>obs_title</th><th>t_obs_release</th><th>instrument_name</th><th>proposal_pi</th><th>proposal_id</th><th>proposal_type</th><th>project</th><th>sequence_number</th><th>provenance_name</th><th>s_region</th><th>jpegURL</th><th>dataURL</th><th>dataRights</th><th>mtFlag</th><th>srcDen</th><th>intentType</th><th>obsid</th><th>objID</th><th>objID1</th><th>distance</th></tr></thead>\n",
       "<thead><tr><th>str10</th><th>int64</th><th>str4</th><th>str47</th><th>str9</th><th>float64</th><th>float64</th><th>float64</th><th>float64</th><th>float64</th><th>str7</th><th>str4</th><th>float64</th><th>float64</th><th>str1</th><th>str1</th><th>float64</th><th>str10</th><th>str14</th><th>str7</th><th>str1</th><th>str4</th><th>int64</th><th>str4</th><th>str133</th><th>str1</th><th>str73</th><th>str6</th><th>bool</th><th>float64</th><th>str7</th><th>str11</th><th>str11</th><th>str11</th><th>float64</th></tr></thead>\n",
       "<tr><td>timeseries</td><td>3</td><td>TESS</td><td>tess2019198215352-s0014-0000000122784501-0150-s</td><td>122784501</td><td>291.048816</td><td>36.839902</td><td>58682.85547994</td><td>58709.70670682</td><td>120.0</td><td>Optical</td><td>TESS</td><td>600.0</td><td>1000.0</td><td>--</td><td>--</td><td>58739.33333</td><td>Photometer</td><td>Ricker, George</td><td>G022062</td><td>--</td><td>TESS</td><td>14</td><td>SPOC</td><td>CIRCLE ICRS 291.04881600 36.83990200 0.00138889</td><td>--</td><td>mast:TESS/product/tess2019198215352-s0014-0000000122784501-0150-s_lc.fits</td><td>PUBLIC</td><td>False</td><td>nan</td><td>science</td><td>17000949167</td><td>17004979670</td><td>17004979670</td><td>648.6205252394583</td></tr>\n",
       "<tr><td>timeseries</td><td>3</td><td>TESS</td><td>tess2019198215352-s0014-0000000137099260-0150-s</td><td>137099260</td><td>291.254464786085</td><td>36.743581097158</td><td>58682.85549002</td><td>58709.7067223</td><td>120.0</td><td>Optical</td><td>TESS</td><td>600.0</td><td>1000.0</td><td>--</td><td>--</td><td>58739.33333</td><td>Photometer</td><td>Ricker, George</td><td>G022062</td><td>--</td><td>TESS</td><td>14</td><td>SPOC</td><td>CIRCLE ICRS 291.25446479 36.74358110 0.00138889</td><td>--</td><td>mast:TESS/product/tess2019198215352-s0014-0000000137099260-0150-s_lc.fits</td><td>PUBLIC</td><td>False</td><td>nan</td><td>science</td><td>17000952819</td><td>17004989392</td><td>17004989392</td><td>368.4230485682091</td></tr>\n",
       "</table>"
      ],
      "text/plain": [
       "<Table masked=True length=2>\n",
       "dataproduct_type calib_level obs_collection ...    objID1        distance    \n",
       "     str10          int64         str4      ...    str11         float64     \n",
       "---------------- ----------- -------------- ... ----------- -----------------\n",
       "      timeseries           3           TESS ... 17004979670 648.6205252394583\n",
       "      timeseries           3           TESS ... 17004989392 368.4230485682091"
      ]
     },
     "execution_count": 10,
     "metadata": {},
     "output_type": "execute_result"
    }
   ],
   "source": [
    "obs_table = Observations.query_criteria(objectname=\"KIC 892772\", radius=\".2 deg\", obs_collection=\"TESS\")\n",
    "obs_table[obs_table[\"target_name\"]!=\"TESS FFI\"]"
   ]
  },
  {
   "cell_type": "code",
   "execution_count": 11,
   "metadata": {},
   "outputs": [
    {
     "data": {
      "text/plain": [
       "3"
      ]
     },
     "execution_count": 11,
     "metadata": {},
     "output_type": "execute_result"
    }
   ],
   "source": [
    "len(obs_table)"
   ]
  },
  {
   "cell_type": "code",
   "execution_count": 15,
   "metadata": {},
   "outputs": [
    {
     "data": {
      "text/plain": [
       "0"
      ]
     },
     "execution_count": 15,
     "metadata": {},
     "output_type": "execute_result"
    }
   ],
   "source": [
    "obs_table = Observations.query_criteria(objectname=\"KIC 892772\", radius=\".2 deg\", obs_collection=\"TESS\")\n",
    "len(obs_table[[False, False, False]])"
   ]
  },
  {
   "cell_type": "code",
   "execution_count": 19,
   "metadata": {},
   "outputs": [
    {
     "ename": "ResolverError",
     "evalue": "Could not resolve KIC 755707 to a sky position.",
     "output_type": "error",
     "traceback": [
      "\u001b[0;31m---------------------------------------------------------------------------\u001b[0m",
      "\u001b[0;31mResolverError\u001b[0m                             Traceback (most recent call last)",
      "\u001b[0;32m<ipython-input-19-e47bb6458b5f>\u001b[0m in \u001b[0;36m<module>\u001b[0;34m\u001b[0m\n\u001b[0;32m----> 1\u001b[0;31m \u001b[0mobs_table\u001b[0m \u001b[0;34m=\u001b[0m \u001b[0mObservations\u001b[0m\u001b[0;34m.\u001b[0m\u001b[0mquery_criteria\u001b[0m\u001b[0;34m(\u001b[0m\u001b[0mobjectname\u001b[0m\u001b[0;34m=\u001b[0m\u001b[0;34m\"KIC 755707\"\u001b[0m\u001b[0;34m,\u001b[0m \u001b[0mradius\u001b[0m\u001b[0;34m=\u001b[0m\u001b[0;34m\".3 deg\"\u001b[0m\u001b[0;34m,\u001b[0m \u001b[0mobs_collection\u001b[0m\u001b[0;34m=\u001b[0m\u001b[0;34m\"TESS\"\u001b[0m\u001b[0;34m)\u001b[0m\u001b[0;34m\u001b[0m\u001b[0;34m\u001b[0m\u001b[0m\n\u001b[0m\u001b[1;32m      2\u001b[0m \u001b[0mobs_table\u001b[0m\u001b[0;34m\u001b[0m\u001b[0;34m\u001b[0m\u001b[0m\n",
      "\u001b[0;32m~/anaconda3/envs/triceratops/lib/python3.8/site-packages/astroquery/utils/class_or_instance.py\u001b[0m in \u001b[0;36mf\u001b[0;34m(*args, **kwds)\u001b[0m\n\u001b[1;32m     23\u001b[0m         \u001b[0;32mdef\u001b[0m \u001b[0mf\u001b[0m\u001b[0;34m(\u001b[0m\u001b[0;34m*\u001b[0m\u001b[0margs\u001b[0m\u001b[0;34m,\u001b[0m \u001b[0;34m**\u001b[0m\u001b[0mkwds\u001b[0m\u001b[0;34m)\u001b[0m\u001b[0;34m:\u001b[0m\u001b[0;34m\u001b[0m\u001b[0;34m\u001b[0m\u001b[0m\n\u001b[1;32m     24\u001b[0m             \u001b[0;32mif\u001b[0m \u001b[0mobj\u001b[0m \u001b[0;32mis\u001b[0m \u001b[0;32mnot\u001b[0m \u001b[0;32mNone\u001b[0m\u001b[0;34m:\u001b[0m\u001b[0;34m\u001b[0m\u001b[0;34m\u001b[0m\u001b[0m\n\u001b[0;32m---> 25\u001b[0;31m                 \u001b[0;32mreturn\u001b[0m \u001b[0mself\u001b[0m\u001b[0;34m.\u001b[0m\u001b[0mfn\u001b[0m\u001b[0;34m(\u001b[0m\u001b[0mobj\u001b[0m\u001b[0;34m,\u001b[0m \u001b[0;34m*\u001b[0m\u001b[0margs\u001b[0m\u001b[0;34m,\u001b[0m \u001b[0;34m**\u001b[0m\u001b[0mkwds\u001b[0m\u001b[0;34m)\u001b[0m\u001b[0;34m\u001b[0m\u001b[0;34m\u001b[0m\u001b[0m\n\u001b[0m\u001b[1;32m     26\u001b[0m             \u001b[0;32melse\u001b[0m\u001b[0;34m:\u001b[0m\u001b[0;34m\u001b[0m\u001b[0;34m\u001b[0m\u001b[0m\n\u001b[1;32m     27\u001b[0m                 \u001b[0;32mreturn\u001b[0m \u001b[0mself\u001b[0m\u001b[0;34m.\u001b[0m\u001b[0mfn\u001b[0m\u001b[0;34m(\u001b[0m\u001b[0mcls\u001b[0m\u001b[0;34m,\u001b[0m \u001b[0;34m*\u001b[0m\u001b[0margs\u001b[0m\u001b[0;34m,\u001b[0m \u001b[0;34m**\u001b[0m\u001b[0mkwds\u001b[0m\u001b[0;34m)\u001b[0m\u001b[0;34m\u001b[0m\u001b[0;34m\u001b[0m\u001b[0m\n",
      "\u001b[0;32m~/anaconda3/envs/triceratops/lib/python3.8/site-packages/astroquery/utils/process_asyncs.py\u001b[0m in \u001b[0;36mnewmethod\u001b[0;34m(self, *args, **kwargs)\u001b[0m\n\u001b[1;32m     24\u001b[0m             \u001b[0mverbose\u001b[0m \u001b[0;34m=\u001b[0m \u001b[0mkwargs\u001b[0m\u001b[0;34m.\u001b[0m\u001b[0mpop\u001b[0m\u001b[0;34m(\u001b[0m\u001b[0;34m'verbose'\u001b[0m\u001b[0;34m,\u001b[0m \u001b[0;32mFalse\u001b[0m\u001b[0;34m)\u001b[0m\u001b[0;34m\u001b[0m\u001b[0;34m\u001b[0m\u001b[0m\n\u001b[1;32m     25\u001b[0m \u001b[0;34m\u001b[0m\u001b[0m\n\u001b[0;32m---> 26\u001b[0;31m             \u001b[0mresponse\u001b[0m \u001b[0;34m=\u001b[0m \u001b[0mgetattr\u001b[0m\u001b[0;34m(\u001b[0m\u001b[0mself\u001b[0m\u001b[0;34m,\u001b[0m \u001b[0masync_method_name\u001b[0m\u001b[0;34m)\u001b[0m\u001b[0;34m(\u001b[0m\u001b[0;34m*\u001b[0m\u001b[0margs\u001b[0m\u001b[0;34m,\u001b[0m \u001b[0;34m**\u001b[0m\u001b[0mkwargs\u001b[0m\u001b[0;34m)\u001b[0m\u001b[0;34m\u001b[0m\u001b[0;34m\u001b[0m\u001b[0m\n\u001b[0m\u001b[1;32m     27\u001b[0m             \u001b[0;32mif\u001b[0m \u001b[0mkwargs\u001b[0m\u001b[0;34m.\u001b[0m\u001b[0mget\u001b[0m\u001b[0;34m(\u001b[0m\u001b[0;34m'get_query_payload'\u001b[0m\u001b[0;34m)\u001b[0m \u001b[0;32mor\u001b[0m \u001b[0mkwargs\u001b[0m\u001b[0;34m.\u001b[0m\u001b[0mget\u001b[0m\u001b[0;34m(\u001b[0m\u001b[0;34m'field_help'\u001b[0m\u001b[0;34m)\u001b[0m\u001b[0;34m:\u001b[0m\u001b[0;34m\u001b[0m\u001b[0;34m\u001b[0m\u001b[0m\n\u001b[1;32m     28\u001b[0m                 \u001b[0;32mreturn\u001b[0m \u001b[0mresponse\u001b[0m\u001b[0;34m\u001b[0m\u001b[0;34m\u001b[0m\u001b[0m\n",
      "\u001b[0;32m~/anaconda3/envs/triceratops/lib/python3.8/site-packages/astroquery/utils/class_or_instance.py\u001b[0m in \u001b[0;36mf\u001b[0;34m(*args, **kwds)\u001b[0m\n\u001b[1;32m     23\u001b[0m         \u001b[0;32mdef\u001b[0m \u001b[0mf\u001b[0m\u001b[0;34m(\u001b[0m\u001b[0;34m*\u001b[0m\u001b[0margs\u001b[0m\u001b[0;34m,\u001b[0m \u001b[0;34m**\u001b[0m\u001b[0mkwds\u001b[0m\u001b[0;34m)\u001b[0m\u001b[0;34m:\u001b[0m\u001b[0;34m\u001b[0m\u001b[0;34m\u001b[0m\u001b[0m\n\u001b[1;32m     24\u001b[0m             \u001b[0;32mif\u001b[0m \u001b[0mobj\u001b[0m \u001b[0;32mis\u001b[0m \u001b[0;32mnot\u001b[0m \u001b[0;32mNone\u001b[0m\u001b[0;34m:\u001b[0m\u001b[0;34m\u001b[0m\u001b[0;34m\u001b[0m\u001b[0m\n\u001b[0;32m---> 25\u001b[0;31m                 \u001b[0;32mreturn\u001b[0m \u001b[0mself\u001b[0m\u001b[0;34m.\u001b[0m\u001b[0mfn\u001b[0m\u001b[0;34m(\u001b[0m\u001b[0mobj\u001b[0m\u001b[0;34m,\u001b[0m \u001b[0;34m*\u001b[0m\u001b[0margs\u001b[0m\u001b[0;34m,\u001b[0m \u001b[0;34m**\u001b[0m\u001b[0mkwds\u001b[0m\u001b[0;34m)\u001b[0m\u001b[0;34m\u001b[0m\u001b[0;34m\u001b[0m\u001b[0m\n\u001b[0m\u001b[1;32m     26\u001b[0m             \u001b[0;32melse\u001b[0m\u001b[0;34m:\u001b[0m\u001b[0;34m\u001b[0m\u001b[0;34m\u001b[0m\u001b[0m\n\u001b[1;32m     27\u001b[0m                 \u001b[0;32mreturn\u001b[0m \u001b[0mself\u001b[0m\u001b[0;34m.\u001b[0m\u001b[0mfn\u001b[0m\u001b[0;34m(\u001b[0m\u001b[0mcls\u001b[0m\u001b[0;34m,\u001b[0m \u001b[0;34m*\u001b[0m\u001b[0margs\u001b[0m\u001b[0;34m,\u001b[0m \u001b[0;34m**\u001b[0m\u001b[0mkwds\u001b[0m\u001b[0;34m)\u001b[0m\u001b[0;34m\u001b[0m\u001b[0;34m\u001b[0m\u001b[0m\n",
      "\u001b[0;32m~/anaconda3/envs/triceratops/lib/python3.8/site-packages/astroquery/mast/observations.py\u001b[0m in \u001b[0;36mquery_criteria_async\u001b[0;34m(self, pagesize, page, **criteria)\u001b[0m\n\u001b[1;32m    304\u001b[0m         \"\"\"\n\u001b[1;32m    305\u001b[0m \u001b[0;34m\u001b[0m\u001b[0m\n\u001b[0;32m--> 306\u001b[0;31m         \u001b[0mposition\u001b[0m\u001b[0;34m,\u001b[0m \u001b[0mmashup_filters\u001b[0m \u001b[0;34m=\u001b[0m \u001b[0mself\u001b[0m\u001b[0;34m.\u001b[0m\u001b[0m_parse_caom_criteria\u001b[0m\u001b[0;34m(\u001b[0m\u001b[0;34m**\u001b[0m\u001b[0mcriteria\u001b[0m\u001b[0;34m)\u001b[0m\u001b[0;34m\u001b[0m\u001b[0;34m\u001b[0m\u001b[0m\n\u001b[0m\u001b[1;32m    307\u001b[0m \u001b[0;34m\u001b[0m\u001b[0m\n\u001b[1;32m    308\u001b[0m         \u001b[0;32mif\u001b[0m \u001b[0;32mnot\u001b[0m \u001b[0mmashup_filters\u001b[0m\u001b[0;34m:\u001b[0m\u001b[0;34m\u001b[0m\u001b[0;34m\u001b[0m\u001b[0m\n",
      "\u001b[0;32m~/anaconda3/envs/triceratops/lib/python3.8/site-packages/astroquery/mast/observations.py\u001b[0m in \u001b[0;36m_parse_caom_criteria\u001b[0;34m(self, **criteria)\u001b[0m\n\u001b[1;32m    179\u001b[0m                                                                            \u001b[0;34m\"Mast.Caom.Filtered.Position\"\u001b[0m\u001b[0;34m,\u001b[0m\u001b[0;34m\u001b[0m\u001b[0;34m\u001b[0m\u001b[0m\n\u001b[1;32m    180\u001b[0m                                                                            **criteria)\n\u001b[0;32m--> 181\u001b[0;31m             \u001b[0mcoordinates\u001b[0m \u001b[0;34m=\u001b[0m \u001b[0mutils\u001b[0m\u001b[0;34m.\u001b[0m\u001b[0mparse_input_location\u001b[0m\u001b[0;34m(\u001b[0m\u001b[0mcoordinates\u001b[0m\u001b[0;34m,\u001b[0m \u001b[0mobjectname\u001b[0m\u001b[0;34m)\u001b[0m\u001b[0;34m\u001b[0m\u001b[0;34m\u001b[0m\u001b[0m\n\u001b[0m\u001b[1;32m    182\u001b[0m         \u001b[0;32melse\u001b[0m\u001b[0;34m:\u001b[0m\u001b[0;34m\u001b[0m\u001b[0;34m\u001b[0m\u001b[0m\n\u001b[1;32m    183\u001b[0m             mashup_filters = self._portal_api_connection.build_filter_set(\"Mast.Caom.Cone\",\n",
      "\u001b[0;32m~/anaconda3/envs/triceratops/lib/python3.8/site-packages/astroquery/mast/utils.py\u001b[0m in \u001b[0;36mparse_input_location\u001b[0;34m(coordinates, objectname)\u001b[0m\n\u001b[1;32m    146\u001b[0m \u001b[0;34m\u001b[0m\u001b[0m\n\u001b[1;32m    147\u001b[0m     \u001b[0;32mif\u001b[0m \u001b[0mobjectname\u001b[0m\u001b[0;34m:\u001b[0m\u001b[0;34m\u001b[0m\u001b[0;34m\u001b[0m\u001b[0m\n\u001b[0;32m--> 148\u001b[0;31m         \u001b[0mobj_coord\u001b[0m \u001b[0;34m=\u001b[0m \u001b[0mresolve_object\u001b[0m\u001b[0;34m(\u001b[0m\u001b[0mobjectname\u001b[0m\u001b[0;34m)\u001b[0m\u001b[0;34m\u001b[0m\u001b[0;34m\u001b[0m\u001b[0m\n\u001b[0m\u001b[1;32m    149\u001b[0m \u001b[0;34m\u001b[0m\u001b[0m\n\u001b[1;32m    150\u001b[0m     \u001b[0;32mif\u001b[0m \u001b[0mcoordinates\u001b[0m\u001b[0;34m:\u001b[0m\u001b[0;34m\u001b[0m\u001b[0;34m\u001b[0m\u001b[0m\n",
      "\u001b[0;32m~/anaconda3/envs/triceratops/lib/python3.8/site-packages/astroquery/mast/utils.py\u001b[0m in \u001b[0;36mresolve_object\u001b[0;34m(objectname)\u001b[0m\n\u001b[1;32m    108\u001b[0m \u001b[0;34m\u001b[0m\u001b[0m\n\u001b[1;32m    109\u001b[0m     \u001b[0;32mif\u001b[0m \u001b[0mlen\u001b[0m\u001b[0;34m(\u001b[0m\u001b[0mresult\u001b[0m\u001b[0;34m[\u001b[0m\u001b[0;34m'resolvedCoordinate'\u001b[0m\u001b[0;34m]\u001b[0m\u001b[0;34m)\u001b[0m \u001b[0;34m==\u001b[0m \u001b[0;36m0\u001b[0m\u001b[0;34m:\u001b[0m\u001b[0;34m\u001b[0m\u001b[0;34m\u001b[0m\u001b[0m\n\u001b[0;32m--> 110\u001b[0;31m         \u001b[0;32mraise\u001b[0m \u001b[0mResolverError\u001b[0m\u001b[0;34m(\u001b[0m\u001b[0;34m\"Could not resolve {} to a sky position.\"\u001b[0m\u001b[0;34m.\u001b[0m\u001b[0mformat\u001b[0m\u001b[0;34m(\u001b[0m\u001b[0mobjectname\u001b[0m\u001b[0;34m)\u001b[0m\u001b[0;34m)\u001b[0m\u001b[0;34m\u001b[0m\u001b[0;34m\u001b[0m\u001b[0m\n\u001b[0m\u001b[1;32m    111\u001b[0m \u001b[0;34m\u001b[0m\u001b[0m\n\u001b[1;32m    112\u001b[0m     \u001b[0mra\u001b[0m \u001b[0;34m=\u001b[0m \u001b[0mresult\u001b[0m\u001b[0;34m[\u001b[0m\u001b[0;34m'resolvedCoordinate'\u001b[0m\u001b[0;34m]\u001b[0m\u001b[0;34m[\u001b[0m\u001b[0;36m0\u001b[0m\u001b[0;34m]\u001b[0m\u001b[0;34m[\u001b[0m\u001b[0;34m'ra'\u001b[0m\u001b[0;34m]\u001b[0m\u001b[0;34m\u001b[0m\u001b[0;34m\u001b[0m\u001b[0m\n",
      "\u001b[0;31mResolverError\u001b[0m: Could not resolve KIC 755707 to a sky position."
     ]
    }
   ],
   "source": [
    "obs_table = Observations.query_criteria(objectname=\"KIC 755707\", radius=\".3 deg\", obs_collection=\"TESS\")\n",
    "obs_table"
   ]
  },
  {
   "cell_type": "code",
   "execution_count": null,
   "metadata": {},
   "outputs": [],
   "source": []
  }
 ],
 "metadata": {
  "kernelspec": {
   "display_name": "Python 3",
   "language": "python",
   "name": "python3"
  },
  "language_info": {
   "codemirror_mode": {
    "name": "ipython",
    "version": 3
   },
   "file_extension": ".py",
   "mimetype": "text/x-python",
   "name": "python",
   "nbconvert_exporter": "python",
   "pygments_lexer": "ipython3",
   "version": "3.8.5"
  }
 },
 "nbformat": 4,
 "nbformat_minor": 4
}
